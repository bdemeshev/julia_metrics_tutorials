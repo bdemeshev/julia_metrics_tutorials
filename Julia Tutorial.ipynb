{
  "cells": [
    {
      "cell_type": "markdown",
      "source": [
        "# Оценка стоимости опционов с помощью Julia "
      ],
      "metadata": {}
    },
    {
      "cell_type": "markdown",
      "source": [
        "В данной работе мы рассмотрим инструменты, которые реализованы в Julia, для стоимостной оценки различных видов опционов."
      ],
      "metadata": {}
    },
    {
      "cell_type": "markdown",
      "source": [
        "**Выполнили:**\n",
        "\n",
        "Пономаренко Анна\n",
        "\n",
        "Никитанова Мария\n",
        "\n",
        "Лобанов Александр"
      ],
      "metadata": {}
    },
    {
      "cell_type": "code",
      "source": [
        "#Используемые пакеты\n",
        "using Pkg;\n",
        "using Distributions;\n",
        "using Random;\n",
        "using Dates; \n",
        "\n",
        "Pkg.add(PackageSpec(url=\"https://gitlab.com/rcalxrc08/FinancialMonteCarlo.jl\"))\n",
        "using FinancialMonteCarlo;\n",
        "\n",
        "Pkg.add(\"QuantLib\")\n",
        "using QuantLib;"
      ],
      "outputs": [
        {
          "output_type": "stream",
          "name": "stdout",
          "text": [
            "\u001b[?25l\u001b[2K\u001b[?25h"
          ]
        },
        {
          "output_type": "stream",
          "name": "stderr",
          "text": [
            "\u001b[32m\u001b[1m   Updating\u001b[22m\u001b[39m git-repo `https://gitlab.com/rcalxrc08/FinancialMonteCarlo.jl`\n",
            "\u001b[32m\u001b[1m   Updating\u001b[22m\u001b[39m registry at `~/.julia/registries/General`\n",
            "######################################################################### 100.0%\n",
            "\u001b[32m\u001b[1m  Resolving\u001b[22m\u001b[39m package versions...\n",
            "\u001b[32m\u001b[1mNo Changes\u001b[22m\u001b[39m to `~/.julia/environments/v1.5/Project.toml`\n",
            "\u001b[32m\u001b[1mNo Changes\u001b[22m\u001b[39m to `~/.julia/environments/v1.5/Manifest.toml`\n",
            "\u001b[32m\u001b[1m  Resolving\u001b[22m\u001b[39m package versions...\n",
            "\u001b[32m\u001b[1mNo Changes\u001b[22m\u001b[39m to `~/.julia/environments/v1.5/Project.toml`\n",
            "\u001b[32m\u001b[1mNo Changes\u001b[22m\u001b[39m to `~/.julia/environments/v1.5/Manifest.toml`\n"
          ]
        }
      ],
      "execution_count": 1,
      "metadata": {
        "execution": {
          "iopub.status.busy": "2021-01-31T18:44:17.176Z",
          "iopub.execute_input": "2021-01-31T18:44:18.179Z",
          "iopub.status.idle": "2021-01-31T18:45:51.709Z"
        }
      }
    },
    {
      "cell_type": "markdown",
      "source": [
        "Опцион - популярный инструмент хеджирования рисков. Стоимость опциона напрямую зависит от его вида. В зависимости, какую дату оферты предложит продавец опциона, по какому страйку и какого типа: put или call, цена может варьироваться в крупном диапазоне. \n",
        "\n",
        "В целом, способы оценки опционов можно разделить на 2 группы: использующие аналитические или численные методы компьютации. Мы рассмотрим обе эти группы, и что для них предлагает Julia) "
      ],
      "metadata": {}
    },
    {
      "cell_type": "code",
      "source": [
        "# Библиотека содержит в себе большое количество встроенных функций, которые позволяют оценивать Американские, Европейские и Бермудские опционы\n",
        "#Для оценки необходимо использовать несколько обязательных пунктов, которые также содержатся внутри пакета: \n",
        "#Процентные ставки (структура и безрисковая в текущей экономике), дата исполнения опциона, дата рассмотрения его цены (в какой момент подвергается оценке), цены – страйковая и базового актива и др.)\n",
        "#Библиотека подстроена под введение данных параметров\n",
        "\n",
        "#По умолчанию можно использовать модель Блэка-Шоулза, однако существуют и более сложные методы оценки, которым необходимо большее количество входных параметров, поэтому зададим их все в самом начале\n",
        "\n",
        "#Для ответа необходимо лишь выбрать нужный способ оценки и, возможно, изменить часть параметров"
      ],
      "outputs": [],
      "execution_count": 15,
      "metadata": {
        "collapsed": true,
        "jupyter": {
          "source_hidden": false,
          "outputs_hidden": false
        },
        "nteract": {
          "transient": {
            "deleting": false
          }
        },
        "execution": {
          "iopub.status.busy": "2021-01-31T19:15:57.308Z",
          "iopub.execute_input": "2021-01-31T19:15:57.317Z",
          "iopub.status.idle": "2021-01-31T19:15:57.335Z"
        }
      }
    },
    {
      "cell_type": "markdown",
      "source": [
        "## Аналитические методы оценки опционов"
      ],
      "metadata": {}
    },
    {
      "cell_type": "code",
      "source": [
        "function main() \n",
        "  cal = QuantLib.Time.TargetCalendar() # Поскольку цена опциона зависит от той даты, на которую мы смотрим. И также от той даты, когда он был выпущен. Дата в формате год, месяц, день\n",
        "  todaysDate = Date(2021, 1, 30)\n",
        "  settlementDate = Date(1998, 5, 17) # Дата размещения\n",
        "  \n",
        "  set_eval_date!(settings, todaysDate)\n",
        "  \n",
        "  optionType = Put() # Выбираем тип опциона\n",
        "  underlying = 36.0 # Цена актива, находящегося в нем\n",
        "  strike = 40.0 # Страйковая цена (по которой реализуется)\n",
        "  dividendYield = 0.00 # Дивиденды по нему. Для простоты можем взять равные нулю\n",
        "  riskFreeRate = 0.06 # Безрисковая ставка в экономике\n",
        "  vol = 0.20 # Волатильность \n",
        "  mat = Date(1999, 5, 17) # Maturity date \n",
        "  dc = QuantLib.Time.Actual365()\n",
        "\n",
        "  exerciseDates = Date[settlementDate + Dates.Month(3 * i) for i = 1:4]\n",
        "\n",
        "  europeanEx = EuropeanEx(mat)\n",
        "  bermudanEx = BermudanEx(exerciseDates)\n",
        "  americanEx = AmericanEx(settlementDate, mat)\n",
        "\n",
        "  underlyingH = Quote(underlying)\n",
        "\n",
        "  flatTermStructure = FlatForwardTermStructure(settlementDate, cal, Quote(riskFreeRate), dc) # Структура процентных ставок\n",
        "  flatDividendTS = FlatForwardTermStructure(settlementDate, cal, Quote(dividendYield), dc) # Структура дивидендов\n",
        "  flatVolTS = BlackConstantVol(settlementDate, cal, vol, dc) # Структура волатильности \n",
        "\n",
        "  payoff = PlainVanillaPayoff(optionType, strike) # Выплаты по ванильному опциону\n",
        "\n",
        "  bsmProcess = BlackScholesMertonProcess(underlyingH, flatTermStructure, flatDividendTS, flatVolTS) # Блэк-Шоулз процесс\n",
        "\n",
        "  # options\n",
        "  bsPE = AnalyticEuropeanEngine(bsmProcess) # black scholes PE\n",
        "  europeanOption = VanillaOption(payoff, europeanEx, bsPE)\n",
        "\n",
        "  # black scholes for European\n",
        "  println(\"BlackScholes (Euro):                   \", npv(europeanOption))\n",
        "\n",
        "  # heston process #Модель Хестона\n",
        "  hestonProcess = HestonProcess(flatTermStructure, flatDividendTS, underlyingH, vol * vol, 1.0, vol * vol, 0.001, 0.0)\n",
        "  hestonModel = HestonModel(hestonProcess)\n",
        "  hestonPE = AnalyticHestonEngine(hestonModel)\n",
        "\n",
        "  europeanOption = update_pricing_engine(europeanOption, hestonPE)\n",
        "  println(\"Heston semi-analytic (Euro):           \", npv(europeanOption))\n",
        "\n",
        "  # bates process #SVJ модель\n",
        "  batesProcess = BatesProcess(flatTermStructure, flatDividendTS, underlyingH, vol * vol, 1.0, vol * vol,\n",
        "                              0.001, 0.0, 1e-14, 1e-14, 1e-14)\n",
        "  batesModel = BatesModel(batesProcess)\n",
        "  batesPE = BatesEngine(batesModel)\n",
        "\n",
        "  europeanOption = update_pricing_engine(europeanOption, batesPE)\n",
        "  println(\"Bates semi-analytic (Euro):            \", npv(europeanOption))\n",
        "\n",
        "  # American Option # Для американских опционов модели\n",
        "  baroneAdesiPE = BaroneAdesiWhaleyApproximationEngine(bsmProcess)\n",
        "  americanOption = VanillaOption(payoff, americanEx, baroneAdesiPE)\n",
        "  println(\"Barone-Adesi/Whaley (Amer):            \", npv(americanOption))\n",
        "\n",
        "  # Bjerksund Stensland engine # Модель 1993 года от авторов Bjerksund и Stensland\n",
        "  bjerksundStenslandPE = BjerksundStenslandApproximationEngine(bsmProcess)\n",
        "  americanOption = update_pricing_engine(americanOption, bjerksundStenslandPE)\n",
        "  println(\"Bjerksund Stensland (Amer):            \", npv(americanOption))\n",
        "\n",
        "  # Bermudan Option для Бермудского опциона\n",
        "  fdBermudanPE = FDBermudanEngine(bsmProcess, CrankNelson, timeSteps, timeSteps - 1)\n",
        "  bermudanOption = VanillaOption(payoff, bermudanExercise, fdBermudanPE)\n",
        "  println(\"FD (Berm):                             \", npv(bermudanOption))\n",
        "\n",
        "  fdAmericanPE = FDAmericanEngine(bsmProcess, CrankNelson, timeSteps, timeSteps - 1)\n",
        "  americanOption = update_pricing_engine(americanOption, fdAmericanPE)\n",
        "  println(\"FD (Amer):                             \", npv(americanOption))\n",
        "\n",
        "  # Tian # Биномиальная модель Тиан\n",
        "  btTianEuro = BinomialVanillaEngine(bsmProcess, timeSteps, Tian)\n",
        "  europeanOption = update_pricing_engine(europeanOption, btTianEuro)\n",
        "  println(\"Binomial Tian (Euro):                  \", npv(europeanOption))\n",
        "\n",
        "  btTianBermudan = BinomialVanillaEngine(bsmProcess, timeSteps, Tian)\n",
        "  bermudanOption = update_pricing_engine(bermudanOption, btTianBermudan)\n",
        "  println(\"Binomial Tian (Berm):                  \", npv(bermudanOption))\n",
        "\n",
        "  btTianAmerican = BinomialVanillaEngine(bsmProcess, timeSteps, Tian)\n",
        "  americanOption = update_pricing_engine(americanOption, btTianAmerican)\n",
        "  println(\"Binomial Tian (Amer):                  \", npv(americanOption))\n",
        "\n",
        "  # LeisenReimer (суть модели – базовое биномиальное дерево цены сосредоточено вокруг цены исполнения опциона на момент истечения срока)\n",
        "  btLeisenReimerEuro = BinomialVanillaEngine(bsmProcess, timeSteps, LeisenReimer)\n",
        "  europeanOption = update_pricing_engine(europeanOption, btLeisenReimerEuro)\n",
        "  println(\"Binomial Leisen-Reimer (Euro):         \", npv(europeanOption))\n",
        "\n",
        "  btLeisenReimerBermudan = BinomialVanillaEngine(bsmProcess, timeSteps, LeisenReimer)\n",
        "  bermudanOption = update_pricing_engine(bermudanOption, btLeisenReimerBermudan)\n",
        "  println(\"Binomial Leisen-Reimer (Berm):         \", npv(bermudanOption))\n",
        "\n",
        "  btLeisenReimerAmerican = BinomialVanillaEngine(bsmProcess, timeSteps, LeisenReimer)\n",
        "  americanOption = update_pricing_engine(americanOption, btLeisenReimerAmerican)\n",
        "  println(\"Binomial Leisen-Reimer (Amer):         \", npv(americanOption))\n",
        "\n",
        "  ## MONTE CARLO ##\n",
        "  timeSteps = 1\n",
        "  mcSeed = 42\n",
        "  mcengine1 = MCEuropeanEngine(bsmProcess; timeSteps = timeSteps, requiredTolerance = 0.02, seed = mcSeed)\n",
        "  europeanOption = update_pricing_engine(europeanOption, mcengine1)\n",
        "  println(\"MC-crude (Euro):                       \", npv(europeanOption))\n",
        "\n",
        "  nSamples = 32768\n",
        "  mcengine2 = MCEuropeanEngine(bsmProcess; timeSteps = timeSteps, requiredSamples = nSamples)\n",
        "  europeanOption = update_pricing_engine(europeanOption, mcengine2)\n",
        "  println(\"MC-Sobol (Euro):                       \", npv(europeanOption))\n",
        "\n",
        "  mcengine3 = MCAmericanEngine(bsmProcess; timeSteps = 100, antitheticVariate=true, requiredTolerance=0.02, seed=mcSeed, nCalibrationSamples=4096)\n",
        "  americanOption = update_pricing_engine(americanOption, mcengine3)\n",
        "  println(\"MC-Longstaff Schwartz (Amer):          \", npv(americanOption))\n",
        "  # americanOption\n",
        "end"
      ],
      "outputs": [
        {
          "output_type": "execute_result",
          "execution_count": 13,
          "data": {
            "text/plain": "main (generic function with 1 method)"
          },
          "metadata": {}
        }
      ],
      "execution_count": 13,
      "metadata": {
        "execution": {
          "iopub.status.busy": "2021-01-31T18:54:56.994Z",
          "iopub.execute_input": "2021-01-31T18:54:57.008Z",
          "iopub.status.idle": "2021-01-31T18:54:57.032Z"
        }
      }
    },
    {
      "cell_type": "markdown",
      "source": [
        "## Численные методы оценки опционов"
      ],
      "metadata": {}
    },
    {
      "cell_type": "markdown",
      "source": [
        "Широкое распространение на российском рынке получили ванильные опционы. Они просто оцениваются с помощью аналитических методов и не требуют больших вычислительных мощностей для этого. Экзотические опционы выделяются особенностями условий на которых они торгуются (в России они составляют 5% от объема торгов опционами). Для таких финансовых инструментов сложно вывести их стоимость аналитически, зато она отлично аппроксимируется с помощью численных методов. Одним из таких наиболее распространенных методов является метод Монте-Карло, благодаря которому симулируются все возможные движения цены инструмента и вычисляется ее математическое ожидание. \n",
        "\n",
        "Далее будут рассмотрены инструменты, которые реализованы в Julia для реализации оценки различных видов опционов с помощью симуляций Монте Карло."
      ],
      "metadata": {}
    },
    {
      "cell_type": "code",
      "source": [
        "# Устанавливаем на компьютер необходимые пакеты \n",
        "using Pkg \n",
        "\n",
        "#Pkg.add(\"DataFrames\")\n",
        "\n",
        "#Pkg.add(\"CSV\")\n",
        "\n",
        "#Pkg.add(\"Econometrics\")\n",
        "\n",
        "#Pkg.add(PackageSpec(url=\"https://gitlab.com/rcalxrc08/FinancialMonteCarlo.jl\n",
        "\n",
        "\n",
        "#Pkg.add(\"Distributions\")"
      ],
      "outputs": [],
      "execution_count": 3,
      "metadata": {
        "execution": {
          "iopub.status.busy": "2021-01-31T18:45:52.852Z",
          "iopub.execute_input": "2021-01-31T18:45:52.867Z",
          "iopub.status.idle": "2021-01-31T18:45:52.888Z"
        }
      }
    },
    {
      "cell_type": "markdown",
      "source": [
        "## Симулирование чисел из различных распределений"
      ],
      "metadata": {}
    },
    {
      "cell_type": "markdown",
      "source": [
        "Нормальное распределение"
      ],
      "metadata": {}
    },
    {
      "cell_type": "code",
      "source": [
        "d = Normal(50, 7)\n",
        "x = rand(d, 10)"
      ],
      "outputs": [
        {
          "output_type": "execute_result",
          "execution_count": 4,
          "data": {
            "text/plain": "10-element Array{Float64,1}:\n 51.37206411612233\n 62.817130580885944\n 44.10741067249985\n 53.90977386227923\n 39.67847240820517\n 56.17901894218736\n 44.53891707671961\n 39.1296509129932\n 48.91690818949762\n 50.03479503600993"
          },
          "metadata": {}
        }
      ],
      "execution_count": 4,
      "metadata": {
        "execution": {
          "iopub.status.busy": "2021-01-31T18:45:52.902Z",
          "iopub.execute_input": "2021-01-31T18:45:52.912Z",
          "iopub.status.idle": "2021-01-31T18:45:54.418Z"
        }
      }
    },
    {
      "cell_type": "markdown",
      "source": [
        "Распределение Бернулли"
      ],
      "metadata": {}
    },
    {
      "cell_type": "code",
      "source": [
        "d = Bernoulli(4)\n",
        "x = rand(d, 100)"
      ],
      "outputs": [
        {
          "output_type": "error",
          "ename": "LoadError",
          "evalue": "ArgumentError: Bernoulli: the condition zero(p) <= p <= one(p) is not satisfied.",
          "traceback": [
            "ArgumentError: Bernoulli: the condition zero(p) <= p <= one(p) is not satisfied.",
            "",
            "Stacktrace:",
            " [1] macro expansion at /Users/marianikitanova/.julia/packages/Distributions/ZJ0hQ/src/utils.jl:6 [inlined]",
            " [2] #Bernoulli#19 at /Users/marianikitanova/.julia/packages/Distributions/ZJ0hQ/src/univariate/discrete/bernoulli.jl:34 [inlined]",
            " [3] Bernoulli at /Users/marianikitanova/.julia/packages/Distributions/ZJ0hQ/src/univariate/discrete/bernoulli.jl:34 [inlined]",
            " [4] Bernoulli(::Int64) at /Users/marianikitanova/.julia/packages/Distributions/ZJ0hQ/src/univariate/discrete/bernoulli.jl:38",
            " [5] top-level scope at In[5]:1",
            " [6] include_string(::Function, ::Module, ::String, ::String) at ./loading.jl:1091"
          ]
        }
      ],
      "execution_count": 5,
      "metadata": {
        "execution": {
          "iopub.status.busy": "2021-01-31T18:45:54.433Z",
          "iopub.execute_input": "2021-01-31T18:45:54.442Z"
        }
      }
    },
    {
      "cell_type": "markdown",
      "source": [
        "### Метод Монте-Карло для оценивания стоимости опциона"
      ],
      "metadata": {}
    },
    {
      "cell_type": "markdown",
      "source": [
        "num_sims - количество симуляций\n",
        "\n",
        "S - текущая цена\n",
        "\n",
        "T - количество прошедших периодов\n",
        "\n",
        "r - ожидаемая доходность\n",
        "\n",
        "K - страйк\n",
        "\n",
        "v - Волатильность \n",
        "\n",
        "types  -  тип опциона "
      ],
      "metadata": {}
    },
    {
      "cell_type": "code",
      "source": [
        "function monte_carlo_price(types, num_sims, S, K, r, v, T)     \n",
        "    \n",
        "    #скорректируем цену на волатильность \n",
        "    S_adj = S * exp(T*(r-0.5*v*v))\n",
        "    #cчетчик текущей цены\n",
        "    S_cur = 0.0\n",
        "    #выигрыш \n",
        "    payoff = 0.0\n",
        "\n",
        "    #итерации Монте-Карло\n",
        "    for i = 1:num_sims\n",
        "        #генирируем число из стандартного нормального распределения \n",
        "        gauss_bm = randn()\n",
        "        #Высчитаем новую цену на период \n",
        "        S_cur = S_adj * exp(sqrt(v*v*T) * gauss_bm)\n",
        "        payoff += ifelse(types == \"Call\", ifelse(S_cur-K > 0.0, S_cur-K, 0.0), ifelse(-S_cur+K > 0.0, -S_cur+K, 0.0))\n",
        "    end\n",
        "\n",
        "    res = payoff/num_sims * exp(-r*T) \n",
        "end"
      ],
      "outputs": [
        {
          "output_type": "execute_result",
          "execution_count": 9,
          "data": {
            "text/plain": "monte_carlo_price (generic function with 1 method)"
          },
          "metadata": {}
        }
      ],
      "execution_count": 9,
      "metadata": {
        "execution": {
          "iopub.status.busy": "2021-01-31T18:47:10.673Z",
          "iopub.execute_input": "2021-01-31T18:47:10.686Z",
          "iopub.status.idle": "2021-01-31T18:47:10.719Z"
        }
      }
    },
    {
      "cell_type": "code",
      "source": [
        "types = \"Call\"\n",
        "num_sims = 1000000000\n",
        "cur_price = 100.0\n",
        "strike = 100.0\n",
        "r = 0.05 \n",
        "std = 0.2 #cтандартное отклонение доходности по предыдущим данным \n",
        "T = 1 #период до оферты\n",
        "\n",
        "y = monte_carlo_price(types, num_sims, cur_price, strike, r, std, T)\n",
        "println(y)"
      ],
      "outputs": [
        {
          "output_type": "stream",
          "name": "stdout",
          "text": [
            "10.450633318730954\n"
          ]
        }
      ],
      "execution_count": 12,
      "metadata": {
        "execution": {
          "iopub.status.busy": "2021-01-31T18:48:04.665Z",
          "iopub.execute_input": "2021-01-31T18:48:04.676Z",
          "iopub.status.idle": "2021-01-31T18:48:37.932Z"
        }
      }
    },
    {
      "cell_type": "code",
      "source": [
        "# По итогам работы в конце будет добавлен метод оценки опционов с помощью модели Блэка-Шоулза и построены графики, демонстрирующие выводы"
      ],
      "outputs": [],
      "execution_count": 16,
      "metadata": {
        "execution": {
          "iopub.status.busy": "2021-01-31T19:16:21.787Z",
          "iopub.execute_input": "2021-01-31T19:16:21.800Z",
          "iopub.status.idle": "2021-01-31T19:16:21.817Z"
        }
      }
    },
    {
      "cell_type": "code",
      "source": [],
      "outputs": [],
      "execution_count": null,
      "metadata": {
        "collapsed": true,
        "jupyter": {
          "source_hidden": false,
          "outputs_hidden": false
        },
        "nteract": {
          "transient": {
            "deleting": false
          }
        }
      }
    }
  ],
  "metadata": {
    "kernelspec": {
      "display_name": "Julia 1.5.3",
      "language": "julia",
      "name": "julia-1.5"
    },
    "language_info": {
      "file_extension": ".jl",
      "name": "julia",
      "mimetype": "application/julia",
      "version": "1.5.3"
    },
    "nteract": {
      "version": "0.28.0"
    }
  },
  "nbformat": 4,
  "nbformat_minor": 2
}