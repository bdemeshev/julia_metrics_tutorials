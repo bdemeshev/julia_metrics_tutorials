{
 "cells": [
  {
   "cell_type": "markdown",
   "metadata": {
    "id": "I1n9GDwre1ZS"
   },
   "source": [
    "# Группировка табличных данных\n",
    "---\n",
    "\n",
    "*Сделали с любовью студенты БЭК181:*\n",
    "\n",
    "**Пешков Максим**\n",
    "\n",
    "**Романенко Александра**\n",
    "\n",
    "**Алтунина Анастасия**"
   ]
  },
  {
   "cell_type": "markdown",
   "metadata": {
    "id": "l2fbikCExT_J"
   },
   "source": [
    "## Вместо предисловия\n",
    "---\n",
    "\n",
    "В данном туториале __для начала__ мы показываем как установить Julia и все необходимые для работы с таблицами пакеты. __В основной части__ демонстрируется ряд операций для работы с группировкой табличных данных, выбора данных в сгруппированных датасетах, а также применение различных функций для преобразования данных.\n",
    "\n",
    "Помимо этого, __в бонусной части__ мы показали как можно быстро визуализировать данные из сгруппированного датасета."
   ]
  },
  {
   "cell_type": "markdown",
   "metadata": {
    "id": "gROm13IegH4j"
   },
   "source": [
    "## Основные источники\n",
    "---\n",
    "\n",
    "* https://datatofish.com/add-julia-to-jupyter/ - *Подключение Julia к Jupyter notebook*\n",
    "* https://dataframes.juliadata.org/v0.14/man/split_apply_combine.html - _Основной источник и документация_\n",
    "* https://dataframes.juliadata.org/stable/man/split_apply_combine/ - *Новая версия тех же операций (по ссылке выше уже нет функции by)*\n",
    "* https://github.com/nalimilan/FreqTables.jl - *frequency table*\n",
    "* https://github.com/bkamins/DataFrames.jl/blob/main/docs/src/man/reshaping_and_pivoting.md - *pivot table*\n",
    "* https://www.queryverse.org/VegaLite.jl/stable/gettingstarted/tutorial/ - **bonus with graphics**\n"
   ]
  },
  {
   "cell_type": "markdown",
   "metadata": {
    "id": "qDAZt7-Zfm1R"
   },
   "source": [
    "## Установка Julia и необходимых пакетов\n",
    "---"
   ]
  },
  {
   "cell_type": "markdown",
   "metadata": {
    "id": "B8_hp5otShP_"
   },
   "source": [
    "### Google Colaboratory\n",
    "---"
   ]
  },
  {
   "cell_type": "code",
   "execution_count": null,
   "metadata": {
    "id": "GIeFXS0F0zww"
   },
   "outputs": [],
   "source": [
    "%%shell\n",
    "set -e\n",
    "\n",
    "#---------------------------------------------------#\n",
    "JULIA_VERSION=\"1.5.2\" # any version ≥ 0.7.0\n",
    "JULIA_PACKAGES=\"IJulia BenchmarkTools Plots CSV Econometrics DataFrames RDatasets\"\n",
    "JULIA_PACKAGES_IF_GPU=\"CuArrays\"\n",
    "JULIA_NUM_THREADS=2\n",
    "#---------------------------------------------------#\n",
    "\n",
    "if [ -n \"$COLAB_GPU\" ] && [ -z `which julia` ]; then\n",
    "  # Install Julia\n",
    "  JULIA_VER=`cut -d '.' -f -2 <<< \"$JULIA_VERSION\"`\n",
    "  echo \"Installing Julia $JULIA_VERSION on the current Colab Runtime...\"\n",
    "  BASE_URL=\"https://julialang-s3.julialang.org/bin/linux/x64\"\n",
    "  URL=\"$BASE_URL/$JULIA_VER/julia-$JULIA_VERSION-linux-x86_64.tar.gz\"\n",
    "  wget -nv $URL -O /tmp/julia.tar.gz # -nv means \"not verbose\"\n",
    "  tar -x -f /tmp/julia.tar.gz -C /usr/local --strip-components 1\n",
    "  rm /tmp/julia.tar.gz\n",
    "\n",
    "  # Install Packages\n",
    "  if [ \"$COLAB_GPU\" = \"1\" ]; then\n",
    "      JULIA_PACKAGES=\"$JULIA_PACKAGES $JULIA_PACKAGES_IF_GPU\"\n",
    "  fi\n",
    "  for PKG in `echo $JULIA_PACKAGES`; do\n",
    "    echo \"Installing Julia package $PKG...\"\n",
    "    julia -e 'using Pkg; pkg\"add '$PKG'; precompile;\"'\n",
    "  done\n",
    "\n",
    "  # Install kernel and rename it to \"julia\"\n",
    "  echo \"Installing IJulia kernel...\"\n",
    "  julia -e 'using IJulia; IJulia.installkernel(\"julia\", env=Dict(\n",
    "      \"JULIA_NUM_THREADS\"=>\"'\"$JULIA_NUM_THREADS\"'\"))'\n",
    "  KERNEL_DIR=`julia -e \"using IJulia; print(IJulia.kerneldir())\"`\n",
    "  KERNEL_NAME=`ls -d \"$KERNEL_DIR\"/julia*`\n",
    "  mv -f $KERNEL_NAME \"$KERNEL_DIR\"/julia  \n",
    "\n",
    "  echo ''\n",
    "  echo \"Success! Please reload this page and jump to the next section.\"\n",
    "fi"
   ]
  },
  {
   "cell_type": "markdown",
   "metadata": {
    "id": "ZuS2LY_MSnXG"
   },
   "source": [
    "### Другие устройства\n",
    "---"
   ]
  },
  {
   "cell_type": "code",
   "execution_count": null,
   "metadata": {
    "id": "GFUnXLzZStEF"
   },
   "outputs": [],
   "source": [
    "begin\n",
    "    import Pkg; Pkg.add(\"RDatasets\")\n",
    "    Pkg.add(\"Econometrics\")\n",
    "    Pkg.add(\"GLM\")\n",
    "    Pkg.add(\"CSV\")\n",
    "    Pkg.add(\"DataFrames\")\n",
    "    Pkg.add(\"Statistics\")\n",
    "    Pkg.add(\"FreqTables\")\n",
    "    Pkg.add(\"VegaLite\")\n",
    "    Pkg.add(\"VegaDatasets\")\n",
    "end"
   ]
  },
  {
   "cell_type": "markdown",
   "metadata": {
    "id": "SDVsu5LLTb8p"
   },
   "source": [
    "### Проверка успешной установки\n",
    "---"
   ]
  },
  {
   "cell_type": "code",
   "execution_count": null,
   "metadata": {
    "colab": {
     "base_uri": "https://localhost:8080/"
    },
    "id": "EEzvvzCl1i0F",
    "outputId": "3c533e77-ee6c-4dca-803f-cf8c0e392d72"
   },
   "outputs": [
    {
     "name": "stdout",
     "output_type": "stream",
     "text": [
      "Julia Version 1.5.2\n",
      "Commit 539f3ce943 (2020-09-23 23:17 UTC)\n",
      "Platform Info:\n",
      "  OS: Linux (x86_64-pc-linux-gnu)\n",
      "  CPU: Intel(R) Xeon(R) CPU @ 2.30GHz\n",
      "  WORD_SIZE: 64\n",
      "  LIBM: libopenlibm\n",
      "  LLVM: libLLVM-9.0.1 (ORCJIT, haswell)\n",
      "Environment:\n",
      "  JULIA_NUM_THREADS = 2\n"
     ]
    }
   ],
   "source": [
    "versioninfo()"
   ]
  },
  {
   "cell_type": "code",
   "execution_count": null,
   "metadata": {
    "colab": {
     "base_uri": "https://localhost:8080/"
    },
    "id": "yQlpeR9wNOi8",
    "outputId": "9050a3ad-a488-4842-bead-7cfad596326f"
   },
   "outputs": [
    {
     "data": {
      "text/plain": [
       "2.718281828459045"
      ]
     },
     "execution_count": 2,
     "metadata": {
      "tags": []
     },
     "output_type": "execute_result"
    }
   ],
   "source": [
    "exp(1) #проверка на работоспособность среды выполнения"
   ]
  },
  {
   "cell_type": "markdown",
   "metadata": {
    "id": "P9Lu1vk4galg"
   },
   "source": [
    "##  Датасет\n",
    "---"
   ]
  },
  {
   "cell_type": "code",
   "execution_count": null,
   "metadata": {
    "id": "0HNqxjjebg-1"
   },
   "outputs": [],
   "source": [
    "using CSV, Econometrics, Statistics"
   ]
  },
  {
   "cell_type": "code",
   "execution_count": null,
   "metadata": {
    "id": "3bUX8t5bbWmI"
   },
   "outputs": [],
   "source": [
    "using RDatasets"
   ]
  },
  {
   "cell_type": "code",
   "execution_count": null,
   "metadata": {
    "colab": {
     "base_uri": "https://localhost:8080/",
     "height": 195
    },
    "id": "YfHYE2cEdxUJ",
    "outputId": "64b72cd2-62ba-4f4b-d981-7f2af2be39e7"
   },
   "outputs": [
    {
     "data": {
      "text/html": [
       "<table class=\"data-frame\"><thead><tr><th></th><th>IntNum</th><th>PersNum</th><th>Age</th><th>Educatn</th><th>Earnings</th><th>Hours</th><th>Kids</th><th>Married</th></tr><tr><th></th><th>Int32</th><th>Int32</th><th>Int32</th><th>Int32?</th><th>Int32</th><th>Int32</th><th>Int32</th><th>Cat…</th></tr></thead><tbody><p>5 rows × 8 columns</p><tr><th>1</th><td>4</td><td>4</td><td>39</td><td>12</td><td>77250</td><td>2940</td><td>2</td><td>married</td></tr><tr><th>2</th><td>4</td><td>6</td><td>35</td><td>12</td><td>12000</td><td>2040</td><td>2</td><td>divorced</td></tr><tr><th>3</th><td>4</td><td>7</td><td>33</td><td>12</td><td>8000</td><td>693</td><td>1</td><td>married</td></tr><tr><th>4</th><td>4</td><td>173</td><td>39</td><td>10</td><td>15000</td><td>1904</td><td>2</td><td>married</td></tr><tr><th>5</th><td>5</td><td>2</td><td>47</td><td>9</td><td>6500</td><td>1683</td><td>5</td><td>married</td></tr></tbody></table>"
      ],
      "text/latex": [
       "\\begin{tabular}{r|cccccccc}\n",
       "\t& IntNum & PersNum & Age & Educatn & Earnings & Hours & Kids & Married\\\\\n",
       "\t\\hline\n",
       "\t& Int32 & Int32 & Int32 & Int32? & Int32 & Int32 & Int32 & Cat…\\\\\n",
       "\t\\hline\n",
       "\t1 & 4 & 4 & 39 & 12 & 77250 & 2940 & 2 & married \\\\\n",
       "\t2 & 4 & 6 & 35 & 12 & 12000 & 2040 & 2 & divorced \\\\\n",
       "\t3 & 4 & 7 & 33 & 12 & 8000 & 693 & 1 & married \\\\\n",
       "\t4 & 4 & 173 & 39 & 10 & 15000 & 1904 & 2 & married \\\\\n",
       "\t5 & 5 & 2 & 47 & 9 & 6500 & 1683 & 5 & married \\\\\n",
       "\\end{tabular}\n"
      ],
      "text/plain": [
       "\u001b[1m5×8 DataFrame\u001b[0m\n",
       "\u001b[1m Row \u001b[0m│\u001b[1m IntNum \u001b[0m\u001b[1m PersNum \u001b[0m\u001b[1m Age   \u001b[0m\u001b[1m Educatn \u001b[0m\u001b[1m Earnings \u001b[0m\u001b[1m Hours \u001b[0m\u001b[1m Kids  \u001b[0m\u001b[1m Married  \u001b[0m\n",
       "\u001b[1m     \u001b[0m│\u001b[90m Int32  \u001b[0m\u001b[90m Int32   \u001b[0m\u001b[90m Int32 \u001b[0m\u001b[90m Int32?  \u001b[0m\u001b[90m Int32    \u001b[0m\u001b[90m Int32 \u001b[0m\u001b[90m Int32 \u001b[0m\u001b[90m Cat…     \u001b[0m\n",
       "─────┼───────────────────────────────────────────────────────────────────\n",
       "   1 │      4        4     39       12     77250   2940      2  married\n",
       "   2 │      4        6     35       12     12000   2040      2  divorced\n",
       "   3 │      4        7     33       12      8000    693      1  married\n",
       "   4 │      4      173     39       10     15000   1904      2  married\n",
       "   5 │      5        2     47        9      6500   1683      5  married"
      ]
     },
     "execution_count": 5,
     "metadata": {
      "tags": []
     },
     "output_type": "execute_result"
    }
   ],
   "source": [
    "psid = dataset(\"Ecdat\", \"PSID\")\n",
    "first(psid, 5)"
   ]
  },
  {
   "cell_type": "code",
   "execution_count": null,
   "metadata": {
    "colab": {
     "base_uri": "https://localhost:8080/",
     "height": 258
    },
    "id": "R49fmPyZiXS7",
    "outputId": "91ef40ce-28ae-4592-f651-c4c3e62a07f4"
   },
   "outputs": [
    {
     "data": {
      "text/html": [
       "<table class=\"data-frame\"><thead><tr><th></th><th>variable</th><th>mean</th><th>min</th><th>median</th><th>max</th><th>nmissing</th><th>eltype</th></tr><tr><th></th><th>Symbol</th><th>Union…</th><th>Any</th><th>Union…</th><th>Any</th><th>Int64</th><th>Type</th></tr></thead><tbody><p>8 rows × 7 columns</p><tr><th>1</th><td>IntNum</td><td>4598.1</td><td>4</td><td>5464.0</td><td>9306</td><td>0</td><td>Int32</td></tr><tr><th>2</th><td>PersNum</td><td>59.2136</td><td>1</td><td>4.0</td><td>205</td><td>0</td><td>Int32</td></tr><tr><th>3</th><td>Age</td><td>38.4629</td><td>30</td><td>38.0</td><td>50</td><td>0</td><td>Int32</td></tr><tr><th>4</th><td>Educatn</td><td>16.3771</td><td>0</td><td>12.0</td><td>99</td><td>1</td><td>Union{Missing, Int32}</td></tr><tr><th>5</th><td>Earnings</td><td>14244.5</td><td>0</td><td>11000.0</td><td>240000</td><td>0</td><td>Int32</td></tr><tr><th>6</th><td>Hours</td><td>1235.33</td><td>0</td><td>1517.0</td><td>5160</td><td>0</td><td>Int32</td></tr><tr><th>7</th><td>Kids</td><td>4.48126</td><td>0</td><td>2.0</td><td>99</td><td>0</td><td>Int32</td></tr><tr><th>8</th><td>Married</td><td></td><td>married</td><td></td><td>no histories</td><td>0</td><td>CategoricalValue{String,UInt8}</td></tr></tbody></table>"
      ],
      "text/latex": [
       "\\begin{tabular}{r|ccccccc}\n",
       "\t& variable & mean & min & median & max & nmissing & eltype\\\\\n",
       "\t\\hline\n",
       "\t& Symbol & Union… & Any & Union… & Any & Int64 & Type\\\\\n",
       "\t\\hline\n",
       "\t1 & IntNum & 4598.1 & 4 & 5464.0 & 9306 & 0 & Int32 \\\\\n",
       "\t2 & PersNum & 59.2136 & 1 & 4.0 & 205 & 0 & Int32 \\\\\n",
       "\t3 & Age & 38.4629 & 30 & 38.0 & 50 & 0 & Int32 \\\\\n",
       "\t4 & Educatn & 16.3771 & 0 & 12.0 & 99 & 1 & Union\\{Missing, Int32\\} \\\\\n",
       "\t5 & Earnings & 14244.5 & 0 & 11000.0 & 240000 & 0 & Int32 \\\\\n",
       "\t6 & Hours & 1235.33 & 0 & 1517.0 & 5160 & 0 & Int32 \\\\\n",
       "\t7 & Kids & 4.48126 & 0 & 2.0 & 99 & 0 & Int32 \\\\\n",
       "\t8 & Married &  & married &  & no histories & 0 & CategoricalValue\\{String,UInt8\\} \\\\\n",
       "\\end{tabular}\n"
      ],
      "text/plain": [
       "\u001b[1m8×7 DataFrame\u001b[0m\n",
       "\u001b[1m Row \u001b[0m│\u001b[1m variable \u001b[0m\u001b[1m mean    \u001b[0m\u001b[1m min     \u001b[0m\u001b[1m median  \u001b[0m\u001b[1m max          \u001b[0m\u001b[1m nmissing \u001b[0m\u001b[1m eltype    \u001b[0m ⋯\n",
       "\u001b[1m     \u001b[0m│\u001b[90m Symbol   \u001b[0m\u001b[90m Union…  \u001b[0m\u001b[90m Any     \u001b[0m\u001b[90m Union…  \u001b[0m\u001b[90m Any          \u001b[0m\u001b[90m Int64    \u001b[0m\u001b[90m Type      \u001b[0m ⋯\n",
       "─────┼──────────────────────────────────────────────────────────────────────────\n",
       "   1 │ IntNum    4598.1   4        5464.0   9306                 0  Int32      ⋯\n",
       "   2 │ PersNum   59.2136  1        4.0      205                  0  Int32\n",
       "   3 │ Age       38.4629  30       38.0     50                   0  Int32\n",
       "   4 │ Educatn   16.3771  0        12.0     99                   1  Union{Miss\n",
       "   5 │ Earnings  14244.5  0        11000.0  240000               0  Int32      ⋯\n",
       "   6 │ Hours     1235.33  0        1517.0   5160                 0  Int32\n",
       "   7 │ Kids      4.48126  0        2.0      99                   0  Int32\n",
       "   8 │ Married  \u001b[90m         \u001b[0m married \u001b[90m         \u001b[0m no histories         0  Categorica\n",
       "\u001b[36m                                                                1 column omitted\u001b[0m"
      ]
     },
     "execution_count": 6,
     "metadata": {
      "tags": []
     },
     "output_type": "execute_result"
    }
   ],
   "source": [
    "describe(psid)"
   ]
  },
  {
   "cell_type": "markdown",
   "metadata": {
    "id": "gr7GT9j-j_UH"
   },
   "source": [
    "Описание переменных:\n",
    "\n",
    "* IntNum - номер интервью\n",
    "* PersNum - персональный номер\n",
    "* Age - возраст\n",
    "* Educatn - количество лет обучения (получения образования)\n",
    "* Hours - количество часов работы в год\n",
    "* Married - семейный статус\n",
    "\n",
    "Более подробно смотреть здесь: https://www.picostat.com/dataset/r-dataset-package-ecdat-psid"
   ]
  },
  {
   "cell_type": "markdown",
   "metadata": {
    "id": "pbPHTf04lCJZ"
   },
   "source": [
    " ## Операции с данными\n",
    " ---"
   ]
  },
  {
   "cell_type": "markdown",
   "metadata": {
    "id": "5WJ3lLqQnrzH"
   },
   "source": [
    "### `groupby(df, :variable)`\n",
    "\n",
    "\n",
    "---\n",
    "\n",
    "\n",
    "\n",
    "\n",
    "Делит датасет **df** на несколько датасетов, в каждом из которых категориальный признак **variable** одинаковый\n",
    "\n",
    "Создается датасет из датасетов, далее в объяснениях __gdf__ — сгруппированный датасет\n",
    "\n",
    "Сгруппируем наш датасет по переменной __Married__:"
   ]
  },
  {
   "cell_type": "code",
   "execution_count": null,
   "metadata": {
    "colab": {
     "base_uri": "https://localhost:8080/",
     "height": 1000
    },
    "id": "xpZ21vqyihbX",
    "outputId": "0b483f97-dc29-4d56-9220-fbedd6ab03be"
   },
   "outputs": [
    {
     "data": {
      "text/html": [
       "<p><b>GroupedDataFrame with 7 groups based on key: Married</b></p><p><i>First Group (3071 rows): Married = CategoricalArrays.CategoricalValue{String,UInt8} \"married\"</i></p><table class=\"data-frame\"><thead><tr><th></th><th>IntNum</th><th>PersNum</th><th>Age</th><th>Educatn</th><th>Earnings</th><th>Hours</th><th>Kids</th><th>Married</th></tr><tr><th></th><th>Int32</th><th>Int32</th><th>Int32</th><th>Int32?</th><th>Int32</th><th>Int32</th><th>Int32</th><th>Cat…</th></tr></thead><tbody><tr><th>1</th><td>4</td><td>4</td><td>39</td><td>12</td><td>77250</td><td>2940</td><td>2</td><td>married</td></tr><tr><th>2</th><td>4</td><td>7</td><td>33</td><td>12</td><td>8000</td><td>693</td><td>1</td><td>married</td></tr><tr><th>3</th><td>4</td><td>173</td><td>39</td><td>10</td><td>15000</td><td>1904</td><td>2</td><td>married</td></tr><tr><th>4</th><td>5</td><td>2</td><td>47</td><td>9</td><td>6500</td><td>1683</td><td>5</td><td>married</td></tr><tr><th>5</th><td>6</td><td>4</td><td>44</td><td>12</td><td>6500</td><td>2024</td><td>2</td><td>married</td></tr><tr><th>6</th><td>6</td><td>172</td><td>38</td><td>16</td><td>7000</td><td>1144</td><td>3</td><td>married</td></tr><tr><th>7</th><td>7</td><td>170</td><td>39</td><td>12</td><td>21000</td><td>2575</td><td>3</td><td>married</td></tr><tr><th>8</th><td>7</td><td>171</td><td>37</td><td>11</td><td>0</td><td>0</td><td>5</td><td>married</td></tr><tr><th>9</th><td>10</td><td>171</td><td>47</td><td>12</td><td>22000</td><td>1920</td><td>3</td><td>married</td></tr><tr><th>10</th><td>11</td><td>171</td><td>38</td><td>16</td><td>12143</td><td>585</td><td>0</td><td>married</td></tr><tr><th>11</th><td>13</td><td>3</td><td>41</td><td>12</td><td>0</td><td>0</td><td>2</td><td>married</td></tr><tr><th>12</th><td>14</td><td>3</td><td>36</td><td>14</td><td>24000</td><td>1701</td><td>1</td><td>married</td></tr><tr><th>13</th><td>16</td><td>3</td><td>31</td><td>10</td><td>0</td><td>0</td><td>2</td><td>married</td></tr><tr><th>14</th><td>18</td><td>170</td><td>38</td><td>12</td><td>0</td><td>0</td><td>2</td><td>married</td></tr><tr><th>15</th><td>18</td><td>172</td><td>39</td><td>12</td><td>11250</td><td>968</td><td>3</td><td>married</td></tr><tr><th>16</th><td>18</td><td>173</td><td>45</td><td>12</td><td>0</td><td>0</td><td>3</td><td>married</td></tr><tr><th>17</th><td>18</td><td>177</td><td>44</td><td>17</td><td>8500</td><td>972</td><td>2</td><td>married</td></tr><tr><th>18</th><td>22</td><td>3</td><td>36</td><td>12</td><td>22883</td><td>1523</td><td>1</td><td>married</td></tr><tr><th>19</th><td>23</td><td>172</td><td>39</td><td>12</td><td>5100</td><td>425</td><td>4</td><td>married</td></tr><tr><th>20</th><td>39</td><td>2</td><td>45</td><td>16</td><td>8000</td><td>1736</td><td>2</td><td>married</td></tr><tr><th>21</th><td>40</td><td>4</td><td>31</td><td>12</td><td>4000</td><td>260</td><td>3</td><td>married</td></tr><tr><th>22</th><td>40</td><td>170</td><td>32</td><td>12</td><td>12000</td><td>1175</td><td>3</td><td>married</td></tr><tr><th>23</th><td>41</td><td>5</td><td>34</td><td>10</td><td>0</td><td>0</td><td>2</td><td>married</td></tr><tr><th>24</th><td>41</td><td>7</td><td>32</td><td>14</td><td>12000</td><td>1624</td><td>2</td><td>married</td></tr><tr><th>25</th><td>41</td><td>170</td><td>38</td><td>12</td><td>12000</td><td>1916</td><td>2</td><td>married</td></tr><tr><th>26</th><td>41</td><td>179</td><td>34</td><td>12</td><td>6800</td><td>800</td><td>2</td><td>married</td></tr><tr><th>27</th><td>45</td><td>3</td><td>37</td><td>8</td><td>13000</td><td>2040</td><td>2</td><td>married</td></tr><tr><th>28</th><td>47</td><td>4</td><td>32</td><td>15</td><td>12000</td><td>2064</td><td>2</td><td>married</td></tr><tr><th>29</th><td>50</td><td>5</td><td>31</td><td>17</td><td>44000</td><td>1960</td><td>1</td><td>married</td></tr><tr><th>30</th><td>50</td><td>171</td><td>32</td><td>16</td><td>17000</td><td>1864</td><td>2</td><td>married</td></tr><tr><th>&vellip;</th><td>&vellip;</td><td>&vellip;</td><td>&vellip;</td><td>&vellip;</td><td>&vellip;</td><td>&vellip;</td><td>&vellip;</td><td>&vellip;</td></tr></tbody></table><p>&vellip;</p><p><i>Last Group (43 rows): Married = CategoricalArrays.CategoricalValue{String,UInt8} \"no histories\"</i></p><table class=\"data-frame\"><thead><tr><th></th><th>IntNum</th><th>PersNum</th><th>Age</th><th>Educatn</th><th>Earnings</th><th>Hours</th><th>Kids</th><th>Married</th></tr><tr><th></th><th>Int32</th><th>Int32</th><th>Int32</th><th>Int32?</th><th>Int32</th><th>Int32</th><th>Int32</th><th>Cat…</th></tr></thead><tbody><tr><th>1</th><td>633</td><td>5</td><td>34</td><td>99</td><td>0</td><td>0</td><td>99</td><td>no histories</td></tr><tr><th>2</th><td>941</td><td>182</td><td>49</td><td>12</td><td>0</td><td>0</td><td>99</td><td>no histories</td></tr><tr><th>3</th><td>1184</td><td>21</td><td>49</td><td>0</td><td>0</td><td>0</td><td>99</td><td>no histories</td></tr><tr><th>4</th><td>1709</td><td>2</td><td>50</td><td>0</td><td>0</td><td>0</td><td>99</td><td>no histories</td></tr><tr><th>5</th><td>1874</td><td>170</td><td>48</td><td>14</td><td>28000</td><td>2000</td><td>99</td><td>no histories</td></tr><tr><th>6</th><td>1906</td><td>170</td><td>41</td><td>17</td><td>24500</td><td>1458</td><td>99</td><td>no histories</td></tr><tr><th>7</th><td>2614</td><td>3</td><td>37</td><td>0</td><td>0</td><td>0</td><td>99</td><td>no histories</td></tr><tr><th>8</th><td>2701</td><td>185</td><td>34</td><td>0</td><td>0</td><td>0</td><td>99</td><td>no histories</td></tr><tr><th>9</th><td>2704</td><td>2</td><td>39</td><td>0</td><td>0</td><td>0</td><td>99</td><td>no histories</td></tr><tr><th>10</th><td>2705</td><td>171</td><td>48</td><td>12</td><td>6750</td><td>1470</td><td>99</td><td>no histories</td></tr><tr><th>11</th><td>5195</td><td>177</td><td>48</td><td>99</td><td>0</td><td>0</td><td>99</td><td>no histories</td></tr><tr><th>12</th><td>5360</td><td>176</td><td>47</td><td>98</td><td>500</td><td>2040</td><td>99</td><td>no histories</td></tr><tr><th>13</th><td>5363</td><td>172</td><td>49</td><td>12</td><td>10000</td><td>1517</td><td>99</td><td>no histories</td></tr><tr><th>14</th><td>5477</td><td>180</td><td>50</td><td>12</td><td>0</td><td>0</td><td>99</td><td>no histories</td></tr><tr><th>15</th><td>5537</td><td>181</td><td>45</td><td>99</td><td>0</td><td>0</td><td>99</td><td>no histories</td></tr><tr><th>16</th><td>5655</td><td>190</td><td>45</td><td>99</td><td>1500</td><td>140</td><td>99</td><td>no histories</td></tr><tr><th>17</th><td>5755</td><td>170</td><td>49</td><td>0</td><td>0</td><td>0</td><td>99</td><td>no histories</td></tr><tr><th>18</th><td>5806</td><td>2</td><td>45</td><td>0</td><td>0</td><td>0</td><td>99</td><td>no histories</td></tr><tr><th>19</th><td>5880</td><td>191</td><td>47</td><td>13</td><td>6000</td><td>4940</td><td>99</td><td>no histories</td></tr><tr><th>20</th><td>6256</td><td>191</td><td>47</td><td>99</td><td>0</td><td>0</td><td>99</td><td>no histories</td></tr><tr><th>21</th><td>6293</td><td>190</td><td>46</td><td>6</td><td>10000</td><td>1300</td><td>99</td><td>no histories</td></tr><tr><th>22</th><td>6316</td><td>171</td><td>49</td><td>0</td><td>0</td><td>0</td><td>99</td><td>no histories</td></tr><tr><th>23</th><td>6408</td><td>4</td><td>46</td><td>12</td><td>0</td><td>0</td><td>99</td><td>no histories</td></tr><tr><th>24</th><td>6436</td><td>184</td><td>46</td><td>99</td><td>0</td><td>0</td><td>99</td><td>no histories</td></tr><tr><th>25</th><td>6801</td><td>178</td><td>50</td><td>12</td><td>7000</td><td>1840</td><td>99</td><td>no histories</td></tr><tr><th>26</th><td>7079</td><td>170</td><td>49</td><td>13</td><td>0</td><td>0</td><td>99</td><td>no histories</td></tr><tr><th>27</th><td>7258</td><td>170</td><td>48</td><td>0</td><td>0</td><td>0</td><td>99</td><td>no histories</td></tr><tr><th>28</th><td>7263</td><td>170</td><td>47</td><td>0</td><td>0</td><td>0</td><td>99</td><td>no histories</td></tr><tr><th>29</th><td>7371</td><td>170</td><td>48</td><td>12</td><td>4667</td><td>1365</td><td>99</td><td>no histories</td></tr><tr><th>30</th><td>7693</td><td>171</td><td>47</td><td>0</td><td>0</td><td>0</td><td>99</td><td>no histories</td></tr><tr><th>&vellip;</th><td>&vellip;</td><td>&vellip;</td><td>&vellip;</td><td>&vellip;</td><td>&vellip;</td><td>&vellip;</td><td>&vellip;</td><td>&vellip;</td></tr></tbody></table>"
      ],
      "text/latex": [
       "GroupedDataFrame with 7 groups based on key: Married\n",
       "\n",
       "First Group (3071 rows): Married = CategoricalArrays.CategoricalValue\\{String,UInt8\\} \"married\"\n",
       "\n",
       "\\begin{tabular}{r|cccccccc}\n",
       "\t& IntNum & PersNum & Age & Educatn & Earnings & Hours & Kids & Married\\\\\n",
       "\t\\hline\n",
       "\t& Int32 & Int32 & Int32 & Int32? & Int32 & Int32 & Int32 & Cat…\\\\\n",
       "\t\\hline\n",
       "\t1 & 4 & 4 & 39 & 12 & 77250 & 2940 & 2 & married \\\\\n",
       "\t2 & 4 & 7 & 33 & 12 & 8000 & 693 & 1 & married \\\\\n",
       "\t3 & 4 & 173 & 39 & 10 & 15000 & 1904 & 2 & married \\\\\n",
       "\t4 & 5 & 2 & 47 & 9 & 6500 & 1683 & 5 & married \\\\\n",
       "\t5 & 6 & 4 & 44 & 12 & 6500 & 2024 & 2 & married \\\\\n",
       "\t6 & 6 & 172 & 38 & 16 & 7000 & 1144 & 3 & married \\\\\n",
       "\t7 & 7 & 170 & 39 & 12 & 21000 & 2575 & 3 & married \\\\\n",
       "\t8 & 7 & 171 & 37 & 11 & 0 & 0 & 5 & married \\\\\n",
       "\t9 & 10 & 171 & 47 & 12 & 22000 & 1920 & 3 & married \\\\\n",
       "\t10 & 11 & 171 & 38 & 16 & 12143 & 585 & 0 & married \\\\\n",
       "\t11 & 13 & 3 & 41 & 12 & 0 & 0 & 2 & married \\\\\n",
       "\t12 & 14 & 3 & 36 & 14 & 24000 & 1701 & 1 & married \\\\\n",
       "\t13 & 16 & 3 & 31 & 10 & 0 & 0 & 2 & married \\\\\n",
       "\t14 & 18 & 170 & 38 & 12 & 0 & 0 & 2 & married \\\\\n",
       "\t15 & 18 & 172 & 39 & 12 & 11250 & 968 & 3 & married \\\\\n",
       "\t16 & 18 & 173 & 45 & 12 & 0 & 0 & 3 & married \\\\\n",
       "\t17 & 18 & 177 & 44 & 17 & 8500 & 972 & 2 & married \\\\\n",
       "\t18 & 22 & 3 & 36 & 12 & 22883 & 1523 & 1 & married \\\\\n",
       "\t19 & 23 & 172 & 39 & 12 & 5100 & 425 & 4 & married \\\\\n",
       "\t20 & 39 & 2 & 45 & 16 & 8000 & 1736 & 2 & married \\\\\n",
       "\t21 & 40 & 4 & 31 & 12 & 4000 & 260 & 3 & married \\\\\n",
       "\t22 & 40 & 170 & 32 & 12 & 12000 & 1175 & 3 & married \\\\\n",
       "\t23 & 41 & 5 & 34 & 10 & 0 & 0 & 2 & married \\\\\n",
       "\t24 & 41 & 7 & 32 & 14 & 12000 & 1624 & 2 & married \\\\\n",
       "\t25 & 41 & 170 & 38 & 12 & 12000 & 1916 & 2 & married \\\\\n",
       "\t26 & 41 & 179 & 34 & 12 & 6800 & 800 & 2 & married \\\\\n",
       "\t27 & 45 & 3 & 37 & 8 & 13000 & 2040 & 2 & married \\\\\n",
       "\t28 & 47 & 4 & 32 & 15 & 12000 & 2064 & 2 & married \\\\\n",
       "\t29 & 50 & 5 & 31 & 17 & 44000 & 1960 & 1 & married \\\\\n",
       "\t30 & 50 & 171 & 32 & 16 & 17000 & 1864 & 2 & married \\\\\n",
       "\t$\\dots$ & $\\dots$ & $\\dots$ & $\\dots$ & $\\dots$ & $\\dots$ & $\\dots$ & $\\dots$ & $\\dots$ \\\\\n",
       "\\end{tabular}\n",
       "\n",
       "$\\dots$\n",
       "\n",
       "Last Group (43 rows): Married = CategoricalArrays.CategoricalValue\\{String,UInt8\\} \"no histories\"\n",
       "\n",
       "\\begin{tabular}{r|cccccccc}\n",
       "\t& IntNum & PersNum & Age & Educatn & Earnings & Hours & Kids & Married\\\\\n",
       "\t\\hline\n",
       "\t& Int32 & Int32 & Int32 & Int32? & Int32 & Int32 & Int32 & Cat…\\\\\n",
       "\t\\hline\n",
       "\t1 & 633 & 5 & 34 & 99 & 0 & 0 & 99 & no histories \\\\\n",
       "\t2 & 941 & 182 & 49 & 12 & 0 & 0 & 99 & no histories \\\\\n",
       "\t3 & 1184 & 21 & 49 & 0 & 0 & 0 & 99 & no histories \\\\\n",
       "\t4 & 1709 & 2 & 50 & 0 & 0 & 0 & 99 & no histories \\\\\n",
       "\t5 & 1874 & 170 & 48 & 14 & 28000 & 2000 & 99 & no histories \\\\\n",
       "\t6 & 1906 & 170 & 41 & 17 & 24500 & 1458 & 99 & no histories \\\\\n",
       "\t7 & 2614 & 3 & 37 & 0 & 0 & 0 & 99 & no histories \\\\\n",
       "\t8 & 2701 & 185 & 34 & 0 & 0 & 0 & 99 & no histories \\\\\n",
       "\t9 & 2704 & 2 & 39 & 0 & 0 & 0 & 99 & no histories \\\\\n",
       "\t10 & 2705 & 171 & 48 & 12 & 6750 & 1470 & 99 & no histories \\\\\n",
       "\t11 & 5195 & 177 & 48 & 99 & 0 & 0 & 99 & no histories \\\\\n",
       "\t12 & 5360 & 176 & 47 & 98 & 500 & 2040 & 99 & no histories \\\\\n",
       "\t13 & 5363 & 172 & 49 & 12 & 10000 & 1517 & 99 & no histories \\\\\n",
       "\t14 & 5477 & 180 & 50 & 12 & 0 & 0 & 99 & no histories \\\\\n",
       "\t15 & 5537 & 181 & 45 & 99 & 0 & 0 & 99 & no histories \\\\\n",
       "\t16 & 5655 & 190 & 45 & 99 & 1500 & 140 & 99 & no histories \\\\\n",
       "\t17 & 5755 & 170 & 49 & 0 & 0 & 0 & 99 & no histories \\\\\n",
       "\t18 & 5806 & 2 & 45 & 0 & 0 & 0 & 99 & no histories \\\\\n",
       "\t19 & 5880 & 191 & 47 & 13 & 6000 & 4940 & 99 & no histories \\\\\n",
       "\t20 & 6256 & 191 & 47 & 99 & 0 & 0 & 99 & no histories \\\\\n",
       "\t21 & 6293 & 190 & 46 & 6 & 10000 & 1300 & 99 & no histories \\\\\n",
       "\t22 & 6316 & 171 & 49 & 0 & 0 & 0 & 99 & no histories \\\\\n",
       "\t23 & 6408 & 4 & 46 & 12 & 0 & 0 & 99 & no histories \\\\\n",
       "\t24 & 6436 & 184 & 46 & 99 & 0 & 0 & 99 & no histories \\\\\n",
       "\t25 & 6801 & 178 & 50 & 12 & 7000 & 1840 & 99 & no histories \\\\\n",
       "\t26 & 7079 & 170 & 49 & 13 & 0 & 0 & 99 & no histories \\\\\n",
       "\t27 & 7258 & 170 & 48 & 0 & 0 & 0 & 99 & no histories \\\\\n",
       "\t28 & 7263 & 170 & 47 & 0 & 0 & 0 & 99 & no histories \\\\\n",
       "\t29 & 7371 & 170 & 48 & 12 & 4667 & 1365 & 99 & no histories \\\\\n",
       "\t30 & 7693 & 171 & 47 & 0 & 0 & 0 & 99 & no histories \\\\\n",
       "\t$\\dots$ & $\\dots$ & $\\dots$ & $\\dots$ & $\\dots$ & $\\dots$ & $\\dots$ & $\\dots$ & $\\dots$ \\\\\n",
       "\\end{tabular}\n"
      ],
      "text/plain": [
       "GroupedDataFrame with 7 groups based on key: Married\n",
       "First Group (3071 rows): Married = CategoricalArrays.CategoricalValue{String,UInt8} \"married\"\n",
       "\u001b[1m  Row \u001b[0m│\u001b[1m IntNum \u001b[0m\u001b[1m PersNum \u001b[0m\u001b[1m Age   \u001b[0m\u001b[1m Educatn \u001b[0m\u001b[1m Earnings \u001b[0m\u001b[1m Hours \u001b[0m\u001b[1m Kids  \u001b[0m\u001b[1m Married \u001b[0m\n",
       "\u001b[1m      \u001b[0m│\u001b[90m Int32  \u001b[0m\u001b[90m Int32   \u001b[0m\u001b[90m Int32 \u001b[0m\u001b[90m Int32?  \u001b[0m\u001b[90m Int32    \u001b[0m\u001b[90m Int32 \u001b[0m\u001b[90m Int32 \u001b[0m\u001b[90m Cat…    \u001b[0m\n",
       "──────┼──────────────────────────────────────────────────────────────────\n",
       "    1 │      4        4     39       12     77250   2940      2  married\n",
       "    2 │      4        7     33       12      8000    693      1  married\n",
       "    3 │      4      173     39       10     15000   1904      2  married\n",
       "    4 │      5        2     47        9      6500   1683      5  married\n",
       "    5 │      6        4     44       12      6500   2024      2  married\n",
       "    6 │      6      172     38       16      7000   1144      3  married\n",
       "    7 │      7      170     39       12     21000   2575      3  married\n",
       "    8 │      7      171     37       11         0      0      5  married\n",
       "    9 │     10      171     47       12     22000   1920      3  married\n",
       "   10 │     11      171     38       16     12143    585      0  married\n",
       "   11 │     13        3     41       12         0      0      2  married\n",
       "  ⋮   │   ⋮        ⋮       ⋮       ⋮        ⋮        ⋮      ⋮       ⋮\n",
       " 3061 │   9273        2     31        0         0      0      3  married\n",
       " 3062 │   9274        2     42        3         0      0      3  married\n",
       " 3063 │   9276        2     35        1         0      0      3  married\n",
       " 3064 │   9279        2     46       99     19000   1209      0  married\n",
       " 3065 │   9280        2     30        6         0      0      2  married\n",
       " 3066 │   9292        2     41        6     13000   2448      5  married\n",
       " 3067 │   9294        2     37       12         0      0      2  married\n",
       " 3068 │   9297        2     42        2      3000   1040      4  married\n",
       " 3069 │   9301        2     43       12         0      0      2  married\n",
       " 3070 │   9305        2     40        6       134     30      3  married\n",
       " 3071 │   9306        2     37       17     33000   2423      4  married\n",
       "\u001b[36m                                                        3049 rows omitted\u001b[0m\n",
       "⋮\n",
       "Last Group (43 rows): Married = CategoricalArrays.CategoricalValue{String,UInt8} \"no histories\"\n",
       "\u001b[1m Row \u001b[0m│\u001b[1m IntNum \u001b[0m\u001b[1m PersNum \u001b[0m\u001b[1m Age   \u001b[0m\u001b[1m Educatn \u001b[0m\u001b[1m Earnings \u001b[0m\u001b[1m Hours \u001b[0m\u001b[1m Kids  \u001b[0m\u001b[1m Married      \u001b[0m\n",
       "\u001b[1m     \u001b[0m│\u001b[90m Int32  \u001b[0m\u001b[90m Int32   \u001b[0m\u001b[90m Int32 \u001b[0m\u001b[90m Int32?  \u001b[0m\u001b[90m Int32    \u001b[0m\u001b[90m Int32 \u001b[0m\u001b[90m Int32 \u001b[0m\u001b[90m Cat…         \u001b[0m\n",
       "─────┼───────────────────────────────────────────────────────────────────────\n",
       "   1 │    633        5     34       99         0      0     99  no histories\n",
       "   2 │    941      182     49       12         0      0     99  no histories\n",
       "   3 │   1184       21     49        0         0      0     99  no histories\n",
       "   4 │   1709        2     50        0         0      0     99  no histories\n",
       "   5 │   1874      170     48       14     28000   2000     99  no histories\n",
       "   6 │   1906      170     41       17     24500   1458     99  no histories\n",
       "   7 │   2614        3     37        0         0      0     99  no histories\n",
       "   8 │   2701      185     34        0         0      0     99  no histories\n",
       "   9 │   2704        2     39        0         0      0     99  no histories\n",
       "  10 │   2705      171     48       12      6750   1470     99  no histories\n",
       "  11 │   5195      177     48       99         0      0     99  no histories\n",
       "  ⋮  │   ⋮        ⋮       ⋮       ⋮        ⋮        ⋮      ⋮         ⋮\n",
       "  33 │   7945      172     46        0         0      0     99  no histories\n",
       "  34 │   8180      170     47       12         0      0     99  no histories\n",
       "  35 │   8444        2     48        8     21288   5160     99  no histories\n",
       "  36 │   8517      170     49        4         0      0     99  no histories\n",
       "  37 │   8543      170     50       12         0      0     99  no histories\n",
       "  38 │   8844      170     49       16     37800   2340     99  no histories\n",
       "  39 │   8925      170     47       12         0      0     99  no histories\n",
       "  40 │   9035      172     46        3         0      0     99  no histories\n",
       "  41 │   9041      170     49        6      6800   1600     99  no histories\n",
       "  42 │   9150      172     47        6         0      0     99  no histories\n",
       "  43 │   9207      171     46       11     24002   3120     99  no histories\n",
       "\u001b[36m                                                              21 rows omitted\u001b[0m"
      ]
     },
     "execution_count": 9,
     "metadata": {
      "tags": []
     },
     "output_type": "execute_result"
    }
   ],
   "source": [
    "groupby_married_psid = groupby(psid, :Married)"
   ]
  },
  {
   "cell_type": "markdown",
   "metadata": {
    "id": "X8nKal78oG-D"
   },
   "source": [
    "Можно вытащить каждый i-ый датасет, вызвав команду **gdf[i]**"
   ]
  },
  {
   "cell_type": "code",
   "execution_count": null,
   "metadata": {
    "colab": {
     "base_uri": "https://localhost:8080/",
     "height": 195
    },
    "id": "hlmDBttGlbuv",
    "outputId": "2f43618c-a2c1-40c0-9a01-4bb542f1236a"
   },
   "outputs": [
    {
     "data": {
      "text/html": [
       "<table class=\"data-frame\"><thead><tr><th></th><th>IntNum</th><th>PersNum</th><th>Age</th><th>Educatn</th><th>Earnings</th><th>Hours</th><th>Kids</th><th>Married</th></tr><tr><th></th><th>Int32</th><th>Int32</th><th>Int32</th><th>Int32?</th><th>Int32</th><th>Int32</th><th>Int32</th><th>Cat…</th></tr></thead><tbody><p>5 rows × 8 columns</p><tr><th>1</th><td>4</td><td>4</td><td>39</td><td>12</td><td>77250</td><td>2940</td><td>2</td><td>married</td></tr><tr><th>2</th><td>4</td><td>7</td><td>33</td><td>12</td><td>8000</td><td>693</td><td>1</td><td>married</td></tr><tr><th>3</th><td>4</td><td>173</td><td>39</td><td>10</td><td>15000</td><td>1904</td><td>2</td><td>married</td></tr><tr><th>4</th><td>5</td><td>2</td><td>47</td><td>9</td><td>6500</td><td>1683</td><td>5</td><td>married</td></tr><tr><th>5</th><td>6</td><td>4</td><td>44</td><td>12</td><td>6500</td><td>2024</td><td>2</td><td>married</td></tr></tbody></table>"
      ],
      "text/latex": [
       "\\begin{tabular}{r|cccccccc}\n",
       "\t& IntNum & PersNum & Age & Educatn & Earnings & Hours & Kids & Married\\\\\n",
       "\t\\hline\n",
       "\t& Int32 & Int32 & Int32 & Int32? & Int32 & Int32 & Int32 & Cat…\\\\\n",
       "\t\\hline\n",
       "\t1 & 4 & 4 & 39 & 12 & 77250 & 2940 & 2 & married \\\\\n",
       "\t2 & 4 & 7 & 33 & 12 & 8000 & 693 & 1 & married \\\\\n",
       "\t3 & 4 & 173 & 39 & 10 & 15000 & 1904 & 2 & married \\\\\n",
       "\t4 & 5 & 2 & 47 & 9 & 6500 & 1683 & 5 & married \\\\\n",
       "\t5 & 6 & 4 & 44 & 12 & 6500 & 2024 & 2 & married \\\\\n",
       "\\end{tabular}\n"
      ],
      "text/plain": [
       "\u001b[1m5×8 DataFrame\u001b[0m\n",
       "\u001b[1m Row \u001b[0m│\u001b[1m IntNum \u001b[0m\u001b[1m PersNum \u001b[0m\u001b[1m Age   \u001b[0m\u001b[1m Educatn \u001b[0m\u001b[1m Earnings \u001b[0m\u001b[1m Hours \u001b[0m\u001b[1m Kids  \u001b[0m\u001b[1m Married \u001b[0m\n",
       "\u001b[1m     \u001b[0m│\u001b[90m Int32  \u001b[0m\u001b[90m Int32   \u001b[0m\u001b[90m Int32 \u001b[0m\u001b[90m Int32?  \u001b[0m\u001b[90m Int32    \u001b[0m\u001b[90m Int32 \u001b[0m\u001b[90m Int32 \u001b[0m\u001b[90m Cat…    \u001b[0m\n",
       "─────┼──────────────────────────────────────────────────────────────────\n",
       "   1 │      4        4     39       12     77250   2940      2  married\n",
       "   2 │      4        7     33       12      8000    693      1  married\n",
       "   3 │      4      173     39       10     15000   1904      2  married\n",
       "   4 │      5        2     47        9      6500   1683      5  married\n",
       "   5 │      6        4     44       12      6500   2024      2  married"
      ]
     },
     "execution_count": 10,
     "metadata": {
      "tags": []
     },
     "output_type": "execute_result"
    }
   ],
   "source": [
    "married_psid = groupby_married_psid[1]\n",
    "first(married_psid, 5)"
   ]
  },
  {
   "cell_type": "code",
   "execution_count": null,
   "metadata": {
    "colab": {
     "base_uri": "https://localhost:8080/",
     "height": 195
    },
    "id": "7JrQEoBKBBjK",
    "outputId": "0f5102cc-40d7-4e6a-9bca-22b546a86b90"
   },
   "outputs": [
    {
     "data": {
      "text/html": [
       "<table class=\"data-frame\"><thead><tr><th></th><th>IntNum</th><th>PersNum</th><th>Age</th><th>Educatn</th><th>Earnings</th><th>Hours</th><th>Kids</th><th>Married</th></tr><tr><th></th><th>Int32</th><th>Int32</th><th>Int32</th><th>Int32?</th><th>Int32</th><th>Int32</th><th>Int32</th><th>Cat…</th></tr></thead><tbody><p>5 rows × 8 columns</p><tr><th>1</th><td>40</td><td>5</td><td>31</td><td>12</td><td>31000</td><td>2925</td><td>0</td><td>widowed</td></tr><tr><th>2</th><td>57</td><td>3</td><td>35</td><td>10</td><td>0</td><td>0</td><td>2</td><td>widowed</td></tr><tr><th>3</th><td>575</td><td>3</td><td>39</td><td>14</td><td>8000</td><td>768</td><td>1</td><td>widowed</td></tr><tr><th>4</th><td>580</td><td>4</td><td>40</td><td>15</td><td>10000</td><td>1410</td><td>0</td><td>widowed</td></tr><tr><th>5</th><td>634</td><td>4</td><td>49</td><td>12</td><td>8150</td><td>1971</td><td>4</td><td>widowed</td></tr></tbody></table>"
      ],
      "text/latex": [
       "\\begin{tabular}{r|cccccccc}\n",
       "\t& IntNum & PersNum & Age & Educatn & Earnings & Hours & Kids & Married\\\\\n",
       "\t\\hline\n",
       "\t& Int32 & Int32 & Int32 & Int32? & Int32 & Int32 & Int32 & Cat…\\\\\n",
       "\t\\hline\n",
       "\t1 & 40 & 5 & 31 & 12 & 31000 & 2925 & 0 & widowed \\\\\n",
       "\t2 & 57 & 3 & 35 & 10 & 0 & 0 & 2 & widowed \\\\\n",
       "\t3 & 575 & 3 & 39 & 14 & 8000 & 768 & 1 & widowed \\\\\n",
       "\t4 & 580 & 4 & 40 & 15 & 10000 & 1410 & 0 & widowed \\\\\n",
       "\t5 & 634 & 4 & 49 & 12 & 8150 & 1971 & 4 & widowed \\\\\n",
       "\\end{tabular}\n"
      ],
      "text/plain": [
       "\u001b[1m5×8 DataFrame\u001b[0m\n",
       "\u001b[1m Row \u001b[0m│\u001b[1m IntNum \u001b[0m\u001b[1m PersNum \u001b[0m\u001b[1m Age   \u001b[0m\u001b[1m Educatn \u001b[0m\u001b[1m Earnings \u001b[0m\u001b[1m Hours \u001b[0m\u001b[1m Kids  \u001b[0m\u001b[1m Married \u001b[0m\n",
       "\u001b[1m     \u001b[0m│\u001b[90m Int32  \u001b[0m\u001b[90m Int32   \u001b[0m\u001b[90m Int32 \u001b[0m\u001b[90m Int32?  \u001b[0m\u001b[90m Int32    \u001b[0m\u001b[90m Int32 \u001b[0m\u001b[90m Int32 \u001b[0m\u001b[90m Cat…    \u001b[0m\n",
       "─────┼──────────────────────────────────────────────────────────────────\n",
       "   1 │     40        5     31       12     31000   2925      0  widowed\n",
       "   2 │     57        3     35       10         0      0      2  widowed\n",
       "   3 │    575        3     39       14      8000    768      1  widowed\n",
       "   4 │    580        4     40       15     10000   1410      0  widowed\n",
       "   5 │    634        4     49       12      8150   1971      4  widowed"
      ]
     },
     "execution_count": 11,
     "metadata": {
      "tags": []
     },
     "output_type": "execute_result"
    }
   ],
   "source": [
    "widowed_psid = groupby_married_psid[3]\n",
    "first(widowed_psid, 5)"
   ]
  },
  {
   "cell_type": "markdown",
   "metadata": {
    "id": "Or_jdndo-ZFA"
   },
   "source": [
    "Или же можно вызвать, прописав условие `gdf[(variable='name'),]`"
   ]
  },
  {
   "cell_type": "code",
   "execution_count": null,
   "metadata": {
    "colab": {
     "base_uri": "https://localhost:8080/",
     "height": 195
    },
    "id": "95DiU0W0-T4G",
    "outputId": "79877942-65ca-4550-f93e-ef1d7c20dcd6"
   },
   "outputs": [
    {
     "data": {
      "text/html": [
       "<table class=\"data-frame\"><thead><tr><th></th><th>IntNum</th><th>PersNum</th><th>Age</th><th>Educatn</th><th>Earnings</th><th>Hours</th><th>Kids</th><th>Married</th></tr><tr><th></th><th>Int32</th><th>Int32</th><th>Int32</th><th>Int32?</th><th>Int32</th><th>Int32</th><th>Int32</th><th>Cat…</th></tr></thead><tbody><p>5 rows × 8 columns</p><tr><th>1</th><td>4</td><td>4</td><td>39</td><td>12</td><td>77250</td><td>2940</td><td>2</td><td>married</td></tr><tr><th>2</th><td>4</td><td>7</td><td>33</td><td>12</td><td>8000</td><td>693</td><td>1</td><td>married</td></tr><tr><th>3</th><td>4</td><td>173</td><td>39</td><td>10</td><td>15000</td><td>1904</td><td>2</td><td>married</td></tr><tr><th>4</th><td>5</td><td>2</td><td>47</td><td>9</td><td>6500</td><td>1683</td><td>5</td><td>married</td></tr><tr><th>5</th><td>6</td><td>4</td><td>44</td><td>12</td><td>6500</td><td>2024</td><td>2</td><td>married</td></tr></tbody></table>"
      ],
      "text/latex": [
       "\\begin{tabular}{r|cccccccc}\n",
       "\t& IntNum & PersNum & Age & Educatn & Earnings & Hours & Kids & Married\\\\\n",
       "\t\\hline\n",
       "\t& Int32 & Int32 & Int32 & Int32? & Int32 & Int32 & Int32 & Cat…\\\\\n",
       "\t\\hline\n",
       "\t1 & 4 & 4 & 39 & 12 & 77250 & 2940 & 2 & married \\\\\n",
       "\t2 & 4 & 7 & 33 & 12 & 8000 & 693 & 1 & married \\\\\n",
       "\t3 & 4 & 173 & 39 & 10 & 15000 & 1904 & 2 & married \\\\\n",
       "\t4 & 5 & 2 & 47 & 9 & 6500 & 1683 & 5 & married \\\\\n",
       "\t5 & 6 & 4 & 44 & 12 & 6500 & 2024 & 2 & married \\\\\n",
       "\\end{tabular}\n"
      ],
      "text/plain": [
       "\u001b[1m5×8 DataFrame\u001b[0m\n",
       "\u001b[1m Row \u001b[0m│\u001b[1m IntNum \u001b[0m\u001b[1m PersNum \u001b[0m\u001b[1m Age   \u001b[0m\u001b[1m Educatn \u001b[0m\u001b[1m Earnings \u001b[0m\u001b[1m Hours \u001b[0m\u001b[1m Kids  \u001b[0m\u001b[1m Married \u001b[0m\n",
       "\u001b[1m     \u001b[0m│\u001b[90m Int32  \u001b[0m\u001b[90m Int32   \u001b[0m\u001b[90m Int32 \u001b[0m\u001b[90m Int32?  \u001b[0m\u001b[90m Int32    \u001b[0m\u001b[90m Int32 \u001b[0m\u001b[90m Int32 \u001b[0m\u001b[90m Cat…    \u001b[0m\n",
       "─────┼──────────────────────────────────────────────────────────────────\n",
       "   1 │      4        4     39       12     77250   2940      2  married\n",
       "   2 │      4        7     33       12      8000    693      1  married\n",
       "   3 │      4      173     39       10     15000   1904      2  married\n",
       "   4 │      5        2     47        9      6500   1683      5  married\n",
       "   5 │      6        4     44       12      6500   2024      2  married"
      ]
     },
     "execution_count": 38,
     "metadata": {
      "tags": []
     },
     "output_type": "execute_result"
    }
   ],
   "source": [
    "first(groupby_married_psid[(Married=\"married\",)], 5)"
   ]
  },
  {
   "cell_type": "code",
   "execution_count": null,
   "metadata": {
    "colab": {
     "base_uri": "https://localhost:8080/",
     "height": 195
    },
    "id": "XpmYQ7vL-4G9",
    "outputId": "6d985d79-ac85-49b1-c4dc-d653c9e6f5b4"
   },
   "outputs": [
    {
     "data": {
      "text/html": [
       "<table class=\"data-frame\"><thead><tr><th></th><th>IntNum</th><th>PersNum</th><th>Age</th><th>Educatn</th><th>Earnings</th><th>Hours</th><th>Kids</th><th>Married</th></tr><tr><th></th><th>Int32</th><th>Int32</th><th>Int32</th><th>Int32?</th><th>Int32</th><th>Int32</th><th>Int32</th><th>Cat…</th></tr></thead><tbody><p>5 rows × 8 columns</p><tr><th>1</th><td>40</td><td>5</td><td>31</td><td>12</td><td>31000</td><td>2925</td><td>0</td><td>widowed</td></tr><tr><th>2</th><td>57</td><td>3</td><td>35</td><td>10</td><td>0</td><td>0</td><td>2</td><td>widowed</td></tr><tr><th>3</th><td>575</td><td>3</td><td>39</td><td>14</td><td>8000</td><td>768</td><td>1</td><td>widowed</td></tr><tr><th>4</th><td>580</td><td>4</td><td>40</td><td>15</td><td>10000</td><td>1410</td><td>0</td><td>widowed</td></tr><tr><th>5</th><td>634</td><td>4</td><td>49</td><td>12</td><td>8150</td><td>1971</td><td>4</td><td>widowed</td></tr></tbody></table>"
      ],
      "text/latex": [
       "\\begin{tabular}{r|cccccccc}\n",
       "\t& IntNum & PersNum & Age & Educatn & Earnings & Hours & Kids & Married\\\\\n",
       "\t\\hline\n",
       "\t& Int32 & Int32 & Int32 & Int32? & Int32 & Int32 & Int32 & Cat…\\\\\n",
       "\t\\hline\n",
       "\t1 & 40 & 5 & 31 & 12 & 31000 & 2925 & 0 & widowed \\\\\n",
       "\t2 & 57 & 3 & 35 & 10 & 0 & 0 & 2 & widowed \\\\\n",
       "\t3 & 575 & 3 & 39 & 14 & 8000 & 768 & 1 & widowed \\\\\n",
       "\t4 & 580 & 4 & 40 & 15 & 10000 & 1410 & 0 & widowed \\\\\n",
       "\t5 & 634 & 4 & 49 & 12 & 8150 & 1971 & 4 & widowed \\\\\n",
       "\\end{tabular}\n"
      ],
      "text/plain": [
       "\u001b[1m5×8 DataFrame\u001b[0m\n",
       "\u001b[1m Row \u001b[0m│\u001b[1m IntNum \u001b[0m\u001b[1m PersNum \u001b[0m\u001b[1m Age   \u001b[0m\u001b[1m Educatn \u001b[0m\u001b[1m Earnings \u001b[0m\u001b[1m Hours \u001b[0m\u001b[1m Kids  \u001b[0m\u001b[1m Married \u001b[0m\n",
       "\u001b[1m     \u001b[0m│\u001b[90m Int32  \u001b[0m\u001b[90m Int32   \u001b[0m\u001b[90m Int32 \u001b[0m\u001b[90m Int32?  \u001b[0m\u001b[90m Int32    \u001b[0m\u001b[90m Int32 \u001b[0m\u001b[90m Int32 \u001b[0m\u001b[90m Cat…    \u001b[0m\n",
       "─────┼──────────────────────────────────────────────────────────────────\n",
       "   1 │     40        5     31       12     31000   2925      0  widowed\n",
       "   2 │     57        3     35       10         0      0      2  widowed\n",
       "   3 │    575        3     39       14      8000    768      1  widowed\n",
       "   4 │    580        4     40       15     10000   1410      0  widowed\n",
       "   5 │    634        4     49       12      8150   1971      4  widowed"
      ]
     },
     "execution_count": 39,
     "metadata": {
      "tags": []
     },
     "output_type": "execute_result"
    }
   ],
   "source": [
    "first(groupby_married_psid[(Married=\"widowed\",)], 5)"
   ]
  },
  {
   "cell_type": "markdown",
   "metadata": {
    "id": "iklUojmEonWe"
   },
   "source": [
    "### __combine__"
   ]
  },
  {
   "cell_type": "markdown",
   "metadata": {
    "id": "XyP7C2xgr3kY"
   },
   "source": [
    "#### `combine(gdf, nrow)`\n",
    "---"
   ]
  },
  {
   "cell_type": "markdown",
   "metadata": {
    "id": "nx21cz3dp6Ni"
   },
   "source": [
    "Можно вывести общее число строк в каждом датасете, используя команду **nrow**"
   ]
  },
  {
   "cell_type": "code",
   "execution_count": null,
   "metadata": {
    "colab": {
     "base_uri": "https://localhost:8080/",
     "height": 237
    },
    "id": "EZsmXF0Cpp_w",
    "outputId": "10a88417-bee7-4455-8438-7db2ad827e48"
   },
   "outputs": [
    {
     "data": {
      "text/html": [
       "<table class=\"data-frame\"><thead><tr><th></th><th>Married</th><th>nrow</th></tr><tr><th></th><th>Cat…</th><th>Int64</th></tr></thead><tbody><p>7 rows × 2 columns</p><tr><th>1</th><td>married</td><td>3071</td></tr><tr><th>2</th><td>never married</td><td>681</td></tr><tr><th>3</th><td>widowed</td><td>90</td></tr><tr><th>4</th><td>divorced</td><td>645</td></tr><tr><th>5</th><td>separated</td><td>317</td></tr><tr><th>6</th><td>NA/DF</td><td>9</td></tr><tr><th>7</th><td>no histories</td><td>43</td></tr></tbody></table>"
      ],
      "text/latex": [
       "\\begin{tabular}{r|cc}\n",
       "\t& Married & nrow\\\\\n",
       "\t\\hline\n",
       "\t& Cat… & Int64\\\\\n",
       "\t\\hline\n",
       "\t1 & married & 3071 \\\\\n",
       "\t2 & never married & 681 \\\\\n",
       "\t3 & widowed & 90 \\\\\n",
       "\t4 & divorced & 645 \\\\\n",
       "\t5 & separated & 317 \\\\\n",
       "\t6 & NA/DF & 9 \\\\\n",
       "\t7 & no histories & 43 \\\\\n",
       "\\end{tabular}\n"
      ],
      "text/plain": [
       "\u001b[1m7×2 DataFrame\u001b[0m\n",
       "\u001b[1m Row \u001b[0m│\u001b[1m Married       \u001b[0m\u001b[1m nrow  \u001b[0m\n",
       "\u001b[1m     \u001b[0m│\u001b[90m Cat…          \u001b[0m\u001b[90m Int64 \u001b[0m\n",
       "─────┼──────────────────────\n",
       "   1 │ married         3071\n",
       "   2 │ never married    681\n",
       "   3 │ widowed           90\n",
       "   4 │ divorced         645\n",
       "   5 │ separated        317\n",
       "   6 │ NA/DF              9\n",
       "   7 │ no histories      43"
      ]
     },
     "execution_count": 29,
     "metadata": {
      "tags": []
     },
     "output_type": "execute_result"
    }
   ],
   "source": [
    "combine(groupby_married_psid, nrow)"
   ]
  },
  {
   "cell_type": "markdown",
   "metadata": {
    "id": "DeOVs94Wr9oN"
   },
   "source": [
    "#### `combine(gdf, :variable => operation => :name)`\n",
    "---"
   ]
  },
  {
   "cell_type": "markdown",
   "metadata": {
    "id": "rd78R1t4pQqW"
   },
   "source": [
    "Выдает таблицу, где для каждого датасета **gdf[i]** в столбце с названием **name** показано значение признака **variable** после операции **operation**"
   ]
  },
  {
   "cell_type": "markdown",
   "metadata": {
    "id": "dFhl-FdBuaaa"
   },
   "source": [
    "Математические операции из пакета **Statistics**:\n",
    "* mean - среднее значение\n",
    "\n",
    "* median - медиана\n",
    "\n",
    "* sum - сумма значений\n",
    "\n",
    "* std - стандартное отклонение"
   ]
  },
  {
   "cell_type": "markdown",
   "metadata": {
    "id": "hD5KknJVvf9n"
   },
   "source": [
    "По дефолту название столбца соотвествует **variable_operation**"
   ]
  },
  {
   "cell_type": "code",
   "execution_count": null,
   "metadata": {
    "colab": {
     "base_uri": "https://localhost:8080/",
     "height": 237
    },
    "id": "CzwEEuUooCsg",
    "outputId": "81867403-8c8a-4637-f974-944565cfff3e"
   },
   "outputs": [
    {
     "data": {
      "text/html": [
       "<table class=\"data-frame\"><thead><tr><th></th><th>Married</th><th>Age_mean</th></tr><tr><th></th><th>Cat…</th><th>Float64</th></tr></thead><tbody><p>7 rows × 2 columns</p><tr><th>1</th><td>married</td><td>38.5718</td></tr><tr><th>2</th><td>never married</td><td>36.1263</td></tr><tr><th>3</th><td>widowed</td><td>41.5111</td></tr><tr><th>4</th><td>divorced</td><td>39.5938</td></tr><tr><th>5</th><td>separated</td><td>38.1893</td></tr><tr><th>6</th><td>NA/DF</td><td>38.3333</td></tr><tr><th>7</th><td>no histories</td><td>46.3953</td></tr></tbody></table>"
      ],
      "text/latex": [
       "\\begin{tabular}{r|cc}\n",
       "\t& Married & Age\\_mean\\\\\n",
       "\t\\hline\n",
       "\t& Cat… & Float64\\\\\n",
       "\t\\hline\n",
       "\t1 & married & 38.5718 \\\\\n",
       "\t2 & never married & 36.1263 \\\\\n",
       "\t3 & widowed & 41.5111 \\\\\n",
       "\t4 & divorced & 39.5938 \\\\\n",
       "\t5 & separated & 38.1893 \\\\\n",
       "\t6 & NA/DF & 38.3333 \\\\\n",
       "\t7 & no histories & 46.3953 \\\\\n",
       "\\end{tabular}\n"
      ],
      "text/plain": [
       "\u001b[1m7×2 DataFrame\u001b[0m\n",
       "\u001b[1m Row \u001b[0m│\u001b[1m Married       \u001b[0m\u001b[1m Age_mean \u001b[0m\n",
       "\u001b[1m     \u001b[0m│\u001b[90m Cat…          \u001b[0m\u001b[90m Float64  \u001b[0m\n",
       "─────┼─────────────────────────\n",
       "   1 │ married         38.5718\n",
       "   2 │ never married   36.1263\n",
       "   3 │ widowed         41.5111\n",
       "   4 │ divorced        39.5938\n",
       "   5 │ separated       38.1893\n",
       "   6 │ NA/DF           38.3333\n",
       "   7 │ no histories    46.3953"
      ]
     },
     "execution_count": 30,
     "metadata": {
      "tags": []
     },
     "output_type": "execute_result"
    }
   ],
   "source": [
    "combine(groupby_married_psid, :Age => mean)"
   ]
  },
  {
   "cell_type": "markdown",
   "metadata": {
    "id": "hqdsYci2zvQ9"
   },
   "source": [
    "Однако его можно переименовать, для этого после операции необходимо прописать `=> :new_name`"
   ]
  },
  {
   "cell_type": "code",
   "execution_count": null,
   "metadata": {
    "colab": {
     "base_uri": "https://localhost:8080/",
     "height": 237
    },
    "id": "goyFV0Aqp5Tv",
    "outputId": "2f21afd1-bb66-4563-f8a1-704828685884"
   },
   "outputs": [
    {
     "data": {
      "text/html": [
       "<table class=\"data-frame\"><thead><tr><th></th><th>Married</th><th>mean</th><th>nrow</th></tr><tr><th></th><th>Cat…</th><th>Float64</th><th>Int64</th></tr></thead><tbody><p>7 rows × 3 columns</p><tr><th>1</th><td>married</td><td>38.5718</td><td>3071</td></tr><tr><th>2</th><td>never married</td><td>36.1263</td><td>681</td></tr><tr><th>3</th><td>widowed</td><td>41.5111</td><td>90</td></tr><tr><th>4</th><td>divorced</td><td>39.5938</td><td>645</td></tr><tr><th>5</th><td>separated</td><td>38.1893</td><td>317</td></tr><tr><th>6</th><td>NA/DF</td><td>38.3333</td><td>9</td></tr><tr><th>7</th><td>no histories</td><td>46.3953</td><td>43</td></tr></tbody></table>"
      ],
      "text/latex": [
       "\\begin{tabular}{r|ccc}\n",
       "\t& Married & mean & nrow\\\\\n",
       "\t\\hline\n",
       "\t& Cat… & Float64 & Int64\\\\\n",
       "\t\\hline\n",
       "\t1 & married & 38.5718 & 3071 \\\\\n",
       "\t2 & never married & 36.1263 & 681 \\\\\n",
       "\t3 & widowed & 41.5111 & 90 \\\\\n",
       "\t4 & divorced & 39.5938 & 645 \\\\\n",
       "\t5 & separated & 38.1893 & 317 \\\\\n",
       "\t6 & NA/DF & 38.3333 & 9 \\\\\n",
       "\t7 & no histories & 46.3953 & 43 \\\\\n",
       "\\end{tabular}\n"
      ],
      "text/plain": [
       "\u001b[1m7×3 DataFrame\u001b[0m\n",
       "\u001b[1m Row \u001b[0m│\u001b[1m Married       \u001b[0m\u001b[1m mean    \u001b[0m\u001b[1m nrow  \u001b[0m\n",
       "\u001b[1m     \u001b[0m│\u001b[90m Cat…          \u001b[0m\u001b[90m Float64 \u001b[0m\u001b[90m Int64 \u001b[0m\n",
       "─────┼───────────────────────────────\n",
       "   1 │ married        38.5718   3071\n",
       "   2 │ never married  36.1263    681\n",
       "   3 │ widowed        41.5111     90\n",
       "   4 │ divorced       39.5938    645\n",
       "   5 │ separated      38.1893    317\n",
       "   6 │ NA/DF          38.3333      9\n",
       "   7 │ no histories   46.3953     43"
      ]
     },
     "execution_count": 36,
     "metadata": {
      "tags": []
     },
     "output_type": "execute_result"
    }
   ],
   "source": [
    "combine(groupby_married_psid, :Age => mean => :mean, nrow)"
   ]
  },
  {
   "cell_type": "markdown",
   "metadata": {
    "id": "eEhcSYTNzP6c"
   },
   "source": [
    "Аналогично выводить значения операций над признаками можно делать сразу для нескольких столбцов."
   ]
  },
  {
   "cell_type": "code",
   "execution_count": null,
   "metadata": {
    "colab": {
     "base_uri": "https://localhost:8080/",
     "height": 231
    },
    "id": "dEU0tzE3otdA",
    "outputId": "2a9b88dc-c248-4e22-88cd-bdb19c2265eb"
   },
   "outputs": [
    {
     "data": {
      "text/html": [
       "<table class=\"data-frame\"><thead><tr><th></th><th>Married</th><th>Age_mean</th><th>Kids_median</th></tr><tr><th></th><th>Cat…</th><th>Float64</th><th>Float64</th></tr></thead><tbody><p>7 rows × 3 columns</p><tr><th>1</th><td>married</td><td>38.5718</td><td>2.0</td></tr><tr><th>2</th><td>never married</td><td>36.1263</td><td>1.0</td></tr><tr><th>3</th><td>widowed</td><td>41.5111</td><td>3.0</td></tr><tr><th>4</th><td>divorced</td><td>39.5938</td><td>2.0</td></tr><tr><th>5</th><td>separated</td><td>38.1893</td><td>2.0</td></tr><tr><th>6</th><td>NA/DF</td><td>38.3333</td><td>0.0</td></tr><tr><th>7</th><td>no histories</td><td>46.3953</td><td>99.0</td></tr></tbody></table>"
      ],
      "text/latex": [
       "\\begin{tabular}{r|ccc}\n",
       "\t& Married & Age\\_mean & Kids\\_median\\\\\n",
       "\t\\hline\n",
       "\t& Cat… & Float64 & Float64\\\\\n",
       "\t\\hline\n",
       "\t1 & married & 38.5718 & 2.0 \\\\\n",
       "\t2 & never married & 36.1263 & 1.0 \\\\\n",
       "\t3 & widowed & 41.5111 & 3.0 \\\\\n",
       "\t4 & divorced & 39.5938 & 2.0 \\\\\n",
       "\t5 & separated & 38.1893 & 2.0 \\\\\n",
       "\t6 & NA/DF & 38.3333 & 0.0 \\\\\n",
       "\t7 & no histories & 46.3953 & 99.0 \\\\\n",
       "\\end{tabular}\n"
      ],
      "text/plain": [
       "\u001b[1m7×3 DataFrame\u001b[0m\n",
       "\u001b[1m Row \u001b[0m│\u001b[1m Married       \u001b[0m\u001b[1m Age_mean \u001b[0m\u001b[1m Kids_median \u001b[0m\n",
       "\u001b[1m     \u001b[0m│\u001b[90m Cat…          \u001b[0m\u001b[90m Float64  \u001b[0m\u001b[90m Float64     \u001b[0m\n",
       "─────┼──────────────────────────────────────\n",
       "   1 │ married         38.5718          2.0\n",
       "   2 │ never married   36.1263          1.0\n",
       "   3 │ widowed         41.5111          3.0\n",
       "   4 │ divorced        39.5938          2.0\n",
       "   5 │ separated       38.1893          2.0\n",
       "   6 │ NA/DF           38.3333          0.0\n",
       "   7 │ no histories    46.3953         99.0"
      ]
     },
     "execution_count": 11,
     "metadata": {
      "tags": []
     },
     "output_type": "execute_result"
    }
   ],
   "source": [
    "combine(groupby_married_psid, :Age => mean, :Kids =>median)"
   ]
  },
  {
   "cell_type": "markdown",
   "metadata": {
    "id": "S5TxX7MHyN-6"
   },
   "source": [
    "#### `combine(gdf, x -> operation(operation(vab1), operation(vab2)))`\n",
    "---"
   ]
  },
  {
   "cell_type": "markdown",
   "metadata": {
    "id": "ZR-3pPVwyaA_"
   },
   "source": [
    "Делает операции над признаками **vab1, vab2** и выводит их значения для каждого датасета **gdf[i]**"
   ]
  },
  {
   "cell_type": "code",
   "execution_count": null,
   "metadata": {
    "colab": {
     "base_uri": "https://localhost:8080/",
     "height": 237
    },
    "id": "w6Yrb-cVxIWr",
    "outputId": "45666ec0-2254-4270-cf8f-c3360a5ae666"
   },
   "outputs": [
    {
     "data": {
      "text/html": [
       "<table class=\"data-frame\"><thead><tr><th></th><th>Married</th><th>x1</th></tr><tr><th></th><th>Cat…</th><th>Float64</th></tr></thead><tbody><p>7 rows × 2 columns</p><tr><th>1</th><td>married</td><td>163.937</td></tr><tr><th>2</th><td>never married</td><td>194.89</td></tr><tr><th>3</th><td>widowed</td><td>193.764</td></tr><tr><th>4</th><td>divorced</td><td>176.545</td></tr><tr><th>5</th><td>separated</td><td>186.477</td></tr><tr><th>6</th><td>NA/DF</td><td>144.557</td></tr><tr><th>7</th><td>no histories</td><td>332.335</td></tr></tbody></table>"
      ],
      "text/latex": [
       "\\begin{tabular}{r|cc}\n",
       "\t& Married & x1\\\\\n",
       "\t\\hline\n",
       "\t& Cat… & Float64\\\\\n",
       "\t\\hline\n",
       "\t1 & married & 163.937 \\\\\n",
       "\t2 & never married & 194.89 \\\\\n",
       "\t3 & widowed & 193.764 \\\\\n",
       "\t4 & divorced & 176.545 \\\\\n",
       "\t5 & separated & 186.477 \\\\\n",
       "\t6 & NA/DF & 144.557 \\\\\n",
       "\t7 & no histories & 332.335 \\\\\n",
       "\\end{tabular}\n"
      ],
      "text/plain": [
       "\u001b[1m7×2 DataFrame\u001b[0m\n",
       "\u001b[1m Row \u001b[0m│\u001b[1m Married       \u001b[0m\u001b[1m x1      \u001b[0m\n",
       "\u001b[1m     \u001b[0m│\u001b[90m Cat…          \u001b[0m\u001b[90m Float64 \u001b[0m\n",
       "─────┼────────────────────────\n",
       "   1 │ married        163.937\n",
       "   2 │ never married  194.89\n",
       "   3 │ widowed        193.764\n",
       "   4 │ divorced       176.545\n",
       "   5 │ separated      186.477\n",
       "   6 │ NA/DF          144.557\n",
       "   7 │ no histories   332.335"
      ]
     },
     "execution_count": 63,
     "metadata": {
      "tags": []
     },
     "output_type": "execute_result"
    }
   ],
   "source": [
    "combine(groupby_married_psid, x -> std(x.Hours) / std(x.Age))"
   ]
  },
  {
   "cell_type": "markdown",
   "metadata": {
    "id": "0yICbexpH31y"
   },
   "source": [
    "#### `combine(gdf) do df  (operations) end`\n",
    "---"
   ]
  },
  {
   "cell_type": "markdown",
   "metadata": {
    "id": "HBeIJedyHYmZ"
   },
   "source": [
    "Можно использовать оператор **do**:"
   ]
  },
  {
   "cell_type": "code",
   "execution_count": null,
   "metadata": {
    "colab": {
     "base_uri": "https://localhost:8080/",
     "height": 237
    },
    "id": "3akYt4kbHcmq",
    "outputId": "94ad7546-fe7a-430b-f0ee-89ae41de1cc0"
   },
   "outputs": [
    {
     "data": {
      "text/html": [
       "<table class=\"data-frame\"><thead><tr><th></th><th>Married</th><th>m</th><th>s²</th></tr><tr><th></th><th>Cat…</th><th>Float64</th><th>Float64</th></tr></thead><tbody><p>7 rows × 3 columns</p><tr><th>1</th><td>married</td><td>1257.64</td><td>829583.0</td></tr><tr><th>2</th><td>never married</td><td>1095.27</td><td>9.88714e5</td></tr><tr><th>3</th><td>widowed</td><td>998.333</td><td>1.20247e6</td></tr><tr><th>4</th><td>divorced</td><td>1422.43</td><td>906077.0</td></tr><tr><th>5</th><td>separated</td><td>1086.0</td><td>9.72851e5</td></tr><tr><th>6</th><td>NA/DF</td><td>981.444</td><td>8.82884e5</td></tr><tr><th>7</th><td>no histories</td><td>704.419</td><td>1.64691e6</td></tr></tbody></table>"
      ],
      "text/latex": [
       "\\begin{tabular}{r|ccc}\n",
       "\t& Married & m & s²\\\\\n",
       "\t\\hline\n",
       "\t& Cat… & Float64 & Float64\\\\\n",
       "\t\\hline\n",
       "\t1 & married & 1257.64 & 829583.0 \\\\\n",
       "\t2 & never married & 1095.27 & 9.88714e5 \\\\\n",
       "\t3 & widowed & 998.333 & 1.20247e6 \\\\\n",
       "\t4 & divorced & 1422.43 & 906077.0 \\\\\n",
       "\t5 & separated & 1086.0 & 9.72851e5 \\\\\n",
       "\t6 & NA/DF & 981.444 & 8.82884e5 \\\\\n",
       "\t7 & no histories & 704.419 & 1.64691e6 \\\\\n",
       "\\end{tabular}\n"
      ],
      "text/plain": [
       "\u001b[1m7×3 DataFrame\u001b[0m\n",
       "\u001b[1m Row \u001b[0m│\u001b[1m Married       \u001b[0m\u001b[1m m        \u001b[0m\u001b[1m s²             \u001b[0m\n",
       "\u001b[1m     \u001b[0m│\u001b[90m Cat…          \u001b[0m\u001b[90m Float64  \u001b[0m\u001b[90m Float64        \u001b[0m\n",
       "─────┼─────────────────────────────────────────\n",
       "   1 │ married        1257.64   829583.0\n",
       "   2 │ never married  1095.27        9.88714e5\n",
       "   3 │ widowed         998.333       1.20247e6\n",
       "   4 │ divorced       1422.43   906077.0\n",
       "   5 │ separated      1086.0         9.72851e5\n",
       "   6 │ NA/DF           981.444       8.82884e5\n",
       "   7 │ no histories    704.419       1.64691e6"
      ]
     },
     "execution_count": 62,
     "metadata": {
      "tags": []
     },
     "output_type": "execute_result"
    }
   ],
   "source": [
    "combine(groupby_married_psid) do df\n",
    "           (m = mean(df.Hours), s² = var(df.Hours))\n",
    "       end"
   ]
  },
  {
   "cell_type": "markdown",
   "metadata": {
    "id": "j5YTmRhTIVYv"
   },
   "source": [
    "#### `combine(gdf, AsTable([vab1, vab2]) => x ->operations))`\n",
    "---"
   ]
  },
  {
   "cell_type": "markdown",
   "metadata": {
    "id": "s7GAk8PCypN4"
   },
   "source": [
    "Результат такой же, написано по-другому:"
   ]
  },
  {
   "cell_type": "code",
   "execution_count": null,
   "metadata": {
    "colab": {
     "base_uri": "https://localhost:8080/",
     "height": 231
    },
    "id": "I9mk3IG3qsI4",
    "outputId": "e0f49e58-9ee8-466a-da4f-63bfe228fa78"
   },
   "outputs": [
    {
     "data": {
      "text/html": [
       "<table class=\"data-frame\"><thead><tr><th></th><th>Married</th><th>Hours_Age_function</th></tr><tr><th></th><th>Cat…</th><th>Float64</th></tr></thead><tbody><p>7 rows × 2 columns</p><tr><th>1</th><td>married</td><td>163.937</td></tr><tr><th>2</th><td>never married</td><td>194.89</td></tr><tr><th>3</th><td>widowed</td><td>193.764</td></tr><tr><th>4</th><td>divorced</td><td>176.545</td></tr><tr><th>5</th><td>separated</td><td>186.477</td></tr><tr><th>6</th><td>NA/DF</td><td>144.557</td></tr><tr><th>7</th><td>no histories</td><td>332.335</td></tr></tbody></table>"
      ],
      "text/latex": [
       "\\begin{tabular}{r|cc}\n",
       "\t& Married & Hours\\_Age\\_function\\\\\n",
       "\t\\hline\n",
       "\t& Cat… & Float64\\\\\n",
       "\t\\hline\n",
       "\t1 & married & 163.937 \\\\\n",
       "\t2 & never married & 194.89 \\\\\n",
       "\t3 & widowed & 193.764 \\\\\n",
       "\t4 & divorced & 176.545 \\\\\n",
       "\t5 & separated & 186.477 \\\\\n",
       "\t6 & NA/DF & 144.557 \\\\\n",
       "\t7 & no histories & 332.335 \\\\\n",
       "\\end{tabular}\n"
      ],
      "text/plain": [
       "\u001b[1m7×2 DataFrame\u001b[0m\n",
       "\u001b[1m Row \u001b[0m│\u001b[1m Married       \u001b[0m\u001b[1m Hours_Age_function \u001b[0m\n",
       "\u001b[1m     \u001b[0m│\u001b[90m Cat…          \u001b[0m\u001b[90m Float64            \u001b[0m\n",
       "─────┼───────────────────────────────────\n",
       "   1 │ married                   163.937\n",
       "   2 │ never married             194.89\n",
       "   3 │ widowed                   193.764\n",
       "   4 │ divorced                  176.545\n",
       "   5 │ separated                 186.477\n",
       "   6 │ NA/DF                     144.557\n",
       "   7 │ no histories              332.335"
      ]
     },
     "execution_count": 13,
     "metadata": {
      "tags": []
     },
     "output_type": "execute_result"
    }
   ],
   "source": [
    "combine(groupby_married_psid,\n",
    "        AsTable([:Hours, :Age]) =>\n",
    "        x -> std(x.Hours) / std(x.Age))"
   ]
  },
  {
   "cell_type": "markdown",
   "metadata": {
    "id": "YzLRXHK1v7vZ"
   },
   "source": [
    "#### `combine(gdf, [:vab1, :vab2] => ((p,s) ->(a = operations(p,s), b=operations(p,s))) => AsTable)`\n",
    "---"
   ]
  },
  {
   "cell_type": "markdown",
   "metadata": {
    "id": "hIrqQA-FvtEf"
   },
   "source": [
    "Данная операция применима в том случае, если операции над признаками происходят совместно, тогда:\n",
    "\n",
    "**vab1, vab2** - признаки\n",
    "\n",
    "**operations** - математические операции из пакета Statistics"
   ]
  },
  {
   "cell_type": "code",
   "execution_count": null,
   "metadata": {
    "colab": {
     "base_uri": "https://localhost:8080/",
     "height": 231
    },
    "id": "yR0iU9XeqR92",
    "outputId": "06789cf6-21cb-4e1a-bd08-814ea86a1de9"
   },
   "outputs": [
    {
     "data": {
      "text/html": [
       "<table class=\"data-frame\"><thead><tr><th></th><th>Married</th><th>a</th><th>b</th></tr><tr><th></th><th>Cat…</th><th>Float64</th><th>Int64</th></tr></thead><tbody><p>7 rows × 3 columns</p><tr><th>1</th><td>married</td><td>11.881</td><td>118454</td></tr><tr><th>2</th><td>never married</td><td>10.2466</td><td>24602</td></tr><tr><th>3</th><td>widowed</td><td>11.6025</td><td>3736</td></tr><tr><th>4</th><td>divorced</td><td>7.27993</td><td>25538</td></tr><tr><th>5</th><td>separated</td><td>9.33385</td><td>12106</td></tr><tr><th>6</th><td>NA/DF</td><td>57.5</td><td>345</td></tr><tr><th>7</th><td>no histories</td><td>0.46864</td><td>1995</td></tr></tbody></table>"
      ],
      "text/latex": [
       "\\begin{tabular}{r|ccc}\n",
       "\t& Married & a & b\\\\\n",
       "\t\\hline\n",
       "\t& Cat… & Float64 & Int64\\\\\n",
       "\t\\hline\n",
       "\t1 & married & 11.881 & 118454 \\\\\n",
       "\t2 & never married & 10.2466 & 24602 \\\\\n",
       "\t3 & widowed & 11.6025 & 3736 \\\\\n",
       "\t4 & divorced & 7.27993 & 25538 \\\\\n",
       "\t5 & separated & 9.33385 & 12106 \\\\\n",
       "\t6 & NA/DF & 57.5 & 345 \\\\\n",
       "\t7 & no histories & 0.46864 & 1995 \\\\\n",
       "\\end{tabular}\n"
      ],
      "text/plain": [
       "\u001b[1m7×3 DataFrame\u001b[0m\n",
       "\u001b[1m Row \u001b[0m│\u001b[1m Married       \u001b[0m\u001b[1m a        \u001b[0m\u001b[1m b      \u001b[0m\n",
       "\u001b[1m     \u001b[0m│\u001b[90m Cat…          \u001b[0m\u001b[90m Float64  \u001b[0m\u001b[90m Int64  \u001b[0m\n",
       "─────┼─────────────────────────────────\n",
       "   1 │ married        11.881    118454\n",
       "   2 │ never married  10.2466    24602\n",
       "   3 │ widowed        11.6025     3736\n",
       "   4 │ divorced        7.27993   25538\n",
       "   5 │ separated       9.33385   12106\n",
       "   6 │ NA/DF          57.5         345\n",
       "   7 │ no histories    0.46864    1995"
      ]
     },
     "execution_count": 14,
     "metadata": {
      "tags": []
     },
     "output_type": "execute_result"
    }
   ],
   "source": [
    "combine(groupby_married_psid, [:Age, :Kids] => ((p, s) -> (a=mean(p)/mean(s), b=sum(p))) =>\n",
    "               AsTable)"
   ]
  },
  {
   "cell_type": "markdown",
   "metadata": {
    "id": "7v779PTaxiWB"
   },
   "source": [
    "#### `combine(gdf, 1:2 => cor, nrow)`\n",
    "---"
   ]
  },
  {
   "cell_type": "markdown",
   "metadata": {
    "id": "OBPNvq9yxlS6"
   },
   "source": [
    "Выводит корреляции между признаками **vab1, vab2** для каждого из датасетов **gdf[i]**, и показывает количество элементов в них"
   ]
  },
  {
   "cell_type": "code",
   "execution_count": null,
   "metadata": {
    "colab": {
     "base_uri": "https://localhost:8080/",
     "height": 231
    },
    "id": "JrMuFo_xxQmJ",
    "outputId": "349ab982-0a39-45a7-9d98-7f76e450077d"
   },
   "outputs": [
    {
     "data": {
      "text/html": [
       "<table class=\"data-frame\"><thead><tr><th></th><th>Married</th><th>IntNum_PersNum_cor</th><th>nrow</th></tr><tr><th></th><th>Cat…</th><th>Float64</th><th>Int64</th></tr></thead><tbody><p>7 rows × 3 columns</p><tr><th>1</th><td>married</td><td>-0.274585</td><td>3071</td></tr><tr><th>2</th><td>never married</td><td>-0.0749709</td><td>681</td></tr><tr><th>3</th><td>widowed</td><td>-0.116083</td><td>90</td></tr><tr><th>4</th><td>divorced</td><td>-0.178516</td><td>645</td></tr><tr><th>5</th><td>separated</td><td>-0.133641</td><td>317</td></tr><tr><th>6</th><td>NA/DF</td><td>0.240185</td><td>9</td></tr><tr><th>7</th><td>no histories</td><td>0.392778</td><td>43</td></tr></tbody></table>"
      ],
      "text/latex": [
       "\\begin{tabular}{r|ccc}\n",
       "\t& Married & IntNum\\_PersNum\\_cor & nrow\\\\\n",
       "\t\\hline\n",
       "\t& Cat… & Float64 & Int64\\\\\n",
       "\t\\hline\n",
       "\t1 & married & -0.274585 & 3071 \\\\\n",
       "\t2 & never married & -0.0749709 & 681 \\\\\n",
       "\t3 & widowed & -0.116083 & 90 \\\\\n",
       "\t4 & divorced & -0.178516 & 645 \\\\\n",
       "\t5 & separated & -0.133641 & 317 \\\\\n",
       "\t6 & NA/DF & 0.240185 & 9 \\\\\n",
       "\t7 & no histories & 0.392778 & 43 \\\\\n",
       "\\end{tabular}\n"
      ],
      "text/plain": [
       "\u001b[1m7×3 DataFrame\u001b[0m\n",
       "\u001b[1m Row \u001b[0m│\u001b[1m Married       \u001b[0m\u001b[1m IntNum_PersNum_cor \u001b[0m\u001b[1m nrow  \u001b[0m\n",
       "\u001b[1m     \u001b[0m│\u001b[90m Cat…          \u001b[0m\u001b[90m Float64            \u001b[0m\u001b[90m Int64 \u001b[0m\n",
       "─────┼──────────────────────────────────────────\n",
       "   1 │ married                -0.274585    3071\n",
       "   2 │ never married          -0.0749709    681\n",
       "   3 │ widowed                -0.116083      90\n",
       "   4 │ divorced               -0.178516     645\n",
       "   5 │ separated              -0.133641     317\n",
       "   6 │ NA/DF                   0.240185       9\n",
       "   7 │ no histories            0.392778      43"
      ]
     },
     "execution_count": 15,
     "metadata": {
      "tags": []
     },
     "output_type": "execute_result"
    }
   ],
   "source": [
    "combine(groupby_married_psid, 1:2 => cor, nrow)"
   ]
  },
  {
   "cell_type": "markdown",
   "metadata": {
    "id": "oHnyNilxzfp6"
   },
   "source": [
    "### __select__\n"
   ]
  },
  {
   "cell_type": "markdown",
   "metadata": {
    "id": "MhHSQSa9fG9U"
   },
   "source": [
    "#### `select(df, x)`\n",
    "---\n",
    "Позволяет выбрать из всего датафрейма одну колонку с номером x. Если необходимо выбрать колонку по ее названию, то можно воспользоваться `select(df, :name)`"
   ]
  },
  {
   "cell_type": "code",
   "execution_count": null,
   "metadata": {
    "colab": {
     "base_uri": "https://localhost:8080/",
     "height": 195
    },
    "id": "UFof7F4lfcxs",
    "outputId": "5923d0b9-3ee3-411d-9924-1a4118bf71da"
   },
   "outputs": [
    {
     "data": {
      "text/html": [
       "<table class=\"data-frame\"><thead><tr><th></th><th>Earnings</th></tr><tr><th></th><th>Int32</th></tr></thead><tbody><p>5 rows × 1 columns</p><tr><th>1</th><td>77250</td></tr><tr><th>2</th><td>8000</td></tr><tr><th>3</th><td>15000</td></tr><tr><th>4</th><td>6500</td></tr><tr><th>5</th><td>6500</td></tr></tbody></table>"
      ],
      "text/latex": [
       "\\begin{tabular}{r|c}\n",
       "\t& Earnings\\\\\n",
       "\t\\hline\n",
       "\t& Int32\\\\\n",
       "\t\\hline\n",
       "\t1 & 77250 \\\\\n",
       "\t2 & 8000 \\\\\n",
       "\t3 & 15000 \\\\\n",
       "\t4 & 6500 \\\\\n",
       "\t5 & 6500 \\\\\n",
       "\\end{tabular}\n"
      ],
      "text/plain": [
       "\u001b[1m5×1 DataFrame\u001b[0m\n",
       "\u001b[1m Row \u001b[0m│\u001b[1m Earnings \u001b[0m\n",
       "\u001b[1m     \u001b[0m│\u001b[90m Int32    \u001b[0m\n",
       "─────┼──────────\n",
       "   1 │    77250\n",
       "   2 │     8000\n",
       "   3 │    15000\n",
       "   4 │     6500\n",
       "   5 │     6500"
      ]
     },
     "execution_count": 32,
     "metadata": {
      "tags": []
     },
     "output_type": "execute_result"
    }
   ],
   "source": [
    "first(select(married_psid, :Earnings), 5)"
   ]
  },
  {
   "cell_type": "markdown",
   "metadata": {
    "id": "vhw1tLiBibgM"
   },
   "source": [
    "#### `select(df, Not(:name))`\n",
    "---\n",
    "Выбор всего датафрейма за исключением определенной колонки"
   ]
  },
  {
   "cell_type": "code",
   "execution_count": null,
   "metadata": {
    "colab": {
     "base_uri": "https://localhost:8080/",
     "height": 190
    },
    "id": "MV8EZIYWkPJT",
    "outputId": "c6a60626-2efd-47e7-f61d-c4a3daef1f0c"
   },
   "outputs": [
    {
     "data": {
      "text/html": [
       "<table class=\"data-frame\"><thead><tr><th></th><th>IntNum</th><th>PersNum</th><th>Age</th><th>Educatn</th><th>Hours</th><th>Kids</th><th>Married</th></tr><tr><th></th><th>Int32</th><th>Int32</th><th>Int32</th><th>Int32?</th><th>Int32</th><th>Int32</th><th>Cat…</th></tr></thead><tbody><p>5 rows × 7 columns</p><tr><th>1</th><td>4</td><td>4</td><td>39</td><td>12</td><td>2940</td><td>2</td><td>married</td></tr><tr><th>2</th><td>4</td><td>7</td><td>33</td><td>12</td><td>693</td><td>1</td><td>married</td></tr><tr><th>3</th><td>4</td><td>173</td><td>39</td><td>10</td><td>1904</td><td>2</td><td>married</td></tr><tr><th>4</th><td>5</td><td>2</td><td>47</td><td>9</td><td>1683</td><td>5</td><td>married</td></tr><tr><th>5</th><td>6</td><td>4</td><td>44</td><td>12</td><td>2024</td><td>2</td><td>married</td></tr></tbody></table>"
      ],
      "text/latex": [
       "\\begin{tabular}{r|ccccccc}\n",
       "\t& IntNum & PersNum & Age & Educatn & Hours & Kids & Married\\\\\n",
       "\t\\hline\n",
       "\t& Int32 & Int32 & Int32 & Int32? & Int32 & Int32 & Cat…\\\\\n",
       "\t\\hline\n",
       "\t1 & 4 & 4 & 39 & 12 & 2940 & 2 & married \\\\\n",
       "\t2 & 4 & 7 & 33 & 12 & 693 & 1 & married \\\\\n",
       "\t3 & 4 & 173 & 39 & 10 & 1904 & 2 & married \\\\\n",
       "\t4 & 5 & 2 & 47 & 9 & 1683 & 5 & married \\\\\n",
       "\t5 & 6 & 4 & 44 & 12 & 2024 & 2 & married \\\\\n",
       "\\end{tabular}\n"
      ],
      "text/plain": [
       "\u001b[1m5×7 DataFrame\u001b[0m\n",
       "\u001b[1m Row \u001b[0m│\u001b[1m IntNum \u001b[0m\u001b[1m PersNum \u001b[0m\u001b[1m Age   \u001b[0m\u001b[1m Educatn \u001b[0m\u001b[1m Hours \u001b[0m\u001b[1m Kids  \u001b[0m\u001b[1m Married \u001b[0m\n",
       "\u001b[1m     \u001b[0m│\u001b[90m Int32  \u001b[0m\u001b[90m Int32   \u001b[0m\u001b[90m Int32 \u001b[0m\u001b[90m Int32?  \u001b[0m\u001b[90m Int32 \u001b[0m\u001b[90m Int32 \u001b[0m\u001b[90m Cat…    \u001b[0m\n",
       "─────┼────────────────────────────────────────────────────────\n",
       "   1 │      4        4     39       12   2940      2  married\n",
       "   2 │      4        7     33       12    693      1  married\n",
       "   3 │      4      173     39       10   1904      2  married\n",
       "   4 │      5        2     47        9   1683      5  married\n",
       "   5 │      6        4     44       12   2024      2  married"
      ]
     },
     "execution_count": 23,
     "metadata": {
      "tags": []
     },
     "output_type": "execute_result"
    }
   ],
   "source": [
    "first(select(married_psid, Not(:Earnings)), 5)"
   ]
  },
  {
   "cell_type": "markdown",
   "metadata": {
    "id": "HJA81Zd4ka1_"
   },
   "source": [
    "#### `select(gd, :c => operation, nrow)`\n",
    "---\n",
    "К сгруппированному датасету применяется операция по колонке\n"
   ]
  },
  {
   "cell_type": "code",
   "execution_count": null,
   "metadata": {
    "colab": {
     "base_uri": "https://localhost:8080/",
     "height": 292
    },
    "id": "7bAz-uIok68h",
    "outputId": "96cc3c1e-053d-4cda-afeb-8c951a18c283"
   },
   "outputs": [
    {
     "data": {
      "text/html": [
       "<table class=\"data-frame\"><thead><tr><th></th><th>Married</th><th>Kids_sum</th></tr><tr><th></th><th>Cat…</th><th>Int64</th></tr></thead><tbody><p>10 rows × 2 columns</p><tr><th>1</th><td>married</td><td>9970</td></tr><tr><th>2</th><td>divorced</td><td>3508</td></tr><tr><th>3</th><td>married</td><td>9970</td></tr><tr><th>4</th><td>married</td><td>9970</td></tr><tr><th>5</th><td>married</td><td>9970</td></tr><tr><th>6</th><td>married</td><td>9970</td></tr><tr><th>7</th><td>married</td><td>9970</td></tr><tr><th>8</th><td>divorced</td><td>3508</td></tr><tr><th>9</th><td>married</td><td>9970</td></tr><tr><th>10</th><td>married</td><td>9970</td></tr></tbody></table>"
      ],
      "text/latex": [
       "\\begin{tabular}{r|cc}\n",
       "\t& Married & Kids\\_sum\\\\\n",
       "\t\\hline\n",
       "\t& Cat… & Int64\\\\\n",
       "\t\\hline\n",
       "\t1 & married & 9970 \\\\\n",
       "\t2 & divorced & 3508 \\\\\n",
       "\t3 & married & 9970 \\\\\n",
       "\t4 & married & 9970 \\\\\n",
       "\t5 & married & 9970 \\\\\n",
       "\t6 & married & 9970 \\\\\n",
       "\t7 & married & 9970 \\\\\n",
       "\t8 & divorced & 3508 \\\\\n",
       "\t9 & married & 9970 \\\\\n",
       "\t10 & married & 9970 \\\\\n",
       "\\end{tabular}\n"
      ],
      "text/plain": [
       "\u001b[1m10×2 DataFrame\u001b[0m\n",
       "\u001b[1m Row \u001b[0m│\u001b[1m Married  \u001b[0m\u001b[1m Kids_sum \u001b[0m\n",
       "\u001b[1m     \u001b[0m│\u001b[90m Cat…     \u001b[0m\u001b[90m Int64    \u001b[0m\n",
       "─────┼────────────────────\n",
       "   1 │ married       9970\n",
       "   2 │ divorced      3508\n",
       "   3 │ married       9970\n",
       "   4 │ married       9970\n",
       "   5 │ married       9970\n",
       "   6 │ married       9970\n",
       "   7 │ married       9970\n",
       "   8 │ divorced      3508\n",
       "   9 │ married       9970\n",
       "  10 │ married       9970"
      ]
     },
     "execution_count": 34,
     "metadata": {
      "tags": []
     },
     "output_type": "execute_result"
    }
   ],
   "source": [
    "first(select(groupby_married_psid, :Kids => sum), 10) # суммирование количества детей по катеогории Married"
   ]
  },
  {
   "cell_type": "markdown",
   "metadata": {
    "id": "tdrQOIGnnGYB"
   },
   "source": [
    "Такую же операцию можно применить, разделив сгруппированные датасеты с помощью `ungroup=False`, а затем вывести определенный датасет с помощью [number]"
   ]
  },
  {
   "cell_type": "code",
   "execution_count": null,
   "metadata": {
    "colab": {
     "base_uri": "https://localhost:8080/",
     "height": 722
    },
    "id": "BByUpRZynSCI",
    "outputId": "ca715068-6797-4ebc-ba8f-f39a72550d16"
   },
   "outputs": [
    {
     "data": {
      "text/html": [
       "<table class=\"data-frame\"><thead><tr><th></th><th>Married</th><th>Kids_sum</th></tr><tr><th></th><th>Cat…</th><th>Int64</th></tr></thead><tbody><p>3,071 rows × 2 columns</p><tr><th>1</th><td>married</td><td>9970</td></tr><tr><th>2</th><td>married</td><td>9970</td></tr><tr><th>3</th><td>married</td><td>9970</td></tr><tr><th>4</th><td>married</td><td>9970</td></tr><tr><th>5</th><td>married</td><td>9970</td></tr><tr><th>6</th><td>married</td><td>9970</td></tr><tr><th>7</th><td>married</td><td>9970</td></tr><tr><th>8</th><td>married</td><td>9970</td></tr><tr><th>9</th><td>married</td><td>9970</td></tr><tr><th>10</th><td>married</td><td>9970</td></tr><tr><th>11</th><td>married</td><td>9970</td></tr><tr><th>12</th><td>married</td><td>9970</td></tr><tr><th>13</th><td>married</td><td>9970</td></tr><tr><th>14</th><td>married</td><td>9970</td></tr><tr><th>15</th><td>married</td><td>9970</td></tr><tr><th>16</th><td>married</td><td>9970</td></tr><tr><th>17</th><td>married</td><td>9970</td></tr><tr><th>18</th><td>married</td><td>9970</td></tr><tr><th>19</th><td>married</td><td>9970</td></tr><tr><th>20</th><td>married</td><td>9970</td></tr><tr><th>21</th><td>married</td><td>9970</td></tr><tr><th>22</th><td>married</td><td>9970</td></tr><tr><th>23</th><td>married</td><td>9970</td></tr><tr><th>24</th><td>married</td><td>9970</td></tr><tr><th>25</th><td>married</td><td>9970</td></tr><tr><th>26</th><td>married</td><td>9970</td></tr><tr><th>27</th><td>married</td><td>9970</td></tr><tr><th>28</th><td>married</td><td>9970</td></tr><tr><th>29</th><td>married</td><td>9970</td></tr><tr><th>30</th><td>married</td><td>9970</td></tr><tr><th>&vellip;</th><td>&vellip;</td><td>&vellip;</td></tr></tbody></table>"
      ],
      "text/latex": [
       "\\begin{tabular}{r|cc}\n",
       "\t& Married & Kids\\_sum\\\\\n",
       "\t\\hline\n",
       "\t& Cat… & Int64\\\\\n",
       "\t\\hline\n",
       "\t1 & married & 9970 \\\\\n",
       "\t2 & married & 9970 \\\\\n",
       "\t3 & married & 9970 \\\\\n",
       "\t4 & married & 9970 \\\\\n",
       "\t5 & married & 9970 \\\\\n",
       "\t6 & married & 9970 \\\\\n",
       "\t7 & married & 9970 \\\\\n",
       "\t8 & married & 9970 \\\\\n",
       "\t9 & married & 9970 \\\\\n",
       "\t10 & married & 9970 \\\\\n",
       "\t11 & married & 9970 \\\\\n",
       "\t12 & married & 9970 \\\\\n",
       "\t13 & married & 9970 \\\\\n",
       "\t14 & married & 9970 \\\\\n",
       "\t15 & married & 9970 \\\\\n",
       "\t16 & married & 9970 \\\\\n",
       "\t17 & married & 9970 \\\\\n",
       "\t18 & married & 9970 \\\\\n",
       "\t19 & married & 9970 \\\\\n",
       "\t20 & married & 9970 \\\\\n",
       "\t21 & married & 9970 \\\\\n",
       "\t22 & married & 9970 \\\\\n",
       "\t23 & married & 9970 \\\\\n",
       "\t24 & married & 9970 \\\\\n",
       "\t25 & married & 9970 \\\\\n",
       "\t26 & married & 9970 \\\\\n",
       "\t27 & married & 9970 \\\\\n",
       "\t28 & married & 9970 \\\\\n",
       "\t29 & married & 9970 \\\\\n",
       "\t30 & married & 9970 \\\\\n",
       "\t$\\dots$ & $\\dots$ & $\\dots$ \\\\\n",
       "\\end{tabular}\n"
      ],
      "text/plain": [
       "\u001b[1m3071×2 SubDataFrame\u001b[0m\n",
       "\u001b[1m  Row \u001b[0m│\u001b[1m Married \u001b[0m\u001b[1m Kids_sum \u001b[0m\n",
       "\u001b[1m      \u001b[0m│\u001b[90m Cat…    \u001b[0m\u001b[90m Int64    \u001b[0m\n",
       "──────┼───────────────────\n",
       "    1 │ married      9970\n",
       "    2 │ married      9970\n",
       "    3 │ married      9970\n",
       "    4 │ married      9970\n",
       "    5 │ married      9970\n",
       "    6 │ married      9970\n",
       "    7 │ married      9970\n",
       "    8 │ married      9970\n",
       "    9 │ married      9970\n",
       "   10 │ married      9970\n",
       "   11 │ married      9970\n",
       "  ⋮   │    ⋮        ⋮\n",
       " 3062 │ married      9970\n",
       " 3063 │ married      9970\n",
       " 3064 │ married      9970\n",
       " 3065 │ married      9970\n",
       " 3066 │ married      9970\n",
       " 3067 │ married      9970\n",
       " 3068 │ married      9970\n",
       " 3069 │ married      9970\n",
       " 3070 │ married      9970\n",
       " 3071 │ married      9970\n",
       "\u001b[36m         3050 rows omitted\u001b[0m"
      ]
     },
     "execution_count": 39,
     "metadata": {
      "tags": []
     },
     "output_type": "execute_result"
    }
   ],
   "source": [
    "select(groupby_married_psid, :Kids => sum, ungroup=false)[1]"
   ]
  },
  {
   "cell_type": "markdown",
   "metadata": {
    "id": "r2OOd5oRpeqG"
   },
   "source": [
    "#### `select(df, :a => (x -> operation) => :c, [:b, :f])`\n",
    "---\n",
    "Выбор колонки а и применение к ней определенной операции, после чего ее переименование в с. Вывод преобразованной колонки и добавление к ней колонок b и f\n",
    "\n",
    "_Для примера переведем часы из исходного датасета в дни, поделив значения на 24, соответственно и переименуем колонку_"
   ]
  },
  {
   "cell_type": "code",
   "execution_count": null,
   "metadata": {
    "colab": {
     "base_uri": "https://localhost:8080/",
     "height": 190
    },
    "id": "nf2_wb60pfLp",
    "outputId": "945e738b-7542-4971-a79c-d9f12027d1f5"
   },
   "outputs": [
    {
     "data": {
      "text/html": [
       "<table class=\"data-frame\"><thead><tr><th></th><th>Days</th><th>Educatn</th><th>Age</th></tr><tr><th></th><th>Float64</th><th>Int32?</th><th>Int32</th></tr></thead><tbody><p>5 rows × 3 columns</p><tr><th>1</th><td>122.5</td><td>12</td><td>39</td></tr><tr><th>2</th><td>28.875</td><td>12</td><td>33</td></tr><tr><th>3</th><td>79.3333</td><td>10</td><td>39</td></tr><tr><th>4</th><td>70.125</td><td>9</td><td>47</td></tr><tr><th>5</th><td>84.3333</td><td>12</td><td>44</td></tr></tbody></table>"
      ],
      "text/latex": [
       "\\begin{tabular}{r|ccc}\n",
       "\t& Days & Educatn & Age\\\\\n",
       "\t\\hline\n",
       "\t& Float64 & Int32? & Int32\\\\\n",
       "\t\\hline\n",
       "\t1 & 122.5 & 12 & 39 \\\\\n",
       "\t2 & 28.875 & 12 & 33 \\\\\n",
       "\t3 & 79.3333 & 10 & 39 \\\\\n",
       "\t4 & 70.125 & 9 & 47 \\\\\n",
       "\t5 & 84.3333 & 12 & 44 \\\\\n",
       "\\end{tabular}\n"
      ],
      "text/plain": [
       "\u001b[1m5×3 DataFrame\u001b[0m\n",
       "\u001b[1m Row \u001b[0m│\u001b[1m Days     \u001b[0m\u001b[1m Educatn \u001b[0m\u001b[1m Age   \u001b[0m\n",
       "\u001b[1m     \u001b[0m│\u001b[90m Float64  \u001b[0m\u001b[90m Int32?  \u001b[0m\u001b[90m Int32 \u001b[0m\n",
       "─────┼──────────────────────────\n",
       "   1 │ 122.5          12     39\n",
       "   2 │  28.875        12     33\n",
       "   3 │  79.3333       10     39\n",
       "   4 │  70.125         9     47\n",
       "   5 │  84.3333       12     44"
      ]
     },
     "execution_count": 63,
     "metadata": {
      "tags": []
     },
     "output_type": "execute_result"
    }
   ],
   "source": [
    "first(select(married_psid, :Hours => (x -> /(x, 24)) => :Days, [:Educatn, :Age]), 5)"
   ]
  },
  {
   "cell_type": "markdown",
   "metadata": {
    "id": "6dNsPy5MDtdH"
   },
   "source": [
    "#### `select(df, x:y => cor)`\n",
    "---\n",
    "Позволяет вывести корреляцию между значениями столбцов x и y в df \n",
    "\n",
    "Команда `select` возвращает датафрейм с тем же количеством строк и втом же их порядке, что и в исходном датасете. Это работает даже в том случае, если в исходном сгруппированном датасете они были переупорядочены"
   ]
  },
  {
   "cell_type": "markdown",
   "metadata": {
    "id": "EYmgDABOE01e"
   },
   "source": [
    "Найдем корреляцию между уровнем образования и доходами среди женатых людей, выведем первые 5 строк"
   ]
  },
  {
   "cell_type": "code",
   "execution_count": null,
   "metadata": {
    "colab": {
     "base_uri": "https://localhost:8080/",
     "height": 190
    },
    "id": "luAjuX8xqAVY",
    "outputId": "6fe9be7e-7858-44eb-c0e2-0e755083a8eb"
   },
   "outputs": [
    {
     "data": {
      "text/html": [
       "<table class=\"data-frame\"><thead><tr><th></th><th>Educatn_Earnings_cor</th></tr><tr><th></th><th>Float64</th></tr></thead><tbody><p>5 rows × 1 columns</p><tr><th>1</th><td>0.0504564</td></tr><tr><th>2</th><td>0.0504564</td></tr><tr><th>3</th><td>0.0504564</td></tr><tr><th>4</th><td>0.0504564</td></tr><tr><th>5</th><td>0.0504564</td></tr></tbody></table>"
      ],
      "text/latex": [
       "\\begin{tabular}{r|c}\n",
       "\t& Educatn\\_Earnings\\_cor\\\\\n",
       "\t\\hline\n",
       "\t& Float64\\\\\n",
       "\t\\hline\n",
       "\t1 & 0.0504564 \\\\\n",
       "\t2 & 0.0504564 \\\\\n",
       "\t3 & 0.0504564 \\\\\n",
       "\t4 & 0.0504564 \\\\\n",
       "\t5 & 0.0504564 \\\\\n",
       "\\end{tabular}\n"
      ],
      "text/plain": [
       "\u001b[1m5×1 DataFrame\u001b[0m\n",
       "\u001b[1m Row \u001b[0m│\u001b[1m Educatn_Earnings_cor \u001b[0m\n",
       "\u001b[1m     \u001b[0m│\u001b[90m Float64              \u001b[0m\n",
       "─────┼──────────────────────\n",
       "   1 │            0.0504564\n",
       "   2 │            0.0504564\n",
       "   3 │            0.0504564\n",
       "   4 │            0.0504564\n",
       "   5 │            0.0504564"
      ]
     },
     "execution_count": 42,
     "metadata": {
      "tags": []
     },
     "output_type": "execute_result"
    }
   ],
   "source": [
    "first(select(married_psid, 4:5 => cor), 5)"
   ]
  },
  {
   "cell_type": "markdown",
   "metadata": {
    "id": "Lzk4bBQrFRib"
   },
   "source": [
    "То же можно применить и к сгруппированному датасету, в таком случае помимо порядкового номера на выходе получим колонку с категорией"
   ]
  },
  {
   "cell_type": "code",
   "execution_count": null,
   "metadata": {
    "colab": {
     "base_uri": "https://localhost:8080/",
     "height": 292
    },
    "id": "QaIXFR_FFKmd",
    "outputId": "0ac69b84-e9da-4e43-c8e8-4fbd18eeb93e"
   },
   "outputs": [
    {
     "data": {
      "text/html": [
       "<table class=\"data-frame\"><thead><tr><th></th><th>Married</th><th>IntNum_PersNum_cor</th></tr><tr><th></th><th>Cat…</th><th>Float64</th></tr></thead><tbody><p>10 rows × 2 columns</p><tr><th>1</th><td>married</td><td>-0.274585</td></tr><tr><th>2</th><td>divorced</td><td>-0.178516</td></tr><tr><th>3</th><td>married</td><td>-0.274585</td></tr><tr><th>4</th><td>married</td><td>-0.274585</td></tr><tr><th>5</th><td>married</td><td>-0.274585</td></tr><tr><th>6</th><td>married</td><td>-0.274585</td></tr><tr><th>7</th><td>married</td><td>-0.274585</td></tr><tr><th>8</th><td>divorced</td><td>-0.178516</td></tr><tr><th>9</th><td>married</td><td>-0.274585</td></tr><tr><th>10</th><td>married</td><td>-0.274585</td></tr></tbody></table>"
      ],
      "text/latex": [
       "\\begin{tabular}{r|cc}\n",
       "\t& Married & IntNum\\_PersNum\\_cor\\\\\n",
       "\t\\hline\n",
       "\t& Cat… & Float64\\\\\n",
       "\t\\hline\n",
       "\t1 & married & -0.274585 \\\\\n",
       "\t2 & divorced & -0.178516 \\\\\n",
       "\t3 & married & -0.274585 \\\\\n",
       "\t4 & married & -0.274585 \\\\\n",
       "\t5 & married & -0.274585 \\\\\n",
       "\t6 & married & -0.274585 \\\\\n",
       "\t7 & married & -0.274585 \\\\\n",
       "\t8 & divorced & -0.178516 \\\\\n",
       "\t9 & married & -0.274585 \\\\\n",
       "\t10 & married & -0.274585 \\\\\n",
       "\\end{tabular}\n"
      ],
      "text/plain": [
       "\u001b[1m10×2 DataFrame\u001b[0m\n",
       "\u001b[1m Row \u001b[0m│\u001b[1m Married  \u001b[0m\u001b[1m IntNum_PersNum_cor \u001b[0m\n",
       "\u001b[1m     \u001b[0m│\u001b[90m Cat…     \u001b[0m\u001b[90m Float64            \u001b[0m\n",
       "─────┼──────────────────────────────\n",
       "   1 │ married            -0.274585\n",
       "   2 │ divorced           -0.178516\n",
       "   3 │ married            -0.274585\n",
       "   4 │ married            -0.274585\n",
       "   5 │ married            -0.274585\n",
       "   6 │ married            -0.274585\n",
       "   7 │ married            -0.274585\n",
       "   8 │ divorced           -0.178516\n",
       "   9 │ married            -0.274585\n",
       "  10 │ married            -0.274585"
      ]
     },
     "execution_count": 30,
     "metadata": {
      "tags": []
     },
     "output_type": "execute_result"
    }
   ],
   "source": [
    "select_cor = select(groupby_married_psid, 1:2 => cor)\n",
    "first(select_cor, 10)"
   ]
  },
  {
   "cell_type": "markdown",
   "metadata": {
    "id": "lrxfhZLDqYj5"
   },
   "source": [
    "### `freqtable(gdf, :x, :y)`\n",
    "---\n",
    "\n",
    "\n"
   ]
  },
  {
   "cell_type": "markdown",
   "metadata": {
    "id": "r7N6eF0KvE_n"
   },
   "source": [
    "С группированными данными еще можно сделать таблицу частот по 2 признакам\n",
    "\n",
    "Для этого нужно использовать отдельный пакет **FreqTables**"
   ]
  },
  {
   "cell_type": "code",
   "execution_count": null,
   "metadata": {
    "id": "Es937-eN_c7G"
   },
   "outputs": [],
   "source": [
    "import Pkg; Pkg.add(\"FreqTables\")"
   ]
  },
  {
   "cell_type": "code",
   "execution_count": null,
   "metadata": {
    "id": "HnMLdQec_tFH"
   },
   "outputs": [],
   "source": [
    "using FreqTables"
   ]
  },
  {
   "cell_type": "code",
   "execution_count": null,
   "metadata": {
    "colab": {
     "base_uri": "https://localhost:8080/"
    },
    "id": "vgKirq3s9Fyp",
    "outputId": "a7f803d4-b522-4fca-a14e-a5f9a2bad462"
   },
   "outputs": [
    {
     "data": {
      "text/plain": [
       "7×13 Named Array{Int64,2}\n",
       "                                Married ╲ Kids │    0     1  …    98    99\n",
       "───────────────────────────────────────────────┼──────────────────────────\n",
       "CategoricalValue{String,UInt8} \"married\"       │  317   493  …    33     0\n",
       "CategoricalValue{String,UInt8} \"never married\" │  261   119       12     2\n",
       "CategoricalValue{String,UInt8} \"widowed\"       │    6    18        1     0\n",
       "CategoricalValue{String,UInt8} \"divorced\"      │   58   128       22     0\n",
       "CategoricalValue{String,UInt8} \"separated\"     │   21    43        5     0\n",
       "CategoricalValue{String,UInt8} \"NA/DF\"         │    5     2        0     0\n",
       "CategoricalValue{String,UInt8} \"no histories\"  │    0     0  …     0    43"
      ]
     },
     "execution_count": 47,
     "metadata": {
      "tags": []
     },
     "output_type": "execute_result"
    }
   ],
   "source": [
    "freqtable(psid, :Married, :Kids) #мне не нравится этот датасет"
   ]
  },
  {
   "cell_type": "code",
   "execution_count": null,
   "metadata": {
    "colab": {
     "base_uri": "https://localhost:8080/"
    },
    "id": "0XBD2DV7FKuJ",
    "outputId": "66cd708b-5279-4b4a-d6fa-9d965d8077de"
   },
   "outputs": [
    {
     "data": {
      "text/plain": [
       "32×3 Named Array{Int64,2}\n",
       "        Model ╲ Cyl │ 4  6  8\n",
       "────────────────────┼────────\n",
       "AMC Javelin         │ 0  0  1\n",
       "Cadillac Fleetwood  │ 0  0  1\n",
       "Camaro Z28          │ 0  0  1\n",
       "Chrysler Imperial   │ 0  0  1\n",
       "Datsun 710          │ 1  0  0\n",
       "Dodge Challenger    │ 0  0  1\n",
       "Duster 360          │ 0  0  1\n",
       "Ferrari Dino        │ 0  1  0\n",
       "Fiat 128            │ 1  0  0\n",
       "Fiat X1-9           │ 1  0  0\n",
       "Ford Pantera L      │ 0  0  1\n",
       "Honda Civic         │ 1  0  0\n",
       "⋮                     ⋮  ⋮  ⋮\n",
       "Merc 240D           │ 1  0  0\n",
       "Merc 280            │ 0  1  0\n",
       "Merc 280C           │ 0  1  0\n",
       "Merc 450SE          │ 0  0  1\n",
       "Merc 450SL          │ 0  0  1\n",
       "Merc 450SLC         │ 0  0  1\n",
       "Pontiac Firebird    │ 0  0  1\n",
       "Porsche 914-2       │ 1  0  0\n",
       "Toyota Corolla      │ 1  0  0\n",
       "Toyota Corona       │ 1  0  0\n",
       "Valiant             │ 0  1  0\n",
       "Volvo 142E          │ 1  0  0"
      ]
     },
     "execution_count": 96,
     "metadata": {
      "tags": []
     },
     "output_type": "execute_result"
    }
   ],
   "source": [
    "cars = dataset(\"datasets\", \"mtcars\")\n",
    "freqtable(cars, :Model, :Cyl)"
   ]
  },
  {
   "cell_type": "markdown",
   "metadata": {
    "id": "EFT8v8KvGf-g"
   },
   "source": [
    "### `pivot table`\n",
    "---"
   ]
  },
  {
   "cell_type": "markdown",
   "metadata": {
    "id": "spiguIniGmss"
   },
   "source": [
    "Используя метод **combine** и другие основные операции с таблицами (stack, unstack), можно вывести таблицу со средними величинами по каждому признаку для каждой категории "
   ]
  },
  {
   "cell_type": "code",
   "execution_count": null,
   "metadata": {
    "colab": {
     "base_uri": "https://localhost:8080/",
     "height": 237
    },
    "id": "1xmc6BN2Erqj",
    "outputId": "b7fc8496-dfe5-4b51-edb5-1f35e9b65ac9"
   },
   "outputs": [
    {
     "data": {
      "text/html": [
       "<table class=\"data-frame\"><thead><tr><th></th><th>variable</th><th>married</th><th>divorced</th><th>separated</th><th>never married</th><th>widowed</th><th>no histories</th></tr><tr><th></th><th>String</th><th>Float64?</th><th>Float64?</th><th>Float64?</th><th>Float64?</th><th>Float64?</th><th>Float64?</th></tr></thead><tbody><p>7 rows × 8 columns (omitted printing of 1 columns)</p><tr><th>1</th><td>IntNum</td><td>4267.84</td><td>4692.95</td><td>5535.71</td><td>5380.64</td><td>5251.13</td><td>5944.07</td></tr><tr><th>2</th><td>PersNum</td><td>69.5715</td><td>46.462</td><td>38.9054</td><td>31.5624</td><td>37.4333</td><td>143.558</td></tr><tr><th>3</th><td>Age</td><td>38.5718</td><td>39.5938</td><td>38.1893</td><td>36.1263</td><td>41.5111</td><td>46.3953</td></tr><tr><th>4</th><td>Educatn</td><td>15.3312</td><td>19.338</td><td>17.4921</td><td><em>missing</em></td><td>15.8</td><td>23.9767</td></tr><tr><th>5</th><td>Earnings</td><td>14990.7</td><td>16486.8</td><td>10650.9</td><td>11698.2</td><td>9613.88</td><td>4390.86</td></tr><tr><th>6</th><td>Hours</td><td>1257.64</td><td>1422.43</td><td>1086.0</td><td>1095.27</td><td>998.333</td><td>704.419</td></tr><tr><th>7</th><td>Kids</td><td>3.2465</td><td>5.43876</td><td>4.09148</td><td>3.5257</td><td>3.57778</td><td>99.0</td></tr></tbody></table>"
      ],
      "text/latex": [
       "\\begin{tabular}{r|cccccccc}\n",
       "\t& variable & married & divorced & separated & never married & widowed & no histories & \\\\\n",
       "\t\\hline\n",
       "\t& String & Float64? & Float64? & Float64? & Float64? & Float64? & Float64? & \\\\\n",
       "\t\\hline\n",
       "\t1 & IntNum & 4267.84 & 4692.95 & 5535.71 & 5380.64 & 5251.13 & 5944.07 & $\\dots$ \\\\\n",
       "\t2 & PersNum & 69.5715 & 46.462 & 38.9054 & 31.5624 & 37.4333 & 143.558 & $\\dots$ \\\\\n",
       "\t3 & Age & 38.5718 & 39.5938 & 38.1893 & 36.1263 & 41.5111 & 46.3953 & $\\dots$ \\\\\n",
       "\t4 & Educatn & 15.3312 & 19.338 & 17.4921 & \\emph{missing} & 15.8 & 23.9767 & $\\dots$ \\\\\n",
       "\t5 & Earnings & 14990.7 & 16486.8 & 10650.9 & 11698.2 & 9613.88 & 4390.86 & $\\dots$ \\\\\n",
       "\t6 & Hours & 1257.64 & 1422.43 & 1086.0 & 1095.27 & 998.333 & 704.419 & $\\dots$ \\\\\n",
       "\t7 & Kids & 3.2465 & 5.43876 & 4.09148 & 3.5257 & 3.57778 & 99.0 & $\\dots$ \\\\\n",
       "\\end{tabular}\n"
      ],
      "text/plain": [
       "\u001b[1m7×8 DataFrame\u001b[0m\n",
       "\u001b[1m Row \u001b[0m│\u001b[1m variable \u001b[0m\u001b[1m married    \u001b[0m\u001b[1m divorced    \u001b[0m\u001b[1m separated   \u001b[0m\u001b[1m never married \u001b[0m\u001b[1m widowed \u001b[0m ⋯\n",
       "\u001b[1m     \u001b[0m│\u001b[90m String   \u001b[0m\u001b[90m Float64?   \u001b[0m\u001b[90m Float64?    \u001b[0m\u001b[90m Float64?    \u001b[0m\u001b[90m Float64?      \u001b[0m\u001b[90m Float64?\u001b[0m ⋯\n",
       "─────┼──────────────────────────────────────────────────────────────────────────\n",
       "   1 │ IntNum     4267.84     4692.95      5535.71         5380.64    5251.13  ⋯\n",
       "   2 │ PersNum      69.5715     46.462       38.9054         31.5624    37.433\n",
       "   3 │ Age          38.5718     39.5938      38.1893         36.1263    41.511\n",
       "   4 │ Educatn      15.3312     19.338       17.4921  \u001b[90m  missing      \u001b[0m   15.8\n",
       "   5 │ Earnings  14990.7     16486.8      10650.9         11698.2     9613.88  ⋯\n",
       "   6 │ Hours      1257.64     1422.43      1086.0          1095.27     998.333\n",
       "   7 │ Kids          3.2465      5.43876      4.09148         3.5257     3.577\n",
       "\u001b[36m                                                               3 columns omitted\u001b[0m"
      ]
     },
     "execution_count": 61,
     "metadata": {
      "tags": []
     },
     "output_type": "execute_result"
    }
   ],
   "source": [
    "d = stack(psid, Not(:Married))\n",
    "x = combine(groupby(d, [:variable, :Married]), :value => mean => :vsum)\n",
    "unstack(x, :Married, :vsum)"
   ]
  },
  {
   "cell_type": "markdown",
   "metadata": {
    "id": "1KcgSTr7J-mh"
   },
   "source": [
    "### *__Бонус__: красивый график с группированными данными\n",
    "---"
   ]
  },
  {
   "cell_type": "code",
   "execution_count": null,
   "metadata": {
    "id": "K2e7QWjhKYxe"
   },
   "outputs": [],
   "source": [
    "import Pkg; Pkg.add(\"VegaLite\")"
   ]
  },
  {
   "cell_type": "code",
   "execution_count": null,
   "metadata": {
    "id": "xgIHBMHfP0x8"
   },
   "outputs": [],
   "source": [
    "using RDatasets, VegaLite\n",
    "iris = dataset(\"datasets\", \"iris\")"
   ]
  },
  {
   "cell_type": "code",
   "execution_count": null,
   "metadata": {
    "colab": {
     "base_uri": "https://localhost:8080/",
     "height": 468
    },
    "id": "2KaMfzRWFRRs",
    "outputId": "a677d1ff-a683-461d-9852-65517f2be3b7"
   },
   "outputs": [
    {
     "data": {
      "application/vnd.vegalite.v3+json": {
       "data": {
        "values": [
         {
          "PetalLength": 1.4,
          "PetalWidth": 0.2,
          "SepalLength": 5.1,
          "SepalWidth": 3.5,
          "Species": "setosa"
         },
         {
          "PetalLength": 1.4,
          "PetalWidth": 0.2,
          "SepalLength": 4.9,
          "SepalWidth": 3,
          "Species": "setosa"
         },
         {
          "PetalLength": 1.3,
          "PetalWidth": 0.2,
          "SepalLength": 4.7,
          "SepalWidth": 3.2,
          "Species": "setosa"
         },
         {
          "PetalLength": 1.5,
          "PetalWidth": 0.2,
          "SepalLength": 4.6,
          "SepalWidth": 3.1,
          "Species": "setosa"
         },
         {
          "PetalLength": 1.4,
          "PetalWidth": 0.2,
          "SepalLength": 5,
          "SepalWidth": 3.6,
          "Species": "setosa"
         },
         {
          "PetalLength": 1.7,
          "PetalWidth": 0.4,
          "SepalLength": 5.4,
          "SepalWidth": 3.9,
          "Species": "setosa"
         },
         {
          "PetalLength": 1.4,
          "PetalWidth": 0.3,
          "SepalLength": 4.6,
          "SepalWidth": 3.4,
          "Species": "setosa"
         },
         {
          "PetalLength": 1.5,
          "PetalWidth": 0.2,
          "SepalLength": 5,
          "SepalWidth": 3.4,
          "Species": "setosa"
         },
         {
          "PetalLength": 1.4,
          "PetalWidth": 0.2,
          "SepalLength": 4.4,
          "SepalWidth": 2.9,
          "Species": "setosa"
         },
         {
          "PetalLength": 1.5,
          "PetalWidth": 0.1,
          "SepalLength": 4.9,
          "SepalWidth": 3.1,
          "Species": "setosa"
         },
         {
          "PetalLength": 1.5,
          "PetalWidth": 0.2,
          "SepalLength": 5.4,
          "SepalWidth": 3.7,
          "Species": "setosa"
         },
         {
          "PetalLength": 1.6,
          "PetalWidth": 0.2,
          "SepalLength": 4.8,
          "SepalWidth": 3.4,
          "Species": "setosa"
         },
         {
          "PetalLength": 1.4,
          "PetalWidth": 0.1,
          "SepalLength": 4.8,
          "SepalWidth": 3,
          "Species": "setosa"
         },
         {
          "PetalLength": 1.1,
          "PetalWidth": 0.1,
          "SepalLength": 4.3,
          "SepalWidth": 3,
          "Species": "setosa"
         },
         {
          "PetalLength": 1.2,
          "PetalWidth": 0.2,
          "SepalLength": 5.8,
          "SepalWidth": 4,
          "Species": "setosa"
         },
         {
          "PetalLength": 1.5,
          "PetalWidth": 0.4,
          "SepalLength": 5.7,
          "SepalWidth": 4.4,
          "Species": "setosa"
         },
         {
          "PetalLength": 1.3,
          "PetalWidth": 0.4,
          "SepalLength": 5.4,
          "SepalWidth": 3.9,
          "Species": "setosa"
         },
         {
          "PetalLength": 1.4,
          "PetalWidth": 0.3,
          "SepalLength": 5.1,
          "SepalWidth": 3.5,
          "Species": "setosa"
         },
         {
          "PetalLength": 1.7,
          "PetalWidth": 0.3,
          "SepalLength": 5.7,
          "SepalWidth": 3.8,
          "Species": "setosa"
         },
         {
          "PetalLength": 1.5,
          "PetalWidth": 0.3,
          "SepalLength": 5.1,
          "SepalWidth": 3.8,
          "Species": "setosa"
         },
         {
          "PetalLength": 1.7,
          "PetalWidth": 0.2,
          "SepalLength": 5.4,
          "SepalWidth": 3.4,
          "Species": "setosa"
         },
         {
          "PetalLength": 1.5,
          "PetalWidth": 0.4,
          "SepalLength": 5.1,
          "SepalWidth": 3.7,
          "Species": "setosa"
         },
         {
          "PetalLength": 1,
          "PetalWidth": 0.2,
          "SepalLength": 4.6,
          "SepalWidth": 3.6,
          "Species": "setosa"
         },
         {
          "PetalLength": 1.7,
          "PetalWidth": 0.5,
          "SepalLength": 5.1,
          "SepalWidth": 3.3,
          "Species": "setosa"
         },
         {
          "PetalLength": 1.9,
          "PetalWidth": 0.2,
          "SepalLength": 4.8,
          "SepalWidth": 3.4,
          "Species": "setosa"
         },
         {
          "PetalLength": 1.6,
          "PetalWidth": 0.2,
          "SepalLength": 5,
          "SepalWidth": 3,
          "Species": "setosa"
         },
         {
          "PetalLength": 1.6,
          "PetalWidth": 0.4,
          "SepalLength": 5,
          "SepalWidth": 3.4,
          "Species": "setosa"
         },
         {
          "PetalLength": 1.5,
          "PetalWidth": 0.2,
          "SepalLength": 5.2,
          "SepalWidth": 3.5,
          "Species": "setosa"
         },
         {
          "PetalLength": 1.4,
          "PetalWidth": 0.2,
          "SepalLength": 5.2,
          "SepalWidth": 3.4,
          "Species": "setosa"
         },
         {
          "PetalLength": 1.6,
          "PetalWidth": 0.2,
          "SepalLength": 4.7,
          "SepalWidth": 3.2,
          "Species": "setosa"
         },
         {
          "PetalLength": 1.6,
          "PetalWidth": 0.2,
          "SepalLength": 4.8,
          "SepalWidth": 3.1,
          "Species": "setosa"
         },
         {
          "PetalLength": 1.5,
          "PetalWidth": 0.4,
          "SepalLength": 5.4,
          "SepalWidth": 3.4,
          "Species": "setosa"
         },
         {
          "PetalLength": 1.5,
          "PetalWidth": 0.1,
          "SepalLength": 5.2,
          "SepalWidth": 4.1,
          "Species": "setosa"
         },
         {
          "PetalLength": 1.4,
          "PetalWidth": 0.2,
          "SepalLength": 5.5,
          "SepalWidth": 4.2,
          "Species": "setosa"
         },
         {
          "PetalLength": 1.5,
          "PetalWidth": 0.2,
          "SepalLength": 4.9,
          "SepalWidth": 3.1,
          "Species": "setosa"
         },
         {
          "PetalLength": 1.2,
          "PetalWidth": 0.2,
          "SepalLength": 5,
          "SepalWidth": 3.2,
          "Species": "setosa"
         },
         {
          "PetalLength": 1.3,
          "PetalWidth": 0.2,
          "SepalLength": 5.5,
          "SepalWidth": 3.5,
          "Species": "setosa"
         },
         {
          "PetalLength": 1.4,
          "PetalWidth": 0.1,
          "SepalLength": 4.9,
          "SepalWidth": 3.6,
          "Species": "setosa"
         },
         {
          "PetalLength": 1.3,
          "PetalWidth": 0.2,
          "SepalLength": 4.4,
          "SepalWidth": 3,
          "Species": "setosa"
         },
         {
          "PetalLength": 1.5,
          "PetalWidth": 0.2,
          "SepalLength": 5.1,
          "SepalWidth": 3.4,
          "Species": "setosa"
         },
         {
          "PetalLength": 1.3,
          "PetalWidth": 0.3,
          "SepalLength": 5,
          "SepalWidth": 3.5,
          "Species": "setosa"
         },
         {
          "PetalLength": 1.3,
          "PetalWidth": 0.3,
          "SepalLength": 4.5,
          "SepalWidth": 2.3,
          "Species": "setosa"
         },
         {
          "PetalLength": 1.3,
          "PetalWidth": 0.2,
          "SepalLength": 4.4,
          "SepalWidth": 3.2,
          "Species": "setosa"
         },
         {
          "PetalLength": 1.6,
          "PetalWidth": 0.6,
          "SepalLength": 5,
          "SepalWidth": 3.5,
          "Species": "setosa"
         },
         {
          "PetalLength": 1.9,
          "PetalWidth": 0.4,
          "SepalLength": 5.1,
          "SepalWidth": 3.8,
          "Species": "setosa"
         },
         {
          "PetalLength": 1.4,
          "PetalWidth": 0.3,
          "SepalLength": 4.8,
          "SepalWidth": 3,
          "Species": "setosa"
         },
         {
          "PetalLength": 1.6,
          "PetalWidth": 0.2,
          "SepalLength": 5.1,
          "SepalWidth": 3.8,
          "Species": "setosa"
         },
         {
          "PetalLength": 1.4,
          "PetalWidth": 0.2,
          "SepalLength": 4.6,
          "SepalWidth": 3.2,
          "Species": "setosa"
         },
         {
          "PetalLength": 1.5,
          "PetalWidth": 0.2,
          "SepalLength": 5.3,
          "SepalWidth": 3.7,
          "Species": "setosa"
         },
         {
          "PetalLength": 1.4,
          "PetalWidth": 0.2,
          "SepalLength": 5,
          "SepalWidth": 3.3,
          "Species": "setosa"
         },
         {
          "PetalLength": 4.7,
          "PetalWidth": 1.4,
          "SepalLength": 7,
          "SepalWidth": 3.2,
          "Species": "versicolor"
         },
         {
          "PetalLength": 4.5,
          "PetalWidth": 1.5,
          "SepalLength": 6.4,
          "SepalWidth": 3.2,
          "Species": "versicolor"
         },
         {
          "PetalLength": 4.9,
          "PetalWidth": 1.5,
          "SepalLength": 6.9,
          "SepalWidth": 3.1,
          "Species": "versicolor"
         },
         {
          "PetalLength": 4,
          "PetalWidth": 1.3,
          "SepalLength": 5.5,
          "SepalWidth": 2.3,
          "Species": "versicolor"
         },
         {
          "PetalLength": 4.6,
          "PetalWidth": 1.5,
          "SepalLength": 6.5,
          "SepalWidth": 2.8,
          "Species": "versicolor"
         },
         {
          "PetalLength": 4.5,
          "PetalWidth": 1.3,
          "SepalLength": 5.7,
          "SepalWidth": 2.8,
          "Species": "versicolor"
         },
         {
          "PetalLength": 4.7,
          "PetalWidth": 1.6,
          "SepalLength": 6.3,
          "SepalWidth": 3.3,
          "Species": "versicolor"
         },
         {
          "PetalLength": 3.3,
          "PetalWidth": 1,
          "SepalLength": 4.9,
          "SepalWidth": 2.4,
          "Species": "versicolor"
         },
         {
          "PetalLength": 4.6,
          "PetalWidth": 1.3,
          "SepalLength": 6.6,
          "SepalWidth": 2.9,
          "Species": "versicolor"
         },
         {
          "PetalLength": 3.9,
          "PetalWidth": 1.4,
          "SepalLength": 5.2,
          "SepalWidth": 2.7,
          "Species": "versicolor"
         },
         {
          "PetalLength": 3.5,
          "PetalWidth": 1,
          "SepalLength": 5,
          "SepalWidth": 2,
          "Species": "versicolor"
         },
         {
          "PetalLength": 4.2,
          "PetalWidth": 1.5,
          "SepalLength": 5.9,
          "SepalWidth": 3,
          "Species": "versicolor"
         },
         {
          "PetalLength": 4,
          "PetalWidth": 1,
          "SepalLength": 6,
          "SepalWidth": 2.2,
          "Species": "versicolor"
         },
         {
          "PetalLength": 4.7,
          "PetalWidth": 1.4,
          "SepalLength": 6.1,
          "SepalWidth": 2.9,
          "Species": "versicolor"
         },
         {
          "PetalLength": 3.6,
          "PetalWidth": 1.3,
          "SepalLength": 5.6,
          "SepalWidth": 2.9,
          "Species": "versicolor"
         },
         {
          "PetalLength": 4.4,
          "PetalWidth": 1.4,
          "SepalLength": 6.7,
          "SepalWidth": 3.1,
          "Species": "versicolor"
         },
         {
          "PetalLength": 4.5,
          "PetalWidth": 1.5,
          "SepalLength": 5.6,
          "SepalWidth": 3,
          "Species": "versicolor"
         },
         {
          "PetalLength": 4.1,
          "PetalWidth": 1,
          "SepalLength": 5.8,
          "SepalWidth": 2.7,
          "Species": "versicolor"
         },
         {
          "PetalLength": 4.5,
          "PetalWidth": 1.5,
          "SepalLength": 6.2,
          "SepalWidth": 2.2,
          "Species": "versicolor"
         },
         {
          "PetalLength": 3.9,
          "PetalWidth": 1.1,
          "SepalLength": 5.6,
          "SepalWidth": 2.5,
          "Species": "versicolor"
         },
         {
          "PetalLength": 4.8,
          "PetalWidth": 1.8,
          "SepalLength": 5.9,
          "SepalWidth": 3.2,
          "Species": "versicolor"
         },
         {
          "PetalLength": 4,
          "PetalWidth": 1.3,
          "SepalLength": 6.1,
          "SepalWidth": 2.8,
          "Species": "versicolor"
         },
         {
          "PetalLength": 4.9,
          "PetalWidth": 1.5,
          "SepalLength": 6.3,
          "SepalWidth": 2.5,
          "Species": "versicolor"
         },
         {
          "PetalLength": 4.7,
          "PetalWidth": 1.2,
          "SepalLength": 6.1,
          "SepalWidth": 2.8,
          "Species": "versicolor"
         },
         {
          "PetalLength": 4.3,
          "PetalWidth": 1.3,
          "SepalLength": 6.4,
          "SepalWidth": 2.9,
          "Species": "versicolor"
         },
         {
          "PetalLength": 4.4,
          "PetalWidth": 1.4,
          "SepalLength": 6.6,
          "SepalWidth": 3,
          "Species": "versicolor"
         },
         {
          "PetalLength": 4.8,
          "PetalWidth": 1.4,
          "SepalLength": 6.8,
          "SepalWidth": 2.8,
          "Species": "versicolor"
         },
         {
          "PetalLength": 5,
          "PetalWidth": 1.7,
          "SepalLength": 6.7,
          "SepalWidth": 3,
          "Species": "versicolor"
         },
         {
          "PetalLength": 4.5,
          "PetalWidth": 1.5,
          "SepalLength": 6,
          "SepalWidth": 2.9,
          "Species": "versicolor"
         },
         {
          "PetalLength": 3.5,
          "PetalWidth": 1,
          "SepalLength": 5.7,
          "SepalWidth": 2.6,
          "Species": "versicolor"
         },
         {
          "PetalLength": 3.8,
          "PetalWidth": 1.1,
          "SepalLength": 5.5,
          "SepalWidth": 2.4,
          "Species": "versicolor"
         },
         {
          "PetalLength": 3.7,
          "PetalWidth": 1,
          "SepalLength": 5.5,
          "SepalWidth": 2.4,
          "Species": "versicolor"
         },
         {
          "PetalLength": 3.9,
          "PetalWidth": 1.2,
          "SepalLength": 5.8,
          "SepalWidth": 2.7,
          "Species": "versicolor"
         },
         {
          "PetalLength": 5.1,
          "PetalWidth": 1.6,
          "SepalLength": 6,
          "SepalWidth": 2.7,
          "Species": "versicolor"
         },
         {
          "PetalLength": 4.5,
          "PetalWidth": 1.5,
          "SepalLength": 5.4,
          "SepalWidth": 3,
          "Species": "versicolor"
         },
         {
          "PetalLength": 4.5,
          "PetalWidth": 1.6,
          "SepalLength": 6,
          "SepalWidth": 3.4,
          "Species": "versicolor"
         },
         {
          "PetalLength": 4.7,
          "PetalWidth": 1.5,
          "SepalLength": 6.7,
          "SepalWidth": 3.1,
          "Species": "versicolor"
         },
         {
          "PetalLength": 4.4,
          "PetalWidth": 1.3,
          "SepalLength": 6.3,
          "SepalWidth": 2.3,
          "Species": "versicolor"
         },
         {
          "PetalLength": 4.1,
          "PetalWidth": 1.3,
          "SepalLength": 5.6,
          "SepalWidth": 3,
          "Species": "versicolor"
         },
         {
          "PetalLength": 4,
          "PetalWidth": 1.3,
          "SepalLength": 5.5,
          "SepalWidth": 2.5,
          "Species": "versicolor"
         },
         {
          "PetalLength": 4.4,
          "PetalWidth": 1.2,
          "SepalLength": 5.5,
          "SepalWidth": 2.6,
          "Species": "versicolor"
         },
         {
          "PetalLength": 4.6,
          "PetalWidth": 1.4,
          "SepalLength": 6.1,
          "SepalWidth": 3,
          "Species": "versicolor"
         },
         {
          "PetalLength": 4,
          "PetalWidth": 1.2,
          "SepalLength": 5.8,
          "SepalWidth": 2.6,
          "Species": "versicolor"
         },
         {
          "PetalLength": 3.3,
          "PetalWidth": 1,
          "SepalLength": 5,
          "SepalWidth": 2.3,
          "Species": "versicolor"
         },
         {
          "PetalLength": 4.2,
          "PetalWidth": 1.3,
          "SepalLength": 5.6,
          "SepalWidth": 2.7,
          "Species": "versicolor"
         },
         {
          "PetalLength": 4.2,
          "PetalWidth": 1.2,
          "SepalLength": 5.7,
          "SepalWidth": 3,
          "Species": "versicolor"
         },
         {
          "PetalLength": 4.2,
          "PetalWidth": 1.3,
          "SepalLength": 5.7,
          "SepalWidth": 2.9,
          "Species": "versicolor"
         },
         {
          "PetalLength": 4.3,
          "PetalWidth": 1.3,
          "SepalLength": 6.2,
          "SepalWidth": 2.9,
          "Species": "versicolor"
         },
         {
          "PetalLength": 3,
          "PetalWidth": 1.1,
          "SepalLength": 5.1,
          "SepalWidth": 2.5,
          "Species": "versicolor"
         },
         {
          "PetalLength": 4.1,
          "PetalWidth": 1.3,
          "SepalLength": 5.7,
          "SepalWidth": 2.8,
          "Species": "versicolor"
         },
         {
          "PetalLength": 6,
          "PetalWidth": 2.5,
          "SepalLength": 6.3,
          "SepalWidth": 3.3,
          "Species": "virginica"
         },
         {
          "PetalLength": 5.1,
          "PetalWidth": 1.9,
          "SepalLength": 5.8,
          "SepalWidth": 2.7,
          "Species": "virginica"
         },
         {
          "PetalLength": 5.9,
          "PetalWidth": 2.1,
          "SepalLength": 7.1,
          "SepalWidth": 3,
          "Species": "virginica"
         },
         {
          "PetalLength": 5.6,
          "PetalWidth": 1.8,
          "SepalLength": 6.3,
          "SepalWidth": 2.9,
          "Species": "virginica"
         },
         {
          "PetalLength": 5.8,
          "PetalWidth": 2.2,
          "SepalLength": 6.5,
          "SepalWidth": 3,
          "Species": "virginica"
         },
         {
          "PetalLength": 6.6,
          "PetalWidth": 2.1,
          "SepalLength": 7.6,
          "SepalWidth": 3,
          "Species": "virginica"
         },
         {
          "PetalLength": 4.5,
          "PetalWidth": 1.7,
          "SepalLength": 4.9,
          "SepalWidth": 2.5,
          "Species": "virginica"
         },
         {
          "PetalLength": 6.3,
          "PetalWidth": 1.8,
          "SepalLength": 7.3,
          "SepalWidth": 2.9,
          "Species": "virginica"
         },
         {
          "PetalLength": 5.8,
          "PetalWidth": 1.8,
          "SepalLength": 6.7,
          "SepalWidth": 2.5,
          "Species": "virginica"
         },
         {
          "PetalLength": 6.1,
          "PetalWidth": 2.5,
          "SepalLength": 7.2,
          "SepalWidth": 3.6,
          "Species": "virginica"
         },
         {
          "PetalLength": 5.1,
          "PetalWidth": 2,
          "SepalLength": 6.5,
          "SepalWidth": 3.2,
          "Species": "virginica"
         },
         {
          "PetalLength": 5.3,
          "PetalWidth": 1.9,
          "SepalLength": 6.4,
          "SepalWidth": 2.7,
          "Species": "virginica"
         },
         {
          "PetalLength": 5.5,
          "PetalWidth": 2.1,
          "SepalLength": 6.8,
          "SepalWidth": 3,
          "Species": "virginica"
         },
         {
          "PetalLength": 5,
          "PetalWidth": 2,
          "SepalLength": 5.7,
          "SepalWidth": 2.5,
          "Species": "virginica"
         },
         {
          "PetalLength": 5.1,
          "PetalWidth": 2.4,
          "SepalLength": 5.8,
          "SepalWidth": 2.8,
          "Species": "virginica"
         },
         {
          "PetalLength": 5.3,
          "PetalWidth": 2.3,
          "SepalLength": 6.4,
          "SepalWidth": 3.2,
          "Species": "virginica"
         },
         {
          "PetalLength": 5.5,
          "PetalWidth": 1.8,
          "SepalLength": 6.5,
          "SepalWidth": 3,
          "Species": "virginica"
         },
         {
          "PetalLength": 6.7,
          "PetalWidth": 2.2,
          "SepalLength": 7.7,
          "SepalWidth": 3.8,
          "Species": "virginica"
         },
         {
          "PetalLength": 6.9,
          "PetalWidth": 2.3,
          "SepalLength": 7.7,
          "SepalWidth": 2.6,
          "Species": "virginica"
         },
         {
          "PetalLength": 5,
          "PetalWidth": 1.5,
          "SepalLength": 6,
          "SepalWidth": 2.2,
          "Species": "virginica"
         },
         {
          "PetalLength": 5.7,
          "PetalWidth": 2.3,
          "SepalLength": 6.9,
          "SepalWidth": 3.2,
          "Species": "virginica"
         },
         {
          "PetalLength": 4.9,
          "PetalWidth": 2,
          "SepalLength": 5.6,
          "SepalWidth": 2.8,
          "Species": "virginica"
         },
         {
          "PetalLength": 6.7,
          "PetalWidth": 2,
          "SepalLength": 7.7,
          "SepalWidth": 2.8,
          "Species": "virginica"
         },
         {
          "PetalLength": 4.9,
          "PetalWidth": 1.8,
          "SepalLength": 6.3,
          "SepalWidth": 2.7,
          "Species": "virginica"
         },
         {
          "PetalLength": 5.7,
          "PetalWidth": 2.1,
          "SepalLength": 6.7,
          "SepalWidth": 3.3,
          "Species": "virginica"
         },
         {
          "PetalLength": 6,
          "PetalWidth": 1.8,
          "SepalLength": 7.2,
          "SepalWidth": 3.2,
          "Species": "virginica"
         },
         {
          "PetalLength": 4.8,
          "PetalWidth": 1.8,
          "SepalLength": 6.2,
          "SepalWidth": 2.8,
          "Species": "virginica"
         },
         {
          "PetalLength": 4.9,
          "PetalWidth": 1.8,
          "SepalLength": 6.1,
          "SepalWidth": 3,
          "Species": "virginica"
         },
         {
          "PetalLength": 5.6,
          "PetalWidth": 2.1,
          "SepalLength": 6.4,
          "SepalWidth": 2.8,
          "Species": "virginica"
         },
         {
          "PetalLength": 5.8,
          "PetalWidth": 1.6,
          "SepalLength": 7.2,
          "SepalWidth": 3,
          "Species": "virginica"
         },
         {
          "PetalLength": 6.1,
          "PetalWidth": 1.9,
          "SepalLength": 7.4,
          "SepalWidth": 2.8,
          "Species": "virginica"
         },
         {
          "PetalLength": 6.4,
          "PetalWidth": 2,
          "SepalLength": 7.9,
          "SepalWidth": 3.8,
          "Species": "virginica"
         },
         {
          "PetalLength": 5.6,
          "PetalWidth": 2.2,
          "SepalLength": 6.4,
          "SepalWidth": 2.8,
          "Species": "virginica"
         },
         {
          "PetalLength": 5.1,
          "PetalWidth": 1.5,
          "SepalLength": 6.3,
          "SepalWidth": 2.8,
          "Species": "virginica"
         },
         {
          "PetalLength": 5.6,
          "PetalWidth": 1.4,
          "SepalLength": 6.1,
          "SepalWidth": 2.6,
          "Species": "virginica"
         },
         {
          "PetalLength": 6.1,
          "PetalWidth": 2.3,
          "SepalLength": 7.7,
          "SepalWidth": 3,
          "Species": "virginica"
         },
         {
          "PetalLength": 5.6,
          "PetalWidth": 2.4,
          "SepalLength": 6.3,
          "SepalWidth": 3.4,
          "Species": "virginica"
         },
         {
          "PetalLength": 5.5,
          "PetalWidth": 1.8,
          "SepalLength": 6.4,
          "SepalWidth": 3.1,
          "Species": "virginica"
         },
         {
          "PetalLength": 4.8,
          "PetalWidth": 1.8,
          "SepalLength": 6,
          "SepalWidth": 3,
          "Species": "virginica"
         },
         {
          "PetalLength": 5.4,
          "PetalWidth": 2.1,
          "SepalLength": 6.9,
          "SepalWidth": 3.1,
          "Species": "virginica"
         },
         {
          "PetalLength": 5.6,
          "PetalWidth": 2.4,
          "SepalLength": 6.7,
          "SepalWidth": 3.1,
          "Species": "virginica"
         },
         {
          "PetalLength": 5.1,
          "PetalWidth": 2.3,
          "SepalLength": 6.9,
          "SepalWidth": 3.1,
          "Species": "virginica"
         },
         {
          "PetalLength": 5.1,
          "PetalWidth": 1.9,
          "SepalLength": 5.8,
          "SepalWidth": 2.7,
          "Species": "virginica"
         },
         {
          "PetalLength": 5.9,
          "PetalWidth": 2.3,
          "SepalLength": 6.8,
          "SepalWidth": 3.2,
          "Species": "virginica"
         },
         {
          "PetalLength": 5.7,
          "PetalWidth": 2.5,
          "SepalLength": 6.7,
          "SepalWidth": 3.3,
          "Species": "virginica"
         },
         {
          "PetalLength": 5.2,
          "PetalWidth": 2.3,
          "SepalLength": 6.7,
          "SepalWidth": 3,
          "Species": "virginica"
         },
         {
          "PetalLength": 5,
          "PetalWidth": 1.9,
          "SepalLength": 6.3,
          "SepalWidth": 2.5,
          "Species": "virginica"
         },
         {
          "PetalLength": 5.2,
          "PetalWidth": 2,
          "SepalLength": 6.5,
          "SepalWidth": 3,
          "Species": "virginica"
         },
         {
          "PetalLength": 5.4,
          "PetalWidth": 2.3,
          "SepalLength": 6.2,
          "SepalWidth": 3.4,
          "Species": "virginica"
         },
         {
          "PetalLength": 5.1,
          "PetalWidth": 1.8,
          "SepalLength": 5.9,
          "SepalWidth": 3,
          "Species": "virginica"
         }
        ]
       },
       "encoding": {
        "color": {
         "field": "Species",
         "type": "nominal"
        },
        "x": {
         "field": "PetalLength",
         "type": "quantitative"
        },
        "y": {
         "field": "PetalWidth",
         "type": "quantitative"
        }
       },
       "height": 400,
       "mark": "point",
       "width": 400
      },
      "image/png": "[encoded data removed]",
      "image/svg+xml": [
       "<svg class=\"marks\" width=\"544\" height=\"447\" viewBox=\"0 0 544 447\" version=\"1.1\" xmlns=\"http://www.w3.org/2000/svg\" xmlns:xlink=\"http://www.w3.org/1999/xlink\"><g transform=\"translate(45,10)\"><g class=\"mark-group role-frame root\"><g transform=\"translate(0,0)\"><path class=\"background\" d=\"M0.5,0.5h400v400h-400Z\" style=\"fill: none; stroke: #ddd;\"></path><g><g class=\"mark-group role-axis\"><g transform=\"translate(0.5,400.5)\"><path class=\"background\" d=\"M0,0h0v0h0Z\" style=\"pointer-events: none; fill: none;\"></path><g><g class=\"mark-rule role-axis-grid\" style=\"pointer-events: none;\"><line transform=\"translate(0,-400)\" x2=\"0\" y2=\"400\" style=\"fill: none; stroke: #ddd; stroke-width: 1; opacity: 1;\"></line><line transform=\"translate(29,-400)\" x2=\"0\" y2=\"400\" style=\"fill: none; stroke: #ddd; stroke-width: 1; opacity: 1;\"></line><line transform=\"translate(57,-400)\" x2=\"0\" y2=\"400\" style=\"fill: none; stroke: #ddd; stroke-width: 1; opacity: 1;\"></line><line transform=\"translate(86,-400)\" x2=\"0\" y2=\"400\" style=\"fill: none; stroke: #ddd; stroke-width: 1; opacity: 1;\"></line><line transform=\"translate(114,-400)\" x2=\"0\" y2=\"400\" style=\"fill: none; stroke: #ddd; stroke-width: 1; opacity: 1;\"></line><line transform=\"translate(143,-400)\" x2=\"0\" y2=\"400\" style=\"fill: none; stroke: #ddd; stroke-width: 1; opacity: 1;\"></line><line transform=\"translate(171,-400)\" x2=\"0\" y2=\"400\" style=\"fill: none; stroke: #ddd; stroke-width: 1; opacity: 1;\"></line><line transform=\"translate(200,-400)\" x2=\"0\" y2=\"400\" style=\"fill: none; stroke: #ddd; stroke-width: 1; opacity: 1;\"></line><line transform=\"translate(229,-400)\" x2=\"0\" y2=\"400\" style=\"fill: none; stroke: #ddd; stroke-width: 1; opacity: 1;\"></line><line transform=\"translate(257,-400)\" x2=\"0\" y2=\"400\" style=\"fill: none; stroke: #ddd; stroke-width: 1; opacity: 1;\"></line><line transform=\"translate(286,-400)\" x2=\"0\" y2=\"400\" style=\"fill: none; stroke: #ddd; stroke-width: 1; opacity: 1;\"></line><line transform=\"translate(314,-400)\" x2=\"0\" y2=\"400\" style=\"fill: none; stroke: #ddd; stroke-width: 1; opacity: 1;\"></line><line transform=\"translate(343,-400)\" x2=\"0\" y2=\"400\" style=\"fill: none; stroke: #ddd; stroke-width: 1; opacity: 1;\"></line><line transform=\"translate(371,-400)\" x2=\"0\" y2=\"400\" style=\"fill: none; stroke: #ddd; stroke-width: 1; opacity: 1;\"></line><line transform=\"translate(400,-400)\" x2=\"0\" y2=\"400\" style=\"fill: none; stroke: #ddd; stroke-width: 1; opacity: 1;\"></line></g></g></g></g><g class=\"mark-group role-axis\"><g transform=\"translate(0.5,0.5)\"><path class=\"background\" d=\"M0,0h0v0h0Z\" style=\"pointer-events: none; fill: none;\"></path><g><g class=\"mark-rule role-axis-grid\" style=\"pointer-events: none;\"><line transform=\"translate(0,400)\" x2=\"400\" y2=\"0\" style=\"fill: none; stroke: #ddd; stroke-width: 1; opacity: 1;\"></line><line transform=\"translate(0,369)\" x2=\"400\" y2=\"0\" style=\"fill: none; stroke: #ddd; stroke-width: 1; opacity: 1;\"></line><line transform=\"translate(0,338)\" x2=\"400\" y2=\"0\" style=\"fill: none; stroke: #ddd; stroke-width: 1; opacity: 1;\"></line><line transform=\"translate(0,308)\" x2=\"400\" y2=\"0\" style=\"fill: none; stroke: #ddd; stroke-width: 1; opacity: 1;\"></line><line transform=\"translate(0,277)\" x2=\"400\" y2=\"0\" style=\"fill: none; stroke: #ddd; stroke-width: 1; opacity: 1;\"></line><line transform=\"translate(0,246)\" x2=\"400\" y2=\"0\" style=\"fill: none; stroke: #ddd; stroke-width: 1; opacity: 1;\"></line><line transform=\"translate(0,215)\" x2=\"400\" y2=\"0\" style=\"fill: none; stroke: #ddd; stroke-width: 1; opacity: 1;\"></line><line transform=\"translate(0,185)\" x2=\"400\" y2=\"0\" style=\"fill: none; stroke: #ddd; stroke-width: 1; opacity: 1;\"></line><line transform=\"translate(0,154)\" x2=\"400\" y2=\"0\" style=\"fill: none; stroke: #ddd; stroke-width: 1; opacity: 1;\"></line><line transform=\"translate(0,123)\" x2=\"400\" y2=\"0\" style=\"fill: none; stroke: #ddd; stroke-width: 1; opacity: 1;\"></line><line transform=\"translate(0,92)\" x2=\"400\" y2=\"0\" style=\"fill: none; stroke: #ddd; stroke-width: 1; opacity: 1;\"></line><line transform=\"translate(0,62)\" x2=\"400\" y2=\"0\" style=\"fill: none; stroke: #ddd; stroke-width: 1; opacity: 1;\"></line><line transform=\"translate(0,31)\" x2=\"400\" y2=\"0\" style=\"fill: none; stroke: #ddd; stroke-width: 1; opacity: 1;\"></line><line transform=\"translate(0,0)\" x2=\"400\" y2=\"0\" style=\"fill: none; stroke: #ddd; stroke-width: 1; opacity: 1;\"></line></g></g></g></g><g class=\"mark-symbol role-mark marks\"><path transform=\"translate(80,369.2307692307692)\" d=\"M2.7386127875258306,0A2.7386127875258306,2.7386127875258306,0,1,1,-2.7386127875258306,0A2.7386127875258306,2.7386127875258306,0,1,1,2.7386127875258306,0\" style=\"fill: none; stroke: #4c78a8; stroke-width: 2; opacity: 0.7;\"></path><path transform=\"translate(80,369.2307692307692)\" d=\"M2.7386127875258306,0A2.7386127875258306,2.7386127875258306,0,1,1,-2.7386127875258306,0A2.7386127875258306,2.7386127875258306,0,1,1,2.7386127875258306,0\" style=\"fill: none; stroke: #4c78a8; stroke-width: 2; opacity: 0.7;\"></path><path transform=\"translate(74.28571428571429,369.2307692307692)\" d=\"M2.7386127875258306,0A2.7386127875258306,2.7386127875258306,0,1,1,-2.7386127875258306,0A2.7386127875258306,2.7386127875258306,0,1,1,2.7386127875258306,0\" style=\"fill: none; stroke: #4c78a8; stroke-width: 2; opacity: 0.7;\"></path><path transform=\"translate(85.71428571428571,369.2307692307692)\" d=\"M2.7386127875258306,0A2.7386127875258306,2.7386127875258306,0,1,1,-2.7386127875258306,0A2.7386127875258306,2.7386127875258306,0,1,1,2.7386127875258306,0\" style=\"fill: none; stroke: #4c78a8; stroke-width: 2; opacity: 0.7;\"></path><path transform=\"translate(80,369.2307692307692)\" d=\"M2.7386127875258306,0A2.7386127875258306,2.7386127875258306,0,1,1,-2.7386127875258306,0A2.7386127875258306,2.7386127875258306,0,1,1,2.7386127875258306,0\" style=\"fill: none; stroke: #4c78a8; stroke-width: 2; opacity: 0.7;\"></path><path transform=\"translate(97.14285714285714,338.46153846153845)\" d=\"M2.7386127875258306,0A2.7386127875258306,2.7386127875258306,0,1,1,-2.7386127875258306,0A2.7386127875258306,2.7386127875258306,0,1,1,2.7386127875258306,0\" style=\"fill: none; stroke: #4c78a8; stroke-width: 2; opacity: 0.7;\"></path><path transform=\"translate(80,353.8461538461538)\" d=\"M2.7386127875258306,0A2.7386127875258306,2.7386127875258306,0,1,1,-2.7386127875258306,0A2.7386127875258306,2.7386127875258306,0,1,1,2.7386127875258306,0\" style=\"fill: none; stroke: #4c78a8; stroke-width: 2; opacity: 0.7;\"></path><path transform=\"translate(85.71428571428571,369.2307692307692)\" d=\"M2.7386127875258306,0A2.7386127875258306,2.7386127875258306,0,1,1,-2.7386127875258306,0A2.7386127875258306,2.7386127875258306,0,1,1,2.7386127875258306,0\" style=\"fill: none; stroke: #4c78a8; stroke-width: 2; opacity: 0.7;\"></path><path transform=\"translate(80,369.2307692307692)\" d=\"M2.7386127875258306,0A2.7386127875258306,2.7386127875258306,0,1,1,-2.7386127875258306,0A2.7386127875258306,2.7386127875258306,0,1,1,2.7386127875258306,0\" style=\"fill: none; stroke: #4c78a8; stroke-width: 2; opacity: 0.7;\"></path><path transform=\"translate(85.71428571428571,384.61538461538464)\" d=\"M2.7386127875258306,0A2.7386127875258306,2.7386127875258306,0,1,1,-2.7386127875258306,0A2.7386127875258306,2.7386127875258306,0,1,1,2.7386127875258306,0\" style=\"fill: none; stroke: #4c78a8; stroke-width: 2; opacity: 0.7;\"></path><path transform=\"translate(85.71428571428571,369.2307692307692)\" d=\"M2.7386127875258306,0A2.7386127875258306,2.7386127875258306,0,1,1,-2.7386127875258306,0A2.7386127875258306,2.7386127875258306,0,1,1,2.7386127875258306,0\" style=\"fill: none; stroke: #4c78a8; stroke-width: 2; opacity: 0.7;\"></path><path transform=\"translate(91.42857142857143,369.2307692307692)\" d=\"M2.7386127875258306,0A2.7386127875258306,2.7386127875258306,0,1,1,-2.7386127875258306,0A2.7386127875258306,2.7386127875258306,0,1,1,2.7386127875258306,0\" style=\"fill: none; stroke: #4c78a8; stroke-width: 2; opacity: 0.7;\"></path><path transform=\"translate(80,384.61538461538464)\" d=\"M2.7386127875258306,0A2.7386127875258306,2.7386127875258306,0,1,1,-2.7386127875258306,0A2.7386127875258306,2.7386127875258306,0,1,1,2.7386127875258306,0\" style=\"fill: none; stroke: #4c78a8; stroke-width: 2; opacity: 0.7;\"></path><path transform=\"translate(62.85714285714287,384.61538461538464)\" d=\"M2.7386127875258306,0A2.7386127875258306,2.7386127875258306,0,1,1,-2.7386127875258306,0A2.7386127875258306,2.7386127875258306,0,1,1,2.7386127875258306,0\" style=\"fill: none; stroke: #4c78a8; stroke-width: 2; opacity: 0.7;\"></path><path transform=\"translate(68.57142857142857,369.2307692307692)\" d=\"M2.7386127875258306,0A2.7386127875258306,2.7386127875258306,0,1,1,-2.7386127875258306,0A2.7386127875258306,2.7386127875258306,0,1,1,2.7386127875258306,0\" style=\"fill: none; stroke: #4c78a8; stroke-width: 2; opacity: 0.7;\"></path><path transform=\"translate(85.71428571428571,338.46153846153845)\" d=\"M2.7386127875258306,0A2.7386127875258306,2.7386127875258306,0,1,1,-2.7386127875258306,0A2.7386127875258306,2.7386127875258306,0,1,1,2.7386127875258306,0\" style=\"fill: none; stroke: #4c78a8; stroke-width: 2; opacity: 0.7;\"></path><path transform=\"translate(74.28571428571429,338.46153846153845)\" d=\"M2.7386127875258306,0A2.7386127875258306,2.7386127875258306,0,1,1,-2.7386127875258306,0A2.7386127875258306,2.7386127875258306,0,1,1,2.7386127875258306,0\" style=\"fill: none; stroke: #4c78a8; stroke-width: 2; opacity: 0.7;\"></path><path transform=\"translate(80,353.8461538461538)\" d=\"M2.7386127875258306,0A2.7386127875258306,2.7386127875258306,0,1,1,-2.7386127875258306,0A2.7386127875258306,2.7386127875258306,0,1,1,2.7386127875258306,0\" style=\"fill: none; stroke: #4c78a8; stroke-width: 2; opacity: 0.7;\"></path><path transform=\"translate(97.14285714285714,353.8461538461538)\" d=\"M2.7386127875258306,0A2.7386127875258306,2.7386127875258306,0,1,1,-2.7386127875258306,0A2.7386127875258306,2.7386127875258306,0,1,1,2.7386127875258306,0\" style=\"fill: none; stroke: #4c78a8; stroke-width: 2; opacity: 0.7;\"></path><path transform=\"translate(85.71428571428571,353.8461538461538)\" d=\"M2.7386127875258306,0A2.7386127875258306,2.7386127875258306,0,1,1,-2.7386127875258306,0A2.7386127875258306,2.7386127875258306,0,1,1,2.7386127875258306,0\" style=\"fill: none; stroke: #4c78a8; stroke-width: 2; opacity: 0.7;\"></path><path transform=\"translate(97.14285714285714,369.2307692307692)\" d=\"M2.7386127875258306,0A2.7386127875258306,2.7386127875258306,0,1,1,-2.7386127875258306,0A2.7386127875258306,2.7386127875258306,0,1,1,2.7386127875258306,0\" style=\"fill: none; stroke: #4c78a8; stroke-width: 2; opacity: 0.7;\"></path><path transform=\"translate(85.71428571428571,338.46153846153845)\" d=\"M2.7386127875258306,0A2.7386127875258306,2.7386127875258306,0,1,1,-2.7386127875258306,0A2.7386127875258306,2.7386127875258306,0,1,1,2.7386127875258306,0\" style=\"fill: none; stroke: #4c78a8; stroke-width: 2; opacity: 0.7;\"></path><path transform=\"translate(57.14285714285714,369.2307692307692)\" d=\"M2.7386127875258306,0A2.7386127875258306,2.7386127875258306,0,1,1,-2.7386127875258306,0A2.7386127875258306,2.7386127875258306,0,1,1,2.7386127875258306,0\" style=\"fill: none; stroke: #4c78a8; stroke-width: 2; opacity: 0.7;\"></path><path transform=\"translate(97.14285714285714,323.0769230769231)\" d=\"M2.7386127875258306,0A2.7386127875258306,2.7386127875258306,0,1,1,-2.7386127875258306,0A2.7386127875258306,2.7386127875258306,0,1,1,2.7386127875258306,0\" style=\"fill: none; stroke: #4c78a8; stroke-width: 2; opacity: 0.7;\"></path><path transform=\"translate(108.57142857142857,369.2307692307692)\" d=\"M2.7386127875258306,0A2.7386127875258306,2.7386127875258306,0,1,1,-2.7386127875258306,0A2.7386127875258306,2.7386127875258306,0,1,1,2.7386127875258306,0\" style=\"fill: none; stroke: #4c78a8; stroke-width: 2; opacity: 0.7;\"></path><path transform=\"translate(91.42857142857143,369.2307692307692)\" d=\"M2.7386127875258306,0A2.7386127875258306,2.7386127875258306,0,1,1,-2.7386127875258306,0A2.7386127875258306,2.7386127875258306,0,1,1,2.7386127875258306,0\" style=\"fill: none; stroke: #4c78a8; stroke-width: 2; opacity: 0.7;\"></path><path transform=\"translate(91.42857142857143,338.46153846153845)\" d=\"M2.7386127875258306,0A2.7386127875258306,2.7386127875258306,0,1,1,-2.7386127875258306,0A2.7386127875258306,2.7386127875258306,0,1,1,2.7386127875258306,0\" style=\"fill: none; stroke: #4c78a8; stroke-width: 2; opacity: 0.7;\"></path><path transform=\"translate(85.71428571428571,369.2307692307692)\" d=\"M2.7386127875258306,0A2.7386127875258306,2.7386127875258306,0,1,1,-2.7386127875258306,0A2.7386127875258306,2.7386127875258306,0,1,1,2.7386127875258306,0\" style=\"fill: none; stroke: #4c78a8; stroke-width: 2; opacity: 0.7;\"></path><path transform=\"translate(80,369.2307692307692)\" d=\"M2.7386127875258306,0A2.7386127875258306,2.7386127875258306,0,1,1,-2.7386127875258306,0A2.7386127875258306,2.7386127875258306,0,1,1,2.7386127875258306,0\" style=\"fill: none; stroke: #4c78a8; stroke-width: 2; opacity: 0.7;\"></path><path transform=\"translate(91.42857142857143,369.2307692307692)\" d=\"M2.7386127875258306,0A2.7386127875258306,2.7386127875258306,0,1,1,-2.7386127875258306,0A2.7386127875258306,2.7386127875258306,0,1,1,2.7386127875258306,0\" style=\"fill: none; stroke: #4c78a8; stroke-width: 2; opacity: 0.7;\"></path><path transform=\"translate(91.42857142857143,369.2307692307692)\" d=\"M2.7386127875258306,0A2.7386127875258306,2.7386127875258306,0,1,1,-2.7386127875258306,0A2.7386127875258306,2.7386127875258306,0,1,1,2.7386127875258306,0\" style=\"fill: none; stroke: #4c78a8; stroke-width: 2; opacity: 0.7;\"></path><path transform=\"translate(85.71428571428571,338.46153846153845)\" d=\"M2.7386127875258306,0A2.7386127875258306,2.7386127875258306,0,1,1,-2.7386127875258306,0A2.7386127875258306,2.7386127875258306,0,1,1,2.7386127875258306,0\" style=\"fill: none; stroke: #4c78a8; stroke-width: 2; opacity: 0.7;\"></path><path transform=\"translate(85.71428571428571,384.61538461538464)\" d=\"M2.7386127875258306,0A2.7386127875258306,2.7386127875258306,0,1,1,-2.7386127875258306,0A2.7386127875258306,2.7386127875258306,0,1,1,2.7386127875258306,0\" style=\"fill: none; stroke: #4c78a8; stroke-width: 2; opacity: 0.7;\"></path><path transform=\"translate(80,369.2307692307692)\" d=\"M2.7386127875258306,0A2.7386127875258306,2.7386127875258306,0,1,1,-2.7386127875258306,0A2.7386127875258306,2.7386127875258306,0,1,1,2.7386127875258306,0\" style=\"fill: none; stroke: #4c78a8; stroke-width: 2; opacity: 0.7;\"></path><path transform=\"translate(85.71428571428571,369.2307692307692)\" d=\"M2.7386127875258306,0A2.7386127875258306,2.7386127875258306,0,1,1,-2.7386127875258306,0A2.7386127875258306,2.7386127875258306,0,1,1,2.7386127875258306,0\" style=\"fill: none; stroke: #4c78a8; stroke-width: 2; opacity: 0.7;\"></path><path transform=\"translate(68.57142857142857,369.2307692307692)\" d=\"M2.7386127875258306,0A2.7386127875258306,2.7386127875258306,0,1,1,-2.7386127875258306,0A2.7386127875258306,2.7386127875258306,0,1,1,2.7386127875258306,0\" style=\"fill: none; stroke: #4c78a8; stroke-width: 2; opacity: 0.7;\"></path><path transform=\"translate(74.28571428571429,369.2307692307692)\" d=\"M2.7386127875258306,0A2.7386127875258306,2.7386127875258306,0,1,1,-2.7386127875258306,0A2.7386127875258306,2.7386127875258306,0,1,1,2.7386127875258306,0\" style=\"fill: none; stroke: #4c78a8; stroke-width: 2; opacity: 0.7;\"></path><path transform=\"translate(80,384.61538461538464)\" d=\"M2.7386127875258306,0A2.7386127875258306,2.7386127875258306,0,1,1,-2.7386127875258306,0A2.7386127875258306,2.7386127875258306,0,1,1,2.7386127875258306,0\" style=\"fill: none; stroke: #4c78a8; stroke-width: 2; opacity: 0.7;\"></path><path transform=\"translate(74.28571428571429,369.2307692307692)\" d=\"M2.7386127875258306,0A2.7386127875258306,2.7386127875258306,0,1,1,-2.7386127875258306,0A2.7386127875258306,2.7386127875258306,0,1,1,2.7386127875258306,0\" style=\"fill: none; stroke: #4c78a8; stroke-width: 2; opacity: 0.7;\"></path><path transform=\"translate(85.71428571428571,369.2307692307692)\" d=\"M2.7386127875258306,0A2.7386127875258306,2.7386127875258306,0,1,1,-2.7386127875258306,0A2.7386127875258306,2.7386127875258306,0,1,1,2.7386127875258306,0\" style=\"fill: none; stroke: #4c78a8; stroke-width: 2; opacity: 0.7;\"></path><path transform=\"translate(74.28571428571429,353.8461538461538)\" d=\"M2.7386127875258306,0A2.7386127875258306,2.7386127875258306,0,1,1,-2.7386127875258306,0A2.7386127875258306,2.7386127875258306,0,1,1,2.7386127875258306,0\" style=\"fill: none; stroke: #4c78a8; stroke-width: 2; opacity: 0.7;\"></path><path transform=\"translate(74.28571428571429,353.8461538461538)\" d=\"M2.7386127875258306,0A2.7386127875258306,2.7386127875258306,0,1,1,-2.7386127875258306,0A2.7386127875258306,2.7386127875258306,0,1,1,2.7386127875258306,0\" style=\"fill: none; stroke: #4c78a8; stroke-width: 2; opacity: 0.7;\"></path><path transform=\"translate(74.28571428571429,369.2307692307692)\" d=\"M2.7386127875258306,0A2.7386127875258306,2.7386127875258306,0,1,1,-2.7386127875258306,0A2.7386127875258306,2.7386127875258306,0,1,1,2.7386127875258306,0\" style=\"fill: none; stroke: #4c78a8; stroke-width: 2; opacity: 0.7;\"></path><path transform=\"translate(91.42857142857143,307.69230769230774)\" d=\"M2.7386127875258306,0A2.7386127875258306,2.7386127875258306,0,1,1,-2.7386127875258306,0A2.7386127875258306,2.7386127875258306,0,1,1,2.7386127875258306,0\" style=\"fill: none; stroke: #4c78a8; stroke-width: 2; opacity: 0.7;\"></path><path transform=\"translate(108.57142857142857,338.46153846153845)\" d=\"M2.7386127875258306,0A2.7386127875258306,2.7386127875258306,0,1,1,-2.7386127875258306,0A2.7386127875258306,2.7386127875258306,0,1,1,2.7386127875258306,0\" style=\"fill: none; stroke: #4c78a8; stroke-width: 2; opacity: 0.7;\"></path><path transform=\"translate(80,353.8461538461538)\" d=\"M2.7386127875258306,0A2.7386127875258306,2.7386127875258306,0,1,1,-2.7386127875258306,0A2.7386127875258306,2.7386127875258306,0,1,1,2.7386127875258306,0\" style=\"fill: none; stroke: #4c78a8; stroke-width: 2; opacity: 0.7;\"></path><path transform=\"translate(91.42857142857143,369.2307692307692)\" d=\"M2.7386127875258306,0A2.7386127875258306,2.7386127875258306,0,1,1,-2.7386127875258306,0A2.7386127875258306,2.7386127875258306,0,1,1,2.7386127875258306,0\" style=\"fill: none; stroke: #4c78a8; stroke-width: 2; opacity: 0.7;\"></path><path transform=\"translate(80,369.2307692307692)\" d=\"M2.7386127875258306,0A2.7386127875258306,2.7386127875258306,0,1,1,-2.7386127875258306,0A2.7386127875258306,2.7386127875258306,0,1,1,2.7386127875258306,0\" style=\"fill: none; stroke: #4c78a8; stroke-width: 2; opacity: 0.7;\"></path><path transform=\"translate(85.71428571428571,369.2307692307692)\" d=\"M2.7386127875258306,0A2.7386127875258306,2.7386127875258306,0,1,1,-2.7386127875258306,0A2.7386127875258306,2.7386127875258306,0,1,1,2.7386127875258306,0\" style=\"fill: none; stroke: #4c78a8; stroke-width: 2; opacity: 0.7;\"></path><path transform=\"translate(80,369.2307692307692)\" d=\"M2.7386127875258306,0A2.7386127875258306,2.7386127875258306,0,1,1,-2.7386127875258306,0A2.7386127875258306,2.7386127875258306,0,1,1,2.7386127875258306,0\" style=\"fill: none; stroke: #4c78a8; stroke-width: 2; opacity: 0.7;\"></path><path transform=\"translate(268.5714285714286,184.6153846153846)\" d=\"M2.7386127875258306,0A2.7386127875258306,2.7386127875258306,0,1,1,-2.7386127875258306,0A2.7386127875258306,2.7386127875258306,0,1,1,2.7386127875258306,0\" style=\"fill: none; stroke: #f58518; stroke-width: 2; opacity: 0.7;\"></path><path transform=\"translate(257.14285714285717,169.23076923076925)\" d=\"M2.7386127875258306,0A2.7386127875258306,2.7386127875258306,0,1,1,-2.7386127875258306,0A2.7386127875258306,2.7386127875258306,0,1,1,2.7386127875258306,0\" style=\"fill: none; stroke: #f58518; stroke-width: 2; opacity: 0.7;\"></path><path transform=\"translate(280,169.23076923076925)\" d=\"M2.7386127875258306,0A2.7386127875258306,2.7386127875258306,0,1,1,-2.7386127875258306,0A2.7386127875258306,2.7386127875258306,0,1,1,2.7386127875258306,0\" style=\"fill: none; stroke: #f58518; stroke-width: 2; opacity: 0.7;\"></path><path transform=\"translate(228.57142857142856,200)\" d=\"M2.7386127875258306,0A2.7386127875258306,2.7386127875258306,0,1,1,-2.7386127875258306,0A2.7386127875258306,2.7386127875258306,0,1,1,2.7386127875258306,0\" style=\"fill: none; stroke: #f58518; stroke-width: 2; opacity: 0.7;\"></path><path transform=\"translate(262.85714285714283,169.23076923076925)\" d=\"M2.7386127875258306,0A2.7386127875258306,2.7386127875258306,0,1,1,-2.7386127875258306,0A2.7386127875258306,2.7386127875258306,0,1,1,2.7386127875258306,0\" style=\"fill: none; stroke: #f58518; stroke-width: 2; opacity: 0.7;\"></path><path transform=\"translate(257.14285714285717,200)\" d=\"M2.7386127875258306,0A2.7386127875258306,2.7386127875258306,0,1,1,-2.7386127875258306,0A2.7386127875258306,2.7386127875258306,0,1,1,2.7386127875258306,0\" style=\"fill: none; stroke: #f58518; stroke-width: 2; opacity: 0.7;\"></path><path transform=\"translate(268.5714285714286,153.84615384615384)\" d=\"M2.7386127875258306,0A2.7386127875258306,2.7386127875258306,0,1,1,-2.7386127875258306,0A2.7386127875258306,2.7386127875258306,0,1,1,2.7386127875258306,0\" style=\"fill: none; stroke: #f58518; stroke-width: 2; opacity: 0.7;\"></path><path transform=\"translate(188.57142857142856,246.15384615384616)\" d=\"M2.7386127875258306,0A2.7386127875258306,2.7386127875258306,0,1,1,-2.7386127875258306,0A2.7386127875258306,2.7386127875258306,0,1,1,2.7386127875258306,0\" style=\"fill: none; stroke: #f58518; stroke-width: 2; opacity: 0.7;\"></path><path transform=\"translate(262.85714285714283,200)\" d=\"M2.7386127875258306,0A2.7386127875258306,2.7386127875258306,0,1,1,-2.7386127875258306,0A2.7386127875258306,2.7386127875258306,0,1,1,2.7386127875258306,0\" style=\"fill: none; stroke: #f58518; stroke-width: 2; opacity: 0.7;\"></path><path transform=\"translate(222.85714285714286,184.6153846153846)\" d=\"M2.7386127875258306,0A2.7386127875258306,2.7386127875258306,0,1,1,-2.7386127875258306,0A2.7386127875258306,2.7386127875258306,0,1,1,2.7386127875258306,0\" style=\"fill: none; stroke: #f58518; stroke-width: 2; opacity: 0.7;\"></path><path transform=\"translate(200,246.15384615384616)\" d=\"M2.7386127875258306,0A2.7386127875258306,2.7386127875258306,0,1,1,-2.7386127875258306,0A2.7386127875258306,2.7386127875258306,0,1,1,2.7386127875258306,0\" style=\"fill: none; stroke: #f58518; stroke-width: 2; opacity: 0.7;\"></path><path transform=\"translate(240,169.23076923076925)\" d=\"M2.7386127875258306,0A2.7386127875258306,2.7386127875258306,0,1,1,-2.7386127875258306,0A2.7386127875258306,2.7386127875258306,0,1,1,2.7386127875258306,0\" style=\"fill: none; stroke: #f58518; stroke-width: 2; opacity: 0.7;\"></path><path transform=\"translate(228.57142857142856,246.15384615384616)\" d=\"M2.7386127875258306,0A2.7386127875258306,2.7386127875258306,0,1,1,-2.7386127875258306,0A2.7386127875258306,2.7386127875258306,0,1,1,2.7386127875258306,0\" style=\"fill: none; stroke: #f58518; stroke-width: 2; opacity: 0.7;\"></path><path transform=\"translate(268.5714285714286,184.6153846153846)\" d=\"M2.7386127875258306,0A2.7386127875258306,2.7386127875258306,0,1,1,-2.7386127875258306,0A2.7386127875258306,2.7386127875258306,0,1,1,2.7386127875258306,0\" style=\"fill: none; stroke: #f58518; stroke-width: 2; opacity: 0.7;\"></path><path transform=\"translate(205.71428571428575,200)\" d=\"M2.7386127875258306,0A2.7386127875258306,2.7386127875258306,0,1,1,-2.7386127875258306,0A2.7386127875258306,2.7386127875258306,0,1,1,2.7386127875258306,0\" style=\"fill: none; stroke: #f58518; stroke-width: 2; opacity: 0.7;\"></path><path transform=\"translate(251.42857142857147,184.6153846153846)\" d=\"M2.7386127875258306,0A2.7386127875258306,2.7386127875258306,0,1,1,-2.7386127875258306,0A2.7386127875258306,2.7386127875258306,0,1,1,2.7386127875258306,0\" style=\"fill: none; stroke: #f58518; stroke-width: 2; opacity: 0.7;\"></path><path transform=\"translate(257.14285714285717,169.23076923076925)\" d=\"M2.7386127875258306,0A2.7386127875258306,2.7386127875258306,0,1,1,-2.7386127875258306,0A2.7386127875258306,2.7386127875258306,0,1,1,2.7386127875258306,0\" style=\"fill: none; stroke: #f58518; stroke-width: 2; opacity: 0.7;\"></path><path transform=\"translate(234.28571428571425,246.15384615384616)\" d=\"M2.7386127875258306,0A2.7386127875258306,2.7386127875258306,0,1,1,-2.7386127875258306,0A2.7386127875258306,2.7386127875258306,0,1,1,2.7386127875258306,0\" style=\"fill: none; stroke: #f58518; stroke-width: 2; opacity: 0.7;\"></path><path transform=\"translate(257.14285714285717,169.23076923076925)\" d=\"M2.7386127875258306,0A2.7386127875258306,2.7386127875258306,0,1,1,-2.7386127875258306,0A2.7386127875258306,2.7386127875258306,0,1,1,2.7386127875258306,0\" style=\"fill: none; stroke: #f58518; stroke-width: 2; opacity: 0.7;\"></path><path transform=\"translate(222.85714285714286,230.76923076923075)\" d=\"M2.7386127875258306,0A2.7386127875258306,2.7386127875258306,0,1,1,-2.7386127875258306,0A2.7386127875258306,2.7386127875258306,0,1,1,2.7386127875258306,0\" style=\"fill: none; stroke: #f58518; stroke-width: 2; opacity: 0.7;\"></path><path transform=\"translate(274.2857142857143,123.07692307692308)\" d=\"M2.7386127875258306,0A2.7386127875258306,2.7386127875258306,0,1,1,-2.7386127875258306,0A2.7386127875258306,2.7386127875258306,0,1,1,2.7386127875258306,0\" style=\"fill: none; stroke: #f58518; stroke-width: 2; opacity: 0.7;\"></path><path transform=\"translate(228.57142857142856,200)\" d=\"M2.7386127875258306,0A2.7386127875258306,2.7386127875258306,0,1,1,-2.7386127875258306,0A2.7386127875258306,2.7386127875258306,0,1,1,2.7386127875258306,0\" style=\"fill: none; stroke: #f58518; stroke-width: 2; opacity: 0.7;\"></path><path transform=\"translate(280,169.23076923076925)\" d=\"M2.7386127875258306,0A2.7386127875258306,2.7386127875258306,0,1,1,-2.7386127875258306,0A2.7386127875258306,2.7386127875258306,0,1,1,2.7386127875258306,0\" style=\"fill: none; stroke: #f58518; stroke-width: 2; opacity: 0.7;\"></path><path transform=\"translate(268.5714285714286,215.38461538461542)\" d=\"M2.7386127875258306,0A2.7386127875258306,2.7386127875258306,0,1,1,-2.7386127875258306,0A2.7386127875258306,2.7386127875258306,0,1,1,2.7386127875258306,0\" style=\"fill: none; stroke: #f58518; stroke-width: 2; opacity: 0.7;\"></path><path transform=\"translate(245.7142857142857,200)\" d=\"M2.7386127875258306,0A2.7386127875258306,2.7386127875258306,0,1,1,-2.7386127875258306,0A2.7386127875258306,2.7386127875258306,0,1,1,2.7386127875258306,0\" style=\"fill: none; stroke: #f58518; stroke-width: 2; opacity: 0.7;\"></path><path transform=\"translate(251.42857142857147,184.6153846153846)\" d=\"M2.7386127875258306,0A2.7386127875258306,2.7386127875258306,0,1,1,-2.7386127875258306,0A2.7386127875258306,2.7386127875258306,0,1,1,2.7386127875258306,0\" style=\"fill: none; stroke: #f58518; stroke-width: 2; opacity: 0.7;\"></path><path transform=\"translate(274.2857142857143,184.6153846153846)\" d=\"M2.7386127875258306,0A2.7386127875258306,2.7386127875258306,0,1,1,-2.7386127875258306,0A2.7386127875258306,2.7386127875258306,0,1,1,2.7386127875258306,0\" style=\"fill: none; stroke: #f58518; stroke-width: 2; opacity: 0.7;\"></path><path transform=\"translate(285.7142857142857,138.46153846153845)\" d=\"M2.7386127875258306,0A2.7386127875258306,2.7386127875258306,0,1,1,-2.7386127875258306,0A2.7386127875258306,2.7386127875258306,0,1,1,2.7386127875258306,0\" style=\"fill: none; stroke: #f58518; stroke-width: 2; opacity: 0.7;\"></path><path transform=\"translate(257.14285714285717,169.23076923076925)\" d=\"M2.7386127875258306,0A2.7386127875258306,2.7386127875258306,0,1,1,-2.7386127875258306,0A2.7386127875258306,2.7386127875258306,0,1,1,2.7386127875258306,0\" style=\"fill: none; stroke: #f58518; stroke-width: 2; opacity: 0.7;\"></path><path transform=\"translate(200,246.15384615384616)\" d=\"M2.7386127875258306,0A2.7386127875258306,2.7386127875258306,0,1,1,-2.7386127875258306,0A2.7386127875258306,2.7386127875258306,0,1,1,2.7386127875258306,0\" style=\"fill: none; stroke: #f58518; stroke-width: 2; opacity: 0.7;\"></path><path transform=\"translate(217.14285714285714,230.76923076923075)\" d=\"M2.7386127875258306,0A2.7386127875258306,2.7386127875258306,0,1,1,-2.7386127875258306,0A2.7386127875258306,2.7386127875258306,0,1,1,2.7386127875258306,0\" style=\"fill: none; stroke: #f58518; stroke-width: 2; opacity: 0.7;\"></path><path transform=\"translate(211.42857142857144,246.15384615384616)\" d=\"M2.7386127875258306,0A2.7386127875258306,2.7386127875258306,0,1,1,-2.7386127875258306,0A2.7386127875258306,2.7386127875258306,0,1,1,2.7386127875258306,0\" style=\"fill: none; stroke: #f58518; stroke-width: 2; opacity: 0.7;\"></path><path transform=\"translate(222.85714285714286,215.38461538461542)\" d=\"M2.7386127875258306,0A2.7386127875258306,2.7386127875258306,0,1,1,-2.7386127875258306,0A2.7386127875258306,2.7386127875258306,0,1,1,2.7386127875258306,0\" style=\"fill: none; stroke: #f58518; stroke-width: 2; opacity: 0.7;\"></path><path transform=\"translate(291.4285714285714,153.84615384615384)\" d=\"M2.7386127875258306,0A2.7386127875258306,2.7386127875258306,0,1,1,-2.7386127875258306,0A2.7386127875258306,2.7386127875258306,0,1,1,2.7386127875258306,0\" style=\"fill: none; stroke: #f58518; stroke-width: 2; opacity: 0.7;\"></path><path transform=\"translate(257.14285714285717,169.23076923076925)\" d=\"M2.7386127875258306,0A2.7386127875258306,2.7386127875258306,0,1,1,-2.7386127875258306,0A2.7386127875258306,2.7386127875258306,0,1,1,2.7386127875258306,0\" style=\"fill: none; stroke: #f58518; stroke-width: 2; opacity: 0.7;\"></path><path transform=\"translate(257.14285714285717,153.84615384615384)\" d=\"M2.7386127875258306,0A2.7386127875258306,2.7386127875258306,0,1,1,-2.7386127875258306,0A2.7386127875258306,2.7386127875258306,0,1,1,2.7386127875258306,0\" style=\"fill: none; stroke: #f58518; stroke-width: 2; opacity: 0.7;\"></path><path transform=\"translate(268.5714285714286,169.23076923076925)\" d=\"M2.7386127875258306,0A2.7386127875258306,2.7386127875258306,0,1,1,-2.7386127875258306,0A2.7386127875258306,2.7386127875258306,0,1,1,2.7386127875258306,0\" style=\"fill: none; stroke: #f58518; stroke-width: 2; opacity: 0.7;\"></path><path transform=\"translate(251.42857142857147,200)\" d=\"M2.7386127875258306,0A2.7386127875258306,2.7386127875258306,0,1,1,-2.7386127875258306,0A2.7386127875258306,2.7386127875258306,0,1,1,2.7386127875258306,0\" style=\"fill: none; stroke: #f58518; stroke-width: 2; opacity: 0.7;\"></path><path transform=\"translate(234.28571428571425,200)\" d=\"M2.7386127875258306,0A2.7386127875258306,2.7386127875258306,0,1,1,-2.7386127875258306,0A2.7386127875258306,2.7386127875258306,0,1,1,2.7386127875258306,0\" style=\"fill: none; stroke: #f58518; stroke-width: 2; opacity: 0.7;\"></path><path transform=\"translate(228.57142857142856,200)\" d=\"M2.7386127875258306,0A2.7386127875258306,2.7386127875258306,0,1,1,-2.7386127875258306,0A2.7386127875258306,2.7386127875258306,0,1,1,2.7386127875258306,0\" style=\"fill: none; stroke: #f58518; stroke-width: 2; opacity: 0.7;\"></path><path transform=\"translate(251.42857142857147,215.38461538461542)\" d=\"M2.7386127875258306,0A2.7386127875258306,2.7386127875258306,0,1,1,-2.7386127875258306,0A2.7386127875258306,2.7386127875258306,0,1,1,2.7386127875258306,0\" style=\"fill: none; stroke: #f58518; stroke-width: 2; opacity: 0.7;\"></path><path transform=\"translate(262.85714285714283,184.6153846153846)\" d=\"M2.7386127875258306,0A2.7386127875258306,2.7386127875258306,0,1,1,-2.7386127875258306,0A2.7386127875258306,2.7386127875258306,0,1,1,2.7386127875258306,0\" style=\"fill: none; stroke: #f58518; stroke-width: 2; opacity: 0.7;\"></path><path transform=\"translate(228.57142857142856,215.38461538461542)\" d=\"M2.7386127875258306,0A2.7386127875258306,2.7386127875258306,0,1,1,-2.7386127875258306,0A2.7386127875258306,2.7386127875258306,0,1,1,2.7386127875258306,0\" style=\"fill: none; stroke: #f58518; stroke-width: 2; opacity: 0.7;\"></path><path transform=\"translate(188.57142857142856,246.15384615384616)\" d=\"M2.7386127875258306,0A2.7386127875258306,2.7386127875258306,0,1,1,-2.7386127875258306,0A2.7386127875258306,2.7386127875258306,0,1,1,2.7386127875258306,0\" style=\"fill: none; stroke: #f58518; stroke-width: 2; opacity: 0.7;\"></path><path transform=\"translate(240,200)\" d=\"M2.7386127875258306,0A2.7386127875258306,2.7386127875258306,0,1,1,-2.7386127875258306,0A2.7386127875258306,2.7386127875258306,0,1,1,2.7386127875258306,0\" style=\"fill: none; stroke: #f58518; stroke-width: 2; opacity: 0.7;\"></path><path transform=\"translate(240,215.38461538461542)\" d=\"M2.7386127875258306,0A2.7386127875258306,2.7386127875258306,0,1,1,-2.7386127875258306,0A2.7386127875258306,2.7386127875258306,0,1,1,2.7386127875258306,0\" style=\"fill: none; stroke: #f58518; stroke-width: 2; opacity: 0.7;\"></path><path transform=\"translate(240,200)\" d=\"M2.7386127875258306,0A2.7386127875258306,2.7386127875258306,0,1,1,-2.7386127875258306,0A2.7386127875258306,2.7386127875258306,0,1,1,2.7386127875258306,0\" style=\"fill: none; stroke: #f58518; stroke-width: 2; opacity: 0.7;\"></path><path transform=\"translate(245.7142857142857,200)\" d=\"M2.7386127875258306,0A2.7386127875258306,2.7386127875258306,0,1,1,-2.7386127875258306,0A2.7386127875258306,2.7386127875258306,0,1,1,2.7386127875258306,0\" style=\"fill: none; stroke: #f58518; stroke-width: 2; opacity: 0.7;\"></path><path transform=\"translate(171.42857142857142,230.76923076923075)\" d=\"M2.7386127875258306,0A2.7386127875258306,2.7386127875258306,0,1,1,-2.7386127875258306,0A2.7386127875258306,2.7386127875258306,0,1,1,2.7386127875258306,0\" style=\"fill: none; stroke: #f58518; stroke-width: 2; opacity: 0.7;\"></path><path transform=\"translate(234.28571428571425,200)\" d=\"M2.7386127875258306,0A2.7386127875258306,2.7386127875258306,0,1,1,-2.7386127875258306,0A2.7386127875258306,2.7386127875258306,0,1,1,2.7386127875258306,0\" style=\"fill: none; stroke: #f58518; stroke-width: 2; opacity: 0.7;\"></path><path transform=\"translate(342.85714285714283,15.384615384615419)\" d=\"M2.7386127875258306,0A2.7386127875258306,2.7386127875258306,0,1,1,-2.7386127875258306,0A2.7386127875258306,2.7386127875258306,0,1,1,2.7386127875258306,0\" style=\"fill: none; stroke: #e45756; stroke-width: 2; opacity: 0.7;\"></path><path transform=\"translate(291.4285714285714,107.69230769230771)\" d=\"M2.7386127875258306,0A2.7386127875258306,2.7386127875258306,0,1,1,-2.7386127875258306,0A2.7386127875258306,2.7386127875258306,0,1,1,2.7386127875258306,0\" style=\"fill: none; stroke: #e45756; stroke-width: 2; opacity: 0.7;\"></path><path transform=\"translate(337.14285714285717,76.92307692307692)\" d=\"M2.7386127875258306,0A2.7386127875258306,2.7386127875258306,0,1,1,-2.7386127875258306,0A2.7386127875258306,2.7386127875258306,0,1,1,2.7386127875258306,0\" style=\"fill: none; stroke: #e45756; stroke-width: 2; opacity: 0.7;\"></path><path transform=\"translate(320,123.07692307692308)\" d=\"M2.7386127875258306,0A2.7386127875258306,2.7386127875258306,0,1,1,-2.7386127875258306,0A2.7386127875258306,2.7386127875258306,0,1,1,2.7386127875258306,0\" style=\"fill: none; stroke: #e45756; stroke-width: 2; opacity: 0.7;\"></path><path transform=\"translate(331.4285714285714,61.53846153846154)\" d=\"M2.7386127875258306,0A2.7386127875258306,2.7386127875258306,0,1,1,-2.7386127875258306,0A2.7386127875258306,2.7386127875258306,0,1,1,2.7386127875258306,0\" style=\"fill: none; stroke: #e45756; stroke-width: 2; opacity: 0.7;\"></path><path transform=\"translate(377.1428571428571,76.92307692307692)\" d=\"M2.7386127875258306,0A2.7386127875258306,2.7386127875258306,0,1,1,-2.7386127875258306,0A2.7386127875258306,2.7386127875258306,0,1,1,2.7386127875258306,0\" style=\"fill: none; stroke: #e45756; stroke-width: 2; opacity: 0.7;\"></path><path transform=\"translate(257.14285714285717,138.46153846153845)\" d=\"M2.7386127875258306,0A2.7386127875258306,2.7386127875258306,0,1,1,-2.7386127875258306,0A2.7386127875258306,2.7386127875258306,0,1,1,2.7386127875258306,0\" style=\"fill: none; stroke: #e45756; stroke-width: 2; opacity: 0.7;\"></path><path transform=\"translate(360,123.07692307692308)\" d=\"M2.7386127875258306,0A2.7386127875258306,2.7386127875258306,0,1,1,-2.7386127875258306,0A2.7386127875258306,2.7386127875258306,0,1,1,2.7386127875258306,0\" style=\"fill: none; stroke: #e45756; stroke-width: 2; opacity: 0.7;\"></path><path transform=\"translate(331.4285714285714,123.07692307692308)\" d=\"M2.7386127875258306,0A2.7386127875258306,2.7386127875258306,0,1,1,-2.7386127875258306,0A2.7386127875258306,2.7386127875258306,0,1,1,2.7386127875258306,0\" style=\"fill: none; stroke: #e45756; stroke-width: 2; opacity: 0.7;\"></path><path transform=\"translate(348.57142857142856,15.384615384615419)\" d=\"M2.7386127875258306,0A2.7386127875258306,2.7386127875258306,0,1,1,-2.7386127875258306,0A2.7386127875258306,2.7386127875258306,0,1,1,2.7386127875258306,0\" style=\"fill: none; stroke: #e45756; stroke-width: 2; opacity: 0.7;\"></path><path transform=\"translate(291.4285714285714,92.30769230769234)\" d=\"M2.7386127875258306,0A2.7386127875258306,2.7386127875258306,0,1,1,-2.7386127875258306,0A2.7386127875258306,2.7386127875258306,0,1,1,2.7386127875258306,0\" style=\"fill: none; stroke: #e45756; stroke-width: 2; opacity: 0.7;\"></path><path transform=\"translate(302.85714285714283,107.69230769230771)\" d=\"M2.7386127875258306,0A2.7386127875258306,2.7386127875258306,0,1,1,-2.7386127875258306,0A2.7386127875258306,2.7386127875258306,0,1,1,2.7386127875258306,0\" style=\"fill: none; stroke: #e45756; stroke-width: 2; opacity: 0.7;\"></path><path transform=\"translate(314.2857142857143,76.92307692307692)\" d=\"M2.7386127875258306,0A2.7386127875258306,2.7386127875258306,0,1,1,-2.7386127875258306,0A2.7386127875258306,2.7386127875258306,0,1,1,2.7386127875258306,0\" style=\"fill: none; stroke: #e45756; stroke-width: 2; opacity: 0.7;\"></path><path transform=\"translate(285.7142857142857,92.30769230769234)\" d=\"M2.7386127875258306,0A2.7386127875258306,2.7386127875258306,0,1,1,-2.7386127875258306,0A2.7386127875258306,2.7386127875258306,0,1,1,2.7386127875258306,0\" style=\"fill: none; stroke: #e45756; stroke-width: 2; opacity: 0.7;\"></path><path transform=\"translate(291.4285714285714,30.769230769230795)\" d=\"M2.7386127875258306,0A2.7386127875258306,2.7386127875258306,0,1,1,-2.7386127875258306,0A2.7386127875258306,2.7386127875258306,0,1,1,2.7386127875258306,0\" style=\"fill: none; stroke: #e45756; stroke-width: 2; opacity: 0.7;\"></path><path transform=\"translate(302.85714285714283,46.15384615384621)\" d=\"M2.7386127875258306,0A2.7386127875258306,2.7386127875258306,0,1,1,-2.7386127875258306,0A2.7386127875258306,2.7386127875258306,0,1,1,2.7386127875258306,0\" style=\"fill: none; stroke: #e45756; stroke-width: 2; opacity: 0.7;\"></path><path transform=\"translate(314.2857142857143,123.07692307692308)\" d=\"M2.7386127875258306,0A2.7386127875258306,2.7386127875258306,0,1,1,-2.7386127875258306,0A2.7386127875258306,2.7386127875258306,0,1,1,2.7386127875258306,0\" style=\"fill: none; stroke: #e45756; stroke-width: 2; opacity: 0.7;\"></path><path transform=\"translate(382.8571428571429,61.53846153846154)\" d=\"M2.7386127875258306,0A2.7386127875258306,2.7386127875258306,0,1,1,-2.7386127875258306,0A2.7386127875258306,2.7386127875258306,0,1,1,2.7386127875258306,0\" style=\"fill: none; stroke: #e45756; stroke-width: 2; opacity: 0.7;\"></path><path transform=\"translate(394.28571428571433,46.15384615384621)\" d=\"M2.7386127875258306,0A2.7386127875258306,2.7386127875258306,0,1,1,-2.7386127875258306,0A2.7386127875258306,2.7386127875258306,0,1,1,2.7386127875258306,0\" style=\"fill: none; stroke: #e45756; stroke-width: 2; opacity: 0.7;\"></path><path transform=\"translate(285.7142857142857,169.23076923076925)\" d=\"M2.7386127875258306,0A2.7386127875258306,2.7386127875258306,0,1,1,-2.7386127875258306,0A2.7386127875258306,2.7386127875258306,0,1,1,2.7386127875258306,0\" style=\"fill: none; stroke: #e45756; stroke-width: 2; opacity: 0.7;\"></path><path transform=\"translate(325.7142857142857,46.15384615384621)\" d=\"M2.7386127875258306,0A2.7386127875258306,2.7386127875258306,0,1,1,-2.7386127875258306,0A2.7386127875258306,2.7386127875258306,0,1,1,2.7386127875258306,0\" style=\"fill: none; stroke: #e45756; stroke-width: 2; opacity: 0.7;\"></path><path transform=\"translate(280,92.30769230769234)\" d=\"M2.7386127875258306,0A2.7386127875258306,2.7386127875258306,0,1,1,-2.7386127875258306,0A2.7386127875258306,2.7386127875258306,0,1,1,2.7386127875258306,0\" style=\"fill: none; stroke: #e45756; stroke-width: 2; opacity: 0.7;\"></path><path transform=\"translate(382.8571428571429,92.30769230769234)\" d=\"M2.7386127875258306,0A2.7386127875258306,2.7386127875258306,0,1,1,-2.7386127875258306,0A2.7386127875258306,2.7386127875258306,0,1,1,2.7386127875258306,0\" style=\"fill: none; stroke: #e45756; stroke-width: 2; opacity: 0.7;\"></path><path transform=\"translate(280,123.07692307692308)\" d=\"M2.7386127875258306,0A2.7386127875258306,2.7386127875258306,0,1,1,-2.7386127875258306,0A2.7386127875258306,2.7386127875258306,0,1,1,2.7386127875258306,0\" style=\"fill: none; stroke: #e45756; stroke-width: 2; opacity: 0.7;\"></path><path transform=\"translate(325.7142857142857,76.92307692307692)\" d=\"M2.7386127875258306,0A2.7386127875258306,2.7386127875258306,0,1,1,-2.7386127875258306,0A2.7386127875258306,2.7386127875258306,0,1,1,2.7386127875258306,0\" style=\"fill: none; stroke: #e45756; stroke-width: 2; opacity: 0.7;\"></path><path transform=\"translate(342.85714285714283,123.07692307692308)\" d=\"M2.7386127875258306,0A2.7386127875258306,2.7386127875258306,0,1,1,-2.7386127875258306,0A2.7386127875258306,2.7386127875258306,0,1,1,2.7386127875258306,0\" style=\"fill: none; stroke: #e45756; stroke-width: 2; opacity: 0.7;\"></path><path transform=\"translate(274.2857142857143,123.07692307692308)\" d=\"M2.7386127875258306,0A2.7386127875258306,2.7386127875258306,0,1,1,-2.7386127875258306,0A2.7386127875258306,2.7386127875258306,0,1,1,2.7386127875258306,0\" style=\"fill: none; stroke: #e45756; stroke-width: 2; opacity: 0.7;\"></path><path transform=\"translate(280,123.07692307692308)\" d=\"M2.7386127875258306,0A2.7386127875258306,2.7386127875258306,0,1,1,-2.7386127875258306,0A2.7386127875258306,2.7386127875258306,0,1,1,2.7386127875258306,0\" style=\"fill: none; stroke: #e45756; stroke-width: 2; opacity: 0.7;\"></path><path transform=\"translate(320,76.92307692307692)\" d=\"M2.7386127875258306,0A2.7386127875258306,2.7386127875258306,0,1,1,-2.7386127875258306,0A2.7386127875258306,2.7386127875258306,0,1,1,2.7386127875258306,0\" style=\"fill: none; stroke: #e45756; stroke-width: 2; opacity: 0.7;\"></path><path transform=\"translate(331.4285714285714,153.84615384615384)\" d=\"M2.7386127875258306,0A2.7386127875258306,2.7386127875258306,0,1,1,-2.7386127875258306,0A2.7386127875258306,2.7386127875258306,0,1,1,2.7386127875258306,0\" style=\"fill: none; stroke: #e45756; stroke-width: 2; opacity: 0.7;\"></path><path transform=\"translate(348.57142857142856,107.69230769230771)\" d=\"M2.7386127875258306,0A2.7386127875258306,2.7386127875258306,0,1,1,-2.7386127875258306,0A2.7386127875258306,2.7386127875258306,0,1,1,2.7386127875258306,0\" style=\"fill: none; stroke: #e45756; stroke-width: 2; opacity: 0.7;\"></path><path transform=\"translate(365.7142857142857,92.30769230769234)\" d=\"M2.7386127875258306,0A2.7386127875258306,2.7386127875258306,0,1,1,-2.7386127875258306,0A2.7386127875258306,2.7386127875258306,0,1,1,2.7386127875258306,0\" style=\"fill: none; stroke: #e45756; stroke-width: 2; opacity: 0.7;\"></path><path transform=\"translate(320,61.53846153846154)\" d=\"M2.7386127875258306,0A2.7386127875258306,2.7386127875258306,0,1,1,-2.7386127875258306,0A2.7386127875258306,2.7386127875258306,0,1,1,2.7386127875258306,0\" style=\"fill: none; stroke: #e45756; stroke-width: 2; opacity: 0.7;\"></path><path transform=\"translate(291.4285714285714,169.23076923076925)\" d=\"M2.7386127875258306,0A2.7386127875258306,2.7386127875258306,0,1,1,-2.7386127875258306,0A2.7386127875258306,2.7386127875258306,0,1,1,2.7386127875258306,0\" style=\"fill: none; stroke: #e45756; stroke-width: 2; opacity: 0.7;\"></path><path transform=\"translate(320,184.6153846153846)\" d=\"M2.7386127875258306,0A2.7386127875258306,2.7386127875258306,0,1,1,-2.7386127875258306,0A2.7386127875258306,2.7386127875258306,0,1,1,2.7386127875258306,0\" style=\"fill: none; stroke: #e45756; stroke-width: 2; opacity: 0.7;\"></path><path transform=\"translate(348.57142857142856,46.15384615384621)\" d=\"M2.7386127875258306,0A2.7386127875258306,2.7386127875258306,0,1,1,-2.7386127875258306,0A2.7386127875258306,2.7386127875258306,0,1,1,2.7386127875258306,0\" style=\"fill: none; stroke: #e45756; stroke-width: 2; opacity: 0.7;\"></path><path transform=\"translate(320,30.769230769230795)\" d=\"M2.7386127875258306,0A2.7386127875258306,2.7386127875258306,0,1,1,-2.7386127875258306,0A2.7386127875258306,2.7386127875258306,0,1,1,2.7386127875258306,0\" style=\"fill: none; stroke: #e45756; stroke-width: 2; opacity: 0.7;\"></path><path transform=\"translate(314.2857142857143,123.07692307692308)\" d=\"M2.7386127875258306,0A2.7386127875258306,2.7386127875258306,0,1,1,-2.7386127875258306,0A2.7386127875258306,2.7386127875258306,0,1,1,2.7386127875258306,0\" style=\"fill: none; stroke: #e45756; stroke-width: 2; opacity: 0.7;\"></path><path transform=\"translate(274.2857142857143,123.07692307692308)\" d=\"M2.7386127875258306,0A2.7386127875258306,2.7386127875258306,0,1,1,-2.7386127875258306,0A2.7386127875258306,2.7386127875258306,0,1,1,2.7386127875258306,0\" style=\"fill: none; stroke: #e45756; stroke-width: 2; opacity: 0.7;\"></path><path transform=\"translate(308.5714285714286,76.92307692307692)\" d=\"M2.7386127875258306,0A2.7386127875258306,2.7386127875258306,0,1,1,-2.7386127875258306,0A2.7386127875258306,2.7386127875258306,0,1,1,2.7386127875258306,0\" style=\"fill: none; stroke: #e45756; stroke-width: 2; opacity: 0.7;\"></path><path transform=\"translate(320,30.769230769230795)\" d=\"M2.7386127875258306,0A2.7386127875258306,2.7386127875258306,0,1,1,-2.7386127875258306,0A2.7386127875258306,2.7386127875258306,0,1,1,2.7386127875258306,0\" style=\"fill: none; stroke: #e45756; stroke-width: 2; opacity: 0.7;\"></path><path transform=\"translate(291.4285714285714,46.15384615384621)\" d=\"M2.7386127875258306,0A2.7386127875258306,2.7386127875258306,0,1,1,-2.7386127875258306,0A2.7386127875258306,2.7386127875258306,0,1,1,2.7386127875258306,0\" style=\"fill: none; stroke: #e45756; stroke-width: 2; opacity: 0.7;\"></path><path transform=\"translate(291.4285714285714,107.69230769230771)\" d=\"M2.7386127875258306,0A2.7386127875258306,2.7386127875258306,0,1,1,-2.7386127875258306,0A2.7386127875258306,2.7386127875258306,0,1,1,2.7386127875258306,0\" style=\"fill: none; stroke: #e45756; stroke-width: 2; opacity: 0.7;\"></path><path transform=\"translate(337.14285714285717,46.15384615384621)\" d=\"M2.7386127875258306,0A2.7386127875258306,2.7386127875258306,0,1,1,-2.7386127875258306,0A2.7386127875258306,2.7386127875258306,0,1,1,2.7386127875258306,0\" style=\"fill: none; stroke: #e45756; stroke-width: 2; opacity: 0.7;\"></path><path transform=\"translate(325.7142857142857,15.384615384615419)\" d=\"M2.7386127875258306,0A2.7386127875258306,2.7386127875258306,0,1,1,-2.7386127875258306,0A2.7386127875258306,2.7386127875258306,0,1,1,2.7386127875258306,0\" style=\"fill: none; stroke: #e45756; stroke-width: 2; opacity: 0.7;\"></path><path transform=\"translate(297.14285714285717,46.15384615384621)\" d=\"M2.7386127875258306,0A2.7386127875258306,2.7386127875258306,0,1,1,-2.7386127875258306,0A2.7386127875258306,2.7386127875258306,0,1,1,2.7386127875258306,0\" style=\"fill: none; stroke: #e45756; stroke-width: 2; opacity: 0.7;\"></path><path transform=\"translate(285.7142857142857,107.69230769230771)\" d=\"M2.7386127875258306,0A2.7386127875258306,2.7386127875258306,0,1,1,-2.7386127875258306,0A2.7386127875258306,2.7386127875258306,0,1,1,2.7386127875258306,0\" style=\"fill: none; stroke: #e45756; stroke-width: 2; opacity: 0.7;\"></path><path transform=\"translate(297.14285714285717,92.30769230769234)\" d=\"M2.7386127875258306,0A2.7386127875258306,2.7386127875258306,0,1,1,-2.7386127875258306,0A2.7386127875258306,2.7386127875258306,0,1,1,2.7386127875258306,0\" style=\"fill: none; stroke: #e45756; stroke-width: 2; opacity: 0.7;\"></path><path transform=\"translate(308.5714285714286,46.15384615384621)\" d=\"M2.7386127875258306,0A2.7386127875258306,2.7386127875258306,0,1,1,-2.7386127875258306,0A2.7386127875258306,2.7386127875258306,0,1,1,2.7386127875258306,0\" style=\"fill: none; stroke: #e45756; stroke-width: 2; opacity: 0.7;\"></path><path transform=\"translate(291.4285714285714,123.07692307692308)\" d=\"M2.7386127875258306,0A2.7386127875258306,2.7386127875258306,0,1,1,-2.7386127875258306,0A2.7386127875258306,2.7386127875258306,0,1,1,2.7386127875258306,0\" style=\"fill: none; stroke: #e45756; stroke-width: 2; opacity: 0.7;\"></path></g><g class=\"mark-group role-legend\"><g transform=\"translate(418,0)\"><path class=\"background\" d=\"M0,0h76v61h-76Z\" style=\"pointer-events: none; fill: none;\"></path><g><g class=\"mark-group role-legend-entry\"><g transform=\"translate(0,16)\"><path class=\"background\" d=\"M0,0h0v0h0Z\" style=\"pointer-events: none; fill: none;\"></path><g><g class=\"mark-group role-scope\"><g transform=\"translate(0,0)\"><path class=\"background\" d=\"M0,0h76v12.5h-76Z\" style=\"pointer-events: none; fill: none; opacity: 1;\"></path><g><g class=\"mark-symbol role-legend-symbol\" style=\"pointer-events: none;\"><path transform=\"translate(6,6)\" d=\"M5,0A5,5,0,1,1,-5,0A5,5,0,1,1,5,0\" style=\"fill: none; stroke: #4c78a8; stroke-width: 1.5; opacity: 0.7;\"></path></g><g class=\"mark-text role-legend-label\" style=\"pointer-events: none;\"><text text-anchor=\"start\" transform=\"translate(16,9)\" style=\"font-family: sans-serif; font-size: 10px; fill: #000; opacity: 1;\">setosa</text></g></g></g><g transform=\"translate(0,16)\"><path class=\"background\" d=\"M0,0h76v12.5h-76Z\" style=\"pointer-events: none; fill: none; opacity: 1;\"></path><g><g class=\"mark-symbol role-legend-symbol\" style=\"pointer-events: none;\"><path transform=\"translate(6,6)\" d=\"M5,0A5,5,0,1,1,-5,0A5,5,0,1,1,5,0\" style=\"fill: none; stroke: #f58518; stroke-width: 1.5; opacity: 0.7;\"></path></g><g class=\"mark-text role-legend-label\" style=\"pointer-events: none;\"><text text-anchor=\"start\" transform=\"translate(16,9)\" style=\"font-family: sans-serif; font-size: 10px; fill: #000; opacity: 1;\">versicolor</text></g></g></g><g transform=\"translate(0,32)\"><path class=\"background\" d=\"M0,0h76v12.5h-76Z\" style=\"pointer-events: none; fill: none; opacity: 1;\"></path><g><g class=\"mark-symbol role-legend-symbol\" style=\"pointer-events: none;\"><path transform=\"translate(6,6)\" d=\"M5,0A5,5,0,1,1,-5,0A5,5,0,1,1,5,0\" style=\"fill: none; stroke: #e45756; stroke-width: 1.5; opacity: 0.7;\"></path></g><g class=\"mark-text role-legend-label\" style=\"pointer-events: none;\"><text text-anchor=\"start\" transform=\"translate(16,9)\" style=\"font-family: sans-serif; font-size: 10px; fill: #000; opacity: 1;\">virginica</text></g></g></g></g></g></g></g><g class=\"mark-text role-legend-title\" style=\"pointer-events: none;\"><text text-anchor=\"start\" transform=\"translate(0,9)\" style=\"font-family: sans-serif; font-size: 11px; font-weight: bold; fill: #000; opacity: 1;\">Species</text></g></g></g></g><g class=\"mark-group role-axis\"><g transform=\"translate(0.5,400.5)\"><path class=\"background\" d=\"M0,0h0v0h0Z\" style=\"pointer-events: none; fill: none;\"></path><g><g class=\"mark-rule role-axis-tick\" style=\"pointer-events: none;\"><line transform=\"translate(0,0)\" x2=\"0\" y2=\"5\" style=\"fill: none; stroke: #888; stroke-width: 1; opacity: 1;\"></line><line transform=\"translate(29,0)\" x2=\"0\" y2=\"5\" style=\"fill: none; stroke: #888; stroke-width: 1; opacity: 1;\"></line><line transform=\"translate(57,0)\" x2=\"0\" y2=\"5\" style=\"fill: none; stroke: #888; stroke-width: 1; opacity: 1;\"></line><line transform=\"translate(86,0)\" x2=\"0\" y2=\"5\" style=\"fill: none; stroke: #888; stroke-width: 1; opacity: 1;\"></line><line transform=\"translate(114,0)\" x2=\"0\" y2=\"5\" style=\"fill: none; stroke: #888; stroke-width: 1; opacity: 1;\"></line><line transform=\"translate(143,0)\" x2=\"0\" y2=\"5\" style=\"fill: none; stroke: #888; stroke-width: 1; opacity: 1;\"></line><line transform=\"translate(171,0)\" x2=\"0\" y2=\"5\" style=\"fill: none; stroke: #888; stroke-width: 1; opacity: 1;\"></line><line transform=\"translate(200,0)\" x2=\"0\" y2=\"5\" style=\"fill: none; stroke: #888; stroke-width: 1; opacity: 1;\"></line><line transform=\"translate(229,0)\" x2=\"0\" y2=\"5\" style=\"fill: none; stroke: #888; stroke-width: 1; opacity: 1;\"></line><line transform=\"translate(257,0)\" x2=\"0\" y2=\"5\" style=\"fill: none; stroke: #888; stroke-width: 1; opacity: 1;\"></line><line transform=\"translate(286,0)\" x2=\"0\" y2=\"5\" style=\"fill: none; stroke: #888; stroke-width: 1; opacity: 1;\"></line><line transform=\"translate(314,0)\" x2=\"0\" y2=\"5\" style=\"fill: none; stroke: #888; stroke-width: 1; opacity: 1;\"></line><line transform=\"translate(343,0)\" x2=\"0\" y2=\"5\" style=\"fill: none; stroke: #888; stroke-width: 1; opacity: 1;\"></line><line transform=\"translate(371,0)\" x2=\"0\" y2=\"5\" style=\"fill: none; stroke: #888; stroke-width: 1; opacity: 1;\"></line><line transform=\"translate(400,0)\" x2=\"0\" y2=\"5\" style=\"fill: none; stroke: #888; stroke-width: 1; opacity: 1;\"></line></g><g class=\"mark-text role-axis-label\" style=\"pointer-events: none;\"><text text-anchor=\"start\" transform=\"translate(0,15)\" style=\"font-family: sans-serif; font-size: 10px; fill: #000; opacity: 1;\">0.0</text><text text-anchor=\"middle\" transform=\"translate(28.57142857142857,15)\" style=\"font-family: sans-serif; font-size: 10px; fill: #000; opacity: 1;\">0.5</text><text text-anchor=\"middle\" transform=\"translate(57.14285714285714,15)\" style=\"font-family: sans-serif; font-size: 10px; fill: #000; opacity: 1;\">1.0</text><text text-anchor=\"middle\" transform=\"translate(85.71428571428571,15)\" style=\"font-family: sans-serif; font-size: 10px; fill: #000; opacity: 1;\">1.5</text><text text-anchor=\"middle\" transform=\"translate(114.28571428571428,15)\" style=\"font-family: sans-serif; font-size: 10px; fill: #000; opacity: 1;\">2.0</text><text text-anchor=\"middle\" transform=\"translate(142.85714285714286,15)\" style=\"font-family: sans-serif; font-size: 10px; fill: #000; opacity: 1;\">2.5</text><text text-anchor=\"middle\" transform=\"translate(171.42857142857142,15)\" style=\"font-family: sans-serif; font-size: 10px; fill: #000; opacity: 1;\">3.0</text><text text-anchor=\"middle\" transform=\"translate(200,15)\" style=\"font-family: sans-serif; font-size: 10px; fill: #000; opacity: 1;\">3.5</text><text text-anchor=\"middle\" transform=\"translate(228.57142857142856,15)\" style=\"font-family: sans-serif; font-size: 10px; fill: #000; opacity: 1;\">4.0</text><text text-anchor=\"middle\" transform=\"translate(257.14285714285717,15)\" style=\"font-family: sans-serif; font-size: 10px; fill: #000; opacity: 1;\">4.5</text><text text-anchor=\"middle\" transform=\"translate(285.7142857142857,15)\" style=\"font-family: sans-serif; font-size: 10px; fill: #000; opacity: 1;\">5.0</text><text text-anchor=\"middle\" transform=\"translate(314.2857142857143,15)\" style=\"font-family: sans-serif; font-size: 10px; fill: #000; opacity: 1;\">5.5</text><text text-anchor=\"middle\" transform=\"translate(342.85714285714283,15)\" style=\"font-family: sans-serif; font-size: 10px; fill: #000; opacity: 1;\">6.0</text><text text-anchor=\"middle\" transform=\"translate(371.42857142857144,15)\" style=\"font-family: sans-serif; font-size: 10px; fill: #000; opacity: 1;\">6.5</text><text text-anchor=\"end\" transform=\"translate(400,15)\" style=\"font-family: sans-serif; font-size: 10px; fill: #000; opacity: 1;\">7.0</text></g><g class=\"mark-rule role-axis-domain\" style=\"pointer-events: none;\"><line transform=\"translate(0,0)\" x2=\"400\" y2=\"0\" style=\"fill: none; stroke: #888; stroke-width: 1; opacity: 1;\"></line></g><g class=\"mark-text role-axis-title\" style=\"pointer-events: none;\"><text text-anchor=\"middle\" transform=\"translate(200,30)\" style=\"font-family: sans-serif; font-size: 11px; font-weight: bold; fill: #000; opacity: 1;\">PetalLength</text></g></g></g></g><g class=\"mark-group role-axis\"><g transform=\"translate(0.5,0.5)\"><path class=\"background\" d=\"M0,0h0v0h0Z\" style=\"pointer-events: none; fill: none;\"></path><g><g class=\"mark-rule role-axis-tick\" style=\"pointer-events: none;\"><line transform=\"translate(0,400)\" x2=\"-5\" y2=\"0\" style=\"fill: none; stroke: #888; stroke-width: 1; opacity: 1;\"></line><line transform=\"translate(0,369)\" x2=\"-5\" y2=\"0\" style=\"fill: none; stroke: #888; stroke-width: 1; opacity: 1;\"></line><line transform=\"translate(0,338)\" x2=\"-5\" y2=\"0\" style=\"fill: none; stroke: #888; stroke-width: 1; opacity: 1;\"></line><line transform=\"translate(0,308)\" x2=\"-5\" y2=\"0\" style=\"fill: none; stroke: #888; stroke-width: 1; opacity: 1;\"></line><line transform=\"translate(0,277)\" x2=\"-5\" y2=\"0\" style=\"fill: none; stroke: #888; stroke-width: 1; opacity: 1;\"></line><line transform=\"translate(0,246)\" x2=\"-5\" y2=\"0\" style=\"fill: none; stroke: #888; stroke-width: 1; opacity: 1;\"></line><line transform=\"translate(0,215)\" x2=\"-5\" y2=\"0\" style=\"fill: none; stroke: #888; stroke-width: 1; opacity: 1;\"></line><line transform=\"translate(0,185)\" x2=\"-5\" y2=\"0\" style=\"fill: none; stroke: #888; stroke-width: 1; opacity: 1;\"></line><line transform=\"translate(0,154)\" x2=\"-5\" y2=\"0\" style=\"fill: none; stroke: #888; stroke-width: 1; opacity: 1;\"></line><line transform=\"translate(0,123)\" x2=\"-5\" y2=\"0\" style=\"fill: none; stroke: #888; stroke-width: 1; opacity: 1;\"></line><line transform=\"translate(0,92)\" x2=\"-5\" y2=\"0\" style=\"fill: none; stroke: #888; stroke-width: 1; opacity: 1;\"></line><line transform=\"translate(0,62)\" x2=\"-5\" y2=\"0\" style=\"fill: none; stroke: #888; stroke-width: 1; opacity: 1;\"></line><line transform=\"translate(0,31)\" x2=\"-5\" y2=\"0\" style=\"fill: none; stroke: #888; stroke-width: 1; opacity: 1;\"></line><line transform=\"translate(0,0)\" x2=\"-5\" y2=\"0\" style=\"fill: none; stroke: #888; stroke-width: 1; opacity: 1;\"></line></g><g class=\"mark-text role-axis-label\" style=\"pointer-events: none;\"><text text-anchor=\"end\" transform=\"translate(-7,403)\" style=\"font-family: sans-serif; font-size: 10px; fill: #000; opacity: 1;\">0.0</text><text text-anchor=\"end\" transform=\"translate(-7,372.2307692307692)\" style=\"font-family: sans-serif; font-size: 10px; fill: #000; opacity: 1;\">0.2</text><text text-anchor=\"end\" transform=\"translate(-7,341.46153846153845)\" style=\"font-family: sans-serif; font-size: 10px; fill: #000; opacity: 1;\">0.4</text><text text-anchor=\"end\" transform=\"translate(-7,310.69230769230774)\" style=\"font-family: sans-serif; font-size: 10px; fill: #000; opacity: 1;\">0.6</text><text text-anchor=\"end\" transform=\"translate(-7,279.9230769230769)\" style=\"font-family: sans-serif; font-size: 10px; fill: #000; opacity: 1;\">0.8</text><text text-anchor=\"end\" transform=\"translate(-7,249.15384615384616)\" style=\"font-family: sans-serif; font-size: 10px; fill: #000; opacity: 1;\">1.0</text><text text-anchor=\"end\" transform=\"translate(-7,218.38461538461542)\" style=\"font-family: sans-serif; font-size: 10px; fill: #000; opacity: 1;\">1.2</text><text text-anchor=\"end\" transform=\"translate(-7,187.6153846153846)\" style=\"font-family: sans-serif; font-size: 10px; fill: #000; opacity: 1;\">1.4</text><text text-anchor=\"end\" transform=\"translate(-7,156.84615384615384)\" style=\"font-family: sans-serif; font-size: 10px; fill: #000; opacity: 1;\">1.6</text><text text-anchor=\"end\" transform=\"translate(-7,126.07692307692308)\" style=\"font-family: sans-serif; font-size: 10px; fill: #000; opacity: 1;\">1.8</text><text text-anchor=\"end\" transform=\"translate(-7,95.30769230769234)\" style=\"font-family: sans-serif; font-size: 10px; fill: #000; opacity: 1;\">2.0</text><text text-anchor=\"end\" transform=\"translate(-7,64.53846153846155)\" style=\"font-family: sans-serif; font-size: 10px; fill: #000; opacity: 1;\">2.2</text><text text-anchor=\"end\" transform=\"translate(-7,33.769230769230795)\" style=\"font-family: sans-serif; font-size: 10px; fill: #000; opacity: 1;\">2.4</text><text text-anchor=\"end\" transform=\"translate(-7,3)\" style=\"font-family: sans-serif; font-size: 10px; fill: #000; opacity: 1;\">2.6</text></g><g class=\"mark-rule role-axis-domain\" style=\"pointer-events: none;\"><line transform=\"translate(0,400)\" x2=\"0\" y2=\"-400\" style=\"fill: none; stroke: #888; stroke-width: 1; opacity: 1;\"></line></g><g class=\"mark-text role-axis-title\" style=\"pointer-events: none;\"><text text-anchor=\"middle\" transform=\"translate(-29,200) rotate(-90) translate(0,-2)\" style=\"font-family: sans-serif; font-size: 11px; font-weight: bold; fill: #000; opacity: 1;\">PetalWidth</text></g></g></g></g></g></g></g></g></svg>"
      ],
      "text/plain": [
       "VegaLite.VLSpec{:plot}"
      ]
     },
     "execution_count": 13,
     "metadata": {
      "tags": []
     },
     "output_type": "execute_result"
    }
   ],
   "source": [
    "iris |> @vlplot(\n",
    "  :point,\n",
    "  x=:PetalLength,\n",
    "  y=:PetalWidth,\n",
    "  color=\"Species:n\",\n",
    "  width = 400,\n",
    "  height=400\n",
    ")"
   ]
  },
  {
   "cell_type": "markdown",
   "metadata": {
    "id": "inklZ5d5T2_b"
   },
   "source": [
    "### ** __Бонус__: еще более красивые графики \n",
    "---\n"
   ]
  },
  {
   "cell_type": "markdown",
   "metadata": {
    "id": "EzxVQ9WjaYeo"
   },
   "source": [
    "Так как пакеты **VegaDatasets, RDatasets** конфликтуют, поэтому используем VegaDatasets.dataset"
   ]
  },
  {
   "cell_type": "code",
   "execution_count": null,
   "metadata": {
    "id": "8Ll_bcs1aMy3"
   },
   "outputs": [],
   "source": [
    "import Pkg; Pkg.add(\"VegaLite\")"
   ]
  },
  {
   "cell_type": "code",
   "execution_count": null,
   "metadata": {
    "id": "qU1N6DQLRv7-"
   },
   "outputs": [],
   "source": [
    "import Pkg; Pkg.add(\"VegaDatasets\")"
   ]
  },
  {
   "cell_type": "code",
   "execution_count": null,
   "metadata": {
    "colab": {
     "base_uri": "https://localhost:8080/",
     "height": 385
    },
    "id": "9ikk6RONOy5X",
    "outputId": "e4198ade-71f3-4008-bbd1-f7f655c230ea"
   },
   "outputs": [
    {
     "name": "stderr",
     "output_type": "stream",
     "text": [
      "┌ Info: Precompiling VegaDatasets [0ae4a718-28b7-58ec-9efb-cded64d6d5b4]\n",
      "└ @ Base loading.jl:1278\n",
      "WARNING: using VegaDatasets.dataset in module Main conflicts with an existing identifier.\n",
      "┌ Info: Precompiling VegaLite [112f6efa-9a02-5b7d-90c0-432ed331239a]\n",
      "└ @ Base loading.jl:1278\n"
     ]
    },
    {
     "data": {
      "application/vnd.dataresource+json": {
       "data": [
        {
         "Acceleration": 12,
         "Cylinders": 8,
         "Displacement": 307,
         "Horsepower": 130,
         "Miles_per_Gallon": 18,
         "Name": "chevrolet chevelle malibu",
         "Origin": "USA",
         "Weight_in_lbs": 3504,
         "Year": "1970-01-01"
        },
        {
         "Acceleration": 11.5,
         "Cylinders": 8,
         "Displacement": 350,
         "Horsepower": 165,
         "Miles_per_Gallon": 15,
         "Name": "buick skylark 320",
         "Origin": "USA",
         "Weight_in_lbs": 3693,
         "Year": "1970-01-01"
        },
        {
         "Acceleration": 11,
         "Cylinders": 8,
         "Displacement": 318,
         "Horsepower": 150,
         "Miles_per_Gallon": 18,
         "Name": "plymouth satellite",
         "Origin": "USA",
         "Weight_in_lbs": 3436,
         "Year": "1970-01-01"
        },
        {
         "Acceleration": 12,
         "Cylinders": 8,
         "Displacement": 304,
         "Horsepower": 150,
         "Miles_per_Gallon": 16,
         "Name": "amc rebel sst",
         "Origin": "USA",
         "Weight_in_lbs": 3433,
         "Year": "1970-01-01"
        },
        {
         "Acceleration": 10.5,
         "Cylinders": 8,
         "Displacement": 302,
         "Horsepower": 140,
         "Miles_per_Gallon": 17,
         "Name": "ford torino",
         "Origin": "USA",
         "Weight_in_lbs": 3449,
         "Year": "1970-01-01"
        },
        {
         "Acceleration": 10,
         "Cylinders": 8,
         "Displacement": 429,
         "Horsepower": 198,
         "Miles_per_Gallon": 15,
         "Name": "ford galaxie 500",
         "Origin": "USA",
         "Weight_in_lbs": 4341,
         "Year": "1970-01-01"
        },
        {
         "Acceleration": 9,
         "Cylinders": 8,
         "Displacement": 454,
         "Horsepower": 220,
         "Miles_per_Gallon": 14,
         "Name": "chevrolet impala",
         "Origin": "USA",
         "Weight_in_lbs": 4354,
         "Year": "1970-01-01"
        },
        {
         "Acceleration": 8.5,
         "Cylinders": 8,
         "Displacement": 440,
         "Horsepower": 215,
         "Miles_per_Gallon": 14,
         "Name": "plymouth fury iii",
         "Origin": "USA",
         "Weight_in_lbs": 4312,
         "Year": "1970-01-01"
        },
        {
         "Acceleration": 10,
         "Cylinders": 8,
         "Displacement": 455,
         "Horsepower": 225,
         "Miles_per_Gallon": 14,
         "Name": "pontiac catalina",
         "Origin": "USA",
         "Weight_in_lbs": 4425,
         "Year": "1970-01-01"
        },
        {
         "Acceleration": 8.5,
         "Cylinders": 8,
         "Displacement": 390,
         "Horsepower": 190,
         "Miles_per_Gallon": 15,
         "Name": "amc ambassador dpl",
         "Origin": "USA",
         "Weight_in_lbs": 3850,
         "Year": "1970-01-01"
        },
        {
         "Acceleration": 17.5,
         "Cylinders": 4,
         "Displacement": 133,
         "Horsepower": 115,
         "Miles_per_Gallon": null,
         "Name": "citroen ds-21 pallas",
         "Origin": "Europe",
         "Weight_in_lbs": 3090,
         "Year": "1970-01-01"
        },
        {
         "Acceleration": 11.5,
         "Cylinders": 8,
         "Displacement": 350,
         "Horsepower": 165,
         "Miles_per_Gallon": null,
         "Name": "chevrolet chevelle concours (sw)",
         "Origin": "USA",
         "Weight_in_lbs": 4142,
         "Year": "1970-01-01"
        },
        {
         "Acceleration": 11,
         "Cylinders": 8,
         "Displacement": 351,
         "Horsepower": 153,
         "Miles_per_Gallon": null,
         "Name": "ford torino (sw)",
         "Origin": "USA",
         "Weight_in_lbs": 4034,
         "Year": "1970-01-01"
        },
        {
         "Acceleration": 10.5,
         "Cylinders": 8,
         "Displacement": 383,
         "Horsepower": 175,
         "Miles_per_Gallon": null,
         "Name": "plymouth satellite (sw)",
         "Origin": "USA",
         "Weight_in_lbs": 4166,
         "Year": "1970-01-01"
        },
        {
         "Acceleration": 11,
         "Cylinders": 8,
         "Displacement": 360,
         "Horsepower": 175,
         "Miles_per_Gallon": null,
         "Name": "amc rebel sst (sw)",
         "Origin": "USA",
         "Weight_in_lbs": 3850,
         "Year": "1970-01-01"
        },
        {
         "Acceleration": 10,
         "Cylinders": 8,
         "Displacement": 383,
         "Horsepower": 170,
         "Miles_per_Gallon": 15,
         "Name": "dodge challenger se",
         "Origin": "USA",
         "Weight_in_lbs": 3563,
         "Year": "1970-01-01"
        },
        {
         "Acceleration": 8,
         "Cylinders": 8,
         "Displacement": 340,
         "Horsepower": 160,
         "Miles_per_Gallon": 14,
         "Name": "plymouth 'cuda 340",
         "Origin": "USA",
         "Weight_in_lbs": 3609,
         "Year": "1970-01-01"
        },
        {
         "Acceleration": 8,
         "Cylinders": 8,
         "Displacement": 302,
         "Horsepower": 140,
         "Miles_per_Gallon": null,
         "Name": "ford mustang boss 302",
         "Origin": "USA",
         "Weight_in_lbs": 3353,
         "Year": "1970-01-01"
        },
        {
         "Acceleration": 9.5,
         "Cylinders": 8,
         "Displacement": 400,
         "Horsepower": 150,
         "Miles_per_Gallon": 15,
         "Name": "chevrolet monte carlo",
         "Origin": "USA",
         "Weight_in_lbs": 3761,
         "Year": "1970-01-01"
        },
        {
         "Acceleration": 10,
         "Cylinders": 8,
         "Displacement": 455,
         "Horsepower": 225,
         "Miles_per_Gallon": 14,
         "Name": "buick estate wagon (sw)",
         "Origin": "USA",
         "Weight_in_lbs": 3086,
         "Year": "1970-01-01"
        },
        {
         "Acceleration": 15,
         "Cylinders": 4,
         "Displacement": 113,
         "Horsepower": 95,
         "Miles_per_Gallon": 24,
         "Name": "toyota corona mark ii",
         "Origin": "Japan",
         "Weight_in_lbs": 2372,
         "Year": "1970-01-01"
        },
        {
         "Acceleration": 15.5,
         "Cylinders": 6,
         "Displacement": 198,
         "Horsepower": 95,
         "Miles_per_Gallon": 22,
         "Name": "plymouth duster",
         "Origin": "USA",
         "Weight_in_lbs": 2833,
         "Year": "1970-01-01"
        },
        {
         "Acceleration": 15.5,
         "Cylinders": 6,
         "Displacement": 199,
         "Horsepower": 97,
         "Miles_per_Gallon": 18,
         "Name": "amc hornet",
         "Origin": "USA",
         "Weight_in_lbs": 2774,
         "Year": "1970-01-01"
        },
        {
         "Acceleration": 16,
         "Cylinders": 6,
         "Displacement": 200,
         "Horsepower": 85,
         "Miles_per_Gallon": 21,
         "Name": "ford maverick",
         "Origin": "USA",
         "Weight_in_lbs": 2587,
         "Year": "1970-01-01"
        },
        {
         "Acceleration": 14.5,
         "Cylinders": 4,
         "Displacement": 97,
         "Horsepower": 88,
         "Miles_per_Gallon": 27,
         "Name": "datsun pl510",
         "Origin": "Japan",
         "Weight_in_lbs": 2130,
         "Year": "1970-01-01"
        },
        {
         "Acceleration": 20.5,
         "Cylinders": 4,
         "Displacement": 97,
         "Horsepower": 46,
         "Miles_per_Gallon": 26,
         "Name": "volkswagen 1131 deluxe sedan",
         "Origin": "Europe",
         "Weight_in_lbs": 1835,
         "Year": "1970-01-01"
        },
        {
         "Acceleration": 17.5,
         "Cylinders": 4,
         "Displacement": 110,
         "Horsepower": 87,
         "Miles_per_Gallon": 25,
         "Name": "peugeot 504",
         "Origin": "Europe",
         "Weight_in_lbs": 2672,
         "Year": "1970-01-01"
        },
        {
         "Acceleration": 14.5,
         "Cylinders": 4,
         "Displacement": 107,
         "Horsepower": 90,
         "Miles_per_Gallon": 24,
         "Name": "audi 100 ls",
         "Origin": "Europe",
         "Weight_in_lbs": 2430,
         "Year": "1970-01-01"
        },
        {
         "Acceleration": 17.5,
         "Cylinders": 4,
         "Displacement": 104,
         "Horsepower": 95,
         "Miles_per_Gallon": 25,
         "Name": "saab 99e",
         "Origin": "Europe",
         "Weight_in_lbs": 2375,
         "Year": "1970-01-01"
        },
        {
         "Acceleration": 12.5,
         "Cylinders": 4,
         "Displacement": 121,
         "Horsepower": 113,
         "Miles_per_Gallon": 26,
         "Name": "bmw 2002",
         "Origin": "Europe",
         "Weight_in_lbs": 2234,
         "Year": "1970-01-01"
        },
        {
         "Acceleration": 15,
         "Cylinders": 6,
         "Displacement": 199,
         "Horsepower": 90,
         "Miles_per_Gallon": 21,
         "Name": "amc gremlin",
         "Origin": "USA",
         "Weight_in_lbs": 2648,
         "Year": "1970-01-01"
        },
        {
         "Acceleration": 14,
         "Cylinders": 8,
         "Displacement": 360,
         "Horsepower": 215,
         "Miles_per_Gallon": 10,
         "Name": "ford f250",
         "Origin": "USA",
         "Weight_in_lbs": 4615,
         "Year": "1970-01-01"
        },
        {
         "Acceleration": 15,
         "Cylinders": 8,
         "Displacement": 307,
         "Horsepower": 200,
         "Miles_per_Gallon": 10,
         "Name": "chevy c20",
         "Origin": "USA",
         "Weight_in_lbs": 4376,
         "Year": "1970-01-01"
        },
        {
         "Acceleration": 13.5,
         "Cylinders": 8,
         "Displacement": 318,
         "Horsepower": 210,
         "Miles_per_Gallon": 11,
         "Name": "dodge d200",
         "Origin": "USA",
         "Weight_in_lbs": 4382,
         "Year": "1970-01-01"
        },
        {
         "Acceleration": 18.5,
         "Cylinders": 8,
         "Displacement": 304,
         "Horsepower": 193,
         "Miles_per_Gallon": 9,
         "Name": "hi 1200d",
         "Origin": "USA",
         "Weight_in_lbs": 4732,
         "Year": "1970-01-01"
        },
        {
         "Acceleration": 14.5,
         "Cylinders": 4,
         "Displacement": 97,
         "Horsepower": 88,
         "Miles_per_Gallon": 27,
         "Name": "datsun pl510",
         "Origin": "Japan",
         "Weight_in_lbs": 2130,
         "Year": "1971-01-01"
        },
        {
         "Acceleration": 15.5,
         "Cylinders": 4,
         "Displacement": 140,
         "Horsepower": 90,
         "Miles_per_Gallon": 28,
         "Name": "chevrolet vega 2300",
         "Origin": "USA",
         "Weight_in_lbs": 2264,
         "Year": "1971-01-01"
        },
        {
         "Acceleration": 14,
         "Cylinders": 4,
         "Displacement": 113,
         "Horsepower": 95,
         "Miles_per_Gallon": 25,
         "Name": "toyota corona",
         "Origin": "Japan",
         "Weight_in_lbs": 2228,
         "Year": "1971-01-01"
        },
        {
         "Acceleration": 19,
         "Cylinders": 4,
         "Displacement": 98,
         "Horsepower": null,
         "Miles_per_Gallon": 25,
         "Name": "ford pinto",
         "Origin": "USA",
         "Weight_in_lbs": 2046,
         "Year": "1971-01-01"
        },
        {
         "Acceleration": 20,
         "Cylinders": 4,
         "Displacement": 97,
         "Horsepower": 48,
         "Miles_per_Gallon": null,
         "Name": "volkswagen super beetle 117",
         "Origin": "Europe",
         "Weight_in_lbs": 1978,
         "Year": "1971-01-01"
        },
        {
         "Acceleration": 13,
         "Cylinders": 6,
         "Displacement": 232,
         "Horsepower": 100,
         "Miles_per_Gallon": 19,
         "Name": "amc gremlin",
         "Origin": "USA",
         "Weight_in_lbs": 2634,
         "Year": "1971-01-01"
        },
        {
         "Acceleration": 15.5,
         "Cylinders": 6,
         "Displacement": 225,
         "Horsepower": 105,
         "Miles_per_Gallon": 16,
         "Name": "plymouth satellite custom",
         "Origin": "USA",
         "Weight_in_lbs": 3439,
         "Year": "1971-01-01"
        },
        {
         "Acceleration": 15.5,
         "Cylinders": 6,
         "Displacement": 250,
         "Horsepower": 100,
         "Miles_per_Gallon": 17,
         "Name": "chevrolet chevelle malibu",
         "Origin": "USA",
         "Weight_in_lbs": 3329,
         "Year": "1971-01-01"
        },
        {
         "Acceleration": 15.5,
         "Cylinders": 6,
         "Displacement": 250,
         "Horsepower": 88,
         "Miles_per_Gallon": 19,
         "Name": "ford torino 500",
         "Origin": "USA",
         "Weight_in_lbs": 3302,
         "Year": "1971-01-01"
        },
        {
         "Acceleration": 15.5,
         "Cylinders": 6,
         "Displacement": 232,
         "Horsepower": 100,
         "Miles_per_Gallon": 18,
         "Name": "amc matador",
         "Origin": "USA",
         "Weight_in_lbs": 3288,
         "Year": "1971-01-01"
        },
        {
         "Acceleration": 12,
         "Cylinders": 8,
         "Displacement": 350,
         "Horsepower": 165,
         "Miles_per_Gallon": 14,
         "Name": "chevrolet impala",
         "Origin": "USA",
         "Weight_in_lbs": 4209,
         "Year": "1971-01-01"
        },
        {
         "Acceleration": 11.5,
         "Cylinders": 8,
         "Displacement": 400,
         "Horsepower": 175,
         "Miles_per_Gallon": 14,
         "Name": "pontiac catalina brougham",
         "Origin": "USA",
         "Weight_in_lbs": 4464,
         "Year": "1971-01-01"
        },
        {
         "Acceleration": 13.5,
         "Cylinders": 8,
         "Displacement": 351,
         "Horsepower": 153,
         "Miles_per_Gallon": 14,
         "Name": "ford galaxie 500",
         "Origin": "USA",
         "Weight_in_lbs": 4154,
         "Year": "1971-01-01"
        },
        {
         "Acceleration": 13,
         "Cylinders": 8,
         "Displacement": 318,
         "Horsepower": 150,
         "Miles_per_Gallon": 14,
         "Name": "plymouth fury iii",
         "Origin": "USA",
         "Weight_in_lbs": 4096,
         "Year": "1971-01-01"
        },
        {
         "Acceleration": 11.5,
         "Cylinders": 8,
         "Displacement": 383,
         "Horsepower": 180,
         "Miles_per_Gallon": 12,
         "Name": "dodge monaco (sw)",
         "Origin": "USA",
         "Weight_in_lbs": 4955,
         "Year": "1971-01-01"
        },
        {
         "Acceleration": 12,
         "Cylinders": 8,
         "Displacement": 400,
         "Horsepower": 170,
         "Miles_per_Gallon": 13,
         "Name": "ford country squire (sw)",
         "Origin": "USA",
         "Weight_in_lbs": 4746,
         "Year": "1971-01-01"
        },
        {
         "Acceleration": 12,
         "Cylinders": 8,
         "Displacement": 400,
         "Horsepower": 175,
         "Miles_per_Gallon": 13,
         "Name": "pontiac safari (sw)",
         "Origin": "USA",
         "Weight_in_lbs": 5140,
         "Year": "1971-01-01"
        },
        {
         "Acceleration": 13.5,
         "Cylinders": 6,
         "Displacement": 258,
         "Horsepower": 110,
         "Miles_per_Gallon": 18,
         "Name": "amc hornet sportabout (sw)",
         "Origin": "USA",
         "Weight_in_lbs": 2962,
         "Year": "1971-01-01"
        },
        {
         "Acceleration": 19,
         "Cylinders": 4,
         "Displacement": 140,
         "Horsepower": 72,
         "Miles_per_Gallon": 22,
         "Name": "chevrolet vega (sw)",
         "Origin": "USA",
         "Weight_in_lbs": 2408,
         "Year": "1971-01-01"
        },
        {
         "Acceleration": 15,
         "Cylinders": 6,
         "Displacement": 250,
         "Horsepower": 100,
         "Miles_per_Gallon": 19,
         "Name": "pontiac firebird",
         "Origin": "USA",
         "Weight_in_lbs": 3282,
         "Year": "1971-01-01"
        },
        {
         "Acceleration": 14.5,
         "Cylinders": 6,
         "Displacement": 250,
         "Horsepower": 88,
         "Miles_per_Gallon": 18,
         "Name": "ford mustang",
         "Origin": "USA",
         "Weight_in_lbs": 3139,
         "Year": "1971-01-01"
        },
        {
         "Acceleration": 14,
         "Cylinders": 4,
         "Displacement": 122,
         "Horsepower": 86,
         "Miles_per_Gallon": 23,
         "Name": "mercury capri 2000",
         "Origin": "USA",
         "Weight_in_lbs": 2220,
         "Year": "1971-01-01"
        },
        {
         "Acceleration": 14,
         "Cylinders": 4,
         "Displacement": 116,
         "Horsepower": 90,
         "Miles_per_Gallon": 28,
         "Name": "opel 1900",
         "Origin": "Europe",
         "Weight_in_lbs": 2123,
         "Year": "1971-01-01"
        },
        {
         "Acceleration": 19.5,
         "Cylinders": 4,
         "Displacement": 79,
         "Horsepower": 70,
         "Miles_per_Gallon": 30,
         "Name": "peugeot 304",
         "Origin": "Europe",
         "Weight_in_lbs": 2074,
         "Year": "1971-01-01"
        },
        {
         "Acceleration": 14.5,
         "Cylinders": 4,
         "Displacement": 88,
         "Horsepower": 76,
         "Miles_per_Gallon": 30,
         "Name": "fiat 124b",
         "Origin": "Europe",
         "Weight_in_lbs": 2065,
         "Year": "1971-01-01"
        },
        {
         "Acceleration": 19,
         "Cylinders": 4,
         "Displacement": 71,
         "Horsepower": 65,
         "Miles_per_Gallon": 31,
         "Name": "toyota corolla 1200",
         "Origin": "Japan",
         "Weight_in_lbs": 1773,
         "Year": "1971-01-01"
        },
        {
         "Acceleration": 18,
         "Cylinders": 4,
         "Displacement": 72,
         "Horsepower": 69,
         "Miles_per_Gallon": 35,
         "Name": "datsun 1200",
         "Origin": "Japan",
         "Weight_in_lbs": 1613,
         "Year": "1971-01-01"
        },
        {
         "Acceleration": 19,
         "Cylinders": 4,
         "Displacement": 97,
         "Horsepower": 60,
         "Miles_per_Gallon": 27,
         "Name": "volkswagen model 111",
         "Origin": "Europe",
         "Weight_in_lbs": 1834,
         "Year": "1971-01-01"
        },
        {
         "Acceleration": 20.5,
         "Cylinders": 4,
         "Displacement": 91,
         "Horsepower": 70,
         "Miles_per_Gallon": 26,
         "Name": "plymouth cricket",
         "Origin": "USA",
         "Weight_in_lbs": 1955,
         "Year": "1971-01-01"
        },
        {
         "Acceleration": 15.5,
         "Cylinders": 4,
         "Displacement": 113,
         "Horsepower": 95,
         "Miles_per_Gallon": 24,
         "Name": "toyota corona hardtop",
         "Origin": "Japan",
         "Weight_in_lbs": 2278,
         "Year": "1972-01-01"
        },
        {
         "Acceleration": 17,
         "Cylinders": 4,
         "Displacement": 97.5,
         "Horsepower": 80,
         "Miles_per_Gallon": 25,
         "Name": "dodge colt hardtop",
         "Origin": "USA",
         "Weight_in_lbs": 2126,
         "Year": "1972-01-01"
        },
        {
         "Acceleration": 23.5,
         "Cylinders": 4,
         "Displacement": 97,
         "Horsepower": 54,
         "Miles_per_Gallon": 23,
         "Name": "volkswagen type 3",
         "Origin": "Europe",
         "Weight_in_lbs": 2254,
         "Year": "1972-01-01"
        },
        {
         "Acceleration": 19.5,
         "Cylinders": 4,
         "Displacement": 140,
         "Horsepower": 90,
         "Miles_per_Gallon": 20,
         "Name": "chevrolet vega",
         "Origin": "USA",
         "Weight_in_lbs": 2408,
         "Year": "1972-01-01"
        },
        {
         "Acceleration": 16.5,
         "Cylinders": 4,
         "Displacement": 122,
         "Horsepower": 86,
         "Miles_per_Gallon": 21,
         "Name": "ford pinto runabout",
         "Origin": "USA",
         "Weight_in_lbs": 2226,
         "Year": "1972-01-01"
        },
        {
         "Acceleration": 12,
         "Cylinders": 8,
         "Displacement": 350,
         "Horsepower": 165,
         "Miles_per_Gallon": 13,
         "Name": "chevrolet impala",
         "Origin": "USA",
         "Weight_in_lbs": 4274,
         "Year": "1972-01-01"
        },
        {
         "Acceleration": 12,
         "Cylinders": 8,
         "Displacement": 400,
         "Horsepower": 175,
         "Miles_per_Gallon": 14,
         "Name": "pontiac catalina",
         "Origin": "USA",
         "Weight_in_lbs": 4385,
         "Year": "1972-01-01"
        },
        {
         "Acceleration": 13.5,
         "Cylinders": 8,
         "Displacement": 318,
         "Horsepower": 150,
         "Miles_per_Gallon": 15,
         "Name": "plymouth fury iii",
         "Origin": "USA",
         "Weight_in_lbs": 4135,
         "Year": "1972-01-01"
        },
        {
         "Acceleration": 13,
         "Cylinders": 8,
         "Displacement": 351,
         "Horsepower": 153,
         "Miles_per_Gallon": 14,
         "Name": "ford galaxie 500",
         "Origin": "USA",
         "Weight_in_lbs": 4129,
         "Year": "1972-01-01"
        },
        {
         "Acceleration": 11.5,
         "Cylinders": 8,
         "Displacement": 304,
         "Horsepower": 150,
         "Miles_per_Gallon": 17,
         "Name": "amc ambassador sst",
         "Origin": "USA",
         "Weight_in_lbs": 3672,
         "Year": "1972-01-01"
        },
        {
         "Acceleration": 11,
         "Cylinders": 8,
         "Displacement": 429,
         "Horsepower": 208,
         "Miles_per_Gallon": 11,
         "Name": "mercury marquis",
         "Origin": "USA",
         "Weight_in_lbs": 4633,
         "Year": "1972-01-01"
        },
        {
         "Acceleration": 13.5,
         "Cylinders": 8,
         "Displacement": 350,
         "Horsepower": 155,
         "Miles_per_Gallon": 13,
         "Name": "buick lesabre custom",
         "Origin": "USA",
         "Weight_in_lbs": 4502,
         "Year": "1972-01-01"
        },
        {
         "Acceleration": 13.5,
         "Cylinders": 8,
         "Displacement": 350,
         "Horsepower": 160,
         "Miles_per_Gallon": 12,
         "Name": "oldsmobile delta 88 royale",
         "Origin": "USA",
         "Weight_in_lbs": 4456,
         "Year": "1972-01-01"
        },
        {
         "Acceleration": 12.5,
         "Cylinders": 8,
         "Displacement": 400,
         "Horsepower": 190,
         "Miles_per_Gallon": 13,
         "Name": "chrysler newport royal",
         "Origin": "USA",
         "Weight_in_lbs": 4422,
         "Year": "1972-01-01"
        },
        {
         "Acceleration": 13.5,
         "Cylinders": 3,
         "Displacement": 70,
         "Horsepower": 97,
         "Miles_per_Gallon": 19,
         "Name": "mazda rx2 coupe",
         "Origin": "Japan",
         "Weight_in_lbs": 2330,
         "Year": "1972-01-01"
        },
        {
         "Acceleration": 12.5,
         "Cylinders": 8,
         "Displacement": 304,
         "Horsepower": 150,
         "Miles_per_Gallon": 15,
         "Name": "amc matador (sw)",
         "Origin": "USA",
         "Weight_in_lbs": 3892,
         "Year": "1972-01-01"
        },
        {
         "Acceleration": 14,
         "Cylinders": 8,
         "Displacement": 307,
         "Horsepower": 130,
         "Miles_per_Gallon": 13,
         "Name": "chevrolet chevelle concours (sw)",
         "Origin": "USA",
         "Weight_in_lbs": 4098,
         "Year": "1972-01-01"
        },
        {
         "Acceleration": 16,
         "Cylinders": 8,
         "Displacement": 302,
         "Horsepower": 140,
         "Miles_per_Gallon": 13,
         "Name": "ford gran torino (sw)",
         "Origin": "USA",
         "Weight_in_lbs": 4294,
         "Year": "1972-01-01"
        },
        {
         "Acceleration": 14,
         "Cylinders": 8,
         "Displacement": 318,
         "Horsepower": 150,
         "Miles_per_Gallon": 14,
         "Name": "plymouth satellite custom (sw)",
         "Origin": "USA",
         "Weight_in_lbs": 4077,
         "Year": "1972-01-01"
        },
        {
         "Acceleration": 14.5,
         "Cylinders": 4,
         "Displacement": 121,
         "Horsepower": 112,
         "Miles_per_Gallon": 18,
         "Name": "volvo 145e (sw)",
         "Origin": "Europe",
         "Weight_in_lbs": 2933,
         "Year": "1972-01-01"
        },
        {
         "Acceleration": 18,
         "Cylinders": 4,
         "Displacement": 121,
         "Horsepower": 76,
         "Miles_per_Gallon": 22,
         "Name": "volkswagen 411 (sw)",
         "Origin": "Europe",
         "Weight_in_lbs": 2511,
         "Year": "1972-01-01"
        },
        {
         "Acceleration": 19.5,
         "Cylinders": 4,
         "Displacement": 120,
         "Horsepower": 87,
         "Miles_per_Gallon": 21,
         "Name": "peugeot 504 (sw)",
         "Origin": "Europe",
         "Weight_in_lbs": 2979,
         "Year": "1972-01-01"
        },
        {
         "Acceleration": 18,
         "Cylinders": 4,
         "Displacement": 96,
         "Horsepower": 69,
         "Miles_per_Gallon": 26,
         "Name": "renault 12 (sw)",
         "Origin": "Europe",
         "Weight_in_lbs": 2189,
         "Year": "1972-01-01"
        },
        {
         "Acceleration": 16,
         "Cylinders": 4,
         "Displacement": 122,
         "Horsepower": 86,
         "Miles_per_Gallon": 22,
         "Name": "ford pinto (sw)",
         "Origin": "USA",
         "Weight_in_lbs": 2395,
         "Year": "1972-01-01"
        },
        {
         "Acceleration": 17,
         "Cylinders": 4,
         "Displacement": 97,
         "Horsepower": 92,
         "Miles_per_Gallon": 28,
         "Name": "datsun 510 (sw)",
         "Origin": "Japan",
         "Weight_in_lbs": 2288,
         "Year": "1972-01-01"
        },
        {
         "Acceleration": 14.5,
         "Cylinders": 4,
         "Displacement": 120,
         "Horsepower": 97,
         "Miles_per_Gallon": 23,
         "Name": "toyouta corona mark ii (sw)",
         "Origin": "Japan",
         "Weight_in_lbs": 2506,
         "Year": "1972-01-01"
        },
        {
         "Acceleration": 15,
         "Cylinders": 4,
         "Displacement": 98,
         "Horsepower": 80,
         "Miles_per_Gallon": 28,
         "Name": "dodge colt (sw)",
         "Origin": "USA",
         "Weight_in_lbs": 2164,
         "Year": "1972-01-01"
        },
        {
         "Acceleration": 16.5,
         "Cylinders": 4,
         "Displacement": 97,
         "Horsepower": 88,
         "Miles_per_Gallon": 27,
         "Name": "toyota corolla 1600 (sw)",
         "Origin": "Japan",
         "Weight_in_lbs": 2100,
         "Year": "1972-01-01"
        },
        {
         "Acceleration": 13,
         "Cylinders": 8,
         "Displacement": 350,
         "Horsepower": 175,
         "Miles_per_Gallon": 13,
         "Name": "buick century 350",
         "Origin": "USA",
         "Weight_in_lbs": 4100,
         "Year": "1973-01-01"
        },
        {
         "Acceleration": 11.5,
         "Cylinders": 8,
         "Displacement": 304,
         "Horsepower": 150,
         "Miles_per_Gallon": 14,
         "Name": "amc matador",
         "Origin": "USA",
         "Weight_in_lbs": 3672,
         "Year": "1973-01-01"
        },
        {
         "Acceleration": 13,
         "Cylinders": 8,
         "Displacement": 350,
         "Horsepower": 145,
         "Miles_per_Gallon": 13,
         "Name": "chevrolet malibu",
         "Origin": "USA",
         "Weight_in_lbs": 3988,
         "Year": "1973-01-01"
        },
        {
         "Acceleration": 14.5,
         "Cylinders": 8,
         "Displacement": 302,
         "Horsepower": 137,
         "Miles_per_Gallon": 14,
         "Name": "ford gran torino",
         "Origin": "USA",
         "Weight_in_lbs": 4042,
         "Year": "1973-01-01"
        },
        {
         "Acceleration": 12.5,
         "Cylinders": 8,
         "Displacement": 318,
         "Horsepower": 150,
         "Miles_per_Gallon": 15,
         "Name": "dodge coronet custom",
         "Origin": "USA",
         "Weight_in_lbs": 3777,
         "Year": "1973-01-01"
        },
        {
         "Acceleration": 11.5,
         "Cylinders": 8,
         "Displacement": 429,
         "Horsepower": 198,
         "Miles_per_Gallon": 12,
         "Name": "mercury marquis brougham",
         "Origin": "USA",
         "Weight_in_lbs": 4952,
         "Year": "1973-01-01"
        },
        {
         "Acceleration": 12,
         "Cylinders": 8,
         "Displacement": 400,
         "Horsepower": 150,
         "Miles_per_Gallon": 13,
         "Name": "chevrolet caprice classic",
         "Origin": "USA",
         "Weight_in_lbs": 4464,
         "Year": "1973-01-01"
        },
        {
         "Acceleration": 13,
         "Cylinders": 8,
         "Displacement": 351,
         "Horsepower": 158,
         "Miles_per_Gallon": 13,
         "Name": "ford ltd",
         "Origin": "USA",
         "Weight_in_lbs": 4363,
         "Year": "1973-01-01"
        },
        {
         "Acceleration": 14.5,
         "Cylinders": 8,
         "Displacement": 318,
         "Horsepower": 150,
         "Miles_per_Gallon": 14,
         "Name": "plymouth fury gran sedan",
         "Origin": "USA",
         "Weight_in_lbs": 4237,
         "Year": "1973-01-01"
        },
        {
         "Acceleration": 11,
         "Cylinders": 8,
         "Displacement": 440,
         "Horsepower": 215,
         "Miles_per_Gallon": 13,
         "Name": "chrysler new yorker brougham",
         "Origin": "USA",
         "Weight_in_lbs": 4735,
         "Year": "1973-01-01"
        },
        {
         "Acceleration": 11,
         "Cylinders": 8,
         "Displacement": 455,
         "Horsepower": 225,
         "Miles_per_Gallon": 12,
         "Name": "buick electra 225 custom",
         "Origin": "USA",
         "Weight_in_lbs": 4951,
         "Year": "1973-01-01"
        },
        {
         "Acceleration": 11,
         "Cylinders": 8,
         "Displacement": 360,
         "Horsepower": 175,
         "Miles_per_Gallon": 13,
         "Name": "amc ambassador brougham",
         "Origin": "USA",
         "Weight_in_lbs": 3821,
         "Year": "1973-01-01"
        },
        {
         "Acceleration": 16.5,
         "Cylinders": 6,
         "Displacement": 225,
         "Horsepower": 105,
         "Miles_per_Gallon": 18,
         "Name": "plymouth valiant",
         "Origin": "USA",
         "Weight_in_lbs": 3121,
         "Year": "1973-01-01"
        },
        {
         "Acceleration": 18,
         "Cylinders": 6,
         "Displacement": 250,
         "Horsepower": 100,
         "Miles_per_Gallon": 16,
         "Name": "chevrolet nova custom",
         "Origin": "USA",
         "Weight_in_lbs": 3278,
         "Year": "1973-01-01"
        },
        {
         "Acceleration": 16,
         "Cylinders": 6,
         "Displacement": 232,
         "Horsepower": 100,
         "Miles_per_Gallon": 18,
         "Name": "amc hornet",
         "Origin": "USA",
         "Weight_in_lbs": 2945,
         "Year": "1973-01-01"
        },
        {
         "Acceleration": 16.5,
         "Cylinders": 6,
         "Displacement": 250,
         "Horsepower": 88,
         "Miles_per_Gallon": 18,
         "Name": "ford maverick",
         "Origin": "USA",
         "Weight_in_lbs": 3021,
         "Year": "1973-01-01"
        },
        {
         "Acceleration": 16,
         "Cylinders": 6,
         "Displacement": 198,
         "Horsepower": 95,
         "Miles_per_Gallon": 23,
         "Name": "plymouth duster",
         "Origin": "USA",
         "Weight_in_lbs": 2904,
         "Year": "1973-01-01"
        },
        {
         "Acceleration": 21,
         "Cylinders": 4,
         "Displacement": 97,
         "Horsepower": 46,
         "Miles_per_Gallon": 26,
         "Name": "volkswagen super beetle",
         "Origin": "Europe",
         "Weight_in_lbs": 1950,
         "Year": "1973-01-01"
        },
        {
         "Acceleration": 14,
         "Cylinders": 8,
         "Displacement": 400,
         "Horsepower": 150,
         "Miles_per_Gallon": 11,
         "Name": "chevrolet impala",
         "Origin": "USA",
         "Weight_in_lbs": 4997,
         "Year": "1973-01-01"
        },
        {
         "Acceleration": 12.5,
         "Cylinders": 8,
         "Displacement": 400,
         "Horsepower": 167,
         "Miles_per_Gallon": 12,
         "Name": "ford country",
         "Origin": "USA",
         "Weight_in_lbs": 4906,
         "Year": "1973-01-01"
        },
        {
         "Acceleration": 13,
         "Cylinders": 8,
         "Displacement": 360,
         "Horsepower": 170,
         "Miles_per_Gallon": 13,
         "Name": "plymouth custom suburb",
         "Origin": "USA",
         "Weight_in_lbs": 4654,
         "Year": "1973-01-01"
        },
        {
         "Acceleration": 12.5,
         "Cylinders": 8,
         "Displacement": 350,
         "Horsepower": 180,
         "Miles_per_Gallon": 12,
         "Name": "oldsmobile vista cruiser",
         "Origin": "USA",
         "Weight_in_lbs": 4499,
         "Year": "1973-01-01"
        },
        {
         "Acceleration": 15,
         "Cylinders": 6,
         "Displacement": 232,
         "Horsepower": 100,
         "Miles_per_Gallon": 18,
         "Name": "amc gremlin",
         "Origin": "USA",
         "Weight_in_lbs": 2789,
         "Year": "1973-01-01"
        },
        {
         "Acceleration": 19,
         "Cylinders": 4,
         "Displacement": 97,
         "Horsepower": 88,
         "Miles_per_Gallon": 20,
         "Name": "toyota carina",
         "Origin": "Japan",
         "Weight_in_lbs": 2279,
         "Year": "1973-01-01"
        },
        {
         "Acceleration": 19.5,
         "Cylinders": 4,
         "Displacement": 140,
         "Horsepower": 72,
         "Miles_per_Gallon": 21,
         "Name": "chevrolet vega",
         "Origin": "USA",
         "Weight_in_lbs": 2401,
         "Year": "1973-01-01"
        },
        {
         "Acceleration": 16.5,
         "Cylinders": 4,
         "Displacement": 108,
         "Horsepower": 94,
         "Miles_per_Gallon": 22,
         "Name": "datsun 610",
         "Origin": "Japan",
         "Weight_in_lbs": 2379,
         "Year": "1973-01-01"
        },
        {
         "Acceleration": 13.5,
         "Cylinders": 3,
         "Displacement": 70,
         "Horsepower": 90,
         "Miles_per_Gallon": 18,
         "Name": "maxda rx3",
         "Origin": "Japan",
         "Weight_in_lbs": 2124,
         "Year": "1973-01-01"
        },
        {
         "Acceleration": 18.5,
         "Cylinders": 4,
         "Displacement": 122,
         "Horsepower": 85,
         "Miles_per_Gallon": 19,
         "Name": "ford pinto",
         "Origin": "USA",
         "Weight_in_lbs": 2310,
         "Year": "1973-01-01"
        },
        {
         "Acceleration": 14,
         "Cylinders": 6,
         "Displacement": 155,
         "Horsepower": 107,
         "Miles_per_Gallon": 21,
         "Name": "mercury capri v6",
         "Origin": "USA",
         "Weight_in_lbs": 2472,
         "Year": "1973-01-01"
        },
        {
         "Acceleration": 15.5,
         "Cylinders": 4,
         "Displacement": 98,
         "Horsepower": 90,
         "Miles_per_Gallon": 26,
         "Name": "fiat 124 sport coupe",
         "Origin": "Europe",
         "Weight_in_lbs": 2265,
         "Year": "1973-01-01"
        },
        {
         "Acceleration": 13,
         "Cylinders": 8,
         "Displacement": 350,
         "Horsepower": 145,
         "Miles_per_Gallon": 15,
         "Name": "chevrolet monte carlo s",
         "Origin": "USA",
         "Weight_in_lbs": 4082,
         "Year": "1973-01-01"
        },
        {
         "Acceleration": 9.5,
         "Cylinders": 8,
         "Displacement": 400,
         "Horsepower": 230,
         "Miles_per_Gallon": 16,
         "Name": "pontiac grand prix",
         "Origin": "USA",
         "Weight_in_lbs": 4278,
         "Year": "1973-01-01"
        },
        {
         "Acceleration": 19.5,
         "Cylinders": 4,
         "Displacement": 68,
         "Horsepower": 49,
         "Miles_per_Gallon": 29,
         "Name": "fiat 128",
         "Origin": "Europe",
         "Weight_in_lbs": 1867,
         "Year": "1973-01-01"
        },
        {
         "Acceleration": 15.5,
         "Cylinders": 4,
         "Displacement": 116,
         "Horsepower": 75,
         "Miles_per_Gallon": 24,
         "Name": "opel manta",
         "Origin": "Europe",
         "Weight_in_lbs": 2158,
         "Year": "1973-01-01"
        },
        {
         "Acceleration": 14,
         "Cylinders": 4,
         "Displacement": 114,
         "Horsepower": 91,
         "Miles_per_Gallon": 20,
         "Name": "audi 100ls",
         "Origin": "Europe",
         "Weight_in_lbs": 2582,
         "Year": "1973-01-01"
        },
        {
         "Acceleration": 15.5,
         "Cylinders": 4,
         "Displacement": 121,
         "Horsepower": 112,
         "Miles_per_Gallon": 19,
         "Name": "volvo 144ea",
         "Origin": "Europe",
         "Weight_in_lbs": 2868,
         "Year": "1973-01-01"
        },
        {
         "Acceleration": 11,
         "Cylinders": 8,
         "Displacement": 318,
         "Horsepower": 150,
         "Miles_per_Gallon": 15,
         "Name": "dodge dart custom",
         "Origin": "USA",
         "Weight_in_lbs": 3399,
         "Year": "1973-01-01"
        },
        {
         "Acceleration": 14,
         "Cylinders": 4,
         "Displacement": 121,
         "Horsepower": 110,
         "Miles_per_Gallon": 24,
         "Name": "saab 99le",
         "Origin": "Europe",
         "Weight_in_lbs": 2660,
         "Year": "1973-01-01"
        },
        {
         "Acceleration": 13.5,
         "Cylinders": 6,
         "Displacement": 156,
         "Horsepower": 122,
         "Miles_per_Gallon": 20,
         "Name": "toyota mark ii",
         "Origin": "Japan",
         "Weight_in_lbs": 2807,
         "Year": "1973-01-01"
        },
        {
         "Acceleration": 11,
         "Cylinders": 8,
         "Displacement": 350,
         "Horsepower": 180,
         "Miles_per_Gallon": 11,
         "Name": "oldsmobile omega",
         "Origin": "USA",
         "Weight_in_lbs": 3664,
         "Year": "1973-01-01"
        },
        {
         "Acceleration": 16.5,
         "Cylinders": 6,
         "Displacement": 198,
         "Horsepower": 95,
         "Miles_per_Gallon": 20,
         "Name": "plymouth duster",
         "Origin": "USA",
         "Weight_in_lbs": 3102,
         "Year": "1974-01-01"
        },
        {
         "Acceleration": 17,
         "Cylinders": 6,
         "Displacement": 200,
         "Horsepower": null,
         "Miles_per_Gallon": 21,
         "Name": "ford maverick",
         "Origin": "USA",
         "Weight_in_lbs": 2875,
         "Year": "1974-01-01"
        },
        {
         "Acceleration": 16,
         "Cylinders": 6,
         "Displacement": 232,
         "Horsepower": 100,
         "Miles_per_Gallon": 19,
         "Name": "amc hornet",
         "Origin": "USA",
         "Weight_in_lbs": 2901,
         "Year": "1974-01-01"
        },
        {
         "Acceleration": 17,
         "Cylinders": 6,
         "Displacement": 250,
         "Horsepower": 100,
         "Miles_per_Gallon": 15,
         "Name": "chevrolet nova",
         "Origin": "USA",
         "Weight_in_lbs": 3336,
         "Year": "1974-01-01"
        },
        {
         "Acceleration": 19,
         "Cylinders": 4,
         "Displacement": 79,
         "Horsepower": 67,
         "Miles_per_Gallon": 31,
         "Name": "datsun b210",
         "Origin": "Japan",
         "Weight_in_lbs": 1950,
         "Year": "1974-01-01"
        },
        {
         "Acceleration": 16.5,
         "Cylinders": 4,
         "Displacement": 122,
         "Horsepower": 80,
         "Miles_per_Gallon": 26,
         "Name": "ford pinto",
         "Origin": "USA",
         "Weight_in_lbs": 2451,
         "Year": "1974-01-01"
        },
        {
         "Acceleration": 21,
         "Cylinders": 4,
         "Displacement": 71,
         "Horsepower": 65,
         "Miles_per_Gallon": 32,
         "Name": "toyota corolla 1200",
         "Origin": "Japan",
         "Weight_in_lbs": 1836,
         "Year": "1974-01-01"
        },
        {
         "Acceleration": 17,
         "Cylinders": 4,
         "Displacement": 140,
         "Horsepower": 75,
         "Miles_per_Gallon": 25,
         "Name": "chevrolet vega",
         "Origin": "USA",
         "Weight_in_lbs": 2542,
         "Year": "1974-01-01"
        },
        {
         "Acceleration": 17,
         "Cylinders": 6,
         "Displacement": 250,
         "Horsepower": 100,
         "Miles_per_Gallon": 16,
         "Name": "chevrolet chevelle malibu classic",
         "Origin": "USA",
         "Weight_in_lbs": 3781,
         "Year": "1974-01-01"
        },
        {
         "Acceleration": 18,
         "Cylinders": 6,
         "Displacement": 258,
         "Horsepower": 110,
         "Miles_per_Gallon": 16,
         "Name": "amc matador",
         "Origin": "USA",
         "Weight_in_lbs": 3632,
         "Year": "1974-01-01"
        },
        {
         "Acceleration": 16.5,
         "Cylinders": 6,
         "Displacement": 225,
         "Horsepower": 105,
         "Miles_per_Gallon": 18,
         "Name": "plymouth satellite sebring",
         "Origin": "USA",
         "Weight_in_lbs": 3613,
         "Year": "1974-01-01"
        },
        {
         "Acceleration": 14,
         "Cylinders": 8,
         "Displacement": 302,
         "Horsepower": 140,
         "Miles_per_Gallon": 16,
         "Name": "ford gran torino",
         "Origin": "USA",
         "Weight_in_lbs": 4141,
         "Year": "1974-01-01"
        },
        {
         "Acceleration": 14.5,
         "Cylinders": 8,
         "Displacement": 350,
         "Horsepower": 150,
         "Miles_per_Gallon": 13,
         "Name": "buick century luxus (sw)",
         "Origin": "USA",
         "Weight_in_lbs": 4699,
         "Year": "1974-01-01"
        },
        {
         "Acceleration": 13.5,
         "Cylinders": 8,
         "Displacement": 318,
         "Horsepower": 150,
         "Miles_per_Gallon": 14,
         "Name": "dodge coronet custom (sw)",
         "Origin": "USA",
         "Weight_in_lbs": 4457,
         "Year": "1974-01-01"
        },
        {
         "Acceleration": 16,
         "Cylinders": 8,
         "Displacement": 302,
         "Horsepower": 140,
         "Miles_per_Gallon": 14,
         "Name": "ford gran torino (sw)",
         "Origin": "USA",
         "Weight_in_lbs": 4638,
         "Year": "1974-01-01"
        },
        {
         "Acceleration": 15.5,
         "Cylinders": 8,
         "Displacement": 304,
         "Horsepower": 150,
         "Miles_per_Gallon": 14,
         "Name": "amc matador (sw)",
         "Origin": "USA",
         "Weight_in_lbs": 4257,
         "Year": "1974-01-01"
        },
        {
         "Acceleration": 16.5,
         "Cylinders": 4,
         "Displacement": 98,
         "Horsepower": 83,
         "Miles_per_Gallon": 29,
         "Name": "audi fox",
         "Origin": "Europe",
         "Weight_in_lbs": 2219,
         "Year": "1974-01-01"
        },
        {
         "Acceleration": 15.5,
         "Cylinders": 4,
         "Displacement": 79,
         "Horsepower": 67,
         "Miles_per_Gallon": 26,
         "Name": "volkswagen dasher",
         "Origin": "Europe",
         "Weight_in_lbs": 1963,
         "Year": "1974-01-01"
        },
        {
         "Acceleration": 14.5,
         "Cylinders": 4,
         "Displacement": 97,
         "Horsepower": 78,
         "Miles_per_Gallon": 26,
         "Name": "opel manta",
         "Origin": "Europe",
         "Weight_in_lbs": 2300,
         "Year": "1974-01-01"
        },
        {
         "Acceleration": 16.5,
         "Cylinders": 4,
         "Displacement": 76,
         "Horsepower": 52,
         "Miles_per_Gallon": 31,
         "Name": "toyota corona",
         "Origin": "Japan",
         "Weight_in_lbs": 1649,
         "Year": "1974-01-01"
        },
        {
         "Acceleration": 19,
         "Cylinders": 4,
         "Displacement": 83,
         "Horsepower": 61,
         "Miles_per_Gallon": 32,
         "Name": "datsun 710",
         "Origin": "Japan",
         "Weight_in_lbs": 2003,
         "Year": "1974-01-01"
        },
        {
         "Acceleration": 14.5,
         "Cylinders": 4,
         "Displacement": 90,
         "Horsepower": 75,
         "Miles_per_Gallon": 28,
         "Name": "dodge colt",
         "Origin": "USA",
         "Weight_in_lbs": 2125,
         "Year": "1974-01-01"
        },
        {
         "Acceleration": 15.5,
         "Cylinders": 4,
         "Displacement": 90,
         "Horsepower": 75,
         "Miles_per_Gallon": 24,
         "Name": "fiat 128",
         "Origin": "Europe",
         "Weight_in_lbs": 2108,
         "Year": "1974-01-01"
        },
        {
         "Acceleration": 14,
         "Cylinders": 4,
         "Displacement": 116,
         "Horsepower": 75,
         "Miles_per_Gallon": 26,
         "Name": "fiat 124 tc",
         "Origin": "Europe",
         "Weight_in_lbs": 2246,
         "Year": "1974-01-01"
        },
        {
         "Acceleration": 15,
         "Cylinders": 4,
         "Displacement": 120,
         "Horsepower": 97,
         "Miles_per_Gallon": 24,
         "Name": "honda civic",
         "Origin": "Japan",
         "Weight_in_lbs": 2489,
         "Year": "1974-01-01"
        },
        {
         "Acceleration": 15.5,
         "Cylinders": 4,
         "Displacement": 108,
         "Horsepower": 93,
         "Miles_per_Gallon": 26,
         "Name": "subaru",
         "Origin": "Japan",
         "Weight_in_lbs": 2391,
         "Year": "1974-01-01"
        },
        {
         "Acceleration": 16,
         "Cylinders": 4,
         "Displacement": 79,
         "Horsepower": 67,
         "Miles_per_Gallon": 31,
         "Name": "fiat x1.9",
         "Origin": "Europe",
         "Weight_in_lbs": 2000,
         "Year": "1974-01-01"
        },
        {
         "Acceleration": 16,
         "Cylinders": 6,
         "Displacement": 225,
         "Horsepower": 95,
         "Miles_per_Gallon": 19,
         "Name": "plymouth valiant custom",
         "Origin": "USA",
         "Weight_in_lbs": 3264,
         "Year": "1975-01-01"
        },
        {
         "Acceleration": 16,
         "Cylinders": 6,
         "Displacement": 250,
         "Horsepower": 105,
         "Miles_per_Gallon": 18,
         "Name": "chevrolet nova",
         "Origin": "USA",
         "Weight_in_lbs": 3459,
         "Year": "1975-01-01"
        },
        {
         "Acceleration": 21,
         "Cylinders": 6,
         "Displacement": 250,
         "Horsepower": 72,
         "Miles_per_Gallon": 15,
         "Name": "mercury monarch",
         "Origin": "USA",
         "Weight_in_lbs": 3432,
         "Year": "1975-01-01"
        },
        {
         "Acceleration": 19.5,
         "Cylinders": 6,
         "Displacement": 250,
         "Horsepower": 72,
         "Miles_per_Gallon": 15,
         "Name": "ford maverick",
         "Origin": "USA",
         "Weight_in_lbs": 3158,
         "Year": "1975-01-01"
        },
        {
         "Acceleration": 11.5,
         "Cylinders": 8,
         "Displacement": 400,
         "Horsepower": 170,
         "Miles_per_Gallon": 16,
         "Name": "pontiac catalina",
         "Origin": "USA",
         "Weight_in_lbs": 4668,
         "Year": "1975-01-01"
        },
        {
         "Acceleration": 14,
         "Cylinders": 8,
         "Displacement": 350,
         "Horsepower": 145,
         "Miles_per_Gallon": 15,
         "Name": "chevrolet bel air",
         "Origin": "USA",
         "Weight_in_lbs": 4440,
         "Year": "1975-01-01"
        },
        {
         "Acceleration": 14.5,
         "Cylinders": 8,
         "Displacement": 318,
         "Horsepower": 150,
         "Miles_per_Gallon": 16,
         "Name": "plymouth grand fury",
         "Origin": "USA",
         "Weight_in_lbs": 4498,
         "Year": "1975-01-01"
        },
        {
         "Acceleration": 13.5,
         "Cylinders": 8,
         "Displacement": 351,
         "Horsepower": 148,
         "Miles_per_Gallon": 14,
         "Name": "ford ltd",
         "Origin": "USA",
         "Weight_in_lbs": 4657,
         "Year": "1975-01-01"
        },
        {
         "Acceleration": 21,
         "Cylinders": 6,
         "Displacement": 231,
         "Horsepower": 110,
         "Miles_per_Gallon": 17,
         "Name": "buick century",
         "Origin": "USA",
         "Weight_in_lbs": 3907,
         "Year": "1975-01-01"
        },
        {
         "Acceleration": 18.5,
         "Cylinders": 6,
         "Displacement": 250,
         "Horsepower": 105,
         "Miles_per_Gallon": 16,
         "Name": "chevroelt chevelle malibu",
         "Origin": "USA",
         "Weight_in_lbs": 3897,
         "Year": "1975-01-01"
        },
        {
         "Acceleration": 19,
         "Cylinders": 6,
         "Displacement": 258,
         "Horsepower": 110,
         "Miles_per_Gallon": 15,
         "Name": "amc matador",
         "Origin": "USA",
         "Weight_in_lbs": 3730,
         "Year": "1975-01-01"
        },
        {
         "Acceleration": 19,
         "Cylinders": 6,
         "Displacement": 225,
         "Horsepower": 95,
         "Miles_per_Gallon": 18,
         "Name": "plymouth fury",
         "Origin": "USA",
         "Weight_in_lbs": 3785,
         "Year": "1975-01-01"
        },
        {
         "Acceleration": 15,
         "Cylinders": 6,
         "Displacement": 231,
         "Horsepower": 110,
         "Miles_per_Gallon": 21,
         "Name": "buick skyhawk",
         "Origin": "USA",
         "Weight_in_lbs": 3039,
         "Year": "1975-01-01"
        },
        {
         "Acceleration": 13.5,
         "Cylinders": 8,
         "Displacement": 262,
         "Horsepower": 110,
         "Miles_per_Gallon": 20,
         "Name": "chevrolet monza 2+2",
         "Origin": "USA",
         "Weight_in_lbs": 3221,
         "Year": "1975-01-01"
        },
        {
         "Acceleration": 12,
         "Cylinders": 8,
         "Displacement": 302,
         "Horsepower": 129,
         "Miles_per_Gallon": 13,
         "Name": "ford mustang ii",
         "Origin": "USA",
         "Weight_in_lbs": 3169,
         "Year": "1975-01-01"
        },
        {
         "Acceleration": 16,
         "Cylinders": 4,
         "Displacement": 97,
         "Horsepower": 75,
         "Miles_per_Gallon": 29,
         "Name": "toyota corolla",
         "Origin": "Japan",
         "Weight_in_lbs": 2171,
         "Year": "1975-01-01"
        },
        {
         "Acceleration": 17,
         "Cylinders": 4,
         "Displacement": 140,
         "Horsepower": 83,
         "Miles_per_Gallon": 23,
         "Name": "ford pinto",
         "Origin": "USA",
         "Weight_in_lbs": 2639,
         "Year": "1975-01-01"
        },
        {
         "Acceleration": 16,
         "Cylinders": 6,
         "Displacement": 232,
         "Horsepower": 100,
         "Miles_per_Gallon": 20,
         "Name": "amc gremlin",
         "Origin": "USA",
         "Weight_in_lbs": 2914,
         "Year": "1975-01-01"
        },
        {
         "Acceleration": 18.5,
         "Cylinders": 4,
         "Displacement": 140,
         "Horsepower": 78,
         "Miles_per_Gallon": 23,
         "Name": "pontiac astro",
         "Origin": "USA",
         "Weight_in_lbs": 2592,
         "Year": "1975-01-01"
        },
        {
         "Acceleration": 13.5,
         "Cylinders": 4,
         "Displacement": 134,
         "Horsepower": 96,
         "Miles_per_Gallon": 24,
         "Name": "toyota corona",
         "Origin": "Japan",
         "Weight_in_lbs": 2702,
         "Year": "1975-01-01"
        },
        {
         "Acceleration": 16.5,
         "Cylinders": 4,
         "Displacement": 90,
         "Horsepower": 71,
         "Miles_per_Gallon": 25,
         "Name": "volkswagen dasher",
         "Origin": "Europe",
         "Weight_in_lbs": 2223,
         "Year": "1975-01-01"
        },
        {
         "Acceleration": 17,
         "Cylinders": 4,
         "Displacement": 119,
         "Horsepower": 97,
         "Miles_per_Gallon": 24,
         "Name": "datsun 710",
         "Origin": "Japan",
         "Weight_in_lbs": 2545,
         "Year": "1975-01-01"
        },
        {
         "Acceleration": 14.5,
         "Cylinders": 6,
         "Displacement": 171,
         "Horsepower": 97,
         "Miles_per_Gallon": 18,
         "Name": "ford pinto",
         "Origin": "USA",
         "Weight_in_lbs": 2984,
         "Year": "1975-01-01"
        },
        {
         "Acceleration": 14,
         "Cylinders": 4,
         "Displacement": 90,
         "Horsepower": 70,
         "Miles_per_Gallon": 29,
         "Name": "volkswagen rabbit",
         "Origin": "Europe",
         "Weight_in_lbs": 1937,
         "Year": "1975-01-01"
        },
        {
         "Acceleration": 17,
         "Cylinders": 6,
         "Displacement": 232,
         "Horsepower": 90,
         "Miles_per_Gallon": 19,
         "Name": "amc pacer",
         "Origin": "USA",
         "Weight_in_lbs": 3211,
         "Year": "1975-01-01"
        },
        {
         "Acceleration": 15,
         "Cylinders": 4,
         "Displacement": 115,
         "Horsepower": 95,
         "Miles_per_Gallon": 23,
         "Name": "audi 100ls",
         "Origin": "Europe",
         "Weight_in_lbs": 2694,
         "Year": "1975-01-01"
        },
        {
         "Acceleration": 17,
         "Cylinders": 4,
         "Displacement": 120,
         "Horsepower": 88,
         "Miles_per_Gallon": 23,
         "Name": "peugeot 504",
         "Origin": "Europe",
         "Weight_in_lbs": 2957,
         "Year": "1975-01-01"
        },
        {
         "Acceleration": 14.5,
         "Cylinders": 4,
         "Displacement": 121,
         "Horsepower": 98,
         "Miles_per_Gallon": 22,
         "Name": "volvo 244dl",
         "Origin": "Europe",
         "Weight_in_lbs": 2945,
         "Year": "1975-01-01"
        },
        {
         "Acceleration": 13.5,
         "Cylinders": 4,
         "Displacement": 121,
         "Horsepower": 115,
         "Miles_per_Gallon": 25,
         "Name": "saab 99le",
         "Origin": "Europe",
         "Weight_in_lbs": 2671,
         "Year": "1975-01-01"
        },
        {
         "Acceleration": 17.5,
         "Cylinders": 4,
         "Displacement": 91,
         "Horsepower": 53,
         "Miles_per_Gallon": 33,
         "Name": "honda civic cvcc",
         "Origin": "Japan",
         "Weight_in_lbs": 1795,
         "Year": "1975-01-01"
        },
        {
         "Acceleration": 15.5,
         "Cylinders": 4,
         "Displacement": 107,
         "Horsepower": 86,
         "Miles_per_Gallon": 28,
         "Name": "fiat 131",
         "Origin": "Europe",
         "Weight_in_lbs": 2464,
         "Year": "1976-01-01"
        },
        {
         "Acceleration": 16.9,
         "Cylinders": 4,
         "Displacement": 116,
         "Horsepower": 81,
         "Miles_per_Gallon": 25,
         "Name": "opel 1900",
         "Origin": "Europe",
         "Weight_in_lbs": 2220,
         "Year": "1976-01-01"
        },
        {
         "Acceleration": 14.9,
         "Cylinders": 4,
         "Displacement": 140,
         "Horsepower": 92,
         "Miles_per_Gallon": 25,
         "Name": "capri ii",
         "Origin": "USA",
         "Weight_in_lbs": 2572,
         "Year": "1976-01-01"
        },
        {
         "Acceleration": 17.7,
         "Cylinders": 4,
         "Displacement": 98,
         "Horsepower": 79,
         "Miles_per_Gallon": 26,
         "Name": "dodge colt",
         "Origin": "USA",
         "Weight_in_lbs": 2255,
         "Year": "1976-01-01"
        },
        {
         "Acceleration": 15.3,
         "Cylinders": 4,
         "Displacement": 101,
         "Horsepower": 83,
         "Miles_per_Gallon": 27,
         "Name": "renault 12tl",
         "Origin": "Europe",
         "Weight_in_lbs": 2202,
         "Year": "1976-01-01"
        },
        {
         "Acceleration": 13,
         "Cylinders": 8,
         "Displacement": 305,
         "Horsepower": 140,
         "Miles_per_Gallon": 17.5,
         "Name": "chevrolet chevelle malibu classic",
         "Origin": "USA",
         "Weight_in_lbs": 4215,
         "Year": "1976-01-01"
        },
        {
         "Acceleration": 13,
         "Cylinders": 8,
         "Displacement": 318,
         "Horsepower": 150,
         "Miles_per_Gallon": 16,
         "Name": "dodge coronet brougham",
         "Origin": "USA",
         "Weight_in_lbs": 4190,
         "Year": "1976-01-01"
        },
        {
         "Acceleration": 13.9,
         "Cylinders": 8,
         "Displacement": 304,
         "Horsepower": 120,
         "Miles_per_Gallon": 15.5,
         "Name": "amc matador",
         "Origin": "USA",
         "Weight_in_lbs": 3962,
         "Year": "1976-01-01"
        },
        {
         "Acceleration": 12.8,
         "Cylinders": 8,
         "Displacement": 351,
         "Horsepower": 152,
         "Miles_per_Gallon": 14.5,
         "Name": "ford gran torino",
         "Origin": "USA",
         "Weight_in_lbs": 4215,
         "Year": "1976-01-01"
        },
        {
         "Acceleration": 15.4,
         "Cylinders": 6,
         "Displacement": 225,
         "Horsepower": 100,
         "Miles_per_Gallon": 22,
         "Name": "plymouth valiant",
         "Origin": "USA",
         "Weight_in_lbs": 3233,
         "Year": "1976-01-01"
        },
        {
         "Acceleration": 14.5,
         "Cylinders": 6,
         "Displacement": 250,
         "Horsepower": 105,
         "Miles_per_Gallon": 22,
         "Name": "chevrolet nova",
         "Origin": "USA",
         "Weight_in_lbs": 3353,
         "Year": "1976-01-01"
        },
        {
         "Acceleration": 17.6,
         "Cylinders": 6,
         "Displacement": 200,
         "Horsepower": 81,
         "Miles_per_Gallon": 24,
         "Name": "ford maverick",
         "Origin": "USA",
         "Weight_in_lbs": 3012,
         "Year": "1976-01-01"
        },
        {
         "Acceleration": 17.6,
         "Cylinders": 6,
         "Displacement": 232,
         "Horsepower": 90,
         "Miles_per_Gallon": 22.5,
         "Name": "amc hornet",
         "Origin": "USA",
         "Weight_in_lbs": 3085,
         "Year": "1976-01-01"
        },
        {
         "Acceleration": 22.2,
         "Cylinders": 4,
         "Displacement": 85,
         "Horsepower": 52,
         "Miles_per_Gallon": 29,
         "Name": "chevrolet chevette",
         "Origin": "USA",
         "Weight_in_lbs": 2035,
         "Year": "1976-01-01"
        },
        {
         "Acceleration": 22.1,
         "Cylinders": 4,
         "Displacement": 98,
         "Horsepower": 60,
         "Miles_per_Gallon": 24.5,
         "Name": "chevrolet woody",
         "Origin": "USA",
         "Weight_in_lbs": 2164,
         "Year": "1976-01-01"
        },
        {
         "Acceleration": 14.2,
         "Cylinders": 4,
         "Displacement": 90,
         "Horsepower": 70,
         "Miles_per_Gallon": 29,
         "Name": "vw rabbit",
         "Origin": "Europe",
         "Weight_in_lbs": 1937,
         "Year": "1976-01-01"
        },
        {
         "Acceleration": 17.4,
         "Cylinders": 4,
         "Displacement": 91,
         "Horsepower": 53,
         "Miles_per_Gallon": 33,
         "Name": "honda civic",
         "Origin": "Japan",
         "Weight_in_lbs": 1795,
         "Year": "1976-01-01"
        },
        {
         "Acceleration": 17.7,
         "Cylinders": 6,
         "Displacement": 225,
         "Horsepower": 100,
         "Miles_per_Gallon": 20,
         "Name": "dodge aspen se",
         "Origin": "USA",
         "Weight_in_lbs": 3651,
         "Year": "1976-01-01"
        },
        {
         "Acceleration": 21,
         "Cylinders": 6,
         "Displacement": 250,
         "Horsepower": 78,
         "Miles_per_Gallon": 18,
         "Name": "ford granada ghia",
         "Origin": "USA",
         "Weight_in_lbs": 3574,
         "Year": "1976-01-01"
        },
        {
         "Acceleration": 16.2,
         "Cylinders": 6,
         "Displacement": 250,
         "Horsepower": 110,
         "Miles_per_Gallon": 18.5,
         "Name": "pontiac ventura sj",
         "Origin": "USA",
         "Weight_in_lbs": 3645,
         "Year": "1976-01-01"
        },
        {
         "Acceleration": 17.8,
         "Cylinders": 6,
         "Displacement": 258,
         "Horsepower": 95,
         "Miles_per_Gallon": 17.5,
         "Name": "amc pacer d/l",
         "Origin": "USA",
         "Weight_in_lbs": 3193,
         "Year": "1976-01-01"
        },
        {
         "Acceleration": 12.2,
         "Cylinders": 4,
         "Displacement": 97,
         "Horsepower": 71,
         "Miles_per_Gallon": 29.5,
         "Name": "volkswagen rabbit",
         "Origin": "Europe",
         "Weight_in_lbs": 1825,
         "Year": "1976-01-01"
        },
        {
         "Acceleration": 17,
         "Cylinders": 4,
         "Displacement": 85,
         "Horsepower": 70,
         "Miles_per_Gallon": 32,
         "Name": "datsun b-210",
         "Origin": "Japan",
         "Weight_in_lbs": 1990,
         "Year": "1976-01-01"
        },
        {
         "Acceleration": 16.4,
         "Cylinders": 4,
         "Displacement": 97,
         "Horsepower": 75,
         "Miles_per_Gallon": 28,
         "Name": "toyota corolla",
         "Origin": "Japan",
         "Weight_in_lbs": 2155,
         "Year": "1976-01-01"
        },
        {
         "Acceleration": 13.6,
         "Cylinders": 4,
         "Displacement": 140,
         "Horsepower": 72,
         "Miles_per_Gallon": 26.5,
         "Name": "ford pinto",
         "Origin": "USA",
         "Weight_in_lbs": 2565,
         "Year": "1976-01-01"
        },
        {
         "Acceleration": 15.7,
         "Cylinders": 4,
         "Displacement": 130,
         "Horsepower": 102,
         "Miles_per_Gallon": 20,
         "Name": "volvo 245",
         "Origin": "Europe",
         "Weight_in_lbs": 3150,
         "Year": "1976-01-01"
        },
        {
         "Acceleration": 13.2,
         "Cylinders": 8,
         "Displacement": 318,
         "Horsepower": 150,
         "Miles_per_Gallon": 13,
         "Name": "plymouth volare premier v8",
         "Origin": "USA",
         "Weight_in_lbs": 3940,
         "Year": "1976-01-01"
        },
        {
         "Acceleration": 21.9,
         "Cylinders": 4,
         "Displacement": 120,
         "Horsepower": 88,
         "Miles_per_Gallon": 19,
         "Name": "peugeot 504",
         "Origin": "Europe",
         "Weight_in_lbs": 3270,
         "Year": "1976-01-01"
        },
        {
         "Acceleration": 15.5,
         "Cylinders": 6,
         "Displacement": 156,
         "Horsepower": 108,
         "Miles_per_Gallon": 19,
         "Name": "toyota mark ii",
         "Origin": "Japan",
         "Weight_in_lbs": 2930,
         "Year": "1976-01-01"
        },
        {
         "Acceleration": 16.7,
         "Cylinders": 6,
         "Displacement": 168,
         "Horsepower": 120,
         "Miles_per_Gallon": 16.5,
         "Name": "mercedes-benz 280s",
         "Origin": "Europe",
         "Weight_in_lbs": 3820,
         "Year": "1976-01-01"
        },
        {
         "Acceleration": 12.1,
         "Cylinders": 8,
         "Displacement": 350,
         "Horsepower": 180,
         "Miles_per_Gallon": 16.5,
         "Name": "cadillac seville",
         "Origin": "USA",
         "Weight_in_lbs": 4380,
         "Year": "1976-01-01"
        },
        {
         "Acceleration": 12,
         "Cylinders": 8,
         "Displacement": 350,
         "Horsepower": 145,
         "Miles_per_Gallon": 13,
         "Name": "chevy c10",
         "Origin": "USA",
         "Weight_in_lbs": 4055,
         "Year": "1976-01-01"
        },
        {
         "Acceleration": 15,
         "Cylinders": 8,
         "Displacement": 302,
         "Horsepower": 130,
         "Miles_per_Gallon": 13,
         "Name": "ford f108",
         "Origin": "USA",
         "Weight_in_lbs": 3870,
         "Year": "1976-01-01"
        },
        {
         "Acceleration": 14,
         "Cylinders": 8,
         "Displacement": 318,
         "Horsepower": 150,
         "Miles_per_Gallon": 13,
         "Name": "dodge d100",
         "Origin": "USA",
         "Weight_in_lbs": 3755,
         "Year": "1976-01-01"
        },
        {
         "Acceleration": 18.5,
         "Cylinders": 4,
         "Displacement": 98,
         "Horsepower": 68,
         "Miles_per_Gallon": 31.5,
         "Name": "honda Accelerationord cvcc",
         "Origin": "Japan",
         "Weight_in_lbs": 2045,
         "Year": "1977-01-01"
        },
        {
         "Acceleration": 14.8,
         "Cylinders": 4,
         "Displacement": 111,
         "Horsepower": 80,
         "Miles_per_Gallon": 30,
         "Name": "buick opel isuzu deluxe",
         "Origin": "USA",
         "Weight_in_lbs": 2155,
         "Year": "1977-01-01"
        },
        {
         "Acceleration": 18.6,
         "Cylinders": 4,
         "Displacement": 79,
         "Horsepower": 58,
         "Miles_per_Gallon": 36,
         "Name": "renault 5 gtl",
         "Origin": "Europe",
         "Weight_in_lbs": 1825,
         "Year": "1977-01-01"
        },
        {
         "Acceleration": 15.5,
         "Cylinders": 4,
         "Displacement": 122,
         "Horsepower": 96,
         "Miles_per_Gallon": 25.5,
         "Name": "plymouth arrow gs",
         "Origin": "USA",
         "Weight_in_lbs": 2300,
         "Year": "1977-01-01"
        },
        {
         "Acceleration": 16.8,
         "Cylinders": 4,
         "Displacement": 85,
         "Horsepower": 70,
         "Miles_per_Gallon": 33.5,
         "Name": "datsun f-10 hatchback",
         "Origin": "Japan",
         "Weight_in_lbs": 1945,
         "Year": "1977-01-01"
        },
        {
         "Acceleration": 12.5,
         "Cylinders": 8,
         "Displacement": 305,
         "Horsepower": 145,
         "Miles_per_Gallon": 17.5,
         "Name": "chevrolet caprice classic",
         "Origin": "USA",
         "Weight_in_lbs": 3880,
         "Year": "1977-01-01"
        },
        {
         "Acceleration": 19,
         "Cylinders": 8,
         "Displacement": 260,
         "Horsepower": 110,
         "Miles_per_Gallon": 17,
         "Name": "oldsmobile cutlass supreme",
         "Origin": "USA",
         "Weight_in_lbs": 4060,
         "Year": "1977-01-01"
        },
        {
         "Acceleration": 13.7,
         "Cylinders": 8,
         "Displacement": 318,
         "Horsepower": 145,
         "Miles_per_Gallon": 15.5,
         "Name": "dodge monaco brougham",
         "Origin": "USA",
         "Weight_in_lbs": 4140,
         "Year": "1977-01-01"
        },
        {
         "Acceleration": 14.9,
         "Cylinders": 8,
         "Displacement": 302,
         "Horsepower": 130,
         "Miles_per_Gallon": 15,
         "Name": "mercury cougar brougham",
         "Origin": "USA",
         "Weight_in_lbs": 4295,
         "Year": "1977-01-01"
        },
        {
         "Acceleration": 16.4,
         "Cylinders": 6,
         "Displacement": 250,
         "Horsepower": 110,
         "Miles_per_Gallon": 17.5,
         "Name": "chevrolet concours",
         "Origin": "USA",
         "Weight_in_lbs": 3520,
         "Year": "1977-01-01"
        },
        {
         "Acceleration": 16.9,
         "Cylinders": 6,
         "Displacement": 231,
         "Horsepower": 105,
         "Miles_per_Gallon": 20.5,
         "Name": "buick skylark",
         "Origin": "USA",
         "Weight_in_lbs": 3425,
         "Year": "1977-01-01"
        },
        {
         "Acceleration": 17.7,
         "Cylinders": 6,
         "Displacement": 225,
         "Horsepower": 100,
         "Miles_per_Gallon": 19,
         "Name": "plymouth volare custom",
         "Origin": "USA",
         "Weight_in_lbs": 3630,
         "Year": "1977-01-01"
        },
        {
         "Acceleration": 19,
         "Cylinders": 6,
         "Displacement": 250,
         "Horsepower": 98,
         "Miles_per_Gallon": 18.5,
         "Name": "ford granada",
         "Origin": "USA",
         "Weight_in_lbs": 3525,
         "Year": "1977-01-01"
        },
        {
         "Acceleration": 11.1,
         "Cylinders": 8,
         "Displacement": 400,
         "Horsepower": 180,
         "Miles_per_Gallon": 16,
         "Name": "pontiac grand prix lj",
         "Origin": "USA",
         "Weight_in_lbs": 4220,
         "Year": "1977-01-01"
        },
        {
         "Acceleration": 11.4,
         "Cylinders": 8,
         "Displacement": 350,
         "Horsepower": 170,
         "Miles_per_Gallon": 15.5,
         "Name": "chevrolet monte carlo landau",
         "Origin": "USA",
         "Weight_in_lbs": 4165,
         "Year": "1977-01-01"
        },
        {
         "Acceleration": 12.2,
         "Cylinders": 8,
         "Displacement": 400,
         "Horsepower": 190,
         "Miles_per_Gallon": 15.5,
         "Name": "chrysler cordoba",
         "Origin": "USA",
         "Weight_in_lbs": 4325,
         "Year": "1977-01-01"
        },
        {
         "Acceleration": 14.5,
         "Cylinders": 8,
         "Displacement": 351,
         "Horsepower": 149,
         "Miles_per_Gallon": 16,
         "Name": "ford thunderbird",
         "Origin": "USA",
         "Weight_in_lbs": 4335,
         "Year": "1977-01-01"
        },
        {
         "Acceleration": 14.5,
         "Cylinders": 4,
         "Displacement": 97,
         "Horsepower": 78,
         "Miles_per_Gallon": 29,
         "Name": "volkswagen rabbit custom",
         "Origin": "Europe",
         "Weight_in_lbs": 1940,
         "Year": "1977-01-01"
        },
        {
         "Acceleration": 16,
         "Cylinders": 4,
         "Displacement": 151,
         "Horsepower": 88,
         "Miles_per_Gallon": 24.5,
         "Name": "pontiac sunbird coupe",
         "Origin": "USA",
         "Weight_in_lbs": 2740,
         "Year": "1977-01-01"
        },
        {
         "Acceleration": 18.2,
         "Cylinders": 4,
         "Displacement": 97,
         "Horsepower": 75,
         "Miles_per_Gallon": 26,
         "Name": "toyota corolla liftback",
         "Origin": "Japan",
         "Weight_in_lbs": 2265,
         "Year": "1977-01-01"
        },
        {
         "Acceleration": 15.8,
         "Cylinders": 4,
         "Displacement": 140,
         "Horsepower": 89,
         "Miles_per_Gallon": 25.5,
         "Name": "ford mustang ii 2+2",
         "Origin": "USA",
         "Weight_in_lbs": 2755,
         "Year": "1977-01-01"
        },
        {
         "Acceleration": 17,
         "Cylinders": 4,
         "Displacement": 98,
         "Horsepower": 63,
         "Miles_per_Gallon": 30.5,
         "Name": "chevrolet chevette",
         "Origin": "USA",
         "Weight_in_lbs": 2051,
         "Year": "1977-01-01"
        },
        {
         "Acceleration": 15.9,
         "Cylinders": 4,
         "Displacement": 98,
         "Horsepower": 83,
         "Miles_per_Gallon": 33.5,
         "Name": "dodge colt m/m",
         "Origin": "USA",
         "Weight_in_lbs": 2075,
         "Year": "1977-01-01"
        },
        {
         "Acceleration": 16.4,
         "Cylinders": 4,
         "Displacement": 97,
         "Horsepower": 67,
         "Miles_per_Gallon": 30,
         "Name": "subaru dl",
         "Origin": "Japan",
         "Weight_in_lbs": 1985,
         "Year": "1977-01-01"
        },
        {
         "Acceleration": 14.1,
         "Cylinders": 4,
         "Displacement": 97,
         "Horsepower": 78,
         "Miles_per_Gallon": 30.5,
         "Name": "volkswagen dasher",
         "Origin": "Europe",
         "Weight_in_lbs": 2190,
         "Year": "1977-01-01"
        },
        {
         "Acceleration": 14.5,
         "Cylinders": 6,
         "Displacement": 146,
         "Horsepower": 97,
         "Miles_per_Gallon": 22,
         "Name": "datsun 810",
         "Origin": "Japan",
         "Weight_in_lbs": 2815,
         "Year": "1977-01-01"
        },
        {
         "Acceleration": 12.8,
         "Cylinders": 4,
         "Displacement": 121,
         "Horsepower": 110,
         "Miles_per_Gallon": 21.5,
         "Name": "bmw 320i",
         "Origin": "Europe",
         "Weight_in_lbs": 2600,
         "Year": "1977-01-01"
        },
        {
         "Acceleration": 13.5,
         "Cylinders": 3,
         "Displacement": 80,
         "Horsepower": 110,
         "Miles_per_Gallon": 21.5,
         "Name": "mazda rx-4",
         "Origin": "Japan",
         "Weight_in_lbs": 2720,
         "Year": "1977-01-01"
        },
        {
         "Acceleration": 21.5,
         "Cylinders": 4,
         "Displacement": 90,
         "Horsepower": 48,
         "Miles_per_Gallon": 43.1,
         "Name": "volkswagen rabbit custom diesel",
         "Origin": "Europe",
         "Weight_in_lbs": 1985,
         "Year": "1978-01-01"
        },
        {
         "Acceleration": 14.4,
         "Cylinders": 4,
         "Displacement": 98,
         "Horsepower": 66,
         "Miles_per_Gallon": 36.1,
         "Name": "ford fiesta",
         "Origin": "USA",
         "Weight_in_lbs": 1800,
         "Year": "1978-01-01"
        },
        {
         "Acceleration": 19.4,
         "Cylinders": 4,
         "Displacement": 78,
         "Horsepower": 52,
         "Miles_per_Gallon": 32.8,
         "Name": "mazda glc deluxe",
         "Origin": "Japan",
         "Weight_in_lbs": 1985,
         "Year": "1978-01-01"
        },
        {
         "Acceleration": 18.6,
         "Cylinders": 4,
         "Displacement": 85,
         "Horsepower": 70,
         "Miles_per_Gallon": 39.4,
         "Name": "datsun b210 gx",
         "Origin": "Japan",
         "Weight_in_lbs": 2070,
         "Year": "1978-01-01"
        },
        {
         "Acceleration": 16.4,
         "Cylinders": 4,
         "Displacement": 91,
         "Horsepower": 60,
         "Miles_per_Gallon": 36.1,
         "Name": "honda civic cvcc",
         "Origin": "Japan",
         "Weight_in_lbs": 1800,
         "Year": "1978-01-01"
        },
        {
         "Acceleration": 15.5,
         "Cylinders": 8,
         "Displacement": 260,
         "Horsepower": 110,
         "Miles_per_Gallon": 19.9,
         "Name": "oldsmobile cutlass salon brougham",
         "Origin": "USA",
         "Weight_in_lbs": 3365,
         "Year": "1978-01-01"
        },
        {
         "Acceleration": 13.2,
         "Cylinders": 8,
         "Displacement": 318,
         "Horsepower": 140,
         "Miles_per_Gallon": 19.4,
         "Name": "dodge diplomat",
         "Origin": "USA",
         "Weight_in_lbs": 3735,
         "Year": "1978-01-01"
        },
        {
         "Acceleration": 12.8,
         "Cylinders": 8,
         "Displacement": 302,
         "Horsepower": 139,
         "Miles_per_Gallon": 20.2,
         "Name": "mercury monarch ghia",
         "Origin": "USA",
         "Weight_in_lbs": 3570,
         "Year": "1978-01-01"
        },
        {
         "Acceleration": 19.2,
         "Cylinders": 6,
         "Displacement": 231,
         "Horsepower": 105,
         "Miles_per_Gallon": 19.2,
         "Name": "pontiac phoenix lj",
         "Origin": "USA",
         "Weight_in_lbs": 3535,
         "Year": "1978-01-01"
        },
        {
         "Acceleration": 18.2,
         "Cylinders": 6,
         "Displacement": 200,
         "Horsepower": 95,
         "Miles_per_Gallon": 20.5,
         "Name": "chevrolet malibu",
         "Origin": "USA",
         "Weight_in_lbs": 3155,
         "Year": "1978-01-01"
        },
        {
         "Acceleration": 15.8,
         "Cylinders": 6,
         "Displacement": 200,
         "Horsepower": 85,
         "Miles_per_Gallon": 20.2,
         "Name": "ford fairmont (auto)",
         "Origin": "USA",
         "Weight_in_lbs": 2965,
         "Year": "1978-01-01"
        },
        {
         "Acceleration": 15.4,
         "Cylinders": 4,
         "Displacement": 140,
         "Horsepower": 88,
         "Miles_per_Gallon": 25.1,
         "Name": "ford fairmont (man)",
         "Origin": "USA",
         "Weight_in_lbs": 2720,
         "Year": "1978-01-01"
        },
        {
         "Acceleration": 17.2,
         "Cylinders": 6,
         "Displacement": 225,
         "Horsepower": 100,
         "Miles_per_Gallon": 20.5,
         "Name": "plymouth volare",
         "Origin": "USA",
         "Weight_in_lbs": 3430,
         "Year": "1978-01-01"
        },
        {
         "Acceleration": 17.2,
         "Cylinders": 6,
         "Displacement": 232,
         "Horsepower": 90,
         "Miles_per_Gallon": 19.4,
         "Name": "amc concord",
         "Origin": "USA",
         "Weight_in_lbs": 3210,
         "Year": "1978-01-01"
        },
        {
         "Acceleration": 15.8,
         "Cylinders": 6,
         "Displacement": 231,
         "Horsepower": 105,
         "Miles_per_Gallon": 20.6,
         "Name": "buick century special",
         "Origin": "USA",
         "Weight_in_lbs": 3380,
         "Year": "1978-01-01"
        },
        {
         "Acceleration": 16.7,
         "Cylinders": 6,
         "Displacement": 200,
         "Horsepower": 85,
         "Miles_per_Gallon": 20.8,
         "Name": "mercury zephyr",
         "Origin": "USA",
         "Weight_in_lbs": 3070,
         "Year": "1978-01-01"
        },
        {
         "Acceleration": 18.7,
         "Cylinders": 6,
         "Displacement": 225,
         "Horsepower": 110,
         "Miles_per_Gallon": 18.6,
         "Name": "dodge aspen",
         "Origin": "USA",
         "Weight_in_lbs": 3620,
         "Year": "1978-01-01"
        },
        {
         "Acceleration": 15.1,
         "Cylinders": 6,
         "Displacement": 258,
         "Horsepower": 120,
         "Miles_per_Gallon": 18.1,
         "Name": "amc concord d/l",
         "Origin": "USA",
         "Weight_in_lbs": 3410,
         "Year": "1978-01-01"
        },
        {
         "Acceleration": 13.2,
         "Cylinders": 8,
         "Displacement": 305,
         "Horsepower": 145,
         "Miles_per_Gallon": 19.2,
         "Name": "chevrolet monte carlo landau",
         "Origin": "USA",
         "Weight_in_lbs": 3425,
         "Year": "1978-01-01"
        },
        {
         "Acceleration": 13.4,
         "Cylinders": 6,
         "Displacement": 231,
         "Horsepower": 165,
         "Miles_per_Gallon": 17.7,
         "Name": "buick regal sport coupe (turbo)",
         "Origin": "USA",
         "Weight_in_lbs": 3445,
         "Year": "1978-01-01"
        },
        {
         "Acceleration": 11.2,
         "Cylinders": 8,
         "Displacement": 302,
         "Horsepower": 139,
         "Miles_per_Gallon": 18.1,
         "Name": "ford futura",
         "Origin": "USA",
         "Weight_in_lbs": 3205,
         "Year": "1978-01-01"
        },
        {
         "Acceleration": 13.7,
         "Cylinders": 8,
         "Displacement": 318,
         "Horsepower": 140,
         "Miles_per_Gallon": 17.5,
         "Name": "dodge magnum xe",
         "Origin": "USA",
         "Weight_in_lbs": 4080,
         "Year": "1978-01-01"
        },
        {
         "Acceleration": 16.5,
         "Cylinders": 4,
         "Displacement": 98,
         "Horsepower": 68,
         "Miles_per_Gallon": 30,
         "Name": "chevrolet chevette",
         "Origin": "USA",
         "Weight_in_lbs": 2155,
         "Year": "1978-01-01"
        },
        {
         "Acceleration": 14.2,
         "Cylinders": 4,
         "Displacement": 134,
         "Horsepower": 95,
         "Miles_per_Gallon": 27.5,
         "Name": "toyota corona",
         "Origin": "Japan",
         "Weight_in_lbs": 2560,
         "Year": "1978-01-01"
        },
        {
         "Acceleration": 14.7,
         "Cylinders": 4,
         "Displacement": 119,
         "Horsepower": 97,
         "Miles_per_Gallon": 27.2,
         "Name": "datsun 510",
         "Origin": "Japan",
         "Weight_in_lbs": 2300,
         "Year": "1978-01-01"
        },
        {
         "Acceleration": 14.5,
         "Cylinders": 4,
         "Displacement": 105,
         "Horsepower": 75,
         "Miles_per_Gallon": 30.9,
         "Name": "dodge omni",
         "Origin": "USA",
         "Weight_in_lbs": 2230,
         "Year": "1978-01-01"
        },
        {
         "Acceleration": 14.8,
         "Cylinders": 4,
         "Displacement": 134,
         "Horsepower": 95,
         "Miles_per_Gallon": 21.1,
         "Name": "toyota celica gt liftback",
         "Origin": "Japan",
         "Weight_in_lbs": 2515,
         "Year": "1978-01-01"
        },
        {
         "Acceleration": 16.7,
         "Cylinders": 4,
         "Displacement": 156,
         "Horsepower": 105,
         "Miles_per_Gallon": 23.2,
         "Name": "plymouth sapporo",
         "Origin": "USA",
         "Weight_in_lbs": 2745,
         "Year": "1978-01-01"
        },
        {
         "Acceleration": 17.6,
         "Cylinders": 4,
         "Displacement": 151,
         "Horsepower": 85,
         "Miles_per_Gallon": 23.8,
         "Name": "oldsmobile starfire sx",
         "Origin": "USA",
         "Weight_in_lbs": 2855,
         "Year": "1978-01-01"
        },
        {
         "Acceleration": 14.9,
         "Cylinders": 4,
         "Displacement": 119,
         "Horsepower": 97,
         "Miles_per_Gallon": 23.9,
         "Name": "datsun 200-sx",
         "Origin": "Japan",
         "Weight_in_lbs": 2405,
         "Year": "1978-01-01"
        },
        {
         "Acceleration": 15.9,
         "Cylinders": 5,
         "Displacement": 131,
         "Horsepower": 103,
         "Miles_per_Gallon": 20.3,
         "Name": "audi 5000",
         "Origin": "Europe",
         "Weight_in_lbs": 2830,
         "Year": "1978-01-01"
        },
        {
         "Acceleration": 13.6,
         "Cylinders": 6,
         "Displacement": 163,
         "Horsepower": 125,
         "Miles_per_Gallon": 17,
         "Name": "volvo 264gl",
         "Origin": "Europe",
         "Weight_in_lbs": 3140,
         "Year": "1978-01-01"
        },
        {
         "Acceleration": 15.7,
         "Cylinders": 4,
         "Displacement": 121,
         "Horsepower": 115,
         "Miles_per_Gallon": 21.6,
         "Name": "saab 99gle",
         "Origin": "Europe",
         "Weight_in_lbs": 2795,
         "Year": "1978-01-01"
        },
        {
         "Acceleration": 15.8,
         "Cylinders": 6,
         "Displacement": 163,
         "Horsepower": 133,
         "Miles_per_Gallon": 16.2,
         "Name": "peugeot 604sl",
         "Origin": "Europe",
         "Weight_in_lbs": 3410,
         "Year": "1978-01-01"
        },
        {
         "Acceleration": 14.9,
         "Cylinders": 4,
         "Displacement": 89,
         "Horsepower": 71,
         "Miles_per_Gallon": 31.5,
         "Name": "volkswagen scirocco",
         "Origin": "Europe",
         "Weight_in_lbs": 1990,
         "Year": "1978-01-01"
        },
        {
         "Acceleration": 16.6,
         "Cylinders": 4,
         "Displacement": 98,
         "Horsepower": 68,
         "Miles_per_Gallon": 29.5,
         "Name": "honda Accelerationord lx",
         "Origin": "Japan",
         "Weight_in_lbs": 2135,
         "Year": "1978-01-01"
        },
        {
         "Acceleration": 15.4,
         "Cylinders": 6,
         "Displacement": 231,
         "Horsepower": 115,
         "Miles_per_Gallon": 21.5,
         "Name": "pontiac lemans v6",
         "Origin": "USA",
         "Weight_in_lbs": 3245,
         "Year": "1979-01-01"
        },
        {
         "Acceleration": 18.2,
         "Cylinders": 6,
         "Displacement": 200,
         "Horsepower": 85,
         "Miles_per_Gallon": 19.8,
         "Name": "mercury zephyr 6",
         "Origin": "USA",
         "Weight_in_lbs": 2990,
         "Year": "1979-01-01"
        },
        {
         "Acceleration": 17.3,
         "Cylinders": 4,
         "Displacement": 140,
         "Horsepower": 88,
         "Miles_per_Gallon": 22.3,
         "Name": "ford fairmont 4",
         "Origin": "USA",
         "Weight_in_lbs": 2890,
         "Year": "1979-01-01"
        },
        {
         "Acceleration": 18.2,
         "Cylinders": 6,
         "Displacement": 232,
         "Horsepower": 90,
         "Miles_per_Gallon": 20.2,
         "Name": "amc concord dl 6",
         "Origin": "USA",
         "Weight_in_lbs": 3265,
         "Year": "1979-01-01"
        },
        {
         "Acceleration": 16.6,
         "Cylinders": 6,
         "Displacement": 225,
         "Horsepower": 110,
         "Miles_per_Gallon": 20.6,
         "Name": "dodge aspen 6",
         "Origin": "USA",
         "Weight_in_lbs": 3360,
         "Year": "1979-01-01"
        },
        {
         "Acceleration": 15.4,
         "Cylinders": 8,
         "Displacement": 305,
         "Horsepower": 130,
         "Miles_per_Gallon": 17,
         "Name": "chevrolet caprice classic",
         "Origin": "USA",
         "Weight_in_lbs": 3840,
         "Year": "1979-01-01"
        },
        {
         "Acceleration": 13.4,
         "Cylinders": 8,
         "Displacement": 302,
         "Horsepower": 129,
         "Miles_per_Gallon": 17.6,
         "Name": "ford ltd landau",
         "Origin": "USA",
         "Weight_in_lbs": 3725,
         "Year": "1979-01-01"
        },
        {
         "Acceleration": 13.2,
         "Cylinders": 8,
         "Displacement": 351,
         "Horsepower": 138,
         "Miles_per_Gallon": 16.5,
         "Name": "mercury grand marquis",
         "Origin": "USA",
         "Weight_in_lbs": 3955,
         "Year": "1979-01-01"
        },
        {
         "Acceleration": 15.2,
         "Cylinders": 8,
         "Displacement": 318,
         "Horsepower": 135,
         "Miles_per_Gallon": 18.2,
         "Name": "dodge st. regis",
         "Origin": "USA",
         "Weight_in_lbs": 3830,
         "Year": "1979-01-01"
        },
        {
         "Acceleration": 14.9,
         "Cylinders": 8,
         "Displacement": 350,
         "Horsepower": 155,
         "Miles_per_Gallon": 16.9,
         "Name": "buick estate wagon (sw)",
         "Origin": "USA",
         "Weight_in_lbs": 4360,
         "Year": "1979-01-01"
        },
        {
         "Acceleration": 14.3,
         "Cylinders": 8,
         "Displacement": 351,
         "Horsepower": 142,
         "Miles_per_Gallon": 15.5,
         "Name": "ford country squire (sw)",
         "Origin": "USA",
         "Weight_in_lbs": 4054,
         "Year": "1979-01-01"
        },
        {
         "Acceleration": 15,
         "Cylinders": 8,
         "Displacement": 267,
         "Horsepower": 125,
         "Miles_per_Gallon": 19.2,
         "Name": "chevrolet malibu classic (sw)",
         "Origin": "USA",
         "Weight_in_lbs": 3605,
         "Year": "1979-01-01"
        },
        {
         "Acceleration": 13,
         "Cylinders": 8,
         "Displacement": 360,
         "Horsepower": 150,
         "Miles_per_Gallon": 18.5,
         "Name": "chrysler lebaron town @ country (sw)",
         "Origin": "USA",
         "Weight_in_lbs": 3940,
         "Year": "1979-01-01"
        },
        {
         "Acceleration": 14,
         "Cylinders": 4,
         "Displacement": 89,
         "Horsepower": 71,
         "Miles_per_Gallon": 31.9,
         "Name": "vw rabbit custom",
         "Origin": "Europe",
         "Weight_in_lbs": 1925,
         "Year": "1979-01-01"
        },
        {
         "Acceleration": 15.2,
         "Cylinders": 4,
         "Displacement": 86,
         "Horsepower": 65,
         "Miles_per_Gallon": 34.1,
         "Name": "maxda glc deluxe",
         "Origin": "Japan",
         "Weight_in_lbs": 1975,
         "Year": "1979-01-01"
        },
        {
         "Acceleration": 14.4,
         "Cylinders": 4,
         "Displacement": 98,
         "Horsepower": 80,
         "Miles_per_Gallon": 35.7,
         "Name": "dodge colt hatchback custom",
         "Origin": "USA",
         "Weight_in_lbs": 1915,
         "Year": "1979-01-01"
        },
        {
         "Acceleration": 15,
         "Cylinders": 4,
         "Displacement": 121,
         "Horsepower": 80,
         "Miles_per_Gallon": 27.4,
         "Name": "amc spirit dl",
         "Origin": "USA",
         "Weight_in_lbs": 2670,
         "Year": "1979-01-01"
        },
        {
         "Acceleration": 20.1,
         "Cylinders": 5,
         "Displacement": 183,
         "Horsepower": 77,
         "Miles_per_Gallon": 25.4,
         "Name": "mercedes benz 300d",
         "Origin": "Europe",
         "Weight_in_lbs": 3530,
         "Year": "1979-01-01"
        },
        {
         "Acceleration": 17.4,
         "Cylinders": 8,
         "Displacement": 350,
         "Horsepower": 125,
         "Miles_per_Gallon": 23,
         "Name": "cadillac eldorado",
         "Origin": "USA",
         "Weight_in_lbs": 3900,
         "Year": "1979-01-01"
        },
        {
         "Acceleration": 24.8,
         "Cylinders": 4,
         "Displacement": 141,
         "Horsepower": 71,
         "Miles_per_Gallon": 27.2,
         "Name": "peugeot 504",
         "Origin": "Europe",
         "Weight_in_lbs": 3190,
         "Year": "1979-01-01"
        },
        {
         "Acceleration": 22.2,
         "Cylinders": 8,
         "Displacement": 260,
         "Horsepower": 90,
         "Miles_per_Gallon": 23.9,
         "Name": "oldsmobile cutlass salon brougham",
         "Origin": "USA",
         "Weight_in_lbs": 3420,
         "Year": "1979-01-01"
        },
        {
         "Acceleration": 13.2,
         "Cylinders": 4,
         "Displacement": 105,
         "Horsepower": 70,
         "Miles_per_Gallon": 34.2,
         "Name": "plymouth horizon",
         "Origin": "USA",
         "Weight_in_lbs": 2200,
         "Year": "1979-01-01"
        },
        {
         "Acceleration": 14.9,
         "Cylinders": 4,
         "Displacement": 105,
         "Horsepower": 70,
         "Miles_per_Gallon": 34.5,
         "Name": "plymouth horizon tc3",
         "Origin": "USA",
         "Weight_in_lbs": 2150,
         "Year": "1979-01-01"
        },
        {
         "Acceleration": 19.2,
         "Cylinders": 4,
         "Displacement": 85,
         "Horsepower": 65,
         "Miles_per_Gallon": 31.8,
         "Name": "datsun 210",
         "Origin": "Japan",
         "Weight_in_lbs": 2020,
         "Year": "1979-01-01"
        },
        {
         "Acceleration": 14.7,
         "Cylinders": 4,
         "Displacement": 91,
         "Horsepower": 69,
         "Miles_per_Gallon": 37.3,
         "Name": "fiat strada custom",
         "Origin": "Europe",
         "Weight_in_lbs": 2130,
         "Year": "1979-01-01"
        },
        {
         "Acceleration": 16,
         "Cylinders": 4,
         "Displacement": 151,
         "Horsepower": 90,
         "Miles_per_Gallon": 28.4,
         "Name": "buick skylark limited",
         "Origin": "USA",
         "Weight_in_lbs": 2670,
         "Year": "1979-01-01"
        },
        {
         "Acceleration": 11.3,
         "Cylinders": 6,
         "Displacement": 173,
         "Horsepower": 115,
         "Miles_per_Gallon": 28.8,
         "Name": "chevrolet citation",
         "Origin": "USA",
         "Weight_in_lbs": 2595,
         "Year": "1979-01-01"
        },
        {
         "Acceleration": 12.9,
         "Cylinders": 6,
         "Displacement": 173,
         "Horsepower": 115,
         "Miles_per_Gallon": 26.8,
         "Name": "oldsmobile omega brougham",
         "Origin": "USA",
         "Weight_in_lbs": 2700,
         "Year": "1979-01-01"
        },
        {
         "Acceleration": 13.2,
         "Cylinders": 4,
         "Displacement": 151,
         "Horsepower": 90,
         "Miles_per_Gallon": 33.5,
         "Name": "pontiac phoenix",
         "Origin": "USA",
         "Weight_in_lbs": 2556,
         "Year": "1979-01-01"
        },
        {
         "Acceleration": 14.7,
         "Cylinders": 4,
         "Displacement": 98,
         "Horsepower": 76,
         "Miles_per_Gallon": 41.5,
         "Name": "vw rabbit",
         "Origin": "Europe",
         "Weight_in_lbs": 2144,
         "Year": "1980-01-01"
        },
        {
         "Acceleration": 18.8,
         "Cylinders": 4,
         "Displacement": 89,
         "Horsepower": 60,
         "Miles_per_Gallon": 38.1,
         "Name": "toyota corolla tercel",
         "Origin": "Japan",
         "Weight_in_lbs": 1968,
         "Year": "1980-01-01"
        },
        {
         "Acceleration": 15.5,
         "Cylinders": 4,
         "Displacement": 98,
         "Horsepower": 70,
         "Miles_per_Gallon": 32.1,
         "Name": "chevrolet chevette",
         "Origin": "USA",
         "Weight_in_lbs": 2120,
         "Year": "1980-01-01"
        },
        {
         "Acceleration": 16.4,
         "Cylinders": 4,
         "Displacement": 86,
         "Horsepower": 65,
         "Miles_per_Gallon": 37.2,
         "Name": "datsun 310",
         "Origin": "Japan",
         "Weight_in_lbs": 2019,
         "Year": "1980-01-01"
        },
        {
         "Acceleration": 16.5,
         "Cylinders": 4,
         "Displacement": 151,
         "Horsepower": 90,
         "Miles_per_Gallon": 28,
         "Name": "chevrolet citation",
         "Origin": "USA",
         "Weight_in_lbs": 2678,
         "Year": "1980-01-01"
        },
        {
         "Acceleration": 18.1,
         "Cylinders": 4,
         "Displacement": 140,
         "Horsepower": 88,
         "Miles_per_Gallon": 26.4,
         "Name": "ford fairmont",
         "Origin": "USA",
         "Weight_in_lbs": 2870,
         "Year": "1980-01-01"
        },
        {
         "Acceleration": 20.1,
         "Cylinders": 4,
         "Displacement": 151,
         "Horsepower": 90,
         "Miles_per_Gallon": 24.3,
         "Name": "amc concord",
         "Origin": "USA",
         "Weight_in_lbs": 3003,
         "Year": "1980-01-01"
        },
        {
         "Acceleration": 18.7,
         "Cylinders": 6,
         "Displacement": 225,
         "Horsepower": 90,
         "Miles_per_Gallon": 19.1,
         "Name": "dodge aspen",
         "Origin": "USA",
         "Weight_in_lbs": 3381,
         "Year": "1980-01-01"
        },
        {
         "Acceleration": 15.8,
         "Cylinders": 4,
         "Displacement": 97,
         "Horsepower": 78,
         "Miles_per_Gallon": 34.3,
         "Name": "audi 4000",
         "Origin": "Europe",
         "Weight_in_lbs": 2188,
         "Year": "1980-01-01"
        },
        {
         "Acceleration": 15.5,
         "Cylinders": 4,
         "Displacement": 134,
         "Horsepower": 90,
         "Miles_per_Gallon": 29.8,
         "Name": "toyota corona liftback",
         "Origin": "Japan",
         "Weight_in_lbs": 2711,
         "Year": "1980-01-01"
        },
        {
         "Acceleration": 17.5,
         "Cylinders": 4,
         "Displacement": 120,
         "Horsepower": 75,
         "Miles_per_Gallon": 31.3,
         "Name": "mazda 626",
         "Origin": "Japan",
         "Weight_in_lbs": 2542,
         "Year": "1980-01-01"
        },
        {
         "Acceleration": 15,
         "Cylinders": 4,
         "Displacement": 119,
         "Horsepower": 92,
         "Miles_per_Gallon": 37,
         "Name": "datsun 510 hatchback",
         "Origin": "Japan",
         "Weight_in_lbs": 2434,
         "Year": "1980-01-01"
        },
        {
         "Acceleration": 15.2,
         "Cylinders": 4,
         "Displacement": 108,
         "Horsepower": 75,
         "Miles_per_Gallon": 32.2,
         "Name": "toyota corolla",
         "Origin": "Japan",
         "Weight_in_lbs": 2265,
         "Year": "1980-01-01"
        },
        {
         "Acceleration": 17.9,
         "Cylinders": 4,
         "Displacement": 86,
         "Horsepower": 65,
         "Miles_per_Gallon": 46.6,
         "Name": "mazda glc",
         "Origin": "Japan",
         "Weight_in_lbs": 2110,
         "Year": "1980-01-01"
        },
        {
         "Acceleration": 14.4,
         "Cylinders": 4,
         "Displacement": 156,
         "Horsepower": 105,
         "Miles_per_Gallon": 27.9,
         "Name": "dodge colt",
         "Origin": "USA",
         "Weight_in_lbs": 2800,
         "Year": "1980-01-01"
        },
        {
         "Acceleration": 19.2,
         "Cylinders": 4,
         "Displacement": 85,
         "Horsepower": 65,
         "Miles_per_Gallon": 40.8,
         "Name": "datsun 210",
         "Origin": "Japan",
         "Weight_in_lbs": 2110,
         "Year": "1980-01-01"
        },
        {
         "Acceleration": 21.7,
         "Cylinders": 4,
         "Displacement": 90,
         "Horsepower": 48,
         "Miles_per_Gallon": 44.3,
         "Name": "vw rabbit c (diesel)",
         "Origin": "Europe",
         "Weight_in_lbs": 2085,
         "Year": "1980-01-01"
        },
        {
         "Acceleration": 23.7,
         "Cylinders": 4,
         "Displacement": 90,
         "Horsepower": 48,
         "Miles_per_Gallon": 43.4,
         "Name": "vw dasher (diesel)",
         "Origin": "Europe",
         "Weight_in_lbs": 2335,
         "Year": "1980-01-01"
        },
        {
         "Acceleration": 19.9,
         "Cylinders": 5,
         "Displacement": 121,
         "Horsepower": 67,
         "Miles_per_Gallon": 36.4,
         "Name": "audi 5000s (diesel)",
         "Origin": "Europe",
         "Weight_in_lbs": 2950,
         "Year": "1980-01-01"
        },
        {
         "Acceleration": 21.8,
         "Cylinders": 4,
         "Displacement": 146,
         "Horsepower": 67,
         "Miles_per_Gallon": 30,
         "Name": "mercedes-benz 240d",
         "Origin": "Europe",
         "Weight_in_lbs": 3250,
         "Year": "1980-01-01"
        },
        {
         "Acceleration": 13.8,
         "Cylinders": 4,
         "Displacement": 91,
         "Horsepower": 67,
         "Miles_per_Gallon": 44.6,
         "Name": "honda civic 1500 gl",
         "Origin": "Japan",
         "Weight_in_lbs": 1850,
         "Year": "1980-01-01"
        },
        {
         "Acceleration": 17.3,
         "Cylinders": 4,
         "Displacement": 85,
         "Horsepower": null,
         "Miles_per_Gallon": 40.9,
         "Name": "renault lecar deluxe",
         "Origin": "Europe",
         "Weight_in_lbs": 1835,
         "Year": "1980-01-01"
        },
        {
         "Acceleration": 18,
         "Cylinders": 4,
         "Displacement": 97,
         "Horsepower": 67,
         "Miles_per_Gallon": 33.8,
         "Name": "subaru dl",
         "Origin": "Japan",
         "Weight_in_lbs": 2145,
         "Year": "1980-01-01"
        },
        {
         "Acceleration": 15.3,
         "Cylinders": 4,
         "Displacement": 89,
         "Horsepower": 62,
         "Miles_per_Gallon": 29.8,
         "Name": "vokswagen rabbit",
         "Origin": "Europe",
         "Weight_in_lbs": 1845,
         "Year": "1980-01-01"
        },
        {
         "Acceleration": 11.4,
         "Cylinders": 6,
         "Displacement": 168,
         "Horsepower": 132,
         "Miles_per_Gallon": 32.7,
         "Name": "datsun 280-zx",
         "Origin": "Japan",
         "Weight_in_lbs": 2910,
         "Year": "1980-01-01"
        },
        {
         "Acceleration": 12.5,
         "Cylinders": 3,
         "Displacement": 70,
         "Horsepower": 100,
         "Miles_per_Gallon": 23.7,
         "Name": "mazda rx-7 gs",
         "Origin": "Japan",
         "Weight_in_lbs": 2420,
         "Year": "1980-01-01"
        },
        {
         "Acceleration": 15.1,
         "Cylinders": 4,
         "Displacement": 122,
         "Horsepower": 88,
         "Miles_per_Gallon": 35,
         "Name": "triumph tr7 coupe",
         "Origin": "Europe",
         "Weight_in_lbs": 2500,
         "Year": "1980-01-01"
        },
        {
         "Acceleration": 14.3,
         "Cylinders": 4,
         "Displacement": 140,
         "Horsepower": null,
         "Miles_per_Gallon": 23.6,
         "Name": "ford mustang cobra",
         "Origin": "USA",
         "Weight_in_lbs": 2905,
         "Year": "1980-01-01"
        },
        {
         "Acceleration": 17,
         "Cylinders": 4,
         "Displacement": 107,
         "Horsepower": 72,
         "Miles_per_Gallon": 32.4,
         "Name": "honda Accelerationord",
         "Origin": "Japan",
         "Weight_in_lbs": 2290,
         "Year": "1980-01-01"
        },
        {
         "Acceleration": 15.7,
         "Cylinders": 4,
         "Displacement": 135,
         "Horsepower": 84,
         "Miles_per_Gallon": 27.2,
         "Name": "plymouth reliant",
         "Origin": "USA",
         "Weight_in_lbs": 2490,
         "Year": "1982-01-01"
        },
        {
         "Acceleration": 16.4,
         "Cylinders": 4,
         "Displacement": 151,
         "Horsepower": 84,
         "Miles_per_Gallon": 26.6,
         "Name": "buick skylark",
         "Origin": "USA",
         "Weight_in_lbs": 2635,
         "Year": "1982-01-01"
        },
        {
         "Acceleration": 14.4,
         "Cylinders": 4,
         "Displacement": 156,
         "Horsepower": 92,
         "Miles_per_Gallon": 25.8,
         "Name": "dodge aries wagon (sw)",
         "Origin": "USA",
         "Weight_in_lbs": 2620,
         "Year": "1982-01-01"
        },
        {
         "Acceleration": 12.6,
         "Cylinders": 6,
         "Displacement": 173,
         "Horsepower": 110,
         "Miles_per_Gallon": 23.5,
         "Name": "chevrolet citation",
         "Origin": "USA",
         "Weight_in_lbs": 2725,
         "Year": "1982-01-01"
        },
        {
         "Acceleration": 12.9,
         "Cylinders": 4,
         "Displacement": 135,
         "Horsepower": 84,
         "Miles_per_Gallon": 30,
         "Name": "plymouth reliant",
         "Origin": "USA",
         "Weight_in_lbs": 2385,
         "Year": "1982-01-01"
        },
        {
         "Acceleration": 16.9,
         "Cylinders": 4,
         "Displacement": 79,
         "Horsepower": 58,
         "Miles_per_Gallon": 39.1,
         "Name": "toyota starlet",
         "Origin": "Japan",
         "Weight_in_lbs": 1755,
         "Year": "1982-01-01"
        },
        {
         "Acceleration": 16.4,
         "Cylinders": 4,
         "Displacement": 86,
         "Horsepower": 64,
         "Miles_per_Gallon": 39,
         "Name": "plymouth champ",
         "Origin": "USA",
         "Weight_in_lbs": 1875,
         "Year": "1982-01-01"
        },
        {
         "Acceleration": 16.1,
         "Cylinders": 4,
         "Displacement": 81,
         "Horsepower": 60,
         "Miles_per_Gallon": 35.1,
         "Name": "honda civic 1300",
         "Origin": "Japan",
         "Weight_in_lbs": 1760,
         "Year": "1982-01-01"
        },
        {
         "Acceleration": 17.8,
         "Cylinders": 4,
         "Displacement": 97,
         "Horsepower": 67,
         "Miles_per_Gallon": 32.3,
         "Name": "subaru",
         "Origin": "Japan",
         "Weight_in_lbs": 2065,
         "Year": "1982-01-01"
        },
        {
         "Acceleration": 19.4,
         "Cylinders": 4,
         "Displacement": 85,
         "Horsepower": 65,
         "Miles_per_Gallon": 37,
         "Name": "datsun 210",
         "Origin": "Japan",
         "Weight_in_lbs": 1975,
         "Year": "1982-01-01"
        },
        {
         "Acceleration": 17.3,
         "Cylinders": 4,
         "Displacement": 89,
         "Horsepower": 62,
         "Miles_per_Gallon": 37.7,
         "Name": "toyota tercel",
         "Origin": "Japan",
         "Weight_in_lbs": 2050,
         "Year": "1982-01-01"
        },
        {
         "Acceleration": 16,
         "Cylinders": 4,
         "Displacement": 91,
         "Horsepower": 68,
         "Miles_per_Gallon": 34.1,
         "Name": "mazda glc 4",
         "Origin": "Japan",
         "Weight_in_lbs": 1985,
         "Year": "1982-01-01"
        },
        {
         "Acceleration": 14.9,
         "Cylinders": 4,
         "Displacement": 105,
         "Horsepower": 63,
         "Miles_per_Gallon": 34.7,
         "Name": "plymouth horizon 4",
         "Origin": "USA",
         "Weight_in_lbs": 2215,
         "Year": "1982-01-01"
        },
        {
         "Acceleration": 16.2,
         "Cylinders": 4,
         "Displacement": 98,
         "Horsepower": 65,
         "Miles_per_Gallon": 34.4,
         "Name": "ford escort 4w",
         "Origin": "USA",
         "Weight_in_lbs": 2045,
         "Year": "1982-01-01"
        },
        {
         "Acceleration": 20.7,
         "Cylinders": 4,
         "Displacement": 98,
         "Horsepower": 65,
         "Miles_per_Gallon": 29.9,
         "Name": "ford escort 2h",
         "Origin": "USA",
         "Weight_in_lbs": 2380,
         "Year": "1982-01-01"
        },
        {
         "Acceleration": 14.2,
         "Cylinders": 4,
         "Displacement": 105,
         "Horsepower": 74,
         "Miles_per_Gallon": 33,
         "Name": "volkswagen jetta",
         "Origin": "Europe",
         "Weight_in_lbs": 2190,
         "Year": "1982-01-01"
        },
        {
         "Acceleration": 15.8,
         "Cylinders": 4,
         "Displacement": 100,
         "Horsepower": null,
         "Miles_per_Gallon": 34.5,
         "Name": "renault 18i",
         "Origin": "Europe",
         "Weight_in_lbs": 2320,
         "Year": "1982-01-01"
        },
        {
         "Acceleration": 14.4,
         "Cylinders": 4,
         "Displacement": 107,
         "Horsepower": 75,
         "Miles_per_Gallon": 33.7,
         "Name": "honda prelude",
         "Origin": "Japan",
         "Weight_in_lbs": 2210,
         "Year": "1982-01-01"
        },
        {
         "Acceleration": 16.8,
         "Cylinders": 4,
         "Displacement": 108,
         "Horsepower": 75,
         "Miles_per_Gallon": 32.4,
         "Name": "toyota corolla",
         "Origin": "Japan",
         "Weight_in_lbs": 2350,
         "Year": "1982-01-01"
        },
        {
         "Acceleration": 14.8,
         "Cylinders": 4,
         "Displacement": 119,
         "Horsepower": 100,
         "Miles_per_Gallon": 32.9,
         "Name": "datsun 200sx",
         "Origin": "Japan",
         "Weight_in_lbs": 2615,
         "Year": "1982-01-01"
        },
        {
         "Acceleration": 18.3,
         "Cylinders": 4,
         "Displacement": 120,
         "Horsepower": 74,
         "Miles_per_Gallon": 31.6,
         "Name": "mazda 626",
         "Origin": "Japan",
         "Weight_in_lbs": 2635,
         "Year": "1982-01-01"
        },
        {
         "Acceleration": 20.4,
         "Cylinders": 4,
         "Displacement": 141,
         "Horsepower": 80,
         "Miles_per_Gallon": 28.1,
         "Name": "peugeot 505s turbo diesel",
         "Origin": "Europe",
         "Weight_in_lbs": 3230,
         "Year": "1982-01-01"
        },
        {
         "Acceleration": 15.4,
         "Cylinders": 4,
         "Displacement": 121,
         "Horsepower": 110,
         "Miles_per_Gallon": null,
         "Name": "saab 900s",
         "Origin": "Europe",
         "Weight_in_lbs": 2800,
         "Year": "1982-01-01"
        },
        {
         "Acceleration": 19.6,
         "Cylinders": 6,
         "Displacement": 145,
         "Horsepower": 76,
         "Miles_per_Gallon": 30.7,
         "Name": "volvo diesel",
         "Origin": "Europe",
         "Weight_in_lbs": 3160,
         "Year": "1982-01-01"
        },
        {
         "Acceleration": 12.6,
         "Cylinders": 6,
         "Displacement": 168,
         "Horsepower": 116,
         "Miles_per_Gallon": 25.4,
         "Name": "toyota cressida",
         "Origin": "Japan",
         "Weight_in_lbs": 2900,
         "Year": "1982-01-01"
        },
        {
         "Acceleration": 13.8,
         "Cylinders": 6,
         "Displacement": 146,
         "Horsepower": 120,
         "Miles_per_Gallon": 24.2,
         "Name": "datsun 810 maxima",
         "Origin": "Japan",
         "Weight_in_lbs": 2930,
         "Year": "1982-01-01"
        },
        {
         "Acceleration": 15.8,
         "Cylinders": 6,
         "Displacement": 231,
         "Horsepower": 110,
         "Miles_per_Gallon": 22.4,
         "Name": "buick century",
         "Origin": "USA",
         "Weight_in_lbs": 3415,
         "Year": "1982-01-01"
        },
        {
         "Acceleration": 19,
         "Cylinders": 8,
         "Displacement": 350,
         "Horsepower": 105,
         "Miles_per_Gallon": 26.6,
         "Name": "oldsmobile cutlass ls",
         "Origin": "USA",
         "Weight_in_lbs": 3725,
         "Year": "1982-01-01"
        },
        {
         "Acceleration": 17.1,
         "Cylinders": 6,
         "Displacement": 200,
         "Horsepower": 88,
         "Miles_per_Gallon": 20.2,
         "Name": "ford granada gl",
         "Origin": "USA",
         "Weight_in_lbs": 3060,
         "Year": "1982-01-01"
        },
        {
         "Acceleration": 16.6,
         "Cylinders": 6,
         "Displacement": 225,
         "Horsepower": 85,
         "Miles_per_Gallon": 17.6,
         "Name": "chrysler lebaron salon",
         "Origin": "USA",
         "Weight_in_lbs": 3465,
         "Year": "1982-01-01"
        },
        {
         "Acceleration": 19.6,
         "Cylinders": 4,
         "Displacement": 112,
         "Horsepower": 88,
         "Miles_per_Gallon": 28,
         "Name": "chevrolet cavalier",
         "Origin": "USA",
         "Weight_in_lbs": 2605,
         "Year": "1982-01-01"
        },
        {
         "Acceleration": 18.6,
         "Cylinders": 4,
         "Displacement": 112,
         "Horsepower": 88,
         "Miles_per_Gallon": 27,
         "Name": "chevrolet cavalier wagon",
         "Origin": "USA",
         "Weight_in_lbs": 2640,
         "Year": "1982-01-01"
        },
        {
         "Acceleration": 18,
         "Cylinders": 4,
         "Displacement": 112,
         "Horsepower": 88,
         "Miles_per_Gallon": 34,
         "Name": "chevrolet cavalier 2-door",
         "Origin": "USA",
         "Weight_in_lbs": 2395,
         "Year": "1982-01-01"
        },
        {
         "Acceleration": 16.2,
         "Cylinders": 4,
         "Displacement": 112,
         "Horsepower": 85,
         "Miles_per_Gallon": 31,
         "Name": "pontiac j2000 se hatchback",
         "Origin": "USA",
         "Weight_in_lbs": 2575,
         "Year": "1982-01-01"
        },
        {
         "Acceleration": 16,
         "Cylinders": 4,
         "Displacement": 135,
         "Horsepower": 84,
         "Miles_per_Gallon": 29,
         "Name": "dodge aries se",
         "Origin": "USA",
         "Weight_in_lbs": 2525,
         "Year": "1982-01-01"
        },
        {
         "Acceleration": 18,
         "Cylinders": 4,
         "Displacement": 151,
         "Horsepower": 90,
         "Miles_per_Gallon": 27,
         "Name": "pontiac phoenix",
         "Origin": "USA",
         "Weight_in_lbs": 2735,
         "Year": "1982-01-01"
        },
        {
         "Acceleration": 16.4,
         "Cylinders": 4,
         "Displacement": 140,
         "Horsepower": 92,
         "Miles_per_Gallon": 24,
         "Name": "ford fairmont futura",
         "Origin": "USA",
         "Weight_in_lbs": 2865,
         "Year": "1982-01-01"
        },
        {
         "Acceleration": 20.5,
         "Cylinders": 4,
         "Displacement": 151,
         "Horsepower": null,
         "Miles_per_Gallon": 23,
         "Name": "amc concord dl",
         "Origin": "USA",
         "Weight_in_lbs": 3035,
         "Year": "1982-01-01"
        },
        {
         "Acceleration": 15.3,
         "Cylinders": 4,
         "Displacement": 105,
         "Horsepower": 74,
         "Miles_per_Gallon": 36,
         "Name": "volkswagen rabbit l",
         "Origin": "Europe",
         "Weight_in_lbs": 1980,
         "Year": "1982-01-01"
        },
        {
         "Acceleration": 18.2,
         "Cylinders": 4,
         "Displacement": 91,
         "Horsepower": 68,
         "Miles_per_Gallon": 37,
         "Name": "mazda glc custom l",
         "Origin": "Japan",
         "Weight_in_lbs": 2025,
         "Year": "1982-01-01"
        },
        {
         "Acceleration": 17.6,
         "Cylinders": 4,
         "Displacement": 91,
         "Horsepower": 68,
         "Miles_per_Gallon": 31,
         "Name": "mazda glc custom",
         "Origin": "Japan",
         "Weight_in_lbs": 1970,
         "Year": "1982-01-01"
        },
        {
         "Acceleration": 14.7,
         "Cylinders": 4,
         "Displacement": 105,
         "Horsepower": 63,
         "Miles_per_Gallon": 38,
         "Name": "plymouth horizon miser",
         "Origin": "USA",
         "Weight_in_lbs": 2125,
         "Year": "1982-01-01"
        },
        {
         "Acceleration": 17.3,
         "Cylinders": 4,
         "Displacement": 98,
         "Horsepower": 70,
         "Miles_per_Gallon": 36,
         "Name": "mercury lynx l",
         "Origin": "USA",
         "Weight_in_lbs": 2125,
         "Year": "1982-01-01"
        },
        {
         "Acceleration": 14.5,
         "Cylinders": 4,
         "Displacement": 120,
         "Horsepower": 88,
         "Miles_per_Gallon": 36,
         "Name": "nissan stanza xe",
         "Origin": "Japan",
         "Weight_in_lbs": 2160,
         "Year": "1982-01-01"
        },
        {
         "Acceleration": 14.5,
         "Cylinders": 4,
         "Displacement": 107,
         "Horsepower": 75,
         "Miles_per_Gallon": 36,
         "Name": "honda Accelerationord",
         "Origin": "Japan",
         "Weight_in_lbs": 2205,
         "Year": "1982-01-01"
        },
        {
         "Acceleration": 16.9,
         "Cylinders": 4,
         "Displacement": 108,
         "Horsepower": 70,
         "Miles_per_Gallon": 34,
         "Name": "toyota corolla",
         "Origin": "Japan",
         "Weight_in_lbs": 2245,
         "Year": "1982-01-01"
        },
        {
         "Acceleration": 15,
         "Cylinders": 4,
         "Displacement": 91,
         "Horsepower": 67,
         "Miles_per_Gallon": 38,
         "Name": "honda civic",
         "Origin": "Japan",
         "Weight_in_lbs": 1965,
         "Year": "1982-01-01"
        },
        {
         "Acceleration": 15.7,
         "Cylinders": 4,
         "Displacement": 91,
         "Horsepower": 67,
         "Miles_per_Gallon": 32,
         "Name": "honda civic (auto)",
         "Origin": "Japan",
         "Weight_in_lbs": 1965,
         "Year": "1982-01-01"
        },
        {
         "Acceleration": 16.2,
         "Cylinders": 4,
         "Displacement": 91,
         "Horsepower": 67,
         "Miles_per_Gallon": 38,
         "Name": "datsun 310 gx",
         "Origin": "Japan",
         "Weight_in_lbs": 1995,
         "Year": "1982-01-01"
        },
        {
         "Acceleration": 16.4,
         "Cylinders": 6,
         "Displacement": 181,
         "Horsepower": 110,
         "Miles_per_Gallon": 25,
         "Name": "buick century limited",
         "Origin": "USA",
         "Weight_in_lbs": 2945,
         "Year": "1982-01-01"
        },
        {
         "Acceleration": 17,
         "Cylinders": 6,
         "Displacement": 262,
         "Horsepower": 85,
         "Miles_per_Gallon": 38,
         "Name": "oldsmobile cutlass ciera (diesel)",
         "Origin": "USA",
         "Weight_in_lbs": 3015,
         "Year": "1982-01-01"
        },
        {
         "Acceleration": 14.5,
         "Cylinders": 4,
         "Displacement": 156,
         "Horsepower": 92,
         "Miles_per_Gallon": 26,
         "Name": "chrysler lebaron medallion",
         "Origin": "USA",
         "Weight_in_lbs": 2585,
         "Year": "1982-01-01"
        },
        {
         "Acceleration": 14.7,
         "Cylinders": 6,
         "Displacement": 232,
         "Horsepower": 112,
         "Miles_per_Gallon": 22,
         "Name": "ford granada l",
         "Origin": "USA",
         "Weight_in_lbs": 2835,
         "Year": "1982-01-01"
        },
        {
         "Acceleration": 13.9,
         "Cylinders": 4,
         "Displacement": 144,
         "Horsepower": 96,
         "Miles_per_Gallon": 32,
         "Name": "toyota celica gt",
         "Origin": "Japan",
         "Weight_in_lbs": 2665,
         "Year": "1982-01-01"
        },
        {
         "Acceleration": 13,
         "Cylinders": 4,
         "Displacement": 135,
         "Horsepower": 84,
         "Miles_per_Gallon": 36,
         "Name": "dodge charger 2.2",
         "Origin": "USA",
         "Weight_in_lbs": 2370,
         "Year": "1982-01-01"
        },
        {
         "Acceleration": 17.3,
         "Cylinders": 4,
         "Displacement": 151,
         "Horsepower": 90,
         "Miles_per_Gallon": 27,
         "Name": "chevrolet camaro",
         "Origin": "USA",
         "Weight_in_lbs": 2950,
         "Year": "1982-01-01"
        },
        {
         "Acceleration": 15.6,
         "Cylinders": 4,
         "Displacement": 140,
         "Horsepower": 86,
         "Miles_per_Gallon": 27,
         "Name": "ford mustang gl",
         "Origin": "USA",
         "Weight_in_lbs": 2790,
         "Year": "1982-01-01"
        },
        {
         "Acceleration": 24.6,
         "Cylinders": 4,
         "Displacement": 97,
         "Horsepower": 52,
         "Miles_per_Gallon": 44,
         "Name": "vw pickup",
         "Origin": "Europe",
         "Weight_in_lbs": 2130,
         "Year": "1982-01-01"
        },
        {
         "Acceleration": 11.6,
         "Cylinders": 4,
         "Displacement": 135,
         "Horsepower": 84,
         "Miles_per_Gallon": 32,
         "Name": "dodge rampage",
         "Origin": "USA",
         "Weight_in_lbs": 2295,
         "Year": "1982-01-01"
        },
        {
         "Acceleration": 18.6,
         "Cylinders": 4,
         "Displacement": 120,
         "Horsepower": 79,
         "Miles_per_Gallon": 28,
         "Name": "ford ranger",
         "Origin": "USA",
         "Weight_in_lbs": 2625,
         "Year": "1982-01-01"
        },
        {
         "Acceleration": 19.4,
         "Cylinders": 4,
         "Displacement": 119,
         "Horsepower": 82,
         "Miles_per_Gallon": 31,
         "Name": "chevy s-10",
         "Origin": "USA",
         "Weight_in_lbs": 2720,
         "Year": "1982-01-01"
        }
       ],
       "schema": {
        "fields": [
         {
          "name": "Name",
          "type": "string"
         },
         {
          "name": "Miles_per_Gallon",
          "type": "number"
         },
         {
          "name": "Cylinders",
          "type": "integer"
         },
         {
          "name": "Displacement",
          "type": "number"
         },
         {
          "name": "Horsepower",
          "type": "integer"
         },
         {
          "name": "Weight_in_lbs",
          "type": "integer"
         },
         {
          "name": "Acceleration",
          "type": "number"
         },
         {
          "name": "Year",
          "type": "string"
         },
         {
          "name": "Origin",
          "type": "string"
         }
        ]
       }
      },
      "text/html": [
       "<table><thead><tr><th>Name</th><th>Miles_per_Gallon</th><th>Cylinders</th><th>Displacement</th><th>Horsepower</th><th>Weight_in_lbs</th><th>Acceleration</th><th>Year</th><th>Origin</th></tr></thead><tbody><tr><td>&quot;chevrolet chevelle malibu&quot;</td><td>18.0</td><td>8</td><td>307.0</td><td>130</td><td>3504</td><td>12.0</td><td>&quot;1970-01-01&quot;</td><td>&quot;USA&quot;</td></tr><tr><td>&quot;buick skylark 320&quot;</td><td>15.0</td><td>8</td><td>350.0</td><td>165</td><td>3693</td><td>11.5</td><td>&quot;1970-01-01&quot;</td><td>&quot;USA&quot;</td></tr><tr><td>&quot;plymouth satellite&quot;</td><td>18.0</td><td>8</td><td>318.0</td><td>150</td><td>3436</td><td>11.0</td><td>&quot;1970-01-01&quot;</td><td>&quot;USA&quot;</td></tr><tr><td>&quot;amc rebel sst&quot;</td><td>16.0</td><td>8</td><td>304.0</td><td>150</td><td>3433</td><td>12.0</td><td>&quot;1970-01-01&quot;</td><td>&quot;USA&quot;</td></tr><tr><td>&quot;ford torino&quot;</td><td>17.0</td><td>8</td><td>302.0</td><td>140</td><td>3449</td><td>10.5</td><td>&quot;1970-01-01&quot;</td><td>&quot;USA&quot;</td></tr><tr><td>&quot;ford galaxie 500&quot;</td><td>15.0</td><td>8</td><td>429.0</td><td>198</td><td>4341</td><td>10.0</td><td>&quot;1970-01-01&quot;</td><td>&quot;USA&quot;</td></tr><tr><td>&quot;chevrolet impala&quot;</td><td>14.0</td><td>8</td><td>454.0</td><td>220</td><td>4354</td><td>9.0</td><td>&quot;1970-01-01&quot;</td><td>&quot;USA&quot;</td></tr><tr><td>&quot;plymouth fury iii&quot;</td><td>14.0</td><td>8</td><td>440.0</td><td>215</td><td>4312</td><td>8.5</td><td>&quot;1970-01-01&quot;</td><td>&quot;USA&quot;</td></tr><tr><td>&quot;pontiac catalina&quot;</td><td>14.0</td><td>8</td><td>455.0</td><td>225</td><td>4425</td><td>10.0</td><td>&quot;1970-01-01&quot;</td><td>&quot;USA&quot;</td></tr><tr><td>&quot;amc ambassador dpl&quot;</td><td>15.0</td><td>8</td><td>390.0</td><td>190</td><td>3850</td><td>8.5</td><td>&quot;1970-01-01&quot;</td><td>&quot;USA&quot;</td></tr><tr><td>&vellip;</td><td>&vellip;</td><td>&vellip;</td><td>&vellip;</td><td>&vellip;</td><td>&vellip;</td><td>&vellip;</td><td>&vellip;</td><td>&vellip;</td></tr></tbody></table><p>... with 396 more rows.</p>"
      ],
      "text/plain": [
       "406x9 Vega dataset\n",
       "Name                      │ Miles_per_Gallon │ Cylinders │ Displacement\n",
       "──────────────────────────┼──────────────────┼───────────┼─────────────\n",
       "chevrolet chevelle malibu │ 18.0             │ 8         │ 307.0       \n",
       "buick skylark 320         │ 15.0             │ 8         │ 350.0       \n",
       "plymouth satellite        │ 18.0             │ 8         │ 318.0       \n",
       "amc rebel sst             │ 16.0             │ 8         │ 304.0       \n",
       "ford torino               │ 17.0             │ 8         │ 302.0       \n",
       "ford galaxie 500          │ 15.0             │ 8         │ 429.0       \n",
       "chevrolet impala          │ 14.0             │ 8         │ 454.0       \n",
       "plymouth fury iii         │ 14.0             │ 8         │ 440.0       \n",
       "pontiac catalina          │ 14.0             │ 8         │ 455.0       \n",
       "amc ambassador dpl        │ 15.0             │ 8         │ 390.0       \n",
       "... with 396 more rows, and 5 more columns: Horsepower, Weight_in_lbs, Acceleration, Year, Origin"
      ]
     },
     "execution_count": 9,
     "metadata": {
      "tags": []
     },
     "output_type": "execute_result"
    }
   ],
   "source": [
    "using VegaDatasets, VegaLite\n",
    "\n",
    "data = VegaDatasets.dataset(\"cars\")"
   ]
  },
  {
   "cell_type": "code",
   "execution_count": null,
   "metadata": {
    "colab": {
     "base_uri": "https://localhost:8080/",
     "height": 263
    },
    "id": "eHV7VbfjK-2Y",
    "outputId": "efc914c7-b42b-4f5a-cad3-254af047ce2b"
   },
   "outputs": [
    {
     "data": {
      "application/vnd.vegalite.v3+json": {
       "data": {
        "values": [
         {
          "Acceleration": 12,
          "Cylinders": 8,
          "Displacement": 307,
          "Horsepower": 130,
          "Miles_per_Gallon": 18,
          "Name": "chevrolet chevelle malibu",
          "Origin": "USA",
          "Weight_in_lbs": 3504,
          "Year": "1970-01-01"
         },
         {
          "Acceleration": 11.5,
          "Cylinders": 8,
          "Displacement": 350,
          "Horsepower": 165,
          "Miles_per_Gallon": 15,
          "Name": "buick skylark 320",
          "Origin": "USA",
          "Weight_in_lbs": 3693,
          "Year": "1970-01-01"
         },
         {
          "Acceleration": 11,
          "Cylinders": 8,
          "Displacement": 318,
          "Horsepower": 150,
          "Miles_per_Gallon": 18,
          "Name": "plymouth satellite",
          "Origin": "USA",
          "Weight_in_lbs": 3436,
          "Year": "1970-01-01"
         },
         {
          "Acceleration": 12,
          "Cylinders": 8,
          "Displacement": 304,
          "Horsepower": 150,
          "Miles_per_Gallon": 16,
          "Name": "amc rebel sst",
          "Origin": "USA",
          "Weight_in_lbs": 3433,
          "Year": "1970-01-01"
         },
         {
          "Acceleration": 10.5,
          "Cylinders": 8,
          "Displacement": 302,
          "Horsepower": 140,
          "Miles_per_Gallon": 17,
          "Name": "ford torino",
          "Origin": "USA",
          "Weight_in_lbs": 3449,
          "Year": "1970-01-01"
         },
         {
          "Acceleration": 10,
          "Cylinders": 8,
          "Displacement": 429,
          "Horsepower": 198,
          "Miles_per_Gallon": 15,
          "Name": "ford galaxie 500",
          "Origin": "USA",
          "Weight_in_lbs": 4341,
          "Year": "1970-01-01"
         },
         {
          "Acceleration": 9,
          "Cylinders": 8,
          "Displacement": 454,
          "Horsepower": 220,
          "Miles_per_Gallon": 14,
          "Name": "chevrolet impala",
          "Origin": "USA",
          "Weight_in_lbs": 4354,
          "Year": "1970-01-01"
         },
         {
          "Acceleration": 8.5,
          "Cylinders": 8,
          "Displacement": 440,
          "Horsepower": 215,
          "Miles_per_Gallon": 14,
          "Name": "plymouth fury iii",
          "Origin": "USA",
          "Weight_in_lbs": 4312,
          "Year": "1970-01-01"
         },
         {
          "Acceleration": 10,
          "Cylinders": 8,
          "Displacement": 455,
          "Horsepower": 225,
          "Miles_per_Gallon": 14,
          "Name": "pontiac catalina",
          "Origin": "USA",
          "Weight_in_lbs": 4425,
          "Year": "1970-01-01"
         },
         {
          "Acceleration": 8.5,
          "Cylinders": 8,
          "Displacement": 390,
          "Horsepower": 190,
          "Miles_per_Gallon": 15,
          "Name": "amc ambassador dpl",
          "Origin": "USA",
          "Weight_in_lbs": 3850,
          "Year": "1970-01-01"
         },
         {
          "Acceleration": 17.5,
          "Cylinders": 4,
          "Displacement": 133,
          "Horsepower": 115,
          "Miles_per_Gallon": null,
          "Name": "citroen ds-21 pallas",
          "Origin": "Europe",
          "Weight_in_lbs": 3090,
          "Year": "1970-01-01"
         },
         {
          "Acceleration": 11.5,
          "Cylinders": 8,
          "Displacement": 350,
          "Horsepower": 165,
          "Miles_per_Gallon": null,
          "Name": "chevrolet chevelle concours (sw)",
          "Origin": "USA",
          "Weight_in_lbs": 4142,
          "Year": "1970-01-01"
         },
         {
          "Acceleration": 11,
          "Cylinders": 8,
          "Displacement": 351,
          "Horsepower": 153,
          "Miles_per_Gallon": null,
          "Name": "ford torino (sw)",
          "Origin": "USA",
          "Weight_in_lbs": 4034,
          "Year": "1970-01-01"
         },
         {
          "Acceleration": 10.5,
          "Cylinders": 8,
          "Displacement": 383,
          "Horsepower": 175,
          "Miles_per_Gallon": null,
          "Name": "plymouth satellite (sw)",
          "Origin": "USA",
          "Weight_in_lbs": 4166,
          "Year": "1970-01-01"
         },
         {
          "Acceleration": 11,
          "Cylinders": 8,
          "Displacement": 360,
          "Horsepower": 175,
          "Miles_per_Gallon": null,
          "Name": "amc rebel sst (sw)",
          "Origin": "USA",
          "Weight_in_lbs": 3850,
          "Year": "1970-01-01"
         },
         {
          "Acceleration": 10,
          "Cylinders": 8,
          "Displacement": 383,
          "Horsepower": 170,
          "Miles_per_Gallon": 15,
          "Name": "dodge challenger se",
          "Origin": "USA",
          "Weight_in_lbs": 3563,
          "Year": "1970-01-01"
         },
         {
          "Acceleration": 8,
          "Cylinders": 8,
          "Displacement": 340,
          "Horsepower": 160,
          "Miles_per_Gallon": 14,
          "Name": "plymouth 'cuda 340",
          "Origin": "USA",
          "Weight_in_lbs": 3609,
          "Year": "1970-01-01"
         },
         {
          "Acceleration": 8,
          "Cylinders": 8,
          "Displacement": 302,
          "Horsepower": 140,
          "Miles_per_Gallon": null,
          "Name": "ford mustang boss 302",
          "Origin": "USA",
          "Weight_in_lbs": 3353,
          "Year": "1970-01-01"
         },
         {
          "Acceleration": 9.5,
          "Cylinders": 8,
          "Displacement": 400,
          "Horsepower": 150,
          "Miles_per_Gallon": 15,
          "Name": "chevrolet monte carlo",
          "Origin": "USA",
          "Weight_in_lbs": 3761,
          "Year": "1970-01-01"
         },
         {
          "Acceleration": 10,
          "Cylinders": 8,
          "Displacement": 455,
          "Horsepower": 225,
          "Miles_per_Gallon": 14,
          "Name": "buick estate wagon (sw)",
          "Origin": "USA",
          "Weight_in_lbs": 3086,
          "Year": "1970-01-01"
         },
         {
          "Acceleration": 15,
          "Cylinders": 4,
          "Displacement": 113,
          "Horsepower": 95,
          "Miles_per_Gallon": 24,
          "Name": "toyota corona mark ii",
          "Origin": "Japan",
          "Weight_in_lbs": 2372,
          "Year": "1970-01-01"
         },
         {
          "Acceleration": 15.5,
          "Cylinders": 6,
          "Displacement": 198,
          "Horsepower": 95,
          "Miles_per_Gallon": 22,
          "Name": "plymouth duster",
          "Origin": "USA",
          "Weight_in_lbs": 2833,
          "Year": "1970-01-01"
         },
         {
          "Acceleration": 15.5,
          "Cylinders": 6,
          "Displacement": 199,
          "Horsepower": 97,
          "Miles_per_Gallon": 18,
          "Name": "amc hornet",
          "Origin": "USA",
          "Weight_in_lbs": 2774,
          "Year": "1970-01-01"
         },
         {
          "Acceleration": 16,
          "Cylinders": 6,
          "Displacement": 200,
          "Horsepower": 85,
          "Miles_per_Gallon": 21,
          "Name": "ford maverick",
          "Origin": "USA",
          "Weight_in_lbs": 2587,
          "Year": "1970-01-01"
         },
         {
          "Acceleration": 14.5,
          "Cylinders": 4,
          "Displacement": 97,
          "Horsepower": 88,
          "Miles_per_Gallon": 27,
          "Name": "datsun pl510",
          "Origin": "Japan",
          "Weight_in_lbs": 2130,
          "Year": "1970-01-01"
         },
         {
          "Acceleration": 20.5,
          "Cylinders": 4,
          "Displacement": 97,
          "Horsepower": 46,
          "Miles_per_Gallon": 26,
          "Name": "volkswagen 1131 deluxe sedan",
          "Origin": "Europe",
          "Weight_in_lbs": 1835,
          "Year": "1970-01-01"
         },
         {
          "Acceleration": 17.5,
          "Cylinders": 4,
          "Displacement": 110,
          "Horsepower": 87,
          "Miles_per_Gallon": 25,
          "Name": "peugeot 504",
          "Origin": "Europe",
          "Weight_in_lbs": 2672,
          "Year": "1970-01-01"
         },
         {
          "Acceleration": 14.5,
          "Cylinders": 4,
          "Displacement": 107,
          "Horsepower": 90,
          "Miles_per_Gallon": 24,
          "Name": "audi 100 ls",
          "Origin": "Europe",
          "Weight_in_lbs": 2430,
          "Year": "1970-01-01"
         },
         {
          "Acceleration": 17.5,
          "Cylinders": 4,
          "Displacement": 104,
          "Horsepower": 95,
          "Miles_per_Gallon": 25,
          "Name": "saab 99e",
          "Origin": "Europe",
          "Weight_in_lbs": 2375,
          "Year": "1970-01-01"
         },
         {
          "Acceleration": 12.5,
          "Cylinders": 4,
          "Displacement": 121,
          "Horsepower": 113,
          "Miles_per_Gallon": 26,
          "Name": "bmw 2002",
          "Origin": "Europe",
          "Weight_in_lbs": 2234,
          "Year": "1970-01-01"
         },
         {
          "Acceleration": 15,
          "Cylinders": 6,
          "Displacement": 199,
          "Horsepower": 90,
          "Miles_per_Gallon": 21,
          "Name": "amc gremlin",
          "Origin": "USA",
          "Weight_in_lbs": 2648,
          "Year": "1970-01-01"
         },
         {
          "Acceleration": 14,
          "Cylinders": 8,
          "Displacement": 360,
          "Horsepower": 215,
          "Miles_per_Gallon": 10,
          "Name": "ford f250",
          "Origin": "USA",
          "Weight_in_lbs": 4615,
          "Year": "1970-01-01"
         },
         {
          "Acceleration": 15,
          "Cylinders": 8,
          "Displacement": 307,
          "Horsepower": 200,
          "Miles_per_Gallon": 10,
          "Name": "chevy c20",
          "Origin": "USA",
          "Weight_in_lbs": 4376,
          "Year": "1970-01-01"
         },
         {
          "Acceleration": 13.5,
          "Cylinders": 8,
          "Displacement": 318,
          "Horsepower": 210,
          "Miles_per_Gallon": 11,
          "Name": "dodge d200",
          "Origin": "USA",
          "Weight_in_lbs": 4382,
          "Year": "1970-01-01"
         },
         {
          "Acceleration": 18.5,
          "Cylinders": 8,
          "Displacement": 304,
          "Horsepower": 193,
          "Miles_per_Gallon": 9,
          "Name": "hi 1200d",
          "Origin": "USA",
          "Weight_in_lbs": 4732,
          "Year": "1970-01-01"
         },
         {
          "Acceleration": 14.5,
          "Cylinders": 4,
          "Displacement": 97,
          "Horsepower": 88,
          "Miles_per_Gallon": 27,
          "Name": "datsun pl510",
          "Origin": "Japan",
          "Weight_in_lbs": 2130,
          "Year": "1971-01-01"
         },
         {
          "Acceleration": 15.5,
          "Cylinders": 4,
          "Displacement": 140,
          "Horsepower": 90,
          "Miles_per_Gallon": 28,
          "Name": "chevrolet vega 2300",
          "Origin": "USA",
          "Weight_in_lbs": 2264,
          "Year": "1971-01-01"
         },
         {
          "Acceleration": 14,
          "Cylinders": 4,
          "Displacement": 113,
          "Horsepower": 95,
          "Miles_per_Gallon": 25,
          "Name": "toyota corona",
          "Origin": "Japan",
          "Weight_in_lbs": 2228,
          "Year": "1971-01-01"
         },
         {
          "Acceleration": 19,
          "Cylinders": 4,
          "Displacement": 98,
          "Horsepower": null,
          "Miles_per_Gallon": 25,
          "Name": "ford pinto",
          "Origin": "USA",
          "Weight_in_lbs": 2046,
          "Year": "1971-01-01"
         },
         {
          "Acceleration": 20,
          "Cylinders": 4,
          "Displacement": 97,
          "Horsepower": 48,
          "Miles_per_Gallon": null,
          "Name": "volkswagen super beetle 117",
          "Origin": "Europe",
          "Weight_in_lbs": 1978,
          "Year": "1971-01-01"
         },
         {
          "Acceleration": 13,
          "Cylinders": 6,
          "Displacement": 232,
          "Horsepower": 100,
          "Miles_per_Gallon": 19,
          "Name": "amc gremlin",
          "Origin": "USA",
          "Weight_in_lbs": 2634,
          "Year": "1971-01-01"
         },
         {
          "Acceleration": 15.5,
          "Cylinders": 6,
          "Displacement": 225,
          "Horsepower": 105,
          "Miles_per_Gallon": 16,
          "Name": "plymouth satellite custom",
          "Origin": "USA",
          "Weight_in_lbs": 3439,
          "Year": "1971-01-01"
         },
         {
          "Acceleration": 15.5,
          "Cylinders": 6,
          "Displacement": 250,
          "Horsepower": 100,
          "Miles_per_Gallon": 17,
          "Name": "chevrolet chevelle malibu",
          "Origin": "USA",
          "Weight_in_lbs": 3329,
          "Year": "1971-01-01"
         },
         {
          "Acceleration": 15.5,
          "Cylinders": 6,
          "Displacement": 250,
          "Horsepower": 88,
          "Miles_per_Gallon": 19,
          "Name": "ford torino 500",
          "Origin": "USA",
          "Weight_in_lbs": 3302,
          "Year": "1971-01-01"
         },
         {
          "Acceleration": 15.5,
          "Cylinders": 6,
          "Displacement": 232,
          "Horsepower": 100,
          "Miles_per_Gallon": 18,
          "Name": "amc matador",
          "Origin": "USA",
          "Weight_in_lbs": 3288,
          "Year": "1971-01-01"
         },
         {
          "Acceleration": 12,
          "Cylinders": 8,
          "Displacement": 350,
          "Horsepower": 165,
          "Miles_per_Gallon": 14,
          "Name": "chevrolet impala",
          "Origin": "USA",
          "Weight_in_lbs": 4209,
          "Year": "1971-01-01"
         },
         {
          "Acceleration": 11.5,
          "Cylinders": 8,
          "Displacement": 400,
          "Horsepower": 175,
          "Miles_per_Gallon": 14,
          "Name": "pontiac catalina brougham",
          "Origin": "USA",
          "Weight_in_lbs": 4464,
          "Year": "1971-01-01"
         },
         {
          "Acceleration": 13.5,
          "Cylinders": 8,
          "Displacement": 351,
          "Horsepower": 153,
          "Miles_per_Gallon": 14,
          "Name": "ford galaxie 500",
          "Origin": "USA",
          "Weight_in_lbs": 4154,
          "Year": "1971-01-01"
         },
         {
          "Acceleration": 13,
          "Cylinders": 8,
          "Displacement": 318,
          "Horsepower": 150,
          "Miles_per_Gallon": 14,
          "Name": "plymouth fury iii",
          "Origin": "USA",
          "Weight_in_lbs": 4096,
          "Year": "1971-01-01"
         },
         {
          "Acceleration": 11.5,
          "Cylinders": 8,
          "Displacement": 383,
          "Horsepower": 180,
          "Miles_per_Gallon": 12,
          "Name": "dodge monaco (sw)",
          "Origin": "USA",
          "Weight_in_lbs": 4955,
          "Year": "1971-01-01"
         },
         {
          "Acceleration": 12,
          "Cylinders": 8,
          "Displacement": 400,
          "Horsepower": 170,
          "Miles_per_Gallon": 13,
          "Name": "ford country squire (sw)",
          "Origin": "USA",
          "Weight_in_lbs": 4746,
          "Year": "1971-01-01"
         },
         {
          "Acceleration": 12,
          "Cylinders": 8,
          "Displacement": 400,
          "Horsepower": 175,
          "Miles_per_Gallon": 13,
          "Name": "pontiac safari (sw)",
          "Origin": "USA",
          "Weight_in_lbs": 5140,
          "Year": "1971-01-01"
         },
         {
          "Acceleration": 13.5,
          "Cylinders": 6,
          "Displacement": 258,
          "Horsepower": 110,
          "Miles_per_Gallon": 18,
          "Name": "amc hornet sportabout (sw)",
          "Origin": "USA",
          "Weight_in_lbs": 2962,
          "Year": "1971-01-01"
         },
         {
          "Acceleration": 19,
          "Cylinders": 4,
          "Displacement": 140,
          "Horsepower": 72,
          "Miles_per_Gallon": 22,
          "Name": "chevrolet vega (sw)",
          "Origin": "USA",
          "Weight_in_lbs": 2408,
          "Year": "1971-01-01"
         },
         {
          "Acceleration": 15,
          "Cylinders": 6,
          "Displacement": 250,
          "Horsepower": 100,
          "Miles_per_Gallon": 19,
          "Name": "pontiac firebird",
          "Origin": "USA",
          "Weight_in_lbs": 3282,
          "Year": "1971-01-01"
         },
         {
          "Acceleration": 14.5,
          "Cylinders": 6,
          "Displacement": 250,
          "Horsepower": 88,
          "Miles_per_Gallon": 18,
          "Name": "ford mustang",
          "Origin": "USA",
          "Weight_in_lbs": 3139,
          "Year": "1971-01-01"
         },
         {
          "Acceleration": 14,
          "Cylinders": 4,
          "Displacement": 122,
          "Horsepower": 86,
          "Miles_per_Gallon": 23,
          "Name": "mercury capri 2000",
          "Origin": "USA",
          "Weight_in_lbs": 2220,
          "Year": "1971-01-01"
         },
         {
          "Acceleration": 14,
          "Cylinders": 4,
          "Displacement": 116,
          "Horsepower": 90,
          "Miles_per_Gallon": 28,
          "Name": "opel 1900",
          "Origin": "Europe",
          "Weight_in_lbs": 2123,
          "Year": "1971-01-01"
         },
         {
          "Acceleration": 19.5,
          "Cylinders": 4,
          "Displacement": 79,
          "Horsepower": 70,
          "Miles_per_Gallon": 30,
          "Name": "peugeot 304",
          "Origin": "Europe",
          "Weight_in_lbs": 2074,
          "Year": "1971-01-01"
         },
         {
          "Acceleration": 14.5,
          "Cylinders": 4,
          "Displacement": 88,
          "Horsepower": 76,
          "Miles_per_Gallon": 30,
          "Name": "fiat 124b",
          "Origin": "Europe",
          "Weight_in_lbs": 2065,
          "Year": "1971-01-01"
         },
         {
          "Acceleration": 19,
          "Cylinders": 4,
          "Displacement": 71,
          "Horsepower": 65,
          "Miles_per_Gallon": 31,
          "Name": "toyota corolla 1200",
          "Origin": "Japan",
          "Weight_in_lbs": 1773,
          "Year": "1971-01-01"
         },
         {
          "Acceleration": 18,
          "Cylinders": 4,
          "Displacement": 72,
          "Horsepower": 69,
          "Miles_per_Gallon": 35,
          "Name": "datsun 1200",
          "Origin": "Japan",
          "Weight_in_lbs": 1613,
          "Year": "1971-01-01"
         },
         {
          "Acceleration": 19,
          "Cylinders": 4,
          "Displacement": 97,
          "Horsepower": 60,
          "Miles_per_Gallon": 27,
          "Name": "volkswagen model 111",
          "Origin": "Europe",
          "Weight_in_lbs": 1834,
          "Year": "1971-01-01"
         },
         {
          "Acceleration": 20.5,
          "Cylinders": 4,
          "Displacement": 91,
          "Horsepower": 70,
          "Miles_per_Gallon": 26,
          "Name": "plymouth cricket",
          "Origin": "USA",
          "Weight_in_lbs": 1955,
          "Year": "1971-01-01"
         },
         {
          "Acceleration": 15.5,
          "Cylinders": 4,
          "Displacement": 113,
          "Horsepower": 95,
          "Miles_per_Gallon": 24,
          "Name": "toyota corona hardtop",
          "Origin": "Japan",
          "Weight_in_lbs": 2278,
          "Year": "1972-01-01"
         },
         {
          "Acceleration": 17,
          "Cylinders": 4,
          "Displacement": 97.5,
          "Horsepower": 80,
          "Miles_per_Gallon": 25,
          "Name": "dodge colt hardtop",
          "Origin": "USA",
          "Weight_in_lbs": 2126,
          "Year": "1972-01-01"
         },
         {
          "Acceleration": 23.5,
          "Cylinders": 4,
          "Displacement": 97,
          "Horsepower": 54,
          "Miles_per_Gallon": 23,
          "Name": "volkswagen type 3",
          "Origin": "Europe",
          "Weight_in_lbs": 2254,
          "Year": "1972-01-01"
         },
         {
          "Acceleration": 19.5,
          "Cylinders": 4,
          "Displacement": 140,
          "Horsepower": 90,
          "Miles_per_Gallon": 20,
          "Name": "chevrolet vega",
          "Origin": "USA",
          "Weight_in_lbs": 2408,
          "Year": "1972-01-01"
         },
         {
          "Acceleration": 16.5,
          "Cylinders": 4,
          "Displacement": 122,
          "Horsepower": 86,
          "Miles_per_Gallon": 21,
          "Name": "ford pinto runabout",
          "Origin": "USA",
          "Weight_in_lbs": 2226,
          "Year": "1972-01-01"
         },
         {
          "Acceleration": 12,
          "Cylinders": 8,
          "Displacement": 350,
          "Horsepower": 165,
          "Miles_per_Gallon": 13,
          "Name": "chevrolet impala",
          "Origin": "USA",
          "Weight_in_lbs": 4274,
          "Year": "1972-01-01"
         },
         {
          "Acceleration": 12,
          "Cylinders": 8,
          "Displacement": 400,
          "Horsepower": 175,
          "Miles_per_Gallon": 14,
          "Name": "pontiac catalina",
          "Origin": "USA",
          "Weight_in_lbs": 4385,
          "Year": "1972-01-01"
         },
         {
          "Acceleration": 13.5,
          "Cylinders": 8,
          "Displacement": 318,
          "Horsepower": 150,
          "Miles_per_Gallon": 15,
          "Name": "plymouth fury iii",
          "Origin": "USA",
          "Weight_in_lbs": 4135,
          "Year": "1972-01-01"
         },
         {
          "Acceleration": 13,
          "Cylinders": 8,
          "Displacement": 351,
          "Horsepower": 153,
          "Miles_per_Gallon": 14,
          "Name": "ford galaxie 500",
          "Origin": "USA",
          "Weight_in_lbs": 4129,
          "Year": "1972-01-01"
         },
         {
          "Acceleration": 11.5,
          "Cylinders": 8,
          "Displacement": 304,
          "Horsepower": 150,
          "Miles_per_Gallon": 17,
          "Name": "amc ambassador sst",
          "Origin": "USA",
          "Weight_in_lbs": 3672,
          "Year": "1972-01-01"
         },
         {
          "Acceleration": 11,
          "Cylinders": 8,
          "Displacement": 429,
          "Horsepower": 208,
          "Miles_per_Gallon": 11,
          "Name": "mercury marquis",
          "Origin": "USA",
          "Weight_in_lbs": 4633,
          "Year": "1972-01-01"
         },
         {
          "Acceleration": 13.5,
          "Cylinders": 8,
          "Displacement": 350,
          "Horsepower": 155,
          "Miles_per_Gallon": 13,
          "Name": "buick lesabre custom",
          "Origin": "USA",
          "Weight_in_lbs": 4502,
          "Year": "1972-01-01"
         },
         {
          "Acceleration": 13.5,
          "Cylinders": 8,
          "Displacement": 350,
          "Horsepower": 160,
          "Miles_per_Gallon": 12,
          "Name": "oldsmobile delta 88 royale",
          "Origin": "USA",
          "Weight_in_lbs": 4456,
          "Year": "1972-01-01"
         },
         {
          "Acceleration": 12.5,
          "Cylinders": 8,
          "Displacement": 400,
          "Horsepower": 190,
          "Miles_per_Gallon": 13,
          "Name": "chrysler newport royal",
          "Origin": "USA",
          "Weight_in_lbs": 4422,
          "Year": "1972-01-01"
         },
         {
          "Acceleration": 13.5,
          "Cylinders": 3,
          "Displacement": 70,
          "Horsepower": 97,
          "Miles_per_Gallon": 19,
          "Name": "mazda rx2 coupe",
          "Origin": "Japan",
          "Weight_in_lbs": 2330,
          "Year": "1972-01-01"
         },
         {
          "Acceleration": 12.5,
          "Cylinders": 8,
          "Displacement": 304,
          "Horsepower": 150,
          "Miles_per_Gallon": 15,
          "Name": "amc matador (sw)",
          "Origin": "USA",
          "Weight_in_lbs": 3892,
          "Year": "1972-01-01"
         },
         {
          "Acceleration": 14,
          "Cylinders": 8,
          "Displacement": 307,
          "Horsepower": 130,
          "Miles_per_Gallon": 13,
          "Name": "chevrolet chevelle concours (sw)",
          "Origin": "USA",
          "Weight_in_lbs": 4098,
          "Year": "1972-01-01"
         },
         {
          "Acceleration": 16,
          "Cylinders": 8,
          "Displacement": 302,
          "Horsepower": 140,
          "Miles_per_Gallon": 13,
          "Name": "ford gran torino (sw)",
          "Origin": "USA",
          "Weight_in_lbs": 4294,
          "Year": "1972-01-01"
         },
         {
          "Acceleration": 14,
          "Cylinders": 8,
          "Displacement": 318,
          "Horsepower": 150,
          "Miles_per_Gallon": 14,
          "Name": "plymouth satellite custom (sw)",
          "Origin": "USA",
          "Weight_in_lbs": 4077,
          "Year": "1972-01-01"
         },
         {
          "Acceleration": 14.5,
          "Cylinders": 4,
          "Displacement": 121,
          "Horsepower": 112,
          "Miles_per_Gallon": 18,
          "Name": "volvo 145e (sw)",
          "Origin": "Europe",
          "Weight_in_lbs": 2933,
          "Year": "1972-01-01"
         },
         {
          "Acceleration": 18,
          "Cylinders": 4,
          "Displacement": 121,
          "Horsepower": 76,
          "Miles_per_Gallon": 22,
          "Name": "volkswagen 411 (sw)",
          "Origin": "Europe",
          "Weight_in_lbs": 2511,
          "Year": "1972-01-01"
         },
         {
          "Acceleration": 19.5,
          "Cylinders": 4,
          "Displacement": 120,
          "Horsepower": 87,
          "Miles_per_Gallon": 21,
          "Name": "peugeot 504 (sw)",
          "Origin": "Europe",
          "Weight_in_lbs": 2979,
          "Year": "1972-01-01"
         },
         {
          "Acceleration": 18,
          "Cylinders": 4,
          "Displacement": 96,
          "Horsepower": 69,
          "Miles_per_Gallon": 26,
          "Name": "renault 12 (sw)",
          "Origin": "Europe",
          "Weight_in_lbs": 2189,
          "Year": "1972-01-01"
         },
         {
          "Acceleration": 16,
          "Cylinders": 4,
          "Displacement": 122,
          "Horsepower": 86,
          "Miles_per_Gallon": 22,
          "Name": "ford pinto (sw)",
          "Origin": "USA",
          "Weight_in_lbs": 2395,
          "Year": "1972-01-01"
         },
         {
          "Acceleration": 17,
          "Cylinders": 4,
          "Displacement": 97,
          "Horsepower": 92,
          "Miles_per_Gallon": 28,
          "Name": "datsun 510 (sw)",
          "Origin": "Japan",
          "Weight_in_lbs": 2288,
          "Year": "1972-01-01"
         },
         {
          "Acceleration": 14.5,
          "Cylinders": 4,
          "Displacement": 120,
          "Horsepower": 97,
          "Miles_per_Gallon": 23,
          "Name": "toyouta corona mark ii (sw)",
          "Origin": "Japan",
          "Weight_in_lbs": 2506,
          "Year": "1972-01-01"
         },
         {
          "Acceleration": 15,
          "Cylinders": 4,
          "Displacement": 98,
          "Horsepower": 80,
          "Miles_per_Gallon": 28,
          "Name": "dodge colt (sw)",
          "Origin": "USA",
          "Weight_in_lbs": 2164,
          "Year": "1972-01-01"
         },
         {
          "Acceleration": 16.5,
          "Cylinders": 4,
          "Displacement": 97,
          "Horsepower": 88,
          "Miles_per_Gallon": 27,
          "Name": "toyota corolla 1600 (sw)",
          "Origin": "Japan",
          "Weight_in_lbs": 2100,
          "Year": "1972-01-01"
         },
         {
          "Acceleration": 13,
          "Cylinders": 8,
          "Displacement": 350,
          "Horsepower": 175,
          "Miles_per_Gallon": 13,
          "Name": "buick century 350",
          "Origin": "USA",
          "Weight_in_lbs": 4100,
          "Year": "1973-01-01"
         },
         {
          "Acceleration": 11.5,
          "Cylinders": 8,
          "Displacement": 304,
          "Horsepower": 150,
          "Miles_per_Gallon": 14,
          "Name": "amc matador",
          "Origin": "USA",
          "Weight_in_lbs": 3672,
          "Year": "1973-01-01"
         },
         {
          "Acceleration": 13,
          "Cylinders": 8,
          "Displacement": 350,
          "Horsepower": 145,
          "Miles_per_Gallon": 13,
          "Name": "chevrolet malibu",
          "Origin": "USA",
          "Weight_in_lbs": 3988,
          "Year": "1973-01-01"
         },
         {
          "Acceleration": 14.5,
          "Cylinders": 8,
          "Displacement": 302,
          "Horsepower": 137,
          "Miles_per_Gallon": 14,
          "Name": "ford gran torino",
          "Origin": "USA",
          "Weight_in_lbs": 4042,
          "Year": "1973-01-01"
         },
         {
          "Acceleration": 12.5,
          "Cylinders": 8,
          "Displacement": 318,
          "Horsepower": 150,
          "Miles_per_Gallon": 15,
          "Name": "dodge coronet custom",
          "Origin": "USA",
          "Weight_in_lbs": 3777,
          "Year": "1973-01-01"
         },
         {
          "Acceleration": 11.5,
          "Cylinders": 8,
          "Displacement": 429,
          "Horsepower": 198,
          "Miles_per_Gallon": 12,
          "Name": "mercury marquis brougham",
          "Origin": "USA",
          "Weight_in_lbs": 4952,
          "Year": "1973-01-01"
         },
         {
          "Acceleration": 12,
          "Cylinders": 8,
          "Displacement": 400,
          "Horsepower": 150,
          "Miles_per_Gallon": 13,
          "Name": "chevrolet caprice classic",
          "Origin": "USA",
          "Weight_in_lbs": 4464,
          "Year": "1973-01-01"
         },
         {
          "Acceleration": 13,
          "Cylinders": 8,
          "Displacement": 351,
          "Horsepower": 158,
          "Miles_per_Gallon": 13,
          "Name": "ford ltd",
          "Origin": "USA",
          "Weight_in_lbs": 4363,
          "Year": "1973-01-01"
         },
         {
          "Acceleration": 14.5,
          "Cylinders": 8,
          "Displacement": 318,
          "Horsepower": 150,
          "Miles_per_Gallon": 14,
          "Name": "plymouth fury gran sedan",
          "Origin": "USA",
          "Weight_in_lbs": 4237,
          "Year": "1973-01-01"
         },
         {
          "Acceleration": 11,
          "Cylinders": 8,
          "Displacement": 440,
          "Horsepower": 215,
          "Miles_per_Gallon": 13,
          "Name": "chrysler new yorker brougham",
          "Origin": "USA",
          "Weight_in_lbs": 4735,
          "Year": "1973-01-01"
         },
         {
          "Acceleration": 11,
          "Cylinders": 8,
          "Displacement": 455,
          "Horsepower": 225,
          "Miles_per_Gallon": 12,
          "Name": "buick electra 225 custom",
          "Origin": "USA",
          "Weight_in_lbs": 4951,
          "Year": "1973-01-01"
         },
         {
          "Acceleration": 11,
          "Cylinders": 8,
          "Displacement": 360,
          "Horsepower": 175,
          "Miles_per_Gallon": 13,
          "Name": "amc ambassador brougham",
          "Origin": "USA",
          "Weight_in_lbs": 3821,
          "Year": "1973-01-01"
         },
         {
          "Acceleration": 16.5,
          "Cylinders": 6,
          "Displacement": 225,
          "Horsepower": 105,
          "Miles_per_Gallon": 18,
          "Name": "plymouth valiant",
          "Origin": "USA",
          "Weight_in_lbs": 3121,
          "Year": "1973-01-01"
         },
         {
          "Acceleration": 18,
          "Cylinders": 6,
          "Displacement": 250,
          "Horsepower": 100,
          "Miles_per_Gallon": 16,
          "Name": "chevrolet nova custom",
          "Origin": "USA",
          "Weight_in_lbs": 3278,
          "Year": "1973-01-01"
         },
         {
          "Acceleration": 16,
          "Cylinders": 6,
          "Displacement": 232,
          "Horsepower": 100,
          "Miles_per_Gallon": 18,
          "Name": "amc hornet",
          "Origin": "USA",
          "Weight_in_lbs": 2945,
          "Year": "1973-01-01"
         },
         {
          "Acceleration": 16.5,
          "Cylinders": 6,
          "Displacement": 250,
          "Horsepower": 88,
          "Miles_per_Gallon": 18,
          "Name": "ford maverick",
          "Origin": "USA",
          "Weight_in_lbs": 3021,
          "Year": "1973-01-01"
         },
         {
          "Acceleration": 16,
          "Cylinders": 6,
          "Displacement": 198,
          "Horsepower": 95,
          "Miles_per_Gallon": 23,
          "Name": "plymouth duster",
          "Origin": "USA",
          "Weight_in_lbs": 2904,
          "Year": "1973-01-01"
         },
         {
          "Acceleration": 21,
          "Cylinders": 4,
          "Displacement": 97,
          "Horsepower": 46,
          "Miles_per_Gallon": 26,
          "Name": "volkswagen super beetle",
          "Origin": "Europe",
          "Weight_in_lbs": 1950,
          "Year": "1973-01-01"
         },
         {
          "Acceleration": 14,
          "Cylinders": 8,
          "Displacement": 400,
          "Horsepower": 150,
          "Miles_per_Gallon": 11,
          "Name": "chevrolet impala",
          "Origin": "USA",
          "Weight_in_lbs": 4997,
          "Year": "1973-01-01"
         },
         {
          "Acceleration": 12.5,
          "Cylinders": 8,
          "Displacement": 400,
          "Horsepower": 167,
          "Miles_per_Gallon": 12,
          "Name": "ford country",
          "Origin": "USA",
          "Weight_in_lbs": 4906,
          "Year": "1973-01-01"
         },
         {
          "Acceleration": 13,
          "Cylinders": 8,
          "Displacement": 360,
          "Horsepower": 170,
          "Miles_per_Gallon": 13,
          "Name": "plymouth custom suburb",
          "Origin": "USA",
          "Weight_in_lbs": 4654,
          "Year": "1973-01-01"
         },
         {
          "Acceleration": 12.5,
          "Cylinders": 8,
          "Displacement": 350,
          "Horsepower": 180,
          "Miles_per_Gallon": 12,
          "Name": "oldsmobile vista cruiser",
          "Origin": "USA",
          "Weight_in_lbs": 4499,
          "Year": "1973-01-01"
         },
         {
          "Acceleration": 15,
          "Cylinders": 6,
          "Displacement": 232,
          "Horsepower": 100,
          "Miles_per_Gallon": 18,
          "Name": "amc gremlin",
          "Origin": "USA",
          "Weight_in_lbs": 2789,
          "Year": "1973-01-01"
         },
         {
          "Acceleration": 19,
          "Cylinders": 4,
          "Displacement": 97,
          "Horsepower": 88,
          "Miles_per_Gallon": 20,
          "Name": "toyota carina",
          "Origin": "Japan",
          "Weight_in_lbs": 2279,
          "Year": "1973-01-01"
         },
         {
          "Acceleration": 19.5,
          "Cylinders": 4,
          "Displacement": 140,
          "Horsepower": 72,
          "Miles_per_Gallon": 21,
          "Name": "chevrolet vega",
          "Origin": "USA",
          "Weight_in_lbs": 2401,
          "Year": "1973-01-01"
         },
         {
          "Acceleration": 16.5,
          "Cylinders": 4,
          "Displacement": 108,
          "Horsepower": 94,
          "Miles_per_Gallon": 22,
          "Name": "datsun 610",
          "Origin": "Japan",
          "Weight_in_lbs": 2379,
          "Year": "1973-01-01"
         },
         {
          "Acceleration": 13.5,
          "Cylinders": 3,
          "Displacement": 70,
          "Horsepower": 90,
          "Miles_per_Gallon": 18,
          "Name": "maxda rx3",
          "Origin": "Japan",
          "Weight_in_lbs": 2124,
          "Year": "1973-01-01"
         },
         {
          "Acceleration": 18.5,
          "Cylinders": 4,
          "Displacement": 122,
          "Horsepower": 85,
          "Miles_per_Gallon": 19,
          "Name": "ford pinto",
          "Origin": "USA",
          "Weight_in_lbs": 2310,
          "Year": "1973-01-01"
         },
         {
          "Acceleration": 14,
          "Cylinders": 6,
          "Displacement": 155,
          "Horsepower": 107,
          "Miles_per_Gallon": 21,
          "Name": "mercury capri v6",
          "Origin": "USA",
          "Weight_in_lbs": 2472,
          "Year": "1973-01-01"
         },
         {
          "Acceleration": 15.5,
          "Cylinders": 4,
          "Displacement": 98,
          "Horsepower": 90,
          "Miles_per_Gallon": 26,
          "Name": "fiat 124 sport coupe",
          "Origin": "Europe",
          "Weight_in_lbs": 2265,
          "Year": "1973-01-01"
         },
         {
          "Acceleration": 13,
          "Cylinders": 8,
          "Displacement": 350,
          "Horsepower": 145,
          "Miles_per_Gallon": 15,
          "Name": "chevrolet monte carlo s",
          "Origin": "USA",
          "Weight_in_lbs": 4082,
          "Year": "1973-01-01"
         },
         {
          "Acceleration": 9.5,
          "Cylinders": 8,
          "Displacement": 400,
          "Horsepower": 230,
          "Miles_per_Gallon": 16,
          "Name": "pontiac grand prix",
          "Origin": "USA",
          "Weight_in_lbs": 4278,
          "Year": "1973-01-01"
         },
         {
          "Acceleration": 19.5,
          "Cylinders": 4,
          "Displacement": 68,
          "Horsepower": 49,
          "Miles_per_Gallon": 29,
          "Name": "fiat 128",
          "Origin": "Europe",
          "Weight_in_lbs": 1867,
          "Year": "1973-01-01"
         },
         {
          "Acceleration": 15.5,
          "Cylinders": 4,
          "Displacement": 116,
          "Horsepower": 75,
          "Miles_per_Gallon": 24,
          "Name": "opel manta",
          "Origin": "Europe",
          "Weight_in_lbs": 2158,
          "Year": "1973-01-01"
         },
         {
          "Acceleration": 14,
          "Cylinders": 4,
          "Displacement": 114,
          "Horsepower": 91,
          "Miles_per_Gallon": 20,
          "Name": "audi 100ls",
          "Origin": "Europe",
          "Weight_in_lbs": 2582,
          "Year": "1973-01-01"
         },
         {
          "Acceleration": 15.5,
          "Cylinders": 4,
          "Displacement": 121,
          "Horsepower": 112,
          "Miles_per_Gallon": 19,
          "Name": "volvo 144ea",
          "Origin": "Europe",
          "Weight_in_lbs": 2868,
          "Year": "1973-01-01"
         },
         {
          "Acceleration": 11,
          "Cylinders": 8,
          "Displacement": 318,
          "Horsepower": 150,
          "Miles_per_Gallon": 15,
          "Name": "dodge dart custom",
          "Origin": "USA",
          "Weight_in_lbs": 3399,
          "Year": "1973-01-01"
         },
         {
          "Acceleration": 14,
          "Cylinders": 4,
          "Displacement": 121,
          "Horsepower": 110,
          "Miles_per_Gallon": 24,
          "Name": "saab 99le",
          "Origin": "Europe",
          "Weight_in_lbs": 2660,
          "Year": "1973-01-01"
         },
         {
          "Acceleration": 13.5,
          "Cylinders": 6,
          "Displacement": 156,
          "Horsepower": 122,
          "Miles_per_Gallon": 20,
          "Name": "toyota mark ii",
          "Origin": "Japan",
          "Weight_in_lbs": 2807,
          "Year": "1973-01-01"
         },
         {
          "Acceleration": 11,
          "Cylinders": 8,
          "Displacement": 350,
          "Horsepower": 180,
          "Miles_per_Gallon": 11,
          "Name": "oldsmobile omega",
          "Origin": "USA",
          "Weight_in_lbs": 3664,
          "Year": "1973-01-01"
         },
         {
          "Acceleration": 16.5,
          "Cylinders": 6,
          "Displacement": 198,
          "Horsepower": 95,
          "Miles_per_Gallon": 20,
          "Name": "plymouth duster",
          "Origin": "USA",
          "Weight_in_lbs": 3102,
          "Year": "1974-01-01"
         },
         {
          "Acceleration": 17,
          "Cylinders": 6,
          "Displacement": 200,
          "Horsepower": null,
          "Miles_per_Gallon": 21,
          "Name": "ford maverick",
          "Origin": "USA",
          "Weight_in_lbs": 2875,
          "Year": "1974-01-01"
         },
         {
          "Acceleration": 16,
          "Cylinders": 6,
          "Displacement": 232,
          "Horsepower": 100,
          "Miles_per_Gallon": 19,
          "Name": "amc hornet",
          "Origin": "USA",
          "Weight_in_lbs": 2901,
          "Year": "1974-01-01"
         },
         {
          "Acceleration": 17,
          "Cylinders": 6,
          "Displacement": 250,
          "Horsepower": 100,
          "Miles_per_Gallon": 15,
          "Name": "chevrolet nova",
          "Origin": "USA",
          "Weight_in_lbs": 3336,
          "Year": "1974-01-01"
         },
         {
          "Acceleration": 19,
          "Cylinders": 4,
          "Displacement": 79,
          "Horsepower": 67,
          "Miles_per_Gallon": 31,
          "Name": "datsun b210",
          "Origin": "Japan",
          "Weight_in_lbs": 1950,
          "Year": "1974-01-01"
         },
         {
          "Acceleration": 16.5,
          "Cylinders": 4,
          "Displacement": 122,
          "Horsepower": 80,
          "Miles_per_Gallon": 26,
          "Name": "ford pinto",
          "Origin": "USA",
          "Weight_in_lbs": 2451,
          "Year": "1974-01-01"
         },
         {
          "Acceleration": 21,
          "Cylinders": 4,
          "Displacement": 71,
          "Horsepower": 65,
          "Miles_per_Gallon": 32,
          "Name": "toyota corolla 1200",
          "Origin": "Japan",
          "Weight_in_lbs": 1836,
          "Year": "1974-01-01"
         },
         {
          "Acceleration": 17,
          "Cylinders": 4,
          "Displacement": 140,
          "Horsepower": 75,
          "Miles_per_Gallon": 25,
          "Name": "chevrolet vega",
          "Origin": "USA",
          "Weight_in_lbs": 2542,
          "Year": "1974-01-01"
         },
         {
          "Acceleration": 17,
          "Cylinders": 6,
          "Displacement": 250,
          "Horsepower": 100,
          "Miles_per_Gallon": 16,
          "Name": "chevrolet chevelle malibu classic",
          "Origin": "USA",
          "Weight_in_lbs": 3781,
          "Year": "1974-01-01"
         },
         {
          "Acceleration": 18,
          "Cylinders": 6,
          "Displacement": 258,
          "Horsepower": 110,
          "Miles_per_Gallon": 16,
          "Name": "amc matador",
          "Origin": "USA",
          "Weight_in_lbs": 3632,
          "Year": "1974-01-01"
         },
         {
          "Acceleration": 16.5,
          "Cylinders": 6,
          "Displacement": 225,
          "Horsepower": 105,
          "Miles_per_Gallon": 18,
          "Name": "plymouth satellite sebring",
          "Origin": "USA",
          "Weight_in_lbs": 3613,
          "Year": "1974-01-01"
         },
         {
          "Acceleration": 14,
          "Cylinders": 8,
          "Displacement": 302,
          "Horsepower": 140,
          "Miles_per_Gallon": 16,
          "Name": "ford gran torino",
          "Origin": "USA",
          "Weight_in_lbs": 4141,
          "Year": "1974-01-01"
         },
         {
          "Acceleration": 14.5,
          "Cylinders": 8,
          "Displacement": 350,
          "Horsepower": 150,
          "Miles_per_Gallon": 13,
          "Name": "buick century luxus (sw)",
          "Origin": "USA",
          "Weight_in_lbs": 4699,
          "Year": "1974-01-01"
         },
         {
          "Acceleration": 13.5,
          "Cylinders": 8,
          "Displacement": 318,
          "Horsepower": 150,
          "Miles_per_Gallon": 14,
          "Name": "dodge coronet custom (sw)",
          "Origin": "USA",
          "Weight_in_lbs": 4457,
          "Year": "1974-01-01"
         },
         {
          "Acceleration": 16,
          "Cylinders": 8,
          "Displacement": 302,
          "Horsepower": 140,
          "Miles_per_Gallon": 14,
          "Name": "ford gran torino (sw)",
          "Origin": "USA",
          "Weight_in_lbs": 4638,
          "Year": "1974-01-01"
         },
         {
          "Acceleration": 15.5,
          "Cylinders": 8,
          "Displacement": 304,
          "Horsepower": 150,
          "Miles_per_Gallon": 14,
          "Name": "amc matador (sw)",
          "Origin": "USA",
          "Weight_in_lbs": 4257,
          "Year": "1974-01-01"
         },
         {
          "Acceleration": 16.5,
          "Cylinders": 4,
          "Displacement": 98,
          "Horsepower": 83,
          "Miles_per_Gallon": 29,
          "Name": "audi fox",
          "Origin": "Europe",
          "Weight_in_lbs": 2219,
          "Year": "1974-01-01"
         },
         {
          "Acceleration": 15.5,
          "Cylinders": 4,
          "Displacement": 79,
          "Horsepower": 67,
          "Miles_per_Gallon": 26,
          "Name": "volkswagen dasher",
          "Origin": "Europe",
          "Weight_in_lbs": 1963,
          "Year": "1974-01-01"
         },
         {
          "Acceleration": 14.5,
          "Cylinders": 4,
          "Displacement": 97,
          "Horsepower": 78,
          "Miles_per_Gallon": 26,
          "Name": "opel manta",
          "Origin": "Europe",
          "Weight_in_lbs": 2300,
          "Year": "1974-01-01"
         },
         {
          "Acceleration": 16.5,
          "Cylinders": 4,
          "Displacement": 76,
          "Horsepower": 52,
          "Miles_per_Gallon": 31,
          "Name": "toyota corona",
          "Origin": "Japan",
          "Weight_in_lbs": 1649,
          "Year": "1974-01-01"
         },
         {
          "Acceleration": 19,
          "Cylinders": 4,
          "Displacement": 83,
          "Horsepower": 61,
          "Miles_per_Gallon": 32,
          "Name": "datsun 710",
          "Origin": "Japan",
          "Weight_in_lbs": 2003,
          "Year": "1974-01-01"
         },
         {
          "Acceleration": 14.5,
          "Cylinders": 4,
          "Displacement": 90,
          "Horsepower": 75,
          "Miles_per_Gallon": 28,
          "Name": "dodge colt",
          "Origin": "USA",
          "Weight_in_lbs": 2125,
          "Year": "1974-01-01"
         },
         {
          "Acceleration": 15.5,
          "Cylinders": 4,
          "Displacement": 90,
          "Horsepower": 75,
          "Miles_per_Gallon": 24,
          "Name": "fiat 128",
          "Origin": "Europe",
          "Weight_in_lbs": 2108,
          "Year": "1974-01-01"
         },
         {
          "Acceleration": 14,
          "Cylinders": 4,
          "Displacement": 116,
          "Horsepower": 75,
          "Miles_per_Gallon": 26,
          "Name": "fiat 124 tc",
          "Origin": "Europe",
          "Weight_in_lbs": 2246,
          "Year": "1974-01-01"
         },
         {
          "Acceleration": 15,
          "Cylinders": 4,
          "Displacement": 120,
          "Horsepower": 97,
          "Miles_per_Gallon": 24,
          "Name": "honda civic",
          "Origin": "Japan",
          "Weight_in_lbs": 2489,
          "Year": "1974-01-01"
         },
         {
          "Acceleration": 15.5,
          "Cylinders": 4,
          "Displacement": 108,
          "Horsepower": 93,
          "Miles_per_Gallon": 26,
          "Name": "subaru",
          "Origin": "Japan",
          "Weight_in_lbs": 2391,
          "Year": "1974-01-01"
         },
         {
          "Acceleration": 16,
          "Cylinders": 4,
          "Displacement": 79,
          "Horsepower": 67,
          "Miles_per_Gallon": 31,
          "Name": "fiat x1.9",
          "Origin": "Europe",
          "Weight_in_lbs": 2000,
          "Year": "1974-01-01"
         },
         {
          "Acceleration": 16,
          "Cylinders": 6,
          "Displacement": 225,
          "Horsepower": 95,
          "Miles_per_Gallon": 19,
          "Name": "plymouth valiant custom",
          "Origin": "USA",
          "Weight_in_lbs": 3264,
          "Year": "1975-01-01"
         },
         {
          "Acceleration": 16,
          "Cylinders": 6,
          "Displacement": 250,
          "Horsepower": 105,
          "Miles_per_Gallon": 18,
          "Name": "chevrolet nova",
          "Origin": "USA",
          "Weight_in_lbs": 3459,
          "Year": "1975-01-01"
         },
         {
          "Acceleration": 21,
          "Cylinders": 6,
          "Displacement": 250,
          "Horsepower": 72,
          "Miles_per_Gallon": 15,
          "Name": "mercury monarch",
          "Origin": "USA",
          "Weight_in_lbs": 3432,
          "Year": "1975-01-01"
         },
         {
          "Acceleration": 19.5,
          "Cylinders": 6,
          "Displacement": 250,
          "Horsepower": 72,
          "Miles_per_Gallon": 15,
          "Name": "ford maverick",
          "Origin": "USA",
          "Weight_in_lbs": 3158,
          "Year": "1975-01-01"
         },
         {
          "Acceleration": 11.5,
          "Cylinders": 8,
          "Displacement": 400,
          "Horsepower": 170,
          "Miles_per_Gallon": 16,
          "Name": "pontiac catalina",
          "Origin": "USA",
          "Weight_in_lbs": 4668,
          "Year": "1975-01-01"
         },
         {
          "Acceleration": 14,
          "Cylinders": 8,
          "Displacement": 350,
          "Horsepower": 145,
          "Miles_per_Gallon": 15,
          "Name": "chevrolet bel air",
          "Origin": "USA",
          "Weight_in_lbs": 4440,
          "Year": "1975-01-01"
         },
         {
          "Acceleration": 14.5,
          "Cylinders": 8,
          "Displacement": 318,
          "Horsepower": 150,
          "Miles_per_Gallon": 16,
          "Name": "plymouth grand fury",
          "Origin": "USA",
          "Weight_in_lbs": 4498,
          "Year": "1975-01-01"
         },
         {
          "Acceleration": 13.5,
          "Cylinders": 8,
          "Displacement": 351,
          "Horsepower": 148,
          "Miles_per_Gallon": 14,
          "Name": "ford ltd",
          "Origin": "USA",
          "Weight_in_lbs": 4657,
          "Year": "1975-01-01"
         },
         {
          "Acceleration": 21,
          "Cylinders": 6,
          "Displacement": 231,
          "Horsepower": 110,
          "Miles_per_Gallon": 17,
          "Name": "buick century",
          "Origin": "USA",
          "Weight_in_lbs": 3907,
          "Year": "1975-01-01"
         },
         {
          "Acceleration": 18.5,
          "Cylinders": 6,
          "Displacement": 250,
          "Horsepower": 105,
          "Miles_per_Gallon": 16,
          "Name": "chevroelt chevelle malibu",
          "Origin": "USA",
          "Weight_in_lbs": 3897,
          "Year": "1975-01-01"
         },
         {
          "Acceleration": 19,
          "Cylinders": 6,
          "Displacement": 258,
          "Horsepower": 110,
          "Miles_per_Gallon": 15,
          "Name": "amc matador",
          "Origin": "USA",
          "Weight_in_lbs": 3730,
          "Year": "1975-01-01"
         },
         {
          "Acceleration": 19,
          "Cylinders": 6,
          "Displacement": 225,
          "Horsepower": 95,
          "Miles_per_Gallon": 18,
          "Name": "plymouth fury",
          "Origin": "USA",
          "Weight_in_lbs": 3785,
          "Year": "1975-01-01"
         },
         {
          "Acceleration": 15,
          "Cylinders": 6,
          "Displacement": 231,
          "Horsepower": 110,
          "Miles_per_Gallon": 21,
          "Name": "buick skyhawk",
          "Origin": "USA",
          "Weight_in_lbs": 3039,
          "Year": "1975-01-01"
         },
         {
          "Acceleration": 13.5,
          "Cylinders": 8,
          "Displacement": 262,
          "Horsepower": 110,
          "Miles_per_Gallon": 20,
          "Name": "chevrolet monza 2+2",
          "Origin": "USA",
          "Weight_in_lbs": 3221,
          "Year": "1975-01-01"
         },
         {
          "Acceleration": 12,
          "Cylinders": 8,
          "Displacement": 302,
          "Horsepower": 129,
          "Miles_per_Gallon": 13,
          "Name": "ford mustang ii",
          "Origin": "USA",
          "Weight_in_lbs": 3169,
          "Year": "1975-01-01"
         },
         {
          "Acceleration": 16,
          "Cylinders": 4,
          "Displacement": 97,
          "Horsepower": 75,
          "Miles_per_Gallon": 29,
          "Name": "toyota corolla",
          "Origin": "Japan",
          "Weight_in_lbs": 2171,
          "Year": "1975-01-01"
         },
         {
          "Acceleration": 17,
          "Cylinders": 4,
          "Displacement": 140,
          "Horsepower": 83,
          "Miles_per_Gallon": 23,
          "Name": "ford pinto",
          "Origin": "USA",
          "Weight_in_lbs": 2639,
          "Year": "1975-01-01"
         },
         {
          "Acceleration": 16,
          "Cylinders": 6,
          "Displacement": 232,
          "Horsepower": 100,
          "Miles_per_Gallon": 20,
          "Name": "amc gremlin",
          "Origin": "USA",
          "Weight_in_lbs": 2914,
          "Year": "1975-01-01"
         },
         {
          "Acceleration": 18.5,
          "Cylinders": 4,
          "Displacement": 140,
          "Horsepower": 78,
          "Miles_per_Gallon": 23,
          "Name": "pontiac astro",
          "Origin": "USA",
          "Weight_in_lbs": 2592,
          "Year": "1975-01-01"
         },
         {
          "Acceleration": 13.5,
          "Cylinders": 4,
          "Displacement": 134,
          "Horsepower": 96,
          "Miles_per_Gallon": 24,
          "Name": "toyota corona",
          "Origin": "Japan",
          "Weight_in_lbs": 2702,
          "Year": "1975-01-01"
         },
         {
          "Acceleration": 16.5,
          "Cylinders": 4,
          "Displacement": 90,
          "Horsepower": 71,
          "Miles_per_Gallon": 25,
          "Name": "volkswagen dasher",
          "Origin": "Europe",
          "Weight_in_lbs": 2223,
          "Year": "1975-01-01"
         },
         {
          "Acceleration": 17,
          "Cylinders": 4,
          "Displacement": 119,
          "Horsepower": 97,
          "Miles_per_Gallon": 24,
          "Name": "datsun 710",
          "Origin": "Japan",
          "Weight_in_lbs": 2545,
          "Year": "1975-01-01"
         },
         {
          "Acceleration": 14.5,
          "Cylinders": 6,
          "Displacement": 171,
          "Horsepower": 97,
          "Miles_per_Gallon": 18,
          "Name": "ford pinto",
          "Origin": "USA",
          "Weight_in_lbs": 2984,
          "Year": "1975-01-01"
         },
         {
          "Acceleration": 14,
          "Cylinders": 4,
          "Displacement": 90,
          "Horsepower": 70,
          "Miles_per_Gallon": 29,
          "Name": "volkswagen rabbit",
          "Origin": "Europe",
          "Weight_in_lbs": 1937,
          "Year": "1975-01-01"
         },
         {
          "Acceleration": 17,
          "Cylinders": 6,
          "Displacement": 232,
          "Horsepower": 90,
          "Miles_per_Gallon": 19,
          "Name": "amc pacer",
          "Origin": "USA",
          "Weight_in_lbs": 3211,
          "Year": "1975-01-01"
         },
         {
          "Acceleration": 15,
          "Cylinders": 4,
          "Displacement": 115,
          "Horsepower": 95,
          "Miles_per_Gallon": 23,
          "Name": "audi 100ls",
          "Origin": "Europe",
          "Weight_in_lbs": 2694,
          "Year": "1975-01-01"
         },
         {
          "Acceleration": 17,
          "Cylinders": 4,
          "Displacement": 120,
          "Horsepower": 88,
          "Miles_per_Gallon": 23,
          "Name": "peugeot 504",
          "Origin": "Europe",
          "Weight_in_lbs": 2957,
          "Year": "1975-01-01"
         },
         {
          "Acceleration": 14.5,
          "Cylinders": 4,
          "Displacement": 121,
          "Horsepower": 98,
          "Miles_per_Gallon": 22,
          "Name": "volvo 244dl",
          "Origin": "Europe",
          "Weight_in_lbs": 2945,
          "Year": "1975-01-01"
         },
         {
          "Acceleration": 13.5,
          "Cylinders": 4,
          "Displacement": 121,
          "Horsepower": 115,
          "Miles_per_Gallon": 25,
          "Name": "saab 99le",
          "Origin": "Europe",
          "Weight_in_lbs": 2671,
          "Year": "1975-01-01"
         },
         {
          "Acceleration": 17.5,
          "Cylinders": 4,
          "Displacement": 91,
          "Horsepower": 53,
          "Miles_per_Gallon": 33,
          "Name": "honda civic cvcc",
          "Origin": "Japan",
          "Weight_in_lbs": 1795,
          "Year": "1975-01-01"
         },
         {
          "Acceleration": 15.5,
          "Cylinders": 4,
          "Displacement": 107,
          "Horsepower": 86,
          "Miles_per_Gallon": 28,
          "Name": "fiat 131",
          "Origin": "Europe",
          "Weight_in_lbs": 2464,
          "Year": "1976-01-01"
         },
         {
          "Acceleration": 16.9,
          "Cylinders": 4,
          "Displacement": 116,
          "Horsepower": 81,
          "Miles_per_Gallon": 25,
          "Name": "opel 1900",
          "Origin": "Europe",
          "Weight_in_lbs": 2220,
          "Year": "1976-01-01"
         },
         {
          "Acceleration": 14.9,
          "Cylinders": 4,
          "Displacement": 140,
          "Horsepower": 92,
          "Miles_per_Gallon": 25,
          "Name": "capri ii",
          "Origin": "USA",
          "Weight_in_lbs": 2572,
          "Year": "1976-01-01"
         },
         {
          "Acceleration": 17.7,
          "Cylinders": 4,
          "Displacement": 98,
          "Horsepower": 79,
          "Miles_per_Gallon": 26,
          "Name": "dodge colt",
          "Origin": "USA",
          "Weight_in_lbs": 2255,
          "Year": "1976-01-01"
         },
         {
          "Acceleration": 15.3,
          "Cylinders": 4,
          "Displacement": 101,
          "Horsepower": 83,
          "Miles_per_Gallon": 27,
          "Name": "renault 12tl",
          "Origin": "Europe",
          "Weight_in_lbs": 2202,
          "Year": "1976-01-01"
         },
         {
          "Acceleration": 13,
          "Cylinders": 8,
          "Displacement": 305,
          "Horsepower": 140,
          "Miles_per_Gallon": 17.5,
          "Name": "chevrolet chevelle malibu classic",
          "Origin": "USA",
          "Weight_in_lbs": 4215,
          "Year": "1976-01-01"
         },
         {
          "Acceleration": 13,
          "Cylinders": 8,
          "Displacement": 318,
          "Horsepower": 150,
          "Miles_per_Gallon": 16,
          "Name": "dodge coronet brougham",
          "Origin": "USA",
          "Weight_in_lbs": 4190,
          "Year": "1976-01-01"
         },
         {
          "Acceleration": 13.9,
          "Cylinders": 8,
          "Displacement": 304,
          "Horsepower": 120,
          "Miles_per_Gallon": 15.5,
          "Name": "amc matador",
          "Origin": "USA",
          "Weight_in_lbs": 3962,
          "Year": "1976-01-01"
         },
         {
          "Acceleration": 12.8,
          "Cylinders": 8,
          "Displacement": 351,
          "Horsepower": 152,
          "Miles_per_Gallon": 14.5,
          "Name": "ford gran torino",
          "Origin": "USA",
          "Weight_in_lbs": 4215,
          "Year": "1976-01-01"
         },
         {
          "Acceleration": 15.4,
          "Cylinders": 6,
          "Displacement": 225,
          "Horsepower": 100,
          "Miles_per_Gallon": 22,
          "Name": "plymouth valiant",
          "Origin": "USA",
          "Weight_in_lbs": 3233,
          "Year": "1976-01-01"
         },
         {
          "Acceleration": 14.5,
          "Cylinders": 6,
          "Displacement": 250,
          "Horsepower": 105,
          "Miles_per_Gallon": 22,
          "Name": "chevrolet nova",
          "Origin": "USA",
          "Weight_in_lbs": 3353,
          "Year": "1976-01-01"
         },
         {
          "Acceleration": 17.6,
          "Cylinders": 6,
          "Displacement": 200,
          "Horsepower": 81,
          "Miles_per_Gallon": 24,
          "Name": "ford maverick",
          "Origin": "USA",
          "Weight_in_lbs": 3012,
          "Year": "1976-01-01"
         },
         {
          "Acceleration": 17.6,
          "Cylinders": 6,
          "Displacement": 232,
          "Horsepower": 90,
          "Miles_per_Gallon": 22.5,
          "Name": "amc hornet",
          "Origin": "USA",
          "Weight_in_lbs": 3085,
          "Year": "1976-01-01"
         },
         {
          "Acceleration": 22.2,
          "Cylinders": 4,
          "Displacement": 85,
          "Horsepower": 52,
          "Miles_per_Gallon": 29,
          "Name": "chevrolet chevette",
          "Origin": "USA",
          "Weight_in_lbs": 2035,
          "Year": "1976-01-01"
         },
         {
          "Acceleration": 22.1,
          "Cylinders": 4,
          "Displacement": 98,
          "Horsepower": 60,
          "Miles_per_Gallon": 24.5,
          "Name": "chevrolet woody",
          "Origin": "USA",
          "Weight_in_lbs": 2164,
          "Year": "1976-01-01"
         },
         {
          "Acceleration": 14.2,
          "Cylinders": 4,
          "Displacement": 90,
          "Horsepower": 70,
          "Miles_per_Gallon": 29,
          "Name": "vw rabbit",
          "Origin": "Europe",
          "Weight_in_lbs": 1937,
          "Year": "1976-01-01"
         },
         {
          "Acceleration": 17.4,
          "Cylinders": 4,
          "Displacement": 91,
          "Horsepower": 53,
          "Miles_per_Gallon": 33,
          "Name": "honda civic",
          "Origin": "Japan",
          "Weight_in_lbs": 1795,
          "Year": "1976-01-01"
         },
         {
          "Acceleration": 17.7,
          "Cylinders": 6,
          "Displacement": 225,
          "Horsepower": 100,
          "Miles_per_Gallon": 20,
          "Name": "dodge aspen se",
          "Origin": "USA",
          "Weight_in_lbs": 3651,
          "Year": "1976-01-01"
         },
         {
          "Acceleration": 21,
          "Cylinders": 6,
          "Displacement": 250,
          "Horsepower": 78,
          "Miles_per_Gallon": 18,
          "Name": "ford granada ghia",
          "Origin": "USA",
          "Weight_in_lbs": 3574,
          "Year": "1976-01-01"
         },
         {
          "Acceleration": 16.2,
          "Cylinders": 6,
          "Displacement": 250,
          "Horsepower": 110,
          "Miles_per_Gallon": 18.5,
          "Name": "pontiac ventura sj",
          "Origin": "USA",
          "Weight_in_lbs": 3645,
          "Year": "1976-01-01"
         },
         {
          "Acceleration": 17.8,
          "Cylinders": 6,
          "Displacement": 258,
          "Horsepower": 95,
          "Miles_per_Gallon": 17.5,
          "Name": "amc pacer d/l",
          "Origin": "USA",
          "Weight_in_lbs": 3193,
          "Year": "1976-01-01"
         },
         {
          "Acceleration": 12.2,
          "Cylinders": 4,
          "Displacement": 97,
          "Horsepower": 71,
          "Miles_per_Gallon": 29.5,
          "Name": "volkswagen rabbit",
          "Origin": "Europe",
          "Weight_in_lbs": 1825,
          "Year": "1976-01-01"
         },
         {
          "Acceleration": 17,
          "Cylinders": 4,
          "Displacement": 85,
          "Horsepower": 70,
          "Miles_per_Gallon": 32,
          "Name": "datsun b-210",
          "Origin": "Japan",
          "Weight_in_lbs": 1990,
          "Year": "1976-01-01"
         },
         {
          "Acceleration": 16.4,
          "Cylinders": 4,
          "Displacement": 97,
          "Horsepower": 75,
          "Miles_per_Gallon": 28,
          "Name": "toyota corolla",
          "Origin": "Japan",
          "Weight_in_lbs": 2155,
          "Year": "1976-01-01"
         },
         {
          "Acceleration": 13.6,
          "Cylinders": 4,
          "Displacement": 140,
          "Horsepower": 72,
          "Miles_per_Gallon": 26.5,
          "Name": "ford pinto",
          "Origin": "USA",
          "Weight_in_lbs": 2565,
          "Year": "1976-01-01"
         },
         {
          "Acceleration": 15.7,
          "Cylinders": 4,
          "Displacement": 130,
          "Horsepower": 102,
          "Miles_per_Gallon": 20,
          "Name": "volvo 245",
          "Origin": "Europe",
          "Weight_in_lbs": 3150,
          "Year": "1976-01-01"
         },
         {
          "Acceleration": 13.2,
          "Cylinders": 8,
          "Displacement": 318,
          "Horsepower": 150,
          "Miles_per_Gallon": 13,
          "Name": "plymouth volare premier v8",
          "Origin": "USA",
          "Weight_in_lbs": 3940,
          "Year": "1976-01-01"
         },
         {
          "Acceleration": 21.9,
          "Cylinders": 4,
          "Displacement": 120,
          "Horsepower": 88,
          "Miles_per_Gallon": 19,
          "Name": "peugeot 504",
          "Origin": "Europe",
          "Weight_in_lbs": 3270,
          "Year": "1976-01-01"
         },
         {
          "Acceleration": 15.5,
          "Cylinders": 6,
          "Displacement": 156,
          "Horsepower": 108,
          "Miles_per_Gallon": 19,
          "Name": "toyota mark ii",
          "Origin": "Japan",
          "Weight_in_lbs": 2930,
          "Year": "1976-01-01"
         },
         {
          "Acceleration": 16.7,
          "Cylinders": 6,
          "Displacement": 168,
          "Horsepower": 120,
          "Miles_per_Gallon": 16.5,
          "Name": "mercedes-benz 280s",
          "Origin": "Europe",
          "Weight_in_lbs": 3820,
          "Year": "1976-01-01"
         },
         {
          "Acceleration": 12.1,
          "Cylinders": 8,
          "Displacement": 350,
          "Horsepower": 180,
          "Miles_per_Gallon": 16.5,
          "Name": "cadillac seville",
          "Origin": "USA",
          "Weight_in_lbs": 4380,
          "Year": "1976-01-01"
         },
         {
          "Acceleration": 12,
          "Cylinders": 8,
          "Displacement": 350,
          "Horsepower": 145,
          "Miles_per_Gallon": 13,
          "Name": "chevy c10",
          "Origin": "USA",
          "Weight_in_lbs": 4055,
          "Year": "1976-01-01"
         },
         {
          "Acceleration": 15,
          "Cylinders": 8,
          "Displacement": 302,
          "Horsepower": 130,
          "Miles_per_Gallon": 13,
          "Name": "ford f108",
          "Origin": "USA",
          "Weight_in_lbs": 3870,
          "Year": "1976-01-01"
         },
         {
          "Acceleration": 14,
          "Cylinders": 8,
          "Displacement": 318,
          "Horsepower": 150,
          "Miles_per_Gallon": 13,
          "Name": "dodge d100",
          "Origin": "USA",
          "Weight_in_lbs": 3755,
          "Year": "1976-01-01"
         },
         {
          "Acceleration": 18.5,
          "Cylinders": 4,
          "Displacement": 98,
          "Horsepower": 68,
          "Miles_per_Gallon": 31.5,
          "Name": "honda Accelerationord cvcc",
          "Origin": "Japan",
          "Weight_in_lbs": 2045,
          "Year": "1977-01-01"
         },
         {
          "Acceleration": 14.8,
          "Cylinders": 4,
          "Displacement": 111,
          "Horsepower": 80,
          "Miles_per_Gallon": 30,
          "Name": "buick opel isuzu deluxe",
          "Origin": "USA",
          "Weight_in_lbs": 2155,
          "Year": "1977-01-01"
         },
         {
          "Acceleration": 18.6,
          "Cylinders": 4,
          "Displacement": 79,
          "Horsepower": 58,
          "Miles_per_Gallon": 36,
          "Name": "renault 5 gtl",
          "Origin": "Europe",
          "Weight_in_lbs": 1825,
          "Year": "1977-01-01"
         },
         {
          "Acceleration": 15.5,
          "Cylinders": 4,
          "Displacement": 122,
          "Horsepower": 96,
          "Miles_per_Gallon": 25.5,
          "Name": "plymouth arrow gs",
          "Origin": "USA",
          "Weight_in_lbs": 2300,
          "Year": "1977-01-01"
         },
         {
          "Acceleration": 16.8,
          "Cylinders": 4,
          "Displacement": 85,
          "Horsepower": 70,
          "Miles_per_Gallon": 33.5,
          "Name": "datsun f-10 hatchback",
          "Origin": "Japan",
          "Weight_in_lbs": 1945,
          "Year": "1977-01-01"
         },
         {
          "Acceleration": 12.5,
          "Cylinders": 8,
          "Displacement": 305,
          "Horsepower": 145,
          "Miles_per_Gallon": 17.5,
          "Name": "chevrolet caprice classic",
          "Origin": "USA",
          "Weight_in_lbs": 3880,
          "Year": "1977-01-01"
         },
         {
          "Acceleration": 19,
          "Cylinders": 8,
          "Displacement": 260,
          "Horsepower": 110,
          "Miles_per_Gallon": 17,
          "Name": "oldsmobile cutlass supreme",
          "Origin": "USA",
          "Weight_in_lbs": 4060,
          "Year": "1977-01-01"
         },
         {
          "Acceleration": 13.7,
          "Cylinders": 8,
          "Displacement": 318,
          "Horsepower": 145,
          "Miles_per_Gallon": 15.5,
          "Name": "dodge monaco brougham",
          "Origin": "USA",
          "Weight_in_lbs": 4140,
          "Year": "1977-01-01"
         },
         {
          "Acceleration": 14.9,
          "Cylinders": 8,
          "Displacement": 302,
          "Horsepower": 130,
          "Miles_per_Gallon": 15,
          "Name": "mercury cougar brougham",
          "Origin": "USA",
          "Weight_in_lbs": 4295,
          "Year": "1977-01-01"
         },
         {
          "Acceleration": 16.4,
          "Cylinders": 6,
          "Displacement": 250,
          "Horsepower": 110,
          "Miles_per_Gallon": 17.5,
          "Name": "chevrolet concours",
          "Origin": "USA",
          "Weight_in_lbs": 3520,
          "Year": "1977-01-01"
         },
         {
          "Acceleration": 16.9,
          "Cylinders": 6,
          "Displacement": 231,
          "Horsepower": 105,
          "Miles_per_Gallon": 20.5,
          "Name": "buick skylark",
          "Origin": "USA",
          "Weight_in_lbs": 3425,
          "Year": "1977-01-01"
         },
         {
          "Acceleration": 17.7,
          "Cylinders": 6,
          "Displacement": 225,
          "Horsepower": 100,
          "Miles_per_Gallon": 19,
          "Name": "plymouth volare custom",
          "Origin": "USA",
          "Weight_in_lbs": 3630,
          "Year": "1977-01-01"
         },
         {
          "Acceleration": 19,
          "Cylinders": 6,
          "Displacement": 250,
          "Horsepower": 98,
          "Miles_per_Gallon": 18.5,
          "Name": "ford granada",
          "Origin": "USA",
          "Weight_in_lbs": 3525,
          "Year": "1977-01-01"
         },
         {
          "Acceleration": 11.1,
          "Cylinders": 8,
          "Displacement": 400,
          "Horsepower": 180,
          "Miles_per_Gallon": 16,
          "Name": "pontiac grand prix lj",
          "Origin": "USA",
          "Weight_in_lbs": 4220,
          "Year": "1977-01-01"
         },
         {
          "Acceleration": 11.4,
          "Cylinders": 8,
          "Displacement": 350,
          "Horsepower": 170,
          "Miles_per_Gallon": 15.5,
          "Name": "chevrolet monte carlo landau",
          "Origin": "USA",
          "Weight_in_lbs": 4165,
          "Year": "1977-01-01"
         },
         {
          "Acceleration": 12.2,
          "Cylinders": 8,
          "Displacement": 400,
          "Horsepower": 190,
          "Miles_per_Gallon": 15.5,
          "Name": "chrysler cordoba",
          "Origin": "USA",
          "Weight_in_lbs": 4325,
          "Year": "1977-01-01"
         },
         {
          "Acceleration": 14.5,
          "Cylinders": 8,
          "Displacement": 351,
          "Horsepower": 149,
          "Miles_per_Gallon": 16,
          "Name": "ford thunderbird",
          "Origin": "USA",
          "Weight_in_lbs": 4335,
          "Year": "1977-01-01"
         },
         {
          "Acceleration": 14.5,
          "Cylinders": 4,
          "Displacement": 97,
          "Horsepower": 78,
          "Miles_per_Gallon": 29,
          "Name": "volkswagen rabbit custom",
          "Origin": "Europe",
          "Weight_in_lbs": 1940,
          "Year": "1977-01-01"
         },
         {
          "Acceleration": 16,
          "Cylinders": 4,
          "Displacement": 151,
          "Horsepower": 88,
          "Miles_per_Gallon": 24.5,
          "Name": "pontiac sunbird coupe",
          "Origin": "USA",
          "Weight_in_lbs": 2740,
          "Year": "1977-01-01"
         },
         {
          "Acceleration": 18.2,
          "Cylinders": 4,
          "Displacement": 97,
          "Horsepower": 75,
          "Miles_per_Gallon": 26,
          "Name": "toyota corolla liftback",
          "Origin": "Japan",
          "Weight_in_lbs": 2265,
          "Year": "1977-01-01"
         },
         {
          "Acceleration": 15.8,
          "Cylinders": 4,
          "Displacement": 140,
          "Horsepower": 89,
          "Miles_per_Gallon": 25.5,
          "Name": "ford mustang ii 2+2",
          "Origin": "USA",
          "Weight_in_lbs": 2755,
          "Year": "1977-01-01"
         },
         {
          "Acceleration": 17,
          "Cylinders": 4,
          "Displacement": 98,
          "Horsepower": 63,
          "Miles_per_Gallon": 30.5,
          "Name": "chevrolet chevette",
          "Origin": "USA",
          "Weight_in_lbs": 2051,
          "Year": "1977-01-01"
         },
         {
          "Acceleration": 15.9,
          "Cylinders": 4,
          "Displacement": 98,
          "Horsepower": 83,
          "Miles_per_Gallon": 33.5,
          "Name": "dodge colt m/m",
          "Origin": "USA",
          "Weight_in_lbs": 2075,
          "Year": "1977-01-01"
         },
         {
          "Acceleration": 16.4,
          "Cylinders": 4,
          "Displacement": 97,
          "Horsepower": 67,
          "Miles_per_Gallon": 30,
          "Name": "subaru dl",
          "Origin": "Japan",
          "Weight_in_lbs": 1985,
          "Year": "1977-01-01"
         },
         {
          "Acceleration": 14.1,
          "Cylinders": 4,
          "Displacement": 97,
          "Horsepower": 78,
          "Miles_per_Gallon": 30.5,
          "Name": "volkswagen dasher",
          "Origin": "Europe",
          "Weight_in_lbs": 2190,
          "Year": "1977-01-01"
         },
         {
          "Acceleration": 14.5,
          "Cylinders": 6,
          "Displacement": 146,
          "Horsepower": 97,
          "Miles_per_Gallon": 22,
          "Name": "datsun 810",
          "Origin": "Japan",
          "Weight_in_lbs": 2815,
          "Year": "1977-01-01"
         },
         {
          "Acceleration": 12.8,
          "Cylinders": 4,
          "Displacement": 121,
          "Horsepower": 110,
          "Miles_per_Gallon": 21.5,
          "Name": "bmw 320i",
          "Origin": "Europe",
          "Weight_in_lbs": 2600,
          "Year": "1977-01-01"
         },
         {
          "Acceleration": 13.5,
          "Cylinders": 3,
          "Displacement": 80,
          "Horsepower": 110,
          "Miles_per_Gallon": 21.5,
          "Name": "mazda rx-4",
          "Origin": "Japan",
          "Weight_in_lbs": 2720,
          "Year": "1977-01-01"
         },
         {
          "Acceleration": 21.5,
          "Cylinders": 4,
          "Displacement": 90,
          "Horsepower": 48,
          "Miles_per_Gallon": 43.1,
          "Name": "volkswagen rabbit custom diesel",
          "Origin": "Europe",
          "Weight_in_lbs": 1985,
          "Year": "1978-01-01"
         },
         {
          "Acceleration": 14.4,
          "Cylinders": 4,
          "Displacement": 98,
          "Horsepower": 66,
          "Miles_per_Gallon": 36.1,
          "Name": "ford fiesta",
          "Origin": "USA",
          "Weight_in_lbs": 1800,
          "Year": "1978-01-01"
         },
         {
          "Acceleration": 19.4,
          "Cylinders": 4,
          "Displacement": 78,
          "Horsepower": 52,
          "Miles_per_Gallon": 32.8,
          "Name": "mazda glc deluxe",
          "Origin": "Japan",
          "Weight_in_lbs": 1985,
          "Year": "1978-01-01"
         },
         {
          "Acceleration": 18.6,
          "Cylinders": 4,
          "Displacement": 85,
          "Horsepower": 70,
          "Miles_per_Gallon": 39.4,
          "Name": "datsun b210 gx",
          "Origin": "Japan",
          "Weight_in_lbs": 2070,
          "Year": "1978-01-01"
         },
         {
          "Acceleration": 16.4,
          "Cylinders": 4,
          "Displacement": 91,
          "Horsepower": 60,
          "Miles_per_Gallon": 36.1,
          "Name": "honda civic cvcc",
          "Origin": "Japan",
          "Weight_in_lbs": 1800,
          "Year": "1978-01-01"
         },
         {
          "Acceleration": 15.5,
          "Cylinders": 8,
          "Displacement": 260,
          "Horsepower": 110,
          "Miles_per_Gallon": 19.9,
          "Name": "oldsmobile cutlass salon brougham",
          "Origin": "USA",
          "Weight_in_lbs": 3365,
          "Year": "1978-01-01"
         },
         {
          "Acceleration": 13.2,
          "Cylinders": 8,
          "Displacement": 318,
          "Horsepower": 140,
          "Miles_per_Gallon": 19.4,
          "Name": "dodge diplomat",
          "Origin": "USA",
          "Weight_in_lbs": 3735,
          "Year": "1978-01-01"
         },
         {
          "Acceleration": 12.8,
          "Cylinders": 8,
          "Displacement": 302,
          "Horsepower": 139,
          "Miles_per_Gallon": 20.2,
          "Name": "mercury monarch ghia",
          "Origin": "USA",
          "Weight_in_lbs": 3570,
          "Year": "1978-01-01"
         },
         {
          "Acceleration": 19.2,
          "Cylinders": 6,
          "Displacement": 231,
          "Horsepower": 105,
          "Miles_per_Gallon": 19.2,
          "Name": "pontiac phoenix lj",
          "Origin": "USA",
          "Weight_in_lbs": 3535,
          "Year": "1978-01-01"
         },
         {
          "Acceleration": 18.2,
          "Cylinders": 6,
          "Displacement": 200,
          "Horsepower": 95,
          "Miles_per_Gallon": 20.5,
          "Name": "chevrolet malibu",
          "Origin": "USA",
          "Weight_in_lbs": 3155,
          "Year": "1978-01-01"
         },
         {
          "Acceleration": 15.8,
          "Cylinders": 6,
          "Displacement": 200,
          "Horsepower": 85,
          "Miles_per_Gallon": 20.2,
          "Name": "ford fairmont (auto)",
          "Origin": "USA",
          "Weight_in_lbs": 2965,
          "Year": "1978-01-01"
         },
         {
          "Acceleration": 15.4,
          "Cylinders": 4,
          "Displacement": 140,
          "Horsepower": 88,
          "Miles_per_Gallon": 25.1,
          "Name": "ford fairmont (man)",
          "Origin": "USA",
          "Weight_in_lbs": 2720,
          "Year": "1978-01-01"
         },
         {
          "Acceleration": 17.2,
          "Cylinders": 6,
          "Displacement": 225,
          "Horsepower": 100,
          "Miles_per_Gallon": 20.5,
          "Name": "plymouth volare",
          "Origin": "USA",
          "Weight_in_lbs": 3430,
          "Year": "1978-01-01"
         },
         {
          "Acceleration": 17.2,
          "Cylinders": 6,
          "Displacement": 232,
          "Horsepower": 90,
          "Miles_per_Gallon": 19.4,
          "Name": "amc concord",
          "Origin": "USA",
          "Weight_in_lbs": 3210,
          "Year": "1978-01-01"
         },
         {
          "Acceleration": 15.8,
          "Cylinders": 6,
          "Displacement": 231,
          "Horsepower": 105,
          "Miles_per_Gallon": 20.6,
          "Name": "buick century special",
          "Origin": "USA",
          "Weight_in_lbs": 3380,
          "Year": "1978-01-01"
         },
         {
          "Acceleration": 16.7,
          "Cylinders": 6,
          "Displacement": 200,
          "Horsepower": 85,
          "Miles_per_Gallon": 20.8,
          "Name": "mercury zephyr",
          "Origin": "USA",
          "Weight_in_lbs": 3070,
          "Year": "1978-01-01"
         },
         {
          "Acceleration": 18.7,
          "Cylinders": 6,
          "Displacement": 225,
          "Horsepower": 110,
          "Miles_per_Gallon": 18.6,
          "Name": "dodge aspen",
          "Origin": "USA",
          "Weight_in_lbs": 3620,
          "Year": "1978-01-01"
         },
         {
          "Acceleration": 15.1,
          "Cylinders": 6,
          "Displacement": 258,
          "Horsepower": 120,
          "Miles_per_Gallon": 18.1,
          "Name": "amc concord d/l",
          "Origin": "USA",
          "Weight_in_lbs": 3410,
          "Year": "1978-01-01"
         },
         {
          "Acceleration": 13.2,
          "Cylinders": 8,
          "Displacement": 305,
          "Horsepower": 145,
          "Miles_per_Gallon": 19.2,
          "Name": "chevrolet monte carlo landau",
          "Origin": "USA",
          "Weight_in_lbs": 3425,
          "Year": "1978-01-01"
         },
         {
          "Acceleration": 13.4,
          "Cylinders": 6,
          "Displacement": 231,
          "Horsepower": 165,
          "Miles_per_Gallon": 17.7,
          "Name": "buick regal sport coupe (turbo)",
          "Origin": "USA",
          "Weight_in_lbs": 3445,
          "Year": "1978-01-01"
         },
         {
          "Acceleration": 11.2,
          "Cylinders": 8,
          "Displacement": 302,
          "Horsepower": 139,
          "Miles_per_Gallon": 18.1,
          "Name": "ford futura",
          "Origin": "USA",
          "Weight_in_lbs": 3205,
          "Year": "1978-01-01"
         },
         {
          "Acceleration": 13.7,
          "Cylinders": 8,
          "Displacement": 318,
          "Horsepower": 140,
          "Miles_per_Gallon": 17.5,
          "Name": "dodge magnum xe",
          "Origin": "USA",
          "Weight_in_lbs": 4080,
          "Year": "1978-01-01"
         },
         {
          "Acceleration": 16.5,
          "Cylinders": 4,
          "Displacement": 98,
          "Horsepower": 68,
          "Miles_per_Gallon": 30,
          "Name": "chevrolet chevette",
          "Origin": "USA",
          "Weight_in_lbs": 2155,
          "Year": "1978-01-01"
         },
         {
          "Acceleration": 14.2,
          "Cylinders": 4,
          "Displacement": 134,
          "Horsepower": 95,
          "Miles_per_Gallon": 27.5,
          "Name": "toyota corona",
          "Origin": "Japan",
          "Weight_in_lbs": 2560,
          "Year": "1978-01-01"
         },
         {
          "Acceleration": 14.7,
          "Cylinders": 4,
          "Displacement": 119,
          "Horsepower": 97,
          "Miles_per_Gallon": 27.2,
          "Name": "datsun 510",
          "Origin": "Japan",
          "Weight_in_lbs": 2300,
          "Year": "1978-01-01"
         },
         {
          "Acceleration": 14.5,
          "Cylinders": 4,
          "Displacement": 105,
          "Horsepower": 75,
          "Miles_per_Gallon": 30.9,
          "Name": "dodge omni",
          "Origin": "USA",
          "Weight_in_lbs": 2230,
          "Year": "1978-01-01"
         },
         {
          "Acceleration": 14.8,
          "Cylinders": 4,
          "Displacement": 134,
          "Horsepower": 95,
          "Miles_per_Gallon": 21.1,
          "Name": "toyota celica gt liftback",
          "Origin": "Japan",
          "Weight_in_lbs": 2515,
          "Year": "1978-01-01"
         },
         {
          "Acceleration": 16.7,
          "Cylinders": 4,
          "Displacement": 156,
          "Horsepower": 105,
          "Miles_per_Gallon": 23.2,
          "Name": "plymouth sapporo",
          "Origin": "USA",
          "Weight_in_lbs": 2745,
          "Year": "1978-01-01"
         },
         {
          "Acceleration": 17.6,
          "Cylinders": 4,
          "Displacement": 151,
          "Horsepower": 85,
          "Miles_per_Gallon": 23.8,
          "Name": "oldsmobile starfire sx",
          "Origin": "USA",
          "Weight_in_lbs": 2855,
          "Year": "1978-01-01"
         },
         {
          "Acceleration": 14.9,
          "Cylinders": 4,
          "Displacement": 119,
          "Horsepower": 97,
          "Miles_per_Gallon": 23.9,
          "Name": "datsun 200-sx",
          "Origin": "Japan",
          "Weight_in_lbs": 2405,
          "Year": "1978-01-01"
         },
         {
          "Acceleration": 15.9,
          "Cylinders": 5,
          "Displacement": 131,
          "Horsepower": 103,
          "Miles_per_Gallon": 20.3,
          "Name": "audi 5000",
          "Origin": "Europe",
          "Weight_in_lbs": 2830,
          "Year": "1978-01-01"
         },
         {
          "Acceleration": 13.6,
          "Cylinders": 6,
          "Displacement": 163,
          "Horsepower": 125,
          "Miles_per_Gallon": 17,
          "Name": "volvo 264gl",
          "Origin": "Europe",
          "Weight_in_lbs": 3140,
          "Year": "1978-01-01"
         },
         {
          "Acceleration": 15.7,
          "Cylinders": 4,
          "Displacement": 121,
          "Horsepower": 115,
          "Miles_per_Gallon": 21.6,
          "Name": "saab 99gle",
          "Origin": "Europe",
          "Weight_in_lbs": 2795,
          "Year": "1978-01-01"
         },
         {
          "Acceleration": 15.8,
          "Cylinders": 6,
          "Displacement": 163,
          "Horsepower": 133,
          "Miles_per_Gallon": 16.2,
          "Name": "peugeot 604sl",
          "Origin": "Europe",
          "Weight_in_lbs": 3410,
          "Year": "1978-01-01"
         },
         {
          "Acceleration": 14.9,
          "Cylinders": 4,
          "Displacement": 89,
          "Horsepower": 71,
          "Miles_per_Gallon": 31.5,
          "Name": "volkswagen scirocco",
          "Origin": "Europe",
          "Weight_in_lbs": 1990,
          "Year": "1978-01-01"
         },
         {
          "Acceleration": 16.6,
          "Cylinders": 4,
          "Displacement": 98,
          "Horsepower": 68,
          "Miles_per_Gallon": 29.5,
          "Name": "honda Accelerationord lx",
          "Origin": "Japan",
          "Weight_in_lbs": 2135,
          "Year": "1978-01-01"
         },
         {
          "Acceleration": 15.4,
          "Cylinders": 6,
          "Displacement": 231,
          "Horsepower": 115,
          "Miles_per_Gallon": 21.5,
          "Name": "pontiac lemans v6",
          "Origin": "USA",
          "Weight_in_lbs": 3245,
          "Year": "1979-01-01"
         },
         {
          "Acceleration": 18.2,
          "Cylinders": 6,
          "Displacement": 200,
          "Horsepower": 85,
          "Miles_per_Gallon": 19.8,
          "Name": "mercury zephyr 6",
          "Origin": "USA",
          "Weight_in_lbs": 2990,
          "Year": "1979-01-01"
         },
         {
          "Acceleration": 17.3,
          "Cylinders": 4,
          "Displacement": 140,
          "Horsepower": 88,
          "Miles_per_Gallon": 22.3,
          "Name": "ford fairmont 4",
          "Origin": "USA",
          "Weight_in_lbs": 2890,
          "Year": "1979-01-01"
         },
         {
          "Acceleration": 18.2,
          "Cylinders": 6,
          "Displacement": 232,
          "Horsepower": 90,
          "Miles_per_Gallon": 20.2,
          "Name": "amc concord dl 6",
          "Origin": "USA",
          "Weight_in_lbs": 3265,
          "Year": "1979-01-01"
         },
         {
          "Acceleration": 16.6,
          "Cylinders": 6,
          "Displacement": 225,
          "Horsepower": 110,
          "Miles_per_Gallon": 20.6,
          "Name": "dodge aspen 6",
          "Origin": "USA",
          "Weight_in_lbs": 3360,
          "Year": "1979-01-01"
         },
         {
          "Acceleration": 15.4,
          "Cylinders": 8,
          "Displacement": 305,
          "Horsepower": 130,
          "Miles_per_Gallon": 17,
          "Name": "chevrolet caprice classic",
          "Origin": "USA",
          "Weight_in_lbs": 3840,
          "Year": "1979-01-01"
         },
         {
          "Acceleration": 13.4,
          "Cylinders": 8,
          "Displacement": 302,
          "Horsepower": 129,
          "Miles_per_Gallon": 17.6,
          "Name": "ford ltd landau",
          "Origin": "USA",
          "Weight_in_lbs": 3725,
          "Year": "1979-01-01"
         },
         {
          "Acceleration": 13.2,
          "Cylinders": 8,
          "Displacement": 351,
          "Horsepower": 138,
          "Miles_per_Gallon": 16.5,
          "Name": "mercury grand marquis",
          "Origin": "USA",
          "Weight_in_lbs": 3955,
          "Year": "1979-01-01"
         },
         {
          "Acceleration": 15.2,
          "Cylinders": 8,
          "Displacement": 318,
          "Horsepower": 135,
          "Miles_per_Gallon": 18.2,
          "Name": "dodge st. regis",
          "Origin": "USA",
          "Weight_in_lbs": 3830,
          "Year": "1979-01-01"
         },
         {
          "Acceleration": 14.9,
          "Cylinders": 8,
          "Displacement": 350,
          "Horsepower": 155,
          "Miles_per_Gallon": 16.9,
          "Name": "buick estate wagon (sw)",
          "Origin": "USA",
          "Weight_in_lbs": 4360,
          "Year": "1979-01-01"
         },
         {
          "Acceleration": 14.3,
          "Cylinders": 8,
          "Displacement": 351,
          "Horsepower": 142,
          "Miles_per_Gallon": 15.5,
          "Name": "ford country squire (sw)",
          "Origin": "USA",
          "Weight_in_lbs": 4054,
          "Year": "1979-01-01"
         },
         {
          "Acceleration": 15,
          "Cylinders": 8,
          "Displacement": 267,
          "Horsepower": 125,
          "Miles_per_Gallon": 19.2,
          "Name": "chevrolet malibu classic (sw)",
          "Origin": "USA",
          "Weight_in_lbs": 3605,
          "Year": "1979-01-01"
         },
         {
          "Acceleration": 13,
          "Cylinders": 8,
          "Displacement": 360,
          "Horsepower": 150,
          "Miles_per_Gallon": 18.5,
          "Name": "chrysler lebaron town @ country (sw)",
          "Origin": "USA",
          "Weight_in_lbs": 3940,
          "Year": "1979-01-01"
         },
         {
          "Acceleration": 14,
          "Cylinders": 4,
          "Displacement": 89,
          "Horsepower": 71,
          "Miles_per_Gallon": 31.9,
          "Name": "vw rabbit custom",
          "Origin": "Europe",
          "Weight_in_lbs": 1925,
          "Year": "1979-01-01"
         },
         {
          "Acceleration": 15.2,
          "Cylinders": 4,
          "Displacement": 86,
          "Horsepower": 65,
          "Miles_per_Gallon": 34.1,
          "Name": "maxda glc deluxe",
          "Origin": "Japan",
          "Weight_in_lbs": 1975,
          "Year": "1979-01-01"
         },
         {
          "Acceleration": 14.4,
          "Cylinders": 4,
          "Displacement": 98,
          "Horsepower": 80,
          "Miles_per_Gallon": 35.7,
          "Name": "dodge colt hatchback custom",
          "Origin": "USA",
          "Weight_in_lbs": 1915,
          "Year": "1979-01-01"
         },
         {
          "Acceleration": 15,
          "Cylinders": 4,
          "Displacement": 121,
          "Horsepower": 80,
          "Miles_per_Gallon": 27.4,
          "Name": "amc spirit dl",
          "Origin": "USA",
          "Weight_in_lbs": 2670,
          "Year": "1979-01-01"
         },
         {
          "Acceleration": 20.1,
          "Cylinders": 5,
          "Displacement": 183,
          "Horsepower": 77,
          "Miles_per_Gallon": 25.4,
          "Name": "mercedes benz 300d",
          "Origin": "Europe",
          "Weight_in_lbs": 3530,
          "Year": "1979-01-01"
         },
         {
          "Acceleration": 17.4,
          "Cylinders": 8,
          "Displacement": 350,
          "Horsepower": 125,
          "Miles_per_Gallon": 23,
          "Name": "cadillac eldorado",
          "Origin": "USA",
          "Weight_in_lbs": 3900,
          "Year": "1979-01-01"
         },
         {
          "Acceleration": 24.8,
          "Cylinders": 4,
          "Displacement": 141,
          "Horsepower": 71,
          "Miles_per_Gallon": 27.2,
          "Name": "peugeot 504",
          "Origin": "Europe",
          "Weight_in_lbs": 3190,
          "Year": "1979-01-01"
         },
         {
          "Acceleration": 22.2,
          "Cylinders": 8,
          "Displacement": 260,
          "Horsepower": 90,
          "Miles_per_Gallon": 23.9,
          "Name": "oldsmobile cutlass salon brougham",
          "Origin": "USA",
          "Weight_in_lbs": 3420,
          "Year": "1979-01-01"
         },
         {
          "Acceleration": 13.2,
          "Cylinders": 4,
          "Displacement": 105,
          "Horsepower": 70,
          "Miles_per_Gallon": 34.2,
          "Name": "plymouth horizon",
          "Origin": "USA",
          "Weight_in_lbs": 2200,
          "Year": "1979-01-01"
         },
         {
          "Acceleration": 14.9,
          "Cylinders": 4,
          "Displacement": 105,
          "Horsepower": 70,
          "Miles_per_Gallon": 34.5,
          "Name": "plymouth horizon tc3",
          "Origin": "USA",
          "Weight_in_lbs": 2150,
          "Year": "1979-01-01"
         },
         {
          "Acceleration": 19.2,
          "Cylinders": 4,
          "Displacement": 85,
          "Horsepower": 65,
          "Miles_per_Gallon": 31.8,
          "Name": "datsun 210",
          "Origin": "Japan",
          "Weight_in_lbs": 2020,
          "Year": "1979-01-01"
         },
         {
          "Acceleration": 14.7,
          "Cylinders": 4,
          "Displacement": 91,
          "Horsepower": 69,
          "Miles_per_Gallon": 37.3,
          "Name": "fiat strada custom",
          "Origin": "Europe",
          "Weight_in_lbs": 2130,
          "Year": "1979-01-01"
         },
         {
          "Acceleration": 16,
          "Cylinders": 4,
          "Displacement": 151,
          "Horsepower": 90,
          "Miles_per_Gallon": 28.4,
          "Name": "buick skylark limited",
          "Origin": "USA",
          "Weight_in_lbs": 2670,
          "Year": "1979-01-01"
         },
         {
          "Acceleration": 11.3,
          "Cylinders": 6,
          "Displacement": 173,
          "Horsepower": 115,
          "Miles_per_Gallon": 28.8,
          "Name": "chevrolet citation",
          "Origin": "USA",
          "Weight_in_lbs": 2595,
          "Year": "1979-01-01"
         },
         {
          "Acceleration": 12.9,
          "Cylinders": 6,
          "Displacement": 173,
          "Horsepower": 115,
          "Miles_per_Gallon": 26.8,
          "Name": "oldsmobile omega brougham",
          "Origin": "USA",
          "Weight_in_lbs": 2700,
          "Year": "1979-01-01"
         },
         {
          "Acceleration": 13.2,
          "Cylinders": 4,
          "Displacement": 151,
          "Horsepower": 90,
          "Miles_per_Gallon": 33.5,
          "Name": "pontiac phoenix",
          "Origin": "USA",
          "Weight_in_lbs": 2556,
          "Year": "1979-01-01"
         },
         {
          "Acceleration": 14.7,
          "Cylinders": 4,
          "Displacement": 98,
          "Horsepower": 76,
          "Miles_per_Gallon": 41.5,
          "Name": "vw rabbit",
          "Origin": "Europe",
          "Weight_in_lbs": 2144,
          "Year": "1980-01-01"
         },
         {
          "Acceleration": 18.8,
          "Cylinders": 4,
          "Displacement": 89,
          "Horsepower": 60,
          "Miles_per_Gallon": 38.1,
          "Name": "toyota corolla tercel",
          "Origin": "Japan",
          "Weight_in_lbs": 1968,
          "Year": "1980-01-01"
         },
         {
          "Acceleration": 15.5,
          "Cylinders": 4,
          "Displacement": 98,
          "Horsepower": 70,
          "Miles_per_Gallon": 32.1,
          "Name": "chevrolet chevette",
          "Origin": "USA",
          "Weight_in_lbs": 2120,
          "Year": "1980-01-01"
         },
         {
          "Acceleration": 16.4,
          "Cylinders": 4,
          "Displacement": 86,
          "Horsepower": 65,
          "Miles_per_Gallon": 37.2,
          "Name": "datsun 310",
          "Origin": "Japan",
          "Weight_in_lbs": 2019,
          "Year": "1980-01-01"
         },
         {
          "Acceleration": 16.5,
          "Cylinders": 4,
          "Displacement": 151,
          "Horsepower": 90,
          "Miles_per_Gallon": 28,
          "Name": "chevrolet citation",
          "Origin": "USA",
          "Weight_in_lbs": 2678,
          "Year": "1980-01-01"
         },
         {
          "Acceleration": 18.1,
          "Cylinders": 4,
          "Displacement": 140,
          "Horsepower": 88,
          "Miles_per_Gallon": 26.4,
          "Name": "ford fairmont",
          "Origin": "USA",
          "Weight_in_lbs": 2870,
          "Year": "1980-01-01"
         },
         {
          "Acceleration": 20.1,
          "Cylinders": 4,
          "Displacement": 151,
          "Horsepower": 90,
          "Miles_per_Gallon": 24.3,
          "Name": "amc concord",
          "Origin": "USA",
          "Weight_in_lbs": 3003,
          "Year": "1980-01-01"
         },
         {
          "Acceleration": 18.7,
          "Cylinders": 6,
          "Displacement": 225,
          "Horsepower": 90,
          "Miles_per_Gallon": 19.1,
          "Name": "dodge aspen",
          "Origin": "USA",
          "Weight_in_lbs": 3381,
          "Year": "1980-01-01"
         },
         {
          "Acceleration": 15.8,
          "Cylinders": 4,
          "Displacement": 97,
          "Horsepower": 78,
          "Miles_per_Gallon": 34.3,
          "Name": "audi 4000",
          "Origin": "Europe",
          "Weight_in_lbs": 2188,
          "Year": "1980-01-01"
         },
         {
          "Acceleration": 15.5,
          "Cylinders": 4,
          "Displacement": 134,
          "Horsepower": 90,
          "Miles_per_Gallon": 29.8,
          "Name": "toyota corona liftback",
          "Origin": "Japan",
          "Weight_in_lbs": 2711,
          "Year": "1980-01-01"
         },
         {
          "Acceleration": 17.5,
          "Cylinders": 4,
          "Displacement": 120,
          "Horsepower": 75,
          "Miles_per_Gallon": 31.3,
          "Name": "mazda 626",
          "Origin": "Japan",
          "Weight_in_lbs": 2542,
          "Year": "1980-01-01"
         },
         {
          "Acceleration": 15,
          "Cylinders": 4,
          "Displacement": 119,
          "Horsepower": 92,
          "Miles_per_Gallon": 37,
          "Name": "datsun 510 hatchback",
          "Origin": "Japan",
          "Weight_in_lbs": 2434,
          "Year": "1980-01-01"
         },
         {
          "Acceleration": 15.2,
          "Cylinders": 4,
          "Displacement": 108,
          "Horsepower": 75,
          "Miles_per_Gallon": 32.2,
          "Name": "toyota corolla",
          "Origin": "Japan",
          "Weight_in_lbs": 2265,
          "Year": "1980-01-01"
         },
         {
          "Acceleration": 17.9,
          "Cylinders": 4,
          "Displacement": 86,
          "Horsepower": 65,
          "Miles_per_Gallon": 46.6,
          "Name": "mazda glc",
          "Origin": "Japan",
          "Weight_in_lbs": 2110,
          "Year": "1980-01-01"
         },
         {
          "Acceleration": 14.4,
          "Cylinders": 4,
          "Displacement": 156,
          "Horsepower": 105,
          "Miles_per_Gallon": 27.9,
          "Name": "dodge colt",
          "Origin": "USA",
          "Weight_in_lbs": 2800,
          "Year": "1980-01-01"
         },
         {
          "Acceleration": 19.2,
          "Cylinders": 4,
          "Displacement": 85,
          "Horsepower": 65,
          "Miles_per_Gallon": 40.8,
          "Name": "datsun 210",
          "Origin": "Japan",
          "Weight_in_lbs": 2110,
          "Year": "1980-01-01"
         },
         {
          "Acceleration": 21.7,
          "Cylinders": 4,
          "Displacement": 90,
          "Horsepower": 48,
          "Miles_per_Gallon": 44.3,
          "Name": "vw rabbit c (diesel)",
          "Origin": "Europe",
          "Weight_in_lbs": 2085,
          "Year": "1980-01-01"
         },
         {
          "Acceleration": 23.7,
          "Cylinders": 4,
          "Displacement": 90,
          "Horsepower": 48,
          "Miles_per_Gallon": 43.4,
          "Name": "vw dasher (diesel)",
          "Origin": "Europe",
          "Weight_in_lbs": 2335,
          "Year": "1980-01-01"
         },
         {
          "Acceleration": 19.9,
          "Cylinders": 5,
          "Displacement": 121,
          "Horsepower": 67,
          "Miles_per_Gallon": 36.4,
          "Name": "audi 5000s (diesel)",
          "Origin": "Europe",
          "Weight_in_lbs": 2950,
          "Year": "1980-01-01"
         },
         {
          "Acceleration": 21.8,
          "Cylinders": 4,
          "Displacement": 146,
          "Horsepower": 67,
          "Miles_per_Gallon": 30,
          "Name": "mercedes-benz 240d",
          "Origin": "Europe",
          "Weight_in_lbs": 3250,
          "Year": "1980-01-01"
         },
         {
          "Acceleration": 13.8,
          "Cylinders": 4,
          "Displacement": 91,
          "Horsepower": 67,
          "Miles_per_Gallon": 44.6,
          "Name": "honda civic 1500 gl",
          "Origin": "Japan",
          "Weight_in_lbs": 1850,
          "Year": "1980-01-01"
         },
         {
          "Acceleration": 17.3,
          "Cylinders": 4,
          "Displacement": 85,
          "Horsepower": null,
          "Miles_per_Gallon": 40.9,
          "Name": "renault lecar deluxe",
          "Origin": "Europe",
          "Weight_in_lbs": 1835,
          "Year": "1980-01-01"
         },
         {
          "Acceleration": 18,
          "Cylinders": 4,
          "Displacement": 97,
          "Horsepower": 67,
          "Miles_per_Gallon": 33.8,
          "Name": "subaru dl",
          "Origin": "Japan",
          "Weight_in_lbs": 2145,
          "Year": "1980-01-01"
         },
         {
          "Acceleration": 15.3,
          "Cylinders": 4,
          "Displacement": 89,
          "Horsepower": 62,
          "Miles_per_Gallon": 29.8,
          "Name": "vokswagen rabbit",
          "Origin": "Europe",
          "Weight_in_lbs": 1845,
          "Year": "1980-01-01"
         },
         {
          "Acceleration": 11.4,
          "Cylinders": 6,
          "Displacement": 168,
          "Horsepower": 132,
          "Miles_per_Gallon": 32.7,
          "Name": "datsun 280-zx",
          "Origin": "Japan",
          "Weight_in_lbs": 2910,
          "Year": "1980-01-01"
         },
         {
          "Acceleration": 12.5,
          "Cylinders": 3,
          "Displacement": 70,
          "Horsepower": 100,
          "Miles_per_Gallon": 23.7,
          "Name": "mazda rx-7 gs",
          "Origin": "Japan",
          "Weight_in_lbs": 2420,
          "Year": "1980-01-01"
         },
         {
          "Acceleration": 15.1,
          "Cylinders": 4,
          "Displacement": 122,
          "Horsepower": 88,
          "Miles_per_Gallon": 35,
          "Name": "triumph tr7 coupe",
          "Origin": "Europe",
          "Weight_in_lbs": 2500,
          "Year": "1980-01-01"
         },
         {
          "Acceleration": 14.3,
          "Cylinders": 4,
          "Displacement": 140,
          "Horsepower": null,
          "Miles_per_Gallon": 23.6,
          "Name": "ford mustang cobra",
          "Origin": "USA",
          "Weight_in_lbs": 2905,
          "Year": "1980-01-01"
         },
         {
          "Acceleration": 17,
          "Cylinders": 4,
          "Displacement": 107,
          "Horsepower": 72,
          "Miles_per_Gallon": 32.4,
          "Name": "honda Accelerationord",
          "Origin": "Japan",
          "Weight_in_lbs": 2290,
          "Year": "1980-01-01"
         },
         {
          "Acceleration": 15.7,
          "Cylinders": 4,
          "Displacement": 135,
          "Horsepower": 84,
          "Miles_per_Gallon": 27.2,
          "Name": "plymouth reliant",
          "Origin": "USA",
          "Weight_in_lbs": 2490,
          "Year": "1982-01-01"
         },
         {
          "Acceleration": 16.4,
          "Cylinders": 4,
          "Displacement": 151,
          "Horsepower": 84,
          "Miles_per_Gallon": 26.6,
          "Name": "buick skylark",
          "Origin": "USA",
          "Weight_in_lbs": 2635,
          "Year": "1982-01-01"
         },
         {
          "Acceleration": 14.4,
          "Cylinders": 4,
          "Displacement": 156,
          "Horsepower": 92,
          "Miles_per_Gallon": 25.8,
          "Name": "dodge aries wagon (sw)",
          "Origin": "USA",
          "Weight_in_lbs": 2620,
          "Year": "1982-01-01"
         },
         {
          "Acceleration": 12.6,
          "Cylinders": 6,
          "Displacement": 173,
          "Horsepower": 110,
          "Miles_per_Gallon": 23.5,
          "Name": "chevrolet citation",
          "Origin": "USA",
          "Weight_in_lbs": 2725,
          "Year": "1982-01-01"
         },
         {
          "Acceleration": 12.9,
          "Cylinders": 4,
          "Displacement": 135,
          "Horsepower": 84,
          "Miles_per_Gallon": 30,
          "Name": "plymouth reliant",
          "Origin": "USA",
          "Weight_in_lbs": 2385,
          "Year": "1982-01-01"
         },
         {
          "Acceleration": 16.9,
          "Cylinders": 4,
          "Displacement": 79,
          "Horsepower": 58,
          "Miles_per_Gallon": 39.1,
          "Name": "toyota starlet",
          "Origin": "Japan",
          "Weight_in_lbs": 1755,
          "Year": "1982-01-01"
         },
         {
          "Acceleration": 16.4,
          "Cylinders": 4,
          "Displacement": 86,
          "Horsepower": 64,
          "Miles_per_Gallon": 39,
          "Name": "plymouth champ",
          "Origin": "USA",
          "Weight_in_lbs": 1875,
          "Year": "1982-01-01"
         },
         {
          "Acceleration": 16.1,
          "Cylinders": 4,
          "Displacement": 81,
          "Horsepower": 60,
          "Miles_per_Gallon": 35.1,
          "Name": "honda civic 1300",
          "Origin": "Japan",
          "Weight_in_lbs": 1760,
          "Year": "1982-01-01"
         },
         {
          "Acceleration": 17.8,
          "Cylinders": 4,
          "Displacement": 97,
          "Horsepower": 67,
          "Miles_per_Gallon": 32.3,
          "Name": "subaru",
          "Origin": "Japan",
          "Weight_in_lbs": 2065,
          "Year": "1982-01-01"
         },
         {
          "Acceleration": 19.4,
          "Cylinders": 4,
          "Displacement": 85,
          "Horsepower": 65,
          "Miles_per_Gallon": 37,
          "Name": "datsun 210",
          "Origin": "Japan",
          "Weight_in_lbs": 1975,
          "Year": "1982-01-01"
         },
         {
          "Acceleration": 17.3,
          "Cylinders": 4,
          "Displacement": 89,
          "Horsepower": 62,
          "Miles_per_Gallon": 37.7,
          "Name": "toyota tercel",
          "Origin": "Japan",
          "Weight_in_lbs": 2050,
          "Year": "1982-01-01"
         },
         {
          "Acceleration": 16,
          "Cylinders": 4,
          "Displacement": 91,
          "Horsepower": 68,
          "Miles_per_Gallon": 34.1,
          "Name": "mazda glc 4",
          "Origin": "Japan",
          "Weight_in_lbs": 1985,
          "Year": "1982-01-01"
         },
         {
          "Acceleration": 14.9,
          "Cylinders": 4,
          "Displacement": 105,
          "Horsepower": 63,
          "Miles_per_Gallon": 34.7,
          "Name": "plymouth horizon 4",
          "Origin": "USA",
          "Weight_in_lbs": 2215,
          "Year": "1982-01-01"
         },
         {
          "Acceleration": 16.2,
          "Cylinders": 4,
          "Displacement": 98,
          "Horsepower": 65,
          "Miles_per_Gallon": 34.4,
          "Name": "ford escort 4w",
          "Origin": "USA",
          "Weight_in_lbs": 2045,
          "Year": "1982-01-01"
         },
         {
          "Acceleration": 20.7,
          "Cylinders": 4,
          "Displacement": 98,
          "Horsepower": 65,
          "Miles_per_Gallon": 29.9,
          "Name": "ford escort 2h",
          "Origin": "USA",
          "Weight_in_lbs": 2380,
          "Year": "1982-01-01"
         },
         {
          "Acceleration": 14.2,
          "Cylinders": 4,
          "Displacement": 105,
          "Horsepower": 74,
          "Miles_per_Gallon": 33,
          "Name": "volkswagen jetta",
          "Origin": "Europe",
          "Weight_in_lbs": 2190,
          "Year": "1982-01-01"
         },
         {
          "Acceleration": 15.8,
          "Cylinders": 4,
          "Displacement": 100,
          "Horsepower": null,
          "Miles_per_Gallon": 34.5,
          "Name": "renault 18i",
          "Origin": "Europe",
          "Weight_in_lbs": 2320,
          "Year": "1982-01-01"
         },
         {
          "Acceleration": 14.4,
          "Cylinders": 4,
          "Displacement": 107,
          "Horsepower": 75,
          "Miles_per_Gallon": 33.7,
          "Name": "honda prelude",
          "Origin": "Japan",
          "Weight_in_lbs": 2210,
          "Year": "1982-01-01"
         },
         {
          "Acceleration": 16.8,
          "Cylinders": 4,
          "Displacement": 108,
          "Horsepower": 75,
          "Miles_per_Gallon": 32.4,
          "Name": "toyota corolla",
          "Origin": "Japan",
          "Weight_in_lbs": 2350,
          "Year": "1982-01-01"
         },
         {
          "Acceleration": 14.8,
          "Cylinders": 4,
          "Displacement": 119,
          "Horsepower": 100,
          "Miles_per_Gallon": 32.9,
          "Name": "datsun 200sx",
          "Origin": "Japan",
          "Weight_in_lbs": 2615,
          "Year": "1982-01-01"
         },
         {
          "Acceleration": 18.3,
          "Cylinders": 4,
          "Displacement": 120,
          "Horsepower": 74,
          "Miles_per_Gallon": 31.6,
          "Name": "mazda 626",
          "Origin": "Japan",
          "Weight_in_lbs": 2635,
          "Year": "1982-01-01"
         },
         {
          "Acceleration": 20.4,
          "Cylinders": 4,
          "Displacement": 141,
          "Horsepower": 80,
          "Miles_per_Gallon": 28.1,
          "Name": "peugeot 505s turbo diesel",
          "Origin": "Europe",
          "Weight_in_lbs": 3230,
          "Year": "1982-01-01"
         },
         {
          "Acceleration": 15.4,
          "Cylinders": 4,
          "Displacement": 121,
          "Horsepower": 110,
          "Miles_per_Gallon": null,
          "Name": "saab 900s",
          "Origin": "Europe",
          "Weight_in_lbs": 2800,
          "Year": "1982-01-01"
         },
         {
          "Acceleration": 19.6,
          "Cylinders": 6,
          "Displacement": 145,
          "Horsepower": 76,
          "Miles_per_Gallon": 30.7,
          "Name": "volvo diesel",
          "Origin": "Europe",
          "Weight_in_lbs": 3160,
          "Year": "1982-01-01"
         },
         {
          "Acceleration": 12.6,
          "Cylinders": 6,
          "Displacement": 168,
          "Horsepower": 116,
          "Miles_per_Gallon": 25.4,
          "Name": "toyota cressida",
          "Origin": "Japan",
          "Weight_in_lbs": 2900,
          "Year": "1982-01-01"
         },
         {
          "Acceleration": 13.8,
          "Cylinders": 6,
          "Displacement": 146,
          "Horsepower": 120,
          "Miles_per_Gallon": 24.2,
          "Name": "datsun 810 maxima",
          "Origin": "Japan",
          "Weight_in_lbs": 2930,
          "Year": "1982-01-01"
         },
         {
          "Acceleration": 15.8,
          "Cylinders": 6,
          "Displacement": 231,
          "Horsepower": 110,
          "Miles_per_Gallon": 22.4,
          "Name": "buick century",
          "Origin": "USA",
          "Weight_in_lbs": 3415,
          "Year": "1982-01-01"
         },
         {
          "Acceleration": 19,
          "Cylinders": 8,
          "Displacement": 350,
          "Horsepower": 105,
          "Miles_per_Gallon": 26.6,
          "Name": "oldsmobile cutlass ls",
          "Origin": "USA",
          "Weight_in_lbs": 3725,
          "Year": "1982-01-01"
         },
         {
          "Acceleration": 17.1,
          "Cylinders": 6,
          "Displacement": 200,
          "Horsepower": 88,
          "Miles_per_Gallon": 20.2,
          "Name": "ford granada gl",
          "Origin": "USA",
          "Weight_in_lbs": 3060,
          "Year": "1982-01-01"
         },
         {
          "Acceleration": 16.6,
          "Cylinders": 6,
          "Displacement": 225,
          "Horsepower": 85,
          "Miles_per_Gallon": 17.6,
          "Name": "chrysler lebaron salon",
          "Origin": "USA",
          "Weight_in_lbs": 3465,
          "Year": "1982-01-01"
         },
         {
          "Acceleration": 19.6,
          "Cylinders": 4,
          "Displacement": 112,
          "Horsepower": 88,
          "Miles_per_Gallon": 28,
          "Name": "chevrolet cavalier",
          "Origin": "USA",
          "Weight_in_lbs": 2605,
          "Year": "1982-01-01"
         },
         {
          "Acceleration": 18.6,
          "Cylinders": 4,
          "Displacement": 112,
          "Horsepower": 88,
          "Miles_per_Gallon": 27,
          "Name": "chevrolet cavalier wagon",
          "Origin": "USA",
          "Weight_in_lbs": 2640,
          "Year": "1982-01-01"
         },
         {
          "Acceleration": 18,
          "Cylinders": 4,
          "Displacement": 112,
          "Horsepower": 88,
          "Miles_per_Gallon": 34,
          "Name": "chevrolet cavalier 2-door",
          "Origin": "USA",
          "Weight_in_lbs": 2395,
          "Year": "1982-01-01"
         },
         {
          "Acceleration": 16.2,
          "Cylinders": 4,
          "Displacement": 112,
          "Horsepower": 85,
          "Miles_per_Gallon": 31,
          "Name": "pontiac j2000 se hatchback",
          "Origin": "USA",
          "Weight_in_lbs": 2575,
          "Year": "1982-01-01"
         },
         {
          "Acceleration": 16,
          "Cylinders": 4,
          "Displacement": 135,
          "Horsepower": 84,
          "Miles_per_Gallon": 29,
          "Name": "dodge aries se",
          "Origin": "USA",
          "Weight_in_lbs": 2525,
          "Year": "1982-01-01"
         },
         {
          "Acceleration": 18,
          "Cylinders": 4,
          "Displacement": 151,
          "Horsepower": 90,
          "Miles_per_Gallon": 27,
          "Name": "pontiac phoenix",
          "Origin": "USA",
          "Weight_in_lbs": 2735,
          "Year": "1982-01-01"
         },
         {
          "Acceleration": 16.4,
          "Cylinders": 4,
          "Displacement": 140,
          "Horsepower": 92,
          "Miles_per_Gallon": 24,
          "Name": "ford fairmont futura",
          "Origin": "USA",
          "Weight_in_lbs": 2865,
          "Year": "1982-01-01"
         },
         {
          "Acceleration": 20.5,
          "Cylinders": 4,
          "Displacement": 151,
          "Horsepower": null,
          "Miles_per_Gallon": 23,
          "Name": "amc concord dl",
          "Origin": "USA",
          "Weight_in_lbs": 3035,
          "Year": "1982-01-01"
         },
         {
          "Acceleration": 15.3,
          "Cylinders": 4,
          "Displacement": 105,
          "Horsepower": 74,
          "Miles_per_Gallon": 36,
          "Name": "volkswagen rabbit l",
          "Origin": "Europe",
          "Weight_in_lbs": 1980,
          "Year": "1982-01-01"
         },
         {
          "Acceleration": 18.2,
          "Cylinders": 4,
          "Displacement": 91,
          "Horsepower": 68,
          "Miles_per_Gallon": 37,
          "Name": "mazda glc custom l",
          "Origin": "Japan",
          "Weight_in_lbs": 2025,
          "Year": "1982-01-01"
         },
         {
          "Acceleration": 17.6,
          "Cylinders": 4,
          "Displacement": 91,
          "Horsepower": 68,
          "Miles_per_Gallon": 31,
          "Name": "mazda glc custom",
          "Origin": "Japan",
          "Weight_in_lbs": 1970,
          "Year": "1982-01-01"
         },
         {
          "Acceleration": 14.7,
          "Cylinders": 4,
          "Displacement": 105,
          "Horsepower": 63,
          "Miles_per_Gallon": 38,
          "Name": "plymouth horizon miser",
          "Origin": "USA",
          "Weight_in_lbs": 2125,
          "Year": "1982-01-01"
         },
         {
          "Acceleration": 17.3,
          "Cylinders": 4,
          "Displacement": 98,
          "Horsepower": 70,
          "Miles_per_Gallon": 36,
          "Name": "mercury lynx l",
          "Origin": "USA",
          "Weight_in_lbs": 2125,
          "Year": "1982-01-01"
         },
         {
          "Acceleration": 14.5,
          "Cylinders": 4,
          "Displacement": 120,
          "Horsepower": 88,
          "Miles_per_Gallon": 36,
          "Name": "nissan stanza xe",
          "Origin": "Japan",
          "Weight_in_lbs": 2160,
          "Year": "1982-01-01"
         },
         {
          "Acceleration": 14.5,
          "Cylinders": 4,
          "Displacement": 107,
          "Horsepower": 75,
          "Miles_per_Gallon": 36,
          "Name": "honda Accelerationord",
          "Origin": "Japan",
          "Weight_in_lbs": 2205,
          "Year": "1982-01-01"
         },
         {
          "Acceleration": 16.9,
          "Cylinders": 4,
          "Displacement": 108,
          "Horsepower": 70,
          "Miles_per_Gallon": 34,
          "Name": "toyota corolla",
          "Origin": "Japan",
          "Weight_in_lbs": 2245,
          "Year": "1982-01-01"
         },
         {
          "Acceleration": 15,
          "Cylinders": 4,
          "Displacement": 91,
          "Horsepower": 67,
          "Miles_per_Gallon": 38,
          "Name": "honda civic",
          "Origin": "Japan",
          "Weight_in_lbs": 1965,
          "Year": "1982-01-01"
         },
         {
          "Acceleration": 15.7,
          "Cylinders": 4,
          "Displacement": 91,
          "Horsepower": 67,
          "Miles_per_Gallon": 32,
          "Name": "honda civic (auto)",
          "Origin": "Japan",
          "Weight_in_lbs": 1965,
          "Year": "1982-01-01"
         },
         {
          "Acceleration": 16.2,
          "Cylinders": 4,
          "Displacement": 91,
          "Horsepower": 67,
          "Miles_per_Gallon": 38,
          "Name": "datsun 310 gx",
          "Origin": "Japan",
          "Weight_in_lbs": 1995,
          "Year": "1982-01-01"
         },
         {
          "Acceleration": 16.4,
          "Cylinders": 6,
          "Displacement": 181,
          "Horsepower": 110,
          "Miles_per_Gallon": 25,
          "Name": "buick century limited",
          "Origin": "USA",
          "Weight_in_lbs": 2945,
          "Year": "1982-01-01"
         },
         {
          "Acceleration": 17,
          "Cylinders": 6,
          "Displacement": 262,
          "Horsepower": 85,
          "Miles_per_Gallon": 38,
          "Name": "oldsmobile cutlass ciera (diesel)",
          "Origin": "USA",
          "Weight_in_lbs": 3015,
          "Year": "1982-01-01"
         },
         {
          "Acceleration": 14.5,
          "Cylinders": 4,
          "Displacement": 156,
          "Horsepower": 92,
          "Miles_per_Gallon": 26,
          "Name": "chrysler lebaron medallion",
          "Origin": "USA",
          "Weight_in_lbs": 2585,
          "Year": "1982-01-01"
         },
         {
          "Acceleration": 14.7,
          "Cylinders": 6,
          "Displacement": 232,
          "Horsepower": 112,
          "Miles_per_Gallon": 22,
          "Name": "ford granada l",
          "Origin": "USA",
          "Weight_in_lbs": 2835,
          "Year": "1982-01-01"
         },
         {
          "Acceleration": 13.9,
          "Cylinders": 4,
          "Displacement": 144,
          "Horsepower": 96,
          "Miles_per_Gallon": 32,
          "Name": "toyota celica gt",
          "Origin": "Japan",
          "Weight_in_lbs": 2665,
          "Year": "1982-01-01"
         },
         {
          "Acceleration": 13,
          "Cylinders": 4,
          "Displacement": 135,
          "Horsepower": 84,
          "Miles_per_Gallon": 36,
          "Name": "dodge charger 2.2",
          "Origin": "USA",
          "Weight_in_lbs": 2370,
          "Year": "1982-01-01"
         },
         {
          "Acceleration": 17.3,
          "Cylinders": 4,
          "Displacement": 151,
          "Horsepower": 90,
          "Miles_per_Gallon": 27,
          "Name": "chevrolet camaro",
          "Origin": "USA",
          "Weight_in_lbs": 2950,
          "Year": "1982-01-01"
         },
         {
          "Acceleration": 15.6,
          "Cylinders": 4,
          "Displacement": 140,
          "Horsepower": 86,
          "Miles_per_Gallon": 27,
          "Name": "ford mustang gl",
          "Origin": "USA",
          "Weight_in_lbs": 2790,
          "Year": "1982-01-01"
         },
         {
          "Acceleration": 24.6,
          "Cylinders": 4,
          "Displacement": 97,
          "Horsepower": 52,
          "Miles_per_Gallon": 44,
          "Name": "vw pickup",
          "Origin": "Europe",
          "Weight_in_lbs": 2130,
          "Year": "1982-01-01"
         },
         {
          "Acceleration": 11.6,
          "Cylinders": 4,
          "Displacement": 135,
          "Horsepower": 84,
          "Miles_per_Gallon": 32,
          "Name": "dodge rampage",
          "Origin": "USA",
          "Weight_in_lbs": 2295,
          "Year": "1982-01-01"
         },
         {
          "Acceleration": 18.6,
          "Cylinders": 4,
          "Displacement": 120,
          "Horsepower": 79,
          "Miles_per_Gallon": 28,
          "Name": "ford ranger",
          "Origin": "USA",
          "Weight_in_lbs": 2625,
          "Year": "1982-01-01"
         },
         {
          "Acceleration": 19.4,
          "Cylinders": 4,
          "Displacement": 119,
          "Horsepower": 82,
          "Miles_per_Gallon": 31,
          "Name": "chevy s-10",
          "Origin": "USA",
          "Weight_in_lbs": 2720,
          "Year": "1982-01-01"
         }
        ]
       },
       "encoding": {
        "color": {
         "field": "Cylinders",
         "type": "nominal"
        },
        "x": {
         "field": "Miles_per_Gallon",
         "type": "quantitative"
        },
        "y": {
         "field": "Horsepower",
         "type": "quantitative"
        }
       },
       "mark": "point"
      },
      "image/png": "[encoded data removed]",
      "image/svg+xml": [
       "<svg class=\"marks\" width=\"331\" height=\"242\" viewBox=\"0 0 331 242\" version=\"1.1\" xmlns=\"http://www.w3.org/2000/svg\" xmlns:xlink=\"http://www.w3.org/1999/xlink\"><g transform=\"translate(45,5)\"><g class=\"mark-group role-frame root\"><g transform=\"translate(0,0)\"><path class=\"background\" d=\"M0.5,0.5h200v200h-200Z\" style=\"fill: none; stroke: #ddd;\"></path><g><g class=\"mark-group role-axis\"><g transform=\"translate(0.5,200.5)\"><path class=\"background\" d=\"M0,0h0v0h0Z\" style=\"pointer-events: none; fill: none;\"></path><g><g class=\"mark-rule role-axis-grid\" style=\"pointer-events: none;\"><line transform=\"translate(0,-200)\" x2=\"0\" y2=\"200\" style=\"fill: none; stroke: #ddd; stroke-width: 1; opacity: 1;\"></line><line transform=\"translate(40,-200)\" x2=\"0\" y2=\"200\" style=\"fill: none; stroke: #ddd; stroke-width: 1; opacity: 1;\"></line><line transform=\"translate(80,-200)\" x2=\"0\" y2=\"200\" style=\"fill: none; stroke: #ddd; stroke-width: 1; opacity: 1;\"></line><line transform=\"translate(120,-200)\" x2=\"0\" y2=\"200\" style=\"fill: none; stroke: #ddd; stroke-width: 1; opacity: 1;\"></line><line transform=\"translate(160,-200)\" x2=\"0\" y2=\"200\" style=\"fill: none; stroke: #ddd; stroke-width: 1; opacity: 1;\"></line><line transform=\"translate(200,-200)\" x2=\"0\" y2=\"200\" style=\"fill: none; stroke: #ddd; stroke-width: 1; opacity: 1;\"></line></g></g></g></g><g class=\"mark-group role-axis\"><g transform=\"translate(0.5,0.5)\"><path class=\"background\" d=\"M0,0h0v0h0Z\" style=\"pointer-events: none; fill: none;\"></path><g><g class=\"mark-rule role-axis-grid\" style=\"pointer-events: none;\"><line transform=\"translate(0,200)\" x2=\"200\" y2=\"0\" style=\"fill: none; stroke: #ddd; stroke-width: 1; opacity: 1;\"></line><line transform=\"translate(0,158)\" x2=\"200\" y2=\"0\" style=\"fill: none; stroke: #ddd; stroke-width: 1; opacity: 1;\"></line><line transform=\"translate(0,117)\" x2=\"200\" y2=\"0\" style=\"fill: none; stroke: #ddd; stroke-width: 1; opacity: 1;\"></line><line transform=\"translate(0,75)\" x2=\"200\" y2=\"0\" style=\"fill: none; stroke: #ddd; stroke-width: 1; opacity: 1;\"></line><line transform=\"translate(0,33)\" x2=\"200\" y2=\"0\" style=\"fill: none; stroke: #ddd; stroke-width: 1; opacity: 1;\"></line></g></g></g></g><g class=\"mark-symbol role-mark marks\"><path transform=\"translate(72,91.66666666666667)\" d=\"M2.7386127875258306,0A2.7386127875258306,2.7386127875258306,0,1,1,-2.7386127875258306,0A2.7386127875258306,2.7386127875258306,0,1,1,2.7386127875258306,0\" style=\"fill: none; stroke: #54a24b; stroke-width: 2; opacity: 0.7;\"></path><path transform=\"translate(60,62.5)\" d=\"M2.7386127875258306,0A2.7386127875258306,2.7386127875258306,0,1,1,-2.7386127875258306,0A2.7386127875258306,2.7386127875258306,0,1,1,2.7386127875258306,0\" style=\"fill: none; stroke: #54a24b; stroke-width: 2; opacity: 0.7;\"></path><path transform=\"translate(72,75)\" d=\"M2.7386127875258306,0A2.7386127875258306,2.7386127875258306,0,1,1,-2.7386127875258306,0A2.7386127875258306,2.7386127875258306,0,1,1,2.7386127875258306,0\" style=\"fill: none; stroke: #54a24b; stroke-width: 2; opacity: 0.7;\"></path><path transform=\"translate(64,75)\" d=\"M2.7386127875258306,0A2.7386127875258306,2.7386127875258306,0,1,1,-2.7386127875258306,0A2.7386127875258306,2.7386127875258306,0,1,1,2.7386127875258306,0\" style=\"fill: none; stroke: #54a24b; stroke-width: 2; opacity: 0.7;\"></path><path transform=\"translate(68,83.33333333333333)\" d=\"M2.7386127875258306,0A2.7386127875258306,2.7386127875258306,0,1,1,-2.7386127875258306,0A2.7386127875258306,2.7386127875258306,0,1,1,2.7386127875258306,0\" style=\"fill: none; stroke: #54a24b; stroke-width: 2; opacity: 0.7;\"></path><path transform=\"translate(60,35.00000000000001)\" d=\"M2.7386127875258306,0A2.7386127875258306,2.7386127875258306,0,1,1,-2.7386127875258306,0A2.7386127875258306,2.7386127875258306,0,1,1,2.7386127875258306,0\" style=\"fill: none; stroke: #54a24b; stroke-width: 2; opacity: 0.7;\"></path><path transform=\"translate(56.00000000000001,16.666666666666675)\" d=\"M2.7386127875258306,0A2.7386127875258306,2.7386127875258306,0,1,1,-2.7386127875258306,0A2.7386127875258306,2.7386127875258306,0,1,1,2.7386127875258306,0\" style=\"fill: none; stroke: #54a24b; stroke-width: 2; opacity: 0.7;\"></path><path transform=\"translate(56.00000000000001,20.833333333333325)\" d=\"M2.7386127875258306,0A2.7386127875258306,2.7386127875258306,0,1,1,-2.7386127875258306,0A2.7386127875258306,2.7386127875258306,0,1,1,2.7386127875258306,0\" style=\"fill: none; stroke: #54a24b; stroke-width: 2; opacity: 0.7;\"></path><path transform=\"translate(56.00000000000001,12.5)\" d=\"M2.7386127875258306,0A2.7386127875258306,2.7386127875258306,0,1,1,-2.7386127875258306,0A2.7386127875258306,2.7386127875258306,0,1,1,2.7386127875258306,0\" style=\"fill: none; stroke: #54a24b; stroke-width: 2; opacity: 0.7;\"></path><path transform=\"translate(60,41.66666666666667)\" d=\"M2.7386127875258306,0A2.7386127875258306,2.7386127875258306,0,1,1,-2.7386127875258306,0A2.7386127875258306,2.7386127875258306,0,1,1,2.7386127875258306,0\" style=\"fill: none; stroke: #54a24b; stroke-width: 2; opacity: 0.7;\"></path><path transform=\"translate(60,58.33333333333333)\" d=\"M2.7386127875258306,0A2.7386127875258306,2.7386127875258306,0,1,1,-2.7386127875258306,0A2.7386127875258306,2.7386127875258306,0,1,1,2.7386127875258306,0\" style=\"fill: none; stroke: #54a24b; stroke-width: 2; opacity: 0.7;\"></path><path transform=\"translate(56.00000000000001,66.66666666666667)\" d=\"M2.7386127875258306,0A2.7386127875258306,2.7386127875258306,0,1,1,-2.7386127875258306,0A2.7386127875258306,2.7386127875258306,0,1,1,2.7386127875258306,0\" style=\"fill: none; stroke: #54a24b; stroke-width: 2; opacity: 0.7;\"></path><path transform=\"translate(60,75)\" d=\"M2.7386127875258306,0A2.7386127875258306,2.7386127875258306,0,1,1,-2.7386127875258306,0A2.7386127875258306,2.7386127875258306,0,1,1,2.7386127875258306,0\" style=\"fill: none; stroke: #54a24b; stroke-width: 2; opacity: 0.7;\"></path><path transform=\"translate(56.00000000000001,12.5)\" d=\"M2.7386127875258306,0A2.7386127875258306,2.7386127875258306,0,1,1,-2.7386127875258306,0A2.7386127875258306,2.7386127875258306,0,1,1,2.7386127875258306,0\" style=\"fill: none; stroke: #54a24b; stroke-width: 2; opacity: 0.7;\"></path><path transform=\"translate(96,120.83333333333334)\" d=\"M2.7386127875258306,0A2.7386127875258306,2.7386127875258306,0,1,1,-2.7386127875258306,0A2.7386127875258306,2.7386127875258306,0,1,1,2.7386127875258306,0\" style=\"fill: none; stroke: #f58518; stroke-width: 2; opacity: 0.7;\"></path><path transform=\"translate(88,120.83333333333334)\" d=\"M2.7386127875258306,0A2.7386127875258306,2.7386127875258306,0,1,1,-2.7386127875258306,0A2.7386127875258306,2.7386127875258306,0,1,1,2.7386127875258306,0\" style=\"fill: none; stroke: #72b7b2; stroke-width: 2; opacity: 0.7;\"></path><path transform=\"translate(72,119.16666666666667)\" d=\"M2.7386127875258306,0A2.7386127875258306,2.7386127875258306,0,1,1,-2.7386127875258306,0A2.7386127875258306,2.7386127875258306,0,1,1,2.7386127875258306,0\" style=\"fill: none; stroke: #72b7b2; stroke-width: 2; opacity: 0.7;\"></path><path transform=\"translate(84,129.16666666666666)\" d=\"M2.7386127875258306,0A2.7386127875258306,2.7386127875258306,0,1,1,-2.7386127875258306,0A2.7386127875258306,2.7386127875258306,0,1,1,2.7386127875258306,0\" style=\"fill: none; stroke: #72b7b2; stroke-width: 2; opacity: 0.7;\"></path><path transform=\"translate(108,126.66666666666666)\" d=\"M2.7386127875258306,0A2.7386127875258306,2.7386127875258306,0,1,1,-2.7386127875258306,0A2.7386127875258306,2.7386127875258306,0,1,1,2.7386127875258306,0\" style=\"fill: none; stroke: #f58518; stroke-width: 2; opacity: 0.7;\"></path><path transform=\"translate(104,161.66666666666666)\" d=\"M2.7386127875258306,0A2.7386127875258306,2.7386127875258306,0,1,1,-2.7386127875258306,0A2.7386127875258306,2.7386127875258306,0,1,1,2.7386127875258306,0\" style=\"fill: none; stroke: #f58518; stroke-width: 2; opacity: 0.7;\"></path><path transform=\"translate(100,127.49999999999999)\" d=\"M2.7386127875258306,0A2.7386127875258306,2.7386127875258306,0,1,1,-2.7386127875258306,0A2.7386127875258306,2.7386127875258306,0,1,1,2.7386127875258306,0\" style=\"fill: none; stroke: #f58518; stroke-width: 2; opacity: 0.7;\"></path><path transform=\"translate(96,125)\" d=\"M2.7386127875258306,0A2.7386127875258306,2.7386127875258306,0,1,1,-2.7386127875258306,0A2.7386127875258306,2.7386127875258306,0,1,1,2.7386127875258306,0\" style=\"fill: none; stroke: #f58518; stroke-width: 2; opacity: 0.7;\"></path><path transform=\"translate(100,120.83333333333334)\" d=\"M2.7386127875258306,0A2.7386127875258306,2.7386127875258306,0,1,1,-2.7386127875258306,0A2.7386127875258306,2.7386127875258306,0,1,1,2.7386127875258306,0\" style=\"fill: none; stroke: #f58518; stroke-width: 2; opacity: 0.7;\"></path><path transform=\"translate(104,105.83333333333333)\" d=\"M2.7386127875258306,0A2.7386127875258306,2.7386127875258306,0,1,1,-2.7386127875258306,0A2.7386127875258306,2.7386127875258306,0,1,1,2.7386127875258306,0\" style=\"fill: none; stroke: #f58518; stroke-width: 2; opacity: 0.7;\"></path><path transform=\"translate(84,125)\" d=\"M2.7386127875258306,0A2.7386127875258306,2.7386127875258306,0,1,1,-2.7386127875258306,0A2.7386127875258306,2.7386127875258306,0,1,1,2.7386127875258306,0\" style=\"fill: none; stroke: #72b7b2; stroke-width: 2; opacity: 0.7;\"></path><path transform=\"translate(40,20.833333333333325)\" d=\"M2.7386127875258306,0A2.7386127875258306,2.7386127875258306,0,1,1,-2.7386127875258306,0A2.7386127875258306,2.7386127875258306,0,1,1,2.7386127875258306,0\" style=\"fill: none; stroke: #54a24b; stroke-width: 2; opacity: 0.7;\"></path><path transform=\"translate(40,33.33333333333333)\" d=\"M2.7386127875258306,0A2.7386127875258306,2.7386127875258306,0,1,1,-2.7386127875258306,0A2.7386127875258306,2.7386127875258306,0,1,1,2.7386127875258306,0\" style=\"fill: none; stroke: #54a24b; stroke-width: 2; opacity: 0.7;\"></path><path transform=\"translate(44,25)\" d=\"M2.7386127875258306,0A2.7386127875258306,2.7386127875258306,0,1,1,-2.7386127875258306,0A2.7386127875258306,2.7386127875258306,0,1,1,2.7386127875258306,0\" style=\"fill: none; stroke: #54a24b; stroke-width: 2; opacity: 0.7;\"></path><path transform=\"translate(36,39.16666666666666)\" d=\"M2.7386127875258306,0A2.7386127875258306,2.7386127875258306,0,1,1,-2.7386127875258306,0A2.7386127875258306,2.7386127875258306,0,1,1,2.7386127875258306,0\" style=\"fill: none; stroke: #54a24b; stroke-width: 2; opacity: 0.7;\"></path><path transform=\"translate(108,126.66666666666666)\" d=\"M2.7386127875258306,0A2.7386127875258306,2.7386127875258306,0,1,1,-2.7386127875258306,0A2.7386127875258306,2.7386127875258306,0,1,1,2.7386127875258306,0\" style=\"fill: none; stroke: #f58518; stroke-width: 2; opacity: 0.7;\"></path><path transform=\"translate(112.00000000000001,125)\" d=\"M2.7386127875258306,0A2.7386127875258306,2.7386127875258306,0,1,1,-2.7386127875258306,0A2.7386127875258306,2.7386127875258306,0,1,1,2.7386127875258306,0\" style=\"fill: none; stroke: #f58518; stroke-width: 2; opacity: 0.7;\"></path><path transform=\"translate(100,120.83333333333334)\" d=\"M2.7386127875258306,0A2.7386127875258306,2.7386127875258306,0,1,1,-2.7386127875258306,0A2.7386127875258306,2.7386127875258306,0,1,1,2.7386127875258306,0\" style=\"fill: none; stroke: #f58518; stroke-width: 2; opacity: 0.7;\"></path><path transform=\"translate(76,116.66666666666666)\" d=\"M2.7386127875258306,0A2.7386127875258306,2.7386127875258306,0,1,1,-2.7386127875258306,0A2.7386127875258306,2.7386127875258306,0,1,1,2.7386127875258306,0\" style=\"fill: none; stroke: #72b7b2; stroke-width: 2; opacity: 0.7;\"></path><path transform=\"translate(64,112.5)\" d=\"M2.7386127875258306,0A2.7386127875258306,2.7386127875258306,0,1,1,-2.7386127875258306,0A2.7386127875258306,2.7386127875258306,0,1,1,2.7386127875258306,0\" style=\"fill: none; stroke: #72b7b2; stroke-width: 2; opacity: 0.7;\"></path><path transform=\"translate(68,116.66666666666666)\" d=\"M2.7386127875258306,0A2.7386127875258306,2.7386127875258306,0,1,1,-2.7386127875258306,0A2.7386127875258306,2.7386127875258306,0,1,1,2.7386127875258306,0\" style=\"fill: none; stroke: #72b7b2; stroke-width: 2; opacity: 0.7;\"></path><path transform=\"translate(76,126.66666666666666)\" d=\"M2.7386127875258306,0A2.7386127875258306,2.7386127875258306,0,1,1,-2.7386127875258306,0A2.7386127875258306,2.7386127875258306,0,1,1,2.7386127875258306,0\" style=\"fill: none; stroke: #72b7b2; stroke-width: 2; opacity: 0.7;\"></path><path transform=\"translate(72,116.66666666666666)\" d=\"M2.7386127875258306,0A2.7386127875258306,2.7386127875258306,0,1,1,-2.7386127875258306,0A2.7386127875258306,2.7386127875258306,0,1,1,2.7386127875258306,0\" style=\"fill: none; stroke: #72b7b2; stroke-width: 2; opacity: 0.7;\"></path><path transform=\"translate(56.00000000000001,62.5)\" d=\"M2.7386127875258306,0A2.7386127875258306,2.7386127875258306,0,1,1,-2.7386127875258306,0A2.7386127875258306,2.7386127875258306,0,1,1,2.7386127875258306,0\" style=\"fill: none; stroke: #54a24b; stroke-width: 2; opacity: 0.7;\"></path><path transform=\"translate(56.00000000000001,54.16666666666667)\" d=\"M2.7386127875258306,0A2.7386127875258306,2.7386127875258306,0,1,1,-2.7386127875258306,0A2.7386127875258306,2.7386127875258306,0,1,1,2.7386127875258306,0\" style=\"fill: none; stroke: #54a24b; stroke-width: 2; opacity: 0.7;\"></path><path transform=\"translate(56.00000000000001,72.50000000000001)\" d=\"M2.7386127875258306,0A2.7386127875258306,2.7386127875258306,0,1,1,-2.7386127875258306,0A2.7386127875258306,2.7386127875258306,0,1,1,2.7386127875258306,0\" style=\"fill: none; stroke: #54a24b; stroke-width: 2; opacity: 0.7;\"></path><path transform=\"translate(56.00000000000001,75)\" d=\"M2.7386127875258306,0A2.7386127875258306,2.7386127875258306,0,1,1,-2.7386127875258306,0A2.7386127875258306,2.7386127875258306,0,1,1,2.7386127875258306,0\" style=\"fill: none; stroke: #54a24b; stroke-width: 2; opacity: 0.7;\"></path><path transform=\"translate(48,50)\" d=\"M2.7386127875258306,0A2.7386127875258306,2.7386127875258306,0,1,1,-2.7386127875258306,0A2.7386127875258306,2.7386127875258306,0,1,1,2.7386127875258306,0\" style=\"fill: none; stroke: #54a24b; stroke-width: 2; opacity: 0.7;\"></path><path transform=\"translate(52,58.33333333333333)\" d=\"M2.7386127875258306,0A2.7386127875258306,2.7386127875258306,0,1,1,-2.7386127875258306,0A2.7386127875258306,2.7386127875258306,0,1,1,2.7386127875258306,0\" style=\"fill: none; stroke: #54a24b; stroke-width: 2; opacity: 0.7;\"></path><path transform=\"translate(52,54.16666666666667)\" d=\"M2.7386127875258306,0A2.7386127875258306,2.7386127875258306,0,1,1,-2.7386127875258306,0A2.7386127875258306,2.7386127875258306,0,1,1,2.7386127875258306,0\" style=\"fill: none; stroke: #54a24b; stroke-width: 2; opacity: 0.7;\"></path><path transform=\"translate(72,108.33333333333334)\" d=\"M2.7386127875258306,0A2.7386127875258306,2.7386127875258306,0,1,1,-2.7386127875258306,0A2.7386127875258306,2.7386127875258306,0,1,1,2.7386127875258306,0\" style=\"fill: none; stroke: #72b7b2; stroke-width: 2; opacity: 0.7;\"></path><path transform=\"translate(88,140)\" d=\"M2.7386127875258306,0A2.7386127875258306,2.7386127875258306,0,1,1,-2.7386127875258306,0A2.7386127875258306,2.7386127875258306,0,1,1,2.7386127875258306,0\" style=\"fill: none; stroke: #f58518; stroke-width: 2; opacity: 0.7;\"></path><path transform=\"translate(76,116.66666666666666)\" d=\"M2.7386127875258306,0A2.7386127875258306,2.7386127875258306,0,1,1,-2.7386127875258306,0A2.7386127875258306,2.7386127875258306,0,1,1,2.7386127875258306,0\" style=\"fill: none; stroke: #72b7b2; stroke-width: 2; opacity: 0.7;\"></path><path transform=\"translate(72,126.66666666666666)\" d=\"M2.7386127875258306,0A2.7386127875258306,2.7386127875258306,0,1,1,-2.7386127875258306,0A2.7386127875258306,2.7386127875258306,0,1,1,2.7386127875258306,0\" style=\"fill: none; stroke: #72b7b2; stroke-width: 2; opacity: 0.7;\"></path><path transform=\"translate(92,128.33333333333331)\" d=\"M2.7386127875258306,0A2.7386127875258306,2.7386127875258306,0,1,1,-2.7386127875258306,0A2.7386127875258306,2.7386127875258306,0,1,1,2.7386127875258306,0\" style=\"fill: none; stroke: #f58518; stroke-width: 2; opacity: 0.7;\"></path><path transform=\"translate(112.00000000000001,125)\" d=\"M2.7386127875258306,0A2.7386127875258306,2.7386127875258306,0,1,1,-2.7386127875258306,0A2.7386127875258306,2.7386127875258306,0,1,1,2.7386127875258306,0\" style=\"fill: none; stroke: #f58518; stroke-width: 2; opacity: 0.7;\"></path><path transform=\"translate(120,141.66666666666666)\" d=\"M2.7386127875258306,0A2.7386127875258306,2.7386127875258306,0,1,1,-2.7386127875258306,0A2.7386127875258306,2.7386127875258306,0,1,1,2.7386127875258306,0\" style=\"fill: none; stroke: #f58518; stroke-width: 2; opacity: 0.7;\"></path><path transform=\"translate(120,136.66666666666666)\" d=\"M2.7386127875258306,0A2.7386127875258306,2.7386127875258306,0,1,1,-2.7386127875258306,0A2.7386127875258306,2.7386127875258306,0,1,1,2.7386127875258306,0\" style=\"fill: none; stroke: #f58518; stroke-width: 2; opacity: 0.7;\"></path><path transform=\"translate(124,145.83333333333334)\" d=\"M2.7386127875258306,0A2.7386127875258306,2.7386127875258306,0,1,1,-2.7386127875258306,0A2.7386127875258306,2.7386127875258306,0,1,1,2.7386127875258306,0\" style=\"fill: none; stroke: #f58518; stroke-width: 2; opacity: 0.7;\"></path><path transform=\"translate(140,142.5)\" d=\"M2.7386127875258306,0A2.7386127875258306,2.7386127875258306,0,1,1,-2.7386127875258306,0A2.7386127875258306,2.7386127875258306,0,1,1,2.7386127875258306,0\" style=\"fill: none; stroke: #f58518; stroke-width: 2; opacity: 0.7;\"></path><path transform=\"translate(108,150)\" d=\"M2.7386127875258306,0A2.7386127875258306,2.7386127875258306,0,1,1,-2.7386127875258306,0A2.7386127875258306,2.7386127875258306,0,1,1,2.7386127875258306,0\" style=\"fill: none; stroke: #f58518; stroke-width: 2; opacity: 0.7;\"></path><path transform=\"translate(104,141.66666666666666)\" d=\"M2.7386127875258306,0A2.7386127875258306,2.7386127875258306,0,1,1,-2.7386127875258306,0A2.7386127875258306,2.7386127875258306,0,1,1,2.7386127875258306,0\" style=\"fill: none; stroke: #f58518; stroke-width: 2; opacity: 0.7;\"></path><path transform=\"translate(96,120.83333333333334)\" d=\"M2.7386127875258306,0A2.7386127875258306,2.7386127875258306,0,1,1,-2.7386127875258306,0A2.7386127875258306,2.7386127875258306,0,1,1,2.7386127875258306,0\" style=\"fill: none; stroke: #f58518; stroke-width: 2; opacity: 0.7;\"></path><path transform=\"translate(100,133.33333333333334)\" d=\"M2.7386127875258306,0A2.7386127875258306,2.7386127875258306,0,1,1,-2.7386127875258306,0A2.7386127875258306,2.7386127875258306,0,1,1,2.7386127875258306,0\" style=\"fill: none; stroke: #f58518; stroke-width: 2; opacity: 0.7;\"></path><path transform=\"translate(92,155)\" d=\"M2.7386127875258306,0A2.7386127875258306,2.7386127875258306,0,1,1,-2.7386127875258306,0A2.7386127875258306,2.7386127875258306,0,1,1,2.7386127875258306,0\" style=\"fill: none; stroke: #f58518; stroke-width: 2; opacity: 0.7;\"></path><path transform=\"translate(80,125)\" d=\"M2.7386127875258306,0A2.7386127875258306,2.7386127875258306,0,1,1,-2.7386127875258306,0A2.7386127875258306,2.7386127875258306,0,1,1,2.7386127875258306,0\" style=\"fill: none; stroke: #f58518; stroke-width: 2; opacity: 0.7;\"></path><path transform=\"translate(84,128.33333333333331)\" d=\"M2.7386127875258306,0A2.7386127875258306,2.7386127875258306,0,1,1,-2.7386127875258306,0A2.7386127875258306,2.7386127875258306,0,1,1,2.7386127875258306,0\" style=\"fill: none; stroke: #f58518; stroke-width: 2; opacity: 0.7;\"></path><path transform=\"translate(52,62.5)\" d=\"M2.7386127875258306,0A2.7386127875258306,2.7386127875258306,0,1,1,-2.7386127875258306,0A2.7386127875258306,2.7386127875258306,0,1,1,2.7386127875258306,0\" style=\"fill: none; stroke: #54a24b; stroke-width: 2; opacity: 0.7;\"></path><path transform=\"translate(56.00000000000001,54.16666666666667)\" d=\"M2.7386127875258306,0A2.7386127875258306,2.7386127875258306,0,1,1,-2.7386127875258306,0A2.7386127875258306,2.7386127875258306,0,1,1,2.7386127875258306,0\" style=\"fill: none; stroke: #54a24b; stroke-width: 2; opacity: 0.7;\"></path><path transform=\"translate(60,75)\" d=\"M2.7386127875258306,0A2.7386127875258306,2.7386127875258306,0,1,1,-2.7386127875258306,0A2.7386127875258306,2.7386127875258306,0,1,1,2.7386127875258306,0\" style=\"fill: none; stroke: #54a24b; stroke-width: 2; opacity: 0.7;\"></path><path transform=\"translate(56.00000000000001,72.50000000000001)\" d=\"M2.7386127875258306,0A2.7386127875258306,2.7386127875258306,0,1,1,-2.7386127875258306,0A2.7386127875258306,2.7386127875258306,0,1,1,2.7386127875258306,0\" style=\"fill: none; stroke: #54a24b; stroke-width: 2; opacity: 0.7;\"></path><path transform=\"translate(68,75)\" d=\"M2.7386127875258306,0A2.7386127875258306,2.7386127875258306,0,1,1,-2.7386127875258306,0A2.7386127875258306,2.7386127875258306,0,1,1,2.7386127875258306,0\" style=\"fill: none; stroke: #54a24b; stroke-width: 2; opacity: 0.7;\"></path><path transform=\"translate(44,26.66666666666666)\" d=\"M2.7386127875258306,0A2.7386127875258306,2.7386127875258306,0,1,1,-2.7386127875258306,0A2.7386127875258306,2.7386127875258306,0,1,1,2.7386127875258306,0\" style=\"fill: none; stroke: #54a24b; stroke-width: 2; opacity: 0.7;\"></path><path transform=\"translate(52,70.83333333333333)\" d=\"M2.7386127875258306,0A2.7386127875258306,2.7386127875258306,0,1,1,-2.7386127875258306,0A2.7386127875258306,2.7386127875258306,0,1,1,2.7386127875258306,0\" style=\"fill: none; stroke: #54a24b; stroke-width: 2; opacity: 0.7;\"></path><path transform=\"translate(48,66.66666666666667)\" d=\"M2.7386127875258306,0A2.7386127875258306,2.7386127875258306,0,1,1,-2.7386127875258306,0A2.7386127875258306,2.7386127875258306,0,1,1,2.7386127875258306,0\" style=\"fill: none; stroke: #54a24b; stroke-width: 2; opacity: 0.7;\"></path><path transform=\"translate(52,41.66666666666667)\" d=\"M2.7386127875258306,0A2.7386127875258306,2.7386127875258306,0,1,1,-2.7386127875258306,0A2.7386127875258306,2.7386127875258306,0,1,1,2.7386127875258306,0\" style=\"fill: none; stroke: #54a24b; stroke-width: 2; opacity: 0.7;\"></path><path transform=\"translate(76,119.16666666666667)\" d=\"M2.7386127875258306,0A2.7386127875258306,2.7386127875258306,0,1,1,-2.7386127875258306,0A2.7386127875258306,2.7386127875258306,0,1,1,2.7386127875258306,0\" style=\"fill: none; stroke: #4c78a8; stroke-width: 2; opacity: 0.7;\"></path><path transform=\"translate(60,75)\" d=\"M2.7386127875258306,0A2.7386127875258306,2.7386127875258306,0,1,1,-2.7386127875258306,0A2.7386127875258306,2.7386127875258306,0,1,1,2.7386127875258306,0\" style=\"fill: none; stroke: #54a24b; stroke-width: 2; opacity: 0.7;\"></path><path transform=\"translate(52,91.66666666666667)\" d=\"M2.7386127875258306,0A2.7386127875258306,2.7386127875258306,0,1,1,-2.7386127875258306,0A2.7386127875258306,2.7386127875258306,0,1,1,2.7386127875258306,0\" style=\"fill: none; stroke: #54a24b; stroke-width: 2; opacity: 0.7;\"></path><path transform=\"translate(52,83.33333333333333)\" d=\"M2.7386127875258306,0A2.7386127875258306,2.7386127875258306,0,1,1,-2.7386127875258306,0A2.7386127875258306,2.7386127875258306,0,1,1,2.7386127875258306,0\" style=\"fill: none; stroke: #54a24b; stroke-width: 2; opacity: 0.7;\"></path><path transform=\"translate(56.00000000000001,75)\" d=\"M2.7386127875258306,0A2.7386127875258306,2.7386127875258306,0,1,1,-2.7386127875258306,0A2.7386127875258306,2.7386127875258306,0,1,1,2.7386127875258306,0\" style=\"fill: none; stroke: #54a24b; stroke-width: 2; opacity: 0.7;\"></path><path transform=\"translate(72,106.66666666666667)\" d=\"M2.7386127875258306,0A2.7386127875258306,2.7386127875258306,0,1,1,-2.7386127875258306,0A2.7386127875258306,2.7386127875258306,0,1,1,2.7386127875258306,0\" style=\"fill: none; stroke: #f58518; stroke-width: 2; opacity: 0.7;\"></path><path transform=\"translate(88,136.66666666666666)\" d=\"M2.7386127875258306,0A2.7386127875258306,2.7386127875258306,0,1,1,-2.7386127875258306,0A2.7386127875258306,2.7386127875258306,0,1,1,2.7386127875258306,0\" style=\"fill: none; stroke: #f58518; stroke-width: 2; opacity: 0.7;\"></path><path transform=\"translate(84,127.49999999999999)\" d=\"M2.7386127875258306,0A2.7386127875258306,2.7386127875258306,0,1,1,-2.7386127875258306,0A2.7386127875258306,2.7386127875258306,0,1,1,2.7386127875258306,0\" style=\"fill: none; stroke: #f58518; stroke-width: 2; opacity: 0.7;\"></path><path transform=\"translate(104,142.5)\" d=\"M2.7386127875258306,0A2.7386127875258306,2.7386127875258306,0,1,1,-2.7386127875258306,0A2.7386127875258306,2.7386127875258306,0,1,1,2.7386127875258306,0\" style=\"fill: none; stroke: #f58518; stroke-width: 2; opacity: 0.7;\"></path><path transform=\"translate(88,128.33333333333331)\" d=\"M2.7386127875258306,0A2.7386127875258306,2.7386127875258306,0,1,1,-2.7386127875258306,0A2.7386127875258306,2.7386127875258306,0,1,1,2.7386127875258306,0\" style=\"fill: none; stroke: #f58518; stroke-width: 2; opacity: 0.7;\"></path><path transform=\"translate(112.00000000000001,123.33333333333334)\" d=\"M2.7386127875258306,0A2.7386127875258306,2.7386127875258306,0,1,1,-2.7386127875258306,0A2.7386127875258306,2.7386127875258306,0,1,1,2.7386127875258306,0\" style=\"fill: none; stroke: #f58518; stroke-width: 2; opacity: 0.7;\"></path><path transform=\"translate(92,119.16666666666667)\" d=\"M2.7386127875258306,0A2.7386127875258306,2.7386127875258306,0,1,1,-2.7386127875258306,0A2.7386127875258306,2.7386127875258306,0,1,1,2.7386127875258306,0\" style=\"fill: none; stroke: #f58518; stroke-width: 2; opacity: 0.7;\"></path><path transform=\"translate(112.00000000000001,133.33333333333334)\" d=\"M2.7386127875258306,0A2.7386127875258306,2.7386127875258306,0,1,1,-2.7386127875258306,0A2.7386127875258306,2.7386127875258306,0,1,1,2.7386127875258306,0\" style=\"fill: none; stroke: #f58518; stroke-width: 2; opacity: 0.7;\"></path><path transform=\"translate(108,126.66666666666666)\" d=\"M2.7386127875258306,0A2.7386127875258306,2.7386127875258306,0,1,1,-2.7386127875258306,0A2.7386127875258306,2.7386127875258306,0,1,1,2.7386127875258306,0\" style=\"fill: none; stroke: #f58518; stroke-width: 2; opacity: 0.7;\"></path><path transform=\"translate(52,54.16666666666667)\" d=\"M2.7386127875258306,0A2.7386127875258306,2.7386127875258306,0,1,1,-2.7386127875258306,0A2.7386127875258306,2.7386127875258306,0,1,1,2.7386127875258306,0\" style=\"fill: none; stroke: #54a24b; stroke-width: 2; opacity: 0.7;\"></path><path transform=\"translate(56.00000000000001,75)\" d=\"M2.7386127875258306,0A2.7386127875258306,2.7386127875258306,0,1,1,-2.7386127875258306,0A2.7386127875258306,2.7386127875258306,0,1,1,2.7386127875258306,0\" style=\"fill: none; stroke: #54a24b; stroke-width: 2; opacity: 0.7;\"></path><path transform=\"translate(52,79.16666666666667)\" d=\"M2.7386127875258306,0A2.7386127875258306,2.7386127875258306,0,1,1,-2.7386127875258306,0A2.7386127875258306,2.7386127875258306,0,1,1,2.7386127875258306,0\" style=\"fill: none; stroke: #54a24b; stroke-width: 2; opacity: 0.7;\"></path><path transform=\"translate(56.00000000000001,85.83333333333334)\" d=\"M2.7386127875258306,0A2.7386127875258306,2.7386127875258306,0,1,1,-2.7386127875258306,0A2.7386127875258306,2.7386127875258306,0,1,1,2.7386127875258306,0\" style=\"fill: none; stroke: #54a24b; stroke-width: 2; opacity: 0.7;\"></path><path transform=\"translate(60,75)\" d=\"M2.7386127875258306,0A2.7386127875258306,2.7386127875258306,0,1,1,-2.7386127875258306,0A2.7386127875258306,2.7386127875258306,0,1,1,2.7386127875258306,0\" style=\"fill: none; stroke: #54a24b; stroke-width: 2; opacity: 0.7;\"></path><path transform=\"translate(48,35.00000000000001)\" d=\"M2.7386127875258306,0A2.7386127875258306,2.7386127875258306,0,1,1,-2.7386127875258306,0A2.7386127875258306,2.7386127875258306,0,1,1,2.7386127875258306,0\" style=\"fill: none; stroke: #54a24b; stroke-width: 2; opacity: 0.7;\"></path><path transform=\"translate(52,75)\" d=\"M2.7386127875258306,0A2.7386127875258306,2.7386127875258306,0,1,1,-2.7386127875258306,0A2.7386127875258306,2.7386127875258306,0,1,1,2.7386127875258306,0\" style=\"fill: none; stroke: #54a24b; stroke-width: 2; opacity: 0.7;\"></path><path transform=\"translate(52,68.33333333333333)\" d=\"M2.7386127875258306,0A2.7386127875258306,2.7386127875258306,0,1,1,-2.7386127875258306,0A2.7386127875258306,2.7386127875258306,0,1,1,2.7386127875258306,0\" style=\"fill: none; stroke: #54a24b; stroke-width: 2; opacity: 0.7;\"></path><path transform=\"translate(56.00000000000001,75)\" d=\"M2.7386127875258306,0A2.7386127875258306,2.7386127875258306,0,1,1,-2.7386127875258306,0A2.7386127875258306,2.7386127875258306,0,1,1,2.7386127875258306,0\" style=\"fill: none; stroke: #54a24b; stroke-width: 2; opacity: 0.7;\"></path><path transform=\"translate(52,20.833333333333325)\" d=\"M2.7386127875258306,0A2.7386127875258306,2.7386127875258306,0,1,1,-2.7386127875258306,0A2.7386127875258306,2.7386127875258306,0,1,1,2.7386127875258306,0\" style=\"fill: none; stroke: #54a24b; stroke-width: 2; opacity: 0.7;\"></path><path transform=\"translate(48,12.5)\" d=\"M2.7386127875258306,0A2.7386127875258306,2.7386127875258306,0,1,1,-2.7386127875258306,0A2.7386127875258306,2.7386127875258306,0,1,1,2.7386127875258306,0\" style=\"fill: none; stroke: #54a24b; stroke-width: 2; opacity: 0.7;\"></path><path transform=\"translate(52,54.16666666666667)\" d=\"M2.7386127875258306,0A2.7386127875258306,2.7386127875258306,0,1,1,-2.7386127875258306,0A2.7386127875258306,2.7386127875258306,0,1,1,2.7386127875258306,0\" style=\"fill: none; stroke: #54a24b; stroke-width: 2; opacity: 0.7;\"></path><path transform=\"translate(72,112.5)\" d=\"M2.7386127875258306,0A2.7386127875258306,2.7386127875258306,0,1,1,-2.7386127875258306,0A2.7386127875258306,2.7386127875258306,0,1,1,2.7386127875258306,0\" style=\"fill: none; stroke: #72b7b2; stroke-width: 2; opacity: 0.7;\"></path><path transform=\"translate(64,116.66666666666666)\" d=\"M2.7386127875258306,0A2.7386127875258306,2.7386127875258306,0,1,1,-2.7386127875258306,0A2.7386127875258306,2.7386127875258306,0,1,1,2.7386127875258306,0\" style=\"fill: none; stroke: #72b7b2; stroke-width: 2; opacity: 0.7;\"></path><path transform=\"translate(72,116.66666666666666)\" d=\"M2.7386127875258306,0A2.7386127875258306,2.7386127875258306,0,1,1,-2.7386127875258306,0A2.7386127875258306,2.7386127875258306,0,1,1,2.7386127875258306,0\" style=\"fill: none; stroke: #72b7b2; stroke-width: 2; opacity: 0.7;\"></path><path transform=\"translate(72,126.66666666666666)\" d=\"M2.7386127875258306,0A2.7386127875258306,2.7386127875258306,0,1,1,-2.7386127875258306,0A2.7386127875258306,2.7386127875258306,0,1,1,2.7386127875258306,0\" style=\"fill: none; stroke: #72b7b2; stroke-width: 2; opacity: 0.7;\"></path><path transform=\"translate(92,120.83333333333334)\" d=\"M2.7386127875258306,0A2.7386127875258306,2.7386127875258306,0,1,1,-2.7386127875258306,0A2.7386127875258306,2.7386127875258306,0,1,1,2.7386127875258306,0\" style=\"fill: none; stroke: #72b7b2; stroke-width: 2; opacity: 0.7;\"></path><path transform=\"translate(104,161.66666666666666)\" d=\"M2.7386127875258306,0A2.7386127875258306,2.7386127875258306,0,1,1,-2.7386127875258306,0A2.7386127875258306,2.7386127875258306,0,1,1,2.7386127875258306,0\" style=\"fill: none; stroke: #f58518; stroke-width: 2; opacity: 0.7;\"></path><path transform=\"translate(44,75)\" d=\"M2.7386127875258306,0A2.7386127875258306,2.7386127875258306,0,1,1,-2.7386127875258306,0A2.7386127875258306,2.7386127875258306,0,1,1,2.7386127875258306,0\" style=\"fill: none; stroke: #54a24b; stroke-width: 2; opacity: 0.7;\"></path><path transform=\"translate(48,60.83333333333334)\" d=\"M2.7386127875258306,0A2.7386127875258306,2.7386127875258306,0,1,1,-2.7386127875258306,0A2.7386127875258306,2.7386127875258306,0,1,1,2.7386127875258306,0\" style=\"fill: none; stroke: #54a24b; stroke-width: 2; opacity: 0.7;\"></path><path transform=\"translate(52,58.33333333333333)\" d=\"M2.7386127875258306,0A2.7386127875258306,2.7386127875258306,0,1,1,-2.7386127875258306,0A2.7386127875258306,2.7386127875258306,0,1,1,2.7386127875258306,0\" style=\"fill: none; stroke: #54a24b; stroke-width: 2; opacity: 0.7;\"></path><path transform=\"translate(48,50)\" d=\"M2.7386127875258306,0A2.7386127875258306,2.7386127875258306,0,1,1,-2.7386127875258306,0A2.7386127875258306,2.7386127875258306,0,1,1,2.7386127875258306,0\" style=\"fill: none; stroke: #54a24b; stroke-width: 2; opacity: 0.7;\"></path><path transform=\"translate(72,116.66666666666666)\" d=\"M2.7386127875258306,0A2.7386127875258306,2.7386127875258306,0,1,1,-2.7386127875258306,0A2.7386127875258306,2.7386127875258306,0,1,1,2.7386127875258306,0\" style=\"fill: none; stroke: #72b7b2; stroke-width: 2; opacity: 0.7;\"></path><path transform=\"translate(80,126.66666666666666)\" d=\"M2.7386127875258306,0A2.7386127875258306,2.7386127875258306,0,1,1,-2.7386127875258306,0A2.7386127875258306,2.7386127875258306,0,1,1,2.7386127875258306,0\" style=\"fill: none; stroke: #f58518; stroke-width: 2; opacity: 0.7;\"></path><path transform=\"translate(84,140)\" d=\"M2.7386127875258306,0A2.7386127875258306,2.7386127875258306,0,1,1,-2.7386127875258306,0A2.7386127875258306,2.7386127875258306,0,1,1,2.7386127875258306,0\" style=\"fill: none; stroke: #f58518; stroke-width: 2; opacity: 0.7;\"></path><path transform=\"translate(88,121.66666666666669)\" d=\"M2.7386127875258306,0A2.7386127875258306,2.7386127875258306,0,1,1,-2.7386127875258306,0A2.7386127875258306,2.7386127875258306,0,1,1,2.7386127875258306,0\" style=\"fill: none; stroke: #f58518; stroke-width: 2; opacity: 0.7;\"></path><path transform=\"translate(72,125)\" d=\"M2.7386127875258306,0A2.7386127875258306,2.7386127875258306,0,1,1,-2.7386127875258306,0A2.7386127875258306,2.7386127875258306,0,1,1,2.7386127875258306,0\" style=\"fill: none; stroke: #4c78a8; stroke-width: 2; opacity: 0.7;\"></path><path transform=\"translate(76,129.16666666666666)\" d=\"M2.7386127875258306,0A2.7386127875258306,2.7386127875258306,0,1,1,-2.7386127875258306,0A2.7386127875258306,2.7386127875258306,0,1,1,2.7386127875258306,0\" style=\"fill: none; stroke: #f58518; stroke-width: 2; opacity: 0.7;\"></path><path transform=\"translate(84,110.83333333333334)\" d=\"M2.7386127875258306,0A2.7386127875258306,2.7386127875258306,0,1,1,-2.7386127875258306,0A2.7386127875258306,2.7386127875258306,0,1,1,2.7386127875258306,0\" style=\"fill: none; stroke: #72b7b2; stroke-width: 2; opacity: 0.7;\"></path><path transform=\"translate(104,125)\" d=\"M2.7386127875258306,0A2.7386127875258306,2.7386127875258306,0,1,1,-2.7386127875258306,0A2.7386127875258306,2.7386127875258306,0,1,1,2.7386127875258306,0\" style=\"fill: none; stroke: #f58518; stroke-width: 2; opacity: 0.7;\"></path><path transform=\"translate(60,79.16666666666667)\" d=\"M2.7386127875258306,0A2.7386127875258306,2.7386127875258306,0,1,1,-2.7386127875258306,0A2.7386127875258306,2.7386127875258306,0,1,1,2.7386127875258306,0\" style=\"fill: none; stroke: #54a24b; stroke-width: 2; opacity: 0.7;\"></path><path transform=\"translate(64,8.333333333333325)\" d=\"M2.7386127875258306,0A2.7386127875258306,2.7386127875258306,0,1,1,-2.7386127875258306,0A2.7386127875258306,2.7386127875258306,0,1,1,2.7386127875258306,0\" style=\"fill: none; stroke: #54a24b; stroke-width: 2; opacity: 0.7;\"></path><path transform=\"translate(115.99999999999999,159.16666666666669)\" d=\"M2.7386127875258306,0A2.7386127875258306,2.7386127875258306,0,1,1,-2.7386127875258306,0A2.7386127875258306,2.7386127875258306,0,1,1,2.7386127875258306,0\" style=\"fill: none; stroke: #f58518; stroke-width: 2; opacity: 0.7;\"></path><path transform=\"translate(96,137.5)\" d=\"M2.7386127875258306,0A2.7386127875258306,2.7386127875258306,0,1,1,-2.7386127875258306,0A2.7386127875258306,2.7386127875258306,0,1,1,2.7386127875258306,0\" style=\"fill: none; stroke: #f58518; stroke-width: 2; opacity: 0.7;\"></path><path transform=\"translate(80,124.16666666666667)\" d=\"M2.7386127875258306,0A2.7386127875258306,2.7386127875258306,0,1,1,-2.7386127875258306,0A2.7386127875258306,2.7386127875258306,0,1,1,2.7386127875258306,0\" style=\"fill: none; stroke: #f58518; stroke-width: 2; opacity: 0.7;\"></path><path transform=\"translate(76,106.66666666666667)\" d=\"M2.7386127875258306,0A2.7386127875258306,2.7386127875258306,0,1,1,-2.7386127875258306,0A2.7386127875258306,2.7386127875258306,0,1,1,2.7386127875258306,0\" style=\"fill: none; stroke: #f58518; stroke-width: 2; opacity: 0.7;\"></path><path transform=\"translate(60,75)\" d=\"M2.7386127875258306,0A2.7386127875258306,2.7386127875258306,0,1,1,-2.7386127875258306,0A2.7386127875258306,2.7386127875258306,0,1,1,2.7386127875258306,0\" style=\"fill: none; stroke: #54a24b; stroke-width: 2; opacity: 0.7;\"></path><path transform=\"translate(96,108.33333333333334)\" d=\"M2.7386127875258306,0A2.7386127875258306,2.7386127875258306,0,1,1,-2.7386127875258306,0A2.7386127875258306,2.7386127875258306,0,1,1,2.7386127875258306,0\" style=\"fill: none; stroke: #f58518; stroke-width: 2; opacity: 0.7;\"></path><path transform=\"translate(80,98.33333333333334)\" d=\"M2.7386127875258306,0A2.7386127875258306,2.7386127875258306,0,1,1,-2.7386127875258306,0A2.7386127875258306,2.7386127875258306,0,1,1,2.7386127875258306,0\" style=\"fill: none; stroke: #72b7b2; stroke-width: 2; opacity: 0.7;\"></path><path transform=\"translate(44,50)\" d=\"M2.7386127875258306,0A2.7386127875258306,2.7386127875258306,0,1,1,-2.7386127875258306,0A2.7386127875258306,2.7386127875258306,0,1,1,2.7386127875258306,0\" style=\"fill: none; stroke: #54a24b; stroke-width: 2; opacity: 0.7;\"></path><path transform=\"translate(80,120.83333333333334)\" d=\"M2.7386127875258306,0A2.7386127875258306,2.7386127875258306,0,1,1,-2.7386127875258306,0A2.7386127875258306,2.7386127875258306,0,1,1,2.7386127875258306,0\" style=\"fill: none; stroke: #72b7b2; stroke-width: 2; opacity: 0.7;\"></path><path transform=\"translate(76,116.66666666666666)\" d=\"M2.7386127875258306,0A2.7386127875258306,2.7386127875258306,0,1,1,-2.7386127875258306,0A2.7386127875258306,2.7386127875258306,0,1,1,2.7386127875258306,0\" style=\"fill: none; stroke: #72b7b2; stroke-width: 2; opacity: 0.7;\"></path><path transform=\"translate(60,116.66666666666666)\" d=\"M2.7386127875258306,0A2.7386127875258306,2.7386127875258306,0,1,1,-2.7386127875258306,0A2.7386127875258306,2.7386127875258306,0,1,1,2.7386127875258306,0\" style=\"fill: none; stroke: #72b7b2; stroke-width: 2; opacity: 0.7;\"></path><path transform=\"translate(124,144.16666666666666)\" d=\"M2.7386127875258306,0A2.7386127875258306,2.7386127875258306,0,1,1,-2.7386127875258306,0A2.7386127875258306,2.7386127875258306,0,1,1,2.7386127875258306,0\" style=\"fill: none; stroke: #f58518; stroke-width: 2; opacity: 0.7;\"></path><path transform=\"translate(104,133.33333333333334)\" d=\"M2.7386127875258306,0A2.7386127875258306,2.7386127875258306,0,1,1,-2.7386127875258306,0A2.7386127875258306,2.7386127875258306,0,1,1,2.7386127875258306,0\" style=\"fill: none; stroke: #f58518; stroke-width: 2; opacity: 0.7;\"></path><path transform=\"translate(128,145.83333333333334)\" d=\"M2.7386127875258306,0A2.7386127875258306,2.7386127875258306,0,1,1,-2.7386127875258306,0A2.7386127875258306,2.7386127875258306,0,1,1,2.7386127875258306,0\" style=\"fill: none; stroke: #f58518; stroke-width: 2; opacity: 0.7;\"></path><path transform=\"translate(100,137.5)\" d=\"M2.7386127875258306,0A2.7386127875258306,2.7386127875258306,0,1,1,-2.7386127875258306,0A2.7386127875258306,2.7386127875258306,0,1,1,2.7386127875258306,0\" style=\"fill: none; stroke: #f58518; stroke-width: 2; opacity: 0.7;\"></path><path transform=\"translate(64,116.66666666666666)\" d=\"M2.7386127875258306,0A2.7386127875258306,2.7386127875258306,0,1,1,-2.7386127875258306,0A2.7386127875258306,2.7386127875258306,0,1,1,2.7386127875258306,0\" style=\"fill: none; stroke: #72b7b2; stroke-width: 2; opacity: 0.7;\"></path><path transform=\"translate(64,108.33333333333334)\" d=\"M2.7386127875258306,0A2.7386127875258306,2.7386127875258306,0,1,1,-2.7386127875258306,0A2.7386127875258306,2.7386127875258306,0,1,1,2.7386127875258306,0\" style=\"fill: none; stroke: #72b7b2; stroke-width: 2; opacity: 0.7;\"></path><path transform=\"translate(72,112.5)\" d=\"M2.7386127875258306,0A2.7386127875258306,2.7386127875258306,0,1,1,-2.7386127875258306,0A2.7386127875258306,2.7386127875258306,0,1,1,2.7386127875258306,0\" style=\"fill: none; stroke: #72b7b2; stroke-width: 2; opacity: 0.7;\"></path><path transform=\"translate(64,83.33333333333333)\" d=\"M2.7386127875258306,0A2.7386127875258306,2.7386127875258306,0,1,1,-2.7386127875258306,0A2.7386127875258306,2.7386127875258306,0,1,1,2.7386127875258306,0\" style=\"fill: none; stroke: #54a24b; stroke-width: 2; opacity: 0.7;\"></path><path transform=\"translate(52,75)\" d=\"M2.7386127875258306,0A2.7386127875258306,2.7386127875258306,0,1,1,-2.7386127875258306,0A2.7386127875258306,2.7386127875258306,0,1,1,2.7386127875258306,0\" style=\"fill: none; stroke: #54a24b; stroke-width: 2; opacity: 0.7;\"></path><path transform=\"translate(56.00000000000001,75)\" d=\"M2.7386127875258306,0A2.7386127875258306,2.7386127875258306,0,1,1,-2.7386127875258306,0A2.7386127875258306,2.7386127875258306,0,1,1,2.7386127875258306,0\" style=\"fill: none; stroke: #54a24b; stroke-width: 2; opacity: 0.7;\"></path><path transform=\"translate(56.00000000000001,83.33333333333333)\" d=\"M2.7386127875258306,0A2.7386127875258306,2.7386127875258306,0,1,1,-2.7386127875258306,0A2.7386127875258306,2.7386127875258306,0,1,1,2.7386127875258306,0\" style=\"fill: none; stroke: #54a24b; stroke-width: 2; opacity: 0.7;\"></path><path transform=\"translate(56.00000000000001,75)\" d=\"M2.7386127875258306,0A2.7386127875258306,2.7386127875258306,0,1,1,-2.7386127875258306,0A2.7386127875258306,2.7386127875258306,0,1,1,2.7386127875258306,0\" style=\"fill: none; stroke: #54a24b; stroke-width: 2; opacity: 0.7;\"></path><path transform=\"translate(115.99999999999999,130.83333333333334)\" d=\"M2.7386127875258306,0A2.7386127875258306,2.7386127875258306,0,1,1,-2.7386127875258306,0A2.7386127875258306,2.7386127875258306,0,1,1,2.7386127875258306,0\" style=\"fill: none; stroke: #f58518; stroke-width: 2; opacity: 0.7;\"></path><path transform=\"translate(104,144.16666666666666)\" d=\"M2.7386127875258306,0A2.7386127875258306,2.7386127875258306,0,1,1,-2.7386127875258306,0A2.7386127875258306,2.7386127875258306,0,1,1,2.7386127875258306,0\" style=\"fill: none; stroke: #f58518; stroke-width: 2; opacity: 0.7;\"></path><path transform=\"translate(104,135)\" d=\"M2.7386127875258306,0A2.7386127875258306,2.7386127875258306,0,1,1,-2.7386127875258306,0A2.7386127875258306,2.7386127875258306,0,1,1,2.7386127875258306,0\" style=\"fill: none; stroke: #f58518; stroke-width: 2; opacity: 0.7;\"></path><path transform=\"translate(124,156.66666666666666)\" d=\"M2.7386127875258306,0A2.7386127875258306,2.7386127875258306,0,1,1,-2.7386127875258306,0A2.7386127875258306,2.7386127875258306,0,1,1,2.7386127875258306,0\" style=\"fill: none; stroke: #f58518; stroke-width: 2; opacity: 0.7;\"></path><path transform=\"translate(128,149.16666666666666)\" d=\"M2.7386127875258306,0A2.7386127875258306,2.7386127875258306,0,1,1,-2.7386127875258306,0A2.7386127875258306,2.7386127875258306,0,1,1,2.7386127875258306,0\" style=\"fill: none; stroke: #f58518; stroke-width: 2; opacity: 0.7;\"></path><path transform=\"translate(112.00000000000001,137.5)\" d=\"M2.7386127875258306,0A2.7386127875258306,2.7386127875258306,0,1,1,-2.7386127875258306,0A2.7386127875258306,2.7386127875258306,0,1,1,2.7386127875258306,0\" style=\"fill: none; stroke: #f58518; stroke-width: 2; opacity: 0.7;\"></path><path transform=\"translate(96,137.5)\" d=\"M2.7386127875258306,0A2.7386127875258306,2.7386127875258306,0,1,1,-2.7386127875258306,0A2.7386127875258306,2.7386127875258306,0,1,1,2.7386127875258306,0\" style=\"fill: none; stroke: #f58518; stroke-width: 2; opacity: 0.7;\"></path><path transform=\"translate(104,137.5)\" d=\"M2.7386127875258306,0A2.7386127875258306,2.7386127875258306,0,1,1,-2.7386127875258306,0A2.7386127875258306,2.7386127875258306,0,1,1,2.7386127875258306,0\" style=\"fill: none; stroke: #f58518; stroke-width: 2; opacity: 0.7;\"></path><path transform=\"translate(96,119.16666666666667)\" d=\"M2.7386127875258306,0A2.7386127875258306,2.7386127875258306,0,1,1,-2.7386127875258306,0A2.7386127875258306,2.7386127875258306,0,1,1,2.7386127875258306,0\" style=\"fill: none; stroke: #f58518; stroke-width: 2; opacity: 0.7;\"></path><path transform=\"translate(104,122.50000000000001)\" d=\"M2.7386127875258306,0A2.7386127875258306,2.7386127875258306,0,1,1,-2.7386127875258306,0A2.7386127875258306,2.7386127875258306,0,1,1,2.7386127875258306,0\" style=\"fill: none; stroke: #f58518; stroke-width: 2; opacity: 0.7;\"></path><path transform=\"translate(124,144.16666666666666)\" d=\"M2.7386127875258306,0A2.7386127875258306,2.7386127875258306,0,1,1,-2.7386127875258306,0A2.7386127875258306,2.7386127875258306,0,1,1,2.7386127875258306,0\" style=\"fill: none; stroke: #f58518; stroke-width: 2; opacity: 0.7;\"></path><path transform=\"translate(76,120.83333333333334)\" d=\"M2.7386127875258306,0A2.7386127875258306,2.7386127875258306,0,1,1,-2.7386127875258306,0A2.7386127875258306,2.7386127875258306,0,1,1,2.7386127875258306,0\" style=\"fill: none; stroke: #72b7b2; stroke-width: 2; opacity: 0.7;\"></path><path transform=\"translate(72,112.5)\" d=\"M2.7386127875258306,0A2.7386127875258306,2.7386127875258306,0,1,1,-2.7386127875258306,0A2.7386127875258306,2.7386127875258306,0,1,1,2.7386127875258306,0\" style=\"fill: none; stroke: #72b7b2; stroke-width: 2; opacity: 0.7;\"></path><path transform=\"translate(60,140)\" d=\"M2.7386127875258306,0A2.7386127875258306,2.7386127875258306,0,1,1,-2.7386127875258306,0A2.7386127875258306,2.7386127875258306,0,1,1,2.7386127875258306,0\" style=\"fill: none; stroke: #72b7b2; stroke-width: 2; opacity: 0.7;\"></path><path transform=\"translate(60,140)\" d=\"M2.7386127875258306,0A2.7386127875258306,2.7386127875258306,0,1,1,-2.7386127875258306,0A2.7386127875258306,2.7386127875258306,0,1,1,2.7386127875258306,0\" style=\"fill: none; stroke: #72b7b2; stroke-width: 2; opacity: 0.7;\"></path><path transform=\"translate(64,58.33333333333333)\" d=\"M2.7386127875258306,0A2.7386127875258306,2.7386127875258306,0,1,1,-2.7386127875258306,0A2.7386127875258306,2.7386127875258306,0,1,1,2.7386127875258306,0\" style=\"fill: none; stroke: #54a24b; stroke-width: 2; opacity: 0.7;\"></path><path transform=\"translate(60,79.16666666666667)\" d=\"M2.7386127875258306,0A2.7386127875258306,2.7386127875258306,0,1,1,-2.7386127875258306,0A2.7386127875258306,2.7386127875258306,0,1,1,2.7386127875258306,0\" style=\"fill: none; stroke: #54a24b; stroke-width: 2; opacity: 0.7;\"></path><path transform=\"translate(64,75)\" d=\"M2.7386127875258306,0A2.7386127875258306,2.7386127875258306,0,1,1,-2.7386127875258306,0A2.7386127875258306,2.7386127875258306,0,1,1,2.7386127875258306,0\" style=\"fill: none; stroke: #54a24b; stroke-width: 2; opacity: 0.7;\"></path><path transform=\"translate(56.00000000000001,76.66666666666666)\" d=\"M2.7386127875258306,0A2.7386127875258306,2.7386127875258306,0,1,1,-2.7386127875258306,0A2.7386127875258306,2.7386127875258306,0,1,1,2.7386127875258306,0\" style=\"fill: none; stroke: #54a24b; stroke-width: 2; opacity: 0.7;\"></path><path transform=\"translate(68,108.33333333333334)\" d=\"M2.7386127875258306,0A2.7386127875258306,2.7386127875258306,0,1,1,-2.7386127875258306,0A2.7386127875258306,2.7386127875258306,0,1,1,2.7386127875258306,0\" style=\"fill: none; stroke: #72b7b2; stroke-width: 2; opacity: 0.7;\"></path><path transform=\"translate(64,112.5)\" d=\"M2.7386127875258306,0A2.7386127875258306,2.7386127875258306,0,1,1,-2.7386127875258306,0A2.7386127875258306,2.7386127875258306,0,1,1,2.7386127875258306,0\" style=\"fill: none; stroke: #72b7b2; stroke-width: 2; opacity: 0.7;\"></path><path transform=\"translate(60,108.33333333333334)\" d=\"M2.7386127875258306,0A2.7386127875258306,2.7386127875258306,0,1,1,-2.7386127875258306,0A2.7386127875258306,2.7386127875258306,0,1,1,2.7386127875258306,0\" style=\"fill: none; stroke: #72b7b2; stroke-width: 2; opacity: 0.7;\"></path><path transform=\"translate(72,120.83333333333334)\" d=\"M2.7386127875258306,0A2.7386127875258306,2.7386127875258306,0,1,1,-2.7386127875258306,0A2.7386127875258306,2.7386127875258306,0,1,1,2.7386127875258306,0\" style=\"fill: none; stroke: #72b7b2; stroke-width: 2; opacity: 0.7;\"></path><path transform=\"translate(84,108.33333333333334)\" d=\"M2.7386127875258306,0A2.7386127875258306,2.7386127875258306,0,1,1,-2.7386127875258306,0A2.7386127875258306,2.7386127875258306,0,1,1,2.7386127875258306,0\" style=\"fill: none; stroke: #72b7b2; stroke-width: 2; opacity: 0.7;\"></path><path transform=\"translate(80,108.33333333333334)\" d=\"M2.7386127875258306,0A2.7386127875258306,2.7386127875258306,0,1,1,-2.7386127875258306,0A2.7386127875258306,2.7386127875258306,0,1,1,2.7386127875258306,0\" style=\"fill: none; stroke: #54a24b; stroke-width: 2; opacity: 0.7;\"></path><path transform=\"translate(52,92.5)\" d=\"M2.7386127875258306,0A2.7386127875258306,2.7386127875258306,0,1,1,-2.7386127875258306,0A2.7386127875258306,2.7386127875258306,0,1,1,2.7386127875258306,0\" style=\"fill: none; stroke: #54a24b; stroke-width: 2; opacity: 0.7;\"></path><path transform=\"translate(115.99999999999999,137.5)\" d=\"M2.7386127875258306,0A2.7386127875258306,2.7386127875258306,0,1,1,-2.7386127875258306,0A2.7386127875258306,2.7386127875258306,0,1,1,2.7386127875258306,0\" style=\"fill: none; stroke: #f58518; stroke-width: 2; opacity: 0.7;\"></path><path transform=\"translate(92,130.83333333333334)\" d=\"M2.7386127875258306,0A2.7386127875258306,2.7386127875258306,0,1,1,-2.7386127875258306,0A2.7386127875258306,2.7386127875258306,0,1,1,2.7386127875258306,0\" style=\"fill: none; stroke: #f58518; stroke-width: 2; opacity: 0.7;\"></path><path transform=\"translate(80,116.66666666666666)\" d=\"M2.7386127875258306,0A2.7386127875258306,2.7386127875258306,0,1,1,-2.7386127875258306,0A2.7386127875258306,2.7386127875258306,0,1,1,2.7386127875258306,0\" style=\"fill: none; stroke: #72b7b2; stroke-width: 2; opacity: 0.7;\"></path><path transform=\"translate(92,135)\" d=\"M2.7386127875258306,0A2.7386127875258306,2.7386127875258306,0,1,1,-2.7386127875258306,0A2.7386127875258306,2.7386127875258306,0,1,1,2.7386127875258306,0\" style=\"fill: none; stroke: #f58518; stroke-width: 2; opacity: 0.7;\"></path><path transform=\"translate(96,120)\" d=\"M2.7386127875258306,0A2.7386127875258306,2.7386127875258306,0,1,1,-2.7386127875258306,0A2.7386127875258306,2.7386127875258306,0,1,1,2.7386127875258306,0\" style=\"fill: none; stroke: #f58518; stroke-width: 2; opacity: 0.7;\"></path><path transform=\"translate(100,140.83333333333331)\" d=\"M2.7386127875258306,0A2.7386127875258306,2.7386127875258306,0,1,1,-2.7386127875258306,0A2.7386127875258306,2.7386127875258306,0,1,1,2.7386127875258306,0\" style=\"fill: none; stroke: #f58518; stroke-width: 2; opacity: 0.7;\"></path><path transform=\"translate(96,119.16666666666667)\" d=\"M2.7386127875258306,0A2.7386127875258306,2.7386127875258306,0,1,1,-2.7386127875258306,0A2.7386127875258306,2.7386127875258306,0,1,1,2.7386127875258306,0\" style=\"fill: none; stroke: #f58518; stroke-width: 2; opacity: 0.7;\"></path><path transform=\"translate(72,119.16666666666667)\" d=\"M2.7386127875258306,0A2.7386127875258306,2.7386127875258306,0,1,1,-2.7386127875258306,0A2.7386127875258306,2.7386127875258306,0,1,1,2.7386127875258306,0\" style=\"fill: none; stroke: #72b7b2; stroke-width: 2; opacity: 0.7;\"></path><path transform=\"translate(115.99999999999999,141.66666666666666)\" d=\"M2.7386127875258306,0A2.7386127875258306,2.7386127875258306,0,1,1,-2.7386127875258306,0A2.7386127875258306,2.7386127875258306,0,1,1,2.7386127875258306,0\" style=\"fill: none; stroke: #f58518; stroke-width: 2; opacity: 0.7;\"></path><path transform=\"translate(76,125)\" d=\"M2.7386127875258306,0A2.7386127875258306,2.7386127875258306,0,1,1,-2.7386127875258306,0A2.7386127875258306,2.7386127875258306,0,1,1,2.7386127875258306,0\" style=\"fill: none; stroke: #72b7b2; stroke-width: 2; opacity: 0.7;\"></path><path transform=\"translate(92,120.83333333333334)\" d=\"M2.7386127875258306,0A2.7386127875258306,2.7386127875258306,0,1,1,-2.7386127875258306,0A2.7386127875258306,2.7386127875258306,0,1,1,2.7386127875258306,0\" style=\"fill: none; stroke: #f58518; stroke-width: 2; opacity: 0.7;\"></path><path transform=\"translate(92,126.66666666666666)\" d=\"M2.7386127875258306,0A2.7386127875258306,2.7386127875258306,0,1,1,-2.7386127875258306,0A2.7386127875258306,2.7386127875258306,0,1,1,2.7386127875258306,0\" style=\"fill: none; stroke: #f58518; stroke-width: 2; opacity: 0.7;\"></path><path transform=\"translate(88,118.33333333333333)\" d=\"M2.7386127875258306,0A2.7386127875258306,2.7386127875258306,0,1,1,-2.7386127875258306,0A2.7386127875258306,2.7386127875258306,0,1,1,2.7386127875258306,0\" style=\"fill: none; stroke: #f58518; stroke-width: 2; opacity: 0.7;\"></path><path transform=\"translate(100,104.16666666666666)\" d=\"M2.7386127875258306,0A2.7386127875258306,2.7386127875258306,0,1,1,-2.7386127875258306,0A2.7386127875258306,2.7386127875258306,0,1,1,2.7386127875258306,0\" style=\"fill: none; stroke: #f58518; stroke-width: 2; opacity: 0.7;\"></path><path transform=\"translate(132,155.83333333333334)\" d=\"M2.7386127875258306,0A2.7386127875258306,2.7386127875258306,0,1,1,-2.7386127875258306,0A2.7386127875258306,2.7386127875258306,0,1,1,2.7386127875258306,0\" style=\"fill: none; stroke: #f58518; stroke-width: 2; opacity: 0.7;\"></path><path transform=\"translate(112.00000000000001,128.33333333333331)\" d=\"M2.7386127875258306,0A2.7386127875258306,2.7386127875258306,0,1,1,-2.7386127875258306,0A2.7386127875258306,2.7386127875258306,0,1,1,2.7386127875258306,0\" style=\"fill: none; stroke: #f58518; stroke-width: 2; opacity: 0.7;\"></path><path transform=\"translate(100,132.5)\" d=\"M2.7386127875258306,0A2.7386127875258306,2.7386127875258306,0,1,1,-2.7386127875258306,0A2.7386127875258306,2.7386127875258306,0,1,1,2.7386127875258306,0\" style=\"fill: none; stroke: #f58518; stroke-width: 2; opacity: 0.7;\"></path><path transform=\"translate(100,123.33333333333334)\" d=\"M2.7386127875258306,0A2.7386127875258306,2.7386127875258306,0,1,1,-2.7386127875258306,0A2.7386127875258306,2.7386127875258306,0,1,1,2.7386127875258306,0\" style=\"fill: none; stroke: #f58518; stroke-width: 2; opacity: 0.7;\"></path><path transform=\"translate(104,134.16666666666669)\" d=\"M2.7386127875258306,0A2.7386127875258306,2.7386127875258306,0,1,1,-2.7386127875258306,0A2.7386127875258306,2.7386127875258306,0,1,1,2.7386127875258306,0\" style=\"fill: none; stroke: #f58518; stroke-width: 2; opacity: 0.7;\"></path><path transform=\"translate(108,130.83333333333334)\" d=\"M2.7386127875258306,0A2.7386127875258306,2.7386127875258306,0,1,1,-2.7386127875258306,0A2.7386127875258306,2.7386127875258306,0,1,1,2.7386127875258306,0\" style=\"fill: none; stroke: #f58518; stroke-width: 2; opacity: 0.7;\"></path><path transform=\"translate(70,83.33333333333333)\" d=\"M2.7386127875258306,0A2.7386127875258306,2.7386127875258306,0,1,1,-2.7386127875258306,0A2.7386127875258306,2.7386127875258306,0,1,1,2.7386127875258306,0\" style=\"fill: none; stroke: #54a24b; stroke-width: 2; opacity: 0.7;\"></path><path transform=\"translate(64,75)\" d=\"M2.7386127875258306,0A2.7386127875258306,2.7386127875258306,0,1,1,-2.7386127875258306,0A2.7386127875258306,2.7386127875258306,0,1,1,2.7386127875258306,0\" style=\"fill: none; stroke: #54a24b; stroke-width: 2; opacity: 0.7;\"></path><path transform=\"translate(62,100)\" d=\"M2.7386127875258306,0A2.7386127875258306,2.7386127875258306,0,1,1,-2.7386127875258306,0A2.7386127875258306,2.7386127875258306,0,1,1,2.7386127875258306,0\" style=\"fill: none; stroke: #54a24b; stroke-width: 2; opacity: 0.7;\"></path><path transform=\"translate(57.99999999999999,73.33333333333334)\" d=\"M2.7386127875258306,0A2.7386127875258306,2.7386127875258306,0,1,1,-2.7386127875258306,0A2.7386127875258306,2.7386127875258306,0,1,1,2.7386127875258306,0\" style=\"fill: none; stroke: #54a24b; stroke-width: 2; opacity: 0.7;\"></path><path transform=\"translate(88,116.66666666666666)\" d=\"M2.7386127875258306,0A2.7386127875258306,2.7386127875258306,0,1,1,-2.7386127875258306,0A2.7386127875258306,2.7386127875258306,0,1,1,2.7386127875258306,0\" style=\"fill: none; stroke: #72b7b2; stroke-width: 2; opacity: 0.7;\"></path><path transform=\"translate(88,112.5)\" d=\"M2.7386127875258306,0A2.7386127875258306,2.7386127875258306,0,1,1,-2.7386127875258306,0A2.7386127875258306,2.7386127875258306,0,1,1,2.7386127875258306,0\" style=\"fill: none; stroke: #72b7b2; stroke-width: 2; opacity: 0.7;\"></path><path transform=\"translate(96,132.5)\" d=\"M2.7386127875258306,0A2.7386127875258306,2.7386127875258306,0,1,1,-2.7386127875258306,0A2.7386127875258306,2.7386127875258306,0,1,1,2.7386127875258306,0\" style=\"fill: none; stroke: #72b7b2; stroke-width: 2; opacity: 0.7;\"></path><path transform=\"translate(90,125)\" d=\"M2.7386127875258306,0A2.7386127875258306,2.7386127875258306,0,1,1,-2.7386127875258306,0A2.7386127875258306,2.7386127875258306,0,1,1,2.7386127875258306,0\" style=\"fill: none; stroke: #72b7b2; stroke-width: 2; opacity: 0.7;\"></path><path transform=\"translate(115.99999999999999,156.66666666666666)\" d=\"M2.7386127875258306,0A2.7386127875258306,2.7386127875258306,0,1,1,-2.7386127875258306,0A2.7386127875258306,2.7386127875258306,0,1,1,2.7386127875258306,0\" style=\"fill: none; stroke: #f58518; stroke-width: 2; opacity: 0.7;\"></path><path transform=\"translate(98,150)\" d=\"M2.7386127875258306,0A2.7386127875258306,2.7386127875258306,0,1,1,-2.7386127875258306,0A2.7386127875258306,2.7386127875258306,0,1,1,2.7386127875258306,0\" style=\"fill: none; stroke: #f58518; stroke-width: 2; opacity: 0.7;\"></path><path transform=\"translate(115.99999999999999,141.66666666666666)\" d=\"M2.7386127875258306,0A2.7386127875258306,2.7386127875258306,0,1,1,-2.7386127875258306,0A2.7386127875258306,2.7386127875258306,0,1,1,2.7386127875258306,0\" style=\"fill: none; stroke: #f58518; stroke-width: 2; opacity: 0.7;\"></path><path transform=\"translate(132,155.83333333333334)\" d=\"M2.7386127875258306,0A2.7386127875258306,2.7386127875258306,0,1,1,-2.7386127875258306,0A2.7386127875258306,2.7386127875258306,0,1,1,2.7386127875258306,0\" style=\"fill: none; stroke: #f58518; stroke-width: 2; opacity: 0.7;\"></path><path transform=\"translate(80,116.66666666666666)\" d=\"M2.7386127875258306,0A2.7386127875258306,2.7386127875258306,0,1,1,-2.7386127875258306,0A2.7386127875258306,2.7386127875258306,0,1,1,2.7386127875258306,0\" style=\"fill: none; stroke: #72b7b2; stroke-width: 2; opacity: 0.7;\"></path><path transform=\"translate(72,135)\" d=\"M2.7386127875258306,0A2.7386127875258306,2.7386127875258306,0,1,1,-2.7386127875258306,0A2.7386127875258306,2.7386127875258306,0,1,1,2.7386127875258306,0\" style=\"fill: none; stroke: #72b7b2; stroke-width: 2; opacity: 0.7;\"></path><path transform=\"translate(74,108.33333333333334)\" d=\"M2.7386127875258306,0A2.7386127875258306,2.7386127875258306,0,1,1,-2.7386127875258306,0A2.7386127875258306,2.7386127875258306,0,1,1,2.7386127875258306,0\" style=\"fill: none; stroke: #72b7b2; stroke-width: 2; opacity: 0.7;\"></path><path transform=\"translate(70,120.83333333333334)\" d=\"M2.7386127875258306,0A2.7386127875258306,2.7386127875258306,0,1,1,-2.7386127875258306,0A2.7386127875258306,2.7386127875258306,0,1,1,2.7386127875258306,0\" style=\"fill: none; stroke: #72b7b2; stroke-width: 2; opacity: 0.7;\"></path><path transform=\"translate(118,140.83333333333331)\" d=\"M2.7386127875258306,0A2.7386127875258306,2.7386127875258306,0,1,1,-2.7386127875258306,0A2.7386127875258306,2.7386127875258306,0,1,1,2.7386127875258306,0\" style=\"fill: none; stroke: #f58518; stroke-width: 2; opacity: 0.7;\"></path><path transform=\"translate(128,141.66666666666666)\" d=\"M2.7386127875258306,0A2.7386127875258306,2.7386127875258306,0,1,1,-2.7386127875258306,0A2.7386127875258306,2.7386127875258306,0,1,1,2.7386127875258306,0\" style=\"fill: none; stroke: #f58518; stroke-width: 2; opacity: 0.7;\"></path><path transform=\"translate(112.00000000000001,137.5)\" d=\"M2.7386127875258306,0A2.7386127875258306,2.7386127875258306,0,1,1,-2.7386127875258306,0A2.7386127875258306,2.7386127875258306,0,1,1,2.7386127875258306,0\" style=\"fill: none; stroke: #f58518; stroke-width: 2; opacity: 0.7;\"></path><path transform=\"translate(106,140)\" d=\"M2.7386127875258306,0A2.7386127875258306,2.7386127875258306,0,1,1,-2.7386127875258306,0A2.7386127875258306,2.7386127875258306,0,1,1,2.7386127875258306,0\" style=\"fill: none; stroke: #f58518; stroke-width: 2; opacity: 0.7;\"></path><path transform=\"translate(80,114.99999999999999)\" d=\"M2.7386127875258306,0A2.7386127875258306,2.7386127875258306,0,1,1,-2.7386127875258306,0A2.7386127875258306,2.7386127875258306,0,1,1,2.7386127875258306,0\" style=\"fill: none; stroke: #f58518; stroke-width: 2; opacity: 0.7;\"></path><path transform=\"translate(52,75)\" d=\"M2.7386127875258306,0A2.7386127875258306,2.7386127875258306,0,1,1,-2.7386127875258306,0A2.7386127875258306,2.7386127875258306,0,1,1,2.7386127875258306,0\" style=\"fill: none; stroke: #54a24b; stroke-width: 2; opacity: 0.7;\"></path><path transform=\"translate(76,126.66666666666666)\" d=\"M2.7386127875258306,0A2.7386127875258306,2.7386127875258306,0,1,1,-2.7386127875258306,0A2.7386127875258306,2.7386127875258306,0,1,1,2.7386127875258306,0\" style=\"fill: none; stroke: #f58518; stroke-width: 2; opacity: 0.7;\"></path><path transform=\"translate(76,110.00000000000001)\" d=\"M2.7386127875258306,0A2.7386127875258306,2.7386127875258306,0,1,1,-2.7386127875258306,0A2.7386127875258306,2.7386127875258306,0,1,1,2.7386127875258306,0\" style=\"fill: none; stroke: #72b7b2; stroke-width: 2; opacity: 0.7;\"></path><path transform=\"translate(66,100)\" d=\"M2.7386127875258306,0A2.7386127875258306,2.7386127875258306,0,1,1,-2.7386127875258306,0A2.7386127875258306,2.7386127875258306,0,1,1,2.7386127875258306,0\" style=\"fill: none; stroke: #72b7b2; stroke-width: 2; opacity: 0.7;\"></path><path transform=\"translate(66,50)\" d=\"M2.7386127875258306,0A2.7386127875258306,2.7386127875258306,0,1,1,-2.7386127875258306,0A2.7386127875258306,2.7386127875258306,0,1,1,2.7386127875258306,0\" style=\"fill: none; stroke: #54a24b; stroke-width: 2; opacity: 0.7;\"></path><path transform=\"translate(52,79.16666666666667)\" d=\"M2.7386127875258306,0A2.7386127875258306,2.7386127875258306,0,1,1,-2.7386127875258306,0A2.7386127875258306,2.7386127875258306,0,1,1,2.7386127875258306,0\" style=\"fill: none; stroke: #54a24b; stroke-width: 2; opacity: 0.7;\"></path><path transform=\"translate(52,91.66666666666667)\" d=\"M2.7386127875258306,0A2.7386127875258306,2.7386127875258306,0,1,1,-2.7386127875258306,0A2.7386127875258306,2.7386127875258306,0,1,1,2.7386127875258306,0\" style=\"fill: none; stroke: #54a24b; stroke-width: 2; opacity: 0.7;\"></path><path transform=\"translate(52,75)\" d=\"M2.7386127875258306,0A2.7386127875258306,2.7386127875258306,0,1,1,-2.7386127875258306,0A2.7386127875258306,2.7386127875258306,0,1,1,2.7386127875258306,0\" style=\"fill: none; stroke: #54a24b; stroke-width: 2; opacity: 0.7;\"></path><path transform=\"translate(126,143.33333333333334)\" d=\"M2.7386127875258306,0A2.7386127875258306,2.7386127875258306,0,1,1,-2.7386127875258306,0A2.7386127875258306,2.7386127875258306,0,1,1,2.7386127875258306,0\" style=\"fill: none; stroke: #f58518; stroke-width: 2; opacity: 0.7;\"></path><path transform=\"translate(120,133.33333333333334)\" d=\"M2.7386127875258306,0A2.7386127875258306,2.7386127875258306,0,1,1,-2.7386127875258306,0A2.7386127875258306,2.7386127875258306,0,1,1,2.7386127875258306,0\" style=\"fill: none; stroke: #f58518; stroke-width: 2; opacity: 0.7;\"></path><path transform=\"translate(144,151.66666666666666)\" d=\"M2.7386127875258306,0A2.7386127875258306,2.7386127875258306,0,1,1,-2.7386127875258306,0A2.7386127875258306,2.7386127875258306,0,1,1,2.7386127875258306,0\" style=\"fill: none; stroke: #f58518; stroke-width: 2; opacity: 0.7;\"></path><path transform=\"translate(102,120)\" d=\"M2.7386127875258306,0A2.7386127875258306,2.7386127875258306,0,1,1,-2.7386127875258306,0A2.7386127875258306,2.7386127875258306,0,1,1,2.7386127875258306,0\" style=\"fill: none; stroke: #f58518; stroke-width: 2; opacity: 0.7;\"></path><path transform=\"translate(134,141.66666666666666)\" d=\"M2.7386127875258306,0A2.7386127875258306,2.7386127875258306,0,1,1,-2.7386127875258306,0A2.7386127875258306,2.7386127875258306,0,1,1,2.7386127875258306,0\" style=\"fill: none; stroke: #f58518; stroke-width: 2; opacity: 0.7;\"></path><path transform=\"translate(70,79.16666666666667)\" d=\"M2.7386127875258306,0A2.7386127875258306,2.7386127875258306,0,1,1,-2.7386127875258306,0A2.7386127875258306,2.7386127875258306,0,1,1,2.7386127875258306,0\" style=\"fill: none; stroke: #54a24b; stroke-width: 2; opacity: 0.7;\"></path><path transform=\"translate(68,108.33333333333334)\" d=\"M2.7386127875258306,0A2.7386127875258306,2.7386127875258306,0,1,1,-2.7386127875258306,0A2.7386127875258306,2.7386127875258306,0,1,1,2.7386127875258306,0\" style=\"fill: none; stroke: #54a24b; stroke-width: 2; opacity: 0.7;\"></path><path transform=\"translate(62,79.16666666666667)\" d=\"M2.7386127875258306,0A2.7386127875258306,2.7386127875258306,0,1,1,-2.7386127875258306,0A2.7386127875258306,2.7386127875258306,0,1,1,2.7386127875258306,0\" style=\"fill: none; stroke: #54a24b; stroke-width: 2; opacity: 0.7;\"></path><path transform=\"translate(60,91.66666666666667)\" d=\"M2.7386127875258306,0A2.7386127875258306,2.7386127875258306,0,1,1,-2.7386127875258306,0A2.7386127875258306,2.7386127875258306,0,1,1,2.7386127875258306,0\" style=\"fill: none; stroke: #54a24b; stroke-width: 2; opacity: 0.7;\"></path><path transform=\"translate(70,108.33333333333334)\" d=\"M2.7386127875258306,0A2.7386127875258306,2.7386127875258306,0,1,1,-2.7386127875258306,0A2.7386127875258306,2.7386127875258306,0,1,1,2.7386127875258306,0\" style=\"fill: none; stroke: #72b7b2; stroke-width: 2; opacity: 0.7;\"></path><path transform=\"translate(82,112.5)\" d=\"M2.7386127875258306,0A2.7386127875258306,2.7386127875258306,0,1,1,-2.7386127875258306,0A2.7386127875258306,2.7386127875258306,0,1,1,2.7386127875258306,0\" style=\"fill: none; stroke: #72b7b2; stroke-width: 2; opacity: 0.7;\"></path><path transform=\"translate(76,116.66666666666666)\" d=\"M2.7386127875258306,0A2.7386127875258306,2.7386127875258306,0,1,1,-2.7386127875258306,0A2.7386127875258306,2.7386127875258306,0,1,1,2.7386127875258306,0\" style=\"fill: none; stroke: #72b7b2; stroke-width: 2; opacity: 0.7;\"></path><path transform=\"translate(74,118.33333333333333)\" d=\"M2.7386127875258306,0A2.7386127875258306,2.7386127875258306,0,1,1,-2.7386127875258306,0A2.7386127875258306,2.7386127875258306,0,1,1,2.7386127875258306,0\" style=\"fill: none; stroke: #72b7b2; stroke-width: 2; opacity: 0.7;\"></path><path transform=\"translate(64,50)\" d=\"M2.7386127875258306,0A2.7386127875258306,2.7386127875258306,0,1,1,-2.7386127875258306,0A2.7386127875258306,2.7386127875258306,0,1,1,2.7386127875258306,0\" style=\"fill: none; stroke: #54a24b; stroke-width: 2; opacity: 0.7;\"></path><path transform=\"translate(62,58.33333333333333)\" d=\"M2.7386127875258306,0A2.7386127875258306,2.7386127875258306,0,1,1,-2.7386127875258306,0A2.7386127875258306,2.7386127875258306,0,1,1,2.7386127875258306,0\" style=\"fill: none; stroke: #54a24b; stroke-width: 2; opacity: 0.7;\"></path><path transform=\"translate(62,41.66666666666667)\" d=\"M2.7386127875258306,0A2.7386127875258306,2.7386127875258306,0,1,1,-2.7386127875258306,0A2.7386127875258306,2.7386127875258306,0,1,1,2.7386127875258306,0\" style=\"fill: none; stroke: #54a24b; stroke-width: 2; opacity: 0.7;\"></path><path transform=\"translate(64,75.83333333333333)\" d=\"M2.7386127875258306,0A2.7386127875258306,2.7386127875258306,0,1,1,-2.7386127875258306,0A2.7386127875258306,2.7386127875258306,0,1,1,2.7386127875258306,0\" style=\"fill: none; stroke: #54a24b; stroke-width: 2; opacity: 0.7;\"></path><path transform=\"translate(115.99999999999999,135)\" d=\"M2.7386127875258306,0A2.7386127875258306,2.7386127875258306,0,1,1,-2.7386127875258306,0A2.7386127875258306,2.7386127875258306,0,1,1,2.7386127875258306,0\" style=\"fill: none; stroke: #f58518; stroke-width: 2; opacity: 0.7;\"></path><path transform=\"translate(98,126.66666666666666)\" d=\"M2.7386127875258306,0A2.7386127875258306,2.7386127875258306,0,1,1,-2.7386127875258306,0A2.7386127875258306,2.7386127875258306,0,1,1,2.7386127875258306,0\" style=\"fill: none; stroke: #f58518; stroke-width: 2; opacity: 0.7;\"></path><path transform=\"translate(104,137.5)\" d=\"M2.7386127875258306,0A2.7386127875258306,2.7386127875258306,0,1,1,-2.7386127875258306,0A2.7386127875258306,2.7386127875258306,0,1,1,2.7386127875258306,0\" style=\"fill: none; stroke: #f58518; stroke-width: 2; opacity: 0.7;\"></path><path transform=\"translate(102,125.83333333333333)\" d=\"M2.7386127875258306,0A2.7386127875258306,2.7386127875258306,0,1,1,-2.7386127875258306,0A2.7386127875258306,2.7386127875258306,0,1,1,2.7386127875258306,0\" style=\"fill: none; stroke: #f58518; stroke-width: 2; opacity: 0.7;\"></path><path transform=\"translate(122,147.5)\" d=\"M2.7386127875258306,0A2.7386127875258306,2.7386127875258306,0,1,1,-2.7386127875258306,0A2.7386127875258306,2.7386127875258306,0,1,1,2.7386127875258306,0\" style=\"fill: none; stroke: #f58518; stroke-width: 2; opacity: 0.7;\"></path><path transform=\"translate(134,130.83333333333334)\" d=\"M2.7386127875258306,0A2.7386127875258306,2.7386127875258306,0,1,1,-2.7386127875258306,0A2.7386127875258306,2.7386127875258306,0,1,1,2.7386127875258306,0\" style=\"fill: none; stroke: #f58518; stroke-width: 2; opacity: 0.7;\"></path><path transform=\"translate(120,144.16666666666666)\" d=\"M2.7386127875258306,0A2.7386127875258306,2.7386127875258306,0,1,1,-2.7386127875258306,0A2.7386127875258306,2.7386127875258306,0,1,1,2.7386127875258306,0\" style=\"fill: none; stroke: #f58518; stroke-width: 2; opacity: 0.7;\"></path><path transform=\"translate(122,135)\" d=\"M2.7386127875258306,0A2.7386127875258306,2.7386127875258306,0,1,1,-2.7386127875258306,0A2.7386127875258306,2.7386127875258306,0,1,1,2.7386127875258306,0\" style=\"fill: none; stroke: #f58518; stroke-width: 2; opacity: 0.7;\"></path><path transform=\"translate(88,119.16666666666667)\" d=\"M2.7386127875258306,0A2.7386127875258306,2.7386127875258306,0,1,1,-2.7386127875258306,0A2.7386127875258306,2.7386127875258306,0,1,1,2.7386127875258306,0\" style=\"fill: none; stroke: #72b7b2; stroke-width: 2; opacity: 0.7;\"></path><path transform=\"translate(86,108.33333333333334)\" d=\"M2.7386127875258306,0A2.7386127875258306,2.7386127875258306,0,1,1,-2.7386127875258306,0A2.7386127875258306,2.7386127875258306,0,1,1,2.7386127875258306,0\" style=\"fill: none; stroke: #f58518; stroke-width: 2; opacity: 0.7;\"></path><path transform=\"translate(86,108.33333333333334)\" d=\"M2.7386127875258306,0A2.7386127875258306,2.7386127875258306,0,1,1,-2.7386127875258306,0A2.7386127875258306,2.7386127875258306,0,1,1,2.7386127875258306,0\" style=\"fill: none; stroke: #4c78a8; stroke-width: 2; opacity: 0.7;\"></path><path transform=\"translate(172.4,160)\" d=\"M2.7386127875258306,0A2.7386127875258306,2.7386127875258306,0,1,1,-2.7386127875258306,0A2.7386127875258306,2.7386127875258306,0,1,1,2.7386127875258306,0\" style=\"fill: none; stroke: #f58518; stroke-width: 2; opacity: 0.7;\"></path><path transform=\"translate(144.4,145)\" d=\"M2.7386127875258306,0A2.7386127875258306,2.7386127875258306,0,1,1,-2.7386127875258306,0A2.7386127875258306,2.7386127875258306,0,1,1,2.7386127875258306,0\" style=\"fill: none; stroke: #f58518; stroke-width: 2; opacity: 0.7;\"></path><path transform=\"translate(131.2,156.66666666666666)\" d=\"M2.7386127875258306,0A2.7386127875258306,2.7386127875258306,0,1,1,-2.7386127875258306,0A2.7386127875258306,2.7386127875258306,0,1,1,2.7386127875258306,0\" style=\"fill: none; stroke: #f58518; stroke-width: 2; opacity: 0.7;\"></path><path transform=\"translate(157.6,141.66666666666666)\" d=\"M2.7386127875258306,0A2.7386127875258306,2.7386127875258306,0,1,1,-2.7386127875258306,0A2.7386127875258306,2.7386127875258306,0,1,1,2.7386127875258306,0\" style=\"fill: none; stroke: #f58518; stroke-width: 2; opacity: 0.7;\"></path><path transform=\"translate(144.4,150)\" d=\"M2.7386127875258306,0A2.7386127875258306,2.7386127875258306,0,1,1,-2.7386127875258306,0A2.7386127875258306,2.7386127875258306,0,1,1,2.7386127875258306,0\" style=\"fill: none; stroke: #f58518; stroke-width: 2; opacity: 0.7;\"></path><path transform=\"translate(79.6,108.33333333333334)\" d=\"M2.7386127875258306,0A2.7386127875258306,2.7386127875258306,0,1,1,-2.7386127875258306,0A2.7386127875258306,2.7386127875258306,0,1,1,2.7386127875258306,0\" style=\"fill: none; stroke: #54a24b; stroke-width: 2; opacity: 0.7;\"></path><path transform=\"translate(77.6,83.33333333333333)\" d=\"M2.7386127875258306,0A2.7386127875258306,2.7386127875258306,0,1,1,-2.7386127875258306,0A2.7386127875258306,2.7386127875258306,0,1,1,2.7386127875258306,0\" style=\"fill: none; stroke: #54a24b; stroke-width: 2; opacity: 0.7;\"></path><path transform=\"translate(80.8,84.16666666666666)\" d=\"M2.7386127875258306,0A2.7386127875258306,2.7386127875258306,0,1,1,-2.7386127875258306,0A2.7386127875258306,2.7386127875258306,0,1,1,2.7386127875258306,0\" style=\"fill: none; stroke: #54a24b; stroke-width: 2; opacity: 0.7;\"></path><path transform=\"translate(76.8,112.5)\" d=\"M2.7386127875258306,0A2.7386127875258306,2.7386127875258306,0,1,1,-2.7386127875258306,0A2.7386127875258306,2.7386127875258306,0,1,1,2.7386127875258306,0\" style=\"fill: none; stroke: #72b7b2; stroke-width: 2; opacity: 0.7;\"></path><path transform=\"translate(82,120.83333333333334)\" d=\"M2.7386127875258306,0A2.7386127875258306,2.7386127875258306,0,1,1,-2.7386127875258306,0A2.7386127875258306,2.7386127875258306,0,1,1,2.7386127875258306,0\" style=\"fill: none; stroke: #72b7b2; stroke-width: 2; opacity: 0.7;\"></path><path transform=\"translate(80.8,129.16666666666666)\" d=\"M2.7386127875258306,0A2.7386127875258306,2.7386127875258306,0,1,1,-2.7386127875258306,0A2.7386127875258306,2.7386127875258306,0,1,1,2.7386127875258306,0\" style=\"fill: none; stroke: #72b7b2; stroke-width: 2; opacity: 0.7;\"></path><path transform=\"translate(100.4,126.66666666666666)\" d=\"M2.7386127875258306,0A2.7386127875258306,2.7386127875258306,0,1,1,-2.7386127875258306,0A2.7386127875258306,2.7386127875258306,0,1,1,2.7386127875258306,0\" style=\"fill: none; stroke: #f58518; stroke-width: 2; opacity: 0.7;\"></path><path transform=\"translate(82,116.66666666666666)\" d=\"M2.7386127875258306,0A2.7386127875258306,2.7386127875258306,0,1,1,-2.7386127875258306,0A2.7386127875258306,2.7386127875258306,0,1,1,2.7386127875258306,0\" style=\"fill: none; stroke: #72b7b2; stroke-width: 2; opacity: 0.7;\"></path><path transform=\"translate(77.6,125)\" d=\"M2.7386127875258306,0A2.7386127875258306,2.7386127875258306,0,1,1,-2.7386127875258306,0A2.7386127875258306,2.7386127875258306,0,1,1,2.7386127875258306,0\" style=\"fill: none; stroke: #72b7b2; stroke-width: 2; opacity: 0.7;\"></path><path transform=\"translate(82.4,112.5)\" d=\"M2.7386127875258306,0A2.7386127875258306,2.7386127875258306,0,1,1,-2.7386127875258306,0A2.7386127875258306,2.7386127875258306,0,1,1,2.7386127875258306,0\" style=\"fill: none; stroke: #72b7b2; stroke-width: 2; opacity: 0.7;\"></path><path transform=\"translate(83.2,129.16666666666666)\" d=\"M2.7386127875258306,0A2.7386127875258306,2.7386127875258306,0,1,1,-2.7386127875258306,0A2.7386127875258306,2.7386127875258306,0,1,1,2.7386127875258306,0\" style=\"fill: none; stroke: #72b7b2; stroke-width: 2; opacity: 0.7;\"></path><path transform=\"translate(74.4,108.33333333333334)\" d=\"M2.7386127875258306,0A2.7386127875258306,2.7386127875258306,0,1,1,-2.7386127875258306,0A2.7386127875258306,2.7386127875258306,0,1,1,2.7386127875258306,0\" style=\"fill: none; stroke: #72b7b2; stroke-width: 2; opacity: 0.7;\"></path><path transform=\"translate(72.4,100)\" d=\"M2.7386127875258306,0A2.7386127875258306,2.7386127875258306,0,1,1,-2.7386127875258306,0A2.7386127875258306,2.7386127875258306,0,1,1,2.7386127875258306,0\" style=\"fill: none; stroke: #72b7b2; stroke-width: 2; opacity: 0.7;\"></path><path transform=\"translate(76.8,79.16666666666667)\" d=\"M2.7386127875258306,0A2.7386127875258306,2.7386127875258306,0,1,1,-2.7386127875258306,0A2.7386127875258306,2.7386127875258306,0,1,1,2.7386127875258306,0\" style=\"fill: none; stroke: #54a24b; stroke-width: 2; opacity: 0.7;\"></path><path transform=\"translate(70.8,62.5)\" d=\"M2.7386127875258306,0A2.7386127875258306,2.7386127875258306,0,1,1,-2.7386127875258306,0A2.7386127875258306,2.7386127875258306,0,1,1,2.7386127875258306,0\" style=\"fill: none; stroke: #72b7b2; stroke-width: 2; opacity: 0.7;\"></path><path transform=\"translate(72.4,84.16666666666666)\" d=\"M2.7386127875258306,0A2.7386127875258306,2.7386127875258306,0,1,1,-2.7386127875258306,0A2.7386127875258306,2.7386127875258306,0,1,1,2.7386127875258306,0\" style=\"fill: none; stroke: #54a24b; stroke-width: 2; opacity: 0.7;\"></path><path transform=\"translate(70,83.33333333333333)\" d=\"M2.7386127875258306,0A2.7386127875258306,2.7386127875258306,0,1,1,-2.7386127875258306,0A2.7386127875258306,2.7386127875258306,0,1,1,2.7386127875258306,0\" style=\"fill: none; stroke: #54a24b; stroke-width: 2; opacity: 0.7;\"></path><path transform=\"translate(120,143.33333333333334)\" d=\"M2.7386127875258306,0A2.7386127875258306,2.7386127875258306,0,1,1,-2.7386127875258306,0A2.7386127875258306,2.7386127875258306,0,1,1,2.7386127875258306,0\" style=\"fill: none; stroke: #f58518; stroke-width: 2; opacity: 0.7;\"></path><path transform=\"translate(110.00000000000001,120.83333333333334)\" d=\"M2.7386127875258306,0A2.7386127875258306,2.7386127875258306,0,1,1,-2.7386127875258306,0A2.7386127875258306,2.7386127875258306,0,1,1,2.7386127875258306,0\" style=\"fill: none; stroke: #f58518; stroke-width: 2; opacity: 0.7;\"></path><path transform=\"translate(108.80000000000001,119.16666666666667)\" d=\"M2.7386127875258306,0A2.7386127875258306,2.7386127875258306,0,1,1,-2.7386127875258306,0A2.7386127875258306,2.7386127875258306,0,1,1,2.7386127875258306,0\" style=\"fill: none; stroke: #f58518; stroke-width: 2; opacity: 0.7;\"></path><path transform=\"translate(123.6,137.5)\" d=\"M2.7386127875258306,0A2.7386127875258306,2.7386127875258306,0,1,1,-2.7386127875258306,0A2.7386127875258306,2.7386127875258306,0,1,1,2.7386127875258306,0\" style=\"fill: none; stroke: #f58518; stroke-width: 2; opacity: 0.7;\"></path><path transform=\"translate(84.4,120.83333333333334)\" d=\"M2.7386127875258306,0A2.7386127875258306,2.7386127875258306,0,1,1,-2.7386127875258306,0A2.7386127875258306,2.7386127875258306,0,1,1,2.7386127875258306,0\" style=\"fill: none; stroke: #f58518; stroke-width: 2; opacity: 0.7;\"></path><path transform=\"translate(92.8,112.5)\" d=\"M2.7386127875258306,0A2.7386127875258306,2.7386127875258306,0,1,1,-2.7386127875258306,0A2.7386127875258306,2.7386127875258306,0,1,1,2.7386127875258306,0\" style=\"fill: none; stroke: #f58518; stroke-width: 2; opacity: 0.7;\"></path><path transform=\"translate(95.2,129.16666666666666)\" d=\"M2.7386127875258306,0A2.7386127875258306,2.7386127875258306,0,1,1,-2.7386127875258306,0A2.7386127875258306,2.7386127875258306,0,1,1,2.7386127875258306,0\" style=\"fill: none; stroke: #f58518; stroke-width: 2; opacity: 0.7;\"></path><path transform=\"translate(95.6,119.16666666666667)\" d=\"M2.7386127875258306,0A2.7386127875258306,2.7386127875258306,0,1,1,-2.7386127875258306,0A2.7386127875258306,2.7386127875258306,0,1,1,2.7386127875258306,0\" style=\"fill: none; stroke: #f58518; stroke-width: 2; opacity: 0.7;\"></path><path transform=\"translate(81.2,114.16666666666666)\" d=\"M2.7386127875258306,0A2.7386127875258306,2.7386127875258306,0,1,1,-2.7386127875258306,0A2.7386127875258306,2.7386127875258306,0,1,1,2.7386127875258306,0\" style=\"fill: none; stroke: #e45756; stroke-width: 2; opacity: 0.7;\"></path><path transform=\"translate(68,95.83333333333333)\" d=\"M2.7386127875258306,0A2.7386127875258306,2.7386127875258306,0,1,1,-2.7386127875258306,0A2.7386127875258306,2.7386127875258306,0,1,1,2.7386127875258306,0\" style=\"fill: none; stroke: #72b7b2; stroke-width: 2; opacity: 0.7;\"></path><path transform=\"translate(86.4,104.16666666666666)\" d=\"M2.7386127875258306,0A2.7386127875258306,2.7386127875258306,0,1,1,-2.7386127875258306,0A2.7386127875258306,2.7386127875258306,0,1,1,2.7386127875258306,0\" style=\"fill: none; stroke: #f58518; stroke-width: 2; opacity: 0.7;\"></path><path transform=\"translate(64.8,89.16666666666666)\" d=\"M2.7386127875258306,0A2.7386127875258306,2.7386127875258306,0,1,1,-2.7386127875258306,0A2.7386127875258306,2.7386127875258306,0,1,1,2.7386127875258306,0\" style=\"fill: none; stroke: #72b7b2; stroke-width: 2; opacity: 0.7;\"></path><path transform=\"translate(126,140.83333333333331)\" d=\"M2.7386127875258306,0A2.7386127875258306,2.7386127875258306,0,1,1,-2.7386127875258306,0A2.7386127875258306,2.7386127875258306,0,1,1,2.7386127875258306,0\" style=\"fill: none; stroke: #f58518; stroke-width: 2; opacity: 0.7;\"></path><path transform=\"translate(118,143.33333333333334)\" d=\"M2.7386127875258306,0A2.7386127875258306,2.7386127875258306,0,1,1,-2.7386127875258306,0A2.7386127875258306,2.7386127875258306,0,1,1,2.7386127875258306,0\" style=\"fill: none; stroke: #f58518; stroke-width: 2; opacity: 0.7;\"></path><path transform=\"translate(86,104.16666666666666)\" d=\"M2.7386127875258306,0A2.7386127875258306,2.7386127875258306,0,1,1,-2.7386127875258306,0A2.7386127875258306,2.7386127875258306,0,1,1,2.7386127875258306,0\" style=\"fill: none; stroke: #72b7b2; stroke-width: 2; opacity: 0.7;\"></path><path transform=\"translate(79.2,129.16666666666666)\" d=\"M2.7386127875258306,0A2.7386127875258306,2.7386127875258306,0,1,1,-2.7386127875258306,0A2.7386127875258306,2.7386127875258306,0,1,1,2.7386127875258306,0\" style=\"fill: none; stroke: #72b7b2; stroke-width: 2; opacity: 0.7;\"></path><path transform=\"translate(89.2,126.66666666666666)\" d=\"M2.7386127875258306,0A2.7386127875258306,2.7386127875258306,0,1,1,-2.7386127875258306,0A2.7386127875258306,2.7386127875258306,0,1,1,2.7386127875258306,0\" style=\"fill: none; stroke: #f58518; stroke-width: 2; opacity: 0.7;\"></path><path transform=\"translate(80.8,125)\" d=\"M2.7386127875258306,0A2.7386127875258306,2.7386127875258306,0,1,1,-2.7386127875258306,0A2.7386127875258306,2.7386127875258306,0,1,1,2.7386127875258306,0\" style=\"fill: none; stroke: #72b7b2; stroke-width: 2; opacity: 0.7;\"></path><path transform=\"translate(82.4,108.33333333333334)\" d=\"M2.7386127875258306,0A2.7386127875258306,2.7386127875258306,0,1,1,-2.7386127875258306,0A2.7386127875258306,2.7386127875258306,0,1,1,2.7386127875258306,0\" style=\"fill: none; stroke: #72b7b2; stroke-width: 2; opacity: 0.7;\"></path><path transform=\"translate(68,91.66666666666667)\" d=\"M2.7386127875258306,0A2.7386127875258306,2.7386127875258306,0,1,1,-2.7386127875258306,0A2.7386127875258306,2.7386127875258306,0,1,1,2.7386127875258306,0\" style=\"fill: none; stroke: #54a24b; stroke-width: 2; opacity: 0.7;\"></path><path transform=\"translate(70.4,92.5)\" d=\"M2.7386127875258306,0A2.7386127875258306,2.7386127875258306,0,1,1,-2.7386127875258306,0A2.7386127875258306,2.7386127875258306,0,1,1,2.7386127875258306,0\" style=\"fill: none; stroke: #54a24b; stroke-width: 2; opacity: 0.7;\"></path><path transform=\"translate(66,85.00000000000001)\" d=\"M2.7386127875258306,0A2.7386127875258306,2.7386127875258306,0,1,1,-2.7386127875258306,0A2.7386127875258306,2.7386127875258306,0,1,1,2.7386127875258306,0\" style=\"fill: none; stroke: #54a24b; stroke-width: 2; opacity: 0.7;\"></path><path transform=\"translate(72.8,87.5)\" d=\"M2.7386127875258306,0A2.7386127875258306,2.7386127875258306,0,1,1,-2.7386127875258306,0A2.7386127875258306,2.7386127875258306,0,1,1,2.7386127875258306,0\" style=\"fill: none; stroke: #54a24b; stroke-width: 2; opacity: 0.7;\"></path><path transform=\"translate(67.6,70.83333333333333)\" d=\"M2.7386127875258306,0A2.7386127875258306,2.7386127875258306,0,1,1,-2.7386127875258306,0A2.7386127875258306,2.7386127875258306,0,1,1,2.7386127875258306,0\" style=\"fill: none; stroke: #54a24b; stroke-width: 2; opacity: 0.7;\"></path><path transform=\"translate(62,81.66666666666667)\" d=\"M2.7386127875258306,0A2.7386127875258306,2.7386127875258306,0,1,1,-2.7386127875258306,0A2.7386127875258306,2.7386127875258306,0,1,1,2.7386127875258306,0\" style=\"fill: none; stroke: #54a24b; stroke-width: 2; opacity: 0.7;\"></path><path transform=\"translate(76.8,95.83333333333333)\" d=\"M2.7386127875258306,0A2.7386127875258306,2.7386127875258306,0,1,1,-2.7386127875258306,0A2.7386127875258306,2.7386127875258306,0,1,1,2.7386127875258306,0\" style=\"fill: none; stroke: #54a24b; stroke-width: 2; opacity: 0.7;\"></path><path transform=\"translate(74,75)\" d=\"M2.7386127875258306,0A2.7386127875258306,2.7386127875258306,0,1,1,-2.7386127875258306,0A2.7386127875258306,2.7386127875258306,0,1,1,2.7386127875258306,0\" style=\"fill: none; stroke: #54a24b; stroke-width: 2; opacity: 0.7;\"></path><path transform=\"translate(127.60000000000001,140.83333333333331)\" d=\"M2.7386127875258306,0A2.7386127875258306,2.7386127875258306,0,1,1,-2.7386127875258306,0A2.7386127875258306,2.7386127875258306,0,1,1,2.7386127875258306,0\" style=\"fill: none; stroke: #f58518; stroke-width: 2; opacity: 0.7;\"></path><path transform=\"translate(136.4,145.83333333333334)\" d=\"M2.7386127875258306,0A2.7386127875258306,2.7386127875258306,0,1,1,-2.7386127875258306,0A2.7386127875258306,2.7386127875258306,0,1,1,2.7386127875258306,0\" style=\"fill: none; stroke: #f58518; stroke-width: 2; opacity: 0.7;\"></path><path transform=\"translate(142.8,133.33333333333334)\" d=\"M2.7386127875258306,0A2.7386127875258306,2.7386127875258306,0,1,1,-2.7386127875258306,0A2.7386127875258306,2.7386127875258306,0,1,1,2.7386127875258306,0\" style=\"fill: none; stroke: #f58518; stroke-width: 2; opacity: 0.7;\"></path><path transform=\"translate(109.59999999999998,133.33333333333334)\" d=\"M2.7386127875258306,0A2.7386127875258306,2.7386127875258306,0,1,1,-2.7386127875258306,0A2.7386127875258306,2.7386127875258306,0,1,1,2.7386127875258306,0\" style=\"fill: none; stroke: #f58518; stroke-width: 2; opacity: 0.7;\"></path><path transform=\"translate(101.6,135.83333333333334)\" d=\"M2.7386127875258306,0A2.7386127875258306,2.7386127875258306,0,1,1,-2.7386127875258306,0A2.7386127875258306,2.7386127875258306,0,1,1,2.7386127875258306,0\" style=\"fill: none; stroke: #e45756; stroke-width: 2; opacity: 0.7;\"></path><path transform=\"translate(92,95.83333333333333)\" d=\"M2.7386127875258306,0A2.7386127875258306,2.7386127875258306,0,1,1,-2.7386127875258306,0A2.7386127875258306,2.7386127875258306,0,1,1,2.7386127875258306,0\" style=\"fill: none; stroke: #54a24b; stroke-width: 2; opacity: 0.7;\"></path><path transform=\"translate(108.80000000000001,140.83333333333331)\" d=\"M2.7386127875258306,0A2.7386127875258306,2.7386127875258306,0,1,1,-2.7386127875258306,0A2.7386127875258306,2.7386127875258306,0,1,1,2.7386127875258306,0\" style=\"fill: none; stroke: #f58518; stroke-width: 2; opacity: 0.7;\"></path><path transform=\"translate(95.6,125)\" d=\"M2.7386127875258306,0A2.7386127875258306,2.7386127875258306,0,1,1,-2.7386127875258306,0A2.7386127875258306,2.7386127875258306,0,1,1,2.7386127875258306,0\" style=\"fill: none; stroke: #54a24b; stroke-width: 2; opacity: 0.7;\"></path><path transform=\"translate(136.8,141.66666666666666)\" d=\"M2.7386127875258306,0A2.7386127875258306,2.7386127875258306,0,1,1,-2.7386127875258306,0A2.7386127875258306,2.7386127875258306,0,1,1,2.7386127875258306,0\" style=\"fill: none; stroke: #f58518; stroke-width: 2; opacity: 0.7;\"></path><path transform=\"translate(138,141.66666666666666)\" d=\"M2.7386127875258306,0A2.7386127875258306,2.7386127875258306,0,1,1,-2.7386127875258306,0A2.7386127875258306,2.7386127875258306,0,1,1,2.7386127875258306,0\" style=\"fill: none; stroke: #f58518; stroke-width: 2; opacity: 0.7;\"></path><path transform=\"translate(127.2,145.83333333333334)\" d=\"M2.7386127875258306,0A2.7386127875258306,2.7386127875258306,0,1,1,-2.7386127875258306,0A2.7386127875258306,2.7386127875258306,0,1,1,2.7386127875258306,0\" style=\"fill: none; stroke: #f58518; stroke-width: 2; opacity: 0.7;\"></path><path transform=\"translate(149.2,142.5)\" d=\"M2.7386127875258306,0A2.7386127875258306,2.7386127875258306,0,1,1,-2.7386127875258306,0A2.7386127875258306,2.7386127875258306,0,1,1,2.7386127875258306,0\" style=\"fill: none; stroke: #f58518; stroke-width: 2; opacity: 0.7;\"></path><path transform=\"translate(113.6,125)\" d=\"M2.7386127875258306,0A2.7386127875258306,2.7386127875258306,0,1,1,-2.7386127875258306,0A2.7386127875258306,2.7386127875258306,0,1,1,2.7386127875258306,0\" style=\"fill: none; stroke: #f58518; stroke-width: 2; opacity: 0.7;\"></path><path transform=\"translate(115.20000000000002,104.16666666666666)\" d=\"M2.7386127875258306,0A2.7386127875258306,2.7386127875258306,0,1,1,-2.7386127875258306,0A2.7386127875258306,2.7386127875258306,0,1,1,2.7386127875258306,0\" style=\"fill: none; stroke: #72b7b2; stroke-width: 2; opacity: 0.7;\"></path><path transform=\"translate(107.2,104.16666666666666)\" d=\"M2.7386127875258306,0A2.7386127875258306,2.7386127875258306,0,1,1,-2.7386127875258306,0A2.7386127875258306,2.7386127875258306,0,1,1,2.7386127875258306,0\" style=\"fill: none; stroke: #72b7b2; stroke-width: 2; opacity: 0.7;\"></path><path transform=\"translate(134,125)\" d=\"M2.7386127875258306,0A2.7386127875258306,2.7386127875258306,0,1,1,-2.7386127875258306,0A2.7386127875258306,2.7386127875258306,0,1,1,2.7386127875258306,0\" style=\"fill: none; stroke: #f58518; stroke-width: 2; opacity: 0.7;\"></path><path transform=\"translate(166,136.66666666666666)\" d=\"M2.7386127875258306,0A2.7386127875258306,2.7386127875258306,0,1,1,-2.7386127875258306,0A2.7386127875258306,2.7386127875258306,0,1,1,2.7386127875258306,0\" style=\"fill: none; stroke: #f58518; stroke-width: 2; opacity: 0.7;\"></path><path transform=\"translate(152.4,150)\" d=\"M2.7386127875258306,0A2.7386127875258306,2.7386127875258306,0,1,1,-2.7386127875258306,0A2.7386127875258306,2.7386127875258306,0,1,1,2.7386127875258306,0\" style=\"fill: none; stroke: #f58518; stroke-width: 2; opacity: 0.7;\"></path><path transform=\"translate(128.4,141.66666666666666)\" d=\"M2.7386127875258306,0A2.7386127875258306,2.7386127875258306,0,1,1,-2.7386127875258306,0A2.7386127875258306,2.7386127875258306,0,1,1,2.7386127875258306,0\" style=\"fill: none; stroke: #f58518; stroke-width: 2; opacity: 0.7;\"></path><path transform=\"translate(148.8,145.83333333333334)\" d=\"M2.7386127875258306,0A2.7386127875258306,2.7386127875258306,0,1,1,-2.7386127875258306,0A2.7386127875258306,2.7386127875258306,0,1,1,2.7386127875258306,0\" style=\"fill: none; stroke: #f58518; stroke-width: 2; opacity: 0.7;\"></path><path transform=\"translate(112.00000000000001,125)\" d=\"M2.7386127875258306,0A2.7386127875258306,2.7386127875258306,0,1,1,-2.7386127875258306,0A2.7386127875258306,2.7386127875258306,0,1,1,2.7386127875258306,0\" style=\"fill: none; stroke: #f58518; stroke-width: 2; opacity: 0.7;\"></path><path transform=\"translate(105.60000000000001,126.66666666666666)\" d=\"M2.7386127875258306,0A2.7386127875258306,2.7386127875258306,0,1,1,-2.7386127875258306,0A2.7386127875258306,2.7386127875258306,0,1,1,2.7386127875258306,0\" style=\"fill: none; stroke: #f58518; stroke-width: 2; opacity: 0.7;\"></path><path transform=\"translate(97.2,125)\" d=\"M2.7386127875258306,0A2.7386127875258306,2.7386127875258306,0,1,1,-2.7386127875258306,0A2.7386127875258306,2.7386127875258306,0,1,1,2.7386127875258306,0\" style=\"fill: none; stroke: #f58518; stroke-width: 2; opacity: 0.7;\"></path><path transform=\"translate(76.4,125)\" d=\"M2.7386127875258306,0A2.7386127875258306,2.7386127875258306,0,1,1,-2.7386127875258306,0A2.7386127875258306,2.7386127875258306,0,1,1,2.7386127875258306,0\" style=\"fill: none; stroke: #72b7b2; stroke-width: 2; opacity: 0.7;\"></path><path transform=\"translate(137.2,135)\" d=\"M2.7386127875258306,0A2.7386127875258306,2.7386127875258306,0,1,1,-2.7386127875258306,0A2.7386127875258306,2.7386127875258306,0,1,1,2.7386127875258306,0\" style=\"fill: none; stroke: #f58518; stroke-width: 2; opacity: 0.7;\"></path><path transform=\"translate(119.19999999999999,125)\" d=\"M2.7386127875258306,0A2.7386127875258306,2.7386127875258306,0,1,1,-2.7386127875258306,0A2.7386127875258306,2.7386127875258306,0,1,1,2.7386127875258306,0\" style=\"fill: none; stroke: #f58518; stroke-width: 2; opacity: 0.7;\"></path><path transform=\"translate(125.2,137.5)\" d=\"M2.7386127875258306,0A2.7386127875258306,2.7386127875258306,0,1,1,-2.7386127875258306,0A2.7386127875258306,2.7386127875258306,0,1,1,2.7386127875258306,0\" style=\"fill: none; stroke: #f58518; stroke-width: 2; opacity: 0.7;\"></path><path transform=\"translate(148,123.33333333333334)\" d=\"M2.7386127875258306,0A2.7386127875258306,2.7386127875258306,0,1,1,-2.7386127875258306,0A2.7386127875258306,2.7386127875258306,0,1,1,2.7386127875258306,0\" style=\"fill: none; stroke: #f58518; stroke-width: 2; opacity: 0.7;\"></path><path transform=\"translate(128.8,137.5)\" d=\"M2.7386127875258306,0A2.7386127875258306,2.7386127875258306,0,1,1,-2.7386127875258306,0A2.7386127875258306,2.7386127875258306,0,1,1,2.7386127875258306,0\" style=\"fill: none; stroke: #f58518; stroke-width: 2; opacity: 0.7;\"></path><path transform=\"translate(186.4,145.83333333333334)\" d=\"M2.7386127875258306,0A2.7386127875258306,2.7386127875258306,0,1,1,-2.7386127875258306,0A2.7386127875258306,2.7386127875258306,0,1,1,2.7386127875258306,0\" style=\"fill: none; stroke: #f58518; stroke-width: 2; opacity: 0.7;\"></path><path transform=\"translate(111.6,112.5)\" d=\"M2.7386127875258306,0A2.7386127875258306,2.7386127875258306,0,1,1,-2.7386127875258306,0A2.7386127875258306,2.7386127875258306,0,1,1,2.7386127875258306,0\" style=\"fill: none; stroke: #f58518; stroke-width: 2; opacity: 0.7;\"></path><path transform=\"translate(163.2,145.83333333333334)\" d=\"M2.7386127875258306,0A2.7386127875258306,2.7386127875258306,0,1,1,-2.7386127875258306,0A2.7386127875258306,2.7386127875258306,0,1,1,2.7386127875258306,0\" style=\"fill: none; stroke: #f58518; stroke-width: 2; opacity: 0.7;\"></path><path transform=\"translate(177.2,160)\" d=\"M2.7386127875258306,0A2.7386127875258306,2.7386127875258306,0,1,1,-2.7386127875258306,0A2.7386127875258306,2.7386127875258306,0,1,1,2.7386127875258306,0\" style=\"fill: none; stroke: #f58518; stroke-width: 2; opacity: 0.7;\"></path><path transform=\"translate(173.6,160)\" d=\"M2.7386127875258306,0A2.7386127875258306,2.7386127875258306,0,1,1,-2.7386127875258306,0A2.7386127875258306,2.7386127875258306,0,1,1,2.7386127875258306,0\" style=\"fill: none; stroke: #f58518; stroke-width: 2; opacity: 0.7;\"></path><path transform=\"translate(145.6,144.16666666666666)\" d=\"M2.7386127875258306,0A2.7386127875258306,2.7386127875258306,0,1,1,-2.7386127875258306,0A2.7386127875258306,2.7386127875258306,0,1,1,2.7386127875258306,0\" style=\"fill: none; stroke: #e45756; stroke-width: 2; opacity: 0.7;\"></path><path transform=\"translate(120,144.16666666666666)\" d=\"M2.7386127875258306,0A2.7386127875258306,2.7386127875258306,0,1,1,-2.7386127875258306,0A2.7386127875258306,2.7386127875258306,0,1,1,2.7386127875258306,0\" style=\"fill: none; stroke: #f58518; stroke-width: 2; opacity: 0.7;\"></path><path transform=\"translate(178.4,144.16666666666666)\" d=\"M2.7386127875258306,0A2.7386127875258306,2.7386127875258306,0,1,1,-2.7386127875258306,0A2.7386127875258306,2.7386127875258306,0,1,1,2.7386127875258306,0\" style=\"fill: none; stroke: #f58518; stroke-width: 2; opacity: 0.7;\"></path><path transform=\"translate(135.2,144.16666666666666)\" d=\"M2.7386127875258306,0A2.7386127875258306,2.7386127875258306,0,1,1,-2.7386127875258306,0A2.7386127875258306,2.7386127875258306,0,1,1,2.7386127875258306,0\" style=\"fill: none; stroke: #f58518; stroke-width: 2; opacity: 0.7;\"></path><path transform=\"translate(119.19999999999999,148.33333333333334)\" d=\"M2.7386127875258306,0A2.7386127875258306,2.7386127875258306,0,1,1,-2.7386127875258306,0A2.7386127875258306,2.7386127875258306,0,1,1,2.7386127875258306,0\" style=\"fill: none; stroke: #f58518; stroke-width: 2; opacity: 0.7;\"></path><path transform=\"translate(130.8,89.99999999999999)\" d=\"M2.7386127875258306,0A2.7386127875258306,2.7386127875258306,0,1,1,-2.7386127875258306,0A2.7386127875258306,2.7386127875258306,0,1,1,2.7386127875258306,0\" style=\"fill: none; stroke: #72b7b2; stroke-width: 2; opacity: 0.7;\"></path><path transform=\"translate(94.8,116.66666666666666)\" d=\"M2.7386127875258306,0A2.7386127875258306,2.7386127875258306,0,1,1,-2.7386127875258306,0A2.7386127875258306,2.7386127875258306,0,1,1,2.7386127875258306,0\" style=\"fill: none; stroke: #4c78a8; stroke-width: 2; opacity: 0.7;\"></path><path transform=\"translate(140,126.66666666666666)\" d=\"M2.7386127875258306,0A2.7386127875258306,2.7386127875258306,0,1,1,-2.7386127875258306,0A2.7386127875258306,2.7386127875258306,0,1,1,2.7386127875258306,0\" style=\"fill: none; stroke: #f58518; stroke-width: 2; opacity: 0.7;\"></path><path transform=\"translate(129.6,140)\" d=\"M2.7386127875258306,0A2.7386127875258306,2.7386127875258306,0,1,1,-2.7386127875258306,0A2.7386127875258306,2.7386127875258306,0,1,1,2.7386127875258306,0\" style=\"fill: none; stroke: #f58518; stroke-width: 2; opacity: 0.7;\"></path><path transform=\"translate(108.80000000000001,130)\" d=\"M2.7386127875258306,0A2.7386127875258306,2.7386127875258306,0,1,1,-2.7386127875258306,0A2.7386127875258306,2.7386127875258306,0,1,1,2.7386127875258306,0\" style=\"fill: none; stroke: #f58518; stroke-width: 2; opacity: 0.7;\"></path><path transform=\"translate(106.4,130)\" d=\"M2.7386127875258306,0A2.7386127875258306,2.7386127875258306,0,1,1,-2.7386127875258306,0A2.7386127875258306,2.7386127875258306,0,1,1,2.7386127875258306,0\" style=\"fill: none; stroke: #f58518; stroke-width: 2; opacity: 0.7;\"></path><path transform=\"translate(103.2,123.33333333333334)\" d=\"M2.7386127875258306,0A2.7386127875258306,2.7386127875258306,0,1,1,-2.7386127875258306,0A2.7386127875258306,2.7386127875258306,0,1,1,2.7386127875258306,0\" style=\"fill: none; stroke: #f58518; stroke-width: 2; opacity: 0.7;\"></path><path transform=\"translate(94,108.33333333333334)\" d=\"M2.7386127875258306,0A2.7386127875258306,2.7386127875258306,0,1,1,-2.7386127875258306,0A2.7386127875258306,2.7386127875258306,0,1,1,2.7386127875258306,0\" style=\"fill: none; stroke: #72b7b2; stroke-width: 2; opacity: 0.7;\"></path><path transform=\"translate(120,130)\" d=\"M2.7386127875258306,0A2.7386127875258306,2.7386127875258306,0,1,1,-2.7386127875258306,0A2.7386127875258306,2.7386127875258306,0,1,1,2.7386127875258306,0\" style=\"fill: none; stroke: #f58518; stroke-width: 2; opacity: 0.7;\"></path><path transform=\"translate(156.4,151.66666666666666)\" d=\"M2.7386127875258306,0A2.7386127875258306,2.7386127875258306,0,1,1,-2.7386127875258306,0A2.7386127875258306,2.7386127875258306,0,1,1,2.7386127875258306,0\" style=\"fill: none; stroke: #f58518; stroke-width: 2; opacity: 0.7;\"></path><path transform=\"translate(156,146.66666666666669)\" d=\"M2.7386127875258306,0A2.7386127875258306,2.7386127875258306,0,1,1,-2.7386127875258306,0A2.7386127875258306,2.7386127875258306,0,1,1,2.7386127875258306,0\" style=\"fill: none; stroke: #f58518; stroke-width: 2; opacity: 0.7;\"></path><path transform=\"translate(140.4,150)\" d=\"M2.7386127875258306,0A2.7386127875258306,2.7386127875258306,0,1,1,-2.7386127875258306,0A2.7386127875258306,2.7386127875258306,0,1,1,2.7386127875258306,0\" style=\"fill: none; stroke: #f58518; stroke-width: 2; opacity: 0.7;\"></path><path transform=\"translate(129.2,144.16666666666666)\" d=\"M2.7386127875258306,0A2.7386127875258306,2.7386127875258306,0,1,1,-2.7386127875258306,0A2.7386127875258306,2.7386127875258306,0,1,1,2.7386127875258306,0\" style=\"fill: none; stroke: #f58518; stroke-width: 2; opacity: 0.7;\"></path><path transform=\"translate(148,145.83333333333334)\" d=\"M2.7386127875258306,0A2.7386127875258306,2.7386127875258306,0,1,1,-2.7386127875258306,0A2.7386127875258306,2.7386127875258306,0,1,1,2.7386127875258306,0\" style=\"fill: none; stroke: #f58518; stroke-width: 2; opacity: 0.7;\"></path><path transform=\"translate(150.8,148.33333333333334)\" d=\"M2.7386127875258306,0A2.7386127875258306,2.7386127875258306,0,1,1,-2.7386127875258306,0A2.7386127875258306,2.7386127875258306,0,1,1,2.7386127875258306,0\" style=\"fill: none; stroke: #f58518; stroke-width: 2; opacity: 0.7;\"></path><path transform=\"translate(136.4,143.33333333333334)\" d=\"M2.7386127875258306,0A2.7386127875258306,2.7386127875258306,0,1,1,-2.7386127875258306,0A2.7386127875258306,2.7386127875258306,0,1,1,2.7386127875258306,0\" style=\"fill: none; stroke: #f58518; stroke-width: 2; opacity: 0.7;\"></path><path transform=\"translate(138.8,147.5)\" d=\"M2.7386127875258306,0A2.7386127875258306,2.7386127875258306,0,1,1,-2.7386127875258306,0A2.7386127875258306,2.7386127875258306,0,1,1,2.7386127875258306,0\" style=\"fill: none; stroke: #f58518; stroke-width: 2; opacity: 0.7;\"></path><path transform=\"translate(137.6,145.83333333333334)\" d=\"M2.7386127875258306,0A2.7386127875258306,2.7386127875258306,0,1,1,-2.7386127875258306,0A2.7386127875258306,2.7386127875258306,0,1,1,2.7386127875258306,0\" style=\"fill: none; stroke: #f58518; stroke-width: 2; opacity: 0.7;\"></path><path transform=\"translate(119.6,145.83333333333334)\" d=\"M2.7386127875258306,0A2.7386127875258306,2.7386127875258306,0,1,1,-2.7386127875258306,0A2.7386127875258306,2.7386127875258306,0,1,1,2.7386127875258306,0\" style=\"fill: none; stroke: #f58518; stroke-width: 2; opacity: 0.7;\"></path><path transform=\"translate(132,138.33333333333334)\" d=\"M2.7386127875258306,0A2.7386127875258306,2.7386127875258306,0,1,1,-2.7386127875258306,0A2.7386127875258306,2.7386127875258306,0,1,1,2.7386127875258306,0\" style=\"fill: none; stroke: #f58518; stroke-width: 2; opacity: 0.7;\"></path><path transform=\"translate(134.8,137.5)\" d=\"M2.7386127875258306,0A2.7386127875258306,2.7386127875258306,0,1,1,-2.7386127875258306,0A2.7386127875258306,2.7386127875258306,0,1,1,2.7386127875258306,0\" style=\"fill: none; stroke: #f58518; stroke-width: 2; opacity: 0.7;\"></path><path transform=\"translate(129.6,137.5)\" d=\"M2.7386127875258306,0A2.7386127875258306,2.7386127875258306,0,1,1,-2.7386127875258306,0A2.7386127875258306,2.7386127875258306,0,1,1,2.7386127875258306,0\" style=\"fill: none; stroke: #f58518; stroke-width: 2; opacity: 0.7;\"></path><path transform=\"translate(131.6,116.66666666666666)\" d=\"M2.7386127875258306,0A2.7386127875258306,2.7386127875258306,0,1,1,-2.7386127875258306,0A2.7386127875258306,2.7386127875258306,0,1,1,2.7386127875258306,0\" style=\"fill: none; stroke: #f58518; stroke-width: 2; opacity: 0.7;\"></path><path transform=\"translate(126.4,138.33333333333334)\" d=\"M2.7386127875258306,0A2.7386127875258306,2.7386127875258306,0,1,1,-2.7386127875258306,0A2.7386127875258306,2.7386127875258306,0,1,1,2.7386127875258306,0\" style=\"fill: none; stroke: #f58518; stroke-width: 2; opacity: 0.7;\"></path><path transform=\"translate(112.4,133.33333333333334)\" d=\"M2.7386127875258306,0A2.7386127875258306,2.7386127875258306,0,1,1,-2.7386127875258306,0A2.7386127875258306,2.7386127875258306,0,1,1,2.7386127875258306,0\" style=\"fill: none; stroke: #f58518; stroke-width: 2; opacity: 0.7;\"></path><path transform=\"translate(122.8,136.66666666666666)\" d=\"M2.7386127875258306,0A2.7386127875258306,2.7386127875258306,0,1,1,-2.7386127875258306,0A2.7386127875258306,2.7386127875258306,0,1,1,2.7386127875258306,0\" style=\"fill: none; stroke: #72b7b2; stroke-width: 2; opacity: 0.7;\"></path><path transform=\"translate(101.6,103.33333333333331)\" d=\"M2.7386127875258306,0A2.7386127875258306,2.7386127875258306,0,1,1,-2.7386127875258306,0A2.7386127875258306,2.7386127875258306,0,1,1,2.7386127875258306,0\" style=\"fill: none; stroke: #72b7b2; stroke-width: 2; opacity: 0.7;\"></path><path transform=\"translate(96.8,100)\" d=\"M2.7386127875258306,0A2.7386127875258306,2.7386127875258306,0,1,1,-2.7386127875258306,0A2.7386127875258306,2.7386127875258306,0,1,1,2.7386127875258306,0\" style=\"fill: none; stroke: #72b7b2; stroke-width: 2; opacity: 0.7;\"></path><path transform=\"translate(89.6,108.33333333333334)\" d=\"M2.7386127875258306,0A2.7386127875258306,2.7386127875258306,0,1,1,-2.7386127875258306,0A2.7386127875258306,2.7386127875258306,0,1,1,2.7386127875258306,0\" style=\"fill: none; stroke: #72b7b2; stroke-width: 2; opacity: 0.7;\"></path><path transform=\"translate(106.4,112.5)\" d=\"M2.7386127875258306,0A2.7386127875258306,2.7386127875258306,0,1,1,-2.7386127875258306,0A2.7386127875258306,2.7386127875258306,0,1,1,2.7386127875258306,0\" style=\"fill: none; stroke: #54a24b; stroke-width: 2; opacity: 0.7;\"></path><path transform=\"translate(80.8,126.66666666666666)\" d=\"M2.7386127875258306,0A2.7386127875258306,2.7386127875258306,0,1,1,-2.7386127875258306,0A2.7386127875258306,2.7386127875258306,0,1,1,2.7386127875258306,0\" style=\"fill: none; stroke: #72b7b2; stroke-width: 2; opacity: 0.7;\"></path><path transform=\"translate(70.4,129.16666666666666)\" d=\"M2.7386127875258306,0A2.7386127875258306,2.7386127875258306,0,1,1,-2.7386127875258306,0A2.7386127875258306,2.7386127875258306,0,1,1,2.7386127875258306,0\" style=\"fill: none; stroke: #72b7b2; stroke-width: 2; opacity: 0.7;\"></path><path transform=\"translate(112.00000000000001,126.66666666666666)\" d=\"M2.7386127875258306,0A2.7386127875258306,2.7386127875258306,0,1,1,-2.7386127875258306,0A2.7386127875258306,2.7386127875258306,0,1,1,2.7386127875258306,0\" style=\"fill: none; stroke: #f58518; stroke-width: 2; opacity: 0.7;\"></path><path transform=\"translate(108,126.66666666666666)\" d=\"M2.7386127875258306,0A2.7386127875258306,2.7386127875258306,0,1,1,-2.7386127875258306,0A2.7386127875258306,2.7386127875258306,0,1,1,2.7386127875258306,0\" style=\"fill: none; stroke: #f58518; stroke-width: 2; opacity: 0.7;\"></path><path transform=\"translate(136,126.66666666666666)\" d=\"M2.7386127875258306,0A2.7386127875258306,2.7386127875258306,0,1,1,-2.7386127875258306,0A2.7386127875258306,2.7386127875258306,0,1,1,2.7386127875258306,0\" style=\"fill: none; stroke: #f58518; stroke-width: 2; opacity: 0.7;\"></path><path transform=\"translate(124,129.16666666666666)\" d=\"M2.7386127875258306,0A2.7386127875258306,2.7386127875258306,0,1,1,-2.7386127875258306,0A2.7386127875258306,2.7386127875258306,0,1,1,2.7386127875258306,0\" style=\"fill: none; stroke: #f58518; stroke-width: 2; opacity: 0.7;\"></path><path transform=\"translate(115.99999999999999,130)\" d=\"M2.7386127875258306,0A2.7386127875258306,2.7386127875258306,0,1,1,-2.7386127875258306,0A2.7386127875258306,2.7386127875258306,0,1,1,2.7386127875258306,0\" style=\"fill: none; stroke: #f58518; stroke-width: 2; opacity: 0.7;\"></path><path transform=\"translate(108,125)\" d=\"M2.7386127875258306,0A2.7386127875258306,2.7386127875258306,0,1,1,-2.7386127875258306,0A2.7386127875258306,2.7386127875258306,0,1,1,2.7386127875258306,0\" style=\"fill: none; stroke: #f58518; stroke-width: 2; opacity: 0.7;\"></path><path transform=\"translate(96,123.33333333333334)\" d=\"M2.7386127875258306,0A2.7386127875258306,2.7386127875258306,0,1,1,-2.7386127875258306,0A2.7386127875258306,2.7386127875258306,0,1,1,2.7386127875258306,0\" style=\"fill: none; stroke: #f58518; stroke-width: 2; opacity: 0.7;\"></path><path transform=\"translate(144,138.33333333333334)\" d=\"M2.7386127875258306,0A2.7386127875258306,2.7386127875258306,0,1,1,-2.7386127875258306,0A2.7386127875258306,2.7386127875258306,0,1,1,2.7386127875258306,0\" style=\"fill: none; stroke: #f58518; stroke-width: 2; opacity: 0.7;\"></path><path transform=\"translate(148,143.33333333333334)\" d=\"M2.7386127875258306,0A2.7386127875258306,2.7386127875258306,0,1,1,-2.7386127875258306,0A2.7386127875258306,2.7386127875258306,0,1,1,2.7386127875258306,0\" style=\"fill: none; stroke: #f58518; stroke-width: 2; opacity: 0.7;\"></path><path transform=\"translate(124,143.33333333333334)\" d=\"M2.7386127875258306,0A2.7386127875258306,2.7386127875258306,0,1,1,-2.7386127875258306,0A2.7386127875258306,2.7386127875258306,0,1,1,2.7386127875258306,0\" style=\"fill: none; stroke: #f58518; stroke-width: 2; opacity: 0.7;\"></path><path transform=\"translate(152,147.5)\" d=\"M2.7386127875258306,0A2.7386127875258306,2.7386127875258306,0,1,1,-2.7386127875258306,0A2.7386127875258306,2.7386127875258306,0,1,1,2.7386127875258306,0\" style=\"fill: none; stroke: #f58518; stroke-width: 2; opacity: 0.7;\"></path><path transform=\"translate(144,141.66666666666666)\" d=\"M2.7386127875258306,0A2.7386127875258306,2.7386127875258306,0,1,1,-2.7386127875258306,0A2.7386127875258306,2.7386127875258306,0,1,1,2.7386127875258306,0\" style=\"fill: none; stroke: #f58518; stroke-width: 2; opacity: 0.7;\"></path><path transform=\"translate(144,126.66666666666666)\" d=\"M2.7386127875258306,0A2.7386127875258306,2.7386127875258306,0,1,1,-2.7386127875258306,0A2.7386127875258306,2.7386127875258306,0,1,1,2.7386127875258306,0\" style=\"fill: none; stroke: #f58518; stroke-width: 2; opacity: 0.7;\"></path><path transform=\"translate(144,137.5)\" d=\"M2.7386127875258306,0A2.7386127875258306,2.7386127875258306,0,1,1,-2.7386127875258306,0A2.7386127875258306,2.7386127875258306,0,1,1,2.7386127875258306,0\" style=\"fill: none; stroke: #f58518; stroke-width: 2; opacity: 0.7;\"></path><path transform=\"translate(136,141.66666666666666)\" d=\"M2.7386127875258306,0A2.7386127875258306,2.7386127875258306,0,1,1,-2.7386127875258306,0A2.7386127875258306,2.7386127875258306,0,1,1,2.7386127875258306,0\" style=\"fill: none; stroke: #f58518; stroke-width: 2; opacity: 0.7;\"></path><path transform=\"translate(152,144.16666666666666)\" d=\"M2.7386127875258306,0A2.7386127875258306,2.7386127875258306,0,1,1,-2.7386127875258306,0A2.7386127875258306,2.7386127875258306,0,1,1,2.7386127875258306,0\" style=\"fill: none; stroke: #f58518; stroke-width: 2; opacity: 0.7;\"></path><path transform=\"translate(128,144.16666666666666)\" d=\"M2.7386127875258306,0A2.7386127875258306,2.7386127875258306,0,1,1,-2.7386127875258306,0A2.7386127875258306,2.7386127875258306,0,1,1,2.7386127875258306,0\" style=\"fill: none; stroke: #f58518; stroke-width: 2; opacity: 0.7;\"></path><path transform=\"translate(152,144.16666666666666)\" d=\"M2.7386127875258306,0A2.7386127875258306,2.7386127875258306,0,1,1,-2.7386127875258306,0A2.7386127875258306,2.7386127875258306,0,1,1,2.7386127875258306,0\" style=\"fill: none; stroke: #f58518; stroke-width: 2; opacity: 0.7;\"></path><path transform=\"translate(100,108.33333333333334)\" d=\"M2.7386127875258306,0A2.7386127875258306,2.7386127875258306,0,1,1,-2.7386127875258306,0A2.7386127875258306,2.7386127875258306,0,1,1,2.7386127875258306,0\" style=\"fill: none; stroke: #72b7b2; stroke-width: 2; opacity: 0.7;\"></path><path transform=\"translate(152,129.16666666666666)\" d=\"M2.7386127875258306,0A2.7386127875258306,2.7386127875258306,0,1,1,-2.7386127875258306,0A2.7386127875258306,2.7386127875258306,0,1,1,2.7386127875258306,0\" style=\"fill: none; stroke: #72b7b2; stroke-width: 2; opacity: 0.7;\"></path><path transform=\"translate(104,123.33333333333334)\" d=\"M2.7386127875258306,0A2.7386127875258306,2.7386127875258306,0,1,1,-2.7386127875258306,0A2.7386127875258306,2.7386127875258306,0,1,1,2.7386127875258306,0\" style=\"fill: none; stroke: #f58518; stroke-width: 2; opacity: 0.7;\"></path><path transform=\"translate(88,106.66666666666667)\" d=\"M2.7386127875258306,0A2.7386127875258306,2.7386127875258306,0,1,1,-2.7386127875258306,0A2.7386127875258306,2.7386127875258306,0,1,1,2.7386127875258306,0\" style=\"fill: none; stroke: #72b7b2; stroke-width: 2; opacity: 0.7;\"></path><path transform=\"translate(128,120)\" d=\"M2.7386127875258306,0A2.7386127875258306,2.7386127875258306,0,1,1,-2.7386127875258306,0A2.7386127875258306,2.7386127875258306,0,1,1,2.7386127875258306,0\" style=\"fill: none; stroke: #f58518; stroke-width: 2; opacity: 0.7;\"></path><path transform=\"translate(144,130)\" d=\"M2.7386127875258306,0A2.7386127875258306,2.7386127875258306,0,1,1,-2.7386127875258306,0A2.7386127875258306,2.7386127875258306,0,1,1,2.7386127875258306,0\" style=\"fill: none; stroke: #f58518; stroke-width: 2; opacity: 0.7;\"></path><path transform=\"translate(108,125)\" d=\"M2.7386127875258306,0A2.7386127875258306,2.7386127875258306,0,1,1,-2.7386127875258306,0A2.7386127875258306,2.7386127875258306,0,1,1,2.7386127875258306,0\" style=\"fill: none; stroke: #f58518; stroke-width: 2; opacity: 0.7;\"></path><path transform=\"translate(108,128.33333333333331)\" d=\"M2.7386127875258306,0A2.7386127875258306,2.7386127875258306,0,1,1,-2.7386127875258306,0A2.7386127875258306,2.7386127875258306,0,1,1,2.7386127875258306,0\" style=\"fill: none; stroke: #f58518; stroke-width: 2; opacity: 0.7;\"></path><path transform=\"translate(176,156.66666666666666)\" d=\"M2.7386127875258306,0A2.7386127875258306,2.7386127875258306,0,1,1,-2.7386127875258306,0A2.7386127875258306,2.7386127875258306,0,1,1,2.7386127875258306,0\" style=\"fill: none; stroke: #f58518; stroke-width: 2; opacity: 0.7;\"></path><path transform=\"translate(128,130)\" d=\"M2.7386127875258306,0A2.7386127875258306,2.7386127875258306,0,1,1,-2.7386127875258306,0A2.7386127875258306,2.7386127875258306,0,1,1,2.7386127875258306,0\" style=\"fill: none; stroke: #f58518; stroke-width: 2; opacity: 0.7;\"></path><path transform=\"translate(112.00000000000001,134.16666666666669)\" d=\"M2.7386127875258306,0A2.7386127875258306,2.7386127875258306,0,1,1,-2.7386127875258306,0A2.7386127875258306,2.7386127875258306,0,1,1,2.7386127875258306,0\" style=\"fill: none; stroke: #f58518; stroke-width: 2; opacity: 0.7;\"></path><path transform=\"translate(124,131.66666666666666)\" d=\"M2.7386127875258306,0A2.7386127875258306,2.7386127875258306,0,1,1,-2.7386127875258306,0A2.7386127875258306,2.7386127875258306,0,1,1,2.7386127875258306,0\" style=\"fill: none; stroke: #f58518; stroke-width: 2; opacity: 0.7;\"></path></g><g class=\"mark-group role-legend\"><g transform=\"translate(218,0)\"><path class=\"background\" d=\"M0,0h63v93h-63Z\" style=\"pointer-events: none; fill: none;\"></path><g><g class=\"mark-group role-legend-entry\"><g transform=\"translate(0,16)\"><path class=\"background\" d=\"M0,0h0v0h0Z\" style=\"pointer-events: none; fill: none;\"></path><g><g class=\"mark-group role-scope\"><g transform=\"translate(0,0)\"><path class=\"background\" d=\"M0,0h22v12.5h-22Z\" style=\"pointer-events: none; fill: none; opacity: 1;\"></path><g><g class=\"mark-symbol role-legend-symbol\" style=\"pointer-events: none;\"><path transform=\"translate(6,6)\" d=\"M5,0A5,5,0,1,1,-5,0A5,5,0,1,1,5,0\" style=\"fill: none; stroke: #4c78a8; stroke-width: 1.5; opacity: 0.7;\"></path></g><g class=\"mark-text role-legend-label\" style=\"pointer-events: none;\"><text text-anchor=\"start\" transform=\"translate(16,9)\" style=\"font-family: sans-serif; font-size: 10px; fill: #000; opacity: 1;\">3</text></g></g></g><g transform=\"translate(0,16)\"><path class=\"background\" d=\"M0,0h22v12.5h-22Z\" style=\"pointer-events: none; fill: none; opacity: 1;\"></path><g><g class=\"mark-symbol role-legend-symbol\" style=\"pointer-events: none;\"><path transform=\"translate(6,6)\" d=\"M5,0A5,5,0,1,1,-5,0A5,5,0,1,1,5,0\" style=\"fill: none; stroke: #f58518; stroke-width: 1.5; opacity: 0.7;\"></path></g><g class=\"mark-text role-legend-label\" style=\"pointer-events: none;\"><text text-anchor=\"start\" transform=\"translate(16,9)\" style=\"font-family: sans-serif; font-size: 10px; fill: #000; opacity: 1;\">4</text></g></g></g><g transform=\"translate(0,32)\"><path class=\"background\" d=\"M0,0h22v12.5h-22Z\" style=\"pointer-events: none; fill: none; opacity: 1;\"></path><g><g class=\"mark-symbol role-legend-symbol\" style=\"pointer-events: none;\"><path transform=\"translate(6,6)\" d=\"M5,0A5,5,0,1,1,-5,0A5,5,0,1,1,5,0\" style=\"fill: none; stroke: #e45756; stroke-width: 1.5; opacity: 0.7;\"></path></g><g class=\"mark-text role-legend-label\" style=\"pointer-events: none;\"><text text-anchor=\"start\" transform=\"translate(16,9)\" style=\"font-family: sans-serif; font-size: 10px; fill: #000; opacity: 1;\">5</text></g></g></g><g transform=\"translate(0,48)\"><path class=\"background\" d=\"M0,0h22v12.5h-22Z\" style=\"pointer-events: none; fill: none; opacity: 1;\"></path><g><g class=\"mark-symbol role-legend-symbol\" style=\"pointer-events: none;\"><path transform=\"translate(6,6)\" d=\"M5,0A5,5,0,1,1,-5,0A5,5,0,1,1,5,0\" style=\"fill: none; stroke: #72b7b2; stroke-width: 1.5; opacity: 0.7;\"></path></g><g class=\"mark-text role-legend-label\" style=\"pointer-events: none;\"><text text-anchor=\"start\" transform=\"translate(16,9)\" style=\"font-family: sans-serif; font-size: 10px; fill: #000; opacity: 1;\">6</text></g></g></g><g transform=\"translate(0,64)\"><path class=\"background\" d=\"M0,0h22v12.5h-22Z\" style=\"pointer-events: none; fill: none; opacity: 1;\"></path><g><g class=\"mark-symbol role-legend-symbol\" style=\"pointer-events: none;\"><path transform=\"translate(6,6)\" d=\"M5,0A5,5,0,1,1,-5,0A5,5,0,1,1,5,0\" style=\"fill: none; stroke: #54a24b; stroke-width: 1.5; opacity: 0.7;\"></path></g><g class=\"mark-text role-legend-label\" style=\"pointer-events: none;\"><text text-anchor=\"start\" transform=\"translate(16,9)\" style=\"font-family: sans-serif; font-size: 10px; fill: #000; opacity: 1;\">8</text></g></g></g></g></g></g></g><g class=\"mark-text role-legend-title\" style=\"pointer-events: none;\"><text text-anchor=\"start\" transform=\"translate(0,9)\" style=\"font-family: sans-serif; font-size: 11px; font-weight: bold; fill: #000; opacity: 1;\">Cylinders</text></g></g></g></g><g class=\"mark-group role-axis\"><g transform=\"translate(0.5,200.5)\"><path class=\"background\" d=\"M0,0h0v0h0Z\" style=\"pointer-events: none; fill: none;\"></path><g><g class=\"mark-rule role-axis-tick\" style=\"pointer-events: none;\"><line transform=\"translate(0,0)\" x2=\"0\" y2=\"5\" style=\"fill: none; stroke: #888; stroke-width: 1; opacity: 1;\"></line><line transform=\"translate(40,0)\" x2=\"0\" y2=\"5\" style=\"fill: none; stroke: #888; stroke-width: 1; opacity: 1;\"></line><line transform=\"translate(80,0)\" x2=\"0\" y2=\"5\" style=\"fill: none; stroke: #888; stroke-width: 1; opacity: 1;\"></line><line transform=\"translate(120,0)\" x2=\"0\" y2=\"5\" style=\"fill: none; stroke: #888; stroke-width: 1; opacity: 1;\"></line><line transform=\"translate(160,0)\" x2=\"0\" y2=\"5\" style=\"fill: none; stroke: #888; stroke-width: 1; opacity: 1;\"></line><line transform=\"translate(200,0)\" x2=\"0\" y2=\"5\" style=\"fill: none; stroke: #888; stroke-width: 1; opacity: 1;\"></line></g><g class=\"mark-text role-axis-label\" style=\"pointer-events: none;\"><text text-anchor=\"start\" transform=\"translate(0,15)\" style=\"font-family: sans-serif; font-size: 10px; fill: #000; opacity: 1;\">0</text><text text-anchor=\"middle\" transform=\"translate(40,15)\" style=\"font-family: sans-serif; font-size: 10px; fill: #000; opacity: 1;\">10</text><text text-anchor=\"middle\" transform=\"translate(80,15)\" style=\"font-family: sans-serif; font-size: 10px; fill: #000; opacity: 1;\">20</text><text text-anchor=\"middle\" transform=\"translate(120,15)\" style=\"font-family: sans-serif; font-size: 10px; fill: #000; opacity: 1;\">30</text><text text-anchor=\"middle\" transform=\"translate(160,15)\" style=\"font-family: sans-serif; font-size: 10px; fill: #000; opacity: 1;\">40</text><text text-anchor=\"end\" transform=\"translate(200,15)\" style=\"font-family: sans-serif; font-size: 10px; fill: #000; opacity: 1;\">50</text></g><g class=\"mark-rule role-axis-domain\" style=\"pointer-events: none;\"><line transform=\"translate(0,0)\" x2=\"200\" y2=\"0\" style=\"fill: none; stroke: #888; stroke-width: 1; opacity: 1;\"></line></g><g class=\"mark-text role-axis-title\" style=\"pointer-events: none;\"><text text-anchor=\"middle\" transform=\"translate(100,30)\" style=\"font-family: sans-serif; font-size: 11px; font-weight: bold; fill: #000; opacity: 1;\">Miles_per_Gallon</text></g></g></g></g><g class=\"mark-group role-axis\"><g transform=\"translate(0.5,0.5)\"><path class=\"background\" d=\"M0,0h0v0h0Z\" style=\"pointer-events: none; fill: none;\"></path><g><g class=\"mark-rule role-axis-tick\" style=\"pointer-events: none;\"><line transform=\"translate(0,200)\" x2=\"-5\" y2=\"0\" style=\"fill: none; stroke: #888; stroke-width: 1; opacity: 1;\"></line><line transform=\"translate(0,158)\" x2=\"-5\" y2=\"0\" style=\"fill: none; stroke: #888; stroke-width: 1; opacity: 1;\"></line><line transform=\"translate(0,117)\" x2=\"-5\" y2=\"0\" style=\"fill: none; stroke: #888; stroke-width: 1; opacity: 1;\"></line><line transform=\"translate(0,75)\" x2=\"-5\" y2=\"0\" style=\"fill: none; stroke: #888; stroke-width: 1; opacity: 1;\"></line><line transform=\"translate(0,33)\" x2=\"-5\" y2=\"0\" style=\"fill: none; stroke: #888; stroke-width: 1; opacity: 1;\"></line></g><g class=\"mark-text role-axis-label\" style=\"pointer-events: none;\"><text text-anchor=\"end\" transform=\"translate(-7,203)\" style=\"font-family: sans-serif; font-size: 10px; fill: #000; opacity: 1;\">0</text><text text-anchor=\"end\" transform=\"translate(-7,161.33333333333331)\" style=\"font-family: sans-serif; font-size: 10px; fill: #000; opacity: 1;\">50</text><text text-anchor=\"end\" transform=\"translate(-7,119.66666666666666)\" style=\"font-family: sans-serif; font-size: 10px; fill: #000; opacity: 1;\">100</text><text text-anchor=\"end\" transform=\"translate(-7,78)\" style=\"font-family: sans-serif; font-size: 10px; fill: #000; opacity: 1;\">150</text><text text-anchor=\"end\" transform=\"translate(-7,36.33333333333333)\" style=\"font-family: sans-serif; font-size: 10px; fill: #000; opacity: 1;\">200</text></g><g class=\"mark-rule role-axis-domain\" style=\"pointer-events: none;\"><line transform=\"translate(0,200)\" x2=\"0\" y2=\"-200\" style=\"fill: none; stroke: #888; stroke-width: 1; opacity: 1;\"></line></g><g class=\"mark-text role-axis-title\" style=\"pointer-events: none;\"><text text-anchor=\"middle\" transform=\"translate(-29,100) rotate(-90) translate(0,-2)\" style=\"font-family: sans-serif; font-size: 11px; font-weight: bold; fill: #000; opacity: 1;\">Horsepower</text></g></g></g></g></g></g></g></g></svg>"
      ],
      "text/plain": [
       "VegaLite.VLSpec{:plot}"
      ]
     },
     "execution_count": 10,
     "metadata": {
      "tags": []
     },
     "output_type": "execute_result"
    }
   ],
   "source": [
    "data |>\n",
    "@vlplot(:point, x=:Miles_per_Gallon, y=:Horsepower, color=\"Cylinders:n\")"
   ]
  },
  {
   "cell_type": "code",
   "execution_count": null,
   "metadata": {
    "colab": {
     "base_uri": "https://localhost:8080/",
     "height": 316
    },
    "id": "vSHMMP52Rpdf",
    "outputId": "53a6a075-9c07-40af-e505-182a26db4b77"
   },
   "outputs": [
    {
     "data": {
      "application/vnd.vegalite.v3+json": {
       "data": {
        "values": [
         {
          "Acceleration": 12,
          "Cylinders": 8,
          "Displacement": 307,
          "Horsepower": 130,
          "Miles_per_Gallon": 18,
          "Name": "chevrolet chevelle malibu",
          "Origin": "USA",
          "Weight_in_lbs": 3504,
          "Year": "1970-01-01"
         },
         {
          "Acceleration": 11.5,
          "Cylinders": 8,
          "Displacement": 350,
          "Horsepower": 165,
          "Miles_per_Gallon": 15,
          "Name": "buick skylark 320",
          "Origin": "USA",
          "Weight_in_lbs": 3693,
          "Year": "1970-01-01"
         },
         {
          "Acceleration": 11,
          "Cylinders": 8,
          "Displacement": 318,
          "Horsepower": 150,
          "Miles_per_Gallon": 18,
          "Name": "plymouth satellite",
          "Origin": "USA",
          "Weight_in_lbs": 3436,
          "Year": "1970-01-01"
         },
         {
          "Acceleration": 12,
          "Cylinders": 8,
          "Displacement": 304,
          "Horsepower": 150,
          "Miles_per_Gallon": 16,
          "Name": "amc rebel sst",
          "Origin": "USA",
          "Weight_in_lbs": 3433,
          "Year": "1970-01-01"
         },
         {
          "Acceleration": 10.5,
          "Cylinders": 8,
          "Displacement": 302,
          "Horsepower": 140,
          "Miles_per_Gallon": 17,
          "Name": "ford torino",
          "Origin": "USA",
          "Weight_in_lbs": 3449,
          "Year": "1970-01-01"
         },
         {
          "Acceleration": 10,
          "Cylinders": 8,
          "Displacement": 429,
          "Horsepower": 198,
          "Miles_per_Gallon": 15,
          "Name": "ford galaxie 500",
          "Origin": "USA",
          "Weight_in_lbs": 4341,
          "Year": "1970-01-01"
         },
         {
          "Acceleration": 9,
          "Cylinders": 8,
          "Displacement": 454,
          "Horsepower": 220,
          "Miles_per_Gallon": 14,
          "Name": "chevrolet impala",
          "Origin": "USA",
          "Weight_in_lbs": 4354,
          "Year": "1970-01-01"
         },
         {
          "Acceleration": 8.5,
          "Cylinders": 8,
          "Displacement": 440,
          "Horsepower": 215,
          "Miles_per_Gallon": 14,
          "Name": "plymouth fury iii",
          "Origin": "USA",
          "Weight_in_lbs": 4312,
          "Year": "1970-01-01"
         },
         {
          "Acceleration": 10,
          "Cylinders": 8,
          "Displacement": 455,
          "Horsepower": 225,
          "Miles_per_Gallon": 14,
          "Name": "pontiac catalina",
          "Origin": "USA",
          "Weight_in_lbs": 4425,
          "Year": "1970-01-01"
         },
         {
          "Acceleration": 8.5,
          "Cylinders": 8,
          "Displacement": 390,
          "Horsepower": 190,
          "Miles_per_Gallon": 15,
          "Name": "amc ambassador dpl",
          "Origin": "USA",
          "Weight_in_lbs": 3850,
          "Year": "1970-01-01"
         },
         {
          "Acceleration": 17.5,
          "Cylinders": 4,
          "Displacement": 133,
          "Horsepower": 115,
          "Miles_per_Gallon": null,
          "Name": "citroen ds-21 pallas",
          "Origin": "Europe",
          "Weight_in_lbs": 3090,
          "Year": "1970-01-01"
         },
         {
          "Acceleration": 11.5,
          "Cylinders": 8,
          "Displacement": 350,
          "Horsepower": 165,
          "Miles_per_Gallon": null,
          "Name": "chevrolet chevelle concours (sw)",
          "Origin": "USA",
          "Weight_in_lbs": 4142,
          "Year": "1970-01-01"
         },
         {
          "Acceleration": 11,
          "Cylinders": 8,
          "Displacement": 351,
          "Horsepower": 153,
          "Miles_per_Gallon": null,
          "Name": "ford torino (sw)",
          "Origin": "USA",
          "Weight_in_lbs": 4034,
          "Year": "1970-01-01"
         },
         {
          "Acceleration": 10.5,
          "Cylinders": 8,
          "Displacement": 383,
          "Horsepower": 175,
          "Miles_per_Gallon": null,
          "Name": "plymouth satellite (sw)",
          "Origin": "USA",
          "Weight_in_lbs": 4166,
          "Year": "1970-01-01"
         },
         {
          "Acceleration": 11,
          "Cylinders": 8,
          "Displacement": 360,
          "Horsepower": 175,
          "Miles_per_Gallon": null,
          "Name": "amc rebel sst (sw)",
          "Origin": "USA",
          "Weight_in_lbs": 3850,
          "Year": "1970-01-01"
         },
         {
          "Acceleration": 10,
          "Cylinders": 8,
          "Displacement": 383,
          "Horsepower": 170,
          "Miles_per_Gallon": 15,
          "Name": "dodge challenger se",
          "Origin": "USA",
          "Weight_in_lbs": 3563,
          "Year": "1970-01-01"
         },
         {
          "Acceleration": 8,
          "Cylinders": 8,
          "Displacement": 340,
          "Horsepower": 160,
          "Miles_per_Gallon": 14,
          "Name": "plymouth 'cuda 340",
          "Origin": "USA",
          "Weight_in_lbs": 3609,
          "Year": "1970-01-01"
         },
         {
          "Acceleration": 8,
          "Cylinders": 8,
          "Displacement": 302,
          "Horsepower": 140,
          "Miles_per_Gallon": null,
          "Name": "ford mustang boss 302",
          "Origin": "USA",
          "Weight_in_lbs": 3353,
          "Year": "1970-01-01"
         },
         {
          "Acceleration": 9.5,
          "Cylinders": 8,
          "Displacement": 400,
          "Horsepower": 150,
          "Miles_per_Gallon": 15,
          "Name": "chevrolet monte carlo",
          "Origin": "USA",
          "Weight_in_lbs": 3761,
          "Year": "1970-01-01"
         },
         {
          "Acceleration": 10,
          "Cylinders": 8,
          "Displacement": 455,
          "Horsepower": 225,
          "Miles_per_Gallon": 14,
          "Name": "buick estate wagon (sw)",
          "Origin": "USA",
          "Weight_in_lbs": 3086,
          "Year": "1970-01-01"
         },
         {
          "Acceleration": 15,
          "Cylinders": 4,
          "Displacement": 113,
          "Horsepower": 95,
          "Miles_per_Gallon": 24,
          "Name": "toyota corona mark ii",
          "Origin": "Japan",
          "Weight_in_lbs": 2372,
          "Year": "1970-01-01"
         },
         {
          "Acceleration": 15.5,
          "Cylinders": 6,
          "Displacement": 198,
          "Horsepower": 95,
          "Miles_per_Gallon": 22,
          "Name": "plymouth duster",
          "Origin": "USA",
          "Weight_in_lbs": 2833,
          "Year": "1970-01-01"
         },
         {
          "Acceleration": 15.5,
          "Cylinders": 6,
          "Displacement": 199,
          "Horsepower": 97,
          "Miles_per_Gallon": 18,
          "Name": "amc hornet",
          "Origin": "USA",
          "Weight_in_lbs": 2774,
          "Year": "1970-01-01"
         },
         {
          "Acceleration": 16,
          "Cylinders": 6,
          "Displacement": 200,
          "Horsepower": 85,
          "Miles_per_Gallon": 21,
          "Name": "ford maverick",
          "Origin": "USA",
          "Weight_in_lbs": 2587,
          "Year": "1970-01-01"
         },
         {
          "Acceleration": 14.5,
          "Cylinders": 4,
          "Displacement": 97,
          "Horsepower": 88,
          "Miles_per_Gallon": 27,
          "Name": "datsun pl510",
          "Origin": "Japan",
          "Weight_in_lbs": 2130,
          "Year": "1970-01-01"
         },
         {
          "Acceleration": 20.5,
          "Cylinders": 4,
          "Displacement": 97,
          "Horsepower": 46,
          "Miles_per_Gallon": 26,
          "Name": "volkswagen 1131 deluxe sedan",
          "Origin": "Europe",
          "Weight_in_lbs": 1835,
          "Year": "1970-01-01"
         },
         {
          "Acceleration": 17.5,
          "Cylinders": 4,
          "Displacement": 110,
          "Horsepower": 87,
          "Miles_per_Gallon": 25,
          "Name": "peugeot 504",
          "Origin": "Europe",
          "Weight_in_lbs": 2672,
          "Year": "1970-01-01"
         },
         {
          "Acceleration": 14.5,
          "Cylinders": 4,
          "Displacement": 107,
          "Horsepower": 90,
          "Miles_per_Gallon": 24,
          "Name": "audi 100 ls",
          "Origin": "Europe",
          "Weight_in_lbs": 2430,
          "Year": "1970-01-01"
         },
         {
          "Acceleration": 17.5,
          "Cylinders": 4,
          "Displacement": 104,
          "Horsepower": 95,
          "Miles_per_Gallon": 25,
          "Name": "saab 99e",
          "Origin": "Europe",
          "Weight_in_lbs": 2375,
          "Year": "1970-01-01"
         },
         {
          "Acceleration": 12.5,
          "Cylinders": 4,
          "Displacement": 121,
          "Horsepower": 113,
          "Miles_per_Gallon": 26,
          "Name": "bmw 2002",
          "Origin": "Europe",
          "Weight_in_lbs": 2234,
          "Year": "1970-01-01"
         },
         {
          "Acceleration": 15,
          "Cylinders": 6,
          "Displacement": 199,
          "Horsepower": 90,
          "Miles_per_Gallon": 21,
          "Name": "amc gremlin",
          "Origin": "USA",
          "Weight_in_lbs": 2648,
          "Year": "1970-01-01"
         },
         {
          "Acceleration": 14,
          "Cylinders": 8,
          "Displacement": 360,
          "Horsepower": 215,
          "Miles_per_Gallon": 10,
          "Name": "ford f250",
          "Origin": "USA",
          "Weight_in_lbs": 4615,
          "Year": "1970-01-01"
         },
         {
          "Acceleration": 15,
          "Cylinders": 8,
          "Displacement": 307,
          "Horsepower": 200,
          "Miles_per_Gallon": 10,
          "Name": "chevy c20",
          "Origin": "USA",
          "Weight_in_lbs": 4376,
          "Year": "1970-01-01"
         },
         {
          "Acceleration": 13.5,
          "Cylinders": 8,
          "Displacement": 318,
          "Horsepower": 210,
          "Miles_per_Gallon": 11,
          "Name": "dodge d200",
          "Origin": "USA",
          "Weight_in_lbs": 4382,
          "Year": "1970-01-01"
         },
         {
          "Acceleration": 18.5,
          "Cylinders": 8,
          "Displacement": 304,
          "Horsepower": 193,
          "Miles_per_Gallon": 9,
          "Name": "hi 1200d",
          "Origin": "USA",
          "Weight_in_lbs": 4732,
          "Year": "1970-01-01"
         },
         {
          "Acceleration": 14.5,
          "Cylinders": 4,
          "Displacement": 97,
          "Horsepower": 88,
          "Miles_per_Gallon": 27,
          "Name": "datsun pl510",
          "Origin": "Japan",
          "Weight_in_lbs": 2130,
          "Year": "1971-01-01"
         },
         {
          "Acceleration": 15.5,
          "Cylinders": 4,
          "Displacement": 140,
          "Horsepower": 90,
          "Miles_per_Gallon": 28,
          "Name": "chevrolet vega 2300",
          "Origin": "USA",
          "Weight_in_lbs": 2264,
          "Year": "1971-01-01"
         },
         {
          "Acceleration": 14,
          "Cylinders": 4,
          "Displacement": 113,
          "Horsepower": 95,
          "Miles_per_Gallon": 25,
          "Name": "toyota corona",
          "Origin": "Japan",
          "Weight_in_lbs": 2228,
          "Year": "1971-01-01"
         },
         {
          "Acceleration": 19,
          "Cylinders": 4,
          "Displacement": 98,
          "Horsepower": null,
          "Miles_per_Gallon": 25,
          "Name": "ford pinto",
          "Origin": "USA",
          "Weight_in_lbs": 2046,
          "Year": "1971-01-01"
         },
         {
          "Acceleration": 20,
          "Cylinders": 4,
          "Displacement": 97,
          "Horsepower": 48,
          "Miles_per_Gallon": null,
          "Name": "volkswagen super beetle 117",
          "Origin": "Europe",
          "Weight_in_lbs": 1978,
          "Year": "1971-01-01"
         },
         {
          "Acceleration": 13,
          "Cylinders": 6,
          "Displacement": 232,
          "Horsepower": 100,
          "Miles_per_Gallon": 19,
          "Name": "amc gremlin",
          "Origin": "USA",
          "Weight_in_lbs": 2634,
          "Year": "1971-01-01"
         },
         {
          "Acceleration": 15.5,
          "Cylinders": 6,
          "Displacement": 225,
          "Horsepower": 105,
          "Miles_per_Gallon": 16,
          "Name": "plymouth satellite custom",
          "Origin": "USA",
          "Weight_in_lbs": 3439,
          "Year": "1971-01-01"
         },
         {
          "Acceleration": 15.5,
          "Cylinders": 6,
          "Displacement": 250,
          "Horsepower": 100,
          "Miles_per_Gallon": 17,
          "Name": "chevrolet chevelle malibu",
          "Origin": "USA",
          "Weight_in_lbs": 3329,
          "Year": "1971-01-01"
         },
         {
          "Acceleration": 15.5,
          "Cylinders": 6,
          "Displacement": 250,
          "Horsepower": 88,
          "Miles_per_Gallon": 19,
          "Name": "ford torino 500",
          "Origin": "USA",
          "Weight_in_lbs": 3302,
          "Year": "1971-01-01"
         },
         {
          "Acceleration": 15.5,
          "Cylinders": 6,
          "Displacement": 232,
          "Horsepower": 100,
          "Miles_per_Gallon": 18,
          "Name": "amc matador",
          "Origin": "USA",
          "Weight_in_lbs": 3288,
          "Year": "1971-01-01"
         },
         {
          "Acceleration": 12,
          "Cylinders": 8,
          "Displacement": 350,
          "Horsepower": 165,
          "Miles_per_Gallon": 14,
          "Name": "chevrolet impala",
          "Origin": "USA",
          "Weight_in_lbs": 4209,
          "Year": "1971-01-01"
         },
         {
          "Acceleration": 11.5,
          "Cylinders": 8,
          "Displacement": 400,
          "Horsepower": 175,
          "Miles_per_Gallon": 14,
          "Name": "pontiac catalina brougham",
          "Origin": "USA",
          "Weight_in_lbs": 4464,
          "Year": "1971-01-01"
         },
         {
          "Acceleration": 13.5,
          "Cylinders": 8,
          "Displacement": 351,
          "Horsepower": 153,
          "Miles_per_Gallon": 14,
          "Name": "ford galaxie 500",
          "Origin": "USA",
          "Weight_in_lbs": 4154,
          "Year": "1971-01-01"
         },
         {
          "Acceleration": 13,
          "Cylinders": 8,
          "Displacement": 318,
          "Horsepower": 150,
          "Miles_per_Gallon": 14,
          "Name": "plymouth fury iii",
          "Origin": "USA",
          "Weight_in_lbs": 4096,
          "Year": "1971-01-01"
         },
         {
          "Acceleration": 11.5,
          "Cylinders": 8,
          "Displacement": 383,
          "Horsepower": 180,
          "Miles_per_Gallon": 12,
          "Name": "dodge monaco (sw)",
          "Origin": "USA",
          "Weight_in_lbs": 4955,
          "Year": "1971-01-01"
         },
         {
          "Acceleration": 12,
          "Cylinders": 8,
          "Displacement": 400,
          "Horsepower": 170,
          "Miles_per_Gallon": 13,
          "Name": "ford country squire (sw)",
          "Origin": "USA",
          "Weight_in_lbs": 4746,
          "Year": "1971-01-01"
         },
         {
          "Acceleration": 12,
          "Cylinders": 8,
          "Displacement": 400,
          "Horsepower": 175,
          "Miles_per_Gallon": 13,
          "Name": "pontiac safari (sw)",
          "Origin": "USA",
          "Weight_in_lbs": 5140,
          "Year": "1971-01-01"
         },
         {
          "Acceleration": 13.5,
          "Cylinders": 6,
          "Displacement": 258,
          "Horsepower": 110,
          "Miles_per_Gallon": 18,
          "Name": "amc hornet sportabout (sw)",
          "Origin": "USA",
          "Weight_in_lbs": 2962,
          "Year": "1971-01-01"
         },
         {
          "Acceleration": 19,
          "Cylinders": 4,
          "Displacement": 140,
          "Horsepower": 72,
          "Miles_per_Gallon": 22,
          "Name": "chevrolet vega (sw)",
          "Origin": "USA",
          "Weight_in_lbs": 2408,
          "Year": "1971-01-01"
         },
         {
          "Acceleration": 15,
          "Cylinders": 6,
          "Displacement": 250,
          "Horsepower": 100,
          "Miles_per_Gallon": 19,
          "Name": "pontiac firebird",
          "Origin": "USA",
          "Weight_in_lbs": 3282,
          "Year": "1971-01-01"
         },
         {
          "Acceleration": 14.5,
          "Cylinders": 6,
          "Displacement": 250,
          "Horsepower": 88,
          "Miles_per_Gallon": 18,
          "Name": "ford mustang",
          "Origin": "USA",
          "Weight_in_lbs": 3139,
          "Year": "1971-01-01"
         },
         {
          "Acceleration": 14,
          "Cylinders": 4,
          "Displacement": 122,
          "Horsepower": 86,
          "Miles_per_Gallon": 23,
          "Name": "mercury capri 2000",
          "Origin": "USA",
          "Weight_in_lbs": 2220,
          "Year": "1971-01-01"
         },
         {
          "Acceleration": 14,
          "Cylinders": 4,
          "Displacement": 116,
          "Horsepower": 90,
          "Miles_per_Gallon": 28,
          "Name": "opel 1900",
          "Origin": "Europe",
          "Weight_in_lbs": 2123,
          "Year": "1971-01-01"
         },
         {
          "Acceleration": 19.5,
          "Cylinders": 4,
          "Displacement": 79,
          "Horsepower": 70,
          "Miles_per_Gallon": 30,
          "Name": "peugeot 304",
          "Origin": "Europe",
          "Weight_in_lbs": 2074,
          "Year": "1971-01-01"
         },
         {
          "Acceleration": 14.5,
          "Cylinders": 4,
          "Displacement": 88,
          "Horsepower": 76,
          "Miles_per_Gallon": 30,
          "Name": "fiat 124b",
          "Origin": "Europe",
          "Weight_in_lbs": 2065,
          "Year": "1971-01-01"
         },
         {
          "Acceleration": 19,
          "Cylinders": 4,
          "Displacement": 71,
          "Horsepower": 65,
          "Miles_per_Gallon": 31,
          "Name": "toyota corolla 1200",
          "Origin": "Japan",
          "Weight_in_lbs": 1773,
          "Year": "1971-01-01"
         },
         {
          "Acceleration": 18,
          "Cylinders": 4,
          "Displacement": 72,
          "Horsepower": 69,
          "Miles_per_Gallon": 35,
          "Name": "datsun 1200",
          "Origin": "Japan",
          "Weight_in_lbs": 1613,
          "Year": "1971-01-01"
         },
         {
          "Acceleration": 19,
          "Cylinders": 4,
          "Displacement": 97,
          "Horsepower": 60,
          "Miles_per_Gallon": 27,
          "Name": "volkswagen model 111",
          "Origin": "Europe",
          "Weight_in_lbs": 1834,
          "Year": "1971-01-01"
         },
         {
          "Acceleration": 20.5,
          "Cylinders": 4,
          "Displacement": 91,
          "Horsepower": 70,
          "Miles_per_Gallon": 26,
          "Name": "plymouth cricket",
          "Origin": "USA",
          "Weight_in_lbs": 1955,
          "Year": "1971-01-01"
         },
         {
          "Acceleration": 15.5,
          "Cylinders": 4,
          "Displacement": 113,
          "Horsepower": 95,
          "Miles_per_Gallon": 24,
          "Name": "toyota corona hardtop",
          "Origin": "Japan",
          "Weight_in_lbs": 2278,
          "Year": "1972-01-01"
         },
         {
          "Acceleration": 17,
          "Cylinders": 4,
          "Displacement": 97.5,
          "Horsepower": 80,
          "Miles_per_Gallon": 25,
          "Name": "dodge colt hardtop",
          "Origin": "USA",
          "Weight_in_lbs": 2126,
          "Year": "1972-01-01"
         },
         {
          "Acceleration": 23.5,
          "Cylinders": 4,
          "Displacement": 97,
          "Horsepower": 54,
          "Miles_per_Gallon": 23,
          "Name": "volkswagen type 3",
          "Origin": "Europe",
          "Weight_in_lbs": 2254,
          "Year": "1972-01-01"
         },
         {
          "Acceleration": 19.5,
          "Cylinders": 4,
          "Displacement": 140,
          "Horsepower": 90,
          "Miles_per_Gallon": 20,
          "Name": "chevrolet vega",
          "Origin": "USA",
          "Weight_in_lbs": 2408,
          "Year": "1972-01-01"
         },
         {
          "Acceleration": 16.5,
          "Cylinders": 4,
          "Displacement": 122,
          "Horsepower": 86,
          "Miles_per_Gallon": 21,
          "Name": "ford pinto runabout",
          "Origin": "USA",
          "Weight_in_lbs": 2226,
          "Year": "1972-01-01"
         },
         {
          "Acceleration": 12,
          "Cylinders": 8,
          "Displacement": 350,
          "Horsepower": 165,
          "Miles_per_Gallon": 13,
          "Name": "chevrolet impala",
          "Origin": "USA",
          "Weight_in_lbs": 4274,
          "Year": "1972-01-01"
         },
         {
          "Acceleration": 12,
          "Cylinders": 8,
          "Displacement": 400,
          "Horsepower": 175,
          "Miles_per_Gallon": 14,
          "Name": "pontiac catalina",
          "Origin": "USA",
          "Weight_in_lbs": 4385,
          "Year": "1972-01-01"
         },
         {
          "Acceleration": 13.5,
          "Cylinders": 8,
          "Displacement": 318,
          "Horsepower": 150,
          "Miles_per_Gallon": 15,
          "Name": "plymouth fury iii",
          "Origin": "USA",
          "Weight_in_lbs": 4135,
          "Year": "1972-01-01"
         },
         {
          "Acceleration": 13,
          "Cylinders": 8,
          "Displacement": 351,
          "Horsepower": 153,
          "Miles_per_Gallon": 14,
          "Name": "ford galaxie 500",
          "Origin": "USA",
          "Weight_in_lbs": 4129,
          "Year": "1972-01-01"
         },
         {
          "Acceleration": 11.5,
          "Cylinders": 8,
          "Displacement": 304,
          "Horsepower": 150,
          "Miles_per_Gallon": 17,
          "Name": "amc ambassador sst",
          "Origin": "USA",
          "Weight_in_lbs": 3672,
          "Year": "1972-01-01"
         },
         {
          "Acceleration": 11,
          "Cylinders": 8,
          "Displacement": 429,
          "Horsepower": 208,
          "Miles_per_Gallon": 11,
          "Name": "mercury marquis",
          "Origin": "USA",
          "Weight_in_lbs": 4633,
          "Year": "1972-01-01"
         },
         {
          "Acceleration": 13.5,
          "Cylinders": 8,
          "Displacement": 350,
          "Horsepower": 155,
          "Miles_per_Gallon": 13,
          "Name": "buick lesabre custom",
          "Origin": "USA",
          "Weight_in_lbs": 4502,
          "Year": "1972-01-01"
         },
         {
          "Acceleration": 13.5,
          "Cylinders": 8,
          "Displacement": 350,
          "Horsepower": 160,
          "Miles_per_Gallon": 12,
          "Name": "oldsmobile delta 88 royale",
          "Origin": "USA",
          "Weight_in_lbs": 4456,
          "Year": "1972-01-01"
         },
         {
          "Acceleration": 12.5,
          "Cylinders": 8,
          "Displacement": 400,
          "Horsepower": 190,
          "Miles_per_Gallon": 13,
          "Name": "chrysler newport royal",
          "Origin": "USA",
          "Weight_in_lbs": 4422,
          "Year": "1972-01-01"
         },
         {
          "Acceleration": 13.5,
          "Cylinders": 3,
          "Displacement": 70,
          "Horsepower": 97,
          "Miles_per_Gallon": 19,
          "Name": "mazda rx2 coupe",
          "Origin": "Japan",
          "Weight_in_lbs": 2330,
          "Year": "1972-01-01"
         },
         {
          "Acceleration": 12.5,
          "Cylinders": 8,
          "Displacement": 304,
          "Horsepower": 150,
          "Miles_per_Gallon": 15,
          "Name": "amc matador (sw)",
          "Origin": "USA",
          "Weight_in_lbs": 3892,
          "Year": "1972-01-01"
         },
         {
          "Acceleration": 14,
          "Cylinders": 8,
          "Displacement": 307,
          "Horsepower": 130,
          "Miles_per_Gallon": 13,
          "Name": "chevrolet chevelle concours (sw)",
          "Origin": "USA",
          "Weight_in_lbs": 4098,
          "Year": "1972-01-01"
         },
         {
          "Acceleration": 16,
          "Cylinders": 8,
          "Displacement": 302,
          "Horsepower": 140,
          "Miles_per_Gallon": 13,
          "Name": "ford gran torino (sw)",
          "Origin": "USA",
          "Weight_in_lbs": 4294,
          "Year": "1972-01-01"
         },
         {
          "Acceleration": 14,
          "Cylinders": 8,
          "Displacement": 318,
          "Horsepower": 150,
          "Miles_per_Gallon": 14,
          "Name": "plymouth satellite custom (sw)",
          "Origin": "USA",
          "Weight_in_lbs": 4077,
          "Year": "1972-01-01"
         },
         {
          "Acceleration": 14.5,
          "Cylinders": 4,
          "Displacement": 121,
          "Horsepower": 112,
          "Miles_per_Gallon": 18,
          "Name": "volvo 145e (sw)",
          "Origin": "Europe",
          "Weight_in_lbs": 2933,
          "Year": "1972-01-01"
         },
         {
          "Acceleration": 18,
          "Cylinders": 4,
          "Displacement": 121,
          "Horsepower": 76,
          "Miles_per_Gallon": 22,
          "Name": "volkswagen 411 (sw)",
          "Origin": "Europe",
          "Weight_in_lbs": 2511,
          "Year": "1972-01-01"
         },
         {
          "Acceleration": 19.5,
          "Cylinders": 4,
          "Displacement": 120,
          "Horsepower": 87,
          "Miles_per_Gallon": 21,
          "Name": "peugeot 504 (sw)",
          "Origin": "Europe",
          "Weight_in_lbs": 2979,
          "Year": "1972-01-01"
         },
         {
          "Acceleration": 18,
          "Cylinders": 4,
          "Displacement": 96,
          "Horsepower": 69,
          "Miles_per_Gallon": 26,
          "Name": "renault 12 (sw)",
          "Origin": "Europe",
          "Weight_in_lbs": 2189,
          "Year": "1972-01-01"
         },
         {
          "Acceleration": 16,
          "Cylinders": 4,
          "Displacement": 122,
          "Horsepower": 86,
          "Miles_per_Gallon": 22,
          "Name": "ford pinto (sw)",
          "Origin": "USA",
          "Weight_in_lbs": 2395,
          "Year": "1972-01-01"
         },
         {
          "Acceleration": 17,
          "Cylinders": 4,
          "Displacement": 97,
          "Horsepower": 92,
          "Miles_per_Gallon": 28,
          "Name": "datsun 510 (sw)",
          "Origin": "Japan",
          "Weight_in_lbs": 2288,
          "Year": "1972-01-01"
         },
         {
          "Acceleration": 14.5,
          "Cylinders": 4,
          "Displacement": 120,
          "Horsepower": 97,
          "Miles_per_Gallon": 23,
          "Name": "toyouta corona mark ii (sw)",
          "Origin": "Japan",
          "Weight_in_lbs": 2506,
          "Year": "1972-01-01"
         },
         {
          "Acceleration": 15,
          "Cylinders": 4,
          "Displacement": 98,
          "Horsepower": 80,
          "Miles_per_Gallon": 28,
          "Name": "dodge colt (sw)",
          "Origin": "USA",
          "Weight_in_lbs": 2164,
          "Year": "1972-01-01"
         },
         {
          "Acceleration": 16.5,
          "Cylinders": 4,
          "Displacement": 97,
          "Horsepower": 88,
          "Miles_per_Gallon": 27,
          "Name": "toyota corolla 1600 (sw)",
          "Origin": "Japan",
          "Weight_in_lbs": 2100,
          "Year": "1972-01-01"
         },
         {
          "Acceleration": 13,
          "Cylinders": 8,
          "Displacement": 350,
          "Horsepower": 175,
          "Miles_per_Gallon": 13,
          "Name": "buick century 350",
          "Origin": "USA",
          "Weight_in_lbs": 4100,
          "Year": "1973-01-01"
         },
         {
          "Acceleration": 11.5,
          "Cylinders": 8,
          "Displacement": 304,
          "Horsepower": 150,
          "Miles_per_Gallon": 14,
          "Name": "amc matador",
          "Origin": "USA",
          "Weight_in_lbs": 3672,
          "Year": "1973-01-01"
         },
         {
          "Acceleration": 13,
          "Cylinders": 8,
          "Displacement": 350,
          "Horsepower": 145,
          "Miles_per_Gallon": 13,
          "Name": "chevrolet malibu",
          "Origin": "USA",
          "Weight_in_lbs": 3988,
          "Year": "1973-01-01"
         },
         {
          "Acceleration": 14.5,
          "Cylinders": 8,
          "Displacement": 302,
          "Horsepower": 137,
          "Miles_per_Gallon": 14,
          "Name": "ford gran torino",
          "Origin": "USA",
          "Weight_in_lbs": 4042,
          "Year": "1973-01-01"
         },
         {
          "Acceleration": 12.5,
          "Cylinders": 8,
          "Displacement": 318,
          "Horsepower": 150,
          "Miles_per_Gallon": 15,
          "Name": "dodge coronet custom",
          "Origin": "USA",
          "Weight_in_lbs": 3777,
          "Year": "1973-01-01"
         },
         {
          "Acceleration": 11.5,
          "Cylinders": 8,
          "Displacement": 429,
          "Horsepower": 198,
          "Miles_per_Gallon": 12,
          "Name": "mercury marquis brougham",
          "Origin": "USA",
          "Weight_in_lbs": 4952,
          "Year": "1973-01-01"
         },
         {
          "Acceleration": 12,
          "Cylinders": 8,
          "Displacement": 400,
          "Horsepower": 150,
          "Miles_per_Gallon": 13,
          "Name": "chevrolet caprice classic",
          "Origin": "USA",
          "Weight_in_lbs": 4464,
          "Year": "1973-01-01"
         },
         {
          "Acceleration": 13,
          "Cylinders": 8,
          "Displacement": 351,
          "Horsepower": 158,
          "Miles_per_Gallon": 13,
          "Name": "ford ltd",
          "Origin": "USA",
          "Weight_in_lbs": 4363,
          "Year": "1973-01-01"
         },
         {
          "Acceleration": 14.5,
          "Cylinders": 8,
          "Displacement": 318,
          "Horsepower": 150,
          "Miles_per_Gallon": 14,
          "Name": "plymouth fury gran sedan",
          "Origin": "USA",
          "Weight_in_lbs": 4237,
          "Year": "1973-01-01"
         },
         {
          "Acceleration": 11,
          "Cylinders": 8,
          "Displacement": 440,
          "Horsepower": 215,
          "Miles_per_Gallon": 13,
          "Name": "chrysler new yorker brougham",
          "Origin": "USA",
          "Weight_in_lbs": 4735,
          "Year": "1973-01-01"
         },
         {
          "Acceleration": 11,
          "Cylinders": 8,
          "Displacement": 455,
          "Horsepower": 225,
          "Miles_per_Gallon": 12,
          "Name": "buick electra 225 custom",
          "Origin": "USA",
          "Weight_in_lbs": 4951,
          "Year": "1973-01-01"
         },
         {
          "Acceleration": 11,
          "Cylinders": 8,
          "Displacement": 360,
          "Horsepower": 175,
          "Miles_per_Gallon": 13,
          "Name": "amc ambassador brougham",
          "Origin": "USA",
          "Weight_in_lbs": 3821,
          "Year": "1973-01-01"
         },
         {
          "Acceleration": 16.5,
          "Cylinders": 6,
          "Displacement": 225,
          "Horsepower": 105,
          "Miles_per_Gallon": 18,
          "Name": "plymouth valiant",
          "Origin": "USA",
          "Weight_in_lbs": 3121,
          "Year": "1973-01-01"
         },
         {
          "Acceleration": 18,
          "Cylinders": 6,
          "Displacement": 250,
          "Horsepower": 100,
          "Miles_per_Gallon": 16,
          "Name": "chevrolet nova custom",
          "Origin": "USA",
          "Weight_in_lbs": 3278,
          "Year": "1973-01-01"
         },
         {
          "Acceleration": 16,
          "Cylinders": 6,
          "Displacement": 232,
          "Horsepower": 100,
          "Miles_per_Gallon": 18,
          "Name": "amc hornet",
          "Origin": "USA",
          "Weight_in_lbs": 2945,
          "Year": "1973-01-01"
         },
         {
          "Acceleration": 16.5,
          "Cylinders": 6,
          "Displacement": 250,
          "Horsepower": 88,
          "Miles_per_Gallon": 18,
          "Name": "ford maverick",
          "Origin": "USA",
          "Weight_in_lbs": 3021,
          "Year": "1973-01-01"
         },
         {
          "Acceleration": 16,
          "Cylinders": 6,
          "Displacement": 198,
          "Horsepower": 95,
          "Miles_per_Gallon": 23,
          "Name": "plymouth duster",
          "Origin": "USA",
          "Weight_in_lbs": 2904,
          "Year": "1973-01-01"
         },
         {
          "Acceleration": 21,
          "Cylinders": 4,
          "Displacement": 97,
          "Horsepower": 46,
          "Miles_per_Gallon": 26,
          "Name": "volkswagen super beetle",
          "Origin": "Europe",
          "Weight_in_lbs": 1950,
          "Year": "1973-01-01"
         },
         {
          "Acceleration": 14,
          "Cylinders": 8,
          "Displacement": 400,
          "Horsepower": 150,
          "Miles_per_Gallon": 11,
          "Name": "chevrolet impala",
          "Origin": "USA",
          "Weight_in_lbs": 4997,
          "Year": "1973-01-01"
         },
         {
          "Acceleration": 12.5,
          "Cylinders": 8,
          "Displacement": 400,
          "Horsepower": 167,
          "Miles_per_Gallon": 12,
          "Name": "ford country",
          "Origin": "USA",
          "Weight_in_lbs": 4906,
          "Year": "1973-01-01"
         },
         {
          "Acceleration": 13,
          "Cylinders": 8,
          "Displacement": 360,
          "Horsepower": 170,
          "Miles_per_Gallon": 13,
          "Name": "plymouth custom suburb",
          "Origin": "USA",
          "Weight_in_lbs": 4654,
          "Year": "1973-01-01"
         },
         {
          "Acceleration": 12.5,
          "Cylinders": 8,
          "Displacement": 350,
          "Horsepower": 180,
          "Miles_per_Gallon": 12,
          "Name": "oldsmobile vista cruiser",
          "Origin": "USA",
          "Weight_in_lbs": 4499,
          "Year": "1973-01-01"
         },
         {
          "Acceleration": 15,
          "Cylinders": 6,
          "Displacement": 232,
          "Horsepower": 100,
          "Miles_per_Gallon": 18,
          "Name": "amc gremlin",
          "Origin": "USA",
          "Weight_in_lbs": 2789,
          "Year": "1973-01-01"
         },
         {
          "Acceleration": 19,
          "Cylinders": 4,
          "Displacement": 97,
          "Horsepower": 88,
          "Miles_per_Gallon": 20,
          "Name": "toyota carina",
          "Origin": "Japan",
          "Weight_in_lbs": 2279,
          "Year": "1973-01-01"
         },
         {
          "Acceleration": 19.5,
          "Cylinders": 4,
          "Displacement": 140,
          "Horsepower": 72,
          "Miles_per_Gallon": 21,
          "Name": "chevrolet vega",
          "Origin": "USA",
          "Weight_in_lbs": 2401,
          "Year": "1973-01-01"
         },
         {
          "Acceleration": 16.5,
          "Cylinders": 4,
          "Displacement": 108,
          "Horsepower": 94,
          "Miles_per_Gallon": 22,
          "Name": "datsun 610",
          "Origin": "Japan",
          "Weight_in_lbs": 2379,
          "Year": "1973-01-01"
         },
         {
          "Acceleration": 13.5,
          "Cylinders": 3,
          "Displacement": 70,
          "Horsepower": 90,
          "Miles_per_Gallon": 18,
          "Name": "maxda rx3",
          "Origin": "Japan",
          "Weight_in_lbs": 2124,
          "Year": "1973-01-01"
         },
         {
          "Acceleration": 18.5,
          "Cylinders": 4,
          "Displacement": 122,
          "Horsepower": 85,
          "Miles_per_Gallon": 19,
          "Name": "ford pinto",
          "Origin": "USA",
          "Weight_in_lbs": 2310,
          "Year": "1973-01-01"
         },
         {
          "Acceleration": 14,
          "Cylinders": 6,
          "Displacement": 155,
          "Horsepower": 107,
          "Miles_per_Gallon": 21,
          "Name": "mercury capri v6",
          "Origin": "USA",
          "Weight_in_lbs": 2472,
          "Year": "1973-01-01"
         },
         {
          "Acceleration": 15.5,
          "Cylinders": 4,
          "Displacement": 98,
          "Horsepower": 90,
          "Miles_per_Gallon": 26,
          "Name": "fiat 124 sport coupe",
          "Origin": "Europe",
          "Weight_in_lbs": 2265,
          "Year": "1973-01-01"
         },
         {
          "Acceleration": 13,
          "Cylinders": 8,
          "Displacement": 350,
          "Horsepower": 145,
          "Miles_per_Gallon": 15,
          "Name": "chevrolet monte carlo s",
          "Origin": "USA",
          "Weight_in_lbs": 4082,
          "Year": "1973-01-01"
         },
         {
          "Acceleration": 9.5,
          "Cylinders": 8,
          "Displacement": 400,
          "Horsepower": 230,
          "Miles_per_Gallon": 16,
          "Name": "pontiac grand prix",
          "Origin": "USA",
          "Weight_in_lbs": 4278,
          "Year": "1973-01-01"
         },
         {
          "Acceleration": 19.5,
          "Cylinders": 4,
          "Displacement": 68,
          "Horsepower": 49,
          "Miles_per_Gallon": 29,
          "Name": "fiat 128",
          "Origin": "Europe",
          "Weight_in_lbs": 1867,
          "Year": "1973-01-01"
         },
         {
          "Acceleration": 15.5,
          "Cylinders": 4,
          "Displacement": 116,
          "Horsepower": 75,
          "Miles_per_Gallon": 24,
          "Name": "opel manta",
          "Origin": "Europe",
          "Weight_in_lbs": 2158,
          "Year": "1973-01-01"
         },
         {
          "Acceleration": 14,
          "Cylinders": 4,
          "Displacement": 114,
          "Horsepower": 91,
          "Miles_per_Gallon": 20,
          "Name": "audi 100ls",
          "Origin": "Europe",
          "Weight_in_lbs": 2582,
          "Year": "1973-01-01"
         },
         {
          "Acceleration": 15.5,
          "Cylinders": 4,
          "Displacement": 121,
          "Horsepower": 112,
          "Miles_per_Gallon": 19,
          "Name": "volvo 144ea",
          "Origin": "Europe",
          "Weight_in_lbs": 2868,
          "Year": "1973-01-01"
         },
         {
          "Acceleration": 11,
          "Cylinders": 8,
          "Displacement": 318,
          "Horsepower": 150,
          "Miles_per_Gallon": 15,
          "Name": "dodge dart custom",
          "Origin": "USA",
          "Weight_in_lbs": 3399,
          "Year": "1973-01-01"
         },
         {
          "Acceleration": 14,
          "Cylinders": 4,
          "Displacement": 121,
          "Horsepower": 110,
          "Miles_per_Gallon": 24,
          "Name": "saab 99le",
          "Origin": "Europe",
          "Weight_in_lbs": 2660,
          "Year": "1973-01-01"
         },
         {
          "Acceleration": 13.5,
          "Cylinders": 6,
          "Displacement": 156,
          "Horsepower": 122,
          "Miles_per_Gallon": 20,
          "Name": "toyota mark ii",
          "Origin": "Japan",
          "Weight_in_lbs": 2807,
          "Year": "1973-01-01"
         },
         {
          "Acceleration": 11,
          "Cylinders": 8,
          "Displacement": 350,
          "Horsepower": 180,
          "Miles_per_Gallon": 11,
          "Name": "oldsmobile omega",
          "Origin": "USA",
          "Weight_in_lbs": 3664,
          "Year": "1973-01-01"
         },
         {
          "Acceleration": 16.5,
          "Cylinders": 6,
          "Displacement": 198,
          "Horsepower": 95,
          "Miles_per_Gallon": 20,
          "Name": "plymouth duster",
          "Origin": "USA",
          "Weight_in_lbs": 3102,
          "Year": "1974-01-01"
         },
         {
          "Acceleration": 17,
          "Cylinders": 6,
          "Displacement": 200,
          "Horsepower": null,
          "Miles_per_Gallon": 21,
          "Name": "ford maverick",
          "Origin": "USA",
          "Weight_in_lbs": 2875,
          "Year": "1974-01-01"
         },
         {
          "Acceleration": 16,
          "Cylinders": 6,
          "Displacement": 232,
          "Horsepower": 100,
          "Miles_per_Gallon": 19,
          "Name": "amc hornet",
          "Origin": "USA",
          "Weight_in_lbs": 2901,
          "Year": "1974-01-01"
         },
         {
          "Acceleration": 17,
          "Cylinders": 6,
          "Displacement": 250,
          "Horsepower": 100,
          "Miles_per_Gallon": 15,
          "Name": "chevrolet nova",
          "Origin": "USA",
          "Weight_in_lbs": 3336,
          "Year": "1974-01-01"
         },
         {
          "Acceleration": 19,
          "Cylinders": 4,
          "Displacement": 79,
          "Horsepower": 67,
          "Miles_per_Gallon": 31,
          "Name": "datsun b210",
          "Origin": "Japan",
          "Weight_in_lbs": 1950,
          "Year": "1974-01-01"
         },
         {
          "Acceleration": 16.5,
          "Cylinders": 4,
          "Displacement": 122,
          "Horsepower": 80,
          "Miles_per_Gallon": 26,
          "Name": "ford pinto",
          "Origin": "USA",
          "Weight_in_lbs": 2451,
          "Year": "1974-01-01"
         },
         {
          "Acceleration": 21,
          "Cylinders": 4,
          "Displacement": 71,
          "Horsepower": 65,
          "Miles_per_Gallon": 32,
          "Name": "toyota corolla 1200",
          "Origin": "Japan",
          "Weight_in_lbs": 1836,
          "Year": "1974-01-01"
         },
         {
          "Acceleration": 17,
          "Cylinders": 4,
          "Displacement": 140,
          "Horsepower": 75,
          "Miles_per_Gallon": 25,
          "Name": "chevrolet vega",
          "Origin": "USA",
          "Weight_in_lbs": 2542,
          "Year": "1974-01-01"
         },
         {
          "Acceleration": 17,
          "Cylinders": 6,
          "Displacement": 250,
          "Horsepower": 100,
          "Miles_per_Gallon": 16,
          "Name": "chevrolet chevelle malibu classic",
          "Origin": "USA",
          "Weight_in_lbs": 3781,
          "Year": "1974-01-01"
         },
         {
          "Acceleration": 18,
          "Cylinders": 6,
          "Displacement": 258,
          "Horsepower": 110,
          "Miles_per_Gallon": 16,
          "Name": "amc matador",
          "Origin": "USA",
          "Weight_in_lbs": 3632,
          "Year": "1974-01-01"
         },
         {
          "Acceleration": 16.5,
          "Cylinders": 6,
          "Displacement": 225,
          "Horsepower": 105,
          "Miles_per_Gallon": 18,
          "Name": "plymouth satellite sebring",
          "Origin": "USA",
          "Weight_in_lbs": 3613,
          "Year": "1974-01-01"
         },
         {
          "Acceleration": 14,
          "Cylinders": 8,
          "Displacement": 302,
          "Horsepower": 140,
          "Miles_per_Gallon": 16,
          "Name": "ford gran torino",
          "Origin": "USA",
          "Weight_in_lbs": 4141,
          "Year": "1974-01-01"
         },
         {
          "Acceleration": 14.5,
          "Cylinders": 8,
          "Displacement": 350,
          "Horsepower": 150,
          "Miles_per_Gallon": 13,
          "Name": "buick century luxus (sw)",
          "Origin": "USA",
          "Weight_in_lbs": 4699,
          "Year": "1974-01-01"
         },
         {
          "Acceleration": 13.5,
          "Cylinders": 8,
          "Displacement": 318,
          "Horsepower": 150,
          "Miles_per_Gallon": 14,
          "Name": "dodge coronet custom (sw)",
          "Origin": "USA",
          "Weight_in_lbs": 4457,
          "Year": "1974-01-01"
         },
         {
          "Acceleration": 16,
          "Cylinders": 8,
          "Displacement": 302,
          "Horsepower": 140,
          "Miles_per_Gallon": 14,
          "Name": "ford gran torino (sw)",
          "Origin": "USA",
          "Weight_in_lbs": 4638,
          "Year": "1974-01-01"
         },
         {
          "Acceleration": 15.5,
          "Cylinders": 8,
          "Displacement": 304,
          "Horsepower": 150,
          "Miles_per_Gallon": 14,
          "Name": "amc matador (sw)",
          "Origin": "USA",
          "Weight_in_lbs": 4257,
          "Year": "1974-01-01"
         },
         {
          "Acceleration": 16.5,
          "Cylinders": 4,
          "Displacement": 98,
          "Horsepower": 83,
          "Miles_per_Gallon": 29,
          "Name": "audi fox",
          "Origin": "Europe",
          "Weight_in_lbs": 2219,
          "Year": "1974-01-01"
         },
         {
          "Acceleration": 15.5,
          "Cylinders": 4,
          "Displacement": 79,
          "Horsepower": 67,
          "Miles_per_Gallon": 26,
          "Name": "volkswagen dasher",
          "Origin": "Europe",
          "Weight_in_lbs": 1963,
          "Year": "1974-01-01"
         },
         {
          "Acceleration": 14.5,
          "Cylinders": 4,
          "Displacement": 97,
          "Horsepower": 78,
          "Miles_per_Gallon": 26,
          "Name": "opel manta",
          "Origin": "Europe",
          "Weight_in_lbs": 2300,
          "Year": "1974-01-01"
         },
         {
          "Acceleration": 16.5,
          "Cylinders": 4,
          "Displacement": 76,
          "Horsepower": 52,
          "Miles_per_Gallon": 31,
          "Name": "toyota corona",
          "Origin": "Japan",
          "Weight_in_lbs": 1649,
          "Year": "1974-01-01"
         },
         {
          "Acceleration": 19,
          "Cylinders": 4,
          "Displacement": 83,
          "Horsepower": 61,
          "Miles_per_Gallon": 32,
          "Name": "datsun 710",
          "Origin": "Japan",
          "Weight_in_lbs": 2003,
          "Year": "1974-01-01"
         },
         {
          "Acceleration": 14.5,
          "Cylinders": 4,
          "Displacement": 90,
          "Horsepower": 75,
          "Miles_per_Gallon": 28,
          "Name": "dodge colt",
          "Origin": "USA",
          "Weight_in_lbs": 2125,
          "Year": "1974-01-01"
         },
         {
          "Acceleration": 15.5,
          "Cylinders": 4,
          "Displacement": 90,
          "Horsepower": 75,
          "Miles_per_Gallon": 24,
          "Name": "fiat 128",
          "Origin": "Europe",
          "Weight_in_lbs": 2108,
          "Year": "1974-01-01"
         },
         {
          "Acceleration": 14,
          "Cylinders": 4,
          "Displacement": 116,
          "Horsepower": 75,
          "Miles_per_Gallon": 26,
          "Name": "fiat 124 tc",
          "Origin": "Europe",
          "Weight_in_lbs": 2246,
          "Year": "1974-01-01"
         },
         {
          "Acceleration": 15,
          "Cylinders": 4,
          "Displacement": 120,
          "Horsepower": 97,
          "Miles_per_Gallon": 24,
          "Name": "honda civic",
          "Origin": "Japan",
          "Weight_in_lbs": 2489,
          "Year": "1974-01-01"
         },
         {
          "Acceleration": 15.5,
          "Cylinders": 4,
          "Displacement": 108,
          "Horsepower": 93,
          "Miles_per_Gallon": 26,
          "Name": "subaru",
          "Origin": "Japan",
          "Weight_in_lbs": 2391,
          "Year": "1974-01-01"
         },
         {
          "Acceleration": 16,
          "Cylinders": 4,
          "Displacement": 79,
          "Horsepower": 67,
          "Miles_per_Gallon": 31,
          "Name": "fiat x1.9",
          "Origin": "Europe",
          "Weight_in_lbs": 2000,
          "Year": "1974-01-01"
         },
         {
          "Acceleration": 16,
          "Cylinders": 6,
          "Displacement": 225,
          "Horsepower": 95,
          "Miles_per_Gallon": 19,
          "Name": "plymouth valiant custom",
          "Origin": "USA",
          "Weight_in_lbs": 3264,
          "Year": "1975-01-01"
         },
         {
          "Acceleration": 16,
          "Cylinders": 6,
          "Displacement": 250,
          "Horsepower": 105,
          "Miles_per_Gallon": 18,
          "Name": "chevrolet nova",
          "Origin": "USA",
          "Weight_in_lbs": 3459,
          "Year": "1975-01-01"
         },
         {
          "Acceleration": 21,
          "Cylinders": 6,
          "Displacement": 250,
          "Horsepower": 72,
          "Miles_per_Gallon": 15,
          "Name": "mercury monarch",
          "Origin": "USA",
          "Weight_in_lbs": 3432,
          "Year": "1975-01-01"
         },
         {
          "Acceleration": 19.5,
          "Cylinders": 6,
          "Displacement": 250,
          "Horsepower": 72,
          "Miles_per_Gallon": 15,
          "Name": "ford maverick",
          "Origin": "USA",
          "Weight_in_lbs": 3158,
          "Year": "1975-01-01"
         },
         {
          "Acceleration": 11.5,
          "Cylinders": 8,
          "Displacement": 400,
          "Horsepower": 170,
          "Miles_per_Gallon": 16,
          "Name": "pontiac catalina",
          "Origin": "USA",
          "Weight_in_lbs": 4668,
          "Year": "1975-01-01"
         },
         {
          "Acceleration": 14,
          "Cylinders": 8,
          "Displacement": 350,
          "Horsepower": 145,
          "Miles_per_Gallon": 15,
          "Name": "chevrolet bel air",
          "Origin": "USA",
          "Weight_in_lbs": 4440,
          "Year": "1975-01-01"
         },
         {
          "Acceleration": 14.5,
          "Cylinders": 8,
          "Displacement": 318,
          "Horsepower": 150,
          "Miles_per_Gallon": 16,
          "Name": "plymouth grand fury",
          "Origin": "USA",
          "Weight_in_lbs": 4498,
          "Year": "1975-01-01"
         },
         {
          "Acceleration": 13.5,
          "Cylinders": 8,
          "Displacement": 351,
          "Horsepower": 148,
          "Miles_per_Gallon": 14,
          "Name": "ford ltd",
          "Origin": "USA",
          "Weight_in_lbs": 4657,
          "Year": "1975-01-01"
         },
         {
          "Acceleration": 21,
          "Cylinders": 6,
          "Displacement": 231,
          "Horsepower": 110,
          "Miles_per_Gallon": 17,
          "Name": "buick century",
          "Origin": "USA",
          "Weight_in_lbs": 3907,
          "Year": "1975-01-01"
         },
         {
          "Acceleration": 18.5,
          "Cylinders": 6,
          "Displacement": 250,
          "Horsepower": 105,
          "Miles_per_Gallon": 16,
          "Name": "chevroelt chevelle malibu",
          "Origin": "USA",
          "Weight_in_lbs": 3897,
          "Year": "1975-01-01"
         },
         {
          "Acceleration": 19,
          "Cylinders": 6,
          "Displacement": 258,
          "Horsepower": 110,
          "Miles_per_Gallon": 15,
          "Name": "amc matador",
          "Origin": "USA",
          "Weight_in_lbs": 3730,
          "Year": "1975-01-01"
         },
         {
          "Acceleration": 19,
          "Cylinders": 6,
          "Displacement": 225,
          "Horsepower": 95,
          "Miles_per_Gallon": 18,
          "Name": "plymouth fury",
          "Origin": "USA",
          "Weight_in_lbs": 3785,
          "Year": "1975-01-01"
         },
         {
          "Acceleration": 15,
          "Cylinders": 6,
          "Displacement": 231,
          "Horsepower": 110,
          "Miles_per_Gallon": 21,
          "Name": "buick skyhawk",
          "Origin": "USA",
          "Weight_in_lbs": 3039,
          "Year": "1975-01-01"
         },
         {
          "Acceleration": 13.5,
          "Cylinders": 8,
          "Displacement": 262,
          "Horsepower": 110,
          "Miles_per_Gallon": 20,
          "Name": "chevrolet monza 2+2",
          "Origin": "USA",
          "Weight_in_lbs": 3221,
          "Year": "1975-01-01"
         },
         {
          "Acceleration": 12,
          "Cylinders": 8,
          "Displacement": 302,
          "Horsepower": 129,
          "Miles_per_Gallon": 13,
          "Name": "ford mustang ii",
          "Origin": "USA",
          "Weight_in_lbs": 3169,
          "Year": "1975-01-01"
         },
         {
          "Acceleration": 16,
          "Cylinders": 4,
          "Displacement": 97,
          "Horsepower": 75,
          "Miles_per_Gallon": 29,
          "Name": "toyota corolla",
          "Origin": "Japan",
          "Weight_in_lbs": 2171,
          "Year": "1975-01-01"
         },
         {
          "Acceleration": 17,
          "Cylinders": 4,
          "Displacement": 140,
          "Horsepower": 83,
          "Miles_per_Gallon": 23,
          "Name": "ford pinto",
          "Origin": "USA",
          "Weight_in_lbs": 2639,
          "Year": "1975-01-01"
         },
         {
          "Acceleration": 16,
          "Cylinders": 6,
          "Displacement": 232,
          "Horsepower": 100,
          "Miles_per_Gallon": 20,
          "Name": "amc gremlin",
          "Origin": "USA",
          "Weight_in_lbs": 2914,
          "Year": "1975-01-01"
         },
         {
          "Acceleration": 18.5,
          "Cylinders": 4,
          "Displacement": 140,
          "Horsepower": 78,
          "Miles_per_Gallon": 23,
          "Name": "pontiac astro",
          "Origin": "USA",
          "Weight_in_lbs": 2592,
          "Year": "1975-01-01"
         },
         {
          "Acceleration": 13.5,
          "Cylinders": 4,
          "Displacement": 134,
          "Horsepower": 96,
          "Miles_per_Gallon": 24,
          "Name": "toyota corona",
          "Origin": "Japan",
          "Weight_in_lbs": 2702,
          "Year": "1975-01-01"
         },
         {
          "Acceleration": 16.5,
          "Cylinders": 4,
          "Displacement": 90,
          "Horsepower": 71,
          "Miles_per_Gallon": 25,
          "Name": "volkswagen dasher",
          "Origin": "Europe",
          "Weight_in_lbs": 2223,
          "Year": "1975-01-01"
         },
         {
          "Acceleration": 17,
          "Cylinders": 4,
          "Displacement": 119,
          "Horsepower": 97,
          "Miles_per_Gallon": 24,
          "Name": "datsun 710",
          "Origin": "Japan",
          "Weight_in_lbs": 2545,
          "Year": "1975-01-01"
         },
         {
          "Acceleration": 14.5,
          "Cylinders": 6,
          "Displacement": 171,
          "Horsepower": 97,
          "Miles_per_Gallon": 18,
          "Name": "ford pinto",
          "Origin": "USA",
          "Weight_in_lbs": 2984,
          "Year": "1975-01-01"
         },
         {
          "Acceleration": 14,
          "Cylinders": 4,
          "Displacement": 90,
          "Horsepower": 70,
          "Miles_per_Gallon": 29,
          "Name": "volkswagen rabbit",
          "Origin": "Europe",
          "Weight_in_lbs": 1937,
          "Year": "1975-01-01"
         },
         {
          "Acceleration": 17,
          "Cylinders": 6,
          "Displacement": 232,
          "Horsepower": 90,
          "Miles_per_Gallon": 19,
          "Name": "amc pacer",
          "Origin": "USA",
          "Weight_in_lbs": 3211,
          "Year": "1975-01-01"
         },
         {
          "Acceleration": 15,
          "Cylinders": 4,
          "Displacement": 115,
          "Horsepower": 95,
          "Miles_per_Gallon": 23,
          "Name": "audi 100ls",
          "Origin": "Europe",
          "Weight_in_lbs": 2694,
          "Year": "1975-01-01"
         },
         {
          "Acceleration": 17,
          "Cylinders": 4,
          "Displacement": 120,
          "Horsepower": 88,
          "Miles_per_Gallon": 23,
          "Name": "peugeot 504",
          "Origin": "Europe",
          "Weight_in_lbs": 2957,
          "Year": "1975-01-01"
         },
         {
          "Acceleration": 14.5,
          "Cylinders": 4,
          "Displacement": 121,
          "Horsepower": 98,
          "Miles_per_Gallon": 22,
          "Name": "volvo 244dl",
          "Origin": "Europe",
          "Weight_in_lbs": 2945,
          "Year": "1975-01-01"
         },
         {
          "Acceleration": 13.5,
          "Cylinders": 4,
          "Displacement": 121,
          "Horsepower": 115,
          "Miles_per_Gallon": 25,
          "Name": "saab 99le",
          "Origin": "Europe",
          "Weight_in_lbs": 2671,
          "Year": "1975-01-01"
         },
         {
          "Acceleration": 17.5,
          "Cylinders": 4,
          "Displacement": 91,
          "Horsepower": 53,
          "Miles_per_Gallon": 33,
          "Name": "honda civic cvcc",
          "Origin": "Japan",
          "Weight_in_lbs": 1795,
          "Year": "1975-01-01"
         },
         {
          "Acceleration": 15.5,
          "Cylinders": 4,
          "Displacement": 107,
          "Horsepower": 86,
          "Miles_per_Gallon": 28,
          "Name": "fiat 131",
          "Origin": "Europe",
          "Weight_in_lbs": 2464,
          "Year": "1976-01-01"
         },
         {
          "Acceleration": 16.9,
          "Cylinders": 4,
          "Displacement": 116,
          "Horsepower": 81,
          "Miles_per_Gallon": 25,
          "Name": "opel 1900",
          "Origin": "Europe",
          "Weight_in_lbs": 2220,
          "Year": "1976-01-01"
         },
         {
          "Acceleration": 14.9,
          "Cylinders": 4,
          "Displacement": 140,
          "Horsepower": 92,
          "Miles_per_Gallon": 25,
          "Name": "capri ii",
          "Origin": "USA",
          "Weight_in_lbs": 2572,
          "Year": "1976-01-01"
         },
         {
          "Acceleration": 17.7,
          "Cylinders": 4,
          "Displacement": 98,
          "Horsepower": 79,
          "Miles_per_Gallon": 26,
          "Name": "dodge colt",
          "Origin": "USA",
          "Weight_in_lbs": 2255,
          "Year": "1976-01-01"
         },
         {
          "Acceleration": 15.3,
          "Cylinders": 4,
          "Displacement": 101,
          "Horsepower": 83,
          "Miles_per_Gallon": 27,
          "Name": "renault 12tl",
          "Origin": "Europe",
          "Weight_in_lbs": 2202,
          "Year": "1976-01-01"
         },
         {
          "Acceleration": 13,
          "Cylinders": 8,
          "Displacement": 305,
          "Horsepower": 140,
          "Miles_per_Gallon": 17.5,
          "Name": "chevrolet chevelle malibu classic",
          "Origin": "USA",
          "Weight_in_lbs": 4215,
          "Year": "1976-01-01"
         },
         {
          "Acceleration": 13,
          "Cylinders": 8,
          "Displacement": 318,
          "Horsepower": 150,
          "Miles_per_Gallon": 16,
          "Name": "dodge coronet brougham",
          "Origin": "USA",
          "Weight_in_lbs": 4190,
          "Year": "1976-01-01"
         },
         {
          "Acceleration": 13.9,
          "Cylinders": 8,
          "Displacement": 304,
          "Horsepower": 120,
          "Miles_per_Gallon": 15.5,
          "Name": "amc matador",
          "Origin": "USA",
          "Weight_in_lbs": 3962,
          "Year": "1976-01-01"
         },
         {
          "Acceleration": 12.8,
          "Cylinders": 8,
          "Displacement": 351,
          "Horsepower": 152,
          "Miles_per_Gallon": 14.5,
          "Name": "ford gran torino",
          "Origin": "USA",
          "Weight_in_lbs": 4215,
          "Year": "1976-01-01"
         },
         {
          "Acceleration": 15.4,
          "Cylinders": 6,
          "Displacement": 225,
          "Horsepower": 100,
          "Miles_per_Gallon": 22,
          "Name": "plymouth valiant",
          "Origin": "USA",
          "Weight_in_lbs": 3233,
          "Year": "1976-01-01"
         },
         {
          "Acceleration": 14.5,
          "Cylinders": 6,
          "Displacement": 250,
          "Horsepower": 105,
          "Miles_per_Gallon": 22,
          "Name": "chevrolet nova",
          "Origin": "USA",
          "Weight_in_lbs": 3353,
          "Year": "1976-01-01"
         },
         {
          "Acceleration": 17.6,
          "Cylinders": 6,
          "Displacement": 200,
          "Horsepower": 81,
          "Miles_per_Gallon": 24,
          "Name": "ford maverick",
          "Origin": "USA",
          "Weight_in_lbs": 3012,
          "Year": "1976-01-01"
         },
         {
          "Acceleration": 17.6,
          "Cylinders": 6,
          "Displacement": 232,
          "Horsepower": 90,
          "Miles_per_Gallon": 22.5,
          "Name": "amc hornet",
          "Origin": "USA",
          "Weight_in_lbs": 3085,
          "Year": "1976-01-01"
         },
         {
          "Acceleration": 22.2,
          "Cylinders": 4,
          "Displacement": 85,
          "Horsepower": 52,
          "Miles_per_Gallon": 29,
          "Name": "chevrolet chevette",
          "Origin": "USA",
          "Weight_in_lbs": 2035,
          "Year": "1976-01-01"
         },
         {
          "Acceleration": 22.1,
          "Cylinders": 4,
          "Displacement": 98,
          "Horsepower": 60,
          "Miles_per_Gallon": 24.5,
          "Name": "chevrolet woody",
          "Origin": "USA",
          "Weight_in_lbs": 2164,
          "Year": "1976-01-01"
         },
         {
          "Acceleration": 14.2,
          "Cylinders": 4,
          "Displacement": 90,
          "Horsepower": 70,
          "Miles_per_Gallon": 29,
          "Name": "vw rabbit",
          "Origin": "Europe",
          "Weight_in_lbs": 1937,
          "Year": "1976-01-01"
         },
         {
          "Acceleration": 17.4,
          "Cylinders": 4,
          "Displacement": 91,
          "Horsepower": 53,
          "Miles_per_Gallon": 33,
          "Name": "honda civic",
          "Origin": "Japan",
          "Weight_in_lbs": 1795,
          "Year": "1976-01-01"
         },
         {
          "Acceleration": 17.7,
          "Cylinders": 6,
          "Displacement": 225,
          "Horsepower": 100,
          "Miles_per_Gallon": 20,
          "Name": "dodge aspen se",
          "Origin": "USA",
          "Weight_in_lbs": 3651,
          "Year": "1976-01-01"
         },
         {
          "Acceleration": 21,
          "Cylinders": 6,
          "Displacement": 250,
          "Horsepower": 78,
          "Miles_per_Gallon": 18,
          "Name": "ford granada ghia",
          "Origin": "USA",
          "Weight_in_lbs": 3574,
          "Year": "1976-01-01"
         },
         {
          "Acceleration": 16.2,
          "Cylinders": 6,
          "Displacement": 250,
          "Horsepower": 110,
          "Miles_per_Gallon": 18.5,
          "Name": "pontiac ventura sj",
          "Origin": "USA",
          "Weight_in_lbs": 3645,
          "Year": "1976-01-01"
         },
         {
          "Acceleration": 17.8,
          "Cylinders": 6,
          "Displacement": 258,
          "Horsepower": 95,
          "Miles_per_Gallon": 17.5,
          "Name": "amc pacer d/l",
          "Origin": "USA",
          "Weight_in_lbs": 3193,
          "Year": "1976-01-01"
         },
         {
          "Acceleration": 12.2,
          "Cylinders": 4,
          "Displacement": 97,
          "Horsepower": 71,
          "Miles_per_Gallon": 29.5,
          "Name": "volkswagen rabbit",
          "Origin": "Europe",
          "Weight_in_lbs": 1825,
          "Year": "1976-01-01"
         },
         {
          "Acceleration": 17,
          "Cylinders": 4,
          "Displacement": 85,
          "Horsepower": 70,
          "Miles_per_Gallon": 32,
          "Name": "datsun b-210",
          "Origin": "Japan",
          "Weight_in_lbs": 1990,
          "Year": "1976-01-01"
         },
         {
          "Acceleration": 16.4,
          "Cylinders": 4,
          "Displacement": 97,
          "Horsepower": 75,
          "Miles_per_Gallon": 28,
          "Name": "toyota corolla",
          "Origin": "Japan",
          "Weight_in_lbs": 2155,
          "Year": "1976-01-01"
         },
         {
          "Acceleration": 13.6,
          "Cylinders": 4,
          "Displacement": 140,
          "Horsepower": 72,
          "Miles_per_Gallon": 26.5,
          "Name": "ford pinto",
          "Origin": "USA",
          "Weight_in_lbs": 2565,
          "Year": "1976-01-01"
         },
         {
          "Acceleration": 15.7,
          "Cylinders": 4,
          "Displacement": 130,
          "Horsepower": 102,
          "Miles_per_Gallon": 20,
          "Name": "volvo 245",
          "Origin": "Europe",
          "Weight_in_lbs": 3150,
          "Year": "1976-01-01"
         },
         {
          "Acceleration": 13.2,
          "Cylinders": 8,
          "Displacement": 318,
          "Horsepower": 150,
          "Miles_per_Gallon": 13,
          "Name": "plymouth volare premier v8",
          "Origin": "USA",
          "Weight_in_lbs": 3940,
          "Year": "1976-01-01"
         },
         {
          "Acceleration": 21.9,
          "Cylinders": 4,
          "Displacement": 120,
          "Horsepower": 88,
          "Miles_per_Gallon": 19,
          "Name": "peugeot 504",
          "Origin": "Europe",
          "Weight_in_lbs": 3270,
          "Year": "1976-01-01"
         },
         {
          "Acceleration": 15.5,
          "Cylinders": 6,
          "Displacement": 156,
          "Horsepower": 108,
          "Miles_per_Gallon": 19,
          "Name": "toyota mark ii",
          "Origin": "Japan",
          "Weight_in_lbs": 2930,
          "Year": "1976-01-01"
         },
         {
          "Acceleration": 16.7,
          "Cylinders": 6,
          "Displacement": 168,
          "Horsepower": 120,
          "Miles_per_Gallon": 16.5,
          "Name": "mercedes-benz 280s",
          "Origin": "Europe",
          "Weight_in_lbs": 3820,
          "Year": "1976-01-01"
         },
         {
          "Acceleration": 12.1,
          "Cylinders": 8,
          "Displacement": 350,
          "Horsepower": 180,
          "Miles_per_Gallon": 16.5,
          "Name": "cadillac seville",
          "Origin": "USA",
          "Weight_in_lbs": 4380,
          "Year": "1976-01-01"
         },
         {
          "Acceleration": 12,
          "Cylinders": 8,
          "Displacement": 350,
          "Horsepower": 145,
          "Miles_per_Gallon": 13,
          "Name": "chevy c10",
          "Origin": "USA",
          "Weight_in_lbs": 4055,
          "Year": "1976-01-01"
         },
         {
          "Acceleration": 15,
          "Cylinders": 8,
          "Displacement": 302,
          "Horsepower": 130,
          "Miles_per_Gallon": 13,
          "Name": "ford f108",
          "Origin": "USA",
          "Weight_in_lbs": 3870,
          "Year": "1976-01-01"
         },
         {
          "Acceleration": 14,
          "Cylinders": 8,
          "Displacement": 318,
          "Horsepower": 150,
          "Miles_per_Gallon": 13,
          "Name": "dodge d100",
          "Origin": "USA",
          "Weight_in_lbs": 3755,
          "Year": "1976-01-01"
         },
         {
          "Acceleration": 18.5,
          "Cylinders": 4,
          "Displacement": 98,
          "Horsepower": 68,
          "Miles_per_Gallon": 31.5,
          "Name": "honda Accelerationord cvcc",
          "Origin": "Japan",
          "Weight_in_lbs": 2045,
          "Year": "1977-01-01"
         },
         {
          "Acceleration": 14.8,
          "Cylinders": 4,
          "Displacement": 111,
          "Horsepower": 80,
          "Miles_per_Gallon": 30,
          "Name": "buick opel isuzu deluxe",
          "Origin": "USA",
          "Weight_in_lbs": 2155,
          "Year": "1977-01-01"
         },
         {
          "Acceleration": 18.6,
          "Cylinders": 4,
          "Displacement": 79,
          "Horsepower": 58,
          "Miles_per_Gallon": 36,
          "Name": "renault 5 gtl",
          "Origin": "Europe",
          "Weight_in_lbs": 1825,
          "Year": "1977-01-01"
         },
         {
          "Acceleration": 15.5,
          "Cylinders": 4,
          "Displacement": 122,
          "Horsepower": 96,
          "Miles_per_Gallon": 25.5,
          "Name": "plymouth arrow gs",
          "Origin": "USA",
          "Weight_in_lbs": 2300,
          "Year": "1977-01-01"
         },
         {
          "Acceleration": 16.8,
          "Cylinders": 4,
          "Displacement": 85,
          "Horsepower": 70,
          "Miles_per_Gallon": 33.5,
          "Name": "datsun f-10 hatchback",
          "Origin": "Japan",
          "Weight_in_lbs": 1945,
          "Year": "1977-01-01"
         },
         {
          "Acceleration": 12.5,
          "Cylinders": 8,
          "Displacement": 305,
          "Horsepower": 145,
          "Miles_per_Gallon": 17.5,
          "Name": "chevrolet caprice classic",
          "Origin": "USA",
          "Weight_in_lbs": 3880,
          "Year": "1977-01-01"
         },
         {
          "Acceleration": 19,
          "Cylinders": 8,
          "Displacement": 260,
          "Horsepower": 110,
          "Miles_per_Gallon": 17,
          "Name": "oldsmobile cutlass supreme",
          "Origin": "USA",
          "Weight_in_lbs": 4060,
          "Year": "1977-01-01"
         },
         {
          "Acceleration": 13.7,
          "Cylinders": 8,
          "Displacement": 318,
          "Horsepower": 145,
          "Miles_per_Gallon": 15.5,
          "Name": "dodge monaco brougham",
          "Origin": "USA",
          "Weight_in_lbs": 4140,
          "Year": "1977-01-01"
         },
         {
          "Acceleration": 14.9,
          "Cylinders": 8,
          "Displacement": 302,
          "Horsepower": 130,
          "Miles_per_Gallon": 15,
          "Name": "mercury cougar brougham",
          "Origin": "USA",
          "Weight_in_lbs": 4295,
          "Year": "1977-01-01"
         },
         {
          "Acceleration": 16.4,
          "Cylinders": 6,
          "Displacement": 250,
          "Horsepower": 110,
          "Miles_per_Gallon": 17.5,
          "Name": "chevrolet concours",
          "Origin": "USA",
          "Weight_in_lbs": 3520,
          "Year": "1977-01-01"
         },
         {
          "Acceleration": 16.9,
          "Cylinders": 6,
          "Displacement": 231,
          "Horsepower": 105,
          "Miles_per_Gallon": 20.5,
          "Name": "buick skylark",
          "Origin": "USA",
          "Weight_in_lbs": 3425,
          "Year": "1977-01-01"
         },
         {
          "Acceleration": 17.7,
          "Cylinders": 6,
          "Displacement": 225,
          "Horsepower": 100,
          "Miles_per_Gallon": 19,
          "Name": "plymouth volare custom",
          "Origin": "USA",
          "Weight_in_lbs": 3630,
          "Year": "1977-01-01"
         },
         {
          "Acceleration": 19,
          "Cylinders": 6,
          "Displacement": 250,
          "Horsepower": 98,
          "Miles_per_Gallon": 18.5,
          "Name": "ford granada",
          "Origin": "USA",
          "Weight_in_lbs": 3525,
          "Year": "1977-01-01"
         },
         {
          "Acceleration": 11.1,
          "Cylinders": 8,
          "Displacement": 400,
          "Horsepower": 180,
          "Miles_per_Gallon": 16,
          "Name": "pontiac grand prix lj",
          "Origin": "USA",
          "Weight_in_lbs": 4220,
          "Year": "1977-01-01"
         },
         {
          "Acceleration": 11.4,
          "Cylinders": 8,
          "Displacement": 350,
          "Horsepower": 170,
          "Miles_per_Gallon": 15.5,
          "Name": "chevrolet monte carlo landau",
          "Origin": "USA",
          "Weight_in_lbs": 4165,
          "Year": "1977-01-01"
         },
         {
          "Acceleration": 12.2,
          "Cylinders": 8,
          "Displacement": 400,
          "Horsepower": 190,
          "Miles_per_Gallon": 15.5,
          "Name": "chrysler cordoba",
          "Origin": "USA",
          "Weight_in_lbs": 4325,
          "Year": "1977-01-01"
         },
         {
          "Acceleration": 14.5,
          "Cylinders": 8,
          "Displacement": 351,
          "Horsepower": 149,
          "Miles_per_Gallon": 16,
          "Name": "ford thunderbird",
          "Origin": "USA",
          "Weight_in_lbs": 4335,
          "Year": "1977-01-01"
         },
         {
          "Acceleration": 14.5,
          "Cylinders": 4,
          "Displacement": 97,
          "Horsepower": 78,
          "Miles_per_Gallon": 29,
          "Name": "volkswagen rabbit custom",
          "Origin": "Europe",
          "Weight_in_lbs": 1940,
          "Year": "1977-01-01"
         },
         {
          "Acceleration": 16,
          "Cylinders": 4,
          "Displacement": 151,
          "Horsepower": 88,
          "Miles_per_Gallon": 24.5,
          "Name": "pontiac sunbird coupe",
          "Origin": "USA",
          "Weight_in_lbs": 2740,
          "Year": "1977-01-01"
         },
         {
          "Acceleration": 18.2,
          "Cylinders": 4,
          "Displacement": 97,
          "Horsepower": 75,
          "Miles_per_Gallon": 26,
          "Name": "toyota corolla liftback",
          "Origin": "Japan",
          "Weight_in_lbs": 2265,
          "Year": "1977-01-01"
         },
         {
          "Acceleration": 15.8,
          "Cylinders": 4,
          "Displacement": 140,
          "Horsepower": 89,
          "Miles_per_Gallon": 25.5,
          "Name": "ford mustang ii 2+2",
          "Origin": "USA",
          "Weight_in_lbs": 2755,
          "Year": "1977-01-01"
         },
         {
          "Acceleration": 17,
          "Cylinders": 4,
          "Displacement": 98,
          "Horsepower": 63,
          "Miles_per_Gallon": 30.5,
          "Name": "chevrolet chevette",
          "Origin": "USA",
          "Weight_in_lbs": 2051,
          "Year": "1977-01-01"
         },
         {
          "Acceleration": 15.9,
          "Cylinders": 4,
          "Displacement": 98,
          "Horsepower": 83,
          "Miles_per_Gallon": 33.5,
          "Name": "dodge colt m/m",
          "Origin": "USA",
          "Weight_in_lbs": 2075,
          "Year": "1977-01-01"
         },
         {
          "Acceleration": 16.4,
          "Cylinders": 4,
          "Displacement": 97,
          "Horsepower": 67,
          "Miles_per_Gallon": 30,
          "Name": "subaru dl",
          "Origin": "Japan",
          "Weight_in_lbs": 1985,
          "Year": "1977-01-01"
         },
         {
          "Acceleration": 14.1,
          "Cylinders": 4,
          "Displacement": 97,
          "Horsepower": 78,
          "Miles_per_Gallon": 30.5,
          "Name": "volkswagen dasher",
          "Origin": "Europe",
          "Weight_in_lbs": 2190,
          "Year": "1977-01-01"
         },
         {
          "Acceleration": 14.5,
          "Cylinders": 6,
          "Displacement": 146,
          "Horsepower": 97,
          "Miles_per_Gallon": 22,
          "Name": "datsun 810",
          "Origin": "Japan",
          "Weight_in_lbs": 2815,
          "Year": "1977-01-01"
         },
         {
          "Acceleration": 12.8,
          "Cylinders": 4,
          "Displacement": 121,
          "Horsepower": 110,
          "Miles_per_Gallon": 21.5,
          "Name": "bmw 320i",
          "Origin": "Europe",
          "Weight_in_lbs": 2600,
          "Year": "1977-01-01"
         },
         {
          "Acceleration": 13.5,
          "Cylinders": 3,
          "Displacement": 80,
          "Horsepower": 110,
          "Miles_per_Gallon": 21.5,
          "Name": "mazda rx-4",
          "Origin": "Japan",
          "Weight_in_lbs": 2720,
          "Year": "1977-01-01"
         },
         {
          "Acceleration": 21.5,
          "Cylinders": 4,
          "Displacement": 90,
          "Horsepower": 48,
          "Miles_per_Gallon": 43.1,
          "Name": "volkswagen rabbit custom diesel",
          "Origin": "Europe",
          "Weight_in_lbs": 1985,
          "Year": "1978-01-01"
         },
         {
          "Acceleration": 14.4,
          "Cylinders": 4,
          "Displacement": 98,
          "Horsepower": 66,
          "Miles_per_Gallon": 36.1,
          "Name": "ford fiesta",
          "Origin": "USA",
          "Weight_in_lbs": 1800,
          "Year": "1978-01-01"
         },
         {
          "Acceleration": 19.4,
          "Cylinders": 4,
          "Displacement": 78,
          "Horsepower": 52,
          "Miles_per_Gallon": 32.8,
          "Name": "mazda glc deluxe",
          "Origin": "Japan",
          "Weight_in_lbs": 1985,
          "Year": "1978-01-01"
         },
         {
          "Acceleration": 18.6,
          "Cylinders": 4,
          "Displacement": 85,
          "Horsepower": 70,
          "Miles_per_Gallon": 39.4,
          "Name": "datsun b210 gx",
          "Origin": "Japan",
          "Weight_in_lbs": 2070,
          "Year": "1978-01-01"
         },
         {
          "Acceleration": 16.4,
          "Cylinders": 4,
          "Displacement": 91,
          "Horsepower": 60,
          "Miles_per_Gallon": 36.1,
          "Name": "honda civic cvcc",
          "Origin": "Japan",
          "Weight_in_lbs": 1800,
          "Year": "1978-01-01"
         },
         {
          "Acceleration": 15.5,
          "Cylinders": 8,
          "Displacement": 260,
          "Horsepower": 110,
          "Miles_per_Gallon": 19.9,
          "Name": "oldsmobile cutlass salon brougham",
          "Origin": "USA",
          "Weight_in_lbs": 3365,
          "Year": "1978-01-01"
         },
         {
          "Acceleration": 13.2,
          "Cylinders": 8,
          "Displacement": 318,
          "Horsepower": 140,
          "Miles_per_Gallon": 19.4,
          "Name": "dodge diplomat",
          "Origin": "USA",
          "Weight_in_lbs": 3735,
          "Year": "1978-01-01"
         },
         {
          "Acceleration": 12.8,
          "Cylinders": 8,
          "Displacement": 302,
          "Horsepower": 139,
          "Miles_per_Gallon": 20.2,
          "Name": "mercury monarch ghia",
          "Origin": "USA",
          "Weight_in_lbs": 3570,
          "Year": "1978-01-01"
         },
         {
          "Acceleration": 19.2,
          "Cylinders": 6,
          "Displacement": 231,
          "Horsepower": 105,
          "Miles_per_Gallon": 19.2,
          "Name": "pontiac phoenix lj",
          "Origin": "USA",
          "Weight_in_lbs": 3535,
          "Year": "1978-01-01"
         },
         {
          "Acceleration": 18.2,
          "Cylinders": 6,
          "Displacement": 200,
          "Horsepower": 95,
          "Miles_per_Gallon": 20.5,
          "Name": "chevrolet malibu",
          "Origin": "USA",
          "Weight_in_lbs": 3155,
          "Year": "1978-01-01"
         },
         {
          "Acceleration": 15.8,
          "Cylinders": 6,
          "Displacement": 200,
          "Horsepower": 85,
          "Miles_per_Gallon": 20.2,
          "Name": "ford fairmont (auto)",
          "Origin": "USA",
          "Weight_in_lbs": 2965,
          "Year": "1978-01-01"
         },
         {
          "Acceleration": 15.4,
          "Cylinders": 4,
          "Displacement": 140,
          "Horsepower": 88,
          "Miles_per_Gallon": 25.1,
          "Name": "ford fairmont (man)",
          "Origin": "USA",
          "Weight_in_lbs": 2720,
          "Year": "1978-01-01"
         },
         {
          "Acceleration": 17.2,
          "Cylinders": 6,
          "Displacement": 225,
          "Horsepower": 100,
          "Miles_per_Gallon": 20.5,
          "Name": "plymouth volare",
          "Origin": "USA",
          "Weight_in_lbs": 3430,
          "Year": "1978-01-01"
         },
         {
          "Acceleration": 17.2,
          "Cylinders": 6,
          "Displacement": 232,
          "Horsepower": 90,
          "Miles_per_Gallon": 19.4,
          "Name": "amc concord",
          "Origin": "USA",
          "Weight_in_lbs": 3210,
          "Year": "1978-01-01"
         },
         {
          "Acceleration": 15.8,
          "Cylinders": 6,
          "Displacement": 231,
          "Horsepower": 105,
          "Miles_per_Gallon": 20.6,
          "Name": "buick century special",
          "Origin": "USA",
          "Weight_in_lbs": 3380,
          "Year": "1978-01-01"
         },
         {
          "Acceleration": 16.7,
          "Cylinders": 6,
          "Displacement": 200,
          "Horsepower": 85,
          "Miles_per_Gallon": 20.8,
          "Name": "mercury zephyr",
          "Origin": "USA",
          "Weight_in_lbs": 3070,
          "Year": "1978-01-01"
         },
         {
          "Acceleration": 18.7,
          "Cylinders": 6,
          "Displacement": 225,
          "Horsepower": 110,
          "Miles_per_Gallon": 18.6,
          "Name": "dodge aspen",
          "Origin": "USA",
          "Weight_in_lbs": 3620,
          "Year": "1978-01-01"
         },
         {
          "Acceleration": 15.1,
          "Cylinders": 6,
          "Displacement": 258,
          "Horsepower": 120,
          "Miles_per_Gallon": 18.1,
          "Name": "amc concord d/l",
          "Origin": "USA",
          "Weight_in_lbs": 3410,
          "Year": "1978-01-01"
         },
         {
          "Acceleration": 13.2,
          "Cylinders": 8,
          "Displacement": 305,
          "Horsepower": 145,
          "Miles_per_Gallon": 19.2,
          "Name": "chevrolet monte carlo landau",
          "Origin": "USA",
          "Weight_in_lbs": 3425,
          "Year": "1978-01-01"
         },
         {
          "Acceleration": 13.4,
          "Cylinders": 6,
          "Displacement": 231,
          "Horsepower": 165,
          "Miles_per_Gallon": 17.7,
          "Name": "buick regal sport coupe (turbo)",
          "Origin": "USA",
          "Weight_in_lbs": 3445,
          "Year": "1978-01-01"
         },
         {
          "Acceleration": 11.2,
          "Cylinders": 8,
          "Displacement": 302,
          "Horsepower": 139,
          "Miles_per_Gallon": 18.1,
          "Name": "ford futura",
          "Origin": "USA",
          "Weight_in_lbs": 3205,
          "Year": "1978-01-01"
         },
         {
          "Acceleration": 13.7,
          "Cylinders": 8,
          "Displacement": 318,
          "Horsepower": 140,
          "Miles_per_Gallon": 17.5,
          "Name": "dodge magnum xe",
          "Origin": "USA",
          "Weight_in_lbs": 4080,
          "Year": "1978-01-01"
         },
         {
          "Acceleration": 16.5,
          "Cylinders": 4,
          "Displacement": 98,
          "Horsepower": 68,
          "Miles_per_Gallon": 30,
          "Name": "chevrolet chevette",
          "Origin": "USA",
          "Weight_in_lbs": 2155,
          "Year": "1978-01-01"
         },
         {
          "Acceleration": 14.2,
          "Cylinders": 4,
          "Displacement": 134,
          "Horsepower": 95,
          "Miles_per_Gallon": 27.5,
          "Name": "toyota corona",
          "Origin": "Japan",
          "Weight_in_lbs": 2560,
          "Year": "1978-01-01"
         },
         {
          "Acceleration": 14.7,
          "Cylinders": 4,
          "Displacement": 119,
          "Horsepower": 97,
          "Miles_per_Gallon": 27.2,
          "Name": "datsun 510",
          "Origin": "Japan",
          "Weight_in_lbs": 2300,
          "Year": "1978-01-01"
         },
         {
          "Acceleration": 14.5,
          "Cylinders": 4,
          "Displacement": 105,
          "Horsepower": 75,
          "Miles_per_Gallon": 30.9,
          "Name": "dodge omni",
          "Origin": "USA",
          "Weight_in_lbs": 2230,
          "Year": "1978-01-01"
         },
         {
          "Acceleration": 14.8,
          "Cylinders": 4,
          "Displacement": 134,
          "Horsepower": 95,
          "Miles_per_Gallon": 21.1,
          "Name": "toyota celica gt liftback",
          "Origin": "Japan",
          "Weight_in_lbs": 2515,
          "Year": "1978-01-01"
         },
         {
          "Acceleration": 16.7,
          "Cylinders": 4,
          "Displacement": 156,
          "Horsepower": 105,
          "Miles_per_Gallon": 23.2,
          "Name": "plymouth sapporo",
          "Origin": "USA",
          "Weight_in_lbs": 2745,
          "Year": "1978-01-01"
         },
         {
          "Acceleration": 17.6,
          "Cylinders": 4,
          "Displacement": 151,
          "Horsepower": 85,
          "Miles_per_Gallon": 23.8,
          "Name": "oldsmobile starfire sx",
          "Origin": "USA",
          "Weight_in_lbs": 2855,
          "Year": "1978-01-01"
         },
         {
          "Acceleration": 14.9,
          "Cylinders": 4,
          "Displacement": 119,
          "Horsepower": 97,
          "Miles_per_Gallon": 23.9,
          "Name": "datsun 200-sx",
          "Origin": "Japan",
          "Weight_in_lbs": 2405,
          "Year": "1978-01-01"
         },
         {
          "Acceleration": 15.9,
          "Cylinders": 5,
          "Displacement": 131,
          "Horsepower": 103,
          "Miles_per_Gallon": 20.3,
          "Name": "audi 5000",
          "Origin": "Europe",
          "Weight_in_lbs": 2830,
          "Year": "1978-01-01"
         },
         {
          "Acceleration": 13.6,
          "Cylinders": 6,
          "Displacement": 163,
          "Horsepower": 125,
          "Miles_per_Gallon": 17,
          "Name": "volvo 264gl",
          "Origin": "Europe",
          "Weight_in_lbs": 3140,
          "Year": "1978-01-01"
         },
         {
          "Acceleration": 15.7,
          "Cylinders": 4,
          "Displacement": 121,
          "Horsepower": 115,
          "Miles_per_Gallon": 21.6,
          "Name": "saab 99gle",
          "Origin": "Europe",
          "Weight_in_lbs": 2795,
          "Year": "1978-01-01"
         },
         {
          "Acceleration": 15.8,
          "Cylinders": 6,
          "Displacement": 163,
          "Horsepower": 133,
          "Miles_per_Gallon": 16.2,
          "Name": "peugeot 604sl",
          "Origin": "Europe",
          "Weight_in_lbs": 3410,
          "Year": "1978-01-01"
         },
         {
          "Acceleration": 14.9,
          "Cylinders": 4,
          "Displacement": 89,
          "Horsepower": 71,
          "Miles_per_Gallon": 31.5,
          "Name": "volkswagen scirocco",
          "Origin": "Europe",
          "Weight_in_lbs": 1990,
          "Year": "1978-01-01"
         },
         {
          "Acceleration": 16.6,
          "Cylinders": 4,
          "Displacement": 98,
          "Horsepower": 68,
          "Miles_per_Gallon": 29.5,
          "Name": "honda Accelerationord lx",
          "Origin": "Japan",
          "Weight_in_lbs": 2135,
          "Year": "1978-01-01"
         },
         {
          "Acceleration": 15.4,
          "Cylinders": 6,
          "Displacement": 231,
          "Horsepower": 115,
          "Miles_per_Gallon": 21.5,
          "Name": "pontiac lemans v6",
          "Origin": "USA",
          "Weight_in_lbs": 3245,
          "Year": "1979-01-01"
         },
         {
          "Acceleration": 18.2,
          "Cylinders": 6,
          "Displacement": 200,
          "Horsepower": 85,
          "Miles_per_Gallon": 19.8,
          "Name": "mercury zephyr 6",
          "Origin": "USA",
          "Weight_in_lbs": 2990,
          "Year": "1979-01-01"
         },
         {
          "Acceleration": 17.3,
          "Cylinders": 4,
          "Displacement": 140,
          "Horsepower": 88,
          "Miles_per_Gallon": 22.3,
          "Name": "ford fairmont 4",
          "Origin": "USA",
          "Weight_in_lbs": 2890,
          "Year": "1979-01-01"
         },
         {
          "Acceleration": 18.2,
          "Cylinders": 6,
          "Displacement": 232,
          "Horsepower": 90,
          "Miles_per_Gallon": 20.2,
          "Name": "amc concord dl 6",
          "Origin": "USA",
          "Weight_in_lbs": 3265,
          "Year": "1979-01-01"
         },
         {
          "Acceleration": 16.6,
          "Cylinders": 6,
          "Displacement": 225,
          "Horsepower": 110,
          "Miles_per_Gallon": 20.6,
          "Name": "dodge aspen 6",
          "Origin": "USA",
          "Weight_in_lbs": 3360,
          "Year": "1979-01-01"
         },
         {
          "Acceleration": 15.4,
          "Cylinders": 8,
          "Displacement": 305,
          "Horsepower": 130,
          "Miles_per_Gallon": 17,
          "Name": "chevrolet caprice classic",
          "Origin": "USA",
          "Weight_in_lbs": 3840,
          "Year": "1979-01-01"
         },
         {
          "Acceleration": 13.4,
          "Cylinders": 8,
          "Displacement": 302,
          "Horsepower": 129,
          "Miles_per_Gallon": 17.6,
          "Name": "ford ltd landau",
          "Origin": "USA",
          "Weight_in_lbs": 3725,
          "Year": "1979-01-01"
         },
         {
          "Acceleration": 13.2,
          "Cylinders": 8,
          "Displacement": 351,
          "Horsepower": 138,
          "Miles_per_Gallon": 16.5,
          "Name": "mercury grand marquis",
          "Origin": "USA",
          "Weight_in_lbs": 3955,
          "Year": "1979-01-01"
         },
         {
          "Acceleration": 15.2,
          "Cylinders": 8,
          "Displacement": 318,
          "Horsepower": 135,
          "Miles_per_Gallon": 18.2,
          "Name": "dodge st. regis",
          "Origin": "USA",
          "Weight_in_lbs": 3830,
          "Year": "1979-01-01"
         },
         {
          "Acceleration": 14.9,
          "Cylinders": 8,
          "Displacement": 350,
          "Horsepower": 155,
          "Miles_per_Gallon": 16.9,
          "Name": "buick estate wagon (sw)",
          "Origin": "USA",
          "Weight_in_lbs": 4360,
          "Year": "1979-01-01"
         },
         {
          "Acceleration": 14.3,
          "Cylinders": 8,
          "Displacement": 351,
          "Horsepower": 142,
          "Miles_per_Gallon": 15.5,
          "Name": "ford country squire (sw)",
          "Origin": "USA",
          "Weight_in_lbs": 4054,
          "Year": "1979-01-01"
         },
         {
          "Acceleration": 15,
          "Cylinders": 8,
          "Displacement": 267,
          "Horsepower": 125,
          "Miles_per_Gallon": 19.2,
          "Name": "chevrolet malibu classic (sw)",
          "Origin": "USA",
          "Weight_in_lbs": 3605,
          "Year": "1979-01-01"
         },
         {
          "Acceleration": 13,
          "Cylinders": 8,
          "Displacement": 360,
          "Horsepower": 150,
          "Miles_per_Gallon": 18.5,
          "Name": "chrysler lebaron town @ country (sw)",
          "Origin": "USA",
          "Weight_in_lbs": 3940,
          "Year": "1979-01-01"
         },
         {
          "Acceleration": 14,
          "Cylinders": 4,
          "Displacement": 89,
          "Horsepower": 71,
          "Miles_per_Gallon": 31.9,
          "Name": "vw rabbit custom",
          "Origin": "Europe",
          "Weight_in_lbs": 1925,
          "Year": "1979-01-01"
         },
         {
          "Acceleration": 15.2,
          "Cylinders": 4,
          "Displacement": 86,
          "Horsepower": 65,
          "Miles_per_Gallon": 34.1,
          "Name": "maxda glc deluxe",
          "Origin": "Japan",
          "Weight_in_lbs": 1975,
          "Year": "1979-01-01"
         },
         {
          "Acceleration": 14.4,
          "Cylinders": 4,
          "Displacement": 98,
          "Horsepower": 80,
          "Miles_per_Gallon": 35.7,
          "Name": "dodge colt hatchback custom",
          "Origin": "USA",
          "Weight_in_lbs": 1915,
          "Year": "1979-01-01"
         },
         {
          "Acceleration": 15,
          "Cylinders": 4,
          "Displacement": 121,
          "Horsepower": 80,
          "Miles_per_Gallon": 27.4,
          "Name": "amc spirit dl",
          "Origin": "USA",
          "Weight_in_lbs": 2670,
          "Year": "1979-01-01"
         },
         {
          "Acceleration": 20.1,
          "Cylinders": 5,
          "Displacement": 183,
          "Horsepower": 77,
          "Miles_per_Gallon": 25.4,
          "Name": "mercedes benz 300d",
          "Origin": "Europe",
          "Weight_in_lbs": 3530,
          "Year": "1979-01-01"
         },
         {
          "Acceleration": 17.4,
          "Cylinders": 8,
          "Displacement": 350,
          "Horsepower": 125,
          "Miles_per_Gallon": 23,
          "Name": "cadillac eldorado",
          "Origin": "USA",
          "Weight_in_lbs": 3900,
          "Year": "1979-01-01"
         },
         {
          "Acceleration": 24.8,
          "Cylinders": 4,
          "Displacement": 141,
          "Horsepower": 71,
          "Miles_per_Gallon": 27.2,
          "Name": "peugeot 504",
          "Origin": "Europe",
          "Weight_in_lbs": 3190,
          "Year": "1979-01-01"
         },
         {
          "Acceleration": 22.2,
          "Cylinders": 8,
          "Displacement": 260,
          "Horsepower": 90,
          "Miles_per_Gallon": 23.9,
          "Name": "oldsmobile cutlass salon brougham",
          "Origin": "USA",
          "Weight_in_lbs": 3420,
          "Year": "1979-01-01"
         },
         {
          "Acceleration": 13.2,
          "Cylinders": 4,
          "Displacement": 105,
          "Horsepower": 70,
          "Miles_per_Gallon": 34.2,
          "Name": "plymouth horizon",
          "Origin": "USA",
          "Weight_in_lbs": 2200,
          "Year": "1979-01-01"
         },
         {
          "Acceleration": 14.9,
          "Cylinders": 4,
          "Displacement": 105,
          "Horsepower": 70,
          "Miles_per_Gallon": 34.5,
          "Name": "plymouth horizon tc3",
          "Origin": "USA",
          "Weight_in_lbs": 2150,
          "Year": "1979-01-01"
         },
         {
          "Acceleration": 19.2,
          "Cylinders": 4,
          "Displacement": 85,
          "Horsepower": 65,
          "Miles_per_Gallon": 31.8,
          "Name": "datsun 210",
          "Origin": "Japan",
          "Weight_in_lbs": 2020,
          "Year": "1979-01-01"
         },
         {
          "Acceleration": 14.7,
          "Cylinders": 4,
          "Displacement": 91,
          "Horsepower": 69,
          "Miles_per_Gallon": 37.3,
          "Name": "fiat strada custom",
          "Origin": "Europe",
          "Weight_in_lbs": 2130,
          "Year": "1979-01-01"
         },
         {
          "Acceleration": 16,
          "Cylinders": 4,
          "Displacement": 151,
          "Horsepower": 90,
          "Miles_per_Gallon": 28.4,
          "Name": "buick skylark limited",
          "Origin": "USA",
          "Weight_in_lbs": 2670,
          "Year": "1979-01-01"
         },
         {
          "Acceleration": 11.3,
          "Cylinders": 6,
          "Displacement": 173,
          "Horsepower": 115,
          "Miles_per_Gallon": 28.8,
          "Name": "chevrolet citation",
          "Origin": "USA",
          "Weight_in_lbs": 2595,
          "Year": "1979-01-01"
         },
         {
          "Acceleration": 12.9,
          "Cylinders": 6,
          "Displacement": 173,
          "Horsepower": 115,
          "Miles_per_Gallon": 26.8,
          "Name": "oldsmobile omega brougham",
          "Origin": "USA",
          "Weight_in_lbs": 2700,
          "Year": "1979-01-01"
         },
         {
          "Acceleration": 13.2,
          "Cylinders": 4,
          "Displacement": 151,
          "Horsepower": 90,
          "Miles_per_Gallon": 33.5,
          "Name": "pontiac phoenix",
          "Origin": "USA",
          "Weight_in_lbs": 2556,
          "Year": "1979-01-01"
         },
         {
          "Acceleration": 14.7,
          "Cylinders": 4,
          "Displacement": 98,
          "Horsepower": 76,
          "Miles_per_Gallon": 41.5,
          "Name": "vw rabbit",
          "Origin": "Europe",
          "Weight_in_lbs": 2144,
          "Year": "1980-01-01"
         },
         {
          "Acceleration": 18.8,
          "Cylinders": 4,
          "Displacement": 89,
          "Horsepower": 60,
          "Miles_per_Gallon": 38.1,
          "Name": "toyota corolla tercel",
          "Origin": "Japan",
          "Weight_in_lbs": 1968,
          "Year": "1980-01-01"
         },
         {
          "Acceleration": 15.5,
          "Cylinders": 4,
          "Displacement": 98,
          "Horsepower": 70,
          "Miles_per_Gallon": 32.1,
          "Name": "chevrolet chevette",
          "Origin": "USA",
          "Weight_in_lbs": 2120,
          "Year": "1980-01-01"
         },
         {
          "Acceleration": 16.4,
          "Cylinders": 4,
          "Displacement": 86,
          "Horsepower": 65,
          "Miles_per_Gallon": 37.2,
          "Name": "datsun 310",
          "Origin": "Japan",
          "Weight_in_lbs": 2019,
          "Year": "1980-01-01"
         },
         {
          "Acceleration": 16.5,
          "Cylinders": 4,
          "Displacement": 151,
          "Horsepower": 90,
          "Miles_per_Gallon": 28,
          "Name": "chevrolet citation",
          "Origin": "USA",
          "Weight_in_lbs": 2678,
          "Year": "1980-01-01"
         },
         {
          "Acceleration": 18.1,
          "Cylinders": 4,
          "Displacement": 140,
          "Horsepower": 88,
          "Miles_per_Gallon": 26.4,
          "Name": "ford fairmont",
          "Origin": "USA",
          "Weight_in_lbs": 2870,
          "Year": "1980-01-01"
         },
         {
          "Acceleration": 20.1,
          "Cylinders": 4,
          "Displacement": 151,
          "Horsepower": 90,
          "Miles_per_Gallon": 24.3,
          "Name": "amc concord",
          "Origin": "USA",
          "Weight_in_lbs": 3003,
          "Year": "1980-01-01"
         },
         {
          "Acceleration": 18.7,
          "Cylinders": 6,
          "Displacement": 225,
          "Horsepower": 90,
          "Miles_per_Gallon": 19.1,
          "Name": "dodge aspen",
          "Origin": "USA",
          "Weight_in_lbs": 3381,
          "Year": "1980-01-01"
         },
         {
          "Acceleration": 15.8,
          "Cylinders": 4,
          "Displacement": 97,
          "Horsepower": 78,
          "Miles_per_Gallon": 34.3,
          "Name": "audi 4000",
          "Origin": "Europe",
          "Weight_in_lbs": 2188,
          "Year": "1980-01-01"
         },
         {
          "Acceleration": 15.5,
          "Cylinders": 4,
          "Displacement": 134,
          "Horsepower": 90,
          "Miles_per_Gallon": 29.8,
          "Name": "toyota corona liftback",
          "Origin": "Japan",
          "Weight_in_lbs": 2711,
          "Year": "1980-01-01"
         },
         {
          "Acceleration": 17.5,
          "Cylinders": 4,
          "Displacement": 120,
          "Horsepower": 75,
          "Miles_per_Gallon": 31.3,
          "Name": "mazda 626",
          "Origin": "Japan",
          "Weight_in_lbs": 2542,
          "Year": "1980-01-01"
         },
         {
          "Acceleration": 15,
          "Cylinders": 4,
          "Displacement": 119,
          "Horsepower": 92,
          "Miles_per_Gallon": 37,
          "Name": "datsun 510 hatchback",
          "Origin": "Japan",
          "Weight_in_lbs": 2434,
          "Year": "1980-01-01"
         },
         {
          "Acceleration": 15.2,
          "Cylinders": 4,
          "Displacement": 108,
          "Horsepower": 75,
          "Miles_per_Gallon": 32.2,
          "Name": "toyota corolla",
          "Origin": "Japan",
          "Weight_in_lbs": 2265,
          "Year": "1980-01-01"
         },
         {
          "Acceleration": 17.9,
          "Cylinders": 4,
          "Displacement": 86,
          "Horsepower": 65,
          "Miles_per_Gallon": 46.6,
          "Name": "mazda glc",
          "Origin": "Japan",
          "Weight_in_lbs": 2110,
          "Year": "1980-01-01"
         },
         {
          "Acceleration": 14.4,
          "Cylinders": 4,
          "Displacement": 156,
          "Horsepower": 105,
          "Miles_per_Gallon": 27.9,
          "Name": "dodge colt",
          "Origin": "USA",
          "Weight_in_lbs": 2800,
          "Year": "1980-01-01"
         },
         {
          "Acceleration": 19.2,
          "Cylinders": 4,
          "Displacement": 85,
          "Horsepower": 65,
          "Miles_per_Gallon": 40.8,
          "Name": "datsun 210",
          "Origin": "Japan",
          "Weight_in_lbs": 2110,
          "Year": "1980-01-01"
         },
         {
          "Acceleration": 21.7,
          "Cylinders": 4,
          "Displacement": 90,
          "Horsepower": 48,
          "Miles_per_Gallon": 44.3,
          "Name": "vw rabbit c (diesel)",
          "Origin": "Europe",
          "Weight_in_lbs": 2085,
          "Year": "1980-01-01"
         },
         {
          "Acceleration": 23.7,
          "Cylinders": 4,
          "Displacement": 90,
          "Horsepower": 48,
          "Miles_per_Gallon": 43.4,
          "Name": "vw dasher (diesel)",
          "Origin": "Europe",
          "Weight_in_lbs": 2335,
          "Year": "1980-01-01"
         },
         {
          "Acceleration": 19.9,
          "Cylinders": 5,
          "Displacement": 121,
          "Horsepower": 67,
          "Miles_per_Gallon": 36.4,
          "Name": "audi 5000s (diesel)",
          "Origin": "Europe",
          "Weight_in_lbs": 2950,
          "Year": "1980-01-01"
         },
         {
          "Acceleration": 21.8,
          "Cylinders": 4,
          "Displacement": 146,
          "Horsepower": 67,
          "Miles_per_Gallon": 30,
          "Name": "mercedes-benz 240d",
          "Origin": "Europe",
          "Weight_in_lbs": 3250,
          "Year": "1980-01-01"
         },
         {
          "Acceleration": 13.8,
          "Cylinders": 4,
          "Displacement": 91,
          "Horsepower": 67,
          "Miles_per_Gallon": 44.6,
          "Name": "honda civic 1500 gl",
          "Origin": "Japan",
          "Weight_in_lbs": 1850,
          "Year": "1980-01-01"
         },
         {
          "Acceleration": 17.3,
          "Cylinders": 4,
          "Displacement": 85,
          "Horsepower": null,
          "Miles_per_Gallon": 40.9,
          "Name": "renault lecar deluxe",
          "Origin": "Europe",
          "Weight_in_lbs": 1835,
          "Year": "1980-01-01"
         },
         {
          "Acceleration": 18,
          "Cylinders": 4,
          "Displacement": 97,
          "Horsepower": 67,
          "Miles_per_Gallon": 33.8,
          "Name": "subaru dl",
          "Origin": "Japan",
          "Weight_in_lbs": 2145,
          "Year": "1980-01-01"
         },
         {
          "Acceleration": 15.3,
          "Cylinders": 4,
          "Displacement": 89,
          "Horsepower": 62,
          "Miles_per_Gallon": 29.8,
          "Name": "vokswagen rabbit",
          "Origin": "Europe",
          "Weight_in_lbs": 1845,
          "Year": "1980-01-01"
         },
         {
          "Acceleration": 11.4,
          "Cylinders": 6,
          "Displacement": 168,
          "Horsepower": 132,
          "Miles_per_Gallon": 32.7,
          "Name": "datsun 280-zx",
          "Origin": "Japan",
          "Weight_in_lbs": 2910,
          "Year": "1980-01-01"
         },
         {
          "Acceleration": 12.5,
          "Cylinders": 3,
          "Displacement": 70,
          "Horsepower": 100,
          "Miles_per_Gallon": 23.7,
          "Name": "mazda rx-7 gs",
          "Origin": "Japan",
          "Weight_in_lbs": 2420,
          "Year": "1980-01-01"
         },
         {
          "Acceleration": 15.1,
          "Cylinders": 4,
          "Displacement": 122,
          "Horsepower": 88,
          "Miles_per_Gallon": 35,
          "Name": "triumph tr7 coupe",
          "Origin": "Europe",
          "Weight_in_lbs": 2500,
          "Year": "1980-01-01"
         },
         {
          "Acceleration": 14.3,
          "Cylinders": 4,
          "Displacement": 140,
          "Horsepower": null,
          "Miles_per_Gallon": 23.6,
          "Name": "ford mustang cobra",
          "Origin": "USA",
          "Weight_in_lbs": 2905,
          "Year": "1980-01-01"
         },
         {
          "Acceleration": 17,
          "Cylinders": 4,
          "Displacement": 107,
          "Horsepower": 72,
          "Miles_per_Gallon": 32.4,
          "Name": "honda Accelerationord",
          "Origin": "Japan",
          "Weight_in_lbs": 2290,
          "Year": "1980-01-01"
         },
         {
          "Acceleration": 15.7,
          "Cylinders": 4,
          "Displacement": 135,
          "Horsepower": 84,
          "Miles_per_Gallon": 27.2,
          "Name": "plymouth reliant",
          "Origin": "USA",
          "Weight_in_lbs": 2490,
          "Year": "1982-01-01"
         },
         {
          "Acceleration": 16.4,
          "Cylinders": 4,
          "Displacement": 151,
          "Horsepower": 84,
          "Miles_per_Gallon": 26.6,
          "Name": "buick skylark",
          "Origin": "USA",
          "Weight_in_lbs": 2635,
          "Year": "1982-01-01"
         },
         {
          "Acceleration": 14.4,
          "Cylinders": 4,
          "Displacement": 156,
          "Horsepower": 92,
          "Miles_per_Gallon": 25.8,
          "Name": "dodge aries wagon (sw)",
          "Origin": "USA",
          "Weight_in_lbs": 2620,
          "Year": "1982-01-01"
         },
         {
          "Acceleration": 12.6,
          "Cylinders": 6,
          "Displacement": 173,
          "Horsepower": 110,
          "Miles_per_Gallon": 23.5,
          "Name": "chevrolet citation",
          "Origin": "USA",
          "Weight_in_lbs": 2725,
          "Year": "1982-01-01"
         },
         {
          "Acceleration": 12.9,
          "Cylinders": 4,
          "Displacement": 135,
          "Horsepower": 84,
          "Miles_per_Gallon": 30,
          "Name": "plymouth reliant",
          "Origin": "USA",
          "Weight_in_lbs": 2385,
          "Year": "1982-01-01"
         },
         {
          "Acceleration": 16.9,
          "Cylinders": 4,
          "Displacement": 79,
          "Horsepower": 58,
          "Miles_per_Gallon": 39.1,
          "Name": "toyota starlet",
          "Origin": "Japan",
          "Weight_in_lbs": 1755,
          "Year": "1982-01-01"
         },
         {
          "Acceleration": 16.4,
          "Cylinders": 4,
          "Displacement": 86,
          "Horsepower": 64,
          "Miles_per_Gallon": 39,
          "Name": "plymouth champ",
          "Origin": "USA",
          "Weight_in_lbs": 1875,
          "Year": "1982-01-01"
         },
         {
          "Acceleration": 16.1,
          "Cylinders": 4,
          "Displacement": 81,
          "Horsepower": 60,
          "Miles_per_Gallon": 35.1,
          "Name": "honda civic 1300",
          "Origin": "Japan",
          "Weight_in_lbs": 1760,
          "Year": "1982-01-01"
         },
         {
          "Acceleration": 17.8,
          "Cylinders": 4,
          "Displacement": 97,
          "Horsepower": 67,
          "Miles_per_Gallon": 32.3,
          "Name": "subaru",
          "Origin": "Japan",
          "Weight_in_lbs": 2065,
          "Year": "1982-01-01"
         },
         {
          "Acceleration": 19.4,
          "Cylinders": 4,
          "Displacement": 85,
          "Horsepower": 65,
          "Miles_per_Gallon": 37,
          "Name": "datsun 210",
          "Origin": "Japan",
          "Weight_in_lbs": 1975,
          "Year": "1982-01-01"
         },
         {
          "Acceleration": 17.3,
          "Cylinders": 4,
          "Displacement": 89,
          "Horsepower": 62,
          "Miles_per_Gallon": 37.7,
          "Name": "toyota tercel",
          "Origin": "Japan",
          "Weight_in_lbs": 2050,
          "Year": "1982-01-01"
         },
         {
          "Acceleration": 16,
          "Cylinders": 4,
          "Displacement": 91,
          "Horsepower": 68,
          "Miles_per_Gallon": 34.1,
          "Name": "mazda glc 4",
          "Origin": "Japan",
          "Weight_in_lbs": 1985,
          "Year": "1982-01-01"
         },
         {
          "Acceleration": 14.9,
          "Cylinders": 4,
          "Displacement": 105,
          "Horsepower": 63,
          "Miles_per_Gallon": 34.7,
          "Name": "plymouth horizon 4",
          "Origin": "USA",
          "Weight_in_lbs": 2215,
          "Year": "1982-01-01"
         },
         {
          "Acceleration": 16.2,
          "Cylinders": 4,
          "Displacement": 98,
          "Horsepower": 65,
          "Miles_per_Gallon": 34.4,
          "Name": "ford escort 4w",
          "Origin": "USA",
          "Weight_in_lbs": 2045,
          "Year": "1982-01-01"
         },
         {
          "Acceleration": 20.7,
          "Cylinders": 4,
          "Displacement": 98,
          "Horsepower": 65,
          "Miles_per_Gallon": 29.9,
          "Name": "ford escort 2h",
          "Origin": "USA",
          "Weight_in_lbs": 2380,
          "Year": "1982-01-01"
         },
         {
          "Acceleration": 14.2,
          "Cylinders": 4,
          "Displacement": 105,
          "Horsepower": 74,
          "Miles_per_Gallon": 33,
          "Name": "volkswagen jetta",
          "Origin": "Europe",
          "Weight_in_lbs": 2190,
          "Year": "1982-01-01"
         },
         {
          "Acceleration": 15.8,
          "Cylinders": 4,
          "Displacement": 100,
          "Horsepower": null,
          "Miles_per_Gallon": 34.5,
          "Name": "renault 18i",
          "Origin": "Europe",
          "Weight_in_lbs": 2320,
          "Year": "1982-01-01"
         },
         {
          "Acceleration": 14.4,
          "Cylinders": 4,
          "Displacement": 107,
          "Horsepower": 75,
          "Miles_per_Gallon": 33.7,
          "Name": "honda prelude",
          "Origin": "Japan",
          "Weight_in_lbs": 2210,
          "Year": "1982-01-01"
         },
         {
          "Acceleration": 16.8,
          "Cylinders": 4,
          "Displacement": 108,
          "Horsepower": 75,
          "Miles_per_Gallon": 32.4,
          "Name": "toyota corolla",
          "Origin": "Japan",
          "Weight_in_lbs": 2350,
          "Year": "1982-01-01"
         },
         {
          "Acceleration": 14.8,
          "Cylinders": 4,
          "Displacement": 119,
          "Horsepower": 100,
          "Miles_per_Gallon": 32.9,
          "Name": "datsun 200sx",
          "Origin": "Japan",
          "Weight_in_lbs": 2615,
          "Year": "1982-01-01"
         },
         {
          "Acceleration": 18.3,
          "Cylinders": 4,
          "Displacement": 120,
          "Horsepower": 74,
          "Miles_per_Gallon": 31.6,
          "Name": "mazda 626",
          "Origin": "Japan",
          "Weight_in_lbs": 2635,
          "Year": "1982-01-01"
         },
         {
          "Acceleration": 20.4,
          "Cylinders": 4,
          "Displacement": 141,
          "Horsepower": 80,
          "Miles_per_Gallon": 28.1,
          "Name": "peugeot 505s turbo diesel",
          "Origin": "Europe",
          "Weight_in_lbs": 3230,
          "Year": "1982-01-01"
         },
         {
          "Acceleration": 15.4,
          "Cylinders": 4,
          "Displacement": 121,
          "Horsepower": 110,
          "Miles_per_Gallon": null,
          "Name": "saab 900s",
          "Origin": "Europe",
          "Weight_in_lbs": 2800,
          "Year": "1982-01-01"
         },
         {
          "Acceleration": 19.6,
          "Cylinders": 6,
          "Displacement": 145,
          "Horsepower": 76,
          "Miles_per_Gallon": 30.7,
          "Name": "volvo diesel",
          "Origin": "Europe",
          "Weight_in_lbs": 3160,
          "Year": "1982-01-01"
         },
         {
          "Acceleration": 12.6,
          "Cylinders": 6,
          "Displacement": 168,
          "Horsepower": 116,
          "Miles_per_Gallon": 25.4,
          "Name": "toyota cressida",
          "Origin": "Japan",
          "Weight_in_lbs": 2900,
          "Year": "1982-01-01"
         },
         {
          "Acceleration": 13.8,
          "Cylinders": 6,
          "Displacement": 146,
          "Horsepower": 120,
          "Miles_per_Gallon": 24.2,
          "Name": "datsun 810 maxima",
          "Origin": "Japan",
          "Weight_in_lbs": 2930,
          "Year": "1982-01-01"
         },
         {
          "Acceleration": 15.8,
          "Cylinders": 6,
          "Displacement": 231,
          "Horsepower": 110,
          "Miles_per_Gallon": 22.4,
          "Name": "buick century",
          "Origin": "USA",
          "Weight_in_lbs": 3415,
          "Year": "1982-01-01"
         },
         {
          "Acceleration": 19,
          "Cylinders": 8,
          "Displacement": 350,
          "Horsepower": 105,
          "Miles_per_Gallon": 26.6,
          "Name": "oldsmobile cutlass ls",
          "Origin": "USA",
          "Weight_in_lbs": 3725,
          "Year": "1982-01-01"
         },
         {
          "Acceleration": 17.1,
          "Cylinders": 6,
          "Displacement": 200,
          "Horsepower": 88,
          "Miles_per_Gallon": 20.2,
          "Name": "ford granada gl",
          "Origin": "USA",
          "Weight_in_lbs": 3060,
          "Year": "1982-01-01"
         },
         {
          "Acceleration": 16.6,
          "Cylinders": 6,
          "Displacement": 225,
          "Horsepower": 85,
          "Miles_per_Gallon": 17.6,
          "Name": "chrysler lebaron salon",
          "Origin": "USA",
          "Weight_in_lbs": 3465,
          "Year": "1982-01-01"
         },
         {
          "Acceleration": 19.6,
          "Cylinders": 4,
          "Displacement": 112,
          "Horsepower": 88,
          "Miles_per_Gallon": 28,
          "Name": "chevrolet cavalier",
          "Origin": "USA",
          "Weight_in_lbs": 2605,
          "Year": "1982-01-01"
         },
         {
          "Acceleration": 18.6,
          "Cylinders": 4,
          "Displacement": 112,
          "Horsepower": 88,
          "Miles_per_Gallon": 27,
          "Name": "chevrolet cavalier wagon",
          "Origin": "USA",
          "Weight_in_lbs": 2640,
          "Year": "1982-01-01"
         },
         {
          "Acceleration": 18,
          "Cylinders": 4,
          "Displacement": 112,
          "Horsepower": 88,
          "Miles_per_Gallon": 34,
          "Name": "chevrolet cavalier 2-door",
          "Origin": "USA",
          "Weight_in_lbs": 2395,
          "Year": "1982-01-01"
         },
         {
          "Acceleration": 16.2,
          "Cylinders": 4,
          "Displacement": 112,
          "Horsepower": 85,
          "Miles_per_Gallon": 31,
          "Name": "pontiac j2000 se hatchback",
          "Origin": "USA",
          "Weight_in_lbs": 2575,
          "Year": "1982-01-01"
         },
         {
          "Acceleration": 16,
          "Cylinders": 4,
          "Displacement": 135,
          "Horsepower": 84,
          "Miles_per_Gallon": 29,
          "Name": "dodge aries se",
          "Origin": "USA",
          "Weight_in_lbs": 2525,
          "Year": "1982-01-01"
         },
         {
          "Acceleration": 18,
          "Cylinders": 4,
          "Displacement": 151,
          "Horsepower": 90,
          "Miles_per_Gallon": 27,
          "Name": "pontiac phoenix",
          "Origin": "USA",
          "Weight_in_lbs": 2735,
          "Year": "1982-01-01"
         },
         {
          "Acceleration": 16.4,
          "Cylinders": 4,
          "Displacement": 140,
          "Horsepower": 92,
          "Miles_per_Gallon": 24,
          "Name": "ford fairmont futura",
          "Origin": "USA",
          "Weight_in_lbs": 2865,
          "Year": "1982-01-01"
         },
         {
          "Acceleration": 20.5,
          "Cylinders": 4,
          "Displacement": 151,
          "Horsepower": null,
          "Miles_per_Gallon": 23,
          "Name": "amc concord dl",
          "Origin": "USA",
          "Weight_in_lbs": 3035,
          "Year": "1982-01-01"
         },
         {
          "Acceleration": 15.3,
          "Cylinders": 4,
          "Displacement": 105,
          "Horsepower": 74,
          "Miles_per_Gallon": 36,
          "Name": "volkswagen rabbit l",
          "Origin": "Europe",
          "Weight_in_lbs": 1980,
          "Year": "1982-01-01"
         },
         {
          "Acceleration": 18.2,
          "Cylinders": 4,
          "Displacement": 91,
          "Horsepower": 68,
          "Miles_per_Gallon": 37,
          "Name": "mazda glc custom l",
          "Origin": "Japan",
          "Weight_in_lbs": 2025,
          "Year": "1982-01-01"
         },
         {
          "Acceleration": 17.6,
          "Cylinders": 4,
          "Displacement": 91,
          "Horsepower": 68,
          "Miles_per_Gallon": 31,
          "Name": "mazda glc custom",
          "Origin": "Japan",
          "Weight_in_lbs": 1970,
          "Year": "1982-01-01"
         },
         {
          "Acceleration": 14.7,
          "Cylinders": 4,
          "Displacement": 105,
          "Horsepower": 63,
          "Miles_per_Gallon": 38,
          "Name": "plymouth horizon miser",
          "Origin": "USA",
          "Weight_in_lbs": 2125,
          "Year": "1982-01-01"
         },
         {
          "Acceleration": 17.3,
          "Cylinders": 4,
          "Displacement": 98,
          "Horsepower": 70,
          "Miles_per_Gallon": 36,
          "Name": "mercury lynx l",
          "Origin": "USA",
          "Weight_in_lbs": 2125,
          "Year": "1982-01-01"
         },
         {
          "Acceleration": 14.5,
          "Cylinders": 4,
          "Displacement": 120,
          "Horsepower": 88,
          "Miles_per_Gallon": 36,
          "Name": "nissan stanza xe",
          "Origin": "Japan",
          "Weight_in_lbs": 2160,
          "Year": "1982-01-01"
         },
         {
          "Acceleration": 14.5,
          "Cylinders": 4,
          "Displacement": 107,
          "Horsepower": 75,
          "Miles_per_Gallon": 36,
          "Name": "honda Accelerationord",
          "Origin": "Japan",
          "Weight_in_lbs": 2205,
          "Year": "1982-01-01"
         },
         {
          "Acceleration": 16.9,
          "Cylinders": 4,
          "Displacement": 108,
          "Horsepower": 70,
          "Miles_per_Gallon": 34,
          "Name": "toyota corolla",
          "Origin": "Japan",
          "Weight_in_lbs": 2245,
          "Year": "1982-01-01"
         },
         {
          "Acceleration": 15,
          "Cylinders": 4,
          "Displacement": 91,
          "Horsepower": 67,
          "Miles_per_Gallon": 38,
          "Name": "honda civic",
          "Origin": "Japan",
          "Weight_in_lbs": 1965,
          "Year": "1982-01-01"
         },
         {
          "Acceleration": 15.7,
          "Cylinders": 4,
          "Displacement": 91,
          "Horsepower": 67,
          "Miles_per_Gallon": 32,
          "Name": "honda civic (auto)",
          "Origin": "Japan",
          "Weight_in_lbs": 1965,
          "Year": "1982-01-01"
         },
         {
          "Acceleration": 16.2,
          "Cylinders": 4,
          "Displacement": 91,
          "Horsepower": 67,
          "Miles_per_Gallon": 38,
          "Name": "datsun 310 gx",
          "Origin": "Japan",
          "Weight_in_lbs": 1995,
          "Year": "1982-01-01"
         },
         {
          "Acceleration": 16.4,
          "Cylinders": 6,
          "Displacement": 181,
          "Horsepower": 110,
          "Miles_per_Gallon": 25,
          "Name": "buick century limited",
          "Origin": "USA",
          "Weight_in_lbs": 2945,
          "Year": "1982-01-01"
         },
         {
          "Acceleration": 17,
          "Cylinders": 6,
          "Displacement": 262,
          "Horsepower": 85,
          "Miles_per_Gallon": 38,
          "Name": "oldsmobile cutlass ciera (diesel)",
          "Origin": "USA",
          "Weight_in_lbs": 3015,
          "Year": "1982-01-01"
         },
         {
          "Acceleration": 14.5,
          "Cylinders": 4,
          "Displacement": 156,
          "Horsepower": 92,
          "Miles_per_Gallon": 26,
          "Name": "chrysler lebaron medallion",
          "Origin": "USA",
          "Weight_in_lbs": 2585,
          "Year": "1982-01-01"
         },
         {
          "Acceleration": 14.7,
          "Cylinders": 6,
          "Displacement": 232,
          "Horsepower": 112,
          "Miles_per_Gallon": 22,
          "Name": "ford granada l",
          "Origin": "USA",
          "Weight_in_lbs": 2835,
          "Year": "1982-01-01"
         },
         {
          "Acceleration": 13.9,
          "Cylinders": 4,
          "Displacement": 144,
          "Horsepower": 96,
          "Miles_per_Gallon": 32,
          "Name": "toyota celica gt",
          "Origin": "Japan",
          "Weight_in_lbs": 2665,
          "Year": "1982-01-01"
         },
         {
          "Acceleration": 13,
          "Cylinders": 4,
          "Displacement": 135,
          "Horsepower": 84,
          "Miles_per_Gallon": 36,
          "Name": "dodge charger 2.2",
          "Origin": "USA",
          "Weight_in_lbs": 2370,
          "Year": "1982-01-01"
         },
         {
          "Acceleration": 17.3,
          "Cylinders": 4,
          "Displacement": 151,
          "Horsepower": 90,
          "Miles_per_Gallon": 27,
          "Name": "chevrolet camaro",
          "Origin": "USA",
          "Weight_in_lbs": 2950,
          "Year": "1982-01-01"
         },
         {
          "Acceleration": 15.6,
          "Cylinders": 4,
          "Displacement": 140,
          "Horsepower": 86,
          "Miles_per_Gallon": 27,
          "Name": "ford mustang gl",
          "Origin": "USA",
          "Weight_in_lbs": 2790,
          "Year": "1982-01-01"
         },
         {
          "Acceleration": 24.6,
          "Cylinders": 4,
          "Displacement": 97,
          "Horsepower": 52,
          "Miles_per_Gallon": 44,
          "Name": "vw pickup",
          "Origin": "Europe",
          "Weight_in_lbs": 2130,
          "Year": "1982-01-01"
         },
         {
          "Acceleration": 11.6,
          "Cylinders": 4,
          "Displacement": 135,
          "Horsepower": 84,
          "Miles_per_Gallon": 32,
          "Name": "dodge rampage",
          "Origin": "USA",
          "Weight_in_lbs": 2295,
          "Year": "1982-01-01"
         },
         {
          "Acceleration": 18.6,
          "Cylinders": 4,
          "Displacement": 120,
          "Horsepower": 79,
          "Miles_per_Gallon": 28,
          "Name": "ford ranger",
          "Origin": "USA",
          "Weight_in_lbs": 2625,
          "Year": "1982-01-01"
         },
         {
          "Acceleration": 19.4,
          "Cylinders": 4,
          "Displacement": 119,
          "Horsepower": 82,
          "Miles_per_Gallon": 31,
          "Name": "chevy s-10",
          "Origin": "USA",
          "Weight_in_lbs": 2720,
          "Year": "1982-01-01"
         }
        ]
       },
       "encoding": {
        "color": {
         "field": "Cylinders",
         "type": "quantitative"
        },
        "column": {
         "field": "Origin",
         "type": "nominal"
        },
        "x": {
         "field": "Miles_per_Gallon",
         "type": "quantitative"
        },
        "y": {
         "field": "Horsepower",
         "type": "quantitative"
        }
       },
       "mark": "point"
      },
      "image/png": "[encoded data removed]",
      "image/svg+xml": [
       "<svg class=\"marks\" width=\"777\" height=\"295\" viewBox=\"0 0 777 295\" version=\"1.1\" xmlns=\"http://www.w3.org/2000/svg\" xmlns:xlink=\"http://www.w3.org/1999/xlink\"><defs><linearGradient id=\"gradient_0\" x1=\"0\" x2=\"0\" y1=\"1\" y2=\"0\"><stop offset=\"0\" stop-color=\"rgb(207, 225, 242)\"></stop><stop offset=\"0.1\" stop-color=\"rgb(190, 216, 236)\"></stop><stop offset=\"0.2\" stop-color=\"rgb(168, 206, 229)\"></stop><stop offset=\"0.3\" stop-color=\"rgb(143, 193, 222)\"></stop><stop offset=\"0.4\" stop-color=\"rgb(116, 178, 215)\"></stop><stop offset=\"0.5\" stop-color=\"rgb(91, 163, 207)\"></stop><stop offset=\"0.6\" stop-color=\"rgb(69, 146, 198)\"></stop><stop offset=\"0.7\" stop-color=\"rgb(49, 129, 189)\"></stop><stop offset=\"0.8\" stop-color=\"rgb(32, 111, 178)\"></stop><stop offset=\"0.9\" stop-color=\"rgb(18, 92, 164)\"></stop><stop offset=\"1\" stop-color=\"rgb(10, 74, 144)\"></stop></linearGradient></defs><g transform=\"translate(46,57)\"><g class=\"mark-group role-frame root\"><g transform=\"translate(0,0)\"><path class=\"background\" d=\"M0,0h0v0h0Z\" style=\"fill: none;\"></path><g><g class=\"mark-group role-column-title column-title\"><g transform=\"translate(322,-31)\"><path class=\"background\" d=\"M0,0h0v0h0Z\" style=\"fill: none;\"></path><g><g class=\"mark-group role-title\"><g transform=\"translate(0,-21)\"><path class=\"background\" d=\"M0,0h0v0h0Z\" style=\"pointer-events: none; fill: none;\"></path><g><g class=\"mark-text role-title-text\" style=\"pointer-events: none;\"><text text-anchor=\"middle\" transform=\"translate(0,9)\" style=\"font-family: sans-serif; font-size: 11px; font-weight: bold; fill: #000; opacity: 1;\">Origin</text></g></g></g></g></g></g></g><g class=\"mark-group role-row-header row_header\"><g transform=\"translate(-1,0)\"><path class=\"background\" d=\"M0,0h0v200h0Z\" style=\"fill: none;\"></path><g><g class=\"mark-group role-axis\"><g transform=\"translate(0.5,0.5)\"><path class=\"background\" d=\"M0,0h0v0h0Z\" style=\"pointer-events: none; fill: none;\"></path><g><g class=\"mark-rule role-axis-tick\" style=\"pointer-events: none;\"><line transform=\"translate(0,200)\" x2=\"-5\" y2=\"0\" style=\"fill: none; stroke: #888; stroke-width: 1; opacity: 1;\"></line><line transform=\"translate(0,158)\" x2=\"-5\" y2=\"0\" style=\"fill: none; stroke: #888; stroke-width: 1; opacity: 1;\"></line><line transform=\"translate(0,117)\" x2=\"-5\" y2=\"0\" style=\"fill: none; stroke: #888; stroke-width: 1; opacity: 1;\"></line><line transform=\"translate(0,75)\" x2=\"-5\" y2=\"0\" style=\"fill: none; stroke: #888; stroke-width: 1; opacity: 1;\"></line><line transform=\"translate(0,33)\" x2=\"-5\" y2=\"0\" style=\"fill: none; stroke: #888; stroke-width: 1; opacity: 1;\"></line></g><g class=\"mark-text role-axis-label\" style=\"pointer-events: none;\"><text text-anchor=\"end\" transform=\"translate(-7,203)\" style=\"font-family: sans-serif; font-size: 10px; fill: #000; opacity: 1;\">0</text><text text-anchor=\"end\" transform=\"translate(-7,161.33333333333331)\" style=\"font-family: sans-serif; font-size: 10px; fill: #000; opacity: 1;\">50</text><text text-anchor=\"end\" transform=\"translate(-7,119.66666666666666)\" style=\"font-family: sans-serif; font-size: 10px; fill: #000; opacity: 1;\">100</text><text text-anchor=\"end\" transform=\"translate(-7,78)\" style=\"font-family: sans-serif; font-size: 10px; fill: #000; opacity: 1;\">150</text><text text-anchor=\"end\" transform=\"translate(-7,36.33333333333333)\" style=\"font-family: sans-serif; font-size: 10px; fill: #000; opacity: 1;\">200</text></g><g class=\"mark-rule role-axis-domain\" style=\"pointer-events: none;\"><line transform=\"translate(0,200)\" x2=\"0\" y2=\"-200\" style=\"fill: none; stroke: #888; stroke-width: 1; opacity: 1;\"></line></g><g class=\"mark-text role-axis-title\" style=\"pointer-events: none;\"><text text-anchor=\"middle\" transform=\"translate(-29,100) rotate(-90) translate(0,-2)\" style=\"font-family: sans-serif; font-size: 11px; font-weight: bold; fill: #000; opacity: 1;\">Horsepower</text></g></g></g></g></g></g></g><g class=\"mark-group role-column-header column_header\"><g transform=\"translate(0,-1)\"><path class=\"background\" d=\"M0,0h200v0h-200Z\" style=\"fill: none;\"></path><g><g class=\"mark-group role-title\"><g transform=\"translate(100,-20)\"><path class=\"background\" d=\"M0,0h0v0h0Z\" style=\"pointer-events: none; fill: none;\"></path><g><g class=\"mark-text role-title-text\" style=\"pointer-events: none;\"><text text-anchor=\"middle\" transform=\"translate(0,8)\" style=\"font-family: sans-serif; font-size: 10px; fill: #000; opacity: 1;\">Europe</text></g></g></g></g></g></g><g transform=\"translate(222,-1)\"><path class=\"background\" d=\"M0,0h200v0h-200Z\" style=\"fill: none;\"></path><g><g class=\"mark-group role-title\"><g transform=\"translate(100,-20)\"><path class=\"background\" d=\"M0,0h0v0h0Z\" style=\"pointer-events: none; fill: none;\"></path><g><g class=\"mark-text role-title-text\" style=\"pointer-events: none;\"><text text-anchor=\"middle\" transform=\"translate(0,8)\" style=\"font-family: sans-serif; font-size: 10px; fill: #000; opacity: 1;\">Japan</text></g></g></g></g></g></g><g transform=\"translate(444,-1)\"><path class=\"background\" d=\"M0,0h200v0h-200Z\" style=\"fill: none;\"></path><g><g class=\"mark-group role-title\"><g transform=\"translate(100,-20)\"><path class=\"background\" d=\"M0,0h0v0h0Z\" style=\"pointer-events: none; fill: none;\"></path><g><g class=\"mark-text role-title-text\" style=\"pointer-events: none;\"><text text-anchor=\"middle\" transform=\"translate(0,8)\" style=\"font-family: sans-serif; font-size: 10px; fill: #000; opacity: 1;\">USA</text></g></g></g></g></g></g></g><g class=\"mark-group role-column-footer column_footer\"><g transform=\"translate(0,201)\"><path class=\"background\" d=\"M0,0h200v0h-200Z\" style=\"fill: none;\"></path><g><g class=\"mark-group role-axis\"><g transform=\"translate(0.5,0.5)\"><path class=\"background\" d=\"M0,0h0v0h0Z\" style=\"pointer-events: none; fill: none;\"></path><g><g class=\"mark-rule role-axis-tick\" style=\"pointer-events: none;\"><line transform=\"translate(0,0)\" x2=\"0\" y2=\"5\" style=\"fill: none; stroke: #888; stroke-width: 1; opacity: 1;\"></line><line transform=\"translate(40,0)\" x2=\"0\" y2=\"5\" style=\"fill: none; stroke: #888; stroke-width: 1; opacity: 1;\"></line><line transform=\"translate(80,0)\" x2=\"0\" y2=\"5\" style=\"fill: none; stroke: #888; stroke-width: 1; opacity: 1;\"></line><line transform=\"translate(120,0)\" x2=\"0\" y2=\"5\" style=\"fill: none; stroke: #888; stroke-width: 1; opacity: 1;\"></line><line transform=\"translate(160,0)\" x2=\"0\" y2=\"5\" style=\"fill: none; stroke: #888; stroke-width: 1; opacity: 1;\"></line><line transform=\"translate(200,0)\" x2=\"0\" y2=\"5\" style=\"fill: none; stroke: #888; stroke-width: 1; opacity: 1;\"></line></g><g class=\"mark-text role-axis-label\" style=\"pointer-events: none;\"><text text-anchor=\"start\" transform=\"translate(0,15)\" style=\"font-family: sans-serif; font-size: 10px; fill: #000; opacity: 1;\">0</text><text text-anchor=\"middle\" transform=\"translate(40,15)\" style=\"font-family: sans-serif; font-size: 10px; fill: #000; opacity: 1;\">10</text><text text-anchor=\"middle\" transform=\"translate(80,15)\" style=\"font-family: sans-serif; font-size: 10px; fill: #000; opacity: 1;\">20</text><text text-anchor=\"middle\" transform=\"translate(120,15)\" style=\"font-family: sans-serif; font-size: 10px; fill: #000; opacity: 1;\">30</text><text text-anchor=\"middle\" transform=\"translate(160,15)\" style=\"font-family: sans-serif; font-size: 10px; fill: #000; opacity: 1;\">40</text><text text-anchor=\"end\" transform=\"translate(200,15)\" style=\"font-family: sans-serif; font-size: 10px; fill: #000; opacity: 1;\">50</text></g><g class=\"mark-rule role-axis-domain\" style=\"pointer-events: none;\"><line transform=\"translate(0,0)\" x2=\"200\" y2=\"0\" style=\"fill: none; stroke: #888; stroke-width: 1; opacity: 1;\"></line></g><g class=\"mark-text role-axis-title\" style=\"pointer-events: none;\"><text text-anchor=\"middle\" transform=\"translate(100,30)\" style=\"font-family: sans-serif; font-size: 11px; font-weight: bold; fill: #000; opacity: 1;\">Miles_per_Gallon</text></g></g></g></g></g></g><g transform=\"translate(222,201)\"><path class=\"background\" d=\"M0,0h200v0h-200Z\" style=\"fill: none;\"></path><g><g class=\"mark-group role-axis\"><g transform=\"translate(0.5,0.5)\"><path class=\"background\" d=\"M0,0h0v0h0Z\" style=\"pointer-events: none; fill: none;\"></path><g><g class=\"mark-rule role-axis-tick\" style=\"pointer-events: none;\"><line transform=\"translate(0,0)\" x2=\"0\" y2=\"5\" style=\"fill: none; stroke: #888; stroke-width: 1; opacity: 1;\"></line><line transform=\"translate(40,0)\" x2=\"0\" y2=\"5\" style=\"fill: none; stroke: #888; stroke-width: 1; opacity: 1;\"></line><line transform=\"translate(80,0)\" x2=\"0\" y2=\"5\" style=\"fill: none; stroke: #888; stroke-width: 1; opacity: 1;\"></line><line transform=\"translate(120,0)\" x2=\"0\" y2=\"5\" style=\"fill: none; stroke: #888; stroke-width: 1; opacity: 1;\"></line><line transform=\"translate(160,0)\" x2=\"0\" y2=\"5\" style=\"fill: none; stroke: #888; stroke-width: 1; opacity: 1;\"></line><line transform=\"translate(200,0)\" x2=\"0\" y2=\"5\" style=\"fill: none; stroke: #888; stroke-width: 1; opacity: 1;\"></line></g><g class=\"mark-text role-axis-label\" style=\"pointer-events: none;\"><text text-anchor=\"start\" transform=\"translate(0,15)\" style=\"font-family: sans-serif; font-size: 10px; fill: #000; opacity: 1;\">0</text><text text-anchor=\"middle\" transform=\"translate(40,15)\" style=\"font-family: sans-serif; font-size: 10px; fill: #000; opacity: 1;\">10</text><text text-anchor=\"middle\" transform=\"translate(80,15)\" style=\"font-family: sans-serif; font-size: 10px; fill: #000; opacity: 1;\">20</text><text text-anchor=\"middle\" transform=\"translate(120,15)\" style=\"font-family: sans-serif; font-size: 10px; fill: #000; opacity: 1;\">30</text><text text-anchor=\"middle\" transform=\"translate(160,15)\" style=\"font-family: sans-serif; font-size: 10px; fill: #000; opacity: 1;\">40</text><text text-anchor=\"end\" transform=\"translate(200,15)\" style=\"font-family: sans-serif; font-size: 10px; fill: #000; opacity: 1;\">50</text></g><g class=\"mark-rule role-axis-domain\" style=\"pointer-events: none;\"><line transform=\"translate(0,0)\" x2=\"200\" y2=\"0\" style=\"fill: none; stroke: #888; stroke-width: 1; opacity: 1;\"></line></g><g class=\"mark-text role-axis-title\" style=\"pointer-events: none;\"><text text-anchor=\"middle\" transform=\"translate(100,30)\" style=\"font-family: sans-serif; font-size: 11px; font-weight: bold; fill: #000; opacity: 1;\">Miles_per_Gallon</text></g></g></g></g></g></g><g transform=\"translate(444,201)\"><path class=\"background\" d=\"M0,0h200v0h-200Z\" style=\"fill: none;\"></path><g><g class=\"mark-group role-axis\"><g transform=\"translate(0.5,0.5)\"><path class=\"background\" d=\"M0,0h0v0h0Z\" style=\"pointer-events: none; fill: none;\"></path><g><g class=\"mark-rule role-axis-tick\" style=\"pointer-events: none;\"><line transform=\"translate(0,0)\" x2=\"0\" y2=\"5\" style=\"fill: none; stroke: #888; stroke-width: 1; opacity: 1;\"></line><line transform=\"translate(40,0)\" x2=\"0\" y2=\"5\" style=\"fill: none; stroke: #888; stroke-width: 1; opacity: 1;\"></line><line transform=\"translate(80,0)\" x2=\"0\" y2=\"5\" style=\"fill: none; stroke: #888; stroke-width: 1; opacity: 1;\"></line><line transform=\"translate(120,0)\" x2=\"0\" y2=\"5\" style=\"fill: none; stroke: #888; stroke-width: 1; opacity: 1;\"></line><line transform=\"translate(160,0)\" x2=\"0\" y2=\"5\" style=\"fill: none; stroke: #888; stroke-width: 1; opacity: 1;\"></line><line transform=\"translate(200,0)\" x2=\"0\" y2=\"5\" style=\"fill: none; stroke: #888; stroke-width: 1; opacity: 1;\"></line></g><g class=\"mark-text role-axis-label\" style=\"pointer-events: none;\"><text text-anchor=\"start\" transform=\"translate(0,15)\" style=\"font-family: sans-serif; font-size: 10px; fill: #000; opacity: 1;\">0</text><text text-anchor=\"middle\" transform=\"translate(40,15)\" style=\"font-family: sans-serif; font-size: 10px; fill: #000; opacity: 1;\">10</text><text text-anchor=\"middle\" transform=\"translate(80,15)\" style=\"font-family: sans-serif; font-size: 10px; fill: #000; opacity: 1;\">20</text><text text-anchor=\"middle\" transform=\"translate(120,15)\" style=\"font-family: sans-serif; font-size: 10px; fill: #000; opacity: 1;\">30</text><text text-anchor=\"middle\" transform=\"translate(160,15)\" style=\"font-family: sans-serif; font-size: 10px; fill: #000; opacity: 1;\">40</text><text text-anchor=\"end\" transform=\"translate(200,15)\" style=\"font-family: sans-serif; font-size: 10px; fill: #000; opacity: 1;\">50</text></g><g class=\"mark-rule role-axis-domain\" style=\"pointer-events: none;\"><line transform=\"translate(0,0)\" x2=\"200\" y2=\"0\" style=\"fill: none; stroke: #888; stroke-width: 1; opacity: 1;\"></line></g><g class=\"mark-text role-axis-title\" style=\"pointer-events: none;\"><text text-anchor=\"middle\" transform=\"translate(100,30)\" style=\"font-family: sans-serif; font-size: 11px; font-weight: bold; fill: #000; opacity: 1;\">Miles_per_Gallon</text></g></g></g></g></g></g></g><g class=\"mark-group role-scope cell\"><g transform=\"translate(0,0)\"><path class=\"background\" d=\"M0.5,0.5h200v200h-200Z\" style=\"fill: none; stroke: #ddd;\"></path><g><g class=\"mark-group role-axis\"><g transform=\"translate(0.5,200.5)\"><path class=\"background\" d=\"M0,0h0v0h0Z\" style=\"pointer-events: none; fill: none;\"></path><g><g class=\"mark-rule role-axis-grid\" style=\"pointer-events: none;\"><line transform=\"translate(0,-200)\" x2=\"0\" y2=\"200\" style=\"fill: none; stroke: #ddd; stroke-width: 1; opacity: 1;\"></line><line transform=\"translate(40,-200)\" x2=\"0\" y2=\"200\" style=\"fill: none; stroke: #ddd; stroke-width: 1; opacity: 1;\"></line><line transform=\"translate(80,-200)\" x2=\"0\" y2=\"200\" style=\"fill: none; stroke: #ddd; stroke-width: 1; opacity: 1;\"></line><line transform=\"translate(120,-200)\" x2=\"0\" y2=\"200\" style=\"fill: none; stroke: #ddd; stroke-width: 1; opacity: 1;\"></line><line transform=\"translate(160,-200)\" x2=\"0\" y2=\"200\" style=\"fill: none; stroke: #ddd; stroke-width: 1; opacity: 1;\"></line><line transform=\"translate(200,-200)\" x2=\"0\" y2=\"200\" style=\"fill: none; stroke: #ddd; stroke-width: 1; opacity: 1;\"></line></g></g></g></g><g class=\"mark-group role-axis\"><g transform=\"translate(0.5,0.5)\"><path class=\"background\" d=\"M0,0h0v0h0Z\" style=\"pointer-events: none; fill: none;\"></path><g><g class=\"mark-rule role-axis-grid\" style=\"pointer-events: none;\"><line transform=\"translate(0,200)\" x2=\"200\" y2=\"0\" style=\"fill: none; stroke: #ddd; stroke-width: 1; opacity: 1;\"></line><line transform=\"translate(0,158)\" x2=\"200\" y2=\"0\" style=\"fill: none; stroke: #ddd; stroke-width: 1; opacity: 1;\"></line><line transform=\"translate(0,117)\" x2=\"200\" y2=\"0\" style=\"fill: none; stroke: #ddd; stroke-width: 1; opacity: 1;\"></line><line transform=\"translate(0,75)\" x2=\"200\" y2=\"0\" style=\"fill: none; stroke: #ddd; stroke-width: 1; opacity: 1;\"></line><line transform=\"translate(0,33)\" x2=\"200\" y2=\"0\" style=\"fill: none; stroke: #ddd; stroke-width: 1; opacity: 1;\"></line></g></g></g></g><g class=\"mark-symbol role-mark child_marks\"><path transform=\"translate(104,161.66666666666666)\" d=\"M2.7386127875258306,0A2.7386127875258306,2.7386127875258306,0,1,1,-2.7386127875258306,0A2.7386127875258306,2.7386127875258306,0,1,1,2.7386127875258306,0\" style=\"fill: none; stroke: rgb(168, 206, 229); stroke-width: 2; opacity: 0.7;\"></path><path transform=\"translate(100,127.49999999999999)\" d=\"M2.7386127875258306,0A2.7386127875258306,2.7386127875258306,0,1,1,-2.7386127875258306,0A2.7386127875258306,2.7386127875258306,0,1,1,2.7386127875258306,0\" style=\"fill: none; stroke: rgb(168, 206, 229); stroke-width: 2; opacity: 0.7;\"></path><path transform=\"translate(96,125)\" d=\"M2.7386127875258306,0A2.7386127875258306,2.7386127875258306,0,1,1,-2.7386127875258306,0A2.7386127875258306,2.7386127875258306,0,1,1,2.7386127875258306,0\" style=\"fill: none; stroke: rgb(168, 206, 229); stroke-width: 2; opacity: 0.7;\"></path><path transform=\"translate(100,120.83333333333334)\" d=\"M2.7386127875258306,0A2.7386127875258306,2.7386127875258306,0,1,1,-2.7386127875258306,0A2.7386127875258306,2.7386127875258306,0,1,1,2.7386127875258306,0\" style=\"fill: none; stroke: rgb(168, 206, 229); stroke-width: 2; opacity: 0.7;\"></path><path transform=\"translate(104,105.83333333333333)\" d=\"M2.7386127875258306,0A2.7386127875258306,2.7386127875258306,0,1,1,-2.7386127875258306,0A2.7386127875258306,2.7386127875258306,0,1,1,2.7386127875258306,0\" style=\"fill: none; stroke: rgb(168, 206, 229); stroke-width: 2; opacity: 0.7;\"></path><path transform=\"translate(112.00000000000001,125)\" d=\"M2.7386127875258306,0A2.7386127875258306,2.7386127875258306,0,1,1,-2.7386127875258306,0A2.7386127875258306,2.7386127875258306,0,1,1,2.7386127875258306,0\" style=\"fill: none; stroke: rgb(168, 206, 229); stroke-width: 2; opacity: 0.7;\"></path><path transform=\"translate(120,141.66666666666666)\" d=\"M2.7386127875258306,0A2.7386127875258306,2.7386127875258306,0,1,1,-2.7386127875258306,0A2.7386127875258306,2.7386127875258306,0,1,1,2.7386127875258306,0\" style=\"fill: none; stroke: rgb(168, 206, 229); stroke-width: 2; opacity: 0.7;\"></path><path transform=\"translate(120,136.66666666666666)\" d=\"M2.7386127875258306,0A2.7386127875258306,2.7386127875258306,0,1,1,-2.7386127875258306,0A2.7386127875258306,2.7386127875258306,0,1,1,2.7386127875258306,0\" style=\"fill: none; stroke: rgb(168, 206, 229); stroke-width: 2; opacity: 0.7;\"></path><path transform=\"translate(108,150)\" d=\"M2.7386127875258306,0A2.7386127875258306,2.7386127875258306,0,1,1,-2.7386127875258306,0A2.7386127875258306,2.7386127875258306,0,1,1,2.7386127875258306,0\" style=\"fill: none; stroke: rgb(168, 206, 229); stroke-width: 2; opacity: 0.7;\"></path><path transform=\"translate(92,155)\" d=\"M2.7386127875258306,0A2.7386127875258306,2.7386127875258306,0,1,1,-2.7386127875258306,0A2.7386127875258306,2.7386127875258306,0,1,1,2.7386127875258306,0\" style=\"fill: none; stroke: rgb(168, 206, 229); stroke-width: 2; opacity: 0.7;\"></path><path transform=\"translate(72,106.66666666666667)\" d=\"M2.7386127875258306,0A2.7386127875258306,2.7386127875258306,0,1,1,-2.7386127875258306,0A2.7386127875258306,2.7386127875258306,0,1,1,2.7386127875258306,0\" style=\"fill: none; stroke: rgb(168, 206, 229); stroke-width: 2; opacity: 0.7;\"></path><path transform=\"translate(88,136.66666666666666)\" d=\"M2.7386127875258306,0A2.7386127875258306,2.7386127875258306,0,1,1,-2.7386127875258306,0A2.7386127875258306,2.7386127875258306,0,1,1,2.7386127875258306,0\" style=\"fill: none; stroke: rgb(168, 206, 229); stroke-width: 2; opacity: 0.7;\"></path><path transform=\"translate(84,127.49999999999999)\" d=\"M2.7386127875258306,0A2.7386127875258306,2.7386127875258306,0,1,1,-2.7386127875258306,0A2.7386127875258306,2.7386127875258306,0,1,1,2.7386127875258306,0\" style=\"fill: none; stroke: rgb(168, 206, 229); stroke-width: 2; opacity: 0.7;\"></path><path transform=\"translate(104,142.5)\" d=\"M2.7386127875258306,0A2.7386127875258306,2.7386127875258306,0,1,1,-2.7386127875258306,0A2.7386127875258306,2.7386127875258306,0,1,1,2.7386127875258306,0\" style=\"fill: none; stroke: rgb(168, 206, 229); stroke-width: 2; opacity: 0.7;\"></path><path transform=\"translate(104,161.66666666666666)\" d=\"M2.7386127875258306,0A2.7386127875258306,2.7386127875258306,0,1,1,-2.7386127875258306,0A2.7386127875258306,2.7386127875258306,0,1,1,2.7386127875258306,0\" style=\"fill: none; stroke: rgb(168, 206, 229); stroke-width: 2; opacity: 0.7;\"></path><path transform=\"translate(104,125)\" d=\"M2.7386127875258306,0A2.7386127875258306,2.7386127875258306,0,1,1,-2.7386127875258306,0A2.7386127875258306,2.7386127875258306,0,1,1,2.7386127875258306,0\" style=\"fill: none; stroke: rgb(168, 206, 229); stroke-width: 2; opacity: 0.7;\"></path><path transform=\"translate(115.99999999999999,159.16666666666669)\" d=\"M2.7386127875258306,0A2.7386127875258306,2.7386127875258306,0,1,1,-2.7386127875258306,0A2.7386127875258306,2.7386127875258306,0,1,1,2.7386127875258306,0\" style=\"fill: none; stroke: rgb(168, 206, 229); stroke-width: 2; opacity: 0.7;\"></path><path transform=\"translate(96,137.5)\" d=\"M2.7386127875258306,0A2.7386127875258306,2.7386127875258306,0,1,1,-2.7386127875258306,0A2.7386127875258306,2.7386127875258306,0,1,1,2.7386127875258306,0\" style=\"fill: none; stroke: rgb(168, 206, 229); stroke-width: 2; opacity: 0.7;\"></path><path transform=\"translate(80,124.16666666666667)\" d=\"M2.7386127875258306,0A2.7386127875258306,2.7386127875258306,0,1,1,-2.7386127875258306,0A2.7386127875258306,2.7386127875258306,0,1,1,2.7386127875258306,0\" style=\"fill: none; stroke: rgb(168, 206, 229); stroke-width: 2; opacity: 0.7;\"></path><path transform=\"translate(76,106.66666666666667)\" d=\"M2.7386127875258306,0A2.7386127875258306,2.7386127875258306,0,1,1,-2.7386127875258306,0A2.7386127875258306,2.7386127875258306,0,1,1,2.7386127875258306,0\" style=\"fill: none; stroke: rgb(168, 206, 229); stroke-width: 2; opacity: 0.7;\"></path><path transform=\"translate(96,108.33333333333334)\" d=\"M2.7386127875258306,0A2.7386127875258306,2.7386127875258306,0,1,1,-2.7386127875258306,0A2.7386127875258306,2.7386127875258306,0,1,1,2.7386127875258306,0\" style=\"fill: none; stroke: rgb(168, 206, 229); stroke-width: 2; opacity: 0.7;\"></path><path transform=\"translate(115.99999999999999,130.83333333333334)\" d=\"M2.7386127875258306,0A2.7386127875258306,2.7386127875258306,0,1,1,-2.7386127875258306,0A2.7386127875258306,2.7386127875258306,0,1,1,2.7386127875258306,0\" style=\"fill: none; stroke: rgb(168, 206, 229); stroke-width: 2; opacity: 0.7;\"></path><path transform=\"translate(104,144.16666666666666)\" d=\"M2.7386127875258306,0A2.7386127875258306,2.7386127875258306,0,1,1,-2.7386127875258306,0A2.7386127875258306,2.7386127875258306,0,1,1,2.7386127875258306,0\" style=\"fill: none; stroke: rgb(168, 206, 229); stroke-width: 2; opacity: 0.7;\"></path><path transform=\"translate(104,135)\" d=\"M2.7386127875258306,0A2.7386127875258306,2.7386127875258306,0,1,1,-2.7386127875258306,0A2.7386127875258306,2.7386127875258306,0,1,1,2.7386127875258306,0\" style=\"fill: none; stroke: rgb(168, 206, 229); stroke-width: 2; opacity: 0.7;\"></path><path transform=\"translate(96,137.5)\" d=\"M2.7386127875258306,0A2.7386127875258306,2.7386127875258306,0,1,1,-2.7386127875258306,0A2.7386127875258306,2.7386127875258306,0,1,1,2.7386127875258306,0\" style=\"fill: none; stroke: rgb(168, 206, 229); stroke-width: 2; opacity: 0.7;\"></path><path transform=\"translate(104,137.5)\" d=\"M2.7386127875258306,0A2.7386127875258306,2.7386127875258306,0,1,1,-2.7386127875258306,0A2.7386127875258306,2.7386127875258306,0,1,1,2.7386127875258306,0\" style=\"fill: none; stroke: rgb(168, 206, 229); stroke-width: 2; opacity: 0.7;\"></path><path transform=\"translate(124,144.16666666666666)\" d=\"M2.7386127875258306,0A2.7386127875258306,2.7386127875258306,0,1,1,-2.7386127875258306,0A2.7386127875258306,2.7386127875258306,0,1,1,2.7386127875258306,0\" style=\"fill: none; stroke: rgb(168, 206, 229); stroke-width: 2; opacity: 0.7;\"></path><path transform=\"translate(100,140.83333333333331)\" d=\"M2.7386127875258306,0A2.7386127875258306,2.7386127875258306,0,1,1,-2.7386127875258306,0A2.7386127875258306,2.7386127875258306,0,1,1,2.7386127875258306,0\" style=\"fill: none; stroke: rgb(168, 206, 229); stroke-width: 2; opacity: 0.7;\"></path><path transform=\"translate(115.99999999999999,141.66666666666666)\" d=\"M2.7386127875258306,0A2.7386127875258306,2.7386127875258306,0,1,1,-2.7386127875258306,0A2.7386127875258306,2.7386127875258306,0,1,1,2.7386127875258306,0\" style=\"fill: none; stroke: rgb(168, 206, 229); stroke-width: 2; opacity: 0.7;\"></path><path transform=\"translate(92,120.83333333333334)\" d=\"M2.7386127875258306,0A2.7386127875258306,2.7386127875258306,0,1,1,-2.7386127875258306,0A2.7386127875258306,2.7386127875258306,0,1,1,2.7386127875258306,0\" style=\"fill: none; stroke: rgb(168, 206, 229); stroke-width: 2; opacity: 0.7;\"></path><path transform=\"translate(92,126.66666666666666)\" d=\"M2.7386127875258306,0A2.7386127875258306,2.7386127875258306,0,1,1,-2.7386127875258306,0A2.7386127875258306,2.7386127875258306,0,1,1,2.7386127875258306,0\" style=\"fill: none; stroke: rgb(168, 206, 229); stroke-width: 2; opacity: 0.7;\"></path><path transform=\"translate(88,118.33333333333333)\" d=\"M2.7386127875258306,0A2.7386127875258306,2.7386127875258306,0,1,1,-2.7386127875258306,0A2.7386127875258306,2.7386127875258306,0,1,1,2.7386127875258306,0\" style=\"fill: none; stroke: rgb(168, 206, 229); stroke-width: 2; opacity: 0.7;\"></path><path transform=\"translate(100,104.16666666666666)\" d=\"M2.7386127875258306,0A2.7386127875258306,2.7386127875258306,0,1,1,-2.7386127875258306,0A2.7386127875258306,2.7386127875258306,0,1,1,2.7386127875258306,0\" style=\"fill: none; stroke: rgb(168, 206, 229); stroke-width: 2; opacity: 0.7;\"></path><path transform=\"translate(112.00000000000001,128.33333333333331)\" d=\"M2.7386127875258306,0A2.7386127875258306,2.7386127875258306,0,1,1,-2.7386127875258306,0A2.7386127875258306,2.7386127875258306,0,1,1,2.7386127875258306,0\" style=\"fill: none; stroke: rgb(168, 206, 229); stroke-width: 2; opacity: 0.7;\"></path><path transform=\"translate(100,132.5)\" d=\"M2.7386127875258306,0A2.7386127875258306,2.7386127875258306,0,1,1,-2.7386127875258306,0A2.7386127875258306,2.7386127875258306,0,1,1,2.7386127875258306,0\" style=\"fill: none; stroke: rgb(168, 206, 229); stroke-width: 2; opacity: 0.7;\"></path><path transform=\"translate(108,130.83333333333334)\" d=\"M2.7386127875258306,0A2.7386127875258306,2.7386127875258306,0,1,1,-2.7386127875258306,0A2.7386127875258306,2.7386127875258306,0,1,1,2.7386127875258306,0\" style=\"fill: none; stroke: rgb(168, 206, 229); stroke-width: 2; opacity: 0.7;\"></path><path transform=\"translate(115.99999999999999,141.66666666666666)\" d=\"M2.7386127875258306,0A2.7386127875258306,2.7386127875258306,0,1,1,-2.7386127875258306,0A2.7386127875258306,2.7386127875258306,0,1,1,2.7386127875258306,0\" style=\"fill: none; stroke: rgb(168, 206, 229); stroke-width: 2; opacity: 0.7;\"></path><path transform=\"translate(118,140.83333333333331)\" d=\"M2.7386127875258306,0A2.7386127875258306,2.7386127875258306,0,1,1,-2.7386127875258306,0A2.7386127875258306,2.7386127875258306,0,1,1,2.7386127875258306,0\" style=\"fill: none; stroke: rgb(168, 206, 229); stroke-width: 2; opacity: 0.7;\"></path><path transform=\"translate(80,114.99999999999999)\" d=\"M2.7386127875258306,0A2.7386127875258306,2.7386127875258306,0,1,1,-2.7386127875258306,0A2.7386127875258306,2.7386127875258306,0,1,1,2.7386127875258306,0\" style=\"fill: none; stroke: rgb(168, 206, 229); stroke-width: 2; opacity: 0.7;\"></path><path transform=\"translate(76,126.66666666666666)\" d=\"M2.7386127875258306,0A2.7386127875258306,2.7386127875258306,0,1,1,-2.7386127875258306,0A2.7386127875258306,2.7386127875258306,0,1,1,2.7386127875258306,0\" style=\"fill: none; stroke: rgb(168, 206, 229); stroke-width: 2; opacity: 0.7;\"></path><path transform=\"translate(66,100)\" d=\"M2.7386127875258306,0A2.7386127875258306,2.7386127875258306,0,1,1,-2.7386127875258306,0A2.7386127875258306,2.7386127875258306,0,1,1,2.7386127875258306,0\" style=\"fill: none; stroke: rgb(69, 146, 198); stroke-width: 2; opacity: 0.7;\"></path><path transform=\"translate(144,151.66666666666666)\" d=\"M2.7386127875258306,0A2.7386127875258306,2.7386127875258306,0,1,1,-2.7386127875258306,0A2.7386127875258306,2.7386127875258306,0,1,1,2.7386127875258306,0\" style=\"fill: none; stroke: rgb(168, 206, 229); stroke-width: 2; opacity: 0.7;\"></path><path transform=\"translate(115.99999999999999,135)\" d=\"M2.7386127875258306,0A2.7386127875258306,2.7386127875258306,0,1,1,-2.7386127875258306,0A2.7386127875258306,2.7386127875258306,0,1,1,2.7386127875258306,0\" style=\"fill: none; stroke: rgb(168, 206, 229); stroke-width: 2; opacity: 0.7;\"></path><path transform=\"translate(122,135)\" d=\"M2.7386127875258306,0A2.7386127875258306,2.7386127875258306,0,1,1,-2.7386127875258306,0A2.7386127875258306,2.7386127875258306,0,1,1,2.7386127875258306,0\" style=\"fill: none; stroke: rgb(168, 206, 229); stroke-width: 2; opacity: 0.7;\"></path><path transform=\"translate(86,108.33333333333334)\" d=\"M2.7386127875258306,0A2.7386127875258306,2.7386127875258306,0,1,1,-2.7386127875258306,0A2.7386127875258306,2.7386127875258306,0,1,1,2.7386127875258306,0\" style=\"fill: none; stroke: rgb(168, 206, 229); stroke-width: 2; opacity: 0.7;\"></path><path transform=\"translate(172.4,160)\" d=\"M2.7386127875258306,0A2.7386127875258306,2.7386127875258306,0,1,1,-2.7386127875258306,0A2.7386127875258306,2.7386127875258306,0,1,1,2.7386127875258306,0\" style=\"fill: none; stroke: rgb(168, 206, 229); stroke-width: 2; opacity: 0.7;\"></path><path transform=\"translate(81.2,114.16666666666666)\" d=\"M2.7386127875258306,0A2.7386127875258306,2.7386127875258306,0,1,1,-2.7386127875258306,0A2.7386127875258306,2.7386127875258306,0,1,1,2.7386127875258306,0\" style=\"fill: none; stroke: rgb(116, 178, 215); stroke-width: 2; opacity: 0.7;\"></path><path transform=\"translate(68,95.83333333333333)\" d=\"M2.7386127875258306,0A2.7386127875258306,2.7386127875258306,0,1,1,-2.7386127875258306,0A2.7386127875258306,2.7386127875258306,0,1,1,2.7386127875258306,0\" style=\"fill: none; stroke: rgb(69, 146, 198); stroke-width: 2; opacity: 0.7;\"></path><path transform=\"translate(86.4,104.16666666666666)\" d=\"M2.7386127875258306,0A2.7386127875258306,2.7386127875258306,0,1,1,-2.7386127875258306,0A2.7386127875258306,2.7386127875258306,0,1,1,2.7386127875258306,0\" style=\"fill: none; stroke: rgb(168, 206, 229); stroke-width: 2; opacity: 0.7;\"></path><path transform=\"translate(64.8,89.16666666666666)\" d=\"M2.7386127875258306,0A2.7386127875258306,2.7386127875258306,0,1,1,-2.7386127875258306,0A2.7386127875258306,2.7386127875258306,0,1,1,2.7386127875258306,0\" style=\"fill: none; stroke: rgb(69, 146, 198); stroke-width: 2; opacity: 0.7;\"></path><path transform=\"translate(126,140.83333333333331)\" d=\"M2.7386127875258306,0A2.7386127875258306,2.7386127875258306,0,1,1,-2.7386127875258306,0A2.7386127875258306,2.7386127875258306,0,1,1,2.7386127875258306,0\" style=\"fill: none; stroke: rgb(168, 206, 229); stroke-width: 2; opacity: 0.7;\"></path><path transform=\"translate(127.60000000000001,140.83333333333331)\" d=\"M2.7386127875258306,0A2.7386127875258306,2.7386127875258306,0,1,1,-2.7386127875258306,0A2.7386127875258306,2.7386127875258306,0,1,1,2.7386127875258306,0\" style=\"fill: none; stroke: rgb(168, 206, 229); stroke-width: 2; opacity: 0.7;\"></path><path transform=\"translate(101.6,135.83333333333334)\" d=\"M2.7386127875258306,0A2.7386127875258306,2.7386127875258306,0,1,1,-2.7386127875258306,0A2.7386127875258306,2.7386127875258306,0,1,1,2.7386127875258306,0\" style=\"fill: none; stroke: rgb(116, 178, 215); stroke-width: 2; opacity: 0.7;\"></path><path transform=\"translate(108.80000000000001,140.83333333333331)\" d=\"M2.7386127875258306,0A2.7386127875258306,2.7386127875258306,0,1,1,-2.7386127875258306,0A2.7386127875258306,2.7386127875258306,0,1,1,2.7386127875258306,0\" style=\"fill: none; stroke: rgb(168, 206, 229); stroke-width: 2; opacity: 0.7;\"></path><path transform=\"translate(149.2,142.5)\" d=\"M2.7386127875258306,0A2.7386127875258306,2.7386127875258306,0,1,1,-2.7386127875258306,0A2.7386127875258306,2.7386127875258306,0,1,1,2.7386127875258306,0\" style=\"fill: none; stroke: rgb(168, 206, 229); stroke-width: 2; opacity: 0.7;\"></path><path transform=\"translate(166,136.66666666666666)\" d=\"M2.7386127875258306,0A2.7386127875258306,2.7386127875258306,0,1,1,-2.7386127875258306,0A2.7386127875258306,2.7386127875258306,0,1,1,2.7386127875258306,0\" style=\"fill: none; stroke: rgb(168, 206, 229); stroke-width: 2; opacity: 0.7;\"></path><path transform=\"translate(137.2,135)\" d=\"M2.7386127875258306,0A2.7386127875258306,2.7386127875258306,0,1,1,-2.7386127875258306,0A2.7386127875258306,2.7386127875258306,0,1,1,2.7386127875258306,0\" style=\"fill: none; stroke: rgb(168, 206, 229); stroke-width: 2; opacity: 0.7;\"></path><path transform=\"translate(177.2,160)\" d=\"M2.7386127875258306,0A2.7386127875258306,2.7386127875258306,0,1,1,-2.7386127875258306,0A2.7386127875258306,2.7386127875258306,0,1,1,2.7386127875258306,0\" style=\"fill: none; stroke: rgb(168, 206, 229); stroke-width: 2; opacity: 0.7;\"></path><path transform=\"translate(173.6,160)\" d=\"M2.7386127875258306,0A2.7386127875258306,2.7386127875258306,0,1,1,-2.7386127875258306,0A2.7386127875258306,2.7386127875258306,0,1,1,2.7386127875258306,0\" style=\"fill: none; stroke: rgb(168, 206, 229); stroke-width: 2; opacity: 0.7;\"></path><path transform=\"translate(145.6,144.16666666666666)\" d=\"M2.7386127875258306,0A2.7386127875258306,2.7386127875258306,0,1,1,-2.7386127875258306,0A2.7386127875258306,2.7386127875258306,0,1,1,2.7386127875258306,0\" style=\"fill: none; stroke: rgb(116, 178, 215); stroke-width: 2; opacity: 0.7;\"></path><path transform=\"translate(120,144.16666666666666)\" d=\"M2.7386127875258306,0A2.7386127875258306,2.7386127875258306,0,1,1,-2.7386127875258306,0A2.7386127875258306,2.7386127875258306,0,1,1,2.7386127875258306,0\" style=\"fill: none; stroke: rgb(168, 206, 229); stroke-width: 2; opacity: 0.7;\"></path><path transform=\"translate(119.19999999999999,148.33333333333334)\" d=\"M2.7386127875258306,0A2.7386127875258306,2.7386127875258306,0,1,1,-2.7386127875258306,0A2.7386127875258306,2.7386127875258306,0,1,1,2.7386127875258306,0\" style=\"fill: none; stroke: rgb(168, 206, 229); stroke-width: 2; opacity: 0.7;\"></path><path transform=\"translate(140,126.66666666666666)\" d=\"M2.7386127875258306,0A2.7386127875258306,2.7386127875258306,0,1,1,-2.7386127875258306,0A2.7386127875258306,2.7386127875258306,0,1,1,2.7386127875258306,0\" style=\"fill: none; stroke: rgb(168, 206, 229); stroke-width: 2; opacity: 0.7;\"></path><path transform=\"translate(132,138.33333333333334)\" d=\"M2.7386127875258306,0A2.7386127875258306,2.7386127875258306,0,1,1,-2.7386127875258306,0A2.7386127875258306,2.7386127875258306,0,1,1,2.7386127875258306,0\" style=\"fill: none; stroke: rgb(168, 206, 229); stroke-width: 2; opacity: 0.7;\"></path><path transform=\"translate(112.4,133.33333333333334)\" d=\"M2.7386127875258306,0A2.7386127875258306,2.7386127875258306,0,1,1,-2.7386127875258306,0A2.7386127875258306,2.7386127875258306,0,1,1,2.7386127875258306,0\" style=\"fill: none; stroke: rgb(168, 206, 229); stroke-width: 2; opacity: 0.7;\"></path><path transform=\"translate(122.8,136.66666666666666)\" d=\"M2.7386127875258306,0A2.7386127875258306,2.7386127875258306,0,1,1,-2.7386127875258306,0A2.7386127875258306,2.7386127875258306,0,1,1,2.7386127875258306,0\" style=\"fill: none; stroke: rgb(69, 146, 198); stroke-width: 2; opacity: 0.7;\"></path><path transform=\"translate(144,138.33333333333334)\" d=\"M2.7386127875258306,0A2.7386127875258306,2.7386127875258306,0,1,1,-2.7386127875258306,0A2.7386127875258306,2.7386127875258306,0,1,1,2.7386127875258306,0\" style=\"fill: none; stroke: rgb(168, 206, 229); stroke-width: 2; opacity: 0.7;\"></path><path transform=\"translate(176,156.66666666666666)\" d=\"M2.7386127875258306,0A2.7386127875258306,2.7386127875258306,0,1,1,-2.7386127875258306,0A2.7386127875258306,2.7386127875258306,0,1,1,2.7386127875258306,0\" style=\"fill: none; stroke: rgb(168, 206, 229); stroke-width: 2; opacity: 0.7;\"></path></g></g></g><g transform=\"translate(222,0)\"><path class=\"background\" d=\"M0.5,0.5h200v200h-200Z\" style=\"fill: none; stroke: #ddd;\"></path><g><g class=\"mark-group role-axis\"><g transform=\"translate(0.5,200.5)\"><path class=\"background\" d=\"M0,0h0v0h0Z\" style=\"pointer-events: none; fill: none;\"></path><g><g class=\"mark-rule role-axis-grid\" style=\"pointer-events: none;\"><line transform=\"translate(0,-200)\" x2=\"0\" y2=\"200\" style=\"fill: none; stroke: #ddd; stroke-width: 1; opacity: 1;\"></line><line transform=\"translate(40,-200)\" x2=\"0\" y2=\"200\" style=\"fill: none; stroke: #ddd; stroke-width: 1; opacity: 1;\"></line><line transform=\"translate(80,-200)\" x2=\"0\" y2=\"200\" style=\"fill: none; stroke: #ddd; stroke-width: 1; opacity: 1;\"></line><line transform=\"translate(120,-200)\" x2=\"0\" y2=\"200\" style=\"fill: none; stroke: #ddd; stroke-width: 1; opacity: 1;\"></line><line transform=\"translate(160,-200)\" x2=\"0\" y2=\"200\" style=\"fill: none; stroke: #ddd; stroke-width: 1; opacity: 1;\"></line><line transform=\"translate(200,-200)\" x2=\"0\" y2=\"200\" style=\"fill: none; stroke: #ddd; stroke-width: 1; opacity: 1;\"></line></g></g></g></g><g class=\"mark-group role-axis\"><g transform=\"translate(0.5,0.5)\"><path class=\"background\" d=\"M0,0h0v0h0Z\" style=\"pointer-events: none; fill: none;\"></path><g><g class=\"mark-rule role-axis-grid\" style=\"pointer-events: none;\"><line transform=\"translate(0,200)\" x2=\"200\" y2=\"0\" style=\"fill: none; stroke: #ddd; stroke-width: 1; opacity: 1;\"></line><line transform=\"translate(0,158)\" x2=\"200\" y2=\"0\" style=\"fill: none; stroke: #ddd; stroke-width: 1; opacity: 1;\"></line><line transform=\"translate(0,117)\" x2=\"200\" y2=\"0\" style=\"fill: none; stroke: #ddd; stroke-width: 1; opacity: 1;\"></line><line transform=\"translate(0,75)\" x2=\"200\" y2=\"0\" style=\"fill: none; stroke: #ddd; stroke-width: 1; opacity: 1;\"></line><line transform=\"translate(0,33)\" x2=\"200\" y2=\"0\" style=\"fill: none; stroke: #ddd; stroke-width: 1; opacity: 1;\"></line></g></g></g></g><g class=\"mark-symbol role-mark child_marks\"><path transform=\"translate(96,120.83333333333334)\" d=\"M2.7386127875258306,0A2.7386127875258306,2.7386127875258306,0,1,1,-2.7386127875258306,0A2.7386127875258306,2.7386127875258306,0,1,1,2.7386127875258306,0\" style=\"fill: none; stroke: rgb(168, 206, 229); stroke-width: 2; opacity: 0.7;\"></path><path transform=\"translate(108,126.66666666666666)\" d=\"M2.7386127875258306,0A2.7386127875258306,2.7386127875258306,0,1,1,-2.7386127875258306,0A2.7386127875258306,2.7386127875258306,0,1,1,2.7386127875258306,0\" style=\"fill: none; stroke: rgb(168, 206, 229); stroke-width: 2; opacity: 0.7;\"></path><path transform=\"translate(108,126.66666666666666)\" d=\"M2.7386127875258306,0A2.7386127875258306,2.7386127875258306,0,1,1,-2.7386127875258306,0A2.7386127875258306,2.7386127875258306,0,1,1,2.7386127875258306,0\" style=\"fill: none; stroke: rgb(168, 206, 229); stroke-width: 2; opacity: 0.7;\"></path><path transform=\"translate(100,120.83333333333334)\" d=\"M2.7386127875258306,0A2.7386127875258306,2.7386127875258306,0,1,1,-2.7386127875258306,0A2.7386127875258306,2.7386127875258306,0,1,1,2.7386127875258306,0\" style=\"fill: none; stroke: rgb(168, 206, 229); stroke-width: 2; opacity: 0.7;\"></path><path transform=\"translate(124,145.83333333333334)\" d=\"M2.7386127875258306,0A2.7386127875258306,2.7386127875258306,0,1,1,-2.7386127875258306,0A2.7386127875258306,2.7386127875258306,0,1,1,2.7386127875258306,0\" style=\"fill: none; stroke: rgb(168, 206, 229); stroke-width: 2; opacity: 0.7;\"></path><path transform=\"translate(140,142.5)\" d=\"M2.7386127875258306,0A2.7386127875258306,2.7386127875258306,0,1,1,-2.7386127875258306,0A2.7386127875258306,2.7386127875258306,0,1,1,2.7386127875258306,0\" style=\"fill: none; stroke: rgb(168, 206, 229); stroke-width: 2; opacity: 0.7;\"></path><path transform=\"translate(96,120.83333333333334)\" d=\"M2.7386127875258306,0A2.7386127875258306,2.7386127875258306,0,1,1,-2.7386127875258306,0A2.7386127875258306,2.7386127875258306,0,1,1,2.7386127875258306,0\" style=\"fill: none; stroke: rgb(168, 206, 229); stroke-width: 2; opacity: 0.7;\"></path><path transform=\"translate(76,119.16666666666667)\" d=\"M2.7386127875258306,0A2.7386127875258306,2.7386127875258306,0,1,1,-2.7386127875258306,0A2.7386127875258306,2.7386127875258306,0,1,1,2.7386127875258306,0\" style=\"fill: none; stroke: rgb(207, 225, 242); stroke-width: 2; opacity: 0.7;\"></path><path transform=\"translate(112.00000000000001,123.33333333333334)\" d=\"M2.7386127875258306,0A2.7386127875258306,2.7386127875258306,0,1,1,-2.7386127875258306,0A2.7386127875258306,2.7386127875258306,0,1,1,2.7386127875258306,0\" style=\"fill: none; stroke: rgb(168, 206, 229); stroke-width: 2; opacity: 0.7;\"></path><path transform=\"translate(92,119.16666666666667)\" d=\"M2.7386127875258306,0A2.7386127875258306,2.7386127875258306,0,1,1,-2.7386127875258306,0A2.7386127875258306,2.7386127875258306,0,1,1,2.7386127875258306,0\" style=\"fill: none; stroke: rgb(168, 206, 229); stroke-width: 2; opacity: 0.7;\"></path><path transform=\"translate(108,126.66666666666666)\" d=\"M2.7386127875258306,0A2.7386127875258306,2.7386127875258306,0,1,1,-2.7386127875258306,0A2.7386127875258306,2.7386127875258306,0,1,1,2.7386127875258306,0\" style=\"fill: none; stroke: rgb(168, 206, 229); stroke-width: 2; opacity: 0.7;\"></path><path transform=\"translate(80,126.66666666666666)\" d=\"M2.7386127875258306,0A2.7386127875258306,2.7386127875258306,0,1,1,-2.7386127875258306,0A2.7386127875258306,2.7386127875258306,0,1,1,2.7386127875258306,0\" style=\"fill: none; stroke: rgb(168, 206, 229); stroke-width: 2; opacity: 0.7;\"></path><path transform=\"translate(88,121.66666666666669)\" d=\"M2.7386127875258306,0A2.7386127875258306,2.7386127875258306,0,1,1,-2.7386127875258306,0A2.7386127875258306,2.7386127875258306,0,1,1,2.7386127875258306,0\" style=\"fill: none; stroke: rgb(168, 206, 229); stroke-width: 2; opacity: 0.7;\"></path><path transform=\"translate(72,125)\" d=\"M2.7386127875258306,0A2.7386127875258306,2.7386127875258306,0,1,1,-2.7386127875258306,0A2.7386127875258306,2.7386127875258306,0,1,1,2.7386127875258306,0\" style=\"fill: none; stroke: rgb(207, 225, 242); stroke-width: 2; opacity: 0.7;\"></path><path transform=\"translate(80,98.33333333333334)\" d=\"M2.7386127875258306,0A2.7386127875258306,2.7386127875258306,0,1,1,-2.7386127875258306,0A2.7386127875258306,2.7386127875258306,0,1,1,2.7386127875258306,0\" style=\"fill: none; stroke: rgb(69, 146, 198); stroke-width: 2; opacity: 0.7;\"></path><path transform=\"translate(124,144.16666666666666)\" d=\"M2.7386127875258306,0A2.7386127875258306,2.7386127875258306,0,1,1,-2.7386127875258306,0A2.7386127875258306,2.7386127875258306,0,1,1,2.7386127875258306,0\" style=\"fill: none; stroke: rgb(168, 206, 229); stroke-width: 2; opacity: 0.7;\"></path><path transform=\"translate(128,145.83333333333334)\" d=\"M2.7386127875258306,0A2.7386127875258306,2.7386127875258306,0,1,1,-2.7386127875258306,0A2.7386127875258306,2.7386127875258306,0,1,1,2.7386127875258306,0\" style=\"fill: none; stroke: rgb(168, 206, 229); stroke-width: 2; opacity: 0.7;\"></path><path transform=\"translate(124,156.66666666666666)\" d=\"M2.7386127875258306,0A2.7386127875258306,2.7386127875258306,0,1,1,-2.7386127875258306,0A2.7386127875258306,2.7386127875258306,0,1,1,2.7386127875258306,0\" style=\"fill: none; stroke: rgb(168, 206, 229); stroke-width: 2; opacity: 0.7;\"></path><path transform=\"translate(128,149.16666666666666)\" d=\"M2.7386127875258306,0A2.7386127875258306,2.7386127875258306,0,1,1,-2.7386127875258306,0A2.7386127875258306,2.7386127875258306,0,1,1,2.7386127875258306,0\" style=\"fill: none; stroke: rgb(168, 206, 229); stroke-width: 2; opacity: 0.7;\"></path><path transform=\"translate(96,119.16666666666667)\" d=\"M2.7386127875258306,0A2.7386127875258306,2.7386127875258306,0,1,1,-2.7386127875258306,0A2.7386127875258306,2.7386127875258306,0,1,1,2.7386127875258306,0\" style=\"fill: none; stroke: rgb(168, 206, 229); stroke-width: 2; opacity: 0.7;\"></path><path transform=\"translate(104,122.50000000000001)\" d=\"M2.7386127875258306,0A2.7386127875258306,2.7386127875258306,0,1,1,-2.7386127875258306,0A2.7386127875258306,2.7386127875258306,0,1,1,2.7386127875258306,0\" style=\"fill: none; stroke: rgb(168, 206, 229); stroke-width: 2; opacity: 0.7;\"></path><path transform=\"translate(115.99999999999999,137.5)\" d=\"M2.7386127875258306,0A2.7386127875258306,2.7386127875258306,0,1,1,-2.7386127875258306,0A2.7386127875258306,2.7386127875258306,0,1,1,2.7386127875258306,0\" style=\"fill: none; stroke: rgb(168, 206, 229); stroke-width: 2; opacity: 0.7;\"></path><path transform=\"translate(96,120)\" d=\"M2.7386127875258306,0A2.7386127875258306,2.7386127875258306,0,1,1,-2.7386127875258306,0A2.7386127875258306,2.7386127875258306,0,1,1,2.7386127875258306,0\" style=\"fill: none; stroke: rgb(168, 206, 229); stroke-width: 2; opacity: 0.7;\"></path><path transform=\"translate(96,119.16666666666667)\" d=\"M2.7386127875258306,0A2.7386127875258306,2.7386127875258306,0,1,1,-2.7386127875258306,0A2.7386127875258306,2.7386127875258306,0,1,1,2.7386127875258306,0\" style=\"fill: none; stroke: rgb(168, 206, 229); stroke-width: 2; opacity: 0.7;\"></path><path transform=\"translate(132,155.83333333333334)\" d=\"M2.7386127875258306,0A2.7386127875258306,2.7386127875258306,0,1,1,-2.7386127875258306,0A2.7386127875258306,2.7386127875258306,0,1,1,2.7386127875258306,0\" style=\"fill: none; stroke: rgb(168, 206, 229); stroke-width: 2; opacity: 0.7;\"></path><path transform=\"translate(132,155.83333333333334)\" d=\"M2.7386127875258306,0A2.7386127875258306,2.7386127875258306,0,1,1,-2.7386127875258306,0A2.7386127875258306,2.7386127875258306,0,1,1,2.7386127875258306,0\" style=\"fill: none; stroke: rgb(168, 206, 229); stroke-width: 2; opacity: 0.7;\"></path><path transform=\"translate(128,141.66666666666666)\" d=\"M2.7386127875258306,0A2.7386127875258306,2.7386127875258306,0,1,1,-2.7386127875258306,0A2.7386127875258306,2.7386127875258306,0,1,1,2.7386127875258306,0\" style=\"fill: none; stroke: rgb(168, 206, 229); stroke-width: 2; opacity: 0.7;\"></path><path transform=\"translate(112.00000000000001,137.5)\" d=\"M2.7386127875258306,0A2.7386127875258306,2.7386127875258306,0,1,1,-2.7386127875258306,0A2.7386127875258306,2.7386127875258306,0,1,1,2.7386127875258306,0\" style=\"fill: none; stroke: rgb(168, 206, 229); stroke-width: 2; opacity: 0.7;\"></path><path transform=\"translate(76,110.00000000000001)\" d=\"M2.7386127875258306,0A2.7386127875258306,2.7386127875258306,0,1,1,-2.7386127875258306,0A2.7386127875258306,2.7386127875258306,0,1,1,2.7386127875258306,0\" style=\"fill: none; stroke: rgb(69, 146, 198); stroke-width: 2; opacity: 0.7;\"></path><path transform=\"translate(126,143.33333333333334)\" d=\"M2.7386127875258306,0A2.7386127875258306,2.7386127875258306,0,1,1,-2.7386127875258306,0A2.7386127875258306,2.7386127875258306,0,1,1,2.7386127875258306,0\" style=\"fill: none; stroke: rgb(168, 206, 229); stroke-width: 2; opacity: 0.7;\"></path><path transform=\"translate(134,141.66666666666666)\" d=\"M2.7386127875258306,0A2.7386127875258306,2.7386127875258306,0,1,1,-2.7386127875258306,0A2.7386127875258306,2.7386127875258306,0,1,1,2.7386127875258306,0\" style=\"fill: none; stroke: rgb(168, 206, 229); stroke-width: 2; opacity: 0.7;\"></path><path transform=\"translate(104,137.5)\" d=\"M2.7386127875258306,0A2.7386127875258306,2.7386127875258306,0,1,1,-2.7386127875258306,0A2.7386127875258306,2.7386127875258306,0,1,1,2.7386127875258306,0\" style=\"fill: none; stroke: rgb(168, 206, 229); stroke-width: 2; opacity: 0.7;\"></path><path transform=\"translate(120,144.16666666666666)\" d=\"M2.7386127875258306,0A2.7386127875258306,2.7386127875258306,0,1,1,-2.7386127875258306,0A2.7386127875258306,2.7386127875258306,0,1,1,2.7386127875258306,0\" style=\"fill: none; stroke: rgb(168, 206, 229); stroke-width: 2; opacity: 0.7;\"></path><path transform=\"translate(88,119.16666666666667)\" d=\"M2.7386127875258306,0A2.7386127875258306,2.7386127875258306,0,1,1,-2.7386127875258306,0A2.7386127875258306,2.7386127875258306,0,1,1,2.7386127875258306,0\" style=\"fill: none; stroke: rgb(69, 146, 198); stroke-width: 2; opacity: 0.7;\"></path><path transform=\"translate(86,108.33333333333334)\" d=\"M2.7386127875258306,0A2.7386127875258306,2.7386127875258306,0,1,1,-2.7386127875258306,0A2.7386127875258306,2.7386127875258306,0,1,1,2.7386127875258306,0\" style=\"fill: none; stroke: rgb(207, 225, 242); stroke-width: 2; opacity: 0.7;\"></path><path transform=\"translate(131.2,156.66666666666666)\" d=\"M2.7386127875258306,0A2.7386127875258306,2.7386127875258306,0,1,1,-2.7386127875258306,0A2.7386127875258306,2.7386127875258306,0,1,1,2.7386127875258306,0\" style=\"fill: none; stroke: rgb(168, 206, 229); stroke-width: 2; opacity: 0.7;\"></path><path transform=\"translate(157.6,141.66666666666666)\" d=\"M2.7386127875258306,0A2.7386127875258306,2.7386127875258306,0,1,1,-2.7386127875258306,0A2.7386127875258306,2.7386127875258306,0,1,1,2.7386127875258306,0\" style=\"fill: none; stroke: rgb(168, 206, 229); stroke-width: 2; opacity: 0.7;\"></path><path transform=\"translate(144.4,150)\" d=\"M2.7386127875258306,0A2.7386127875258306,2.7386127875258306,0,1,1,-2.7386127875258306,0A2.7386127875258306,2.7386127875258306,0,1,1,2.7386127875258306,0\" style=\"fill: none; stroke: rgb(168, 206, 229); stroke-width: 2; opacity: 0.7;\"></path><path transform=\"translate(110.00000000000001,120.83333333333334)\" d=\"M2.7386127875258306,0A2.7386127875258306,2.7386127875258306,0,1,1,-2.7386127875258306,0A2.7386127875258306,2.7386127875258306,0,1,1,2.7386127875258306,0\" style=\"fill: none; stroke: rgb(168, 206, 229); stroke-width: 2; opacity: 0.7;\"></path><path transform=\"translate(108.80000000000001,119.16666666666667)\" d=\"M2.7386127875258306,0A2.7386127875258306,2.7386127875258306,0,1,1,-2.7386127875258306,0A2.7386127875258306,2.7386127875258306,0,1,1,2.7386127875258306,0\" style=\"fill: none; stroke: rgb(168, 206, 229); stroke-width: 2; opacity: 0.7;\"></path><path transform=\"translate(84.4,120.83333333333334)\" d=\"M2.7386127875258306,0A2.7386127875258306,2.7386127875258306,0,1,1,-2.7386127875258306,0A2.7386127875258306,2.7386127875258306,0,1,1,2.7386127875258306,0\" style=\"fill: none; stroke: rgb(168, 206, 229); stroke-width: 2; opacity: 0.7;\"></path><path transform=\"translate(95.6,119.16666666666667)\" d=\"M2.7386127875258306,0A2.7386127875258306,2.7386127875258306,0,1,1,-2.7386127875258306,0A2.7386127875258306,2.7386127875258306,0,1,1,2.7386127875258306,0\" style=\"fill: none; stroke: rgb(168, 206, 229); stroke-width: 2; opacity: 0.7;\"></path><path transform=\"translate(118,143.33333333333334)\" d=\"M2.7386127875258306,0A2.7386127875258306,2.7386127875258306,0,1,1,-2.7386127875258306,0A2.7386127875258306,2.7386127875258306,0,1,1,2.7386127875258306,0\" style=\"fill: none; stroke: rgb(168, 206, 229); stroke-width: 2; opacity: 0.7;\"></path><path transform=\"translate(136.4,145.83333333333334)\" d=\"M2.7386127875258306,0A2.7386127875258306,2.7386127875258306,0,1,1,-2.7386127875258306,0A2.7386127875258306,2.7386127875258306,0,1,1,2.7386127875258306,0\" style=\"fill: none; stroke: rgb(168, 206, 229); stroke-width: 2; opacity: 0.7;\"></path><path transform=\"translate(127.2,145.83333333333334)\" d=\"M2.7386127875258306,0A2.7386127875258306,2.7386127875258306,0,1,1,-2.7386127875258306,0A2.7386127875258306,2.7386127875258306,0,1,1,2.7386127875258306,0\" style=\"fill: none; stroke: rgb(168, 206, 229); stroke-width: 2; opacity: 0.7;\"></path><path transform=\"translate(152.4,150)\" d=\"M2.7386127875258306,0A2.7386127875258306,2.7386127875258306,0,1,1,-2.7386127875258306,0A2.7386127875258306,2.7386127875258306,0,1,1,2.7386127875258306,0\" style=\"fill: none; stroke: rgb(168, 206, 229); stroke-width: 2; opacity: 0.7;\"></path><path transform=\"translate(148.8,145.83333333333334)\" d=\"M2.7386127875258306,0A2.7386127875258306,2.7386127875258306,0,1,1,-2.7386127875258306,0A2.7386127875258306,2.7386127875258306,0,1,1,2.7386127875258306,0\" style=\"fill: none; stroke: rgb(168, 206, 229); stroke-width: 2; opacity: 0.7;\"></path><path transform=\"translate(119.19999999999999,125)\" d=\"M2.7386127875258306,0A2.7386127875258306,2.7386127875258306,0,1,1,-2.7386127875258306,0A2.7386127875258306,2.7386127875258306,0,1,1,2.7386127875258306,0\" style=\"fill: none; stroke: rgb(168, 206, 229); stroke-width: 2; opacity: 0.7;\"></path><path transform=\"translate(125.2,137.5)\" d=\"M2.7386127875258306,0A2.7386127875258306,2.7386127875258306,0,1,1,-2.7386127875258306,0A2.7386127875258306,2.7386127875258306,0,1,1,2.7386127875258306,0\" style=\"fill: none; stroke: rgb(168, 206, 229); stroke-width: 2; opacity: 0.7;\"></path><path transform=\"translate(148,123.33333333333334)\" d=\"M2.7386127875258306,0A2.7386127875258306,2.7386127875258306,0,1,1,-2.7386127875258306,0A2.7386127875258306,2.7386127875258306,0,1,1,2.7386127875258306,0\" style=\"fill: none; stroke: rgb(168, 206, 229); stroke-width: 2; opacity: 0.7;\"></path><path transform=\"translate(128.8,137.5)\" d=\"M2.7386127875258306,0A2.7386127875258306,2.7386127875258306,0,1,1,-2.7386127875258306,0A2.7386127875258306,2.7386127875258306,0,1,1,2.7386127875258306,0\" style=\"fill: none; stroke: rgb(168, 206, 229); stroke-width: 2; opacity: 0.7;\"></path><path transform=\"translate(186.4,145.83333333333334)\" d=\"M2.7386127875258306,0A2.7386127875258306,2.7386127875258306,0,1,1,-2.7386127875258306,0A2.7386127875258306,2.7386127875258306,0,1,1,2.7386127875258306,0\" style=\"fill: none; stroke: rgb(168, 206, 229); stroke-width: 2; opacity: 0.7;\"></path><path transform=\"translate(163.2,145.83333333333334)\" d=\"M2.7386127875258306,0A2.7386127875258306,2.7386127875258306,0,1,1,-2.7386127875258306,0A2.7386127875258306,2.7386127875258306,0,1,1,2.7386127875258306,0\" style=\"fill: none; stroke: rgb(168, 206, 229); stroke-width: 2; opacity: 0.7;\"></path><path transform=\"translate(178.4,144.16666666666666)\" d=\"M2.7386127875258306,0A2.7386127875258306,2.7386127875258306,0,1,1,-2.7386127875258306,0A2.7386127875258306,2.7386127875258306,0,1,1,2.7386127875258306,0\" style=\"fill: none; stroke: rgb(168, 206, 229); stroke-width: 2; opacity: 0.7;\"></path><path transform=\"translate(135.2,144.16666666666666)\" d=\"M2.7386127875258306,0A2.7386127875258306,2.7386127875258306,0,1,1,-2.7386127875258306,0A2.7386127875258306,2.7386127875258306,0,1,1,2.7386127875258306,0\" style=\"fill: none; stroke: rgb(168, 206, 229); stroke-width: 2; opacity: 0.7;\"></path><path transform=\"translate(130.8,89.99999999999999)\" d=\"M2.7386127875258306,0A2.7386127875258306,2.7386127875258306,0,1,1,-2.7386127875258306,0A2.7386127875258306,2.7386127875258306,0,1,1,2.7386127875258306,0\" style=\"fill: none; stroke: rgb(69, 146, 198); stroke-width: 2; opacity: 0.7;\"></path><path transform=\"translate(94.8,116.66666666666666)\" d=\"M2.7386127875258306,0A2.7386127875258306,2.7386127875258306,0,1,1,-2.7386127875258306,0A2.7386127875258306,2.7386127875258306,0,1,1,2.7386127875258306,0\" style=\"fill: none; stroke: rgb(207, 225, 242); stroke-width: 2; opacity: 0.7;\"></path><path transform=\"translate(129.6,140)\" d=\"M2.7386127875258306,0A2.7386127875258306,2.7386127875258306,0,1,1,-2.7386127875258306,0A2.7386127875258306,2.7386127875258306,0,1,1,2.7386127875258306,0\" style=\"fill: none; stroke: rgb(168, 206, 229); stroke-width: 2; opacity: 0.7;\"></path><path transform=\"translate(156.4,151.66666666666666)\" d=\"M2.7386127875258306,0A2.7386127875258306,2.7386127875258306,0,1,1,-2.7386127875258306,0A2.7386127875258306,2.7386127875258306,0,1,1,2.7386127875258306,0\" style=\"fill: none; stroke: rgb(168, 206, 229); stroke-width: 2; opacity: 0.7;\"></path><path transform=\"translate(140.4,150)\" d=\"M2.7386127875258306,0A2.7386127875258306,2.7386127875258306,0,1,1,-2.7386127875258306,0A2.7386127875258306,2.7386127875258306,0,1,1,2.7386127875258306,0\" style=\"fill: none; stroke: rgb(168, 206, 229); stroke-width: 2; opacity: 0.7;\"></path><path transform=\"translate(129.2,144.16666666666666)\" d=\"M2.7386127875258306,0A2.7386127875258306,2.7386127875258306,0,1,1,-2.7386127875258306,0A2.7386127875258306,2.7386127875258306,0,1,1,2.7386127875258306,0\" style=\"fill: none; stroke: rgb(168, 206, 229); stroke-width: 2; opacity: 0.7;\"></path><path transform=\"translate(148,145.83333333333334)\" d=\"M2.7386127875258306,0A2.7386127875258306,2.7386127875258306,0,1,1,-2.7386127875258306,0A2.7386127875258306,2.7386127875258306,0,1,1,2.7386127875258306,0\" style=\"fill: none; stroke: rgb(168, 206, 229); stroke-width: 2; opacity: 0.7;\"></path><path transform=\"translate(150.8,148.33333333333334)\" d=\"M2.7386127875258306,0A2.7386127875258306,2.7386127875258306,0,1,1,-2.7386127875258306,0A2.7386127875258306,2.7386127875258306,0,1,1,2.7386127875258306,0\" style=\"fill: none; stroke: rgb(168, 206, 229); stroke-width: 2; opacity: 0.7;\"></path><path transform=\"translate(136.4,143.33333333333334)\" d=\"M2.7386127875258306,0A2.7386127875258306,2.7386127875258306,0,1,1,-2.7386127875258306,0A2.7386127875258306,2.7386127875258306,0,1,1,2.7386127875258306,0\" style=\"fill: none; stroke: rgb(168, 206, 229); stroke-width: 2; opacity: 0.7;\"></path><path transform=\"translate(134.8,137.5)\" d=\"M2.7386127875258306,0A2.7386127875258306,2.7386127875258306,0,1,1,-2.7386127875258306,0A2.7386127875258306,2.7386127875258306,0,1,1,2.7386127875258306,0\" style=\"fill: none; stroke: rgb(168, 206, 229); stroke-width: 2; opacity: 0.7;\"></path><path transform=\"translate(129.6,137.5)\" d=\"M2.7386127875258306,0A2.7386127875258306,2.7386127875258306,0,1,1,-2.7386127875258306,0A2.7386127875258306,2.7386127875258306,0,1,1,2.7386127875258306,0\" style=\"fill: none; stroke: rgb(168, 206, 229); stroke-width: 2; opacity: 0.7;\"></path><path transform=\"translate(131.6,116.66666666666666)\" d=\"M2.7386127875258306,0A2.7386127875258306,2.7386127875258306,0,1,1,-2.7386127875258306,0A2.7386127875258306,2.7386127875258306,0,1,1,2.7386127875258306,0\" style=\"fill: none; stroke: rgb(168, 206, 229); stroke-width: 2; opacity: 0.7;\"></path><path transform=\"translate(126.4,138.33333333333334)\" d=\"M2.7386127875258306,0A2.7386127875258306,2.7386127875258306,0,1,1,-2.7386127875258306,0A2.7386127875258306,2.7386127875258306,0,1,1,2.7386127875258306,0\" style=\"fill: none; stroke: rgb(168, 206, 229); stroke-width: 2; opacity: 0.7;\"></path><path transform=\"translate(101.6,103.33333333333331)\" d=\"M2.7386127875258306,0A2.7386127875258306,2.7386127875258306,0,1,1,-2.7386127875258306,0A2.7386127875258306,2.7386127875258306,0,1,1,2.7386127875258306,0\" style=\"fill: none; stroke: rgb(69, 146, 198); stroke-width: 2; opacity: 0.7;\"></path><path transform=\"translate(96.8,100)\" d=\"M2.7386127875258306,0A2.7386127875258306,2.7386127875258306,0,1,1,-2.7386127875258306,0A2.7386127875258306,2.7386127875258306,0,1,1,2.7386127875258306,0\" style=\"fill: none; stroke: rgb(69, 146, 198); stroke-width: 2; opacity: 0.7;\"></path><path transform=\"translate(148,143.33333333333334)\" d=\"M2.7386127875258306,0A2.7386127875258306,2.7386127875258306,0,1,1,-2.7386127875258306,0A2.7386127875258306,2.7386127875258306,0,1,1,2.7386127875258306,0\" style=\"fill: none; stroke: rgb(168, 206, 229); stroke-width: 2; opacity: 0.7;\"></path><path transform=\"translate(124,143.33333333333334)\" d=\"M2.7386127875258306,0A2.7386127875258306,2.7386127875258306,0,1,1,-2.7386127875258306,0A2.7386127875258306,2.7386127875258306,0,1,1,2.7386127875258306,0\" style=\"fill: none; stroke: rgb(168, 206, 229); stroke-width: 2; opacity: 0.7;\"></path><path transform=\"translate(144,126.66666666666666)\" d=\"M2.7386127875258306,0A2.7386127875258306,2.7386127875258306,0,1,1,-2.7386127875258306,0A2.7386127875258306,2.7386127875258306,0,1,1,2.7386127875258306,0\" style=\"fill: none; stroke: rgb(168, 206, 229); stroke-width: 2; opacity: 0.7;\"></path><path transform=\"translate(144,137.5)\" d=\"M2.7386127875258306,0A2.7386127875258306,2.7386127875258306,0,1,1,-2.7386127875258306,0A2.7386127875258306,2.7386127875258306,0,1,1,2.7386127875258306,0\" style=\"fill: none; stroke: rgb(168, 206, 229); stroke-width: 2; opacity: 0.7;\"></path><path transform=\"translate(136,141.66666666666666)\" d=\"M2.7386127875258306,0A2.7386127875258306,2.7386127875258306,0,1,1,-2.7386127875258306,0A2.7386127875258306,2.7386127875258306,0,1,1,2.7386127875258306,0\" style=\"fill: none; stroke: rgb(168, 206, 229); stroke-width: 2; opacity: 0.7;\"></path><path transform=\"translate(152,144.16666666666666)\" d=\"M2.7386127875258306,0A2.7386127875258306,2.7386127875258306,0,1,1,-2.7386127875258306,0A2.7386127875258306,2.7386127875258306,0,1,1,2.7386127875258306,0\" style=\"fill: none; stroke: rgb(168, 206, 229); stroke-width: 2; opacity: 0.7;\"></path><path transform=\"translate(128,144.16666666666666)\" d=\"M2.7386127875258306,0A2.7386127875258306,2.7386127875258306,0,1,1,-2.7386127875258306,0A2.7386127875258306,2.7386127875258306,0,1,1,2.7386127875258306,0\" style=\"fill: none; stroke: rgb(168, 206, 229); stroke-width: 2; opacity: 0.7;\"></path><path transform=\"translate(152,144.16666666666666)\" d=\"M2.7386127875258306,0A2.7386127875258306,2.7386127875258306,0,1,1,-2.7386127875258306,0A2.7386127875258306,2.7386127875258306,0,1,1,2.7386127875258306,0\" style=\"fill: none; stroke: rgb(168, 206, 229); stroke-width: 2; opacity: 0.7;\"></path><path transform=\"translate(128,120)\" d=\"M2.7386127875258306,0A2.7386127875258306,2.7386127875258306,0,1,1,-2.7386127875258306,0A2.7386127875258306,2.7386127875258306,0,1,1,2.7386127875258306,0\" style=\"fill: none; stroke: rgb(168, 206, 229); stroke-width: 2; opacity: 0.7;\"></path></g></g></g><g transform=\"translate(444,0)\"><path class=\"background\" d=\"M0.5,0.5h200v200h-200Z\" style=\"fill: none; stroke: #ddd;\"></path><g><g class=\"mark-group role-axis\"><g transform=\"translate(0.5,200.5)\"><path class=\"background\" d=\"M0,0h0v0h0Z\" style=\"pointer-events: none; fill: none;\"></path><g><g class=\"mark-rule role-axis-grid\" style=\"pointer-events: none;\"><line transform=\"translate(0,-200)\" x2=\"0\" y2=\"200\" style=\"fill: none; stroke: #ddd; stroke-width: 1; opacity: 1;\"></line><line transform=\"translate(40,-200)\" x2=\"0\" y2=\"200\" style=\"fill: none; stroke: #ddd; stroke-width: 1; opacity: 1;\"></line><line transform=\"translate(80,-200)\" x2=\"0\" y2=\"200\" style=\"fill: none; stroke: #ddd; stroke-width: 1; opacity: 1;\"></line><line transform=\"translate(120,-200)\" x2=\"0\" y2=\"200\" style=\"fill: none; stroke: #ddd; stroke-width: 1; opacity: 1;\"></line><line transform=\"translate(160,-200)\" x2=\"0\" y2=\"200\" style=\"fill: none; stroke: #ddd; stroke-width: 1; opacity: 1;\"></line><line transform=\"translate(200,-200)\" x2=\"0\" y2=\"200\" style=\"fill: none; stroke: #ddd; stroke-width: 1; opacity: 1;\"></line></g></g></g></g><g class=\"mark-group role-axis\"><g transform=\"translate(0.5,0.5)\"><path class=\"background\" d=\"M0,0h0v0h0Z\" style=\"pointer-events: none; fill: none;\"></path><g><g class=\"mark-rule role-axis-grid\" style=\"pointer-events: none;\"><line transform=\"translate(0,200)\" x2=\"200\" y2=\"0\" style=\"fill: none; stroke: #ddd; stroke-width: 1; opacity: 1;\"></line><line transform=\"translate(0,158)\" x2=\"200\" y2=\"0\" style=\"fill: none; stroke: #ddd; stroke-width: 1; opacity: 1;\"></line><line transform=\"translate(0,117)\" x2=\"200\" y2=\"0\" style=\"fill: none; stroke: #ddd; stroke-width: 1; opacity: 1;\"></line><line transform=\"translate(0,75)\" x2=\"200\" y2=\"0\" style=\"fill: none; stroke: #ddd; stroke-width: 1; opacity: 1;\"></line><line transform=\"translate(0,33)\" x2=\"200\" y2=\"0\" style=\"fill: none; stroke: #ddd; stroke-width: 1; opacity: 1;\"></line></g></g></g></g><g class=\"mark-symbol role-mark child_marks\"><path transform=\"translate(72,91.66666666666667)\" d=\"M2.7386127875258306,0A2.7386127875258306,2.7386127875258306,0,1,1,-2.7386127875258306,0A2.7386127875258306,2.7386127875258306,0,1,1,2.7386127875258306,0\" style=\"fill: none; stroke: rgb(10, 74, 144); stroke-width: 2; opacity: 0.7;\"></path><path transform=\"translate(60,62.5)\" d=\"M2.7386127875258306,0A2.7386127875258306,2.7386127875258306,0,1,1,-2.7386127875258306,0A2.7386127875258306,2.7386127875258306,0,1,1,2.7386127875258306,0\" style=\"fill: none; stroke: rgb(10, 74, 144); stroke-width: 2; opacity: 0.7;\"></path><path transform=\"translate(72,75)\" d=\"M2.7386127875258306,0A2.7386127875258306,2.7386127875258306,0,1,1,-2.7386127875258306,0A2.7386127875258306,2.7386127875258306,0,1,1,2.7386127875258306,0\" style=\"fill: none; stroke: rgb(10, 74, 144); stroke-width: 2; opacity: 0.7;\"></path><path transform=\"translate(64,75)\" d=\"M2.7386127875258306,0A2.7386127875258306,2.7386127875258306,0,1,1,-2.7386127875258306,0A2.7386127875258306,2.7386127875258306,0,1,1,2.7386127875258306,0\" style=\"fill: none; stroke: rgb(10, 74, 144); stroke-width: 2; opacity: 0.7;\"></path><path transform=\"translate(68,83.33333333333333)\" d=\"M2.7386127875258306,0A2.7386127875258306,2.7386127875258306,0,1,1,-2.7386127875258306,0A2.7386127875258306,2.7386127875258306,0,1,1,2.7386127875258306,0\" style=\"fill: none; stroke: rgb(10, 74, 144); stroke-width: 2; opacity: 0.7;\"></path><path transform=\"translate(60,35.00000000000001)\" d=\"M2.7386127875258306,0A2.7386127875258306,2.7386127875258306,0,1,1,-2.7386127875258306,0A2.7386127875258306,2.7386127875258306,0,1,1,2.7386127875258306,0\" style=\"fill: none; stroke: rgb(10, 74, 144); stroke-width: 2; opacity: 0.7;\"></path><path transform=\"translate(56.00000000000001,16.666666666666675)\" d=\"M2.7386127875258306,0A2.7386127875258306,2.7386127875258306,0,1,1,-2.7386127875258306,0A2.7386127875258306,2.7386127875258306,0,1,1,2.7386127875258306,0\" style=\"fill: none; stroke: rgb(10, 74, 144); stroke-width: 2; opacity: 0.7;\"></path><path transform=\"translate(56.00000000000001,20.833333333333325)\" d=\"M2.7386127875258306,0A2.7386127875258306,2.7386127875258306,0,1,1,-2.7386127875258306,0A2.7386127875258306,2.7386127875258306,0,1,1,2.7386127875258306,0\" style=\"fill: none; stroke: rgb(10, 74, 144); stroke-width: 2; opacity: 0.7;\"></path><path transform=\"translate(56.00000000000001,12.5)\" d=\"M2.7386127875258306,0A2.7386127875258306,2.7386127875258306,0,1,1,-2.7386127875258306,0A2.7386127875258306,2.7386127875258306,0,1,1,2.7386127875258306,0\" style=\"fill: none; stroke: rgb(10, 74, 144); stroke-width: 2; opacity: 0.7;\"></path><path transform=\"translate(60,41.66666666666667)\" d=\"M2.7386127875258306,0A2.7386127875258306,2.7386127875258306,0,1,1,-2.7386127875258306,0A2.7386127875258306,2.7386127875258306,0,1,1,2.7386127875258306,0\" style=\"fill: none; stroke: rgb(10, 74, 144); stroke-width: 2; opacity: 0.7;\"></path><path transform=\"translate(60,58.33333333333333)\" d=\"M2.7386127875258306,0A2.7386127875258306,2.7386127875258306,0,1,1,-2.7386127875258306,0A2.7386127875258306,2.7386127875258306,0,1,1,2.7386127875258306,0\" style=\"fill: none; stroke: rgb(10, 74, 144); stroke-width: 2; opacity: 0.7;\"></path><path transform=\"translate(56.00000000000001,66.66666666666667)\" d=\"M2.7386127875258306,0A2.7386127875258306,2.7386127875258306,0,1,1,-2.7386127875258306,0A2.7386127875258306,2.7386127875258306,0,1,1,2.7386127875258306,0\" style=\"fill: none; stroke: rgb(10, 74, 144); stroke-width: 2; opacity: 0.7;\"></path><path transform=\"translate(60,75)\" d=\"M2.7386127875258306,0A2.7386127875258306,2.7386127875258306,0,1,1,-2.7386127875258306,0A2.7386127875258306,2.7386127875258306,0,1,1,2.7386127875258306,0\" style=\"fill: none; stroke: rgb(10, 74, 144); stroke-width: 2; opacity: 0.7;\"></path><path transform=\"translate(56.00000000000001,12.5)\" d=\"M2.7386127875258306,0A2.7386127875258306,2.7386127875258306,0,1,1,-2.7386127875258306,0A2.7386127875258306,2.7386127875258306,0,1,1,2.7386127875258306,0\" style=\"fill: none; stroke: rgb(10, 74, 144); stroke-width: 2; opacity: 0.7;\"></path><path transform=\"translate(88,120.83333333333334)\" d=\"M2.7386127875258306,0A2.7386127875258306,2.7386127875258306,0,1,1,-2.7386127875258306,0A2.7386127875258306,2.7386127875258306,0,1,1,2.7386127875258306,0\" style=\"fill: none; stroke: rgb(69, 146, 198); stroke-width: 2; opacity: 0.7;\"></path><path transform=\"translate(72,119.16666666666667)\" d=\"M2.7386127875258306,0A2.7386127875258306,2.7386127875258306,0,1,1,-2.7386127875258306,0A2.7386127875258306,2.7386127875258306,0,1,1,2.7386127875258306,0\" style=\"fill: none; stroke: rgb(69, 146, 198); stroke-width: 2; opacity: 0.7;\"></path><path transform=\"translate(84,129.16666666666666)\" d=\"M2.7386127875258306,0A2.7386127875258306,2.7386127875258306,0,1,1,-2.7386127875258306,0A2.7386127875258306,2.7386127875258306,0,1,1,2.7386127875258306,0\" style=\"fill: none; stroke: rgb(69, 146, 198); stroke-width: 2; opacity: 0.7;\"></path><path transform=\"translate(84,125)\" d=\"M2.7386127875258306,0A2.7386127875258306,2.7386127875258306,0,1,1,-2.7386127875258306,0A2.7386127875258306,2.7386127875258306,0,1,1,2.7386127875258306,0\" style=\"fill: none; stroke: rgb(69, 146, 198); stroke-width: 2; opacity: 0.7;\"></path><path transform=\"translate(40,20.833333333333325)\" d=\"M2.7386127875258306,0A2.7386127875258306,2.7386127875258306,0,1,1,-2.7386127875258306,0A2.7386127875258306,2.7386127875258306,0,1,1,2.7386127875258306,0\" style=\"fill: none; stroke: rgb(10, 74, 144); stroke-width: 2; opacity: 0.7;\"></path><path transform=\"translate(40,33.33333333333333)\" d=\"M2.7386127875258306,0A2.7386127875258306,2.7386127875258306,0,1,1,-2.7386127875258306,0A2.7386127875258306,2.7386127875258306,0,1,1,2.7386127875258306,0\" style=\"fill: none; stroke: rgb(10, 74, 144); stroke-width: 2; opacity: 0.7;\"></path><path transform=\"translate(44,25)\" d=\"M2.7386127875258306,0A2.7386127875258306,2.7386127875258306,0,1,1,-2.7386127875258306,0A2.7386127875258306,2.7386127875258306,0,1,1,2.7386127875258306,0\" style=\"fill: none; stroke: rgb(10, 74, 144); stroke-width: 2; opacity: 0.7;\"></path><path transform=\"translate(36,39.16666666666666)\" d=\"M2.7386127875258306,0A2.7386127875258306,2.7386127875258306,0,1,1,-2.7386127875258306,0A2.7386127875258306,2.7386127875258306,0,1,1,2.7386127875258306,0\" style=\"fill: none; stroke: rgb(10, 74, 144); stroke-width: 2; opacity: 0.7;\"></path><path transform=\"translate(112.00000000000001,125)\" d=\"M2.7386127875258306,0A2.7386127875258306,2.7386127875258306,0,1,1,-2.7386127875258306,0A2.7386127875258306,2.7386127875258306,0,1,1,2.7386127875258306,0\" style=\"fill: none; stroke: rgb(168, 206, 229); stroke-width: 2; opacity: 0.7;\"></path><path transform=\"translate(76,116.66666666666666)\" d=\"M2.7386127875258306,0A2.7386127875258306,2.7386127875258306,0,1,1,-2.7386127875258306,0A2.7386127875258306,2.7386127875258306,0,1,1,2.7386127875258306,0\" style=\"fill: none; stroke: rgb(69, 146, 198); stroke-width: 2; opacity: 0.7;\"></path><path transform=\"translate(64,112.5)\" d=\"M2.7386127875258306,0A2.7386127875258306,2.7386127875258306,0,1,1,-2.7386127875258306,0A2.7386127875258306,2.7386127875258306,0,1,1,2.7386127875258306,0\" style=\"fill: none; stroke: rgb(69, 146, 198); stroke-width: 2; opacity: 0.7;\"></path><path transform=\"translate(68,116.66666666666666)\" d=\"M2.7386127875258306,0A2.7386127875258306,2.7386127875258306,0,1,1,-2.7386127875258306,0A2.7386127875258306,2.7386127875258306,0,1,1,2.7386127875258306,0\" style=\"fill: none; stroke: rgb(69, 146, 198); stroke-width: 2; opacity: 0.7;\"></path><path transform=\"translate(76,126.66666666666666)\" d=\"M2.7386127875258306,0A2.7386127875258306,2.7386127875258306,0,1,1,-2.7386127875258306,0A2.7386127875258306,2.7386127875258306,0,1,1,2.7386127875258306,0\" style=\"fill: none; stroke: rgb(69, 146, 198); stroke-width: 2; opacity: 0.7;\"></path><path transform=\"translate(72,116.66666666666666)\" d=\"M2.7386127875258306,0A2.7386127875258306,2.7386127875258306,0,1,1,-2.7386127875258306,0A2.7386127875258306,2.7386127875258306,0,1,1,2.7386127875258306,0\" style=\"fill: none; stroke: rgb(69, 146, 198); stroke-width: 2; opacity: 0.7;\"></path><path transform=\"translate(56.00000000000001,62.5)\" d=\"M2.7386127875258306,0A2.7386127875258306,2.7386127875258306,0,1,1,-2.7386127875258306,0A2.7386127875258306,2.7386127875258306,0,1,1,2.7386127875258306,0\" style=\"fill: none; stroke: rgb(10, 74, 144); stroke-width: 2; opacity: 0.7;\"></path><path transform=\"translate(56.00000000000001,54.16666666666667)\" d=\"M2.7386127875258306,0A2.7386127875258306,2.7386127875258306,0,1,1,-2.7386127875258306,0A2.7386127875258306,2.7386127875258306,0,1,1,2.7386127875258306,0\" style=\"fill: none; stroke: rgb(10, 74, 144); stroke-width: 2; opacity: 0.7;\"></path><path transform=\"translate(56.00000000000001,72.50000000000001)\" d=\"M2.7386127875258306,0A2.7386127875258306,2.7386127875258306,0,1,1,-2.7386127875258306,0A2.7386127875258306,2.7386127875258306,0,1,1,2.7386127875258306,0\" style=\"fill: none; stroke: rgb(10, 74, 144); stroke-width: 2; opacity: 0.7;\"></path><path transform=\"translate(56.00000000000001,75)\" d=\"M2.7386127875258306,0A2.7386127875258306,2.7386127875258306,0,1,1,-2.7386127875258306,0A2.7386127875258306,2.7386127875258306,0,1,1,2.7386127875258306,0\" style=\"fill: none; stroke: rgb(10, 74, 144); stroke-width: 2; opacity: 0.7;\"></path><path transform=\"translate(48,50)\" d=\"M2.7386127875258306,0A2.7386127875258306,2.7386127875258306,0,1,1,-2.7386127875258306,0A2.7386127875258306,2.7386127875258306,0,1,1,2.7386127875258306,0\" style=\"fill: none; stroke: rgb(10, 74, 144); stroke-width: 2; opacity: 0.7;\"></path><path transform=\"translate(52,58.33333333333333)\" d=\"M2.7386127875258306,0A2.7386127875258306,2.7386127875258306,0,1,1,-2.7386127875258306,0A2.7386127875258306,2.7386127875258306,0,1,1,2.7386127875258306,0\" style=\"fill: none; stroke: rgb(10, 74, 144); stroke-width: 2; opacity: 0.7;\"></path><path transform=\"translate(52,54.16666666666667)\" d=\"M2.7386127875258306,0A2.7386127875258306,2.7386127875258306,0,1,1,-2.7386127875258306,0A2.7386127875258306,2.7386127875258306,0,1,1,2.7386127875258306,0\" style=\"fill: none; stroke: rgb(10, 74, 144); stroke-width: 2; opacity: 0.7;\"></path><path transform=\"translate(72,108.33333333333334)\" d=\"M2.7386127875258306,0A2.7386127875258306,2.7386127875258306,0,1,1,-2.7386127875258306,0A2.7386127875258306,2.7386127875258306,0,1,1,2.7386127875258306,0\" style=\"fill: none; stroke: rgb(69, 146, 198); stroke-width: 2; opacity: 0.7;\"></path><path transform=\"translate(88,140)\" d=\"M2.7386127875258306,0A2.7386127875258306,2.7386127875258306,0,1,1,-2.7386127875258306,0A2.7386127875258306,2.7386127875258306,0,1,1,2.7386127875258306,0\" style=\"fill: none; stroke: rgb(168, 206, 229); stroke-width: 2; opacity: 0.7;\"></path><path transform=\"translate(76,116.66666666666666)\" d=\"M2.7386127875258306,0A2.7386127875258306,2.7386127875258306,0,1,1,-2.7386127875258306,0A2.7386127875258306,2.7386127875258306,0,1,1,2.7386127875258306,0\" style=\"fill: none; stroke: rgb(69, 146, 198); stroke-width: 2; opacity: 0.7;\"></path><path transform=\"translate(72,126.66666666666666)\" d=\"M2.7386127875258306,0A2.7386127875258306,2.7386127875258306,0,1,1,-2.7386127875258306,0A2.7386127875258306,2.7386127875258306,0,1,1,2.7386127875258306,0\" style=\"fill: none; stroke: rgb(69, 146, 198); stroke-width: 2; opacity: 0.7;\"></path><path transform=\"translate(92,128.33333333333331)\" d=\"M2.7386127875258306,0A2.7386127875258306,2.7386127875258306,0,1,1,-2.7386127875258306,0A2.7386127875258306,2.7386127875258306,0,1,1,2.7386127875258306,0\" style=\"fill: none; stroke: rgb(168, 206, 229); stroke-width: 2; opacity: 0.7;\"></path><path transform=\"translate(104,141.66666666666666)\" d=\"M2.7386127875258306,0A2.7386127875258306,2.7386127875258306,0,1,1,-2.7386127875258306,0A2.7386127875258306,2.7386127875258306,0,1,1,2.7386127875258306,0\" style=\"fill: none; stroke: rgb(168, 206, 229); stroke-width: 2; opacity: 0.7;\"></path><path transform=\"translate(100,133.33333333333334)\" d=\"M2.7386127875258306,0A2.7386127875258306,2.7386127875258306,0,1,1,-2.7386127875258306,0A2.7386127875258306,2.7386127875258306,0,1,1,2.7386127875258306,0\" style=\"fill: none; stroke: rgb(168, 206, 229); stroke-width: 2; opacity: 0.7;\"></path><path transform=\"translate(80,125)\" d=\"M2.7386127875258306,0A2.7386127875258306,2.7386127875258306,0,1,1,-2.7386127875258306,0A2.7386127875258306,2.7386127875258306,0,1,1,2.7386127875258306,0\" style=\"fill: none; stroke: rgb(168, 206, 229); stroke-width: 2; opacity: 0.7;\"></path><path transform=\"translate(84,128.33333333333331)\" d=\"M2.7386127875258306,0A2.7386127875258306,2.7386127875258306,0,1,1,-2.7386127875258306,0A2.7386127875258306,2.7386127875258306,0,1,1,2.7386127875258306,0\" style=\"fill: none; stroke: rgb(168, 206, 229); stroke-width: 2; opacity: 0.7;\"></path><path transform=\"translate(52,62.5)\" d=\"M2.7386127875258306,0A2.7386127875258306,2.7386127875258306,0,1,1,-2.7386127875258306,0A2.7386127875258306,2.7386127875258306,0,1,1,2.7386127875258306,0\" style=\"fill: none; stroke: rgb(10, 74, 144); stroke-width: 2; opacity: 0.7;\"></path><path transform=\"translate(56.00000000000001,54.16666666666667)\" d=\"M2.7386127875258306,0A2.7386127875258306,2.7386127875258306,0,1,1,-2.7386127875258306,0A2.7386127875258306,2.7386127875258306,0,1,1,2.7386127875258306,0\" style=\"fill: none; stroke: rgb(10, 74, 144); stroke-width: 2; opacity: 0.7;\"></path><path transform=\"translate(60,75)\" d=\"M2.7386127875258306,0A2.7386127875258306,2.7386127875258306,0,1,1,-2.7386127875258306,0A2.7386127875258306,2.7386127875258306,0,1,1,2.7386127875258306,0\" style=\"fill: none; stroke: rgb(10, 74, 144); stroke-width: 2; opacity: 0.7;\"></path><path transform=\"translate(56.00000000000001,72.50000000000001)\" d=\"M2.7386127875258306,0A2.7386127875258306,2.7386127875258306,0,1,1,-2.7386127875258306,0A2.7386127875258306,2.7386127875258306,0,1,1,2.7386127875258306,0\" style=\"fill: none; stroke: rgb(10, 74, 144); stroke-width: 2; opacity: 0.7;\"></path><path transform=\"translate(68,75)\" d=\"M2.7386127875258306,0A2.7386127875258306,2.7386127875258306,0,1,1,-2.7386127875258306,0A2.7386127875258306,2.7386127875258306,0,1,1,2.7386127875258306,0\" style=\"fill: none; stroke: rgb(10, 74, 144); stroke-width: 2; opacity: 0.7;\"></path><path transform=\"translate(44,26.66666666666666)\" d=\"M2.7386127875258306,0A2.7386127875258306,2.7386127875258306,0,1,1,-2.7386127875258306,0A2.7386127875258306,2.7386127875258306,0,1,1,2.7386127875258306,0\" style=\"fill: none; stroke: rgb(10, 74, 144); stroke-width: 2; opacity: 0.7;\"></path><path transform=\"translate(52,70.83333333333333)\" d=\"M2.7386127875258306,0A2.7386127875258306,2.7386127875258306,0,1,1,-2.7386127875258306,0A2.7386127875258306,2.7386127875258306,0,1,1,2.7386127875258306,0\" style=\"fill: none; stroke: rgb(10, 74, 144); stroke-width: 2; opacity: 0.7;\"></path><path transform=\"translate(48,66.66666666666667)\" d=\"M2.7386127875258306,0A2.7386127875258306,2.7386127875258306,0,1,1,-2.7386127875258306,0A2.7386127875258306,2.7386127875258306,0,1,1,2.7386127875258306,0\" style=\"fill: none; stroke: rgb(10, 74, 144); stroke-width: 2; opacity: 0.7;\"></path><path transform=\"translate(52,41.66666666666667)\" d=\"M2.7386127875258306,0A2.7386127875258306,2.7386127875258306,0,1,1,-2.7386127875258306,0A2.7386127875258306,2.7386127875258306,0,1,1,2.7386127875258306,0\" style=\"fill: none; stroke: rgb(10, 74, 144); stroke-width: 2; opacity: 0.7;\"></path><path transform=\"translate(60,75)\" d=\"M2.7386127875258306,0A2.7386127875258306,2.7386127875258306,0,1,1,-2.7386127875258306,0A2.7386127875258306,2.7386127875258306,0,1,1,2.7386127875258306,0\" style=\"fill: none; stroke: rgb(10, 74, 144); stroke-width: 2; opacity: 0.7;\"></path><path transform=\"translate(52,91.66666666666667)\" d=\"M2.7386127875258306,0A2.7386127875258306,2.7386127875258306,0,1,1,-2.7386127875258306,0A2.7386127875258306,2.7386127875258306,0,1,1,2.7386127875258306,0\" style=\"fill: none; stroke: rgb(10, 74, 144); stroke-width: 2; opacity: 0.7;\"></path><path transform=\"translate(52,83.33333333333333)\" d=\"M2.7386127875258306,0A2.7386127875258306,2.7386127875258306,0,1,1,-2.7386127875258306,0A2.7386127875258306,2.7386127875258306,0,1,1,2.7386127875258306,0\" style=\"fill: none; stroke: rgb(10, 74, 144); stroke-width: 2; opacity: 0.7;\"></path><path transform=\"translate(56.00000000000001,75)\" d=\"M2.7386127875258306,0A2.7386127875258306,2.7386127875258306,0,1,1,-2.7386127875258306,0A2.7386127875258306,2.7386127875258306,0,1,1,2.7386127875258306,0\" style=\"fill: none; stroke: rgb(10, 74, 144); stroke-width: 2; opacity: 0.7;\"></path><path transform=\"translate(88,128.33333333333331)\" d=\"M2.7386127875258306,0A2.7386127875258306,2.7386127875258306,0,1,1,-2.7386127875258306,0A2.7386127875258306,2.7386127875258306,0,1,1,2.7386127875258306,0\" style=\"fill: none; stroke: rgb(168, 206, 229); stroke-width: 2; opacity: 0.7;\"></path><path transform=\"translate(112.00000000000001,133.33333333333334)\" d=\"M2.7386127875258306,0A2.7386127875258306,2.7386127875258306,0,1,1,-2.7386127875258306,0A2.7386127875258306,2.7386127875258306,0,1,1,2.7386127875258306,0\" style=\"fill: none; stroke: rgb(168, 206, 229); stroke-width: 2; opacity: 0.7;\"></path><path transform=\"translate(52,54.16666666666667)\" d=\"M2.7386127875258306,0A2.7386127875258306,2.7386127875258306,0,1,1,-2.7386127875258306,0A2.7386127875258306,2.7386127875258306,0,1,1,2.7386127875258306,0\" style=\"fill: none; stroke: rgb(10, 74, 144); stroke-width: 2; opacity: 0.7;\"></path><path transform=\"translate(56.00000000000001,75)\" d=\"M2.7386127875258306,0A2.7386127875258306,2.7386127875258306,0,1,1,-2.7386127875258306,0A2.7386127875258306,2.7386127875258306,0,1,1,2.7386127875258306,0\" style=\"fill: none; stroke: rgb(10, 74, 144); stroke-width: 2; opacity: 0.7;\"></path><path transform=\"translate(52,79.16666666666667)\" d=\"M2.7386127875258306,0A2.7386127875258306,2.7386127875258306,0,1,1,-2.7386127875258306,0A2.7386127875258306,2.7386127875258306,0,1,1,2.7386127875258306,0\" style=\"fill: none; stroke: rgb(10, 74, 144); stroke-width: 2; opacity: 0.7;\"></path><path transform=\"translate(56.00000000000001,85.83333333333334)\" d=\"M2.7386127875258306,0A2.7386127875258306,2.7386127875258306,0,1,1,-2.7386127875258306,0A2.7386127875258306,2.7386127875258306,0,1,1,2.7386127875258306,0\" style=\"fill: none; stroke: rgb(10, 74, 144); stroke-width: 2; opacity: 0.7;\"></path><path transform=\"translate(60,75)\" d=\"M2.7386127875258306,0A2.7386127875258306,2.7386127875258306,0,1,1,-2.7386127875258306,0A2.7386127875258306,2.7386127875258306,0,1,1,2.7386127875258306,0\" style=\"fill: none; stroke: rgb(10, 74, 144); stroke-width: 2; opacity: 0.7;\"></path><path transform=\"translate(48,35.00000000000001)\" d=\"M2.7386127875258306,0A2.7386127875258306,2.7386127875258306,0,1,1,-2.7386127875258306,0A2.7386127875258306,2.7386127875258306,0,1,1,2.7386127875258306,0\" style=\"fill: none; stroke: rgb(10, 74, 144); stroke-width: 2; opacity: 0.7;\"></path><path transform=\"translate(52,75)\" d=\"M2.7386127875258306,0A2.7386127875258306,2.7386127875258306,0,1,1,-2.7386127875258306,0A2.7386127875258306,2.7386127875258306,0,1,1,2.7386127875258306,0\" style=\"fill: none; stroke: rgb(10, 74, 144); stroke-width: 2; opacity: 0.7;\"></path><path transform=\"translate(52,68.33333333333333)\" d=\"M2.7386127875258306,0A2.7386127875258306,2.7386127875258306,0,1,1,-2.7386127875258306,0A2.7386127875258306,2.7386127875258306,0,1,1,2.7386127875258306,0\" style=\"fill: none; stroke: rgb(10, 74, 144); stroke-width: 2; opacity: 0.7;\"></path><path transform=\"translate(56.00000000000001,75)\" d=\"M2.7386127875258306,0A2.7386127875258306,2.7386127875258306,0,1,1,-2.7386127875258306,0A2.7386127875258306,2.7386127875258306,0,1,1,2.7386127875258306,0\" style=\"fill: none; stroke: rgb(10, 74, 144); stroke-width: 2; opacity: 0.7;\"></path><path transform=\"translate(52,20.833333333333325)\" d=\"M2.7386127875258306,0A2.7386127875258306,2.7386127875258306,0,1,1,-2.7386127875258306,0A2.7386127875258306,2.7386127875258306,0,1,1,2.7386127875258306,0\" style=\"fill: none; stroke: rgb(10, 74, 144); stroke-width: 2; opacity: 0.7;\"></path><path transform=\"translate(48,12.5)\" d=\"M2.7386127875258306,0A2.7386127875258306,2.7386127875258306,0,1,1,-2.7386127875258306,0A2.7386127875258306,2.7386127875258306,0,1,1,2.7386127875258306,0\" style=\"fill: none; stroke: rgb(10, 74, 144); stroke-width: 2; opacity: 0.7;\"></path><path transform=\"translate(52,54.16666666666667)\" d=\"M2.7386127875258306,0A2.7386127875258306,2.7386127875258306,0,1,1,-2.7386127875258306,0A2.7386127875258306,2.7386127875258306,0,1,1,2.7386127875258306,0\" style=\"fill: none; stroke: rgb(10, 74, 144); stroke-width: 2; opacity: 0.7;\"></path><path transform=\"translate(72,112.5)\" d=\"M2.7386127875258306,0A2.7386127875258306,2.7386127875258306,0,1,1,-2.7386127875258306,0A2.7386127875258306,2.7386127875258306,0,1,1,2.7386127875258306,0\" style=\"fill: none; stroke: rgb(69, 146, 198); stroke-width: 2; opacity: 0.7;\"></path><path transform=\"translate(64,116.66666666666666)\" d=\"M2.7386127875258306,0A2.7386127875258306,2.7386127875258306,0,1,1,-2.7386127875258306,0A2.7386127875258306,2.7386127875258306,0,1,1,2.7386127875258306,0\" style=\"fill: none; stroke: rgb(69, 146, 198); stroke-width: 2; opacity: 0.7;\"></path><path transform=\"translate(72,116.66666666666666)\" d=\"M2.7386127875258306,0A2.7386127875258306,2.7386127875258306,0,1,1,-2.7386127875258306,0A2.7386127875258306,2.7386127875258306,0,1,1,2.7386127875258306,0\" style=\"fill: none; stroke: rgb(69, 146, 198); stroke-width: 2; opacity: 0.7;\"></path><path transform=\"translate(72,126.66666666666666)\" d=\"M2.7386127875258306,0A2.7386127875258306,2.7386127875258306,0,1,1,-2.7386127875258306,0A2.7386127875258306,2.7386127875258306,0,1,1,2.7386127875258306,0\" style=\"fill: none; stroke: rgb(69, 146, 198); stroke-width: 2; opacity: 0.7;\"></path><path transform=\"translate(92,120.83333333333334)\" d=\"M2.7386127875258306,0A2.7386127875258306,2.7386127875258306,0,1,1,-2.7386127875258306,0A2.7386127875258306,2.7386127875258306,0,1,1,2.7386127875258306,0\" style=\"fill: none; stroke: rgb(69, 146, 198); stroke-width: 2; opacity: 0.7;\"></path><path transform=\"translate(44,75)\" d=\"M2.7386127875258306,0A2.7386127875258306,2.7386127875258306,0,1,1,-2.7386127875258306,0A2.7386127875258306,2.7386127875258306,0,1,1,2.7386127875258306,0\" style=\"fill: none; stroke: rgb(10, 74, 144); stroke-width: 2; opacity: 0.7;\"></path><path transform=\"translate(48,60.83333333333334)\" d=\"M2.7386127875258306,0A2.7386127875258306,2.7386127875258306,0,1,1,-2.7386127875258306,0A2.7386127875258306,2.7386127875258306,0,1,1,2.7386127875258306,0\" style=\"fill: none; stroke: rgb(10, 74, 144); stroke-width: 2; opacity: 0.7;\"></path><path transform=\"translate(52,58.33333333333333)\" d=\"M2.7386127875258306,0A2.7386127875258306,2.7386127875258306,0,1,1,-2.7386127875258306,0A2.7386127875258306,2.7386127875258306,0,1,1,2.7386127875258306,0\" style=\"fill: none; stroke: rgb(10, 74, 144); stroke-width: 2; opacity: 0.7;\"></path><path transform=\"translate(48,50)\" d=\"M2.7386127875258306,0A2.7386127875258306,2.7386127875258306,0,1,1,-2.7386127875258306,0A2.7386127875258306,2.7386127875258306,0,1,1,2.7386127875258306,0\" style=\"fill: none; stroke: rgb(10, 74, 144); stroke-width: 2; opacity: 0.7;\"></path><path transform=\"translate(72,116.66666666666666)\" d=\"M2.7386127875258306,0A2.7386127875258306,2.7386127875258306,0,1,1,-2.7386127875258306,0A2.7386127875258306,2.7386127875258306,0,1,1,2.7386127875258306,0\" style=\"fill: none; stroke: rgb(69, 146, 198); stroke-width: 2; opacity: 0.7;\"></path><path transform=\"translate(84,140)\" d=\"M2.7386127875258306,0A2.7386127875258306,2.7386127875258306,0,1,1,-2.7386127875258306,0A2.7386127875258306,2.7386127875258306,0,1,1,2.7386127875258306,0\" style=\"fill: none; stroke: rgb(168, 206, 229); stroke-width: 2; opacity: 0.7;\"></path><path transform=\"translate(76,129.16666666666666)\" d=\"M2.7386127875258306,0A2.7386127875258306,2.7386127875258306,0,1,1,-2.7386127875258306,0A2.7386127875258306,2.7386127875258306,0,1,1,2.7386127875258306,0\" style=\"fill: none; stroke: rgb(168, 206, 229); stroke-width: 2; opacity: 0.7;\"></path><path transform=\"translate(84,110.83333333333334)\" d=\"M2.7386127875258306,0A2.7386127875258306,2.7386127875258306,0,1,1,-2.7386127875258306,0A2.7386127875258306,2.7386127875258306,0,1,1,2.7386127875258306,0\" style=\"fill: none; stroke: rgb(69, 146, 198); stroke-width: 2; opacity: 0.7;\"></path><path transform=\"translate(60,79.16666666666667)\" d=\"M2.7386127875258306,0A2.7386127875258306,2.7386127875258306,0,1,1,-2.7386127875258306,0A2.7386127875258306,2.7386127875258306,0,1,1,2.7386127875258306,0\" style=\"fill: none; stroke: rgb(10, 74, 144); stroke-width: 2; opacity: 0.7;\"></path><path transform=\"translate(64,8.333333333333325)\" d=\"M2.7386127875258306,0A2.7386127875258306,2.7386127875258306,0,1,1,-2.7386127875258306,0A2.7386127875258306,2.7386127875258306,0,1,1,2.7386127875258306,0\" style=\"fill: none; stroke: rgb(10, 74, 144); stroke-width: 2; opacity: 0.7;\"></path><path transform=\"translate(60,75)\" d=\"M2.7386127875258306,0A2.7386127875258306,2.7386127875258306,0,1,1,-2.7386127875258306,0A2.7386127875258306,2.7386127875258306,0,1,1,2.7386127875258306,0\" style=\"fill: none; stroke: rgb(10, 74, 144); stroke-width: 2; opacity: 0.7;\"></path><path transform=\"translate(44,50)\" d=\"M2.7386127875258306,0A2.7386127875258306,2.7386127875258306,0,1,1,-2.7386127875258306,0A2.7386127875258306,2.7386127875258306,0,1,1,2.7386127875258306,0\" style=\"fill: none; stroke: rgb(10, 74, 144); stroke-width: 2; opacity: 0.7;\"></path><path transform=\"translate(80,120.83333333333334)\" d=\"M2.7386127875258306,0A2.7386127875258306,2.7386127875258306,0,1,1,-2.7386127875258306,0A2.7386127875258306,2.7386127875258306,0,1,1,2.7386127875258306,0\" style=\"fill: none; stroke: rgb(69, 146, 198); stroke-width: 2; opacity: 0.7;\"></path><path transform=\"translate(76,116.66666666666666)\" d=\"M2.7386127875258306,0A2.7386127875258306,2.7386127875258306,0,1,1,-2.7386127875258306,0A2.7386127875258306,2.7386127875258306,0,1,1,2.7386127875258306,0\" style=\"fill: none; stroke: rgb(69, 146, 198); stroke-width: 2; opacity: 0.7;\"></path><path transform=\"translate(60,116.66666666666666)\" d=\"M2.7386127875258306,0A2.7386127875258306,2.7386127875258306,0,1,1,-2.7386127875258306,0A2.7386127875258306,2.7386127875258306,0,1,1,2.7386127875258306,0\" style=\"fill: none; stroke: rgb(69, 146, 198); stroke-width: 2; opacity: 0.7;\"></path><path transform=\"translate(104,133.33333333333334)\" d=\"M2.7386127875258306,0A2.7386127875258306,2.7386127875258306,0,1,1,-2.7386127875258306,0A2.7386127875258306,2.7386127875258306,0,1,1,2.7386127875258306,0\" style=\"fill: none; stroke: rgb(168, 206, 229); stroke-width: 2; opacity: 0.7;\"></path><path transform=\"translate(100,137.5)\" d=\"M2.7386127875258306,0A2.7386127875258306,2.7386127875258306,0,1,1,-2.7386127875258306,0A2.7386127875258306,2.7386127875258306,0,1,1,2.7386127875258306,0\" style=\"fill: none; stroke: rgb(168, 206, 229); stroke-width: 2; opacity: 0.7;\"></path><path transform=\"translate(64,116.66666666666666)\" d=\"M2.7386127875258306,0A2.7386127875258306,2.7386127875258306,0,1,1,-2.7386127875258306,0A2.7386127875258306,2.7386127875258306,0,1,1,2.7386127875258306,0\" style=\"fill: none; stroke: rgb(69, 146, 198); stroke-width: 2; opacity: 0.7;\"></path><path transform=\"translate(64,108.33333333333334)\" d=\"M2.7386127875258306,0A2.7386127875258306,2.7386127875258306,0,1,1,-2.7386127875258306,0A2.7386127875258306,2.7386127875258306,0,1,1,2.7386127875258306,0\" style=\"fill: none; stroke: rgb(69, 146, 198); stroke-width: 2; opacity: 0.7;\"></path><path transform=\"translate(72,112.5)\" d=\"M2.7386127875258306,0A2.7386127875258306,2.7386127875258306,0,1,1,-2.7386127875258306,0A2.7386127875258306,2.7386127875258306,0,1,1,2.7386127875258306,0\" style=\"fill: none; stroke: rgb(69, 146, 198); stroke-width: 2; opacity: 0.7;\"></path><path transform=\"translate(64,83.33333333333333)\" d=\"M2.7386127875258306,0A2.7386127875258306,2.7386127875258306,0,1,1,-2.7386127875258306,0A2.7386127875258306,2.7386127875258306,0,1,1,2.7386127875258306,0\" style=\"fill: none; stroke: rgb(10, 74, 144); stroke-width: 2; opacity: 0.7;\"></path><path transform=\"translate(52,75)\" d=\"M2.7386127875258306,0A2.7386127875258306,2.7386127875258306,0,1,1,-2.7386127875258306,0A2.7386127875258306,2.7386127875258306,0,1,1,2.7386127875258306,0\" style=\"fill: none; stroke: rgb(10, 74, 144); stroke-width: 2; opacity: 0.7;\"></path><path transform=\"translate(56.00000000000001,75)\" d=\"M2.7386127875258306,0A2.7386127875258306,2.7386127875258306,0,1,1,-2.7386127875258306,0A2.7386127875258306,2.7386127875258306,0,1,1,2.7386127875258306,0\" style=\"fill: none; stroke: rgb(10, 74, 144); stroke-width: 2; opacity: 0.7;\"></path><path transform=\"translate(56.00000000000001,83.33333333333333)\" d=\"M2.7386127875258306,0A2.7386127875258306,2.7386127875258306,0,1,1,-2.7386127875258306,0A2.7386127875258306,2.7386127875258306,0,1,1,2.7386127875258306,0\" style=\"fill: none; stroke: rgb(10, 74, 144); stroke-width: 2; opacity: 0.7;\"></path><path transform=\"translate(56.00000000000001,75)\" d=\"M2.7386127875258306,0A2.7386127875258306,2.7386127875258306,0,1,1,-2.7386127875258306,0A2.7386127875258306,2.7386127875258306,0,1,1,2.7386127875258306,0\" style=\"fill: none; stroke: rgb(10, 74, 144); stroke-width: 2; opacity: 0.7;\"></path><path transform=\"translate(112.00000000000001,137.5)\" d=\"M2.7386127875258306,0A2.7386127875258306,2.7386127875258306,0,1,1,-2.7386127875258306,0A2.7386127875258306,2.7386127875258306,0,1,1,2.7386127875258306,0\" style=\"fill: none; stroke: rgb(168, 206, 229); stroke-width: 2; opacity: 0.7;\"></path><path transform=\"translate(76,120.83333333333334)\" d=\"M2.7386127875258306,0A2.7386127875258306,2.7386127875258306,0,1,1,-2.7386127875258306,0A2.7386127875258306,2.7386127875258306,0,1,1,2.7386127875258306,0\" style=\"fill: none; stroke: rgb(69, 146, 198); stroke-width: 2; opacity: 0.7;\"></path><path transform=\"translate(72,112.5)\" d=\"M2.7386127875258306,0A2.7386127875258306,2.7386127875258306,0,1,1,-2.7386127875258306,0A2.7386127875258306,2.7386127875258306,0,1,1,2.7386127875258306,0\" style=\"fill: none; stroke: rgb(69, 146, 198); stroke-width: 2; opacity: 0.7;\"></path><path transform=\"translate(60,140)\" d=\"M2.7386127875258306,0A2.7386127875258306,2.7386127875258306,0,1,1,-2.7386127875258306,0A2.7386127875258306,2.7386127875258306,0,1,1,2.7386127875258306,0\" style=\"fill: none; stroke: rgb(69, 146, 198); stroke-width: 2; opacity: 0.7;\"></path><path transform=\"translate(60,140)\" d=\"M2.7386127875258306,0A2.7386127875258306,2.7386127875258306,0,1,1,-2.7386127875258306,0A2.7386127875258306,2.7386127875258306,0,1,1,2.7386127875258306,0\" style=\"fill: none; stroke: rgb(69, 146, 198); stroke-width: 2; opacity: 0.7;\"></path><path transform=\"translate(64,58.33333333333333)\" d=\"M2.7386127875258306,0A2.7386127875258306,2.7386127875258306,0,1,1,-2.7386127875258306,0A2.7386127875258306,2.7386127875258306,0,1,1,2.7386127875258306,0\" style=\"fill: none; stroke: rgb(10, 74, 144); stroke-width: 2; opacity: 0.7;\"></path><path transform=\"translate(60,79.16666666666667)\" d=\"M2.7386127875258306,0A2.7386127875258306,2.7386127875258306,0,1,1,-2.7386127875258306,0A2.7386127875258306,2.7386127875258306,0,1,1,2.7386127875258306,0\" style=\"fill: none; stroke: rgb(10, 74, 144); stroke-width: 2; opacity: 0.7;\"></path><path transform=\"translate(64,75)\" d=\"M2.7386127875258306,0A2.7386127875258306,2.7386127875258306,0,1,1,-2.7386127875258306,0A2.7386127875258306,2.7386127875258306,0,1,1,2.7386127875258306,0\" style=\"fill: none; stroke: rgb(10, 74, 144); stroke-width: 2; opacity: 0.7;\"></path><path transform=\"translate(56.00000000000001,76.66666666666666)\" d=\"M2.7386127875258306,0A2.7386127875258306,2.7386127875258306,0,1,1,-2.7386127875258306,0A2.7386127875258306,2.7386127875258306,0,1,1,2.7386127875258306,0\" style=\"fill: none; stroke: rgb(10, 74, 144); stroke-width: 2; opacity: 0.7;\"></path><path transform=\"translate(68,108.33333333333334)\" d=\"M2.7386127875258306,0A2.7386127875258306,2.7386127875258306,0,1,1,-2.7386127875258306,0A2.7386127875258306,2.7386127875258306,0,1,1,2.7386127875258306,0\" style=\"fill: none; stroke: rgb(69, 146, 198); stroke-width: 2; opacity: 0.7;\"></path><path transform=\"translate(64,112.5)\" d=\"M2.7386127875258306,0A2.7386127875258306,2.7386127875258306,0,1,1,-2.7386127875258306,0A2.7386127875258306,2.7386127875258306,0,1,1,2.7386127875258306,0\" style=\"fill: none; stroke: rgb(69, 146, 198); stroke-width: 2; opacity: 0.7;\"></path><path transform=\"translate(60,108.33333333333334)\" d=\"M2.7386127875258306,0A2.7386127875258306,2.7386127875258306,0,1,1,-2.7386127875258306,0A2.7386127875258306,2.7386127875258306,0,1,1,2.7386127875258306,0\" style=\"fill: none; stroke: rgb(69, 146, 198); stroke-width: 2; opacity: 0.7;\"></path><path transform=\"translate(72,120.83333333333334)\" d=\"M2.7386127875258306,0A2.7386127875258306,2.7386127875258306,0,1,1,-2.7386127875258306,0A2.7386127875258306,2.7386127875258306,0,1,1,2.7386127875258306,0\" style=\"fill: none; stroke: rgb(69, 146, 198); stroke-width: 2; opacity: 0.7;\"></path><path transform=\"translate(84,108.33333333333334)\" d=\"M2.7386127875258306,0A2.7386127875258306,2.7386127875258306,0,1,1,-2.7386127875258306,0A2.7386127875258306,2.7386127875258306,0,1,1,2.7386127875258306,0\" style=\"fill: none; stroke: rgb(69, 146, 198); stroke-width: 2; opacity: 0.7;\"></path><path transform=\"translate(80,108.33333333333334)\" d=\"M2.7386127875258306,0A2.7386127875258306,2.7386127875258306,0,1,1,-2.7386127875258306,0A2.7386127875258306,2.7386127875258306,0,1,1,2.7386127875258306,0\" style=\"fill: none; stroke: rgb(10, 74, 144); stroke-width: 2; opacity: 0.7;\"></path><path transform=\"translate(52,92.5)\" d=\"M2.7386127875258306,0A2.7386127875258306,2.7386127875258306,0,1,1,-2.7386127875258306,0A2.7386127875258306,2.7386127875258306,0,1,1,2.7386127875258306,0\" style=\"fill: none; stroke: rgb(10, 74, 144); stroke-width: 2; opacity: 0.7;\"></path><path transform=\"translate(92,130.83333333333334)\" d=\"M2.7386127875258306,0A2.7386127875258306,2.7386127875258306,0,1,1,-2.7386127875258306,0A2.7386127875258306,2.7386127875258306,0,1,1,2.7386127875258306,0\" style=\"fill: none; stroke: rgb(168, 206, 229); stroke-width: 2; opacity: 0.7;\"></path><path transform=\"translate(80,116.66666666666666)\" d=\"M2.7386127875258306,0A2.7386127875258306,2.7386127875258306,0,1,1,-2.7386127875258306,0A2.7386127875258306,2.7386127875258306,0,1,1,2.7386127875258306,0\" style=\"fill: none; stroke: rgb(69, 146, 198); stroke-width: 2; opacity: 0.7;\"></path><path transform=\"translate(92,135)\" d=\"M2.7386127875258306,0A2.7386127875258306,2.7386127875258306,0,1,1,-2.7386127875258306,0A2.7386127875258306,2.7386127875258306,0,1,1,2.7386127875258306,0\" style=\"fill: none; stroke: rgb(168, 206, 229); stroke-width: 2; opacity: 0.7;\"></path><path transform=\"translate(72,119.16666666666667)\" d=\"M2.7386127875258306,0A2.7386127875258306,2.7386127875258306,0,1,1,-2.7386127875258306,0A2.7386127875258306,2.7386127875258306,0,1,1,2.7386127875258306,0\" style=\"fill: none; stroke: rgb(69, 146, 198); stroke-width: 2; opacity: 0.7;\"></path><path transform=\"translate(76,125)\" d=\"M2.7386127875258306,0A2.7386127875258306,2.7386127875258306,0,1,1,-2.7386127875258306,0A2.7386127875258306,2.7386127875258306,0,1,1,2.7386127875258306,0\" style=\"fill: none; stroke: rgb(69, 146, 198); stroke-width: 2; opacity: 0.7;\"></path><path transform=\"translate(100,123.33333333333334)\" d=\"M2.7386127875258306,0A2.7386127875258306,2.7386127875258306,0,1,1,-2.7386127875258306,0A2.7386127875258306,2.7386127875258306,0,1,1,2.7386127875258306,0\" style=\"fill: none; stroke: rgb(168, 206, 229); stroke-width: 2; opacity: 0.7;\"></path><path transform=\"translate(104,134.16666666666669)\" d=\"M2.7386127875258306,0A2.7386127875258306,2.7386127875258306,0,1,1,-2.7386127875258306,0A2.7386127875258306,2.7386127875258306,0,1,1,2.7386127875258306,0\" style=\"fill: none; stroke: rgb(168, 206, 229); stroke-width: 2; opacity: 0.7;\"></path><path transform=\"translate(70,83.33333333333333)\" d=\"M2.7386127875258306,0A2.7386127875258306,2.7386127875258306,0,1,1,-2.7386127875258306,0A2.7386127875258306,2.7386127875258306,0,1,1,2.7386127875258306,0\" style=\"fill: none; stroke: rgb(10, 74, 144); stroke-width: 2; opacity: 0.7;\"></path><path transform=\"translate(64,75)\" d=\"M2.7386127875258306,0A2.7386127875258306,2.7386127875258306,0,1,1,-2.7386127875258306,0A2.7386127875258306,2.7386127875258306,0,1,1,2.7386127875258306,0\" style=\"fill: none; stroke: rgb(10, 74, 144); stroke-width: 2; opacity: 0.7;\"></path><path transform=\"translate(62,100)\" d=\"M2.7386127875258306,0A2.7386127875258306,2.7386127875258306,0,1,1,-2.7386127875258306,0A2.7386127875258306,2.7386127875258306,0,1,1,2.7386127875258306,0\" style=\"fill: none; stroke: rgb(10, 74, 144); stroke-width: 2; opacity: 0.7;\"></path><path transform=\"translate(57.99999999999999,73.33333333333334)\" d=\"M2.7386127875258306,0A2.7386127875258306,2.7386127875258306,0,1,1,-2.7386127875258306,0A2.7386127875258306,2.7386127875258306,0,1,1,2.7386127875258306,0\" style=\"fill: none; stroke: rgb(10, 74, 144); stroke-width: 2; opacity: 0.7;\"></path><path transform=\"translate(88,116.66666666666666)\" d=\"M2.7386127875258306,0A2.7386127875258306,2.7386127875258306,0,1,1,-2.7386127875258306,0A2.7386127875258306,2.7386127875258306,0,1,1,2.7386127875258306,0\" style=\"fill: none; stroke: rgb(69, 146, 198); stroke-width: 2; opacity: 0.7;\"></path><path transform=\"translate(88,112.5)\" d=\"M2.7386127875258306,0A2.7386127875258306,2.7386127875258306,0,1,1,-2.7386127875258306,0A2.7386127875258306,2.7386127875258306,0,1,1,2.7386127875258306,0\" style=\"fill: none; stroke: rgb(69, 146, 198); stroke-width: 2; opacity: 0.7;\"></path><path transform=\"translate(96,132.5)\" d=\"M2.7386127875258306,0A2.7386127875258306,2.7386127875258306,0,1,1,-2.7386127875258306,0A2.7386127875258306,2.7386127875258306,0,1,1,2.7386127875258306,0\" style=\"fill: none; stroke: rgb(69, 146, 198); stroke-width: 2; opacity: 0.7;\"></path><path transform=\"translate(90,125)\" d=\"M2.7386127875258306,0A2.7386127875258306,2.7386127875258306,0,1,1,-2.7386127875258306,0A2.7386127875258306,2.7386127875258306,0,1,1,2.7386127875258306,0\" style=\"fill: none; stroke: rgb(69, 146, 198); stroke-width: 2; opacity: 0.7;\"></path><path transform=\"translate(115.99999999999999,156.66666666666666)\" d=\"M2.7386127875258306,0A2.7386127875258306,2.7386127875258306,0,1,1,-2.7386127875258306,0A2.7386127875258306,2.7386127875258306,0,1,1,2.7386127875258306,0\" style=\"fill: none; stroke: rgb(168, 206, 229); stroke-width: 2; opacity: 0.7;\"></path><path transform=\"translate(98,150)\" d=\"M2.7386127875258306,0A2.7386127875258306,2.7386127875258306,0,1,1,-2.7386127875258306,0A2.7386127875258306,2.7386127875258306,0,1,1,2.7386127875258306,0\" style=\"fill: none; stroke: rgb(168, 206, 229); stroke-width: 2; opacity: 0.7;\"></path><path transform=\"translate(80,116.66666666666666)\" d=\"M2.7386127875258306,0A2.7386127875258306,2.7386127875258306,0,1,1,-2.7386127875258306,0A2.7386127875258306,2.7386127875258306,0,1,1,2.7386127875258306,0\" style=\"fill: none; stroke: rgb(69, 146, 198); stroke-width: 2; opacity: 0.7;\"></path><path transform=\"translate(72,135)\" d=\"M2.7386127875258306,0A2.7386127875258306,2.7386127875258306,0,1,1,-2.7386127875258306,0A2.7386127875258306,2.7386127875258306,0,1,1,2.7386127875258306,0\" style=\"fill: none; stroke: rgb(69, 146, 198); stroke-width: 2; opacity: 0.7;\"></path><path transform=\"translate(74,108.33333333333334)\" d=\"M2.7386127875258306,0A2.7386127875258306,2.7386127875258306,0,1,1,-2.7386127875258306,0A2.7386127875258306,2.7386127875258306,0,1,1,2.7386127875258306,0\" style=\"fill: none; stroke: rgb(69, 146, 198); stroke-width: 2; opacity: 0.7;\"></path><path transform=\"translate(70,120.83333333333334)\" d=\"M2.7386127875258306,0A2.7386127875258306,2.7386127875258306,0,1,1,-2.7386127875258306,0A2.7386127875258306,2.7386127875258306,0,1,1,2.7386127875258306,0\" style=\"fill: none; stroke: rgb(69, 146, 198); stroke-width: 2; opacity: 0.7;\"></path><path transform=\"translate(106,140)\" d=\"M2.7386127875258306,0A2.7386127875258306,2.7386127875258306,0,1,1,-2.7386127875258306,0A2.7386127875258306,2.7386127875258306,0,1,1,2.7386127875258306,0\" style=\"fill: none; stroke: rgb(168, 206, 229); stroke-width: 2; opacity: 0.7;\"></path><path transform=\"translate(52,75)\" d=\"M2.7386127875258306,0A2.7386127875258306,2.7386127875258306,0,1,1,-2.7386127875258306,0A2.7386127875258306,2.7386127875258306,0,1,1,2.7386127875258306,0\" style=\"fill: none; stroke: rgb(10, 74, 144); stroke-width: 2; opacity: 0.7;\"></path><path transform=\"translate(66,50)\" d=\"M2.7386127875258306,0A2.7386127875258306,2.7386127875258306,0,1,1,-2.7386127875258306,0A2.7386127875258306,2.7386127875258306,0,1,1,2.7386127875258306,0\" style=\"fill: none; stroke: rgb(10, 74, 144); stroke-width: 2; opacity: 0.7;\"></path><path transform=\"translate(52,79.16666666666667)\" d=\"M2.7386127875258306,0A2.7386127875258306,2.7386127875258306,0,1,1,-2.7386127875258306,0A2.7386127875258306,2.7386127875258306,0,1,1,2.7386127875258306,0\" style=\"fill: none; stroke: rgb(10, 74, 144); stroke-width: 2; opacity: 0.7;\"></path><path transform=\"translate(52,91.66666666666667)\" d=\"M2.7386127875258306,0A2.7386127875258306,2.7386127875258306,0,1,1,-2.7386127875258306,0A2.7386127875258306,2.7386127875258306,0,1,1,2.7386127875258306,0\" style=\"fill: none; stroke: rgb(10, 74, 144); stroke-width: 2; opacity: 0.7;\"></path><path transform=\"translate(52,75)\" d=\"M2.7386127875258306,0A2.7386127875258306,2.7386127875258306,0,1,1,-2.7386127875258306,0A2.7386127875258306,2.7386127875258306,0,1,1,2.7386127875258306,0\" style=\"fill: none; stroke: rgb(10, 74, 144); stroke-width: 2; opacity: 0.7;\"></path><path transform=\"translate(120,133.33333333333334)\" d=\"M2.7386127875258306,0A2.7386127875258306,2.7386127875258306,0,1,1,-2.7386127875258306,0A2.7386127875258306,2.7386127875258306,0,1,1,2.7386127875258306,0\" style=\"fill: none; stroke: rgb(168, 206, 229); stroke-width: 2; opacity: 0.7;\"></path><path transform=\"translate(102,120)\" d=\"M2.7386127875258306,0A2.7386127875258306,2.7386127875258306,0,1,1,-2.7386127875258306,0A2.7386127875258306,2.7386127875258306,0,1,1,2.7386127875258306,0\" style=\"fill: none; stroke: rgb(168, 206, 229); stroke-width: 2; opacity: 0.7;\"></path><path transform=\"translate(70,79.16666666666667)\" d=\"M2.7386127875258306,0A2.7386127875258306,2.7386127875258306,0,1,1,-2.7386127875258306,0A2.7386127875258306,2.7386127875258306,0,1,1,2.7386127875258306,0\" style=\"fill: none; stroke: rgb(10, 74, 144); stroke-width: 2; opacity: 0.7;\"></path><path transform=\"translate(68,108.33333333333334)\" d=\"M2.7386127875258306,0A2.7386127875258306,2.7386127875258306,0,1,1,-2.7386127875258306,0A2.7386127875258306,2.7386127875258306,0,1,1,2.7386127875258306,0\" style=\"fill: none; stroke: rgb(10, 74, 144); stroke-width: 2; opacity: 0.7;\"></path><path transform=\"translate(62,79.16666666666667)\" d=\"M2.7386127875258306,0A2.7386127875258306,2.7386127875258306,0,1,1,-2.7386127875258306,0A2.7386127875258306,2.7386127875258306,0,1,1,2.7386127875258306,0\" style=\"fill: none; stroke: rgb(10, 74, 144); stroke-width: 2; opacity: 0.7;\"></path><path transform=\"translate(60,91.66666666666667)\" d=\"M2.7386127875258306,0A2.7386127875258306,2.7386127875258306,0,1,1,-2.7386127875258306,0A2.7386127875258306,2.7386127875258306,0,1,1,2.7386127875258306,0\" style=\"fill: none; stroke: rgb(10, 74, 144); stroke-width: 2; opacity: 0.7;\"></path><path transform=\"translate(70,108.33333333333334)\" d=\"M2.7386127875258306,0A2.7386127875258306,2.7386127875258306,0,1,1,-2.7386127875258306,0A2.7386127875258306,2.7386127875258306,0,1,1,2.7386127875258306,0\" style=\"fill: none; stroke: rgb(69, 146, 198); stroke-width: 2; opacity: 0.7;\"></path><path transform=\"translate(82,112.5)\" d=\"M2.7386127875258306,0A2.7386127875258306,2.7386127875258306,0,1,1,-2.7386127875258306,0A2.7386127875258306,2.7386127875258306,0,1,1,2.7386127875258306,0\" style=\"fill: none; stroke: rgb(69, 146, 198); stroke-width: 2; opacity: 0.7;\"></path><path transform=\"translate(76,116.66666666666666)\" d=\"M2.7386127875258306,0A2.7386127875258306,2.7386127875258306,0,1,1,-2.7386127875258306,0A2.7386127875258306,2.7386127875258306,0,1,1,2.7386127875258306,0\" style=\"fill: none; stroke: rgb(69, 146, 198); stroke-width: 2; opacity: 0.7;\"></path><path transform=\"translate(74,118.33333333333333)\" d=\"M2.7386127875258306,0A2.7386127875258306,2.7386127875258306,0,1,1,-2.7386127875258306,0A2.7386127875258306,2.7386127875258306,0,1,1,2.7386127875258306,0\" style=\"fill: none; stroke: rgb(69, 146, 198); stroke-width: 2; opacity: 0.7;\"></path><path transform=\"translate(64,50)\" d=\"M2.7386127875258306,0A2.7386127875258306,2.7386127875258306,0,1,1,-2.7386127875258306,0A2.7386127875258306,2.7386127875258306,0,1,1,2.7386127875258306,0\" style=\"fill: none; stroke: rgb(10, 74, 144); stroke-width: 2; opacity: 0.7;\"></path><path transform=\"translate(62,58.33333333333333)\" d=\"M2.7386127875258306,0A2.7386127875258306,2.7386127875258306,0,1,1,-2.7386127875258306,0A2.7386127875258306,2.7386127875258306,0,1,1,2.7386127875258306,0\" style=\"fill: none; stroke: rgb(10, 74, 144); stroke-width: 2; opacity: 0.7;\"></path><path transform=\"translate(62,41.66666666666667)\" d=\"M2.7386127875258306,0A2.7386127875258306,2.7386127875258306,0,1,1,-2.7386127875258306,0A2.7386127875258306,2.7386127875258306,0,1,1,2.7386127875258306,0\" style=\"fill: none; stroke: rgb(10, 74, 144); stroke-width: 2; opacity: 0.7;\"></path><path transform=\"translate(64,75.83333333333333)\" d=\"M2.7386127875258306,0A2.7386127875258306,2.7386127875258306,0,1,1,-2.7386127875258306,0A2.7386127875258306,2.7386127875258306,0,1,1,2.7386127875258306,0\" style=\"fill: none; stroke: rgb(10, 74, 144); stroke-width: 2; opacity: 0.7;\"></path><path transform=\"translate(98,126.66666666666666)\" d=\"M2.7386127875258306,0A2.7386127875258306,2.7386127875258306,0,1,1,-2.7386127875258306,0A2.7386127875258306,2.7386127875258306,0,1,1,2.7386127875258306,0\" style=\"fill: none; stroke: rgb(168, 206, 229); stroke-width: 2; opacity: 0.7;\"></path><path transform=\"translate(102,125.83333333333333)\" d=\"M2.7386127875258306,0A2.7386127875258306,2.7386127875258306,0,1,1,-2.7386127875258306,0A2.7386127875258306,2.7386127875258306,0,1,1,2.7386127875258306,0\" style=\"fill: none; stroke: rgb(168, 206, 229); stroke-width: 2; opacity: 0.7;\"></path><path transform=\"translate(122,147.5)\" d=\"M2.7386127875258306,0A2.7386127875258306,2.7386127875258306,0,1,1,-2.7386127875258306,0A2.7386127875258306,2.7386127875258306,0,1,1,2.7386127875258306,0\" style=\"fill: none; stroke: rgb(168, 206, 229); stroke-width: 2; opacity: 0.7;\"></path><path transform=\"translate(134,130.83333333333334)\" d=\"M2.7386127875258306,0A2.7386127875258306,2.7386127875258306,0,1,1,-2.7386127875258306,0A2.7386127875258306,2.7386127875258306,0,1,1,2.7386127875258306,0\" style=\"fill: none; stroke: rgb(168, 206, 229); stroke-width: 2; opacity: 0.7;\"></path><path transform=\"translate(144.4,145)\" d=\"M2.7386127875258306,0A2.7386127875258306,2.7386127875258306,0,1,1,-2.7386127875258306,0A2.7386127875258306,2.7386127875258306,0,1,1,2.7386127875258306,0\" style=\"fill: none; stroke: rgb(168, 206, 229); stroke-width: 2; opacity: 0.7;\"></path><path transform=\"translate(79.6,108.33333333333334)\" d=\"M2.7386127875258306,0A2.7386127875258306,2.7386127875258306,0,1,1,-2.7386127875258306,0A2.7386127875258306,2.7386127875258306,0,1,1,2.7386127875258306,0\" style=\"fill: none; stroke: rgb(10, 74, 144); stroke-width: 2; opacity: 0.7;\"></path><path transform=\"translate(77.6,83.33333333333333)\" d=\"M2.7386127875258306,0A2.7386127875258306,2.7386127875258306,0,1,1,-2.7386127875258306,0A2.7386127875258306,2.7386127875258306,0,1,1,2.7386127875258306,0\" style=\"fill: none; stroke: rgb(10, 74, 144); stroke-width: 2; opacity: 0.7;\"></path><path transform=\"translate(80.8,84.16666666666666)\" d=\"M2.7386127875258306,0A2.7386127875258306,2.7386127875258306,0,1,1,-2.7386127875258306,0A2.7386127875258306,2.7386127875258306,0,1,1,2.7386127875258306,0\" style=\"fill: none; stroke: rgb(10, 74, 144); stroke-width: 2; opacity: 0.7;\"></path><path transform=\"translate(76.8,112.5)\" d=\"M2.7386127875258306,0A2.7386127875258306,2.7386127875258306,0,1,1,-2.7386127875258306,0A2.7386127875258306,2.7386127875258306,0,1,1,2.7386127875258306,0\" style=\"fill: none; stroke: rgb(69, 146, 198); stroke-width: 2; opacity: 0.7;\"></path><path transform=\"translate(82,120.83333333333334)\" d=\"M2.7386127875258306,0A2.7386127875258306,2.7386127875258306,0,1,1,-2.7386127875258306,0A2.7386127875258306,2.7386127875258306,0,1,1,2.7386127875258306,0\" style=\"fill: none; stroke: rgb(69, 146, 198); stroke-width: 2; opacity: 0.7;\"></path><path transform=\"translate(80.8,129.16666666666666)\" d=\"M2.7386127875258306,0A2.7386127875258306,2.7386127875258306,0,1,1,-2.7386127875258306,0A2.7386127875258306,2.7386127875258306,0,1,1,2.7386127875258306,0\" style=\"fill: none; stroke: rgb(69, 146, 198); stroke-width: 2; opacity: 0.7;\"></path><path transform=\"translate(100.4,126.66666666666666)\" d=\"M2.7386127875258306,0A2.7386127875258306,2.7386127875258306,0,1,1,-2.7386127875258306,0A2.7386127875258306,2.7386127875258306,0,1,1,2.7386127875258306,0\" style=\"fill: none; stroke: rgb(168, 206, 229); stroke-width: 2; opacity: 0.7;\"></path><path transform=\"translate(82,116.66666666666666)\" d=\"M2.7386127875258306,0A2.7386127875258306,2.7386127875258306,0,1,1,-2.7386127875258306,0A2.7386127875258306,2.7386127875258306,0,1,1,2.7386127875258306,0\" style=\"fill: none; stroke: rgb(69, 146, 198); stroke-width: 2; opacity: 0.7;\"></path><path transform=\"translate(77.6,125)\" d=\"M2.7386127875258306,0A2.7386127875258306,2.7386127875258306,0,1,1,-2.7386127875258306,0A2.7386127875258306,2.7386127875258306,0,1,1,2.7386127875258306,0\" style=\"fill: none; stroke: rgb(69, 146, 198); stroke-width: 2; opacity: 0.7;\"></path><path transform=\"translate(82.4,112.5)\" d=\"M2.7386127875258306,0A2.7386127875258306,2.7386127875258306,0,1,1,-2.7386127875258306,0A2.7386127875258306,2.7386127875258306,0,1,1,2.7386127875258306,0\" style=\"fill: none; stroke: rgb(69, 146, 198); stroke-width: 2; opacity: 0.7;\"></path><path transform=\"translate(83.2,129.16666666666666)\" d=\"M2.7386127875258306,0A2.7386127875258306,2.7386127875258306,0,1,1,-2.7386127875258306,0A2.7386127875258306,2.7386127875258306,0,1,1,2.7386127875258306,0\" style=\"fill: none; stroke: rgb(69, 146, 198); stroke-width: 2; opacity: 0.7;\"></path><path transform=\"translate(74.4,108.33333333333334)\" d=\"M2.7386127875258306,0A2.7386127875258306,2.7386127875258306,0,1,1,-2.7386127875258306,0A2.7386127875258306,2.7386127875258306,0,1,1,2.7386127875258306,0\" style=\"fill: none; stroke: rgb(69, 146, 198); stroke-width: 2; opacity: 0.7;\"></path><path transform=\"translate(72.4,100)\" d=\"M2.7386127875258306,0A2.7386127875258306,2.7386127875258306,0,1,1,-2.7386127875258306,0A2.7386127875258306,2.7386127875258306,0,1,1,2.7386127875258306,0\" style=\"fill: none; stroke: rgb(69, 146, 198); stroke-width: 2; opacity: 0.7;\"></path><path transform=\"translate(76.8,79.16666666666667)\" d=\"M2.7386127875258306,0A2.7386127875258306,2.7386127875258306,0,1,1,-2.7386127875258306,0A2.7386127875258306,2.7386127875258306,0,1,1,2.7386127875258306,0\" style=\"fill: none; stroke: rgb(10, 74, 144); stroke-width: 2; opacity: 0.7;\"></path><path transform=\"translate(70.8,62.5)\" d=\"M2.7386127875258306,0A2.7386127875258306,2.7386127875258306,0,1,1,-2.7386127875258306,0A2.7386127875258306,2.7386127875258306,0,1,1,2.7386127875258306,0\" style=\"fill: none; stroke: rgb(69, 146, 198); stroke-width: 2; opacity: 0.7;\"></path><path transform=\"translate(72.4,84.16666666666666)\" d=\"M2.7386127875258306,0A2.7386127875258306,2.7386127875258306,0,1,1,-2.7386127875258306,0A2.7386127875258306,2.7386127875258306,0,1,1,2.7386127875258306,0\" style=\"fill: none; stroke: rgb(10, 74, 144); stroke-width: 2; opacity: 0.7;\"></path><path transform=\"translate(70,83.33333333333333)\" d=\"M2.7386127875258306,0A2.7386127875258306,2.7386127875258306,0,1,1,-2.7386127875258306,0A2.7386127875258306,2.7386127875258306,0,1,1,2.7386127875258306,0\" style=\"fill: none; stroke: rgb(10, 74, 144); stroke-width: 2; opacity: 0.7;\"></path><path transform=\"translate(120,143.33333333333334)\" d=\"M2.7386127875258306,0A2.7386127875258306,2.7386127875258306,0,1,1,-2.7386127875258306,0A2.7386127875258306,2.7386127875258306,0,1,1,2.7386127875258306,0\" style=\"fill: none; stroke: rgb(168, 206, 229); stroke-width: 2; opacity: 0.7;\"></path><path transform=\"translate(123.6,137.5)\" d=\"M2.7386127875258306,0A2.7386127875258306,2.7386127875258306,0,1,1,-2.7386127875258306,0A2.7386127875258306,2.7386127875258306,0,1,1,2.7386127875258306,0\" style=\"fill: none; stroke: rgb(168, 206, 229); stroke-width: 2; opacity: 0.7;\"></path><path transform=\"translate(92.8,112.5)\" d=\"M2.7386127875258306,0A2.7386127875258306,2.7386127875258306,0,1,1,-2.7386127875258306,0A2.7386127875258306,2.7386127875258306,0,1,1,2.7386127875258306,0\" style=\"fill: none; stroke: rgb(168, 206, 229); stroke-width: 2; opacity: 0.7;\"></path><path transform=\"translate(95.2,129.16666666666666)\" d=\"M2.7386127875258306,0A2.7386127875258306,2.7386127875258306,0,1,1,-2.7386127875258306,0A2.7386127875258306,2.7386127875258306,0,1,1,2.7386127875258306,0\" style=\"fill: none; stroke: rgb(168, 206, 229); stroke-width: 2; opacity: 0.7;\"></path><path transform=\"translate(86,104.16666666666666)\" d=\"M2.7386127875258306,0A2.7386127875258306,2.7386127875258306,0,1,1,-2.7386127875258306,0A2.7386127875258306,2.7386127875258306,0,1,1,2.7386127875258306,0\" style=\"fill: none; stroke: rgb(69, 146, 198); stroke-width: 2; opacity: 0.7;\"></path><path transform=\"translate(79.2,129.16666666666666)\" d=\"M2.7386127875258306,0A2.7386127875258306,2.7386127875258306,0,1,1,-2.7386127875258306,0A2.7386127875258306,2.7386127875258306,0,1,1,2.7386127875258306,0\" style=\"fill: none; stroke: rgb(69, 146, 198); stroke-width: 2; opacity: 0.7;\"></path><path transform=\"translate(89.2,126.66666666666666)\" d=\"M2.7386127875258306,0A2.7386127875258306,2.7386127875258306,0,1,1,-2.7386127875258306,0A2.7386127875258306,2.7386127875258306,0,1,1,2.7386127875258306,0\" style=\"fill: none; stroke: rgb(168, 206, 229); stroke-width: 2; opacity: 0.7;\"></path><path transform=\"translate(80.8,125)\" d=\"M2.7386127875258306,0A2.7386127875258306,2.7386127875258306,0,1,1,-2.7386127875258306,0A2.7386127875258306,2.7386127875258306,0,1,1,2.7386127875258306,0\" style=\"fill: none; stroke: rgb(69, 146, 198); stroke-width: 2; opacity: 0.7;\"></path><path transform=\"translate(82.4,108.33333333333334)\" d=\"M2.7386127875258306,0A2.7386127875258306,2.7386127875258306,0,1,1,-2.7386127875258306,0A2.7386127875258306,2.7386127875258306,0,1,1,2.7386127875258306,0\" style=\"fill: none; stroke: rgb(69, 146, 198); stroke-width: 2; opacity: 0.7;\"></path><path transform=\"translate(68,91.66666666666667)\" d=\"M2.7386127875258306,0A2.7386127875258306,2.7386127875258306,0,1,1,-2.7386127875258306,0A2.7386127875258306,2.7386127875258306,0,1,1,2.7386127875258306,0\" style=\"fill: none; stroke: rgb(10, 74, 144); stroke-width: 2; opacity: 0.7;\"></path><path transform=\"translate(70.4,92.5)\" d=\"M2.7386127875258306,0A2.7386127875258306,2.7386127875258306,0,1,1,-2.7386127875258306,0A2.7386127875258306,2.7386127875258306,0,1,1,2.7386127875258306,0\" style=\"fill: none; stroke: rgb(10, 74, 144); stroke-width: 2; opacity: 0.7;\"></path><path transform=\"translate(66,85.00000000000001)\" d=\"M2.7386127875258306,0A2.7386127875258306,2.7386127875258306,0,1,1,-2.7386127875258306,0A2.7386127875258306,2.7386127875258306,0,1,1,2.7386127875258306,0\" style=\"fill: none; stroke: rgb(10, 74, 144); stroke-width: 2; opacity: 0.7;\"></path><path transform=\"translate(72.8,87.5)\" d=\"M2.7386127875258306,0A2.7386127875258306,2.7386127875258306,0,1,1,-2.7386127875258306,0A2.7386127875258306,2.7386127875258306,0,1,1,2.7386127875258306,0\" style=\"fill: none; stroke: rgb(10, 74, 144); stroke-width: 2; opacity: 0.7;\"></path><path transform=\"translate(67.6,70.83333333333333)\" d=\"M2.7386127875258306,0A2.7386127875258306,2.7386127875258306,0,1,1,-2.7386127875258306,0A2.7386127875258306,2.7386127875258306,0,1,1,2.7386127875258306,0\" style=\"fill: none; stroke: rgb(10, 74, 144); stroke-width: 2; opacity: 0.7;\"></path><path transform=\"translate(62,81.66666666666667)\" d=\"M2.7386127875258306,0A2.7386127875258306,2.7386127875258306,0,1,1,-2.7386127875258306,0A2.7386127875258306,2.7386127875258306,0,1,1,2.7386127875258306,0\" style=\"fill: none; stroke: rgb(10, 74, 144); stroke-width: 2; opacity: 0.7;\"></path><path transform=\"translate(76.8,95.83333333333333)\" d=\"M2.7386127875258306,0A2.7386127875258306,2.7386127875258306,0,1,1,-2.7386127875258306,0A2.7386127875258306,2.7386127875258306,0,1,1,2.7386127875258306,0\" style=\"fill: none; stroke: rgb(10, 74, 144); stroke-width: 2; opacity: 0.7;\"></path><path transform=\"translate(74,75)\" d=\"M2.7386127875258306,0A2.7386127875258306,2.7386127875258306,0,1,1,-2.7386127875258306,0A2.7386127875258306,2.7386127875258306,0,1,1,2.7386127875258306,0\" style=\"fill: none; stroke: rgb(10, 74, 144); stroke-width: 2; opacity: 0.7;\"></path><path transform=\"translate(142.8,133.33333333333334)\" d=\"M2.7386127875258306,0A2.7386127875258306,2.7386127875258306,0,1,1,-2.7386127875258306,0A2.7386127875258306,2.7386127875258306,0,1,1,2.7386127875258306,0\" style=\"fill: none; stroke: rgb(168, 206, 229); stroke-width: 2; opacity: 0.7;\"></path><path transform=\"translate(109.59999999999998,133.33333333333334)\" d=\"M2.7386127875258306,0A2.7386127875258306,2.7386127875258306,0,1,1,-2.7386127875258306,0A2.7386127875258306,2.7386127875258306,0,1,1,2.7386127875258306,0\" style=\"fill: none; stroke: rgb(168, 206, 229); stroke-width: 2; opacity: 0.7;\"></path><path transform=\"translate(92,95.83333333333333)\" d=\"M2.7386127875258306,0A2.7386127875258306,2.7386127875258306,0,1,1,-2.7386127875258306,0A2.7386127875258306,2.7386127875258306,0,1,1,2.7386127875258306,0\" style=\"fill: none; stroke: rgb(10, 74, 144); stroke-width: 2; opacity: 0.7;\"></path><path transform=\"translate(95.6,125)\" d=\"M2.7386127875258306,0A2.7386127875258306,2.7386127875258306,0,1,1,-2.7386127875258306,0A2.7386127875258306,2.7386127875258306,0,1,1,2.7386127875258306,0\" style=\"fill: none; stroke: rgb(10, 74, 144); stroke-width: 2; opacity: 0.7;\"></path><path transform=\"translate(136.8,141.66666666666666)\" d=\"M2.7386127875258306,0A2.7386127875258306,2.7386127875258306,0,1,1,-2.7386127875258306,0A2.7386127875258306,2.7386127875258306,0,1,1,2.7386127875258306,0\" style=\"fill: none; stroke: rgb(168, 206, 229); stroke-width: 2; opacity: 0.7;\"></path><path transform=\"translate(138,141.66666666666666)\" d=\"M2.7386127875258306,0A2.7386127875258306,2.7386127875258306,0,1,1,-2.7386127875258306,0A2.7386127875258306,2.7386127875258306,0,1,1,2.7386127875258306,0\" style=\"fill: none; stroke: rgb(168, 206, 229); stroke-width: 2; opacity: 0.7;\"></path><path transform=\"translate(113.6,125)\" d=\"M2.7386127875258306,0A2.7386127875258306,2.7386127875258306,0,1,1,-2.7386127875258306,0A2.7386127875258306,2.7386127875258306,0,1,1,2.7386127875258306,0\" style=\"fill: none; stroke: rgb(168, 206, 229); stroke-width: 2; opacity: 0.7;\"></path><path transform=\"translate(115.20000000000002,104.16666666666666)\" d=\"M2.7386127875258306,0A2.7386127875258306,2.7386127875258306,0,1,1,-2.7386127875258306,0A2.7386127875258306,2.7386127875258306,0,1,1,2.7386127875258306,0\" style=\"fill: none; stroke: rgb(69, 146, 198); stroke-width: 2; opacity: 0.7;\"></path><path transform=\"translate(107.2,104.16666666666666)\" d=\"M2.7386127875258306,0A2.7386127875258306,2.7386127875258306,0,1,1,-2.7386127875258306,0A2.7386127875258306,2.7386127875258306,0,1,1,2.7386127875258306,0\" style=\"fill: none; stroke: rgb(69, 146, 198); stroke-width: 2; opacity: 0.7;\"></path><path transform=\"translate(134,125)\" d=\"M2.7386127875258306,0A2.7386127875258306,2.7386127875258306,0,1,1,-2.7386127875258306,0A2.7386127875258306,2.7386127875258306,0,1,1,2.7386127875258306,0\" style=\"fill: none; stroke: rgb(168, 206, 229); stroke-width: 2; opacity: 0.7;\"></path><path transform=\"translate(128.4,141.66666666666666)\" d=\"M2.7386127875258306,0A2.7386127875258306,2.7386127875258306,0,1,1,-2.7386127875258306,0A2.7386127875258306,2.7386127875258306,0,1,1,2.7386127875258306,0\" style=\"fill: none; stroke: rgb(168, 206, 229); stroke-width: 2; opacity: 0.7;\"></path><path transform=\"translate(112.00000000000001,125)\" d=\"M2.7386127875258306,0A2.7386127875258306,2.7386127875258306,0,1,1,-2.7386127875258306,0A2.7386127875258306,2.7386127875258306,0,1,1,2.7386127875258306,0\" style=\"fill: none; stroke: rgb(168, 206, 229); stroke-width: 2; opacity: 0.7;\"></path><path transform=\"translate(105.60000000000001,126.66666666666666)\" d=\"M2.7386127875258306,0A2.7386127875258306,2.7386127875258306,0,1,1,-2.7386127875258306,0A2.7386127875258306,2.7386127875258306,0,1,1,2.7386127875258306,0\" style=\"fill: none; stroke: rgb(168, 206, 229); stroke-width: 2; opacity: 0.7;\"></path><path transform=\"translate(97.2,125)\" d=\"M2.7386127875258306,0A2.7386127875258306,2.7386127875258306,0,1,1,-2.7386127875258306,0A2.7386127875258306,2.7386127875258306,0,1,1,2.7386127875258306,0\" style=\"fill: none; stroke: rgb(168, 206, 229); stroke-width: 2; opacity: 0.7;\"></path><path transform=\"translate(76.4,125)\" d=\"M2.7386127875258306,0A2.7386127875258306,2.7386127875258306,0,1,1,-2.7386127875258306,0A2.7386127875258306,2.7386127875258306,0,1,1,2.7386127875258306,0\" style=\"fill: none; stroke: rgb(69, 146, 198); stroke-width: 2; opacity: 0.7;\"></path><path transform=\"translate(111.6,112.5)\" d=\"M2.7386127875258306,0A2.7386127875258306,2.7386127875258306,0,1,1,-2.7386127875258306,0A2.7386127875258306,2.7386127875258306,0,1,1,2.7386127875258306,0\" style=\"fill: none; stroke: rgb(168, 206, 229); stroke-width: 2; opacity: 0.7;\"></path><path transform=\"translate(108.80000000000001,130)\" d=\"M2.7386127875258306,0A2.7386127875258306,2.7386127875258306,0,1,1,-2.7386127875258306,0A2.7386127875258306,2.7386127875258306,0,1,1,2.7386127875258306,0\" style=\"fill: none; stroke: rgb(168, 206, 229); stroke-width: 2; opacity: 0.7;\"></path><path transform=\"translate(106.4,130)\" d=\"M2.7386127875258306,0A2.7386127875258306,2.7386127875258306,0,1,1,-2.7386127875258306,0A2.7386127875258306,2.7386127875258306,0,1,1,2.7386127875258306,0\" style=\"fill: none; stroke: rgb(168, 206, 229); stroke-width: 2; opacity: 0.7;\"></path><path transform=\"translate(103.2,123.33333333333334)\" d=\"M2.7386127875258306,0A2.7386127875258306,2.7386127875258306,0,1,1,-2.7386127875258306,0A2.7386127875258306,2.7386127875258306,0,1,1,2.7386127875258306,0\" style=\"fill: none; stroke: rgb(168, 206, 229); stroke-width: 2; opacity: 0.7;\"></path><path transform=\"translate(94,108.33333333333334)\" d=\"M2.7386127875258306,0A2.7386127875258306,2.7386127875258306,0,1,1,-2.7386127875258306,0A2.7386127875258306,2.7386127875258306,0,1,1,2.7386127875258306,0\" style=\"fill: none; stroke: rgb(69, 146, 198); stroke-width: 2; opacity: 0.7;\"></path><path transform=\"translate(120,130)\" d=\"M2.7386127875258306,0A2.7386127875258306,2.7386127875258306,0,1,1,-2.7386127875258306,0A2.7386127875258306,2.7386127875258306,0,1,1,2.7386127875258306,0\" style=\"fill: none; stroke: rgb(168, 206, 229); stroke-width: 2; opacity: 0.7;\"></path><path transform=\"translate(156,146.66666666666669)\" d=\"M2.7386127875258306,0A2.7386127875258306,2.7386127875258306,0,1,1,-2.7386127875258306,0A2.7386127875258306,2.7386127875258306,0,1,1,2.7386127875258306,0\" style=\"fill: none; stroke: rgb(168, 206, 229); stroke-width: 2; opacity: 0.7;\"></path><path transform=\"translate(138.8,147.5)\" d=\"M2.7386127875258306,0A2.7386127875258306,2.7386127875258306,0,1,1,-2.7386127875258306,0A2.7386127875258306,2.7386127875258306,0,1,1,2.7386127875258306,0\" style=\"fill: none; stroke: rgb(168, 206, 229); stroke-width: 2; opacity: 0.7;\"></path><path transform=\"translate(137.6,145.83333333333334)\" d=\"M2.7386127875258306,0A2.7386127875258306,2.7386127875258306,0,1,1,-2.7386127875258306,0A2.7386127875258306,2.7386127875258306,0,1,1,2.7386127875258306,0\" style=\"fill: none; stroke: rgb(168, 206, 229); stroke-width: 2; opacity: 0.7;\"></path><path transform=\"translate(119.6,145.83333333333334)\" d=\"M2.7386127875258306,0A2.7386127875258306,2.7386127875258306,0,1,1,-2.7386127875258306,0A2.7386127875258306,2.7386127875258306,0,1,1,2.7386127875258306,0\" style=\"fill: none; stroke: rgb(168, 206, 229); stroke-width: 2; opacity: 0.7;\"></path><path transform=\"translate(89.6,108.33333333333334)\" d=\"M2.7386127875258306,0A2.7386127875258306,2.7386127875258306,0,1,1,-2.7386127875258306,0A2.7386127875258306,2.7386127875258306,0,1,1,2.7386127875258306,0\" style=\"fill: none; stroke: rgb(69, 146, 198); stroke-width: 2; opacity: 0.7;\"></path><path transform=\"translate(106.4,112.5)\" d=\"M2.7386127875258306,0A2.7386127875258306,2.7386127875258306,0,1,1,-2.7386127875258306,0A2.7386127875258306,2.7386127875258306,0,1,1,2.7386127875258306,0\" style=\"fill: none; stroke: rgb(10, 74, 144); stroke-width: 2; opacity: 0.7;\"></path><path transform=\"translate(80.8,126.66666666666666)\" d=\"M2.7386127875258306,0A2.7386127875258306,2.7386127875258306,0,1,1,-2.7386127875258306,0A2.7386127875258306,2.7386127875258306,0,1,1,2.7386127875258306,0\" style=\"fill: none; stroke: rgb(69, 146, 198); stroke-width: 2; opacity: 0.7;\"></path><path transform=\"translate(70.4,129.16666666666666)\" d=\"M2.7386127875258306,0A2.7386127875258306,2.7386127875258306,0,1,1,-2.7386127875258306,0A2.7386127875258306,2.7386127875258306,0,1,1,2.7386127875258306,0\" style=\"fill: none; stroke: rgb(69, 146, 198); stroke-width: 2; opacity: 0.7;\"></path><path transform=\"translate(112.00000000000001,126.66666666666666)\" d=\"M2.7386127875258306,0A2.7386127875258306,2.7386127875258306,0,1,1,-2.7386127875258306,0A2.7386127875258306,2.7386127875258306,0,1,1,2.7386127875258306,0\" style=\"fill: none; stroke: rgb(168, 206, 229); stroke-width: 2; opacity: 0.7;\"></path><path transform=\"translate(108,126.66666666666666)\" d=\"M2.7386127875258306,0A2.7386127875258306,2.7386127875258306,0,1,1,-2.7386127875258306,0A2.7386127875258306,2.7386127875258306,0,1,1,2.7386127875258306,0\" style=\"fill: none; stroke: rgb(168, 206, 229); stroke-width: 2; opacity: 0.7;\"></path><path transform=\"translate(136,126.66666666666666)\" d=\"M2.7386127875258306,0A2.7386127875258306,2.7386127875258306,0,1,1,-2.7386127875258306,0A2.7386127875258306,2.7386127875258306,0,1,1,2.7386127875258306,0\" style=\"fill: none; stroke: rgb(168, 206, 229); stroke-width: 2; opacity: 0.7;\"></path><path transform=\"translate(124,129.16666666666666)\" d=\"M2.7386127875258306,0A2.7386127875258306,2.7386127875258306,0,1,1,-2.7386127875258306,0A2.7386127875258306,2.7386127875258306,0,1,1,2.7386127875258306,0\" style=\"fill: none; stroke: rgb(168, 206, 229); stroke-width: 2; opacity: 0.7;\"></path><path transform=\"translate(115.99999999999999,130)\" d=\"M2.7386127875258306,0A2.7386127875258306,2.7386127875258306,0,1,1,-2.7386127875258306,0A2.7386127875258306,2.7386127875258306,0,1,1,2.7386127875258306,0\" style=\"fill: none; stroke: rgb(168, 206, 229); stroke-width: 2; opacity: 0.7;\"></path><path transform=\"translate(108,125)\" d=\"M2.7386127875258306,0A2.7386127875258306,2.7386127875258306,0,1,1,-2.7386127875258306,0A2.7386127875258306,2.7386127875258306,0,1,1,2.7386127875258306,0\" style=\"fill: none; stroke: rgb(168, 206, 229); stroke-width: 2; opacity: 0.7;\"></path><path transform=\"translate(96,123.33333333333334)\" d=\"M2.7386127875258306,0A2.7386127875258306,2.7386127875258306,0,1,1,-2.7386127875258306,0A2.7386127875258306,2.7386127875258306,0,1,1,2.7386127875258306,0\" style=\"fill: none; stroke: rgb(168, 206, 229); stroke-width: 2; opacity: 0.7;\"></path><path transform=\"translate(152,147.5)\" d=\"M2.7386127875258306,0A2.7386127875258306,2.7386127875258306,0,1,1,-2.7386127875258306,0A2.7386127875258306,2.7386127875258306,0,1,1,2.7386127875258306,0\" style=\"fill: none; stroke: rgb(168, 206, 229); stroke-width: 2; opacity: 0.7;\"></path><path transform=\"translate(144,141.66666666666666)\" d=\"M2.7386127875258306,0A2.7386127875258306,2.7386127875258306,0,1,1,-2.7386127875258306,0A2.7386127875258306,2.7386127875258306,0,1,1,2.7386127875258306,0\" style=\"fill: none; stroke: rgb(168, 206, 229); stroke-width: 2; opacity: 0.7;\"></path><path transform=\"translate(100,108.33333333333334)\" d=\"M2.7386127875258306,0A2.7386127875258306,2.7386127875258306,0,1,1,-2.7386127875258306,0A2.7386127875258306,2.7386127875258306,0,1,1,2.7386127875258306,0\" style=\"fill: none; stroke: rgb(69, 146, 198); stroke-width: 2; opacity: 0.7;\"></path><path transform=\"translate(152,129.16666666666666)\" d=\"M2.7386127875258306,0A2.7386127875258306,2.7386127875258306,0,1,1,-2.7386127875258306,0A2.7386127875258306,2.7386127875258306,0,1,1,2.7386127875258306,0\" style=\"fill: none; stroke: rgb(69, 146, 198); stroke-width: 2; opacity: 0.7;\"></path><path transform=\"translate(104,123.33333333333334)\" d=\"M2.7386127875258306,0A2.7386127875258306,2.7386127875258306,0,1,1,-2.7386127875258306,0A2.7386127875258306,2.7386127875258306,0,1,1,2.7386127875258306,0\" style=\"fill: none; stroke: rgb(168, 206, 229); stroke-width: 2; opacity: 0.7;\"></path><path transform=\"translate(88,106.66666666666667)\" d=\"M2.7386127875258306,0A2.7386127875258306,2.7386127875258306,0,1,1,-2.7386127875258306,0A2.7386127875258306,2.7386127875258306,0,1,1,2.7386127875258306,0\" style=\"fill: none; stroke: rgb(69, 146, 198); stroke-width: 2; opacity: 0.7;\"></path><path transform=\"translate(144,130)\" d=\"M2.7386127875258306,0A2.7386127875258306,2.7386127875258306,0,1,1,-2.7386127875258306,0A2.7386127875258306,2.7386127875258306,0,1,1,2.7386127875258306,0\" style=\"fill: none; stroke: rgb(168, 206, 229); stroke-width: 2; opacity: 0.7;\"></path><path transform=\"translate(108,125)\" d=\"M2.7386127875258306,0A2.7386127875258306,2.7386127875258306,0,1,1,-2.7386127875258306,0A2.7386127875258306,2.7386127875258306,0,1,1,2.7386127875258306,0\" style=\"fill: none; stroke: rgb(168, 206, 229); stroke-width: 2; opacity: 0.7;\"></path><path transform=\"translate(108,128.33333333333331)\" d=\"M2.7386127875258306,0A2.7386127875258306,2.7386127875258306,0,1,1,-2.7386127875258306,0A2.7386127875258306,2.7386127875258306,0,1,1,2.7386127875258306,0\" style=\"fill: none; stroke: rgb(168, 206, 229); stroke-width: 2; opacity: 0.7;\"></path><path transform=\"translate(128,130)\" d=\"M2.7386127875258306,0A2.7386127875258306,2.7386127875258306,0,1,1,-2.7386127875258306,0A2.7386127875258306,2.7386127875258306,0,1,1,2.7386127875258306,0\" style=\"fill: none; stroke: rgb(168, 206, 229); stroke-width: 2; opacity: 0.7;\"></path><path transform=\"translate(112.00000000000001,134.16666666666669)\" d=\"M2.7386127875258306,0A2.7386127875258306,2.7386127875258306,0,1,1,-2.7386127875258306,0A2.7386127875258306,2.7386127875258306,0,1,1,2.7386127875258306,0\" style=\"fill: none; stroke: rgb(168, 206, 229); stroke-width: 2; opacity: 0.7;\"></path><path transform=\"translate(124,131.66666666666666)\" d=\"M2.7386127875258306,0A2.7386127875258306,2.7386127875258306,0,1,1,-2.7386127875258306,0A2.7386127875258306,2.7386127875258306,0,1,1,2.7386127875258306,0\" style=\"fill: none; stroke: rgb(168, 206, 229); stroke-width: 2; opacity: 0.7;\"></path></g></g></g></g><g class=\"mark-group role-legend\"><g transform=\"translate(663,0)\"><path class=\"background\" d=\"M0,0h63v216h-63Z\" style=\"pointer-events: none; fill: none;\"></path><g><g class=\"mark-group role-legend-entry\"><g transform=\"translate(0,16)\"><path class=\"background\" d=\"M0,0h0v0h0Z\" style=\"pointer-events: none; fill: none;\"></path><g><g class=\"mark-rect role-legend-gradient\" style=\"pointer-events: none;\"><path d=\"M0,0h16v200h-16Z\" style=\"fill: url(#gradient_0); stroke: #ddd; stroke-width: 0; opacity: 0.7;\"></path></g><g class=\"mark-text role-legend-label\" style=\"pointer-events: none;\"><text text-anchor=\"start\" transform=\"translate(18,198)\" style=\"font-family: sans-serif; font-size: 10px; fill: #000; opacity: 1;\">3</text><text text-anchor=\"start\" transform=\"translate(18,163)\" style=\"font-family: sans-serif; font-size: 10px; fill: #000; opacity: 1;\">4</text><text text-anchor=\"start\" transform=\"translate(18,123)\" style=\"font-family: sans-serif; font-size: 10px; fill: #000; opacity: 1;\">5</text><text text-anchor=\"start\" transform=\"translate(18,83)\" style=\"font-family: sans-serif; font-size: 10px; fill: #000; opacity: 1;\">6</text><text text-anchor=\"start\" transform=\"translate(18,42.99999999999999)\" style=\"font-family: sans-serif; font-size: 10px; fill: #000; opacity: 1;\">7</text><text text-anchor=\"start\" transform=\"translate(18,8)\" style=\"font-family: sans-serif; font-size: 10px; fill: #000; opacity: 1;\">8</text></g></g></g></g><g class=\"mark-text role-legend-title\" style=\"pointer-events: none;\"><text text-anchor=\"start\" transform=\"translate(0,9)\" style=\"font-family: sans-serif; font-size: 11px; font-weight: bold; fill: #000; opacity: 1;\">Cylinders</text></g></g></g></g></g></g></g></g></svg>"
      ],
      "text/plain": [
       "VegaLite.VLSpec{:plot}"
      ]
     },
     "execution_count": 11,
     "metadata": {
      "tags": []
     },
     "output_type": "execute_result"
    }
   ],
   "source": [
    "data |>\n",
    "@vlplot(:point, x=:Miles_per_Gallon, y=:Horsepower, column=:Origin, color=:Cylinders)"
   ]
  },
  {
   "cell_type": "code",
   "execution_count": null,
   "metadata": {
    "id": "2gykxKpIb1Uc"
   },
   "outputs": [],
   "source": []
  }
 ],
 "metadata": {
  "colab": {
   "collapsed_sections": [],
   "name": "Grouping_data",
   "provenance": []
  },
  "kernelspec": {
   "display_name": "Julia 1.5.3",
   "language": "julia",
   "name": "julia-1.5"
  },
  "language_info": {
   "file_extension": ".jl",
   "mimetype": "application/julia",
   "name": "julia",
   "version": "1.5.3"
  }
 },
 "nbformat": 4,
 "nbformat_minor": 1
}
