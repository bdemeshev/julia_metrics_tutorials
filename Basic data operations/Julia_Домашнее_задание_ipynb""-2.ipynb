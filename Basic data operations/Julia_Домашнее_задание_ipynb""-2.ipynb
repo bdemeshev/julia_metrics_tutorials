{
  "nbformat": 4,
  "nbformat_minor": 0,
  "metadata": {
    "colab": {
      "name": "Julia - Домашнее задание.ipynb\"\"",
      "provenance": [],
      "collapsed_sections": []
    },
    "kernelspec": {
      "display_name": "Julia",
      "language": "julia",
      "name": "julia"
    },
    "language_info": {
      "file_extension": ".jl",
      "mimetype": "application/julia",
      "name": "julia"
    }
  },
  "cells": [
    {
      "cell_type": "markdown",
      "metadata": {
        "id": "si4Pw-AfF3Zi"
      },
      "source": [
        "# Работу выполнили: \n",
        "\n",
        "*   Головизнин Григорий\n",
        "*   Казакбаев Рустем\n",
        "\n"
      ]
    },
    {
      "cell_type": "markdown",
      "metadata": {
        "id": "OM14LFU5FNe3"
      },
      "source": [
        "# Темы:\n",
        "\n",
        "\n",
        "*   Форматы данных\n",
        "*   Строки\n",
        "*   Функции\n",
        "*   Массивы данных\n",
        "\n"
      ]
    },
    {
      "cell_type": "markdown",
      "metadata": {
        "id": "w0ghBeOfWtNt"
      },
      "source": [
        "# Types"
      ]
    },
    {
      "cell_type": "markdown",
      "metadata": {
        "id": "v1FCq64uYKB9"
      },
      "source": [
        "## Некоторые общие слова про форматы данных"
      ]
    },
    {
      "cell_type": "markdown",
      "metadata": {
        "id": "UvD2jRtsYb4q"
      },
      "source": [
        "У Джулии есть много видов переменных: integers (например 3, -10), float numbers (1.0 и -3.9), bools (Trure / False) и bitarrays (схожи с bool переменными, но они эффективнее используют память компьютера) , строки («привет»), даты (2021-01-25) и многие другие. "
      ]
    },
    {
      "cell_type": "markdown",
      "metadata": {
        "id": "CNJsO-KUbIok"
      },
      "source": [
        "##Integers and Float "
      ]
    },
    {
      "cell_type": "code",
      "metadata": {
        "colab": {
          "base_uri": "https://localhost:8080/"
        },
        "id": "t6ZSeuAbbNVW",
        "outputId": "227f805a-4174-4841-b6d9-334bf094fb94"
      },
      "source": [
        "a = 5                   #integer, Int (Int64 в большинстве случаев)\n",
        "b = 5.0                 #floating point, (Float64 в большинстве случаев)\n",
        "A = [1;2]\n",
        "B = [1.0;2.0]"
      ],
      "execution_count": null,
      "outputs": [
        {
          "output_type": "execute_result",
          "data": {
            "text/plain": [
              "2-element Array{Float64,1}:\n",
              " 1.0\n",
              " 2.0"
            ]
          },
          "metadata": {
            "tags": []
          },
          "execution_count": 2
        }
      ]
    },
    {
      "cell_type": "markdown",
      "metadata": {
        "id": "wgROYhMuU7Uw"
      },
      "source": [
        "Проверим командой typeof форматы данных"
      ]
    },
    {
      "cell_type": "code",
      "metadata": {
        "colab": {
          "base_uri": "https://localhost:8080/"
        },
        "id": "FNSUwMcRUxzF",
        "outputId": "b0fb4de6-989a-4d80-c438-2233aabad374"
      },
      "source": [
        "println(\"a: \",typeof(a))\n",
        "println(a)"
      ],
      "execution_count": null,
      "outputs": [
        {
          "output_type": "stream",
          "text": [
            "a: Int64\n",
            "5\n"
          ],
          "name": "stdout"
        }
      ]
    },
    {
      "cell_type": "code",
      "metadata": {
        "colab": {
          "base_uri": "https://localhost:8080/"
        },
        "id": "i8hwfMh6U1B3",
        "outputId": "97138f6d-d177-4e37-e747-e6fa5710ee21"
      },
      "source": [
        "println(\"\\nb: \",typeof(b))\n",
        "println(b)"
      ],
      "execution_count": null,
      "outputs": [
        {
          "output_type": "stream",
          "text": [
            "\n",
            "b: Float64\n",
            "5.0\n"
          ],
          "name": "stdout"
        }
      ]
    },
    {
      "cell_type": "code",
      "metadata": {
        "colab": {
          "base_uri": "https://localhost:8080/"
        },
        "id": "pES-wLr3U1Mi",
        "outputId": "105c4b95-5ed5-4993-fca2-7944096417e3"
      },
      "source": [
        "println(\"\\nA: \",typeof(A))\n",
        "println(A)"
      ],
      "execution_count": null,
      "outputs": [
        {
          "output_type": "stream",
          "text": [
            "\n",
            "A: Array{Int64,1}\n",
            "[1, 2]\n"
          ],
          "name": "stdout"
        }
      ]
    },
    {
      "cell_type": "code",
      "metadata": {
        "colab": {
          "base_uri": "https://localhost:8080/"
        },
        "id": "GjezKRVnU1aS",
        "outputId": "8af8a7c3-0f23-4f28-dbeb-5286ac0a653e"
      },
      "source": [
        "println(\"\\nB: \",typeof(B))\n",
        "println(B)"
      ],
      "execution_count": null,
      "outputs": [
        {
          "output_type": "stream",
          "text": [
            "\n",
            "B: Array{Float64,1}\n",
            "[1.0, 2.0]\n"
          ],
          "name": "stdout"
        }
      ]
    },
    {
      "cell_type": "markdown",
      "metadata": {
        "id": "NuEZdbDjcMGV"
      },
      "source": [
        "## Bools and BitArrays"
      ]
    },
    {
      "cell_type": "code",
      "metadata": {
        "colab": {
          "base_uri": "https://localhost:8080/"
        },
        "id": "A2ZaapDCcLmh",
        "outputId": "9d1bc441-4151-424b-f734-4799b35d8c84"
      },
      "source": [
        "c = 5 > 1.1\n",
        "println(\"c: \",typeof(c))\n",
        "println(c)"
      ],
      "execution_count": null,
      "outputs": [
        {
          "output_type": "stream",
          "text": [
            "c: Bool\n",
            "true\n"
          ],
          "name": "stdout"
        }
      ]
    },
    {
      "cell_type": "code",
      "metadata": {
        "colab": {
          "base_uri": "https://localhost:8080/"
        },
        "id": "eZa6lk_CVcvX",
        "outputId": "01b73dc9-a5c7-4b47-8adc-2c340d0a68db"
      },
      "source": [
        "A = [1;2]"
      ],
      "execution_count": null,
      "outputs": [
        {
          "output_type": "execute_result",
          "data": {
            "text/plain": [
              "2-element Array{Int64,1}:\n",
              " 1\n",
              " 2"
            ]
          },
          "metadata": {
            "tags": []
          },
          "execution_count": 9
        }
      ]
    },
    {
      "cell_type": "code",
      "metadata": {
        "colab": {
          "base_uri": "https://localhost:8080/"
        },
        "id": "KRytxJ66VM1c",
        "outputId": "b29fe24d-6c52-478d-b9a5-304f1761c15d"
      },
      "source": [
        "C = A .> 1.5\n",
        "println(\"\\nC: \",typeof(C))\n",
        "println(C)"
      ],
      "execution_count": null,
      "outputs": [
        {
          "output_type": "stream",
          "text": [
            "\n",
            "C: BitArray{1}\n",
            "Bool[0, 1]\n"
          ],
          "name": "stdout"
        }
      ]
    },
    {
      "cell_type": "code",
      "metadata": {
        "colab": {
          "base_uri": "https://localhost:8080/"
        },
        "id": "d16uhhjtVRln",
        "outputId": "be3ec4d8-480d-4891-c9e9-e0dda951077e"
      },
      "source": [
        "println(\"BitArray более экономичная версия Bool.\\n\",\n",
        "        \"Заметьте, что typeof(C[1]) даёт: \",typeof(C[1]))"
      ],
      "execution_count": null,
      "outputs": [
        {
          "output_type": "stream",
          "text": [
            "BitArray более экономичная версия Bool.\n",
            "Заметьте, что typeof(C[1]) даёт: Bool\n"
          ],
          "name": "stdout"
        }
      ]
    },
    {
      "cell_type": "markdown",
      "metadata": {
        "id": "lFRLU7NVdXaX"
      },
      "source": [
        "Стоит заметить, что, чтобы что-либо применялось к списку не как к одному объекту, а ко всем элементам списка (что верно и для других массивов), необходимо использовать точку после массива."
      ]
    },
    {
      "cell_type": "markdown",
      "metadata": {
        "id": "ZhvNesOUdh1x"
      },
      "source": [
        "## Операции с переменными разных форматов и изменение форматов"
      ]
    },
    {
      "cell_type": "markdown",
      "metadata": {
        "id": "mLHPCqjLd23p"
      },
      "source": [
        "Выполнение операции суммирования \"integer\" + \"float\" работает, и в результате получается число формата float. Подобным образом сумма bool + integer даст integer"
      ]
    },
    {
      "cell_type": "code",
      "metadata": {
        "colab": {
          "base_uri": "https://localhost:8080/"
        },
        "id": "KNz694OQd2JG",
        "outputId": "fd983456-e56e-41b0-aaf3-e67bc4e11dad"
      },
      "source": [
        "#Сложение integer и float\n",
        "println(\"Int + Float64: \",15 + 27.0)"
      ],
      "execution_count": null,
      "outputs": [
        {
          "output_type": "stream",
          "text": [
            "Int + Float64: 42.0\n"
          ],
          "name": "stdout"
        }
      ]
    },
    {
      "cell_type": "code",
      "metadata": {
        "colab": {
          "base_uri": "https://localhost:8080/"
        },
        "id": "qCGHuxMPVlsn",
        "outputId": "c738115a-2988-428c-eeb3-d98a1d7059b9"
      },
      "source": [
        "#Сложение bool и int\n",
        "println(\"Bool + Int: \",(10 .> 0) + 1)"
      ],
      "execution_count": null,
      "outputs": [
        {
          "output_type": "stream",
          "text": [
            "Bool + Int: 2\n"
          ],
          "name": "stdout"
        }
      ]
    },
    {
      "cell_type": "markdown",
      "metadata": {
        "id": "7ipxbZ1oeVhV"
      },
      "source": [
        "##Перевод формата из Int в Float и наоборот"
      ]
    },
    {
      "cell_type": "code",
      "metadata": {
        "colab": {
          "base_uri": "https://localhost:8080/"
        },
        "id": "P6cNDzZTeewj",
        "outputId": "1947cf3b-ca3b-4a67-dac9-23815b9e3866"
      },
      "source": [
        "A = [2.5 ; 5.3; 100.1]\n",
        "println(\"A: \",typeof(A))\n",
        "println(A)"
      ],
      "execution_count": null,
      "outputs": [
        {
          "output_type": "stream",
          "text": [
            "A: Array{Float64,1}\n",
            "[2.5, 5.3, 100.1]\n"
          ],
          "name": "stdout"
        }
      ]
    },
    {
      "cell_type": "markdown",
      "metadata": {
        "id": "xznIz_NvYrdL"
      },
      "source": [
        "Переводим элементы массива из float64 в int"
      ]
    },
    {
      "cell_type": "code",
      "metadata": {
        "colab": {
          "base_uri": "https://localhost:8080/"
        },
        "id": "gZ0G6n2iYpS4",
        "outputId": "fd0a5e80-bb13-4f92-873b-2d6edebbe8ee"
      },
      "source": [
        "A_to_Int = round.(Int,A)                     \n",
        "println(\"Округление A в Int: \",typeof(A_to_Int))\n",
        "println(A_to_Int)"
      ],
      "execution_count": null,
      "outputs": [
        {
          "output_type": "stream",
          "text": [
            "Округление A в Int: Array{Int64,1}\n",
            "[2, 5, 100]\n"
          ],
          "name": "stdout"
        }
      ]
    },
    {
      "cell_type": "code",
      "metadata": {
        "colab": {
          "base_uri": "https://localhost:8080/"
        },
        "id": "VDcimno-YwMK",
        "outputId": "4fe5fabc-2ee6-45b0-8e21-29503aa3bd91"
      },
      "source": [
        "B = [5;6]\n",
        "println(\"B: \",typeof(B))\n",
        "println(B)"
      ],
      "execution_count": null,
      "outputs": [
        {
          "output_type": "stream",
          "text": [
            "B: Array{Int64,1}\n",
            "[5, 6]\n"
          ],
          "name": "stdout"
        }
      ]
    },
    {
      "cell_type": "markdown",
      "metadata": {
        "id": "hCUob2oIYyOc"
      },
      "source": [
        "Изменение формата: Int -> Float64"
      ]
    },
    {
      "cell_type": "code",
      "metadata": {
        "colab": {
          "base_uri": "https://localhost:8080/"
        },
        "id": "2P-M5DcOVzeQ",
        "outputId": "fe8f50e9-1b6c-4e25-d268-9213f7d6fd2f"
      },
      "source": [
        "B_to_Float64 = convert.(Float64,B)            \n",
        "println(\"После перевода B в Float64: \",typeof(B_to_Float64))\n",
        "println(B_to_Float64)                       #Float64.(A) также работает"
      ],
      "execution_count": null,
      "outputs": [
        {
          "output_type": "stream",
          "text": [
            "После перевода B в Float64: Array{Float64,1}\n",
            "[5.0, 6.0]\n"
          ],
          "name": "stdout"
        }
      ]
    },
    {
      "cell_type": "markdown",
      "metadata": {
        "id": "JVvzhfYGYbBm"
      },
      "source": [
        "## Перевод из Bool и BitArrays в Int и наоборот "
      ]
    },
    {
      "cell_type": "markdown",
      "metadata": {
        "id": "dkFdlz_fY7GH"
      },
      "source": [
        "C = A .> 5\n",
        "\n",
        "Перевод из BitArray в Int"
      ]
    },
    {
      "cell_type": "code",
      "metadata": {
        "colab": {
          "base_uri": "https://localhost:8080/"
        },
        "id": "B62M0DWJhMca",
        "outputId": "b6f3e6f0-83d7-49d4-c575-ad378c896eb3"
      },
      "source": [
        "A = [3.9 ; 7.3; 20.1]\n",
        "C = A .> 5\n",
        "\n",
        "#Перевод из BitArray в Int\n",
        "C_to_Int = convert.(Int,C)               \n",
        "println(typeof(C_to_Int))                #Int.(C) также работает\n",
        "println(C_to_Int)"
      ],
      "execution_count": null,
      "outputs": [
        {
          "output_type": "stream",
          "text": [
            "Array{Int64,1}\n",
            "[0, 1, 1]\n"
          ],
          "name": "stdout"
        }
      ]
    },
    {
      "cell_type": "markdown",
      "metadata": {
        "id": "1NHcHaFlY9Mq"
      },
      "source": [
        "Перевод из int в BitArray"
      ]
    },
    {
      "cell_type": "code",
      "metadata": {
        "colab": {
          "base_uri": "https://localhost:8080/"
        },
        "id": "WGb4OcdqWS0L",
        "outputId": "1ad53e36-c458-4ee6-e26c-4714ae28d01b"
      },
      "source": [
        "D = [1;0;1]\n",
        "\n",
        "D_to_Bool = convert.(Bool,D)             \n",
        "println(typeof(D_to_Bool))                #Bool.(D) также работает\n",
        "println(D_to_Bool)"
      ],
      "execution_count": null,
      "outputs": [
        {
          "output_type": "stream",
          "text": [
            "BitArray{1}\n",
            "Bool[1, 0, 1]\n"
          ],
          "name": "stdout"
        }
      ]
    },
    {
      "cell_type": "markdown",
      "metadata": {
        "id": "d95Q9cPSiSqX"
      },
      "source": [
        "## Проверка типа переменной"
      ]
    },
    {
      "cell_type": "markdown",
      "metadata": {
        "id": "iL_eR7hSiYj5"
      },
      "source": [
        "Самый простой способ проверить, принадлежит ли переменная определенному типу - это использовать функцию isa(variable, Type).  Тип в функции может быть представлен также в виде массива из нескольких типов. Примеры ниже."
      ]
    },
    {
      "cell_type": "code",
      "metadata": {
        "colab": {
          "base_uri": "https://localhost:8080/"
        },
        "id": "L-D9xvz9i-XB",
        "outputId": "fa05e27b-abf0-42ca-fec1-1ef48ea49f51"
      },
      "source": [
        "A = 2.5\n",
        "B = [3.5,6.5]"
      ],
      "execution_count": null,
      "outputs": [
        {
          "output_type": "execute_result",
          "data": {
            "text/plain": [
              "2-element Array{Float64,1}:\n",
              " 3.5\n",
              " 6.5"
            ]
          },
          "metadata": {
            "tags": []
          },
          "execution_count": 20
        }
      ]
    },
    {
      "cell_type": "markdown",
      "metadata": {
        "id": "f07bTXSBZB93"
      },
      "source": [
        "Является элемент A числом?"
      ]
    },
    {
      "cell_type": "code",
      "metadata": {
        "colab": {
          "base_uri": "https://localhost:8080/"
        },
        "id": "aKaKeN-xWpfR",
        "outputId": "909a4a04-4f83-4c9d-d7a3-104b4e98ef5d"
      },
      "source": [
        "println(\"$A is a Number: \",isa(A,Number))"
      ],
      "execution_count": null,
      "outputs": [
        {
          "output_type": "stream",
          "text": [
            "2.5 is a Number: true\n"
          ],
          "name": "stdout"
        }
      ]
    },
    {
      "cell_type": "markdown",
      "metadata": {
        "id": "K4oXNln4ZF-9"
      },
      "source": [
        "Является ли число A integer?"
      ]
    },
    {
      "cell_type": "code",
      "metadata": {
        "colab": {
          "base_uri": "https://localhost:8080/"
        },
        "id": "W8e8iO6XW1Hs",
        "outputId": "0700ed83-58ad-48a6-e818-1747396bade7"
      },
      "source": [
        "println(\"$A is an Int: \",isa(A,Int))"
      ],
      "execution_count": null,
      "outputs": [
        {
          "output_type": "stream",
          "text": [
            "2.5 is an Int: false\n"
          ],
          "name": "stdout"
        }
      ]
    },
    {
      "cell_type": "markdown",
      "metadata": {
        "id": "YISPo69WZIjb"
      },
      "source": [
        "Является ли число A integer или float?"
      ]
    },
    {
      "cell_type": "code",
      "metadata": {
        "colab": {
          "base_uri": "https://localhost:8080/"
        },
        "id": "RNysHg_AW_Rp",
        "outputId": "edb245ca-d8c3-44cf-bb11-ee4d2f0c1b82"
      },
      "source": [
        "println(\"$A is an Int or a Float64: \",isa(A,Union{Int,Float64}))"
      ],
      "execution_count": null,
      "outputs": [
        {
          "output_type": "stream",
          "text": [
            "2.5 is an Int or a Float64: true\n"
          ],
          "name": "stdout"
        }
      ]
    },
    {
      "cell_type": "markdown",
      "metadata": {
        "id": "iUtCJ7d7ZL0Z"
      },
      "source": [
        "Является ли элемент B числом формата float?"
      ]
    },
    {
      "cell_type": "code",
      "metadata": {
        "colab": {
          "base_uri": "https://localhost:8080/"
        },
        "id": "PqD-xpKOXHMT",
        "outputId": "7a8242dc-89a7-4f5d-e63b-fb40e0bc648b"
      },
      "source": [
        "println(\"$B is a Float64: \",isa(B,Float64))"
      ],
      "execution_count": null,
      "outputs": [
        {
          "output_type": "stream",
          "text": [
            "[3.5, 6.5] is a Float64: false\n"
          ],
          "name": "stdout"
        }
      ]
    },
    {
      "cell_type": "markdown",
      "metadata": {
        "id": "lYBX2a86ZOKO"
      },
      "source": [
        "Является ли B массивом?"
      ]
    },
    {
      "cell_type": "code",
      "metadata": {
        "colab": {
          "base_uri": "https://localhost:8080/"
        },
        "id": "WzKs0LwUXVPi",
        "outputId": "4ee8aafe-81ba-4c48-e2f5-885cedf69145"
      },
      "source": [
        "println(\"$B is an Array: \",isa(B,Array))"
      ],
      "execution_count": null,
      "outputs": [
        {
          "output_type": "stream",
          "text": [
            "[3.5, 6.5] is an Array: true\n"
          ],
          "name": "stdout"
        }
      ]
    },
    {
      "cell_type": "markdown",
      "metadata": {
        "id": "L2osrpd5lNpa"
      },
      "source": [
        "# Строки"
      ]
    },
    {
      "cell_type": "markdown",
      "metadata": {
        "id": "BCUfJYPzlas4"
      },
      "source": [
        "## Базовые операции"
      ]
    },
    {
      "cell_type": "markdown",
      "metadata": {
        "id": "WvqdMzNilqNQ"
      },
      "source": [
        "\n",
        "Далее будет показано, как:\n",
        "\n",
        "*   соединять несколько строк в одну строку, используя string(str1, str2) или str1 * str2\n",
        "*   проверять, содержит ли строка конкретную подстроку\n",
        "*   заменять часть строки чем-либо\n",
        "*   разделять строку в массив слов (и затем объединять их назад в строку)\n",
        "*   сортировать вектор слов в алфавитном порядке\n"
      ]
    },
    {
      "cell_type": "code",
      "metadata": {
        "colab": {
          "base_uri": "https://localhost:8080/"
        },
        "id": "A5kzDFHbiPwG",
        "outputId": "0b77b2bd-10ef-4138-d015-b01d6f56eeea"
      },
      "source": [
        "str1 = \"Привет\"\n",
        "str2 = \"Мир!\\n\"\n",
        "str3 = \"Как твои дела?\"\n",
        "\n",
        "new_str = string(str1,\" \",str2,str3)          #объединить в одну строку\n",
        "println(new_str)"
      ],
      "execution_count": null,
      "outputs": [
        {
          "output_type": "stream",
          "text": [
            "Привет Мир!\n",
            "Как твои дела?\n"
          ],
          "name": "stdout"
        }
      ]
    },
    {
      "cell_type": "markdown",
      "metadata": {
        "id": "4ilGarfcXpuW"
      },
      "source": [
        "Проверяем, содержит ли строка \"Я посетил США\" слово \"США\"."
      ]
    },
    {
      "cell_type": "code",
      "metadata": {
        "colab": {
          "base_uri": "https://localhost:8080/"
        },
        "id": "HhpPf3dYhwdG",
        "outputId": "60b5f9a0-2f29-4815-f35c-2dd81d8376c9"
      },
      "source": [
        "str4 = \"Я посетил США\"\n",
        "\n",
        "if occursin(\"США\",str4)\n",
        "    println(\"Предложение\")\n",
        "    println(str4)\n",
        "    println(\"содержит слово 'США'\")\n",
        "end"
      ],
      "execution_count": null,
      "outputs": [
        {
          "output_type": "stream",
          "text": [
            "Предложение\n",
            "Я посетил США\n",
            "содержит слово 'США'\n"
          ],
          "name": "stdout"
        }
      ]
    },
    {
      "cell_type": "markdown",
      "metadata": {
        "id": "IlUiyV1IX05O"
      },
      "source": [
        "Заменяем слово \"США\" на \"Германию\""
      ]
    },
    {
      "cell_type": "code",
      "metadata": {
        "colab": {
          "base_uri": "https://localhost:8080/"
        },
        "id": "JDHzL7iTXjoX",
        "outputId": "69c865bc-ea35-4519-f0bf-dbaf1deaadf3"
      },
      "source": [
        "str4 = replace(str4,\"США\" => \"Германию\")\n",
        "println(\"\\nСтрока после замены: \")\n",
        "println(str4)"
      ],
      "execution_count": null,
      "outputs": [
        {
          "output_type": "stream",
          "text": [
            "\n",
            "Строка после замены: \n",
            "Я посетил Германию\n"
          ],
          "name": "stdout"
        }
      ]
    },
    {
      "cell_type": "markdown",
      "metadata": {
        "id": "qPm7pJe4YB1W"
      },
      "source": [
        "Разделим предложение на слова, представленные в виде массива"
      ]
    },
    {
      "cell_type": "code",
      "metadata": {
        "colab": {
          "base_uri": "https://localhost:8080/"
        },
        "id": "kBkdjlkYnkhS",
        "outputId": "e3f6b509-1cd3-4a0c-830d-8d884de10a5c"
      },
      "source": [
        "words = split(str4)\n",
        "println(\"Разделение предложения в массив слов:\")\n",
        "println(words)"
      ],
      "execution_count": null,
      "outputs": [
        {
          "output_type": "stream",
          "text": [
            "Разделение предложения в массив слов:\n",
            "SubString{String}[\"Я\", \"посетил\", \"Германию\"]\n"
          ],
          "name": "stdout"
        }
      ]
    },
    {
      "cell_type": "markdown",
      "metadata": {
        "id": "cTbbdrLxYNmw"
      },
      "source": [
        "А теперь снова соединим слова в предложение"
      ]
    },
    {
      "cell_type": "code",
      "metadata": {
        "colab": {
          "base_uri": "https://localhost:8080/"
        },
        "id": "ld1_L5f-YLGq",
        "outputId": "2deba49e-b9bd-48c2-bb0f-65436f080e50"
      },
      "source": [
        "println(\"\\nА теперь объединение слов назад в строку:\")\n",
        "println(join(words,\" \"))"
      ],
      "execution_count": null,
      "outputs": [
        {
          "output_type": "stream",
          "text": [
            "\n",
            "А теперь объединение слов назад в строку:\n",
            "Я посетил Германию\n"
          ],
          "name": "stdout"
        }
      ]
    },
    {
      "cell_type": "markdown",
      "metadata": {
        "id": "hNIclSEIYVT1"
      },
      "source": [
        "Отсортируем слова в алфавитном порядке"
      ]
    },
    {
      "cell_type": "code",
      "metadata": {
        "colab": {
          "base_uri": "https://localhost:8080/"
        },
        "id": "BSDyR8ukpSQA",
        "outputId": "1dd596da-3f87-40ae-e241-7937bd1c1c4a"
      },
      "source": [
        "println(\"Отсортировать в алфавитном порядке:\")\n",
        "println(sort(words,lt=isless))"
      ],
      "execution_count": null,
      "outputs": [
        {
          "output_type": "stream",
          "text": [
            "Отсортировать в алфавитном порядке:\n",
            "SubString{String}[\"Германию\", \"Я\", \"посетил\"]\n"
          ],
          "name": "stdout"
        }
      ]
    },
    {
      "cell_type": "markdown",
      "metadata": {
        "id": "RuU2B_JbqsgE"
      },
      "source": [
        "##Сроки и индексы"
      ]
    },
    {
      "cell_type": "markdown",
      "metadata": {
        "id": "I52Gk23pscww"
      },
      "source": [
        "Чтобы обратиться к  i-ому элементу строки str можно использовать str[i]"
      ]
    },
    {
      "cell_type": "code",
      "metadata": {
        "colab": {
          "base_uri": "https://localhost:8080/"
        },
        "id": "KbigCqWSpi8A",
        "outputId": "33670987-2fee-4429-b1c4-f41e7e433a03"
      },
      "source": [
        "str = \"Привет, мир!\"\n",
        "println(str)\n",
        "println(string(\"Второй элемент строки: \", 'р'))"
      ],
      "execution_count": null,
      "outputs": [
        {
          "output_type": "stream",
          "text": [
            "Привет, мир!\n",
            "Второй элемент строки: р\n"
          ],
          "name": "stdout"
        }
      ]
    },
    {
      "cell_type": "markdown",
      "metadata": {
        "id": "jCpYD1H-tIid"
      },
      "source": [
        "Стоит отметить, что может возникнуть ситуация, когда элемент в строке не будет выводиться данной командой, поскольку он требует больше 1 бита для хранения, и будет выдаваться ошибка. В таком случае есть обход в виде следующей команжды:"
      ]
    },
    {
      "cell_type": "code",
      "metadata": {
        "colab": {
          "base_uri": "https://localhost:8080/"
        },
        "id": "J2_3m2vVs_-I",
        "outputId": "9ae6a461-f540-4fe9-b3d8-68748fe12d72"
      },
      "source": [
        "str = \"Δx = -0.9x\"\n",
        "println(str[nextind(str,1)])"
      ],
      "execution_count": null,
      "outputs": [
        {
          "output_type": "stream",
          "text": [
            "x\n"
          ],
          "name": "stdout"
        }
      ]
    },
    {
      "cell_type": "markdown",
      "metadata": {
        "id": "rzdziea1ts-0"
      },
      "source": [
        "## Проход по всем символам в строке"
      ]
    },
    {
      "cell_type": "code",
      "metadata": {
        "colab": {
          "base_uri": "https://localhost:8080/"
        },
        "id": "0GYLkbsrtdsU",
        "outputId": "757b6b96-03e6-4bef-a16d-b7e506019454"
      },
      "source": [
        "\n",
        "i = 1\n",
        "for j in str               \n",
        "    #global i              \n",
        "    println(i,\" \",j)\n",
        "    i = nextind(str,i)     \n",
        "end"
      ],
      "execution_count": null,
      "outputs": [
        {
          "output_type": "stream",
          "text": [
            "1 Δ\n",
            "3 x\n",
            "4  \n",
            "5 =\n",
            "6  \n",
            "7 -\n",
            "8 0\n",
            "9 .\n",
            "10 9\n",
            "11 x\n"
          ],
          "name": "stdout"
        }
      ]
    },
    {
      "cell_type": "markdown",
      "metadata": {
        "id": "yWQSLxt0w_sT"
      },
      "source": [
        "## Больше общих операций"
      ]
    },
    {
      "cell_type": "markdown",
      "metadata": {
        "id": "2QQnmh5HxOv8"
      },
      "source": [
        "Можно лексикографически сравнивать строки, используя стандартные операторы сравнения:"
      ]
    },
    {
      "cell_type": "code",
      "metadata": {
        "colab": {
          "base_uri": "https://localhost:8080/"
        },
        "id": "CZzTct7GxaS8",
        "outputId": "537f6629-af19-46eb-bb6a-079f53c695eb"
      },
      "source": [
        "\"abracadabra\" < \"xylophone\""
      ],
      "execution_count": null,
      "outputs": [
        {
          "output_type": "execute_result",
          "data": {
            "text/plain": [
              "true"
            ]
          },
          "metadata": {
            "tags": []
          },
          "execution_count": 55
        }
      ]
    },
    {
      "cell_type": "code",
      "metadata": {
        "colab": {
          "base_uri": "https://localhost:8080/"
        },
        "id": "--hMsFW4xcAG",
        "outputId": "d59569ca-6547-41b6-b7ba-041c5ab588aa"
      },
      "source": [
        "\"abracadabra\" == \"xylophone\""
      ],
      "execution_count": null,
      "outputs": [
        {
          "output_type": "execute_result",
          "data": {
            "text/plain": [
              "false"
            ]
          },
          "metadata": {
            "tags": []
          },
          "execution_count": 56
        }
      ]
    },
    {
      "cell_type": "code",
      "metadata": {
        "colab": {
          "base_uri": "https://localhost:8080/"
        },
        "id": "K0sZslqqxeLV",
        "outputId": "0fec71e1-659b-4e10-8a73-17fca65bedaa"
      },
      "source": [
        "\"Hello, world.\" != \"Goodbye, world.\""
      ],
      "execution_count": null,
      "outputs": [
        {
          "output_type": "execute_result",
          "data": {
            "text/plain": [
              "true"
            ]
          },
          "metadata": {
            "tags": []
          },
          "execution_count": 57
        }
      ]
    },
    {
      "cell_type": "code",
      "metadata": {
        "colab": {
          "base_uri": "https://localhost:8080/"
        },
        "id": "KtyhYgOwxg6w",
        "outputId": "16f0aea2-b28d-48af-d3cb-1a55d14f1888"
      },
      "source": [
        "\"1 + 2 = 3\" == \"1 + 2 = $(1 + 2)\""
      ],
      "execution_count": null,
      "outputs": [
        {
          "output_type": "execute_result",
          "data": {
            "text/plain": [
              "true"
            ]
          },
          "metadata": {
            "tags": []
          },
          "execution_count": 58
        }
      ]
    },
    {
      "cell_type": "markdown",
      "metadata": {
        "id": "ZUDYKsIVxrCT"
      },
      "source": [
        "Можно искать индекс конкретного символа, используя функции findfirst и findlast:"
      ]
    },
    {
      "cell_type": "code",
      "metadata": {
        "colab": {
          "base_uri": "https://localhost:8080/"
        },
        "id": "jHHe32yVx-ll",
        "outputId": "f1757a8f-ad33-4f90-d2b9-1e2967d4b991"
      },
      "source": [
        "findfirst(isequal('а'), \"машина\")"
      ],
      "execution_count": null,
      "outputs": [
        {
          "output_type": "execute_result",
          "data": {
            "text/plain": [
              "3"
            ]
          },
          "metadata": {
            "tags": []
          },
          "execution_count": 69
        }
      ]
    },
    {
      "cell_type": "code",
      "metadata": {
        "colab": {
          "base_uri": "https://localhost:8080/"
        },
        "id": "uPu8en_myQEV",
        "outputId": "d66584d4-e99a-4708-cc96-14ca177eb8d2"
      },
      "source": [
        "findlast(isequal('и'), \"велосипед\")"
      ],
      "execution_count": null,
      "outputs": [
        {
          "output_type": "execute_result",
          "data": {
            "text/plain": [
              "11"
            ]
          },
          "metadata": {
            "tags": []
          },
          "execution_count": 67
        }
      ]
    },
    {
      "cell_type": "code",
      "metadata": {
        "colab": {
          "base_uri": "https://localhost:8080/"
        },
        "id": "LH1ni4D6ySaV",
        "outputId": "c09c45ab-5da6-4fe4-837c-519fcc07b82d"
      },
      "source": [
        "findfirst(isequal('т'), \"самолет\")"
      ],
      "execution_count": null,
      "outputs": [
        {
          "output_type": "execute_result",
          "data": {
            "text/plain": [
              "13"
            ]
          },
          "metadata": {
            "tags": []
          },
          "execution_count": 68
        }
      ]
    },
    {
      "cell_type": "markdown",
      "metadata": {
        "id": "CQjPrbaIyeHQ"
      },
      "source": [
        "Можно начать поиск символа по заданному смещению, используя функции findnext и findprev:"
      ]
    },
    {
      "cell_type": "code",
      "metadata": {
        "colab": {
          "base_uri": "https://localhost:8080/"
        },
        "id": "IeLyqSYsyvmS",
        "outputId": "79d199ba-6ced-4bc6-f67c-02c31a90b7e6"
      },
      "source": [
        "findnext(isequal('o'), \"xylophone\", 1)"
      ],
      "execution_count": null,
      "outputs": [
        {
          "output_type": "execute_result",
          "data": {
            "text/plain": [
              "4"
            ]
          },
          "metadata": {
            "tags": []
          },
          "execution_count": 78
        }
      ]
    },
    {
      "cell_type": "code",
      "metadata": {
        "colab": {
          "base_uri": "https://localhost:8080/"
        },
        "id": "y-gbSFPZzbAY",
        "outputId": "e0c174c9-70d1-457a-d8b7-8916a84abdd6"
      },
      "source": [
        "findnext(isequal('o'), \"xylophone\", 5)"
      ],
      "execution_count": null,
      "outputs": [
        {
          "output_type": "execute_result",
          "data": {
            "text/plain": [
              "7"
            ]
          },
          "metadata": {
            "tags": []
          },
          "execution_count": 80
        }
      ]
    },
    {
      "cell_type": "code",
      "metadata": {
        "colab": {
          "base_uri": "https://localhost:8080/"
        },
        "id": "18dd7lM5zeIG",
        "outputId": "122f0adc-3110-4d23-9294-cf8e0202bc65"
      },
      "source": [
        "findprev(isequal('o'), \"xylophone\", 5)"
      ],
      "execution_count": null,
      "outputs": [
        {
          "output_type": "execute_result",
          "data": {
            "text/plain": [
              "4"
            ]
          },
          "metadata": {
            "tags": []
          },
          "execution_count": 81
        }
      ]
    },
    {
      "cell_type": "code",
      "metadata": {
        "id": "CtF7fAJvzf2G"
      },
      "source": [
        "findnext(isequal('o'), \"xylophone\", 8)"
      ],
      "execution_count": null,
      "outputs": []
    },
    {
      "cell_type": "markdown",
      "metadata": {
        "id": "hq49D_T5E2Me"
      },
      "source": [
        "# Функции"
      ]
    },
    {
      "cell_type": "markdown",
      "metadata": {
        "id": "G8ii4HWxE6m1"
      },
      "source": [
        "## Функции с одним выводом"
      ]
    },
    {
      "cell_type": "markdown",
      "metadata": {
        "id": "DPl2q4ufE_2m"
      },
      "source": [
        "В коде часто необходимо выполнять один и тот же набор команд, например мне необходим поиск дискриминанта. Для удобной реализации данных команд лучше всего использовать функции. Базовый подход к написанию функции выглядит следующим образом.\n",
        "\n",
        "\n",
        "\n",
        "```\n",
        "function yourFunction(a, b, c)\n",
        "      ... ваш код\n",
        "      return D\n",
        "end\n",
        "```\n",
        "\n",
        "После того как я определил функцию, я могу вызывать ее в любом удобном для меня месте. Например, \n",
        "\n",
        "```\n",
        "someVariable = yourFunction(1, 2, 4)\n",
        "```\n",
        "\n",
        "В переменной `someVariable` будет храниться значение, полученное в функции `yourFunction` с значениями коэффицентов $1, 2, 4$.\n",
        "\n",
        "Перейду непосредственно к написании функции `Discriminant`, которая на вход берет значения коэффиентов квадратного уравнения $a, b, c$ ($ax^2+bx+c=0$), а на выходе возвращает дискриминант.\n",
        "\n"
      ]
    },
    {
      "cell_type": "code",
      "metadata": {
        "id": "u79XYnJDE4ra",
        "colab": {
          "base_uri": "https://localhost:8080/"
        },
        "outputId": "888131c1-c861-4f40-93e2-d97ebcf95a23"
      },
      "source": [
        "function Discriminant(a, b, c)\n",
        "      D = b^2 - 4 * a * c\n",
        "      return D\n",
        "end"
      ],
      "execution_count": null,
      "outputs": [
        {
          "output_type": "execute_result",
          "data": {
            "text/plain": [
              "Discriminant (generic function with 1 method)"
            ]
          },
          "metadata": {
            "tags": []
          },
          "execution_count": 2
        }
      ]
    },
    {
      "cell_type": "markdown",
      "metadata": {
        "id": "GpMZY1NiHjR0"
      },
      "source": [
        "Рассмотрим простое уравнение $x^2 + 4x + 3$. Дискриминант в нем равен $D = b^2 - 4ac = 4^2 - 4 \\cdot 1 \\cdot 3 = 16 - 12 = 4$. Теперь вызовем написанную функцию с параметрами (1, 4, 3)"
      ]
    },
    {
      "cell_type": "code",
      "metadata": {
        "colab": {
          "base_uri": "https://localhost:8080/"
        },
        "id": "rUJzWHaXH29A",
        "outputId": "5a6abe85-9eef-4433-e2da-d7d9eafb37f6"
      },
      "source": [
        "Discriminant(1, 4, 3)"
      ],
      "execution_count": null,
      "outputs": [
        {
          "output_type": "execute_result",
          "data": {
            "text/plain": [
              "4"
            ]
          },
          "metadata": {
            "tags": []
          },
          "execution_count": 9
        }
      ]
    },
    {
      "cell_type": "markdown",
      "metadata": {
        "id": "iXzL0i4IICey"
      },
      "source": [
        "Получаем заветный ответ 4. Прелесть функций что я могу подставить в нее любые значения коэффицентов, и мне не нужно для этого опять писать один и тот же код. Посмотрим теперь на уравнение $x^2+7x+6=0$"
      ]
    },
    {
      "cell_type": "code",
      "metadata": {
        "colab": {
          "base_uri": "https://localhost:8080/"
        },
        "id": "vQ4jn8pbH-tX",
        "outputId": "38304368-2596-48a7-f5ac-fdd87df81b7b"
      },
      "source": [
        "Discriminant(1, 7, 6)"
      ],
      "execution_count": null,
      "outputs": [
        {
          "output_type": "execute_result",
          "data": {
            "text/plain": [
              "25"
            ]
          },
          "metadata": {
            "tags": []
          },
          "execution_count": 4
        }
      ]
    },
    {
      "cell_type": "markdown",
      "metadata": {
        "id": "UV7vltzwIb0g"
      },
      "source": [
        "### Дефолтные значения для функций"
      ]
    },
    {
      "cell_type": "markdown",
      "metadata": {
        "id": "OcRsETrpIksZ"
      },
      "source": [
        "В Julia можно создавать дефолтные значения для коэффициентов. Представим, что я хочу построить длину доверительного интервала для коэффициентов регрессии. Эмпирически, я знаю что почти всегда мое $t_{crit}$ это по модулю 2 ($t_{crit} = |2|$). Соотвественно, я могу написать функцию, задав необходимое мне значение $t_{crit}$.\n",
        "\n",
        "Замечу, что дефолтные значения должны идти в самом конце входных переменных."
      ]
    },
    {
      "cell_type": "code",
      "metadata": {
        "colab": {
          "base_uri": "https://localhost:8080/"
        },
        "id": "_1ZOe82XIOLn",
        "outputId": "ea1a86f0-d8c5-497e-9329-e9b0a30b326f"
      },
      "source": [
        "function ciLength(se_bhat, t_crit = 2)\n",
        "      ciLength = 2 * se_bhat * t_crit\n",
        "      return ciLength\n",
        "end"
      ],
      "execution_count": null,
      "outputs": [
        {
          "output_type": "execute_result",
          "data": {
            "text/plain": [
              "ciLength (generic function with 2 methods)"
            ]
          },
          "metadata": {
            "tags": []
          },
          "execution_count": 11
        }
      ]
    },
    {
      "cell_type": "markdown",
      "metadata": {
        "id": "4PZr6di3KVxp"
      },
      "source": [
        "Допустим, что $s.e.(\\hat{b}_0) = 0.5$. Посчитаем длину доверительного интервала"
      ]
    },
    {
      "cell_type": "code",
      "metadata": {
        "colab": {
          "base_uri": "https://localhost:8080/"
        },
        "id": "uGKtJsDbIjwN",
        "outputId": "d36fd26f-2640-47fc-8710-bed9c69d5d73"
      },
      "source": [
        "ciLength(0.5)"
      ],
      "execution_count": null,
      "outputs": [
        {
          "output_type": "execute_result",
          "data": {
            "text/plain": [
              "2.0"
            ]
          },
          "metadata": {
            "tags": []
          },
          "execution_count": 12
        }
      ]
    },
    {
      "cell_type": "markdown",
      "metadata": {
        "id": "KcIBtrRqKqRh"
      },
      "source": [
        "Отмечу, что мне не пришлось прописывать дефолтное значение $t_{crit}$. Теперь я могу вызывать данную функцию в любой части моего кода и находить длину доверительного интервала."
      ]
    },
    {
      "cell_type": "markdown",
      "metadata": {
        "id": "q8ZxcvBULFw-"
      },
      "source": [
        "### Функции поэлементно"
      ]
    },
    {
      "cell_type": "markdown",
      "metadata": {
        "id": "-HSoU9c2LQFU"
      },
      "source": [
        "Не всегда бывает ситуация, когда мои критические значения равны $|2|$. Существует случаи, что они равны например, $1.64$, что существенно повлияет на ответ. \n",
        "\n",
        "Теперь я хочу вызывать функцию, перебирая мои возможные искомые значения критических значений: $[1.64, 1.96, 2]$ для следующих стандратных ошибок $[0.5, 0.8, 1.5]$. Соотвественно, стандартной ошибке $0.5$ соотвествует критическое значение $1.64$.\n",
        "\n",
        "На выходе у меня должно получится три значения. Базовый подход для осуществления данной идее выглядит следующим образом. Достаточно, задать списки и подставить точку `.` после функции.\n",
        "\n",
        "```\n",
        "firstArray = [1, 2, 3]\n",
        "secondArray = [4, 5, 6]\n",
        "yourFunction.(firstArray, secondArray)\n",
        "```\n",
        "\n"
      ]
    },
    {
      "cell_type": "code",
      "metadata": {
        "colab": {
          "base_uri": "https://localhost:8080/"
        },
        "id": "JUkAJm-tKn2u",
        "outputId": "0c1f9d95-f9ae-498b-c546-b0d1ef3a0277"
      },
      "source": [
        "seArray = [0.5, 0.8, 1.5]\n",
        "tcritArray = [1.64, 1.96, 2]\n",
        "\n",
        "ciLength.(seArray, tcritArray)"
      ],
      "execution_count": null,
      "outputs": [
        {
          "output_type": "execute_result",
          "data": {
            "text/plain": [
              "3-element Array{Float64,1}:\n",
              " 1.64\n",
              " 3.136\n",
              " 6.0"
            ]
          },
          "metadata": {
            "tags": []
          },
          "execution_count": 14
        }
      ]
    },
    {
      "cell_type": "markdown",
      "metadata": {
        "id": "pt_WcBKxOc0r"
      },
      "source": [
        "Как и ожидалось я получил 3 значения. Для первого случая оно равно 1.64, по сути происходит следующая команда для случая когда индекс равен единице."
      ]
    },
    {
      "cell_type": "code",
      "metadata": {
        "colab": {
          "base_uri": "https://localhost:8080/"
        },
        "id": "Yc8E4uroN29H",
        "outputId": "05200a55-d44c-4b01-c708-d6e27f98c71f"
      },
      "source": [
        "ciLength(seArray[1], tcritArray[1])"
      ],
      "execution_count": null,
      "outputs": [
        {
          "output_type": "execute_result",
          "data": {
            "text/plain": [
              "1.64"
            ]
          },
          "metadata": {
            "tags": []
          },
          "execution_count": 17
        }
      ]
    },
    {
      "cell_type": "markdown",
      "metadata": {
        "id": "EspE6l5pakCv"
      },
      "source": [
        "## Функции с множественным выводом"
      ]
    },
    {
      "cell_type": "markdown",
      "metadata": {
        "id": "DLehpKaka1p_"
      },
      "source": [
        "### Базовый подход для функций с множественным выводом"
      ]
    },
    {
      "cell_type": "markdown",
      "metadata": {
        "id": "iZ8jt5yJccWd"
      },
      "source": [
        "Конечно, функции могут возвращать не только одно значения, а несколько значений. Вернемся к примеру с дискриминантом, теперь мы хотим не только возвращать значения дискримината, но и его корни, реализую это следующим образом."
      ]
    },
    {
      "cell_type": "code",
      "metadata": {
        "colab": {
          "base_uri": "https://localhost:8080/"
        },
        "id": "hSlNnITeaSdh",
        "outputId": "7f9a0272-357e-4b54-8411-f94e27b42fd6"
      },
      "source": [
        "function solveQuadratic(a, b, c)\n",
        "    D = b^2 - 4 * a * c\n",
        "    x1 = (-b - D^0.5) / 2 * a\n",
        "    x2 = (-b + D^0.5) / 2 * a\n",
        "    return D, x1, x2\n",
        "end"
      ],
      "execution_count": null,
      "outputs": [
        {
          "output_type": "execute_result",
          "data": {
            "text/plain": [
              "solveQuadratic (generic function with 1 method)"
            ]
          },
          "metadata": {
            "tags": []
          },
          "execution_count": 20
        }
      ]
    },
    {
      "cell_type": "markdown",
      "metadata": {
        "id": "xu53gBq0j-IL"
      },
      "source": [
        "Теперь, возьмем квадратное выражение, например $x^2 - 8x + 12 = 0$. По теореме Виета очевидно, что корни будут следующими $x_1 = 2, x_2 = 6$. Воспользуемся функцией, чтобы решить данное уравнение."
      ]
    },
    {
      "cell_type": "code",
      "metadata": {
        "colab": {
          "base_uri": "https://localhost:8080/"
        },
        "id": "ivnqsxsPa0M2",
        "outputId": "6ccc197a-b60f-4a64-cdd5-76b9703a5ab8"
      },
      "source": [
        "solveQuadratic(1, -8, 12)"
      ],
      "execution_count": null,
      "outputs": [
        {
          "output_type": "execute_result",
          "data": {
            "text/plain": [
              "(16, 2.0, 6.0)"
            ]
          },
          "metadata": {
            "tags": []
          },
          "execution_count": 21
        }
      ]
    },
    {
      "cell_type": "markdown",
      "metadata": {
        "id": "mP6yWxErkT-A"
      },
      "source": [
        "Получаем искомое значение в формате кортежа. "
      ]
    },
    {
      "cell_type": "markdown",
      "metadata": {
        "id": "1MkqhJJ0kd4e"
      },
      "source": [
        "Допустим, мне нужны только корни уравнения и я не хочу никак видеть дискриминант - он меня сбивает и из-за невнимательности я могу его написать в контрольной. Реализовать это можно следующим образом.\n",
        "\n",
        "\n",
        "\n",
        "```\n",
        "(_, Output1, Output2) = yourFunction(a, b, c)\n",
        "```\n",
        "\n"
      ]
    },
    {
      "cell_type": "code",
      "metadata": {
        "colab": {
          "base_uri": "https://localhost:8080/"
        },
        "id": "hUSmbrnckSzE",
        "outputId": "0db522ba-96ce-4c5e-9ece-f63fccc46d7e"
      },
      "source": [
        "(_, x1, x2) = solveQuadratic(1, -8, 12)\n",
        "println(\"First solution: \", x1, \" | Second solution: \", x2)"
      ],
      "execution_count": null,
      "outputs": [
        {
          "output_type": "stream",
          "text": [
            "First solution: 2.0 | Second solution: 6.0\n"
          ],
          "name": "stdout"
        }
      ]
    },
    {
      "cell_type": "markdown",
      "metadata": {
        "id": "WGNorlT0lBaz"
      },
      "source": [
        "А теперь я хочу получать только дискриминант, без корней выражения. Реализуется это следующим образом"
      ]
    },
    {
      "cell_type": "code",
      "metadata": {
        "colab": {
          "base_uri": "https://localhost:8080/"
        },
        "id": "1qEikXgVksLX",
        "outputId": "b62258c5-d1fe-4073-d9ca-dfaa86cfa103"
      },
      "source": [
        "(D,) = solveQuadratic(1, -8, 12)\n",
        "println(\"Discriminant: \", D)"
      ],
      "execution_count": null,
      "outputs": [
        {
          "output_type": "stream",
          "text": [
            "Discriminant: 16\n"
          ],
          "name": "stdout"
        }
      ]
    },
    {
      "cell_type": "markdown",
      "metadata": {
        "id": "Mhedol0Elh8C"
      },
      "source": [
        "Каждый раз писать в print `First Solution`, `Second solution`, `Discriminant` и так далее немного сложно. К тому же, это может привести к внезапным ошибкам в коде. Лучше задать имена возвращенным значения в функции.\n",
        "\n"
      ]
    },
    {
      "cell_type": "code",
      "metadata": {
        "colab": {
          "base_uri": "https://localhost:8080/"
        },
        "id": "eF1jcRQ4lPj0",
        "outputId": "78690f0d-c418-4cba-a55a-e9cdbb4a56f0"
      },
      "source": [
        "function solveQuadraticWithNames(a, b, c)\n",
        "    D = b^2 - 4 * a * c\n",
        "    x1 = (-b - D^0.5) / 2 * a\n",
        "    x2 = (-b + D^0.5) / 2 * a\n",
        "    solveTuple = (Discriminant = D, x_1 = x1, x_2 = x2)\n",
        "    return solveTuple\n",
        "end"
      ],
      "execution_count": null,
      "outputs": [
        {
          "output_type": "execute_result",
          "data": {
            "text/plain": [
              "solveQuadraticWithNames (generic function with 1 method)"
            ]
          },
          "metadata": {
            "tags": []
          },
          "execution_count": 30
        }
      ]
    },
    {
      "cell_type": "code",
      "metadata": {
        "colab": {
          "base_uri": "https://localhost:8080/"
        },
        "id": "eSBd91MZl_nw",
        "outputId": "7b4849af-418a-43fa-8bf2-e40b470993d4"
      },
      "source": [
        "solveQuadraticWithNames(1, -8, 12)"
      ],
      "execution_count": null,
      "outputs": [
        {
          "output_type": "execute_result",
          "data": {
            "text/plain": [
              "(Discriminant = 16, x_1 = 2.0, x_2 = 6.0)"
            ]
          },
          "metadata": {
            "tags": []
          },
          "execution_count": 31
        }
      ]
    },
    {
      "cell_type": "markdown",
      "metadata": {
        "id": "-vXogPchmC-g"
      },
      "source": [
        "Теперь возвращаются подписанные значения, соотвественно риск что-то напутать в принте минимален и код становится более читаемым."
      ]
    },
    {
      "cell_type": "markdown",
      "metadata": {
        "id": "XsIYHVZ-ml5t"
      },
      "source": [
        "Раньше я писал о том, что можно перебирать список для функции. Попробуем реализовать тоже самое в функции с множественным выводом."
      ]
    },
    {
      "cell_type": "code",
      "metadata": {
        "colab": {
          "base_uri": "https://localhost:8080/"
        },
        "id": "ZCYw61VRmBpX",
        "outputId": "b98d1dc5-d6e0-43d3-bc78-5fc238622d13"
      },
      "source": [
        "solveQuadraticWithNames.([5, 1, 2], 10, 5)"
      ],
      "execution_count": null,
      "outputs": [
        {
          "output_type": "execute_result",
          "data": {
            "text/plain": [
              "3-element Array{NamedTuple{(:Discriminant, :x_1, :x_2),Tuple{Int64,Float64,Float64}},1}:\n",
              " (Discriminant = 0, x_1 = -25.0, x_2 = -25.0)\n",
              " (Discriminant = 80, x_1 = -9.47213595499958, x_2 = -0.5278640450004204)\n",
              " (Discriminant = 60, x_1 = -17.745966692414832, x_2 = -2.254033307585166)"
            ]
          },
          "metadata": {
            "tags": []
          },
          "execution_count": 39
        }
      ]
    },
    {
      "cell_type": "markdown",
      "metadata": {
        "id": "HwjxZVq_nEWH"
      },
      "source": [
        "Конечно,  все работает и для функции с множественным выводом. В данном случае получаем корни уравнений \n",
        "$(1) 5x^2 + 10x + 5 = 0; (2) x^2 + 10x + 5 = 0;  (3) 2x^2+10x+5=0$"
      ]
    },
    {
      "cell_type": "markdown",
      "metadata": {
        "id": "GCwx_kC7oOEc"
      },
      "source": [
        "Пожалуй, это одни из наиболее важных деталей, которые касаются функций в Julia. Далее я перейду к теме Data Containers."
      ]
    },
    {
      "cell_type": "markdown",
      "metadata": {
        "id": "MVgh8f0fobtV"
      },
      "source": [
        "# Data Containers"
      ]
    },
    {
      "cell_type": "markdown",
      "metadata": {
        "id": "OWEY8JYwojMc"
      },
      "source": [
        "## Списки\n",
        "Один из наиболее популярных видов структуры данных."
      ]
    },
    {
      "cell_type": "markdown",
      "metadata": {
        "id": "4dbWeD-1o5yY"
      },
      "source": [
        "Базовый подход к созданию списков через квадратные скобки. Допустим, у меня есть данные о объеме сделок по акциям Сбербанка на московской бирже за 5 дней. Тогда мой список будет выглядить следующим образом."
      ]
    },
    {
      "cell_type": "code",
      "metadata": {
        "colab": {
          "base_uri": "https://localhost:8080/"
        },
        "id": "KILDlF9lodX5",
        "outputId": "91e0c5be-2135-425b-f57d-72bc70988d6b"
      },
      "source": [
        "sberbankArray = [1 2 1 3 4]"
      ],
      "execution_count": null,
      "outputs": [
        {
          "output_type": "execute_result",
          "data": {
            "text/plain": [
              "1×5 Array{Int64,2}:\n",
              " 1  2  1  3  4"
            ]
          },
          "metadata": {
            "tags": []
          },
          "execution_count": 53
        }
      ]
    },
    {
      "cell_type": "markdown",
      "metadata": {
        "id": "jQw4vkymqGyj"
      },
      "source": [
        "Если я хочу узнать объем торгов сбербанком за i-ый день могу воспользоваться следующей командой.\n",
        "\n",
        "\n",
        "```\n",
        "sberbankArray[i]\n",
        "```\n",
        "\n"
      ]
    },
    {
      "cell_type": "markdown",
      "metadata": {
        "id": "2i3x6bluqSf7"
      },
      "source": [
        "Узнаю объем торгов Сбером за первый день"
      ]
    },
    {
      "cell_type": "code",
      "metadata": {
        "colab": {
          "base_uri": "https://localhost:8080/"
        },
        "id": "f8wiiT_eqQhR",
        "outputId": "fabd630a-cc34-4695-af9c-d0ac5d5eba96"
      },
      "source": [
        "sberbankArray[1]"
      ],
      "execution_count": null,
      "outputs": [
        {
          "output_type": "execute_result",
          "data": {
            "text/plain": [
              "1"
            ]
          },
          "metadata": {
            "tags": []
          },
          "execution_count": 43
        }
      ]
    },
    {
      "cell_type": "markdown",
      "metadata": {
        "id": "VaAQkVBPpjNJ"
      },
      "source": [
        "Крокодил Утундрий разведал данные и теперь у меня есть данные и об объемах сделок акциями Facebook и Google за 5 дней. У Facebook $[4, 3, 2, 1, 5]$ миллионов сделок, у Google $[1, 5, 3, 7, 2]$"
      ]
    },
    {
      "cell_type": "code",
      "metadata": {
        "colab": {
          "base_uri": "https://localhost:8080/"
        },
        "id": "zS8b7caPoihB",
        "outputId": "7e1fc24c-3db0-4944-a91d-4cc739702fb0"
      },
      "source": [
        "sellyourdataArray = [4 3 2 1 5;1 5 7 3 2]"
      ],
      "execution_count": null,
      "outputs": [
        {
          "output_type": "execute_result",
          "data": {
            "text/plain": [
              "2×5 Array{Int64,2}:\n",
              " 4  3  2  1  5\n",
              " 1  5  7  3  2"
            ]
          },
          "metadata": {
            "tags": []
          },
          "execution_count": 54
        }
      ]
    },
    {
      "cell_type": "markdown",
      "metadata": {
        "id": "-N-VvIVfqvls"
      },
      "source": [
        "Теперь я могу объединить эти данные для этого создам новый список из двух выше"
      ]
    },
    {
      "cell_type": "code",
      "metadata": {
        "colab": {
          "base_uri": "https://localhost:8080/"
        },
        "id": "xWwZKMiNqjHc",
        "outputId": "eff77381-7a50-418b-e867-a9ab074cd008"
      },
      "source": [
        "stocksArray = [sberbankArray; sellyourdataArray]"
      ],
      "execution_count": null,
      "outputs": [
        {
          "output_type": "execute_result",
          "data": {
            "text/plain": [
              "3×5 Array{Int64,2}:\n",
              " 1  2  1  3  4\n",
              " 4  3  2  1  5\n",
              " 1  5  7  3  2"
            ]
          },
          "metadata": {
            "tags": []
          },
          "execution_count": 55
        }
      ]
    },
    {
      "cell_type": "markdown",
      "metadata": {
        "id": "kSaPXM8Srrcr"
      },
      "source": [
        "Теперь у меня есть список размера 3x5, в котором хранятся объемы сделок по акциям :)"
      ]
    },
    {
      "cell_type": "markdown",
      "metadata": {
        "id": "5toWbm7CsI8B"
      },
      "source": [
        "## Кортежи"
      ]
    },
    {
      "cell_type": "markdown",
      "metadata": {
        "id": "9lB52Fi2savk"
      },
      "source": [
        "Смысл кортежей в том, что они неизменяемые. Кортежи используются как входные и выходные данные в функциях - мы кстати их и использовали, когда работали с функциями"
      ]
    },
    {
      "cell_type": "code",
      "metadata": {
        "colab": {
          "base_uri": "https://localhost:8080/"
        },
        "id": "pWC9xS-qsbEb",
        "outputId": "6631f702-34c7-4ece-9711-d49b6c7b1908"
      },
      "source": [
        "randomArray = rand(1, 3) ### Сгенерируем рандомно список из трех элементов\n",
        "loveJulia = \"I love julia\" ### Создадим string (на русском строковой тип)\n",
        "\n",
        "randomTuple = (randomArray, loveJulia) ### Создаем кортеж или tuple"
      ],
      "execution_count": null,
      "outputs": [
        {
          "output_type": "execute_result",
          "data": {
            "text/plain": [
              "([0.05525510499842401 0.9709768648042698 0.7928867570136211], \"I love julia\")"
            ]
          },
          "metadata": {
            "tags": []
          },
          "execution_count": 59
        }
      ]
    },
    {
      "cell_type": "markdown",
      "metadata": {
        "id": "WCWLyx2YtNIe"
      },
      "source": [
        "В кортеже выше смысла не так много, однако иногда необходимы осознанные кортежи с названиями. Сейчас я создам кортеж, где будет название дискриминанту и корням квадратного уравнения.\n"
      ]
    },
    {
      "cell_type": "code",
      "metadata": {
        "colab": {
          "base_uri": "https://localhost:8080/"
        },
        "id": "qvkELyNBsl7p",
        "outputId": "6a60aaab-b9e3-4212-935e-63fff29cad79"
      },
      "source": [
        "solveTuple = (Discriminant = 10, x_1 = 1, x_2 = 2)"
      ],
      "execution_count": null,
      "outputs": [
        {
          "output_type": "execute_result",
          "data": {
            "text/plain": [
              "(Discriminant = 10, x_1 = 1, x_2 = 2)"
            ]
          },
          "metadata": {
            "tags": []
          },
          "execution_count": 75
        }
      ]
    },
    {
      "cell_type": "markdown",
      "metadata": {
        "id": "G4h0_ssjthSr"
      },
      "source": [
        "Такую же логику мы использовали, когда писали функцию для нахождения корней квадратного уравнения.\n",
        "\n",
        "Конечно, можно найти дискриминант, указав его индекс в кортеже"
      ]
    },
    {
      "cell_type": "code",
      "metadata": {
        "colab": {
          "base_uri": "https://localhost:8080/"
        },
        "id": "MO3oPKl3tlvB",
        "outputId": "c7f0923c-3dcc-41e6-8134-e8497264cd13"
      },
      "source": [
        "solveTuple[1]"
      ],
      "execution_count": null,
      "outputs": [
        {
          "output_type": "execute_result",
          "data": {
            "text/plain": [
              "10"
            ]
          },
          "metadata": {
            "tags": []
          },
          "execution_count": 61
        }
      ]
    },
    {
      "cell_type": "markdown",
      "metadata": {
        "id": "itPfO0DeuBC9"
      },
      "source": [
        "Дискриминант можно найти и иначе, указав его название следующим образом:"
      ]
    },
    {
      "cell_type": "code",
      "metadata": {
        "colab": {
          "base_uri": "https://localhost:8080/"
        },
        "id": "5_AcakW5t_AX",
        "outputId": "43638cf9-52a6-431a-a0e7-07d10d2ff66b"
      },
      "source": [
        "solveTuple.Discriminant"
      ],
      "execution_count": null,
      "outputs": [
        {
          "output_type": "execute_result",
          "data": {
            "text/plain": [
              "10"
            ]
          },
          "metadata": {
            "tags": []
          },
          "execution_count": 69
        }
      ]
    },
    {
      "cell_type": "markdown",
      "metadata": {
        "id": "rDFbh0LItv8E"
      },
      "source": [
        "Или можно достать string или список из первого кортежа"
      ]
    },
    {
      "cell_type": "code",
      "metadata": {
        "colab": {
          "base_uri": "https://localhost:8080/"
        },
        "id": "pWiDi5ietvqj",
        "outputId": "732db1a8-a253-48ac-9a7a-f6236976d9c2"
      },
      "source": [
        "randomTuple[1]"
      ],
      "execution_count": null,
      "outputs": [
        {
          "output_type": "execute_result",
          "data": {
            "text/plain": [
              "1×3 Array{Float64,2}:\n",
              " 0.0552551  0.970977  0.792887"
            ]
          },
          "metadata": {
            "tags": []
          },
          "execution_count": 78
        }
      ]
    },
    {
      "cell_type": "markdown",
      "metadata": {
        "id": "B6e5iBNIub5J"
      },
      "source": [
        "Или loveJulia"
      ]
    },
    {
      "cell_type": "code",
      "metadata": {
        "colab": {
          "base_uri": "https://localhost:8080/"
        },
        "id": "SUSvaVulubpM",
        "outputId": "41ee1bff-3b41-40f6-9406-2a997ad7863f"
      },
      "source": [
        "randomTuple[2]"
      ],
      "execution_count": null,
      "outputs": [
        {
          "output_type": "execute_result",
          "data": {
            "text/plain": [
              "\"I love julia\""
            ]
          },
          "metadata": {
            "tags": []
          },
          "execution_count": 79
        }
      ]
    },
    {
      "cell_type": "markdown",
      "metadata": {
        "id": "_nLijMj4uvYl"
      },
      "source": [
        "Таким образом, мы научились создавать кортежи и вставлять туда списки, данные строчного вида(strings), integers и не только. Более того, мы научились называть данные в кортеже и обращаться к ним."
      ]
    },
    {
      "cell_type": "markdown",
      "metadata": {
        "id": "3OwIzJM6vAIX"
      },
      "source": [
        "## Словарь"
      ]
    },
    {
      "cell_type": "markdown",
      "metadata": {
        "id": "h_561Q6yvNGz"
      },
      "source": [
        "У меня есть название компании на бирже и их тикеры(tickers), например компания Apple называется как ни странно APPLE, однако их тикер на бирже \"AAPL\", у Facebook: \"FB\".\n",
        "\n",
        "Необходимо эти данные структировать в одном месте, для этого используется словари. Словари в Julia создаются по следующему принципу: \n",
        "\n",
        "\n",
        "\n",
        "```\n",
        "yourDict = Dict(\"key\"=>\"value\")\n",
        "```\n",
        "\n"
      ]
    },
    {
      "cell_type": "code",
      "metadata": {
        "colab": {
          "base_uri": "https://localhost:8080/"
        },
        "id": "60Adc_NXtuq0",
        "outputId": "a3af664c-5fe6-4e6c-c104-d3ab3aabc128"
      },
      "source": [
        "stockDict = Dict(\"APPL\"=>\"Apple\", \"FB\"=>\"Facebook\")  "
      ],
      "execution_count": null,
      "outputs": [
        {
          "output_type": "execute_result",
          "data": {
            "text/plain": [
              "Dict{String,String} with 2 entries:\n",
              "  \"FB\"   => \"Facebook\"\n",
              "  \"APPL\" => \"Apple\""
            ]
          },
          "metadata": {
            "tags": []
          },
          "execution_count": 85
        }
      ]
    },
    {
      "cell_type": "markdown",
      "metadata": {
        "id": "M_ps0YXjwhmK"
      },
      "source": [
        "Предположим, что я хочу узнать какой компании принадлежит тикер \"FB\""
      ]
    },
    {
      "cell_type": "code",
      "metadata": {
        "colab": {
          "base_uri": "https://localhost:8080/"
        },
        "id": "tffO6G_PwB20",
        "outputId": "b875c6f5-79a8-49c4-e10a-a14e39d7fbc4"
      },
      "source": [
        "stockDict[\"FB\"]"
      ],
      "execution_count": null,
      "outputs": [
        {
          "output_type": "execute_result",
          "data": {
            "text/plain": [
              "\"Facebook\""
            ]
          },
          "metadata": {
            "tags": []
          },
          "execution_count": 86
        }
      ]
    },
    {
      "cell_type": "markdown",
      "metadata": {
        "id": "67mABTFYwqCl"
      },
      "source": [
        "Теперь знаю, что принадлежит Фейсбуку!"
      ]
    },
    {
      "cell_type": "markdown",
      "metadata": {
        "id": "nCtBMvUnwyWS"
      },
      "source": [
        "Крокодил утундрий узнал новую для нас компанию: Google с тикером \"GOOGL\". Добавим ее в наш словарь."
      ]
    },
    {
      "cell_type": "code",
      "metadata": {
        "colab": {
          "base_uri": "https://localhost:8080/"
        },
        "id": "U5k7I4l8wpZP",
        "outputId": "f19d1541-1196-4560-e520-2dfb394c584c"
      },
      "source": [
        "stockDict[:\"GOOGL\"] = \"Google\""
      ],
      "execution_count": null,
      "outputs": [
        {
          "output_type": "execute_result",
          "data": {
            "text/plain": [
              "\"Google\""
            ]
          },
          "metadata": {
            "tags": []
          },
          "execution_count": 88
        }
      ]
    },
    {
      "cell_type": "markdown",
      "metadata": {
        "id": "hKc03lvSxgt_"
      },
      "source": [
        "Теперь посмотрим на наш словарь"
      ]
    },
    {
      "cell_type": "code",
      "metadata": {
        "colab": {
          "base_uri": "https://localhost:8080/",
          "height": 85
        },
        "id": "G4aoq7svxeoE",
        "outputId": "d40d872a-8b40-4b39-b102-636f06ae0151"
      },
      "source": [
        "display(stockDict)"
      ],
      "execution_count": null,
      "outputs": [
        {
          "output_type": "display_data",
          "data": {
            "text/plain": [
              "Dict{String,String} with 3 entries:\n",
              "  \"GOOGL\" => \"Google\"\n",
              "  \"FB\"    => \"Facebook\"\n",
              "  \"APPL\"  => \"Apple\""
            ]
          },
          "metadata": {
            "tags": []
          }
        }
      ]
    },
    {
      "cell_type": "markdown",
      "metadata": {
        "id": "OOJOaCPOxoCo"
      },
      "source": [
        "Хочу более читаемые данные, тогда воспользуемся циклом и покажем ему что в этих данных есть что."
      ]
    },
    {
      "cell_type": "code",
      "metadata": {
        "colab": {
          "base_uri": "https://localhost:8080/"
        },
        "id": "70yJznZWxfrK",
        "outputId": "14522df2-23a7-48a3-e80d-16b5bf52433b"
      },
      "source": [
        "for (key,value) in stockDict                #loop over a dictionary\n",
        "    println(\"Ticker: \", \"$key | \", \"Company name: \", \"$value\")\n",
        "end"
      ],
      "execution_count": null,
      "outputs": [
        {
          "output_type": "stream",
          "text": [
            "Ticker: GOOGL | Company name: Google\n",
            "Ticker: FB | Company name: Facebook\n",
            "Ticker: APPL | Company name: Apple\n"
          ],
          "name": "stdout"
        }
      ]
    },
    {
      "cell_type": "markdown",
      "metadata": {
        "id": "Tw07kO3GyY9L"
      },
      "source": [
        "## Собственный контейнер"
      ]
    },
    {
      "cell_type": "markdown",
      "metadata": {
        "id": "TGwr72SByb-x"
      },
      "source": [
        "Иногда полезно создать собственный контейнер из данных.\n",
        "\n",
        "Мой тип данных будет состоять из цифр вначале, далее string и далее список. "
      ]
    },
    {
      "cell_type": "code",
      "metadata": {
        "colab": {
          "base_uri": "https://localhost:8080/"
        },
        "id": "96b74-WAyhx0",
        "outputId": "27937c4f-d0ec-4b58-b0fc-2b743c76d8cf"
      },
      "source": [
        "dogAge = 3 \n",
        "dogName = \"Chop\"\n",
        "dogGirlfriendsArray = [\"Sara\", \"Ri\", \"Eric\"]"
      ],
      "execution_count": null,
      "outputs": [
        {
          "output_type": "execute_result",
          "data": {
            "text/plain": [
              "3-element Array{String,1}:\n",
              " \"Sara\"\n",
              " \"Ri\"\n",
              " \"Eric\""
            ]
          },
          "metadata": {
            "tags": []
          },
          "execution_count": 99
        }
      ]
    },
    {
      "cell_type": "markdown",
      "metadata": {
        "id": "io67M8rPzZTE"
      },
      "source": [
        "Создаю данные через struct"
      ]
    },
    {
      "cell_type": "code",
      "metadata": {
        "id": "5oWd6zHXzQvv"
      },
      "source": [
        "struct dog        \n",
        "   dogAge::Int        # Возраст должен быть цифрой\n",
        "   dogName::String    # Имя должно быть string\n",
        "   dogGirlfriendsArray::Array # Список из собак подружек    \n",
        "end"
      ],
      "execution_count": null,
      "outputs": []
    },
    {
      "cell_type": "code",
      "metadata": {
        "colab": {
          "base_uri": "https://localhost:8080/"
        },
        "id": "K9jFqJkzyYX_",
        "outputId": "2fc51a8f-aef3-4815-d908-7d0fdb9c2a7f"
      },
      "source": [
        "Chop = dog(dogAge, dogName, dogGirlfriendsArray)"
      ],
      "execution_count": null,
      "outputs": [
        {
          "output_type": "execute_result",
          "data": {
            "text/plain": [
              "dog(3, \"Chop\", [\"Sara\", \"Ri\", \"Eric\"])"
            ]
          },
          "metadata": {
            "tags": []
          },
          "execution_count": 101
        }
      ]
    },
    {
      "cell_type": "markdown",
      "metadata": {
        "id": "Hlgb6tjBzxhE"
      },
      "source": [
        "Могу легко узнать возраст собаки по кличке Chop"
      ]
    },
    {
      "cell_type": "code",
      "metadata": {
        "colab": {
          "base_uri": "https://localhost:8080/"
        },
        "id": "ADbYhUtOzkF4",
        "outputId": "7bcf8d35-0668-4fef-f001-1ade14391d83"
      },
      "source": [
        "Chop.dogAge"
      ],
      "execution_count": null,
      "outputs": [
        {
          "output_type": "execute_result",
          "data": {
            "text/plain": [
              "3"
            ]
          },
          "metadata": {
            "tags": []
          },
          "execution_count": 102
        }
      ]
    },
    {
      "cell_type": "markdown",
      "metadata": {
        "id": "GQWmlgXpz38i"
      },
      "source": [
        "Узнать его полное имя"
      ]
    },
    {
      "cell_type": "code",
      "metadata": {
        "colab": {
          "base_uri": "https://localhost:8080/"
        },
        "id": "5L6SF03Dz3WY",
        "outputId": "b0d4bfb8-02fe-4d2e-c169-6b62f0ecae02"
      },
      "source": [
        "Chop.dogName"
      ],
      "execution_count": null,
      "outputs": [
        {
          "output_type": "execute_result",
          "data": {
            "text/plain": [
              "\"Chop\""
            ]
          },
          "metadata": {
            "tags": []
          },
          "execution_count": 103
        }
      ]
    },
    {
      "cell_type": "markdown",
      "metadata": {
        "id": "CNmimsTPz8EN"
      },
      "source": [
        "и посмотреть его подружек"
      ]
    },
    {
      "cell_type": "code",
      "metadata": {
        "colab": {
          "base_uri": "https://localhost:8080/"
        },
        "id": "CVyEv_SEz7gY",
        "outputId": "a40b146c-dd4c-4b1b-cea9-9aab24d19ca0"
      },
      "source": [
        "Chop.dogGirlfriendsArray"
      ],
      "execution_count": null,
      "outputs": [
        {
          "output_type": "execute_result",
          "data": {
            "text/plain": [
              "3-element Array{String,1}:\n",
              " \"Sara\"\n",
              " \"Ri\"\n",
              " \"Eric\""
            ]
          },
          "metadata": {
            "tags": []
          },
          "execution_count": 104
        }
      ]
    },
    {
      "cell_type": "markdown",
      "metadata": {
        "id": "iEwNPs4S0BLi"
      },
      "source": [
        "А в финале посмотреть полную карточку собаки Chop"
      ]
    },
    {
      "cell_type": "code",
      "metadata": {
        "colab": {
          "base_uri": "https://localhost:8080/"
        },
        "id": "jlIr3-WXz_M9",
        "outputId": "95ed11cb-4d15-4b72-c85b-c33eb400f983"
      },
      "source": [
        "Chop"
      ],
      "execution_count": null,
      "outputs": [
        {
          "output_type": "execute_result",
          "data": {
            "text/plain": [
              "dog(3, \"Chop\", [\"Sara\", \"Ri\", \"Eric\"])"
            ]
          },
          "metadata": {
            "tags": []
          },
          "execution_count": 105
        }
      ]
    },
    {
      "cell_type": "markdown",
      "metadata": {
        "id": "dcsJEchc0LqJ"
      },
      "source": [
        "Таким образом, создание собственных структур данных часто бывает удобно. Прикладной пример - создание карточки собаки для ветеринарной клиники."
      ]
    },
    {
      "cell_type": "code",
      "metadata": {
        "id": "_DSRl1uPLm3K"
      },
      "source": [
        ""
      ],
      "execution_count": null,
      "outputs": []
    }
  ]
}