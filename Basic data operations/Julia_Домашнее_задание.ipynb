{
 "cells": [
  {
   "cell_type": "markdown",
   "metadata": {
    "id": "si4Pw-AfF3Zi"
   },
   "source": [
    "# Работу выполнили: \n",
    "\n",
    "*   Головизнин Григорий\n",
    "*   Хутиев Рустэм\n",
    "\n"
   ]
  },
  {
   "cell_type": "markdown",
   "metadata": {
    "id": "OM14LFU5FNe3"
   },
   "source": [
    "# Темы:\n",
    "\n",
    "\n",
    "*   Форматы данных\n",
    "*   Строки\n",
    "*   Функции\n",
    "*   Массивы данных\n",
    "\n"
   ]
  },
  {
   "cell_type": "markdown",
   "metadata": {
    "id": "w0ghBeOfWtNt"
   },
   "source": [
    "# Types"
   ]
  },
  {
   "cell_type": "markdown",
   "metadata": {
    "id": "v1FCq64uYKB9"
   },
   "source": [
    "## Некоторые общие слова про форматы данных"
   ]
  },
  {
   "cell_type": "markdown",
   "metadata": {
    "id": "UvD2jRtsYb4q"
   },
   "source": [
    "У Джулии есть много видов переменных: integers (например 3, -10), float numbers (1.0 и -3.9), bools (Trure / False) и bitarrays (схожи с bool переменными, но они эффективнее используют память компьютера) , строки («привет»), даты (2021-01-25) и многие другие. "
   ]
  },
  {
   "cell_type": "markdown",
   "metadata": {
    "id": "CNJsO-KUbIok"
   },
   "source": [
    "## Integers and Floats"
   ]
  },
  {
   "cell_type": "code",
   "execution_count": null,
   "metadata": {
    "colab": {
     "base_uri": "https://localhost:8080/"
    },
    "id": "t6ZSeuAbbNVW",
    "outputId": "56324535-177d-458c-8a27-3e9a5daa1cdc"
   },
   "outputs": [
    {
     "name": "stdout",
     "output_type": "stream",
     "text": [
      "a: Int64\n",
      "5\n",
      "\n",
      "b: Float64\n",
      "5.0\n",
      "\n",
      "A: Array{Int64,1}\n",
      "[1, 2]\n",
      "\n",
      "B: Array{Float64,1}\n",
      "[1.0, 2.0]\n"
     ]
    }
   ],
   "source": [
    "a = 5                   #integer, Int (Int64 в большинстве случаев)\n",
    "b = 5.0                 #floating point, (Float64 в большинстве случаев)\n",
    "A = [1;2]\n",
    "B = [1.0;2.0]\n",
    "\n",
    "# Проверим командой typeof форматы данных\n",
    "\n",
    "println(\"a: \",typeof(a))\n",
    "println(a)\n",
    "\n",
    "println(\"\\nb: \",typeof(b))\n",
    "println(b)\n",
    "\n",
    "println(\"\\nA: \",typeof(A))\n",
    "println(A)\n",
    "\n",
    "println(\"\\nB: \",typeof(B))\n",
    "println(B)"
   ]
  },
  {
   "cell_type": "markdown",
   "metadata": {
    "id": "NuEZdbDjcMGV"
   },
   "source": [
    "## Bools and BitArrays"
   ]
  },
  {
   "cell_type": "code",
   "execution_count": null,
   "metadata": {
    "colab": {
     "base_uri": "https://localhost:8080/"
    },
    "id": "A2ZaapDCcLmh",
    "outputId": "753c798d-854f-4039-ac5c-421d0781a4d3"
   },
   "outputs": [
    {
     "name": "stdout",
     "output_type": "stream",
     "text": [
      "c: Bool\n",
      "true\n",
      "\n",
      "C: BitArray{1}\n",
      "Bool[0, 1]\n",
      "BitArray более экономичная версия Bool.\n",
      "Заметьте, что typeof(C[1]) gives: Bool\n"
     ]
    }
   ],
   "source": [
    "A = [1;2]\n",
    "c = 5 > 1.1\n",
    "println(\"c: \",typeof(c))\n",
    "println(c)\n",
    "\n",
    "C = A .> 1.5\n",
    "println(\"\\nC: \",typeof(C))\n",
    "println(C)\n",
    "\n",
    "println(\"BitArray более экономичная версия Bool.\\n\",\n",
    "        \"Заметьте, что typeof(C[1]) gives: \",typeof(C[1]))\n"
   ]
  },
  {
   "cell_type": "markdown",
   "metadata": {
    "id": "lFRLU7NVdXaX"
   },
   "source": [
    "Стоит заметить, что, чтобы что-либо применялось к списку не как к одному объекту, а ко всем элементам списка (что верно и для других массивов), необходимо использовать точку после массива."
   ]
  },
  {
   "cell_type": "markdown",
   "metadata": {
    "id": "ZhvNesOUdh1x"
   },
   "source": [
    "## Операции с переменными разных форматов и изменение форматов"
   ]
  },
  {
   "cell_type": "markdown",
   "metadata": {
    "id": "mLHPCqjLd23p"
   },
   "source": [
    "Выполнение операции суммирования \"integer\" + \"float\" работает, и в результате получается число формата float. Подобным образом сумма bool + integer даст integer"
   ]
  },
  {
   "cell_type": "code",
   "execution_count": null,
   "metadata": {
    "colab": {
     "base_uri": "https://localhost:8080/"
    },
    "id": "KNz694OQd2JG",
    "outputId": "9a358ffe-daf2-4ea4-8741-8b08a33a33ed"
   },
   "outputs": [
    {
     "name": "stdout",
     "output_type": "stream",
     "text": [
      "Int + Float64: 42.0\n",
      "Bool + Int: 2\n"
     ]
    }
   ],
   "source": [
    "println(\"Int + Float64: \",15 + 27.0)\n",
    "println(\"Bool + Int: \",(10 .> 0) + 1)"
   ]
  },
  {
   "cell_type": "markdown",
   "metadata": {
    "id": "7ipxbZ1oeVhV"
   },
   "source": [
    "## Перевод формата из Int в Float и наоборот"
   ]
  },
  {
   "cell_type": "code",
   "execution_count": null,
   "metadata": {
    "colab": {
     "base_uri": "https://localhost:8080/"
    },
    "id": "P6cNDzZTeewj",
    "outputId": "6a326c55-d7fe-4ea2-ce8d-992ddc202db6"
   },
   "outputs": [
    {
     "name": "stdout",
     "output_type": "stream",
     "text": [
      "A: Array{Float64,1}\n",
      "[2.5, 5.3, 100.1]\n",
      "Округление A в Int: Array{Int64,1}\n",
      "[2, 5, 100]\n",
      "B: Array{Int64,1}\n",
      "[5, 6]\n",
      "После перевода B в Float64: Array{Float64,1}\n",
      "[5.0, 6.0]\n"
     ]
    }
   ],
   "source": [
    "A = [2.5 ; 5.3; 100.1]\n",
    "println(\"A: \",typeof(A))\n",
    "println(A)\n",
    "\n",
    "A_to_Int = round.(Int,A)                     #Float64 -> Int by rounding\n",
    "println(\"Округление A в Int: \",typeof(A_to_Int))\n",
    "println(A_to_Int)\n",
    "\n",
    "B = [5;6]\n",
    "println(\"B: \",typeof(B))\n",
    "println(B)\n",
    "\n",
    "B_to_Float64 = convert.(Float64,B)            #Int -> Float64\n",
    "println(\"После перевода B в Float64: \",typeof(B_to_Float64))\n",
    "println(B_to_Float64)                       #Float64.(A) также работает"
   ]
  },
  {
   "cell_type": "markdown",
   "metadata": {
    "id": "JVvzhfYGYbBm"
   },
   "source": [
    "## Перевод из Bool и BitArrays в Int и наоборот "
   ]
  },
  {
   "cell_type": "code",
   "execution_count": null,
   "metadata": {
    "colab": {
     "base_uri": "https://localhost:8080/"
    },
    "id": "B62M0DWJhMca",
    "outputId": "0ed1ec51-d765-49d8-8865-95c77a11fe7d"
   },
   "outputs": [
    {
     "name": "stdout",
     "output_type": "stream",
     "text": [
      "Array{Int64,1}\n",
      "[0, 1, 1]\n",
      "BitArray{1}\n",
      "Bool[1, 0, 1]\n"
     ]
    }
   ],
   "source": [
    "A = [3.9 ; 7.3; 20.1]\n",
    "C = A .> 5\n",
    "C_to_Int = convert.(Int,C)               #BitArray -> Int\n",
    "println(typeof(C_to_Int))                #Int.(C) также работает\n",
    "println(C_to_Int)\n",
    "\n",
    "D = [1;0;1]\n",
    "D_to_Bool = convert.(Bool,D)              #Int -> BitArray\n",
    "println(typeof(D_to_Bool))                #Bool.(D) также работает\n",
    "println(D_to_Bool)"
   ]
  },
  {
   "cell_type": "markdown",
   "metadata": {
    "id": "d95Q9cPSiSqX"
   },
   "source": [
    "## Проверка типа переменной"
   ]
  },
  {
   "cell_type": "markdown",
   "metadata": {
    "id": "iL_eR7hSiYj5"
   },
   "source": [
    "Самый простой способ проверить, принадлежит ли переменная определенному типу - это использовать функцию isa(variable, Type).  Тип в функции может быть представлен также в виде массива из нескольких типов. Примеры ниже."
   ]
  },
  {
   "cell_type": "code",
   "execution_count": null,
   "metadata": {
    "colab": {
     "base_uri": "https://localhost:8080/"
    },
    "id": "L-D9xvz9i-XB",
    "outputId": "caeae95d-d8d2-4050-ef84-95e251a0d25a"
   },
   "outputs": [
    {
     "name": "stdout",
     "output_type": "stream",
     "text": [
      "2.5 is a Number: true\n",
      "2.5 is an Int: false\n",
      "2.5 is an Int or a Float64: true\n",
      "[3.5, 6.5] is a Float64: false\n",
      "[3.5, 6.5] is an Array: true\n"
     ]
    }
   ],
   "source": [
    "A = 2.5\n",
    "B = [3.5,6.5]\n",
    "\n",
    "println(\"$A is a Number: \",isa(A,Number))\n",
    "println(\"$A is an Int: \",isa(A,Int))\n",
    "println(\"$A is an Int or a Float64: \",isa(A,Union{Int,Float64}))\n",
    "\n",
    "println(\"$B is a Float64: \",isa(B,Float64))\n",
    "println(\"$B is an Array: \",isa(B,Array))"
   ]
  },
  {
   "cell_type": "markdown",
   "metadata": {
    "id": "L2osrpd5lNpa"
   },
   "source": [
    "# Строки"
   ]
  },
  {
   "cell_type": "markdown",
   "metadata": {
    "id": "BCUfJYPzlas4"
   },
   "source": [
    "## Базовые операции"
   ]
  },
  {
   "cell_type": "markdown",
   "metadata": {
    "id": "WvqdMzNilqNQ"
   },
   "source": [
    "\n",
    "Далее будет показано, как:\n",
    "\n",
    "*   соединять несколько строк в одну строку, используя string(str1, str2) или str1 * str2\n",
    "*   проверять, содержит ли строка конкретную подстроку\n",
    "*   заменять часть строки чем-либо\n",
    "*   разделять строку в массив слов (и затем объединять их назад в строку)\n",
    "*   сортировать вектор слов в алфавитном порядке\n"
   ]
  },
  {
   "cell_type": "code",
   "execution_count": null,
   "metadata": {
    "colab": {
     "base_uri": "https://localhost:8080/"
    },
    "id": "A5kzDFHbiPwG",
    "outputId": "0b77b2bd-10ef-4138-d015-b01d6f56eeea"
   },
   "outputs": [
    {
     "name": "stdout",
     "output_type": "stream",
     "text": [
      "Привет Мир!\n",
      "Как твои дела?\n"
     ]
    }
   ],
   "source": [
    "str1 = \"Привет\"\n",
    "str2 = \"Мир!\\n\"\n",
    "str3 = \"Как твои дела?\"\n",
    "\n",
    "new_str = string(str1,\" \",str2,str3)          #объединить в одну строку\n",
    "println(new_str)"
   ]
  },
  {
   "cell_type": "code",
   "execution_count": null,
   "metadata": {
    "colab": {
     "base_uri": "https://localhost:8080/"
    },
    "id": "HhpPf3dYhwdG",
    "outputId": "c2e48ebc-7d44-481b-ec2a-98c319340d5d"
   },
   "outputs": [
    {
     "name": "stdout",
     "output_type": "stream",
     "text": [
      "Предложение\n",
      "Я посетил США\n",
      "содержит слово 'США'\n",
      "\n",
      "Строка после замены: \n",
      "Я посетил Германию\n"
     ]
    }
   ],
   "source": [
    "str4 = \"Я посетил США\"\n",
    "\n",
    "if occursin(\"США\",str4)\n",
    "    println(\"Предложение\")\n",
    "    println(str4)\n",
    "    println(\"содержит слово 'США'\")\n",
    "end\n",
    "\n",
    "str4 = replace(str4,\"США\" => \"Германию\")\n",
    "println(\"\\nСтрока после замены: \")\n",
    "println(str4)"
   ]
  },
  {
   "cell_type": "code",
   "execution_count": null,
   "metadata": {
    "colab": {
     "base_uri": "https://localhost:8080/"
    },
    "id": "kBkdjlkYnkhS",
    "outputId": "1f2149ad-2f5f-49d6-9601-e9fa1f0f1741"
   },
   "outputs": [
    {
     "name": "stdout",
     "output_type": "stream",
     "text": [
      "Разделение предложения в массив слов:\n",
      "SubString{String}[\"Я\", \"посетил\", \"Германию\"]\n",
      "\n",
      "А теперь объединение слов назад в строку:\n",
      "Я посетил Германию\n"
     ]
    }
   ],
   "source": [
    "words = split(str4)\n",
    "println(\"Разделение предложения в массив слов:\")\n",
    "println(words)\n",
    "\n",
    "println(\"\\nА теперь объединение слов назад в строку:\")\n",
    "println(join(words,\" \"))\n"
   ]
  },
  {
   "cell_type": "code",
   "execution_count": null,
   "metadata": {
    "colab": {
     "base_uri": "https://localhost:8080/"
    },
    "id": "BSDyR8ukpSQA",
    "outputId": "db50f981-38b4-45b1-d638-5a74ee0f38a2"
   },
   "outputs": [
    {
     "name": "stdout",
     "output_type": "stream",
     "text": [
      "Отсортировать в алфавитном порядке:\n",
      "SubString{String}[\"Германию\", \"Я\", \"посетил\"]\n"
     ]
    }
   ],
   "source": [
    "println(\"Отсортировать в алфавитном порядке:\")\n",
    "println(sort(words,lt=isless))"
   ]
  },
  {
   "cell_type": "markdown",
   "metadata": {
    "id": "RuU2B_JbqsgE"
   },
   "source": [
    "## Сроки и индексы"
   ]
  },
  {
   "cell_type": "markdown",
   "metadata": {
    "id": "I52Gk23pscww"
   },
   "source": [
    "Чтобы обратиться к  i-ому элементу строки str можно использовать str[i]"
   ]
  },
  {
   "cell_type": "code",
   "execution_count": null,
   "metadata": {
    "colab": {
     "base_uri": "https://localhost:8080/"
    },
    "id": "KbigCqWSpi8A",
    "outputId": "33670987-2fee-4429-b1c4-f41e7e433a03"
   },
   "outputs": [
    {
     "name": "stdout",
     "output_type": "stream",
     "text": [
      "Привет, мир!\n",
      "Второй элемент строки: р\n"
     ]
    }
   ],
   "source": [
    "str = \"Привет, мир!\"\n",
    "println(str)\n",
    "println(string(\"Второй элемент строки: \", 'р'))"
   ]
  },
  {
   "cell_type": "markdown",
   "metadata": {
    "id": "jCpYD1H-tIid"
   },
   "source": [
    "Стоит отметить, что может возникнуть ситуация, когда элемент в строке не будет выводиться данной командой, поскольку он требует больше 1 бита для хранения, и будет выдаваться ошибка. В таком случае есть обход в виде следующей команжды:"
   ]
  },
  {
   "cell_type": "code",
   "execution_count": null,
   "metadata": {
    "colab": {
     "base_uri": "https://localhost:8080/"
    },
    "id": "J2_3m2vVs_-I",
    "outputId": "9ae6a461-f540-4fe9-b3d8-68748fe12d72"
   },
   "outputs": [
    {
     "name": "stdout",
     "output_type": "stream",
     "text": [
      "x\n"
     ]
    }
   ],
   "source": [
    "str = \"Δx = -0.9x\"\n",
    "println(str[nextind(str,1)])"
   ]
  },
  {
   "cell_type": "markdown",
   "metadata": {
    "id": "rzdziea1ts-0"
   },
   "source": [
    "## Проход по всем символам в строке"
   ]
  },
  {
   "cell_type": "code",
   "execution_count": null,
   "metadata": {
    "colab": {
     "base_uri": "https://localhost:8080/"
    },
    "id": "0GYLkbsrtdsU",
    "outputId": "757b6b96-03e6-4bef-a16d-b7e506019454"
   },
   "outputs": [
    {
     "name": "stdout",
     "output_type": "stream",
     "text": [
      "1 Δ\n",
      "3 x\n",
      "4  \n",
      "5 =\n",
      "6  \n",
      "7 -\n",
      "8 0\n",
      "9 .\n",
      "10 9\n",
      "11 x\n"
     ]
    }
   ],
   "source": [
    "\n",
    "i = 1\n",
    "for j in str               \n",
    "    #global i              \n",
    "    println(i,\" \",j)\n",
    "    i = nextind(str,i)     \n",
    "end"
   ]
  },
  {
   "cell_type": "markdown",
   "metadata": {
    "id": "yWQSLxt0w_sT"
   },
   "source": [
    "## Больше общих операций"
   ]
  },
  {
   "cell_type": "markdown",
   "metadata": {
    "id": "2QQnmh5HxOv8"
   },
   "source": [
    "Можно лексикографически сравнивать строки, используя стандартные операторы сравнения:"
   ]
  },
  {
   "cell_type": "code",
   "execution_count": null,
   "metadata": {
    "colab": {
     "base_uri": "https://localhost:8080/"
    },
    "id": "CZzTct7GxaS8",
    "outputId": "537f6629-af19-46eb-bb6a-079f53c695eb"
   },
   "outputs": [
    {
     "data": {
      "text/plain": [
       "true"
      ]
     },
     "execution_count": 55,
     "metadata": {
      "tags": []
     },
     "output_type": "execute_result"
    }
   ],
   "source": [
    "\"abracadabra\" < \"xylophone\""
   ]
  },
  {
   "cell_type": "code",
   "execution_count": null,
   "metadata": {
    "colab": {
     "base_uri": "https://localhost:8080/"
    },
    "id": "--hMsFW4xcAG",
    "outputId": "d59569ca-6547-41b6-b7ba-041c5ab588aa"
   },
   "outputs": [
    {
     "data": {
      "text/plain": [
       "false"
      ]
     },
     "execution_count": 56,
     "metadata": {
      "tags": []
     },
     "output_type": "execute_result"
    }
   ],
   "source": [
    "\"abracadabra\" == \"xylophone\""
   ]
  },
  {
   "cell_type": "code",
   "execution_count": null,
   "metadata": {
    "colab": {
     "base_uri": "https://localhost:8080/"
    },
    "id": "K0sZslqqxeLV",
    "outputId": "0fec71e1-659b-4e10-8a73-17fca65bedaa"
   },
   "outputs": [
    {
     "data": {
      "text/plain": [
       "true"
      ]
     },
     "execution_count": 57,
     "metadata": {
      "tags": []
     },
     "output_type": "execute_result"
    }
   ],
   "source": [
    "\"Hello, world.\" != \"Goodbye, world.\""
   ]
  },
  {
   "cell_type": "code",
   "execution_count": null,
   "metadata": {
    "colab": {
     "base_uri": "https://localhost:8080/"
    },
    "id": "KtyhYgOwxg6w",
    "outputId": "16f0aea2-b28d-48af-d3cb-1a55d14f1888"
   },
   "outputs": [
    {
     "data": {
      "text/plain": [
       "true"
      ]
     },
     "execution_count": 58,
     "metadata": {
      "tags": []
     },
     "output_type": "execute_result"
    }
   ],
   "source": [
    "\"1 + 2 = 3\" == \"1 + 2 = $(1 + 2)\""
   ]
  },
  {
   "cell_type": "markdown",
   "metadata": {
    "id": "ZUDYKsIVxrCT"
   },
   "source": [
    "Можно искать индекс конкретного символа, используя функции findfirst и findlast:"
   ]
  },
  {
   "cell_type": "code",
   "execution_count": null,
   "metadata": {
    "colab": {
     "base_uri": "https://localhost:8080/"
    },
    "id": "jHHe32yVx-ll",
    "outputId": "f1757a8f-ad33-4f90-d2b9-1e2967d4b991"
   },
   "outputs": [
    {
     "data": {
      "text/plain": [
       "3"
      ]
     },
     "execution_count": 69,
     "metadata": {
      "tags": []
     },
     "output_type": "execute_result"
    }
   ],
   "source": [
    "findfirst(isequal('а'), \"машина\")"
   ]
  },
  {
   "cell_type": "code",
   "execution_count": null,
   "metadata": {
    "colab": {
     "base_uri": "https://localhost:8080/"
    },
    "id": "uPu8en_myQEV",
    "outputId": "d66584d4-e99a-4708-cc96-14ca177eb8d2"
   },
   "outputs": [
    {
     "data": {
      "text/plain": [
       "11"
      ]
     },
     "execution_count": 67,
     "metadata": {
      "tags": []
     },
     "output_type": "execute_result"
    }
   ],
   "source": [
    "findlast(isequal('и'), \"велосипед\")"
   ]
  },
  {
   "cell_type": "code",
   "execution_count": null,
   "metadata": {
    "colab": {
     "base_uri": "https://localhost:8080/"
    },
    "id": "LH1ni4D6ySaV",
    "outputId": "c09c45ab-5da6-4fe4-837c-519fcc07b82d"
   },
   "outputs": [
    {
     "data": {
      "text/plain": [
       "13"
      ]
     },
     "execution_count": 68,
     "metadata": {
      "tags": []
     },
     "output_type": "execute_result"
    }
   ],
   "source": [
    "findfirst(isequal('т'), \"самолет\")"
   ]
  },
  {
   "cell_type": "markdown",
   "metadata": {
    "id": "CQjPrbaIyeHQ"
   },
   "source": [
    "Можно начать поиск символа по заданному смещению, используя функции findnext и findprev:"
   ]
  },
  {
   "cell_type": "code",
   "execution_count": null,
   "metadata": {
    "colab": {
     "base_uri": "https://localhost:8080/"
    },
    "id": "IeLyqSYsyvmS",
    "outputId": "79d199ba-6ced-4bc6-f67c-02c31a90b7e6"
   },
   "outputs": [
    {
     "data": {
      "text/plain": [
       "4"
      ]
     },
     "execution_count": 78,
     "metadata": {
      "tags": []
     },
     "output_type": "execute_result"
    }
   ],
   "source": [
    "findnext(isequal('o'), \"xylophone\", 1)"
   ]
  },
  {
   "cell_type": "code",
   "execution_count": null,
   "metadata": {
    "colab": {
     "base_uri": "https://localhost:8080/"
    },
    "id": "y-gbSFPZzbAY",
    "outputId": "e0c174c9-70d1-457a-d8b7-8916a84abdd6"
   },
   "outputs": [
    {
     "data": {
      "text/plain": [
       "7"
      ]
     },
     "execution_count": 80,
     "metadata": {
      "tags": []
     },
     "output_type": "execute_result"
    }
   ],
   "source": [
    "findnext(isequal('o'), \"xylophone\", 5)"
   ]
  },
  {
   "cell_type": "code",
   "execution_count": null,
   "metadata": {
    "colab": {
     "base_uri": "https://localhost:8080/"
    },
    "id": "18dd7lM5zeIG",
    "outputId": "122f0adc-3110-4d23-9294-cf8e0202bc65"
   },
   "outputs": [
    {
     "data": {
      "text/plain": [
       "4"
      ]
     },
     "execution_count": 81,
     "metadata": {
      "tags": []
     },
     "output_type": "execute_result"
    }
   ],
   "source": [
    "findprev(isequal('o'), \"xylophone\", 5)"
   ]
  },
  {
   "cell_type": "code",
   "execution_count": null,
   "metadata": {
    "id": "CtF7fAJvzf2G"
   },
   "outputs": [],
   "source": [
    "findnext(isequal('o'), \"xylophone\", 8)"
   ]
  },
  {
   "cell_type": "markdown",
   "metadata": {
    "id": "hq49D_T5E2Me"
   },
   "source": [
    "# Функции"
   ]
  },
  {
   "cell_type": "markdown",
   "metadata": {
    "id": "G8ii4HWxE6m1"
   },
   "source": [
    "## Функции с одним выводом"
   ]
  },
  {
   "cell_type": "markdown",
   "metadata": {
    "id": "DPl2q4ufE_2m"
   },
   "source": [
    "В коде часто необходимо выполнять один и тот же набор команд, например мне необходим поиск дискриминанта. Для удобной реализации данных команд лучше всего использовать функции. Базовый подход к написанию функции выглядит следующим образом.\n",
    "\n",
    "\n",
    "\n",
    "```\n",
    "function yourFunction(a, b, c)\n",
    "      ... ваш код\n",
    "      return D\n",
    "end\n",
    "```\n",
    "\n",
    "После того как я определил функцию, я могу вызывать ее в любом удобном для меня месте. Например, \n",
    "\n",
    "```\n",
    "someVariable = yourFunction(1, 2, 4)\n",
    "```\n",
    "\n",
    "В переменной `someVariable` будет храниться значение, полученное в функции `yourFunction` с значениями коэффицентов $1, 2, 4$.\n",
    "\n",
    "Перейду непосредственно к написании функции `Discriminant`, которая на вход берет значения коэффиентов квадратного уравнения $a, b, c$ ($ax^2+bx+c=0$), а на выходе возвращает дискриминант.\n",
    "\n"
   ]
  },
  {
   "cell_type": "code",
   "execution_count": null,
   "metadata": {
    "colab": {
     "base_uri": "https://localhost:8080/"
    },
    "id": "u79XYnJDE4ra",
    "outputId": "888131c1-c861-4f40-93e2-d97ebcf95a23"
   },
   "outputs": [
    {
     "data": {
      "text/plain": [
       "Discriminant (generic function with 1 method)"
      ]
     },
     "execution_count": 2,
     "metadata": {
      "tags": []
     },
     "output_type": "execute_result"
    }
   ],
   "source": [
    "function Discriminant(a, b, c)\n",
    "      D = b^2 - 4 * a * c\n",
    "      return D\n",
    "end"
   ]
  },
  {
   "cell_type": "markdown",
   "metadata": {
    "id": "GpMZY1NiHjR0"
   },
   "source": [
    "Рассмотрим простое уравнение $x^2 + 4x + 3$. Дискриминант в нем равен $D = b^2 - 4ac = 4^2 - 4 \\cdot 1 \\cdot 3 = 16 - 12 = 4$. Теперь вызовем написанную функцию с параметрами (1, 4, 3)"
   ]
  },
  {
   "cell_type": "code",
   "execution_count": null,
   "metadata": {
    "colab": {
     "base_uri": "https://localhost:8080/"
    },
    "id": "rUJzWHaXH29A",
    "outputId": "5a6abe85-9eef-4433-e2da-d7d9eafb37f6"
   },
   "outputs": [
    {
     "data": {
      "text/plain": [
       "4"
      ]
     },
     "execution_count": 9,
     "metadata": {
      "tags": []
     },
     "output_type": "execute_result"
    }
   ],
   "source": [
    "Discriminant(1, 4, 3)"
   ]
  },
  {
   "cell_type": "markdown",
   "metadata": {
    "id": "iXzL0i4IICey"
   },
   "source": [
    "Получаем заветный ответ 4. Прелесть функций что я могу подставить в нее любые значения коэффицентов, и мне не нужно для этого опять писать один и тот же код. Посмотрим теперь на уравнение $x^2+7x+6=0$"
   ]
  },
  {
   "cell_type": "code",
   "execution_count": null,
   "metadata": {
    "colab": {
     "base_uri": "https://localhost:8080/"
    },
    "id": "vQ4jn8pbH-tX",
    "outputId": "38304368-2596-48a7-f5ac-fdd87df81b7b"
   },
   "outputs": [
    {
     "data": {
      "text/plain": [
       "25"
      ]
     },
     "execution_count": 4,
     "metadata": {
      "tags": []
     },
     "output_type": "execute_result"
    }
   ],
   "source": [
    "Discriminant(1, 7, 6)"
   ]
  },
  {
   "cell_type": "markdown",
   "metadata": {
    "id": "UV7vltzwIb0g"
   },
   "source": [
    "### Дефолтные значения для функций"
   ]
  },
  {
   "cell_type": "markdown",
   "metadata": {
    "id": "OcRsETrpIksZ"
   },
   "source": [
    "В Julia можно создавать дефолтные значения для коэффициентов. Представим, что я хочу построить длину доверительного интервала для коэффициентов регрессии. Эмпирически, я знаю что почти всегда мое $t_{crit}$ это по модулю 2 ($t_{crit} = |2|$). Соотвественно, я могу написать функцию, задав необходимое мне значение $t_{crit}$.\n",
    "\n",
    "Замечу, что дефолтные значения должны идти в самом конце входных переменных."
   ]
  },
  {
   "cell_type": "code",
   "execution_count": null,
   "metadata": {
    "colab": {
     "base_uri": "https://localhost:8080/"
    },
    "id": "_1ZOe82XIOLn",
    "outputId": "ea1a86f0-d8c5-497e-9329-e9b0a30b326f"
   },
   "outputs": [
    {
     "data": {
      "text/plain": [
       "ciLength (generic function with 2 methods)"
      ]
     },
     "execution_count": 11,
     "metadata": {
      "tags": []
     },
     "output_type": "execute_result"
    }
   ],
   "source": [
    "function ciLength(se_bhat, t_crit = 2)\n",
    "      ciLength = 2 * se_bhat * t_crit\n",
    "      return ciLength\n",
    "end"
   ]
  },
  {
   "cell_type": "markdown",
   "metadata": {
    "id": "4PZr6di3KVxp"
   },
   "source": [
    "Допустим, что $s.e.(\\hat{b}_0) = 0.5$. Посчитаем длину доверительного интервала"
   ]
  },
  {
   "cell_type": "code",
   "execution_count": null,
   "metadata": {
    "colab": {
     "base_uri": "https://localhost:8080/"
    },
    "id": "uGKtJsDbIjwN",
    "outputId": "d36fd26f-2640-47fc-8710-bed9c69d5d73"
   },
   "outputs": [
    {
     "data": {
      "text/plain": [
       "2.0"
      ]
     },
     "execution_count": 12,
     "metadata": {
      "tags": []
     },
     "output_type": "execute_result"
    }
   ],
   "source": [
    "ciLength(0.5)"
   ]
  },
  {
   "cell_type": "markdown",
   "metadata": {
    "id": "KcIBtrRqKqRh"
   },
   "source": [
    "Отмечу, что мне не пришлось прописывать дефолтное значение $t_{crit}$. Теперь я могу вызывать данную функцию в любой части моего кода и находить длину доверительного интервала."
   ]
  },
  {
   "cell_type": "markdown",
   "metadata": {
    "id": "q8ZxcvBULFw-"
   },
   "source": [
    "### Функции поэлементно"
   ]
  },
  {
   "cell_type": "markdown",
   "metadata": {
    "id": "-HSoU9c2LQFU"
   },
   "source": [
    "Не всегда бывает ситуация, когда мои критические значения равны $|2|$. Существует случаи, что они равны например, $1.64$, что существенно повлияет на ответ. \n",
    "\n",
    "Теперь я хочу вызывать функцию, перебирая мои возможные искомые значения критических значений: $[1.64, 1.96, 2]$ для следующих стандратных ошибок $[0.5, 0.8, 1.5]$. Соотвественно, стандартной ошибке $0.5$ соотвествует критическое значение $1.64$.\n",
    "\n",
    "На выходе у меня должно получится три значения. Базовый подход для осуществления данной идее выглядит следующим образом. Достаточно, задать списки и подставить точку `.` после функции.\n",
    "\n",
    "```\n",
    "firstArray = [1, 2, 3]\n",
    "secondArray = [4, 5, 6]\n",
    "yourFunction.(firstArray, secondArray)\n",
    "```\n",
    "\n"
   ]
  },
  {
   "cell_type": "code",
   "execution_count": null,
   "metadata": {
    "colab": {
     "base_uri": "https://localhost:8080/"
    },
    "id": "JUkAJm-tKn2u",
    "outputId": "0c1f9d95-f9ae-498b-c546-b0d1ef3a0277"
   },
   "outputs": [
    {
     "data": {
      "text/plain": [
       "3-element Array{Float64,1}:\n",
       " 1.64\n",
       " 3.136\n",
       " 6.0"
      ]
     },
     "execution_count": 14,
     "metadata": {
      "tags": []
     },
     "output_type": "execute_result"
    }
   ],
   "source": [
    "seArray = [0.5, 0.8, 1.5]\n",
    "tcritArray = [1.64, 1.96, 2]\n",
    "\n",
    "ciLength.(seArray, tcritArray)"
   ]
  },
  {
   "cell_type": "markdown",
   "metadata": {
    "id": "pt_WcBKxOc0r"
   },
   "source": [
    "Как и ожидалось я получил 3 значения. Для первого случая оно равно 1.64, по сути происходит следующая команда для случая когда индекс равен единице."
   ]
  },
  {
   "cell_type": "code",
   "execution_count": null,
   "metadata": {
    "colab": {
     "base_uri": "https://localhost:8080/"
    },
    "id": "Yc8E4uroN29H",
    "outputId": "05200a55-d44c-4b01-c708-d6e27f98c71f"
   },
   "outputs": [
    {
     "data": {
      "text/plain": [
       "1.64"
      ]
     },
     "execution_count": 17,
     "metadata": {
      "tags": []
     },
     "output_type": "execute_result"
    }
   ],
   "source": [
    "ciLength(seArray[1], tcritArray[1])"
   ]
  },
  {
   "cell_type": "markdown",
   "metadata": {
    "id": "EspE6l5pakCv"
   },
   "source": [
    "## Функции с множественным выводом"
   ]
  },
  {
   "cell_type": "markdown",
   "metadata": {
    "id": "DLehpKaka1p_"
   },
   "source": [
    "### Базовый подход для функций с множественным выводом"
   ]
  },
  {
   "cell_type": "markdown",
   "metadata": {
    "id": "iZ8jt5yJccWd"
   },
   "source": [
    "Конечно, функции могут возвращать не только одно значения, а несколько значений. Вернемся к примеру с дискриминантом, теперь мы хотим не только возвращать значения дискримината, но и его корни, реализую это следующим образом."
   ]
  },
  {
   "cell_type": "code",
   "execution_count": null,
   "metadata": {
    "colab": {
     "base_uri": "https://localhost:8080/"
    },
    "id": "hSlNnITeaSdh",
    "outputId": "7f9a0272-357e-4b54-8411-f94e27b42fd6"
   },
   "outputs": [
    {
     "data": {
      "text/plain": [
       "solveQuadratic (generic function with 1 method)"
      ]
     },
     "execution_count": 20,
     "metadata": {
      "tags": []
     },
     "output_type": "execute_result"
    }
   ],
   "source": [
    "function solveQuadratic(a, b, c)\n",
    "    D = b^2 - 4 * a * c\n",
    "    x1 = (-b - D^0.5) / 2 * a\n",
    "    x2 = (-b + D^0.5) / 2 * a\n",
    "    return D, x1, x2\n",
    "end"
   ]
  },
  {
   "cell_type": "markdown",
   "metadata": {
    "id": "xu53gBq0j-IL"
   },
   "source": [
    "Теперь, возьмем квадратное выражение, например $x^2 - 8x + 12 = 0$. По теореме Виета очевидно, что корни будут следующими $x_1 = 2, x_2 = 6$. Воспользуемся функцией, чтобы решить данное уравнение."
   ]
  },
  {
   "cell_type": "code",
   "execution_count": null,
   "metadata": {
    "colab": {
     "base_uri": "https://localhost:8080/"
    },
    "id": "ivnqsxsPa0M2",
    "outputId": "6ccc197a-b60f-4a64-cdd5-76b9703a5ab8"
   },
   "outputs": [
    {
     "data": {
      "text/plain": [
       "(16, 2.0, 6.0)"
      ]
     },
     "execution_count": 21,
     "metadata": {
      "tags": []
     },
     "output_type": "execute_result"
    }
   ],
   "source": [
    "solveQuadratic(1, -8, 12)"
   ]
  },
  {
   "cell_type": "markdown",
   "metadata": {
    "id": "mP6yWxErkT-A"
   },
   "source": [
    "Получаем искомое значение в формате кортежа. "
   ]
  },
  {
   "cell_type": "markdown",
   "metadata": {
    "id": "1MkqhJJ0kd4e"
   },
   "source": [
    "Допустим, мне нужны только корни уравнения и я не хочу никак видеть дискриминант - он меня сбивает и из-за невнимательности я могу его написать в контрольной. Реализовать это можно следующим образом.\n",
    "\n",
    "\n",
    "\n",
    "```\n",
    "(_, Output1, Output2) = yourFunction(a, b, c)\n",
    "```\n",
    "\n"
   ]
  },
  {
   "cell_type": "code",
   "execution_count": null,
   "metadata": {
    "colab": {
     "base_uri": "https://localhost:8080/"
    },
    "id": "hUSmbrnckSzE",
    "outputId": "0db522ba-96ce-4c5e-9ece-f63fccc46d7e"
   },
   "outputs": [
    {
     "name": "stdout",
     "output_type": "stream",
     "text": [
      "First solution: 2.0 | Second solution: 6.0\n"
     ]
    }
   ],
   "source": [
    "(_, x1, x2) = solveQuadratic(1, -8, 12)\n",
    "println(\"First solution: \", x1, \" | Second solution: \", x2)"
   ]
  },
  {
   "cell_type": "markdown",
   "metadata": {
    "id": "WGNorlT0lBaz"
   },
   "source": [
    "А теперь я хочу получать только дискриминант, без корней выражения. Реализуется это следующим образом"
   ]
  },
  {
   "cell_type": "code",
   "execution_count": null,
   "metadata": {
    "colab": {
     "base_uri": "https://localhost:8080/"
    },
    "id": "1qEikXgVksLX",
    "outputId": "b62258c5-d1fe-4073-d9ca-dfaa86cfa103"
   },
   "outputs": [
    {
     "name": "stdout",
     "output_type": "stream",
     "text": [
      "Discriminant: 16\n"
     ]
    }
   ],
   "source": [
    "(D,) = solveQuadratic(1, -8, 12)\n",
    "println(\"Discriminant: \", D)"
   ]
  },
  {
   "cell_type": "markdown",
   "metadata": {
    "id": "Mhedol0Elh8C"
   },
   "source": [
    "Каждый раз писать в print `First Solution`, `Second solution`, `Discriminant` и так далее немного сложно. К тому же, это может привести к внезапным ошибкам в коде. Лучше задать имена возвращенным значения в функции.\n",
    "\n"
   ]
  },
  {
   "cell_type": "code",
   "execution_count": null,
   "metadata": {
    "colab": {
     "base_uri": "https://localhost:8080/"
    },
    "id": "eF1jcRQ4lPj0",
    "outputId": "78690f0d-c418-4cba-a55a-e9cdbb4a56f0"
   },
   "outputs": [
    {
     "data": {
      "text/plain": [
       "solveQuadraticWithNames (generic function with 1 method)"
      ]
     },
     "execution_count": 30,
     "metadata": {
      "tags": []
     },
     "output_type": "execute_result"
    }
   ],
   "source": [
    "function solveQuadraticWithNames(a, b, c)\n",
    "    D = b^2 - 4 * a * c\n",
    "    x1 = (-b - D^0.5) / 2 * a\n",
    "    x2 = (-b + D^0.5) / 2 * a\n",
    "    solveTuple = (Discriminant = D, x_1 = x1, x_2 = x2)\n",
    "    return solveTuple\n",
    "end"
   ]
  },
  {
   "cell_type": "code",
   "execution_count": null,
   "metadata": {
    "colab": {
     "base_uri": "https://localhost:8080/"
    },
    "id": "eSBd91MZl_nw",
    "outputId": "7b4849af-418a-43fa-8bf2-e40b470993d4"
   },
   "outputs": [
    {
     "data": {
      "text/plain": [
       "(Discriminant = 16, x_1 = 2.0, x_2 = 6.0)"
      ]
     },
     "execution_count": 31,
     "metadata": {
      "tags": []
     },
     "output_type": "execute_result"
    }
   ],
   "source": [
    "solveQuadraticWithNames(1, -8, 12)"
   ]
  },
  {
   "cell_type": "markdown",
   "metadata": {
    "id": "-vXogPchmC-g"
   },
   "source": [
    "Теперь возвращаются подписанные значения, соотвественно риск что-то напутать в принте минимален и код становится более читаемым."
   ]
  },
  {
   "cell_type": "markdown",
   "metadata": {
    "id": "XsIYHVZ-ml5t"
   },
   "source": [
    "Раньше я писал о том, что можно перебирать список для функции. Попробуем реализовать тоже самое в функции с множественным выводом."
   ]
  },
  {
   "cell_type": "code",
   "execution_count": null,
   "metadata": {
    "colab": {
     "base_uri": "https://localhost:8080/"
    },
    "id": "ZCYw61VRmBpX",
    "outputId": "b98d1dc5-d6e0-43d3-bc78-5fc238622d13"
   },
   "outputs": [
    {
     "data": {
      "text/plain": [
       "3-element Array{NamedTuple{(:Discriminant, :x_1, :x_2),Tuple{Int64,Float64,Float64}},1}:\n",
       " (Discriminant = 0, x_1 = -25.0, x_2 = -25.0)\n",
       " (Discriminant = 80, x_1 = -9.47213595499958, x_2 = -0.5278640450004204)\n",
       " (Discriminant = 60, x_1 = -17.745966692414832, x_2 = -2.254033307585166)"
      ]
     },
     "execution_count": 39,
     "metadata": {
      "tags": []
     },
     "output_type": "execute_result"
    }
   ],
   "source": [
    "solveQuadraticWithNames.([5, 1, 2], 10, 5)"
   ]
  },
  {
   "cell_type": "markdown",
   "metadata": {
    "id": "HwjxZVq_nEWH"
   },
   "source": [
    "Конечно,  все работает и для функции с множественным выводом. В данном случае получаем корни уравнений \n",
    "$(1) 5x^2 + 10x + 5 = 0; (2) x^2 + 10x + 5 = 0;  (3) 2x^2+10x+5=0$"
   ]
  },
  {
   "cell_type": "markdown",
   "metadata": {
    "id": "GCwx_kC7oOEc"
   },
   "source": [
    "Пожалуй, это одни из наиболее важных деталей, которые касаются функций в Julia. Далее я перейду к теме Data Containers."
   ]
  },
  {
   "cell_type": "markdown",
   "metadata": {
    "id": "MVgh8f0fobtV"
   },
   "source": [
    "# Data Containers"
   ]
  },
  {
   "cell_type": "markdown",
   "metadata": {
    "id": "OWEY8JYwojMc"
   },
   "source": [
    "## Списки\n",
    "Один из наиболее популярных видов структуры данных."
   ]
  },
  {
   "cell_type": "markdown",
   "metadata": {
    "id": "4dbWeD-1o5yY"
   },
   "source": [
    "Базовый подход к созданию списков через квадратные скобки. Допустим, у меня есть данные о объеме сделок по акциям Сбербанка на московской бирже за 5 дней. Тогда мой список будет выглядить следующим образом."
   ]
  },
  {
   "cell_type": "code",
   "execution_count": null,
   "metadata": {
    "colab": {
     "base_uri": "https://localhost:8080/"
    },
    "id": "KILDlF9lodX5",
    "outputId": "91e0c5be-2135-425b-f57d-72bc70988d6b"
   },
   "outputs": [
    {
     "data": {
      "text/plain": [
       "1×5 Array{Int64,2}:\n",
       " 1  2  1  3  4"
      ]
     },
     "execution_count": 53,
     "metadata": {
      "tags": []
     },
     "output_type": "execute_result"
    }
   ],
   "source": [
    "sberbankArray = [1 2 1 3 4]"
   ]
  },
  {
   "cell_type": "markdown",
   "metadata": {
    "id": "jQw4vkymqGyj"
   },
   "source": [
    "Если я хочу узнать объем торгов сбербанком за i-ый день могу воспользоваться следующей командой.\n",
    "\n",
    "\n",
    "```\n",
    "sberbankArray[i]\n",
    "```\n",
    "\n"
   ]
  },
  {
   "cell_type": "markdown",
   "metadata": {
    "id": "2i3x6bluqSf7"
   },
   "source": [
    "Узнаю объем торгов Сбером за первый день"
   ]
  },
  {
   "cell_type": "code",
   "execution_count": null,
   "metadata": {
    "colab": {
     "base_uri": "https://localhost:8080/"
    },
    "id": "f8wiiT_eqQhR",
    "outputId": "fabd630a-cc34-4695-af9c-d0ac5d5eba96"
   },
   "outputs": [
    {
     "data": {
      "text/plain": [
       "1"
      ]
     },
     "execution_count": 43,
     "metadata": {
      "tags": []
     },
     "output_type": "execute_result"
    }
   ],
   "source": [
    "sberbankArray[1]"
   ]
  },
  {
   "cell_type": "markdown",
   "metadata": {
    "id": "VaAQkVBPpjNJ"
   },
   "source": [
    "Крокодил Утундрий разведал данные и теперь у меня есть данные и об объемах сделок акциями Facebook и Google за 5 дней. У Facebook $[4, 3, 2, 1, 5]$ миллионов сделок, у Google $[1, 5, 3, 7, 2]$"
   ]
  },
  {
   "cell_type": "code",
   "execution_count": null,
   "metadata": {
    "colab": {
     "base_uri": "https://localhost:8080/"
    },
    "id": "zS8b7caPoihB",
    "outputId": "7e1fc24c-3db0-4944-a91d-4cc739702fb0"
   },
   "outputs": [
    {
     "data": {
      "text/plain": [
       "2×5 Array{Int64,2}:\n",
       " 4  3  2  1  5\n",
       " 1  5  7  3  2"
      ]
     },
     "execution_count": 54,
     "metadata": {
      "tags": []
     },
     "output_type": "execute_result"
    }
   ],
   "source": [
    "sellyourdataArray = [4 3 2 1 5;1 5 7 3 2]"
   ]
  },
  {
   "cell_type": "markdown",
   "metadata": {
    "id": "-N-VvIVfqvls"
   },
   "source": [
    "Теперь я могу объединить эти данные для этого создам новый список из двух выше"
   ]
  },
  {
   "cell_type": "code",
   "execution_count": null,
   "metadata": {
    "colab": {
     "base_uri": "https://localhost:8080/"
    },
    "id": "xWwZKMiNqjHc",
    "outputId": "eff77381-7a50-418b-e867-a9ab074cd008"
   },
   "outputs": [
    {
     "data": {
      "text/plain": [
       "3×5 Array{Int64,2}:\n",
       " 1  2  1  3  4\n",
       " 4  3  2  1  5\n",
       " 1  5  7  3  2"
      ]
     },
     "execution_count": 55,
     "metadata": {
      "tags": []
     },
     "output_type": "execute_result"
    }
   ],
   "source": [
    "stocksArray = [sberbankArray; sellyourdataArray]"
   ]
  },
  {
   "cell_type": "markdown",
   "metadata": {
    "id": "kSaPXM8Srrcr"
   },
   "source": [
    "Теперь у меня есть список размера 3x5, в котором хранятся объемы сделок по акциям :)"
   ]
  },
  {
   "cell_type": "markdown",
   "metadata": {
    "id": "5toWbm7CsI8B"
   },
   "source": [
    "## Кортежи"
   ]
  },
  {
   "cell_type": "markdown",
   "metadata": {
    "id": "9lB52Fi2savk"
   },
   "source": [
    "Смысл кортежей в том, что они неизменяемые. Кортежи используются как входные и выходные данные в функциях - мы кстати их и использовали, когда работали с функциями"
   ]
  },
  {
   "cell_type": "code",
   "execution_count": null,
   "metadata": {
    "colab": {
     "base_uri": "https://localhost:8080/"
    },
    "id": "pWC9xS-qsbEb",
    "outputId": "6631f702-34c7-4ece-9711-d49b6c7b1908"
   },
   "outputs": [
    {
     "data": {
      "text/plain": [
       "([0.05525510499842401 0.9709768648042698 0.7928867570136211], \"I love julia\")"
      ]
     },
     "execution_count": 59,
     "metadata": {
      "tags": []
     },
     "output_type": "execute_result"
    }
   ],
   "source": [
    "randomArray = rand(1, 3) ### Сгенерируем рандомно список из трех элементов\n",
    "loveJulia = \"I love julia\" ### Создадим string (на русском строковой тип)\n",
    "\n",
    "randomTuple = (randomArray, loveJulia) ### Создаем кортеж или tuple"
   ]
  },
  {
   "cell_type": "markdown",
   "metadata": {
    "id": "WCWLyx2YtNIe"
   },
   "source": [
    "В кортеже выше смысла не так много, однако иногда необходимы осознанные кортежи с названиями. Сейчас я создам кортеж, где будет название дискриминанту и корням квадратного уравнения.\n"
   ]
  },
  {
   "cell_type": "code",
   "execution_count": null,
   "metadata": {
    "colab": {
     "base_uri": "https://localhost:8080/"
    },
    "id": "qvkELyNBsl7p",
    "outputId": "6a60aaab-b9e3-4212-935e-63fff29cad79"
   },
   "outputs": [
    {
     "data": {
      "text/plain": [
       "(Discriminant = 10, x_1 = 1, x_2 = 2)"
      ]
     },
     "execution_count": 75,
     "metadata": {
      "tags": []
     },
     "output_type": "execute_result"
    }
   ],
   "source": [
    "solveTuple = (Discriminant = 10, x_1 = 1, x_2 = 2)"
   ]
  },
  {
   "cell_type": "markdown",
   "metadata": {
    "id": "G4h0_ssjthSr"
   },
   "source": [
    "Такую же логику мы использовали, когда писали функцию для нахождения корней квадратного уравнения.\n",
    "\n",
    "Конечно, можно найти дискриминант, указав его индекс в кортеже"
   ]
  },
  {
   "cell_type": "code",
   "execution_count": null,
   "metadata": {
    "colab": {
     "base_uri": "https://localhost:8080/"
    },
    "id": "MO3oPKl3tlvB",
    "outputId": "c7f0923c-3dcc-41e6-8134-e8497264cd13"
   },
   "outputs": [
    {
     "data": {
      "text/plain": [
       "10"
      ]
     },
     "execution_count": 61,
     "metadata": {
      "tags": []
     },
     "output_type": "execute_result"
    }
   ],
   "source": [
    "solveTuple[1]"
   ]
  },
  {
   "cell_type": "markdown",
   "metadata": {
    "id": "itPfO0DeuBC9"
   },
   "source": [
    "Дискриминант можно найти и иначе, указав его название следующим образом:"
   ]
  },
  {
   "cell_type": "code",
   "execution_count": null,
   "metadata": {
    "colab": {
     "base_uri": "https://localhost:8080/"
    },
    "id": "5_AcakW5t_AX",
    "outputId": "43638cf9-52a6-431a-a0e7-07d10d2ff66b"
   },
   "outputs": [
    {
     "data": {
      "text/plain": [
       "10"
      ]
     },
     "execution_count": 69,
     "metadata": {
      "tags": []
     },
     "output_type": "execute_result"
    }
   ],
   "source": [
    "solveTuple.Discriminant"
   ]
  },
  {
   "cell_type": "markdown",
   "metadata": {
    "id": "rDFbh0LItv8E"
   },
   "source": [
    "Или можно достать string или список из первого кортежа"
   ]
  },
  {
   "cell_type": "code",
   "execution_count": null,
   "metadata": {
    "colab": {
     "base_uri": "https://localhost:8080/"
    },
    "id": "pWiDi5ietvqj",
    "outputId": "732db1a8-a253-48ac-9a7a-f6236976d9c2"
   },
   "outputs": [
    {
     "data": {
      "text/plain": [
       "1×3 Array{Float64,2}:\n",
       " 0.0552551  0.970977  0.792887"
      ]
     },
     "execution_count": 78,
     "metadata": {
      "tags": []
     },
     "output_type": "execute_result"
    }
   ],
   "source": [
    "randomTuple[1]"
   ]
  },
  {
   "cell_type": "markdown",
   "metadata": {
    "id": "B6e5iBNIub5J"
   },
   "source": [
    "Или loveJulia"
   ]
  },
  {
   "cell_type": "code",
   "execution_count": null,
   "metadata": {
    "colab": {
     "base_uri": "https://localhost:8080/"
    },
    "id": "SUSvaVulubpM",
    "outputId": "41ee1bff-3b41-40f6-9406-2a997ad7863f"
   },
   "outputs": [
    {
     "data": {
      "text/plain": [
       "\"I love julia\""
      ]
     },
     "execution_count": 79,
     "metadata": {
      "tags": []
     },
     "output_type": "execute_result"
    }
   ],
   "source": [
    "randomTuple[2]"
   ]
  },
  {
   "cell_type": "markdown",
   "metadata": {
    "id": "_nLijMj4uvYl"
   },
   "source": [
    "Таким образом, мы научились создавать кортежи и вставлять туда списки, данные строчного вида(strings), integers и не только. Более того, мы научились называть данные в кортеже и обращаться к ним."
   ]
  },
  {
   "cell_type": "markdown",
   "metadata": {
    "id": "3OwIzJM6vAIX"
   },
   "source": [
    "## Словарь"
   ]
  },
  {
   "cell_type": "markdown",
   "metadata": {
    "id": "h_561Q6yvNGz"
   },
   "source": [
    "У меня есть название компании на бирже и их тикеры(tickers), например компания Apple называется как ни странно APPLE, однако их тикер на бирже \"AAPL\", у Facebook: \"FB\".\n",
    "\n",
    "Необходимо эти данные структировать в одном месте, для этого используется словари. Словари в Julia создаются по следующему принципу: \n",
    "\n",
    "\n",
    "\n",
    "```\n",
    "yourDict = Dict(\"key\"=>\"value\")\n",
    "```\n",
    "\n"
   ]
  },
  {
   "cell_type": "code",
   "execution_count": null,
   "metadata": {
    "colab": {
     "base_uri": "https://localhost:8080/"
    },
    "id": "60Adc_NXtuq0",
    "outputId": "a3af664c-5fe6-4e6c-c104-d3ab3aabc128"
   },
   "outputs": [
    {
     "data": {
      "text/plain": [
       "Dict{String,String} with 2 entries:\n",
       "  \"FB\"   => \"Facebook\"\n",
       "  \"APPL\" => \"Apple\""
      ]
     },
     "execution_count": 85,
     "metadata": {
      "tags": []
     },
     "output_type": "execute_result"
    }
   ],
   "source": [
    "stockDict = Dict(\"APPL\"=>\"Apple\", \"FB\"=>\"Facebook\")  "
   ]
  },
  {
   "cell_type": "markdown",
   "metadata": {
    "id": "M_ps0YXjwhmK"
   },
   "source": [
    "Предположим, что я хочу узнать какой компании принадлежит тикер \"FB\""
   ]
  },
  {
   "cell_type": "code",
   "execution_count": null,
   "metadata": {
    "colab": {
     "base_uri": "https://localhost:8080/"
    },
    "id": "tffO6G_PwB20",
    "outputId": "b875c6f5-79a8-49c4-e10a-a14e39d7fbc4"
   },
   "outputs": [
    {
     "data": {
      "text/plain": [
       "\"Facebook\""
      ]
     },
     "execution_count": 86,
     "metadata": {
      "tags": []
     },
     "output_type": "execute_result"
    }
   ],
   "source": [
    "stockDict[\"FB\"]"
   ]
  },
  {
   "cell_type": "markdown",
   "metadata": {
    "id": "67mABTFYwqCl"
   },
   "source": [
    "Теперь знаю, что принадлежит Фейсбуку!"
   ]
  },
  {
   "cell_type": "markdown",
   "metadata": {
    "id": "nCtBMvUnwyWS"
   },
   "source": [
    "Крокодил утундрий узнал новую для нас компанию: Google с тикером \"GOOGL\". Добавим ее в наш словарь."
   ]
  },
  {
   "cell_type": "code",
   "execution_count": null,
   "metadata": {
    "colab": {
     "base_uri": "https://localhost:8080/"
    },
    "id": "U5k7I4l8wpZP",
    "outputId": "f19d1541-1196-4560-e520-2dfb394c584c"
   },
   "outputs": [
    {
     "data": {
      "text/plain": [
       "\"Google\""
      ]
     },
     "execution_count": 88,
     "metadata": {
      "tags": []
     },
     "output_type": "execute_result"
    }
   ],
   "source": [
    "stockDict[:\"GOOGL\"] = \"Google\""
   ]
  },
  {
   "cell_type": "markdown",
   "metadata": {
    "id": "hKc03lvSxgt_"
   },
   "source": [
    "Теперь посмотрим на наш словарь"
   ]
  },
  {
   "cell_type": "code",
   "execution_count": null,
   "metadata": {
    "colab": {
     "base_uri": "https://localhost:8080/",
     "height": 85
    },
    "id": "G4aoq7svxeoE",
    "outputId": "d40d872a-8b40-4b39-b102-636f06ae0151"
   },
   "outputs": [
    {
     "data": {
      "text/plain": [
       "Dict{String,String} with 3 entries:\n",
       "  \"GOOGL\" => \"Google\"\n",
       "  \"FB\"    => \"Facebook\"\n",
       "  \"APPL\"  => \"Apple\""
      ]
     },
     "metadata": {
      "tags": []
     },
     "output_type": "display_data"
    }
   ],
   "source": [
    "display(stockDict)"
   ]
  },
  {
   "cell_type": "markdown",
   "metadata": {
    "id": "OOJOaCPOxoCo"
   },
   "source": [
    "Хочу более читаемые данные, тогда воспользуемся циклом и покажем ему что в этих данных есть что."
   ]
  },
  {
   "cell_type": "code",
   "execution_count": null,
   "metadata": {
    "colab": {
     "base_uri": "https://localhost:8080/"
    },
    "id": "70yJznZWxfrK",
    "outputId": "14522df2-23a7-48a3-e80d-16b5bf52433b"
   },
   "outputs": [
    {
     "name": "stdout",
     "output_type": "stream",
     "text": [
      "Ticker: GOOGL | Company name: Google\n",
      "Ticker: FB | Company name: Facebook\n",
      "Ticker: APPL | Company name: Apple\n"
     ]
    }
   ],
   "source": [
    "for (key,value) in stockDict                #loop over a dictionary\n",
    "    println(\"Ticker: \", \"$key | \", \"Company name: \", \"$value\")\n",
    "end"
   ]
  },
  {
   "cell_type": "markdown",
   "metadata": {
    "id": "Tw07kO3GyY9L"
   },
   "source": [
    "## Собственный контейнер"
   ]
  },
  {
   "cell_type": "markdown",
   "metadata": {
    "id": "TGwr72SByb-x"
   },
   "source": [
    "Иногда полезно создать собственный контейнер из данных.\n",
    "\n",
    "Мой тип данных будет состоять из цифр вначале, далее string и далее список. "
   ]
  },
  {
   "cell_type": "code",
   "execution_count": null,
   "metadata": {
    "colab": {
     "base_uri": "https://localhost:8080/"
    },
    "id": "96b74-WAyhx0",
    "outputId": "27937c4f-d0ec-4b58-b0fc-2b743c76d8cf"
   },
   "outputs": [
    {
     "data": {
      "text/plain": [
       "3-element Array{String,1}:\n",
       " \"Sara\"\n",
       " \"Ri\"\n",
       " \"Eric\""
      ]
     },
     "execution_count": 99,
     "metadata": {
      "tags": []
     },
     "output_type": "execute_result"
    }
   ],
   "source": [
    "dogAge = 3 \n",
    "dogName = \"Chop\"\n",
    "dogGirlfriendsArray = [\"Sara\", \"Ri\", \"Eric\"]"
   ]
  },
  {
   "cell_type": "markdown",
   "metadata": {
    "id": "io67M8rPzZTE"
   },
   "source": [
    "Создаю данные через struct"
   ]
  },
  {
   "cell_type": "code",
   "execution_count": null,
   "metadata": {
    "id": "5oWd6zHXzQvv"
   },
   "outputs": [],
   "source": [
    "struct dog        \n",
    "   dogAge::Int        # Возраст должен быть цифрой\n",
    "   dogName::String    # Имя должно быть string\n",
    "   dogGirlfriendsArray::Array # Список из собак подружек    \n",
    "end"
   ]
  },
  {
   "cell_type": "code",
   "execution_count": null,
   "metadata": {
    "colab": {
     "base_uri": "https://localhost:8080/"
    },
    "id": "K9jFqJkzyYX_",
    "outputId": "2fc51a8f-aef3-4815-d908-7d0fdb9c2a7f"
   },
   "outputs": [
    {
     "data": {
      "text/plain": [
       "dog(3, \"Chop\", [\"Sara\", \"Ri\", \"Eric\"])"
      ]
     },
     "execution_count": 101,
     "metadata": {
      "tags": []
     },
     "output_type": "execute_result"
    }
   ],
   "source": [
    "Chop = dog(dogAge, dogName, dogGirlfriendsArray)"
   ]
  },
  {
   "cell_type": "markdown",
   "metadata": {
    "id": "Hlgb6tjBzxhE"
   },
   "source": [
    "Могу легко узнать возраст собаки по кличке Chop"
   ]
  },
  {
   "cell_type": "code",
   "execution_count": null,
   "metadata": {
    "colab": {
     "base_uri": "https://localhost:8080/"
    },
    "id": "ADbYhUtOzkF4",
    "outputId": "7bcf8d35-0668-4fef-f001-1ade14391d83"
   },
   "outputs": [
    {
     "data": {
      "text/plain": [
       "3"
      ]
     },
     "execution_count": 102,
     "metadata": {
      "tags": []
     },
     "output_type": "execute_result"
    }
   ],
   "source": [
    "Chop.dogAge"
   ]
  },
  {
   "cell_type": "markdown",
   "metadata": {
    "id": "GQWmlgXpz38i"
   },
   "source": [
    "Узнать его полное имя"
   ]
  },
  {
   "cell_type": "code",
   "execution_count": null,
   "metadata": {
    "colab": {
     "base_uri": "https://localhost:8080/"
    },
    "id": "5L6SF03Dz3WY",
    "outputId": "b0d4bfb8-02fe-4d2e-c169-6b62f0ecae02"
   },
   "outputs": [
    {
     "data": {
      "text/plain": [
       "\"Chop\""
      ]
     },
     "execution_count": 103,
     "metadata": {
      "tags": []
     },
     "output_type": "execute_result"
    }
   ],
   "source": [
    "Chop.dogName"
   ]
  },
  {
   "cell_type": "markdown",
   "metadata": {
    "id": "CNmimsTPz8EN"
   },
   "source": [
    "и посмотреть его подружек"
   ]
  },
  {
   "cell_type": "code",
   "execution_count": null,
   "metadata": {
    "colab": {
     "base_uri": "https://localhost:8080/"
    },
    "id": "CVyEv_SEz7gY",
    "outputId": "a40b146c-dd4c-4b1b-cea9-9aab24d19ca0"
   },
   "outputs": [
    {
     "data": {
      "text/plain": [
       "3-element Array{String,1}:\n",
       " \"Sara\"\n",
       " \"Ri\"\n",
       " \"Eric\""
      ]
     },
     "execution_count": 104,
     "metadata": {
      "tags": []
     },
     "output_type": "execute_result"
    }
   ],
   "source": [
    "Chop.dogGirlfriendsArray"
   ]
  },
  {
   "cell_type": "markdown",
   "metadata": {
    "id": "iEwNPs4S0BLi"
   },
   "source": [
    "А в финале посмотреть полную карточку собаки Chop"
   ]
  },
  {
   "cell_type": "code",
   "execution_count": null,
   "metadata": {
    "colab": {
     "base_uri": "https://localhost:8080/"
    },
    "id": "jlIr3-WXz_M9",
    "outputId": "95ed11cb-4d15-4b72-c85b-c33eb400f983"
   },
   "outputs": [
    {
     "data": {
      "text/plain": [
       "dog(3, \"Chop\", [\"Sara\", \"Ri\", \"Eric\"])"
      ]
     },
     "execution_count": 105,
     "metadata": {
      "tags": []
     },
     "output_type": "execute_result"
    }
   ],
   "source": [
    "Chop"
   ]
  },
  {
   "cell_type": "markdown",
   "metadata": {
    "id": "dcsJEchc0LqJ"
   },
   "source": [
    "Таким образом, создание собственных структур данных часто бывает удобно. Прикладной пример - создание карточки собаки для ветеринарной клиники."
   ]
  },
  {
   "cell_type": "code",
   "execution_count": null,
   "metadata": {
    "id": "_DSRl1uPLm3K"
   },
   "outputs": [],
   "source": []
  }
 ],
 "metadata": {
  "colab": {
   "collapsed_sections": [],
   "name": "Копия блокнота \"Julia - Домашнее задание.ipynb\"\"\"",
   "provenance": []
  },
  "kernelspec": {
   "display_name": "Julia",
   "language": "julia",
   "name": "julia"
  },
  "language_info": {
   "file_extension": ".jl",
   "mimetype": "application/julia",
   "name": "julia"
  }
 },
 "nbformat": 4,
 "nbformat_minor": 1
}
